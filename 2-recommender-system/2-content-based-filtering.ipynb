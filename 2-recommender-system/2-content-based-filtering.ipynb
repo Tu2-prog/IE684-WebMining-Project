{
 "cells": [
  {
   "cell_type": "markdown",
   "id": "a001a039",
   "metadata": {},
   "source": [
    "# Content-based Filtering"
   ]
  },
  {
   "cell_type": "code",
   "execution_count": null,
   "id": "a6de1de0",
   "metadata": {},
   "outputs": [
    {
     "name": "stdout",
     "output_type": "stream",
     "text": [
      "Note: you may need to restart the kernel to use updated packages.\n"
     ]
    },
    {
     "data": {
      "text/html": [
       "<div>\n",
       "<style scoped>\n",
       "    .dataframe tbody tr th:only-of-type {\n",
       "        vertical-align: middle;\n",
       "    }\n",
       "\n",
       "    .dataframe tbody tr th {\n",
       "        vertical-align: top;\n",
       "    }\n",
       "\n",
       "    .dataframe thead th {\n",
       "        text-align: right;\n",
       "    }\n",
       "</style>\n",
       "<table border=\"1\" class=\"dataframe\">\n",
       "  <thead>\n",
       "    <tr style=\"text-align: right;\">\n",
       "      <th></th>\n",
       "      <th>id</th>\n",
       "      <th>name</th>\n",
       "      <th>brewery_id</th>\n",
       "      <th>state</th>\n",
       "      <th>country</th>\n",
       "      <th>style</th>\n",
       "      <th>availability</th>\n",
       "      <th>abv</th>\n",
       "      <th>notes</th>\n",
       "      <th>retired</th>\n",
       "    </tr>\n",
       "  </thead>\n",
       "  <tbody>\n",
       "    <tr>\n",
       "      <th>0</th>\n",
       "      <td>202522</td>\n",
       "      <td>Olde Cogitator</td>\n",
       "      <td>2199</td>\n",
       "      <td>CA</td>\n",
       "      <td>US</td>\n",
       "      <td>English Oatmeal Stout</td>\n",
       "      <td>Rotating</td>\n",
       "      <td>7.3</td>\n",
       "      <td>No notes at this time.</td>\n",
       "      <td>f</td>\n",
       "    </tr>\n",
       "    <tr>\n",
       "      <th>1</th>\n",
       "      <td>82352</td>\n",
       "      <td>Konrads Stout Russian Imperial Stout</td>\n",
       "      <td>18604</td>\n",
       "      <td>NaN</td>\n",
       "      <td>NO</td>\n",
       "      <td>Russian Imperial Stout</td>\n",
       "      <td>Rotating</td>\n",
       "      <td>10.4</td>\n",
       "      <td>No notes at this time.</td>\n",
       "      <td>f</td>\n",
       "    </tr>\n",
       "    <tr>\n",
       "      <th>2</th>\n",
       "      <td>214879</td>\n",
       "      <td>Scottish Right</td>\n",
       "      <td>44306</td>\n",
       "      <td>IN</td>\n",
       "      <td>US</td>\n",
       "      <td>Scottish Ale</td>\n",
       "      <td>Year-round</td>\n",
       "      <td>4.0</td>\n",
       "      <td>No notes at this time.</td>\n",
       "      <td>t</td>\n",
       "    </tr>\n",
       "    <tr>\n",
       "      <th>3</th>\n",
       "      <td>320009</td>\n",
       "      <td>MegaMeow Imperial Stout</td>\n",
       "      <td>4378</td>\n",
       "      <td>WA</td>\n",
       "      <td>US</td>\n",
       "      <td>American Imperial Stout</td>\n",
       "      <td>Winter</td>\n",
       "      <td>8.7</td>\n",
       "      <td>Every time this year</td>\n",
       "      <td>f</td>\n",
       "    </tr>\n",
       "    <tr>\n",
       "      <th>4</th>\n",
       "      <td>246438</td>\n",
       "      <td>Peaches-N-Cream</td>\n",
       "      <td>44617</td>\n",
       "      <td>PA</td>\n",
       "      <td>US</td>\n",
       "      <td>American Cream Ale</td>\n",
       "      <td>Rotating</td>\n",
       "      <td>5.1</td>\n",
       "      <td>No notes at this time.</td>\n",
       "      <td>f</td>\n",
       "    </tr>\n",
       "  </tbody>\n",
       "</table>\n",
       "</div>"
      ],
      "text/plain": [
       "       id                                  name  brewery_id state country  \\\n",
       "0  202522                        Olde Cogitator        2199    CA      US   \n",
       "1   82352  Konrads Stout Russian Imperial Stout       18604   NaN      NO   \n",
       "2  214879                        Scottish Right       44306    IN      US   \n",
       "3  320009               MegaMeow Imperial Stout        4378    WA      US   \n",
       "4  246438                       Peaches-N-Cream       44617    PA      US   \n",
       "\n",
       "                     style availability   abv                   notes retired  \n",
       "0    English Oatmeal Stout     Rotating   7.3  No notes at this time.       f  \n",
       "1   Russian Imperial Stout     Rotating  10.4  No notes at this time.       f  \n",
       "2             Scottish Ale   Year-round   4.0  No notes at this time.       t  \n",
       "3  American Imperial Stout       Winter   8.7    Every time this year       f  \n",
       "4       American Cream Ale     Rotating   5.1  No notes at this time.       f  "
      ]
     },
     "execution_count": 9,
     "metadata": {},
     "output_type": "execute_result"
    }
   ],
   "source": [
    "%pip install pandas -q pandas\n",
    "\n",
    "import pandas as pd\n",
    "\n",
    "beers_df = pd.read_csv('D:/Master/FSS_25/Web_Mining/Project/beer_reviews/beers.csv')\n",
    "beers_df.head()"
   ]
  },
  {
   "cell_type": "code",
   "execution_count": 10,
   "id": "d0fb2b3d",
   "metadata": {},
   "outputs": [],
   "source": [
    "# Select useful columns\n",
    "useful_cols = ['id', 'style', 'availability', 'country', 'abv', 'retired']\n",
    "beers_df = beers_df[useful_cols]"
   ]
  },
  {
   "cell_type": "code",
   "execution_count": 11,
   "id": "400a9685",
   "metadata": {},
   "outputs": [],
   "source": [
    "# Drop missing values\n",
    "beers_df.dropna(subset=['style', 'availability', 'country', 'abv'], inplace=True)"
   ]
  },
  {
   "cell_type": "code",
   "execution_count": 12,
   "id": "820d438b",
   "metadata": {},
   "outputs": [],
   "source": [
    "# Filter out abnormal abv values (less than or equal to 0, or greater than 20)\n",
    "beers_df = beers_df[(beers_df['abv'] > 0) & (beers_df['abv'] < 20)]"
   ]
  },
  {
   "cell_type": "code",
   "execution_count": 13,
   "id": "8700c305",
   "metadata": {},
   "outputs": [],
   "source": [
    "# Drop duplicate beer IDs (keep the first one)\n",
    "beers_df.drop_duplicates(subset='id', inplace=True)"
   ]
  },
  {
   "cell_type": "code",
   "execution_count": 14,
   "id": "80dcc11d",
   "metadata": {},
   "outputs": [],
   "source": [
    "# Force data type conversions\n",
    "beers_df['abv'] = beers_df['abv'].astype(float)\n",
    "beers_df['retired'] = beers_df['retired'].astype(str)"
   ]
  },
  {
   "cell_type": "code",
   "execution_count": 15,
   "id": "7a49e837",
   "metadata": {},
   "outputs": [],
   "source": [
    "# Reset index\n",
    "beers_df.reset_index(drop=True, inplace=True)"
   ]
  },
  {
   "cell_type": "code",
   "execution_count": 19,
   "id": "087257ce",
   "metadata": {},
   "outputs": [
    {
     "name": "stdout",
     "output_type": "stream",
     "text": [
      "Stratified sampling completed! 5535 records retained.\n"
     ]
    },
    {
     "name": "stderr",
     "output_type": "stream",
     "text": [
      "C:\\Users\\97\\AppData\\Local\\Temp\\ipykernel_4928\\3672703020.py:4: DeprecationWarning: DataFrameGroupBy.apply operated on the grouping columns. This behavior is deprecated, and in a future version of pandas the grouping columns will be excluded from the operation. Either pass `include_groups=False` to exclude the groupings or explicitly select the grouping columns after groupby to silence this warning.\n",
      "  .apply(lambda x: x.sample(min(len(x), 50), random_state=42))\n"
     ]
    },
    {
     "data": {
      "text/html": [
       "<div>\n",
       "<style scoped>\n",
       "    .dataframe tbody tr th:only-of-type {\n",
       "        vertical-align: middle;\n",
       "    }\n",
       "\n",
       "    .dataframe tbody tr th {\n",
       "        vertical-align: top;\n",
       "    }\n",
       "\n",
       "    .dataframe thead th {\n",
       "        text-align: right;\n",
       "    }\n",
       "</style>\n",
       "<table border=\"1\" class=\"dataframe\">\n",
       "  <thead>\n",
       "    <tr style=\"text-align: right;\">\n",
       "      <th></th>\n",
       "      <th>id</th>\n",
       "      <th>style</th>\n",
       "      <th>availability</th>\n",
       "      <th>country</th>\n",
       "      <th>abv</th>\n",
       "      <th>retired</th>\n",
       "    </tr>\n",
       "  </thead>\n",
       "  <tbody>\n",
       "    <tr>\n",
       "      <th>0</th>\n",
       "      <td>8704</td>\n",
       "      <td>American Adjunct Lager</td>\n",
       "      <td>Year-round</td>\n",
       "      <td>CO</td>\n",
       "      <td>4.0</td>\n",
       "      <td>f</td>\n",
       "    </tr>\n",
       "    <tr>\n",
       "      <th>1</th>\n",
       "      <td>50819</td>\n",
       "      <td>American Adjunct Lager</td>\n",
       "      <td>Year-round</td>\n",
       "      <td>CA</td>\n",
       "      <td>5.0</td>\n",
       "      <td>f</td>\n",
       "    </tr>\n",
       "    <tr>\n",
       "      <th>2</th>\n",
       "      <td>3474</td>\n",
       "      <td>American Adjunct Lager</td>\n",
       "      <td>Year-round</td>\n",
       "      <td>US</td>\n",
       "      <td>5.9</td>\n",
       "      <td>f</td>\n",
       "    </tr>\n",
       "    <tr>\n",
       "      <th>3</th>\n",
       "      <td>26195</td>\n",
       "      <td>American Adjunct Lager</td>\n",
       "      <td>Year-round</td>\n",
       "      <td>SV</td>\n",
       "      <td>3.7</td>\n",
       "      <td>f</td>\n",
       "    </tr>\n",
       "    <tr>\n",
       "      <th>4</th>\n",
       "      <td>36940</td>\n",
       "      <td>American Adjunct Lager</td>\n",
       "      <td>Year-round</td>\n",
       "      <td>US</td>\n",
       "      <td>5.2</td>\n",
       "      <td>f</td>\n",
       "    </tr>\n",
       "  </tbody>\n",
       "</table>\n",
       "</div>"
      ],
      "text/plain": [
       "      id                   style availability country  abv retired\n",
       "0   8704  American Adjunct Lager   Year-round      CO  4.0       f\n",
       "1  50819  American Adjunct Lager   Year-round      CA  5.0       f\n",
       "2   3474  American Adjunct Lager   Year-round      US  5.9       f\n",
       "3  26195  American Adjunct Lager   Year-round      SV  3.7       f\n",
       "4  36940  American Adjunct Lager   Year-round      US  5.2       f"
      ]
     },
     "execution_count": 19,
     "metadata": {},
     "output_type": "execute_result"
    }
   ],
   "source": [
    "# Stratified sampling: sample up to 50 beers per style\n",
    "beers_df = (\n",
    "    beers_df.groupby('style', group_keys=False)\n",
    "    .apply(lambda x: x.sample(min(len(x), 50), random_state=42))\n",
    "    .reset_index(drop=True)\n",
    ")\n",
    "\n",
    "print(\"Stratified sampling completed! {} records retained.\".format(len(beers_df)))\n",
    "beers_df.head()"
   ]
  },
  {
   "cell_type": "code",
   "execution_count": 25,
   "id": "6ee741ff",
   "metadata": {},
   "outputs": [],
   "source": [
    "beers_df.to_csv('D:/Master/FSS_25/Web_Mining/Project/cleaned_beers.csv', index=False)"
   ]
  },
  {
   "cell_type": "markdown",
   "id": "1b977465",
   "metadata": {},
   "source": [
    "# Construct feature vectors for each beer"
   ]
  },
  {
   "cell_type": "code",
   "execution_count": 20,
   "id": "10fc55b1",
   "metadata": {},
   "outputs": [
    {
     "name": "stdout",
     "output_type": "stream",
     "text": [
      "Note: you may need to restart the kernel to use updated packages.\n"
     ]
    }
   ],
   "source": [
    "%pip install -q scikit-learn\n",
    "from sklearn.preprocessing import OneHotEncoder, MinMaxScaler\n",
    "import numpy as np\n",
    "\n",
    "# Define columns\n",
    "categorical_cols = ['style', 'availability', 'country', 'retired']\n",
    "numerical_cols = ['abv']\n",
    "\n",
    "# One-hot encode categorical features\n",
    "ohe = OneHotEncoder(sparse_output=False, handle_unknown='ignore')\n",
    "categorical_encoded = ohe.fit_transform(beers_df[categorical_cols])\n",
    "\n",
    "# Normalize numerical features\n",
    "scaler = MinMaxScaler()\n",
    "numerical_scaled = scaler.fit_transform(beers_df[numerical_cols])\n",
    "\n",
    "# Combine into final feature matrix\n",
    "beer_vectors = np.hstack((numerical_scaled, categorical_encoded))\n",
    "\n",
    "# Store beer ID for later reference\n",
    "beer_ids = beers_df['id'].values"
   ]
  },
  {
   "cell_type": "markdown",
   "id": "26af51ac",
   "metadata": {},
   "source": [
    "# Define the recommendation function"
   ]
  },
  {
   "cell_type": "code",
   "execution_count": 23,
   "id": "71d6b67e",
   "metadata": {},
   "outputs": [],
   "source": [
    "from sklearn.metrics.pairwise import cosine_similarity\n",
    "import pandas as pd\n",
    "\n",
    "# Create mapping from beer_id to its feature vector\n",
    "beer_id_to_vector = dict(zip(beer_ids, beer_vectors))\n",
    "\n",
    "# Recommendation function: return top-N similar beers\n",
    "def recommend_similar_beers(beer_id, top_n=5):\n",
    "    if beer_id not in beer_id_to_vector:\n",
    "        return f\"Beer ID {beer_id} not found.\"\n",
    "\n",
    "    target_vector = beer_id_to_vector[beer_id].reshape(1, -1)\n",
    "    similarities = cosine_similarity(target_vector, beer_vectors)[0]\n",
    "\n",
    "    sim_df = pd.DataFrame({\n",
    "        'beer_id': beer_ids,\n",
    "        'similarity': similarities\n",
    "    })\n",
    "\n",
    "    sim_df = sim_df[sim_df['beer_id'] != beer_id]\n",
    "    top_recs = sim_df.sort_values(by='similarity', ascending=False).head(top_n)\n",
    "\n",
    "    return beers_df[beers_df['id'].isin(top_recs['beer_id'].values)].merge(\n",
    "    top_recs.rename(columns={'beer_id': 'id'}), on='id'\n",
    ").sort_values(by='similarity', ascending=False)"
   ]
  },
  {
   "cell_type": "markdown",
   "id": "03bbc740",
   "metadata": {},
   "source": [
    "# Try a recommendation"
   ]
  },
  {
   "cell_type": "code",
   "execution_count": 24,
   "id": "d226d714",
   "metadata": {},
   "outputs": [
    {
     "name": "stdout",
     "output_type": "stream",
     "text": [
      "Recommendations for Beer ID: 8704\n"
     ]
    },
    {
     "data": {
      "text/html": [
       "<div>\n",
       "<style scoped>\n",
       "    .dataframe tbody tr th:only-of-type {\n",
       "        vertical-align: middle;\n",
       "    }\n",
       "\n",
       "    .dataframe tbody tr th {\n",
       "        vertical-align: top;\n",
       "    }\n",
       "\n",
       "    .dataframe thead th {\n",
       "        text-align: right;\n",
       "    }\n",
       "</style>\n",
       "<table border=\"1\" class=\"dataframe\">\n",
       "  <thead>\n",
       "    <tr style=\"text-align: right;\">\n",
       "      <th></th>\n",
       "      <th>id</th>\n",
       "      <th>style</th>\n",
       "      <th>availability</th>\n",
       "      <th>country</th>\n",
       "      <th>abv</th>\n",
       "      <th>retired</th>\n",
       "      <th>similarity</th>\n",
       "    </tr>\n",
       "  </thead>\n",
       "  <tbody>\n",
       "    <tr>\n",
       "      <th>1</th>\n",
       "      <td>36940</td>\n",
       "      <td>American Adjunct Lager</td>\n",
       "      <td>Year-round</td>\n",
       "      <td>US</td>\n",
       "      <td>5.2</td>\n",
       "      <td>f</td>\n",
       "      <td>0.753076</td>\n",
       "    </tr>\n",
       "    <tr>\n",
       "      <th>9</th>\n",
       "      <td>137557</td>\n",
       "      <td>American Adjunct Lager</td>\n",
       "      <td>Year-round</td>\n",
       "      <td>CA</td>\n",
       "      <td>5.5</td>\n",
       "      <td>f</td>\n",
       "      <td>0.753073</td>\n",
       "    </tr>\n",
       "    <tr>\n",
       "      <th>7</th>\n",
       "      <td>62084</td>\n",
       "      <td>American Adjunct Lager</td>\n",
       "      <td>Year-round</td>\n",
       "      <td>US</td>\n",
       "      <td>5.5</td>\n",
       "      <td>f</td>\n",
       "      <td>0.753073</td>\n",
       "    </tr>\n",
       "    <tr>\n",
       "      <th>0</th>\n",
       "      <td>50819</td>\n",
       "      <td>American Adjunct Lager</td>\n",
       "      <td>Year-round</td>\n",
       "      <td>CA</td>\n",
       "      <td>5.0</td>\n",
       "      <td>f</td>\n",
       "      <td>0.753054</td>\n",
       "    </tr>\n",
       "    <tr>\n",
       "      <th>2</th>\n",
       "      <td>30922</td>\n",
       "      <td>American Adjunct Lager</td>\n",
       "      <td>Year-round</td>\n",
       "      <td>CA</td>\n",
       "      <td>5.0</td>\n",
       "      <td>f</td>\n",
       "      <td>0.753054</td>\n",
       "    </tr>\n",
       "    <tr>\n",
       "      <th>6</th>\n",
       "      <td>2549</td>\n",
       "      <td>American Adjunct Lager</td>\n",
       "      <td>Year-round</td>\n",
       "      <td>CA</td>\n",
       "      <td>5.0</td>\n",
       "      <td>f</td>\n",
       "      <td>0.753054</td>\n",
       "    </tr>\n",
       "    <tr>\n",
       "      <th>8</th>\n",
       "      <td>6239</td>\n",
       "      <td>American Adjunct Lager</td>\n",
       "      <td>Year-round</td>\n",
       "      <td>US</td>\n",
       "      <td>5.0</td>\n",
       "      <td>f</td>\n",
       "      <td>0.753054</td>\n",
       "    </tr>\n",
       "    <tr>\n",
       "      <th>5</th>\n",
       "      <td>261312</td>\n",
       "      <td>American Adjunct Lager</td>\n",
       "      <td>Year-round</td>\n",
       "      <td>CU</td>\n",
       "      <td>4.9</td>\n",
       "      <td>f</td>\n",
       "      <td>0.753035</td>\n",
       "    </tr>\n",
       "    <tr>\n",
       "      <th>3</th>\n",
       "      <td>90021</td>\n",
       "      <td>American Adjunct Lager</td>\n",
       "      <td>Year-round</td>\n",
       "      <td>CA</td>\n",
       "      <td>4.9</td>\n",
       "      <td>f</td>\n",
       "      <td>0.753035</td>\n",
       "    </tr>\n",
       "    <tr>\n",
       "      <th>4</th>\n",
       "      <td>1849</td>\n",
       "      <td>American Adjunct Lager</td>\n",
       "      <td>Year-round</td>\n",
       "      <td>CA</td>\n",
       "      <td>4.9</td>\n",
       "      <td>f</td>\n",
       "      <td>0.753035</td>\n",
       "    </tr>\n",
       "  </tbody>\n",
       "</table>\n",
       "</div>"
      ],
      "text/plain": [
       "       id                   style availability country  abv retired  \\\n",
       "1   36940  American Adjunct Lager   Year-round      US  5.2       f   \n",
       "9  137557  American Adjunct Lager   Year-round      CA  5.5       f   \n",
       "7   62084  American Adjunct Lager   Year-round      US  5.5       f   \n",
       "0   50819  American Adjunct Lager   Year-round      CA  5.0       f   \n",
       "2   30922  American Adjunct Lager   Year-round      CA  5.0       f   \n",
       "6    2549  American Adjunct Lager   Year-round      CA  5.0       f   \n",
       "8    6239  American Adjunct Lager   Year-round      US  5.0       f   \n",
       "5  261312  American Adjunct Lager   Year-round      CU  4.9       f   \n",
       "3   90021  American Adjunct Lager   Year-round      CA  4.9       f   \n",
       "4    1849  American Adjunct Lager   Year-round      CA  4.9       f   \n",
       "\n",
       "   similarity  \n",
       "1    0.753076  \n",
       "9    0.753073  \n",
       "7    0.753073  \n",
       "0    0.753054  \n",
       "2    0.753054  \n",
       "6    0.753054  \n",
       "8    0.753054  \n",
       "5    0.753035  \n",
       "3    0.753035  \n",
       "4    0.753035  "
      ]
     },
     "execution_count": 24,
     "metadata": {},
     "output_type": "execute_result"
    }
   ],
   "source": [
    "# Pick a beer to test\n",
    "sample_beer_id = beers_df.iloc[0]['id']\n",
    "print(\"Recommendations for Beer ID:\", sample_beer_id)\n",
    "\n",
    "# Get similar beers\n",
    "recommend_similar_beers(sample_beer_id, top_n=10)"
   ]
  },
  {
   "cell_type": "markdown",
   "id": "9fa96ade",
   "metadata": {},
   "source": [
    "# Top-N Style Consistency Scoring Function"
   ]
  },
  {
   "cell_type": "code",
   "execution_count": 33,
   "id": "08c77b18",
   "metadata": {},
   "outputs": [
    {
     "name": "stdout",
     "output_type": "stream",
     "text": [
      " Top-10 Style Consistency Score: 55.59%\n"
     ]
    }
   ],
   "source": [
    "from sklearn.metrics.pairwise import cosine_similarity\n",
    "import numpy as np\n",
    "\n",
    "def top_n_style_consistency(beer_vectors, beers_df, top_n=5):\n",
    "    # Compute similarity matrix\n",
    "    similarity_matrix = cosine_similarity(beer_vectors)\n",
    "    np.fill_diagonal(similarity_matrix, -1)  \n",
    "\n",
    "    # Count consistency\n",
    "    consistent_count = 0\n",
    "    total_count = 0\n",
    "\n",
    "    for i, row in beers_df.iterrows():\n",
    "        top_indices = similarity_matrix[i].argsort()[-top_n:] \n",
    "        ref_style = row['style']\n",
    "        top_styles = beers_df.iloc[top_indices]['style']\n",
    "        consistent_count += sum(top_styles == ref_style)\n",
    "        total_count += top_n\n",
    "\n",
    "    consistency = consistent_count / total_count\n",
    "    return consistency\n",
    "\n",
    "score = top_n_style_consistency(beer_vectors, beers_df, top_n=10)\n",
    "print(f\" Top-10 Style Consistency Score: {score:.2%}\")"
   ]
  },
  {
   "cell_type": "markdown",
   "id": "625664ed",
   "metadata": {},
   "source": [
    "# Beer Style Consistency Analysis by Style with Top-N Similarity"
   ]
  },
  {
   "cell_type": "code",
   "execution_count": null,
   "id": "cd4c7d0a",
   "metadata": {},
   "outputs": [
    {
     "name": "stdout",
     "output_type": "stream",
     "text": [
      "Requirement already satisfied: matplotlib in e:\\download\\miniconda\\miniconda\\lib\\site-packages (3.10.1)\n",
      "Requirement already satisfied: contourpy>=1.0.1 in e:\\download\\miniconda\\miniconda\\lib\\site-packages (from matplotlib) (1.3.2)\n",
      "Requirement already satisfied: cycler>=0.10 in e:\\download\\miniconda\\miniconda\\lib\\site-packages (from matplotlib) (0.12.1)\n",
      "Requirement already satisfied: fonttools>=4.22.0 in e:\\download\\miniconda\\miniconda\\lib\\site-packages (from matplotlib) (4.57.0)\n",
      "Requirement already satisfied: kiwisolver>=1.3.1 in e:\\download\\miniconda\\miniconda\\lib\\site-packages (from matplotlib) (1.4.8)\n",
      "Requirement already satisfied: numpy>=1.23 in e:\\download\\miniconda\\miniconda\\lib\\site-packages (from matplotlib) (2.2.5)\n",
      "Requirement already satisfied: packaging>=20.0 in e:\\download\\miniconda\\miniconda\\lib\\site-packages (from matplotlib) (24.1)\n",
      "Requirement already satisfied: pillow>=8 in e:\\download\\miniconda\\miniconda\\lib\\site-packages (from matplotlib) (11.2.1)\n",
      "Requirement already satisfied: pyparsing>=2.3.1 in e:\\download\\miniconda\\miniconda\\lib\\site-packages (from matplotlib) (3.2.3)\n",
      "Requirement already satisfied: python-dateutil>=2.7 in e:\\download\\miniconda\\miniconda\\lib\\site-packages (from matplotlib) (2.9.0.post0)\n",
      "Requirement already satisfied: six>=1.5 in e:\\download\\miniconda\\miniconda\\lib\\site-packages (from python-dateutil>=2.7->matplotlib) (1.17.0)\n",
      "Note: you may need to restart the kernel to use updated packages.\n"
     ]
    },
    {
     "data": {
      "image/png": "[encoded data removed]",
      "text/plain": [
       "<Figure size 1000x600 with 1 Axes>"
      ]
     },
     "metadata": {},
     "output_type": "display_data"
    }
   ],
   "source": [
    "%pip install matplotlib\n",
    "import matplotlib.pyplot as plt\n",
    "from sklearn.metrics.pairwise import cosine_similarity\n",
    "import numpy as np\n",
    "\n",
    "\n",
    "# Calculate top-N consistency score for each style\n",
    "def style_wise_consistency(beer_vectors, beers_df, top_n=5):\n",
    "    similarity_matrix = cosine_similarity(beer_vectors)\n",
    "    np.fill_diagonal(similarity_matrix, -1)\n",
    "\n",
    "    style_scores = {}\n",
    "\n",
    "    for style in beers_df['style'].unique():\n",
    "        style_indices = beers_df[beers_df['style'] == style].index\n",
    "        if len(style_indices) < 2:\n",
    "            continue  \n",
    "\n",
    "        total, correct = 0, 0\n",
    "        for idx in style_indices:\n",
    "            top_indices = similarity_matrix[idx].argsort()[-top_n:]\n",
    "            recommended_styles = beers_df.iloc[top_indices]['style']\n",
    "            correct += sum(recommended_styles == style)\n",
    "            total += top_n\n",
    "\n",
    "        style_scores[style] = correct / total if total > 0 else 0.0\n",
    "\n",
    "    return style_scores\n",
    "\n",
    "\n",
    "style_consistency_scores = style_wise_consistency(beer_vectors, beers_df, top_n=5)\n",
    "\n",
    "# Get the top 10 beer styles with highest consistency scores\n",
    "top_styles_10 = dict(sorted(style_consistency_scores.items(), key=lambda item: item[1], reverse=True)[:10])\n",
    "\n",
    "\n",
    "plt.figure(figsize=(10, 6))\n",
    "plt.barh(list(top_styles_10.keys())[::-1], list(top_styles_10.values())[::-1])\n",
    "plt.xlabel(\"Top-5 Style Consistency Score\")\n",
    "plt.title(\"Top 10 Beer Styles with Highest Consistency\")\n",
    "plt.xlim(0, 1)\n",
    "plt.grid(axis='x', linestyle='--', alpha=0.7)\n",
    "plt.tight_layout()\n",
    "plt.show()"
   ]
  }
 ],
 "metadata": {
  "kernelspec": {
   "display_name": "base",
   "language": "python",
   "name": "python3"
  },
  "language_info": {
   "codemirror_mode": {
    "name": "ipython",
    "version": 3
   },
   "file_extension": ".py",
   "mimetype": "text/x-python",
   "name": "python",
   "nbconvert_exporter": "python",
   "pygments_lexer": "ipython3",
   "version": "3.12.3"
  }
 },
 "nbformat": 4,
 "nbformat_minor": 5
}
