{
 "cells": [
  {
   "cell_type": "markdown",
   "id": "66bef1c26222fda6",
   "metadata": {},
   "source": [
    "# User-Based Collaborative Filtering"
   ]
  },
  {
   "cell_type": "code",
   "execution_count": 2,
   "id": "195abd285ecee6c6",
   "metadata": {
    "ExecuteTime": {
     "end_time": "2025-05-04T18:55:42.104156Z",
     "start_time": "2025-05-04T18:55:39.920238Z"
    }
   },
   "outputs": [],
   "source": [
    "!pip install -q -U scikit-surprise\n",
    "!pip install -q numpy==1.26.4"
   ]
  },
  {
   "cell_type": "code",
   "execution_count": 3,
   "id": "initial_id",
   "metadata": {
    "ExecuteTime": {
     "end_time": "2025-05-04T18:55:42.117730Z",
     "start_time": "2025-05-04T18:55:42.115667Z"
    }
   },
   "outputs": [],
   "source": [
    "import pandas as pd\n",
    "from surprise.model_selection import train_test_split\n",
    "import matplotlib.pyplot as plt\n",
    "from mpl_toolkits.axes_grid1 import Divider, Size"
   ]
  },
  {
   "cell_type": "markdown",
   "id": "98525b1932f57072",
   "metadata": {},
   "source": [
    "# Seeting the seed for reprodcuibility"
   ]
  },
  {
   "cell_type": "code",
   "execution_count": 5,
   "id": "2c78bf4c061dce4d",
   "metadata": {
    "ExecuteTime": {
     "end_time": "2025-05-04T18:55:42.177083Z",
     "start_time": "2025-05-04T18:55:42.174091Z"
    }
   },
   "outputs": [],
   "source": [
    "# we set a random seed here to make the results in this notebook reproducible\n",
    "import random\n",
    "import numpy as np\n",
    "\n",
    "my_seed = 0\n",
    "random.seed(my_seed)\n",
    "np.random.seed(my_seed)"
   ]
  },
  {
   "cell_type": "markdown",
   "id": "19dba2e0ce1981a7",
   "metadata": {},
   "source": [
    "# Reading data"
   ]
  },
  {
   "cell_type": "code",
   "execution_count": 7,
   "id": "f8126494ed2c32ba",
   "metadata": {
    "ExecuteTime": {
     "end_time": "2025-05-04T18:55:42.686320Z",
     "start_time": "2025-05-04T18:55:42.336519Z"
    }
   },
   "outputs": [
    {
     "data": {
      "text/html": [
       "<div>\n",
       "<style scoped>\n",
       "    .dataframe tbody tr th:only-of-type {\n",
       "        vertical-align: middle;\n",
       "    }\n",
       "\n",
       "    .dataframe tbody tr th {\n",
       "        vertical-align: top;\n",
       "    }\n",
       "\n",
       "    .dataframe thead th {\n",
       "        text-align: right;\n",
       "    }\n",
       "</style>\n",
       "<table border=\"1\" class=\"dataframe\">\n",
       "  <thead>\n",
       "    <tr style=\"text-align: right;\">\n",
       "      <th></th>\n",
       "      <th>beer_id</th>\n",
       "      <th>username</th>\n",
       "      <th>date</th>\n",
       "      <th>text</th>\n",
       "      <th>look</th>\n",
       "      <th>smell</th>\n",
       "      <th>taste</th>\n",
       "      <th>feel</th>\n",
       "      <th>overall</th>\n",
       "      <th>score</th>\n",
       "      <th>sentiment</th>\n",
       "      <th>has_look</th>\n",
       "      <th>has_smell</th>\n",
       "      <th>has_taste</th>\n",
       "      <th>has_feel</th>\n",
       "      <th>mentioned_aspects</th>\n",
       "      <th>score_bin</th>\n",
       "    </tr>\n",
       "  </thead>\n",
       "  <tbody>\n",
       "    <tr>\n",
       "      <th>0</th>\n",
       "      <td>21002</td>\n",
       "      <td>Damian</td>\n",
       "      <td>2006-11-25</td>\n",
       "      <td>drank on-tap city steam brewery, hartford, ct ...</td>\n",
       "      <td>4.5</td>\n",
       "      <td>4.5</td>\n",
       "      <td>4.5</td>\n",
       "      <td>5.0</td>\n",
       "      <td>5.0</td>\n",
       "      <td>4.65</td>\n",
       "      <td>positive</td>\n",
       "      <td>True</td>\n",
       "      <td>True</td>\n",
       "      <td>True</td>\n",
       "      <td>True</td>\n",
       "      <td>look, smell, taste, feel</td>\n",
       "      <td>[4.5, 5.0)</td>\n",
       "    </tr>\n",
       "    <tr>\n",
       "      <th>1</th>\n",
       "      <td>1371</td>\n",
       "      <td>hustlesworth</td>\n",
       "      <td>2007-09-27</td>\n",
       "      <td>a- clear golden yellow 3/4in foamy white head ...</td>\n",
       "      <td>2.5</td>\n",
       "      <td>2.0</td>\n",
       "      <td>2.5</td>\n",
       "      <td>2.5</td>\n",
       "      <td>4.0</td>\n",
       "      <td>2.68</td>\n",
       "      <td>neutral</td>\n",
       "      <td>True</td>\n",
       "      <td>True</td>\n",
       "      <td>True</td>\n",
       "      <td>True</td>\n",
       "      <td>look, smell, taste, feel</td>\n",
       "      <td>[2.5, 3.0)</td>\n",
       "    </tr>\n",
       "    <tr>\n",
       "      <th>2</th>\n",
       "      <td>1937</td>\n",
       "      <td>TheManiacalOne</td>\n",
       "      <td>2007-07-02</td>\n",
       "      <td>on-tap 6/30/07 racebook brewpub @ mohegan sun ...</td>\n",
       "      <td>3.0</td>\n",
       "      <td>3.0</td>\n",
       "      <td>3.0</td>\n",
       "      <td>3.0</td>\n",
       "      <td>3.0</td>\n",
       "      <td>3.00</td>\n",
       "      <td>neutral</td>\n",
       "      <td>True</td>\n",
       "      <td>True</td>\n",
       "      <td>True</td>\n",
       "      <td>True</td>\n",
       "      <td>look, smell, taste, feel</td>\n",
       "      <td>[3.0, 3.5)</td>\n",
       "    </tr>\n",
       "    <tr>\n",
       "      <th>3</th>\n",
       "      <td>1075</td>\n",
       "      <td>woodychandler</td>\n",
       "      <td>2011-08-18</td>\n",
       "      <td>purchased shiner family reunion 6-pack visitin...</td>\n",
       "      <td>3.0</td>\n",
       "      <td>3.0</td>\n",
       "      <td>1.0</td>\n",
       "      <td>2.0</td>\n",
       "      <td>2.5</td>\n",
       "      <td>2.00</td>\n",
       "      <td>negative</td>\n",
       "      <td>True</td>\n",
       "      <td>True</td>\n",
       "      <td>True</td>\n",
       "      <td>True</td>\n",
       "      <td>look, smell, taste, feel</td>\n",
       "      <td>[2.0, 2.5)</td>\n",
       "    </tr>\n",
       "    <tr>\n",
       "      <th>4</th>\n",
       "      <td>3982</td>\n",
       "      <td>brewandbbq</td>\n",
       "      <td>2012-10-30</td>\n",
       "      <td>12oz bottle, batch #5. pours chestnut brown ru...</td>\n",
       "      <td>3.5</td>\n",
       "      <td>4.0</td>\n",
       "      <td>4.0</td>\n",
       "      <td>4.0</td>\n",
       "      <td>4.0</td>\n",
       "      <td>3.97</td>\n",
       "      <td>neutral</td>\n",
       "      <td>True</td>\n",
       "      <td>True</td>\n",
       "      <td>True</td>\n",
       "      <td>True</td>\n",
       "      <td>look, smell, taste, feel</td>\n",
       "      <td>[3.5, 4.0)</td>\n",
       "    </tr>\n",
       "  </tbody>\n",
       "</table>\n",
       "</div>"
      ],
      "text/plain": [
       "   beer_id        username        date  \\\n",
       "0    21002          Damian  2006-11-25   \n",
       "1     1371    hustlesworth  2007-09-27   \n",
       "2     1937  TheManiacalOne  2007-07-02   \n",
       "3     1075   woodychandler  2011-08-18   \n",
       "4     3982      brewandbbq  2012-10-30   \n",
       "\n",
       "                                                text  look  smell  taste  \\\n",
       "0  drank on-tap city steam brewery, hartford, ct ...   4.5    4.5    4.5   \n",
       "1  a- clear golden yellow 3/4in foamy white head ...   2.5    2.0    2.5   \n",
       "2  on-tap 6/30/07 racebook brewpub @ mohegan sun ...   3.0    3.0    3.0   \n",
       "3  purchased shiner family reunion 6-pack visitin...   3.0    3.0    1.0   \n",
       "4  12oz bottle, batch #5. pours chestnut brown ru...   3.5    4.0    4.0   \n",
       "\n",
       "   feel  overall  score sentiment  has_look  has_smell  has_taste  has_feel  \\\n",
       "0   5.0      5.0   4.65  positive      True       True       True      True   \n",
       "1   2.5      4.0   2.68   neutral      True       True       True      True   \n",
       "2   3.0      3.0   3.00   neutral      True       True       True      True   \n",
       "3   2.0      2.5   2.00  negative      True       True       True      True   \n",
       "4   4.0      4.0   3.97   neutral      True       True       True      True   \n",
       "\n",
       "          mentioned_aspects   score_bin  \n",
       "0  look, smell, taste, feel  [4.5, 5.0)  \n",
       "1  look, smell, taste, feel  [2.5, 3.0)  \n",
       "2  look, smell, taste, feel  [3.0, 3.5)  \n",
       "3  look, smell, taste, feel  [2.0, 2.5)  \n",
       "4  look, smell, taste, feel  [3.5, 4.0)  "
      ]
     },
     "execution_count": 7,
     "metadata": {},
     "output_type": "execute_result"
    }
   ],
   "source": [
    "df_train = pd.read_csv('../Data/train_preprocessed_binned.csv')\n",
    "df_train.head()"
   ]
  },
  {
   "cell_type": "code",
   "execution_count": 8,
   "id": "ac1fe676-c77b-468d-95e6-bfdaf7b88102",
   "metadata": {},
   "outputs": [
    {
     "data": {
      "text/html": [
       "<div>\n",
       "<style scoped>\n",
       "    .dataframe tbody tr th:only-of-type {\n",
       "        vertical-align: middle;\n",
       "    }\n",
       "\n",
       "    .dataframe tbody tr th {\n",
       "        vertical-align: top;\n",
       "    }\n",
       "\n",
       "    .dataframe thead th {\n",
       "        text-align: right;\n",
       "    }\n",
       "</style>\n",
       "<table border=\"1\" class=\"dataframe\">\n",
       "  <thead>\n",
       "    <tr style=\"text-align: right;\">\n",
       "      <th></th>\n",
       "      <th>beer_id</th>\n",
       "      <th>username</th>\n",
       "      <th>date</th>\n",
       "      <th>text</th>\n",
       "      <th>look</th>\n",
       "      <th>smell</th>\n",
       "      <th>taste</th>\n",
       "      <th>feel</th>\n",
       "      <th>overall</th>\n",
       "      <th>score</th>\n",
       "      <th>sentiment</th>\n",
       "      <th>has_look</th>\n",
       "      <th>has_smell</th>\n",
       "      <th>has_taste</th>\n",
       "      <th>has_feel</th>\n",
       "      <th>mentioned_aspects</th>\n",
       "      <th>score_bin</th>\n",
       "    </tr>\n",
       "  </thead>\n",
       "  <tbody>\n",
       "    <tr>\n",
       "      <th>0</th>\n",
       "      <td>55099</td>\n",
       "      <td>Transatlantic</td>\n",
       "      <td>2010-10-07</td>\n",
       "      <td>poured on-tap local english pub. - nice amber ...</td>\n",
       "      <td>4.5</td>\n",
       "      <td>2.50</td>\n",
       "      <td>3.0</td>\n",
       "      <td>3.0</td>\n",
       "      <td>3.0</td>\n",
       "      <td>2.97</td>\n",
       "      <td>neutral</td>\n",
       "      <td>True</td>\n",
       "      <td>True</td>\n",
       "      <td>True</td>\n",
       "      <td>True</td>\n",
       "      <td>look, smell, taste, feel</td>\n",
       "      <td>[2.5, 3.0)</td>\n",
       "    </tr>\n",
       "    <tr>\n",
       "      <th>1</th>\n",
       "      <td>74579</td>\n",
       "      <td>DarthKostrizer</td>\n",
       "      <td>2011-11-23</td>\n",
       "      <td>look: dark brown color quite black 1 inch head...</td>\n",
       "      <td>4.5</td>\n",
       "      <td>2.50</td>\n",
       "      <td>2.0</td>\n",
       "      <td>4.5</td>\n",
       "      <td>3.0</td>\n",
       "      <td>2.72</td>\n",
       "      <td>neutral</td>\n",
       "      <td>True</td>\n",
       "      <td>True</td>\n",
       "      <td>True</td>\n",
       "      <td>True</td>\n",
       "      <td>look, smell, taste, feel</td>\n",
       "      <td>[2.5, 3.0)</td>\n",
       "    </tr>\n",
       "    <tr>\n",
       "      <th>2</th>\n",
       "      <td>91220</td>\n",
       "      <td>Maho</td>\n",
       "      <td>2013-08-11</td>\n",
       "      <td>- poured 12 oz tulip glass. pours copper/amber...</td>\n",
       "      <td>3.5</td>\n",
       "      <td>3.25</td>\n",
       "      <td>3.5</td>\n",
       "      <td>3.0</td>\n",
       "      <td>3.5</td>\n",
       "      <td>3.39</td>\n",
       "      <td>neutral</td>\n",
       "      <td>True</td>\n",
       "      <td>True</td>\n",
       "      <td>True</td>\n",
       "      <td>True</td>\n",
       "      <td>look, smell, taste, feel</td>\n",
       "      <td>[3.0, 3.5)</td>\n",
       "    </tr>\n",
       "    <tr>\n",
       "      <th>3</th>\n",
       "      <td>13896</td>\n",
       "      <td>schwansmantr</td>\n",
       "      <td>2015-10-12</td>\n",
       "      <td>i’ve trying several different oktoberfests lat...</td>\n",
       "      <td>5.0</td>\n",
       "      <td>5.00</td>\n",
       "      <td>1.0</td>\n",
       "      <td>1.0</td>\n",
       "      <td>1.0</td>\n",
       "      <td>2.20</td>\n",
       "      <td>neutral</td>\n",
       "      <td>True</td>\n",
       "      <td>True</td>\n",
       "      <td>True</td>\n",
       "      <td>True</td>\n",
       "      <td>look, smell, taste, feel</td>\n",
       "      <td>[2.0, 2.5)</td>\n",
       "    </tr>\n",
       "    <tr>\n",
       "      <th>4</th>\n",
       "      <td>45308</td>\n",
       "      <td>Treath</td>\n",
       "      <td>2013-11-02</td>\n",
       "      <td>first time tasting beer. 12oz poured glass mug...</td>\n",
       "      <td>2.0</td>\n",
       "      <td>2.00</td>\n",
       "      <td>2.0</td>\n",
       "      <td>2.0</td>\n",
       "      <td>2.0</td>\n",
       "      <td>2.00</td>\n",
       "      <td>negative</td>\n",
       "      <td>True</td>\n",
       "      <td>True</td>\n",
       "      <td>True</td>\n",
       "      <td>True</td>\n",
       "      <td>look, smell, taste, feel</td>\n",
       "      <td>[2.0, 2.5)</td>\n",
       "    </tr>\n",
       "  </tbody>\n",
       "</table>\n",
       "</div>"
      ],
      "text/plain": [
       "   beer_id        username        date  \\\n",
       "0    55099   Transatlantic  2010-10-07   \n",
       "1    74579  DarthKostrizer  2011-11-23   \n",
       "2    91220            Maho  2013-08-11   \n",
       "3    13896    schwansmantr  2015-10-12   \n",
       "4    45308          Treath  2013-11-02   \n",
       "\n",
       "                                                text  look  smell  taste  \\\n",
       "0  poured on-tap local english pub. - nice amber ...   4.5   2.50    3.0   \n",
       "1  look: dark brown color quite black 1 inch head...   4.5   2.50    2.0   \n",
       "2  - poured 12 oz tulip glass. pours copper/amber...   3.5   3.25    3.5   \n",
       "3  i’ve trying several different oktoberfests lat...   5.0   5.00    1.0   \n",
       "4  first time tasting beer. 12oz poured glass mug...   2.0   2.00    2.0   \n",
       "\n",
       "   feel  overall  score sentiment  has_look  has_smell  has_taste  has_feel  \\\n",
       "0   3.0      3.0   2.97   neutral      True       True       True      True   \n",
       "1   4.5      3.0   2.72   neutral      True       True       True      True   \n",
       "2   3.0      3.5   3.39   neutral      True       True       True      True   \n",
       "3   1.0      1.0   2.20   neutral      True       True       True      True   \n",
       "4   2.0      2.0   2.00  negative      True       True       True      True   \n",
       "\n",
       "          mentioned_aspects   score_bin  \n",
       "0  look, smell, taste, feel  [2.5, 3.0)  \n",
       "1  look, smell, taste, feel  [2.5, 3.0)  \n",
       "2  look, smell, taste, feel  [3.0, 3.5)  \n",
       "3  look, smell, taste, feel  [2.0, 2.5)  \n",
       "4  look, smell, taste, feel  [2.0, 2.5)  "
      ]
     },
     "execution_count": 8,
     "metadata": {},
     "output_type": "execute_result"
    }
   ],
   "source": [
    "df_test = pd.read_csv('../Data/test_preprocessed_binned.csv')\n",
    "df_test.head()"
   ]
  },
  {
   "cell_type": "code",
   "execution_count": 9,
   "id": "4dbdc17d9433df40",
   "metadata": {
    "ExecuteTime": {
     "end_time": "2025-05-04T18:55:42.743158Z",
     "start_time": "2025-05-04T18:55:42.739947Z"
    }
   },
   "outputs": [
    {
     "data": {
      "text/html": [
       "<div>\n",
       "<style scoped>\n",
       "    .dataframe tbody tr th:only-of-type {\n",
       "        vertical-align: middle;\n",
       "    }\n",
       "\n",
       "    .dataframe tbody tr th {\n",
       "        vertical-align: top;\n",
       "    }\n",
       "\n",
       "    .dataframe thead th {\n",
       "        text-align: right;\n",
       "    }\n",
       "</style>\n",
       "<table border=\"1\" class=\"dataframe\">\n",
       "  <thead>\n",
       "    <tr style=\"text-align: right;\">\n",
       "      <th></th>\n",
       "      <th>beer_id</th>\n",
       "      <th>username</th>\n",
       "      <th>score</th>\n",
       "    </tr>\n",
       "  </thead>\n",
       "  <tbody>\n",
       "    <tr>\n",
       "      <th>0</th>\n",
       "      <td>21002</td>\n",
       "      <td>Damian</td>\n",
       "      <td>4.65</td>\n",
       "    </tr>\n",
       "    <tr>\n",
       "      <th>1</th>\n",
       "      <td>1371</td>\n",
       "      <td>hustlesworth</td>\n",
       "      <td>2.68</td>\n",
       "    </tr>\n",
       "    <tr>\n",
       "      <th>2</th>\n",
       "      <td>1937</td>\n",
       "      <td>TheManiacalOne</td>\n",
       "      <td>3.00</td>\n",
       "    </tr>\n",
       "    <tr>\n",
       "      <th>3</th>\n",
       "      <td>1075</td>\n",
       "      <td>woodychandler</td>\n",
       "      <td>2.00</td>\n",
       "    </tr>\n",
       "    <tr>\n",
       "      <th>4</th>\n",
       "      <td>3982</td>\n",
       "      <td>brewandbbq</td>\n",
       "      <td>3.97</td>\n",
       "    </tr>\n",
       "  </tbody>\n",
       "</table>\n",
       "</div>"
      ],
      "text/plain": [
       "   beer_id        username  score\n",
       "0    21002          Damian   4.65\n",
       "1     1371    hustlesworth   2.68\n",
       "2     1937  TheManiacalOne   3.00\n",
       "3     1075   woodychandler   2.00\n",
       "4     3982      brewandbbq   3.97"
      ]
     },
     "execution_count": 9,
     "metadata": {},
     "output_type": "execute_result"
    }
   ],
   "source": [
    "df_train = df_train[['beer_id', 'username', 'score']]\n",
    "df_train.head()"
   ]
  },
  {
   "cell_type": "code",
   "execution_count": 10,
   "id": "5cd5c581-9872-4e09-bb9c-6fdda74f58c8",
   "metadata": {},
   "outputs": [
    {
     "data": {
      "text/html": [
       "<div>\n",
       "<style scoped>\n",
       "    .dataframe tbody tr th:only-of-type {\n",
       "        vertical-align: middle;\n",
       "    }\n",
       "\n",
       "    .dataframe tbody tr th {\n",
       "        vertical-align: top;\n",
       "    }\n",
       "\n",
       "    .dataframe thead th {\n",
       "        text-align: right;\n",
       "    }\n",
       "</style>\n",
       "<table border=\"1\" class=\"dataframe\">\n",
       "  <thead>\n",
       "    <tr style=\"text-align: right;\">\n",
       "      <th></th>\n",
       "      <th>beer_id</th>\n",
       "      <th>username</th>\n",
       "      <th>score</th>\n",
       "    </tr>\n",
       "  </thead>\n",
       "  <tbody>\n",
       "    <tr>\n",
       "      <th>0</th>\n",
       "      <td>55099</td>\n",
       "      <td>Transatlantic</td>\n",
       "      <td>2.97</td>\n",
       "    </tr>\n",
       "    <tr>\n",
       "      <th>1</th>\n",
       "      <td>74579</td>\n",
       "      <td>DarthKostrizer</td>\n",
       "      <td>2.72</td>\n",
       "    </tr>\n",
       "    <tr>\n",
       "      <th>2</th>\n",
       "      <td>91220</td>\n",
       "      <td>Maho</td>\n",
       "      <td>3.39</td>\n",
       "    </tr>\n",
       "    <tr>\n",
       "      <th>3</th>\n",
       "      <td>13896</td>\n",
       "      <td>schwansmantr</td>\n",
       "      <td>2.20</td>\n",
       "    </tr>\n",
       "    <tr>\n",
       "      <th>4</th>\n",
       "      <td>45308</td>\n",
       "      <td>Treath</td>\n",
       "      <td>2.00</td>\n",
       "    </tr>\n",
       "  </tbody>\n",
       "</table>\n",
       "</div>"
      ],
      "text/plain": [
       "   beer_id        username  score\n",
       "0    55099   Transatlantic   2.97\n",
       "1    74579  DarthKostrizer   2.72\n",
       "2    91220            Maho   3.39\n",
       "3    13896    schwansmantr   2.20\n",
       "4    45308          Treath   2.00"
      ]
     },
     "execution_count": 10,
     "metadata": {},
     "output_type": "execute_result"
    }
   ],
   "source": [
    "df_test = df_test[['beer_id', 'username', 'score']]\n",
    "df_test.head()"
   ]
  },
  {
   "cell_type": "markdown",
   "id": "a46a60014a5b6090",
   "metadata": {},
   "source": [
    "# Training "
   ]
  },
  {
   "cell_type": "code",
   "execution_count": 12,
   "id": "225aeb24d1cd9343",
   "metadata": {
    "ExecuteTime": {
     "end_time": "2025-05-04T18:55:43.124838Z",
     "start_time": "2025-05-04T18:55:43.103338Z"
    }
   },
   "outputs": [],
   "source": [
    "from surprise import Reader, Dataset, KNNBasic\n",
    "reader = Reader(rating_scale=(0, 5))\n",
    "\n",
    "# Convert df_train into Surprise's internal training format\n",
    "data = Dataset.load_from_df(df_train[['username', 'beer_id', 'score']], reader)\n",
    "trainset = data.build_full_trainset()\n",
    "\n",
    "# Convert df_test into Surprise's expected testset format\n",
    "testset = list(df_test[['username', 'beer_id', 'score']].itertuples(index=False, name=None))"
   ]
  },
  {
   "cell_type": "code",
   "execution_count": 13,
   "id": "4262f6243cd12536",
   "metadata": {
    "ExecuteTime": {
     "end_time": "2025-05-04T18:55:43.240708Z",
     "start_time": "2025-05-04T18:55:43.238454Z"
    }
   },
   "outputs": [],
   "source": [
    "sim_options = {'name': 'pearson', 'user_based': True, 'min_support': 1}"
   ]
  },
  {
   "cell_type": "code",
   "execution_count": 14,
   "id": "3daf44040bc014e1",
   "metadata": {
    "ExecuteTime": {
     "end_time": "2025-05-04T18:55:43.977817Z",
     "start_time": "2025-05-04T18:55:43.288924Z"
    }
   },
   "outputs": [
    {
     "name": "stdout",
     "output_type": "stream",
     "text": [
      "Computing the pearson similarity matrix...\n",
      "Done computing similarity matrix.\n"
     ]
    }
   ],
   "source": [
    "algo = KNNBasic(sim_options=sim_options)\n",
    "algo.fit(trainset)\n",
    "predictions = algo.test(testset)"
   ]
  },
  {
   "cell_type": "code",
   "execution_count": 15,
   "id": "ee0f7ceec109d849",
   "metadata": {
    "ExecuteTime": {
     "end_time": "2025-05-04T18:55:44.737183Z",
     "start_time": "2025-05-04T18:55:43.992597Z"
    }
   },
   "outputs": [
    {
     "name": "stdout",
     "output_type": "stream",
     "text": [
      "Computing the pearson similarity matrix...\n",
      "Done computing similarity matrix.\n"
     ]
    }
   ],
   "source": [
    "from surprise import KNNWithMeans\n",
    "algo2 = KNNWithMeans(sim_options=sim_options)\n",
    "algo2.fit(trainset)\n",
    "predictions2 = algo2.test(testset)"
   ]
  },
  {
   "cell_type": "code",
   "execution_count": 16,
   "id": "e2130dea6ba46f15",
   "metadata": {
    "ExecuteTime": {
     "end_time": "2025-05-04T18:55:45.549458Z",
     "start_time": "2025-05-04T18:55:44.753126Z"
    }
   },
   "outputs": [
    {
     "name": "stdout",
     "output_type": "stream",
     "text": [
      "Computing the pearson similarity matrix...\n",
      "Done computing similarity matrix.\n"
     ]
    }
   ],
   "source": [
    "from surprise import KNNWithZScore\n",
    "algo3 = KNNWithZScore(sim_options=sim_options)\n",
    "algo3.fit(trainset)\n",
    "predictions3 = algo3.test(testset)"
   ]
  },
  {
   "cell_type": "code",
   "execution_count": 17,
   "id": "6b8bc958977e493d",
   "metadata": {
    "ExecuteTime": {
     "end_time": "2025-05-04T18:55:46.570632Z",
     "start_time": "2025-05-04T18:55:45.562024Z"
    }
   },
   "outputs": [
    {
     "name": "stdout",
     "output_type": "stream",
     "text": [
      "Estimating biases using als...\n",
      "Computing the pearson similarity matrix...\n",
      "Done computing similarity matrix.\n"
     ]
    }
   ],
   "source": [
    "from surprise import KNNBaseline\n",
    "algo_baseline = KNNBaseline(sim_options=sim_options)\n",
    "algo_baseline.fit(trainset)\n",
    "predictions_baseline = algo_baseline.test(testset)"
   ]
  },
  {
   "cell_type": "markdown",
   "id": "49034bc67395a5d1",
   "metadata": {},
   "source": [
    "# Evaluation"
   ]
  },
  {
   "cell_type": "code",
   "execution_count": 19,
   "id": "bf4e6a80d108d638",
   "metadata": {
    "ExecuteTime": {
     "end_time": "2025-05-04T18:55:46.591056Z",
     "start_time": "2025-05-04T18:55:46.589251Z"
    }
   },
   "outputs": [],
   "source": [
    "metrics = ['RMSE', 'MAE', 'MSE']"
   ]
  },
  {
   "cell_type": "code",
   "execution_count": 20,
   "id": "fc4b3b4ea40a322",
   "metadata": {
    "ExecuteTime": {
     "end_time": "2025-05-04T18:55:46.645351Z",
     "start_time": "2025-05-04T18:55:46.643005Z"
    }
   },
   "outputs": [],
   "source": [
    "from surprise.accuracy import mse, rmse, mae\n",
    "# Compute MSE, RMSE and MAE on the test set predictions\n",
    "def evaluate_recommender(predictions):\n",
    "    mse_score = mse(predictions, verbose=False)\n",
    "    rmse_score = rmse(predictions, verbose=False)\n",
    "    mae_score = mae(predictions, verbose=False)\n",
    "    return rmse_score, mae_score, mse_score"
   ]
  },
  {
   "cell_type": "code",
   "execution_count": 21,
   "id": "79c6c9bc4a1d8b46",
   "metadata": {
    "ExecuteTime": {
     "end_time": "2025-05-04T18:55:46.695453Z",
     "start_time": "2025-05-04T18:55:46.692367Z"
    }
   },
   "outputs": [],
   "source": [
    "import matplotlib.pyplot as plt\n",
    "\n",
    "def plot_predictions(predictions, metrics, model_name=\"\"):\n",
    "    rmse_score, mse_score, mae_score = predictions\n",
    "    fig, ax = plt.subplots(figsize=(12, 6))  \n",
    "\n",
    "    # Add title with model name\n",
    "    ax.set_title(f\"Evaluation Metrics for {model_name}\", fontsize=14)\n",
    "\n",
    "    ax.set_ylabel(\"Score\")\n",
    "    ax.set_xlabel(\"Metric\")\n",
    "    ax.set_ylim(0, 5)\n",
    "    ax.set_xticks(range(len(metrics)))\n",
    "    ax.set_xticklabels(metrics)\n",
    "\n",
    "    # Draw bar chart\n",
    "    ax.bar(range(len(metrics)), [rmse_score, mae_score, mse_score], color=['blue', 'orange', 'green'])\n",
    "\n",
    "    # Add value labels\n",
    "    for i, value in enumerate([rmse_score, mse_score, mae_score]):\n",
    "        ax.text(i - 0.1, value + 0.02, str(round(value, 2)), color='black', fontweight='bold')\n",
    "\n",
    "    # Add horizontal gridlines\n",
    "    ax.grid(axis='y', linestyle='--', alpha=0.7)\n",
    "\n",
    "    plt.show()"
   ]
  },
  {
   "cell_type": "code",
   "execution_count": 23,
   "id": "2151bb24d18b202d",
   "metadata": {
    "ExecuteTime": {
     "end_time": "2025-05-04T18:55:46.946074Z",
     "start_time": "2025-05-04T18:55:46.797771Z"
    }
   },
   "outputs": [
    {
     "data": {
      "image/png": "[encoded data removed]",
      "text/plain": [
       "<Figure size 1200x600 with 1 Axes>"
      ]
     },
     "metadata": {},
     "output_type": "display_data"
    }
   ],
   "source": [
    "# Plot the metrics rmse, mse and mae\n",
    "results = evaluate_recommender(predictions)\n",
    "plot_predictions(results, metrics, model_name= \"KNNBasic\")"
   ]
  },
  {
   "cell_type": "code",
   "execution_count": 24,
   "id": "da9fe0b0ef1441f5",
   "metadata": {
    "ExecuteTime": {
     "end_time": "2025-05-04T18:55:47.086639Z",
     "start_time": "2025-05-04T18:55:46.960498Z"
    }
   },
   "outputs": [
    {
     "data": {
      "image/png": "[encoded data removed]",
      "text/plain": [
       "<Figure size 1200x600 with 1 Axes>"
      ]
     },
     "metadata": {},
     "output_type": "display_data"
    }
   ],
   "source": [
    "results2 = evaluate_recommender(predictions2)\n",
    "plot_predictions(results2, metrics, model_name= \"KNNWithMeans\")"
   ]
  },
  {
   "cell_type": "code",
   "execution_count": 25,
   "id": "3afba91b593419ff",
   "metadata": {
    "ExecuteTime": {
     "end_time": "2025-05-04T18:55:47.262312Z",
     "start_time": "2025-05-04T18:55:47.110734Z"
    }
   },
   "outputs": [
    {
     "data": {
      "image/png": "[encoded data removed]",
      "text/plain": [
       "<Figure size 1200x600 with 1 Axes>"
      ]
     },
     "metadata": {},
     "output_type": "display_data"
    }
   ],
   "source": [
    "results3 = evaluate_recommender(predictions3)\n",
    "plot_predictions(results3, metrics, model_name= \"KNNWithZScore\")"
   ]
  },
  {
   "cell_type": "code",
   "execution_count": 26,
   "id": "a9819231922a1b59",
   "metadata": {
    "ExecuteTime": {
     "end_time": "2025-05-04T18:55:47.372157Z",
     "start_time": "2025-05-04T18:55:47.281849Z"
    }
   },
   "outputs": [
    {
     "data": {
      "image/png": "[encoded data removed]",
      "text/plain": [
       "<Figure size 1200x600 with 1 Axes>"
      ]
     },
     "metadata": {},
     "output_type": "display_data"
    }
   ],
   "source": [
    "results_baseline = evaluate_recommender(predictions_baseline)\n",
    "plot_predictions(results_baseline, metrics, model_name= \"KNNBaseline\")"
   ]
  },
  {
   "cell_type": "code",
   "execution_count": 52,
   "id": "d3a87160-3388-4829-9b8b-15a5aa9e9842",
   "metadata": {},
   "outputs": [
    {
     "data": {
      "image/png": "[encoded data removed]",
      "text/plain": [
       "<Figure size 1000x600 with 1 Axes>"
      ]
     },
     "metadata": {},
     "output_type": "display_data"
    }
   ],
   "source": [
    "import matplotlib.pyplot as plt\n",
    "import numpy as np\n",
    "\n",
    "# Define metric labels in correct order\n",
    "metrics = ['RMSE', 'MAE', 'MSE']\n",
    "\n",
    "# Evaluate all model predictions using updated order\n",
    "scores_basic = evaluate_recommender(predictions)               # KNNBasic\n",
    "scores_with_means = evaluate_recommender(predictions2)         # KNNWithMeans\n",
    "scores_zscore = evaluate_recommender(predictions3)             # KNNWithZScore\n",
    "scores_baseline = evaluate_recommender(predictions_baseline)   # KNNBaseline\n",
    "\n",
    "model_names = ['KNNBasic', 'KNNWithMeans', 'KNNWithZScore', 'KNNBaseline']\n",
    "all_scores = [scores_basic, scores_with_means, scores_zscore, scores_baseline]\n",
    "\n",
    "# Convert to numpy array for plotting\n",
    "score_matrix = np.array(all_scores)  # shape: (4 models, 3 metrics)\n",
    "bar_width = 0.2\n",
    "x = np.arange(len(metrics))\n",
    "\n",
    "# Plot grouped bar chart\n",
    "fig, ax = plt.subplots(figsize=(10, 6))\n",
    "for i, scores in enumerate(score_matrix):\n",
    "    ax.bar(x + i * bar_width, scores, width=bar_width, label=model_names[i])\n",
    "\n",
    "# Step 5: Customize chart\n",
    "ax.set_title(\"Comparison of Evaluation Metrics Across KNN Models\", fontsize=14)\n",
    "ax.set_xlabel(\"Metric\")\n",
    "ax.set_ylabel(\"Score\")\n",
    "ax.set_xticks(x + 1.5 * bar_width)\n",
    "ax.set_xticklabels(metrics)\n",
    "ax.set_ylim(0, 5)\n",
    "ax.legend()\n",
    "\n",
    "# Add value labels\n",
    "for i in range(len(model_names)):\n",
    "    for j in range(len(metrics)):\n",
    "        value = score_matrix[i][j]\n",
    "        ax.text(x[j] + i * bar_width, value + 0.02, f'{value:.2f}', ha='center', fontsize=8)\n",
    "\n",
    "ax.grid(axis='y', linestyle='--', alpha=0.7)\n",
    "plt.tight_layout()\n",
    "plt.show()\n"
   ]
  },
  {
   "cell_type": "markdown",
   "id": "8fa73420-6e0b-44c2-8f6a-cab4390ad4e9",
   "metadata": {},
   "source": [
    "# Evaluation Summary (Without Sentiment Score)\n",
    "\n",
    "### User-Based\n",
    "- **Best Model:** KNNBaseline  \n",
    "- **Metrics:** RMSE = 0.74, MAE = 0.59, MSE = 0.55"
   ]
  }
 ],
 "metadata": {
  "kernelspec": {
   "display_name": "Python 3 (ipykernel)",
   "language": "python",
   "name": "python3"
  },
  "language_info": {
   "codemirror_mode": {
    "name": "ipython",
    "version": 3
   },
   "file_extension": ".py",
   "mimetype": "text/x-python",
   "name": "python",
   "nbconvert_exporter": "python",
   "pygments_lexer": "ipython3",
   "version": "3.12.7"
  }
 },
 "nbformat": 4,
 "nbformat_minor": 5
}
