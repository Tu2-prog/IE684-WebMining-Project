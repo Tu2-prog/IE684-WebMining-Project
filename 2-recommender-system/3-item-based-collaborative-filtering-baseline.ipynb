{
 "cells": [
  {
   "cell_type": "markdown",
   "id": "66bef1c26222fda6",
   "metadata": {},
   "source": [
    "# Item-Based Collaborative Filtering"
   ]
  },
  {
   "cell_type": "code",
   "id": "195abd285ecee6c6",
   "metadata": {
    "ExecuteTime": {
     "end_time": "2025-05-16T20:42:20.238978Z",
     "start_time": "2025-05-16T20:42:18.162986Z"
    }
   },
   "source": [
    "!pip install -q -U scikit-surprise\n",
    "!pip install -q numpy==1.26.4"
   ],
   "outputs": [],
   "execution_count": 8
  },
  {
   "metadata": {
    "ExecuteTime": {
     "end_time": "2025-05-16T20:42:20.256085Z",
     "start_time": "2025-05-16T20:42:20.253964Z"
    }
   },
   "cell_type": "code",
   "source": [
    "import pandas as pd\n",
    "from surprise.model_selection import train_test_split\n",
    "import matplotlib.pyplot as plt\n",
    "from mpl_toolkits.axes_grid1 import Divider, Size"
   ],
   "id": "fc67e13eb3433912",
   "outputs": [],
   "execution_count": 9
  },
  {
   "metadata": {},
   "cell_type": "markdown",
   "source": "# Helper Functions",
   "id": "db51a0e7c7f110c6"
  },
  {
   "metadata": {
    "ExecuteTime": {
     "end_time": "2025-05-16T20:42:20.312142Z",
     "start_time": "2025-05-16T20:42:20.308890Z"
    }
   },
   "cell_type": "code",
   "source": [
    "from collections import defaultdict\n",
    "\n",
    "def get_top_k(predictions, k=10):\n",
    "    '''Return the top-K recommended items for each user from predictions.'''\n",
    "    top_k = defaultdict(list)\n",
    "    for uid, iid, true_r, est, _ in predictions:\n",
    "        top_k[uid].append((iid, est))\n",
    "\n",
    "    # Sort and pick top k\n",
    "    for uid, user_ratings in top_k.items():\n",
    "        user_ratings.sort(key=lambda x: x[1], reverse=True)\n",
    "        top_k[uid] = [iid for (iid, _) in user_ratings[:k]]\n",
    "\n",
    "    return top_k"
   ],
   "id": "3e06c64768680ef4",
   "outputs": [],
   "execution_count": 10
  },
  {
   "metadata": {
    "ExecuteTime": {
     "end_time": "2025-05-16T20:42:20.364097Z",
     "start_time": "2025-05-16T20:42:20.360216Z"
    }
   },
   "cell_type": "code",
   "source": [
    "def get_true_positives(testset, threshold=4.0):\n",
    "    '''Return items considered relevant per user from the testset.'''\n",
    "    relevant = defaultdict(set)\n",
    "    for uid, iid, true_r in testset:\n",
    "        if true_r >= threshold:\n",
    "            relevant[uid].add(iid)\n",
    "    return relevant"
   ],
   "id": "85f23cf574327fbc",
   "outputs": [],
   "execution_count": 11
  },
  {
   "metadata": {
    "ExecuteTime": {
     "end_time": "2025-05-16T20:42:20.414884Z",
     "start_time": "2025-05-16T20:42:20.410512Z"
    }
   },
   "cell_type": "code",
   "source": [
    "def precision_at_k(top_k_preds, relevant_items, k):\n",
    "    precisions = []\n",
    "    for uid in top_k_preds:\n",
    "        if uid in relevant_items:\n",
    "            hits = len(set(top_k_preds[uid]) & relevant_items[uid])\n",
    "            precisions.append(hits / k)\n",
    "\n",
    "    if len(precisions) == 0:\n",
    "        print(\"Warning: No overlap between predicted users and relevant users.\")\n",
    "        return 0.0\n",
    "\n",
    "    return sum(precisions) / len(precisions)\n",
    "\n",
    "def hit_rate_at_k(top_k_preds, relevant_items):\n",
    "    hits = 0\n",
    "    total = 0\n",
    "    for uid in relevant_items:\n",
    "        total += 1\n",
    "        if set(top_k_preds[uid]) & relevant_items[uid]:\n",
    "            hits += 1\n",
    "\n",
    "    if hits == 0:\n",
    "        print(\"Warning: No overlap between predicted users and relevant users.\")\n",
    "        return 0.0\n",
    "    return hits / total"
   ],
   "id": "e0ef26d67cb79a2a",
   "outputs": [],
   "execution_count": 12
  },
  {
   "metadata": {},
   "cell_type": "markdown",
   "source": "# Setting the seed for reprodcuibility",
   "id": "ce7e3221b0df6764"
  },
  {
   "metadata": {
    "ExecuteTime": {
     "end_time": "2025-05-16T20:42:20.465030Z",
     "start_time": "2025-05-16T20:42:20.462888Z"
    }
   },
   "cell_type": "code",
   "source": [
    "# we set a random seed here to make the results in this notebook reproducible\n",
    "import random\n",
    "import numpy as np\n",
    "\n",
    "my_seed = 0\n",
    "random.seed(my_seed)\n",
    "np.random.seed(my_seed)"
   ],
   "id": "dcfe2a429d5fea45",
   "outputs": [],
   "execution_count": 13
  },
  {
   "cell_type": "markdown",
   "id": "19dba2e0ce1981a7",
   "metadata": {},
   "source": [
    "# Reading data"
   ]
  },
  {
   "metadata": {
    "ExecuteTime": {
     "end_time": "2025-05-16T20:42:20.657104Z",
     "start_time": "2025-05-16T20:42:20.508685Z"
    }
   },
   "cell_type": "code",
   "source": [
    "df_train = pd.read_csv('../data/rec_train_preprocessed_binned.csv')\n",
    "df_train.head()"
   ],
   "id": "1bbdc834fc728844",
   "outputs": [
    {
     "data": {
      "text/plain": [
       "   beer_id      username        date  \\\n",
       "0    62040       GregSVT  2010-10-29   \n",
       "1   292393   NeroFiddled  2018-08-09   \n",
       "2    55291     matjack85  2011-07-06   \n",
       "3   223330  BlurryVisi0n  2016-07-21   \n",
       "4   222637   Brutaltruth  2018-09-18   \n",
       "\n",
       "                                                text  look  smell  taste  \\\n",
       "0  22oz bomber snifter a: pours murky amber nice ...  4.00   4.50   4.50   \n",
       "1  avery brewing co. \"bug zapper\" 12 fl. oz. can,...  4.25   4.00   4.25   \n",
       "2  found single, clear, 330ml bottle binny's stor...  2.00   2.00   2.00   \n",
       "3  served chalice glass bottle cerveceria esparte...  4.00   4.25   4.00   \n",
       "4  12 oz bottle snifter. decent bock pours nice c...  4.25   3.25   3.25   \n",
       "\n",
       "   feel  overall  score sentiment  has_look  has_smell  has_taste  has_feel  \\\n",
       "0  4.00     4.00   4.32  positive      True       True       True      True   \n",
       "1  4.25     4.00   4.14  positive      True       True       True      True   \n",
       "2  2.00     1.50   1.90  negative      True       True       True      True   \n",
       "3  4.50     4.00   4.11  positive      True       True       True      True   \n",
       "4  3.50     3.25   3.34   neutral      True       True       True      True   \n",
       "\n",
       "          mentioned_aspects   score_bin  \n",
       "0  look, smell, taste, feel  [4.0, 4.5)  \n",
       "1  look, smell, taste, feel  [4.0, 4.5)  \n",
       "2  look, smell, taste, feel  [1.5, 2.0)  \n",
       "3  look, smell, taste, feel  [4.0, 4.5)  \n",
       "4  look, smell, taste, feel  [3.0, 3.5)  "
      ],
      "text/html": [
       "<div>\n",
       "<style scoped>\n",
       "    .dataframe tbody tr th:only-of-type {\n",
       "        vertical-align: middle;\n",
       "    }\n",
       "\n",
       "    .dataframe tbody tr th {\n",
       "        vertical-align: top;\n",
       "    }\n",
       "\n",
       "    .dataframe thead th {\n",
       "        text-align: right;\n",
       "    }\n",
       "</style>\n",
       "<table border=\"1\" class=\"dataframe\">\n",
       "  <thead>\n",
       "    <tr style=\"text-align: right;\">\n",
       "      <th></th>\n",
       "      <th>beer_id</th>\n",
       "      <th>username</th>\n",
       "      <th>date</th>\n",
       "      <th>text</th>\n",
       "      <th>look</th>\n",
       "      <th>smell</th>\n",
       "      <th>taste</th>\n",
       "      <th>feel</th>\n",
       "      <th>overall</th>\n",
       "      <th>score</th>\n",
       "      <th>sentiment</th>\n",
       "      <th>has_look</th>\n",
       "      <th>has_smell</th>\n",
       "      <th>has_taste</th>\n",
       "      <th>has_feel</th>\n",
       "      <th>mentioned_aspects</th>\n",
       "      <th>score_bin</th>\n",
       "    </tr>\n",
       "  </thead>\n",
       "  <tbody>\n",
       "    <tr>\n",
       "      <th>0</th>\n",
       "      <td>62040</td>\n",
       "      <td>GregSVT</td>\n",
       "      <td>2010-10-29</td>\n",
       "      <td>22oz bomber snifter a: pours murky amber nice ...</td>\n",
       "      <td>4.00</td>\n",
       "      <td>4.50</td>\n",
       "      <td>4.50</td>\n",
       "      <td>4.00</td>\n",
       "      <td>4.00</td>\n",
       "      <td>4.32</td>\n",
       "      <td>positive</td>\n",
       "      <td>True</td>\n",
       "      <td>True</td>\n",
       "      <td>True</td>\n",
       "      <td>True</td>\n",
       "      <td>look, smell, taste, feel</td>\n",
       "      <td>[4.0, 4.5)</td>\n",
       "    </tr>\n",
       "    <tr>\n",
       "      <th>1</th>\n",
       "      <td>292393</td>\n",
       "      <td>NeroFiddled</td>\n",
       "      <td>2018-08-09</td>\n",
       "      <td>avery brewing co. \"bug zapper\" 12 fl. oz. can,...</td>\n",
       "      <td>4.25</td>\n",
       "      <td>4.00</td>\n",
       "      <td>4.25</td>\n",
       "      <td>4.25</td>\n",
       "      <td>4.00</td>\n",
       "      <td>4.14</td>\n",
       "      <td>positive</td>\n",
       "      <td>True</td>\n",
       "      <td>True</td>\n",
       "      <td>True</td>\n",
       "      <td>True</td>\n",
       "      <td>look, smell, taste, feel</td>\n",
       "      <td>[4.0, 4.5)</td>\n",
       "    </tr>\n",
       "    <tr>\n",
       "      <th>2</th>\n",
       "      <td>55291</td>\n",
       "      <td>matjack85</td>\n",
       "      <td>2011-07-06</td>\n",
       "      <td>found single, clear, 330ml bottle binny's stor...</td>\n",
       "      <td>2.00</td>\n",
       "      <td>2.00</td>\n",
       "      <td>2.00</td>\n",
       "      <td>2.00</td>\n",
       "      <td>1.50</td>\n",
       "      <td>1.90</td>\n",
       "      <td>negative</td>\n",
       "      <td>True</td>\n",
       "      <td>True</td>\n",
       "      <td>True</td>\n",
       "      <td>True</td>\n",
       "      <td>look, smell, taste, feel</td>\n",
       "      <td>[1.5, 2.0)</td>\n",
       "    </tr>\n",
       "    <tr>\n",
       "      <th>3</th>\n",
       "      <td>223330</td>\n",
       "      <td>BlurryVisi0n</td>\n",
       "      <td>2016-07-21</td>\n",
       "      <td>served chalice glass bottle cerveceria esparte...</td>\n",
       "      <td>4.00</td>\n",
       "      <td>4.25</td>\n",
       "      <td>4.00</td>\n",
       "      <td>4.50</td>\n",
       "      <td>4.00</td>\n",
       "      <td>4.11</td>\n",
       "      <td>positive</td>\n",
       "      <td>True</td>\n",
       "      <td>True</td>\n",
       "      <td>True</td>\n",
       "      <td>True</td>\n",
       "      <td>look, smell, taste, feel</td>\n",
       "      <td>[4.0, 4.5)</td>\n",
       "    </tr>\n",
       "    <tr>\n",
       "      <th>4</th>\n",
       "      <td>222637</td>\n",
       "      <td>Brutaltruth</td>\n",
       "      <td>2018-09-18</td>\n",
       "      <td>12 oz bottle snifter. decent bock pours nice c...</td>\n",
       "      <td>4.25</td>\n",
       "      <td>3.25</td>\n",
       "      <td>3.25</td>\n",
       "      <td>3.50</td>\n",
       "      <td>3.25</td>\n",
       "      <td>3.34</td>\n",
       "      <td>neutral</td>\n",
       "      <td>True</td>\n",
       "      <td>True</td>\n",
       "      <td>True</td>\n",
       "      <td>True</td>\n",
       "      <td>look, smell, taste, feel</td>\n",
       "      <td>[3.0, 3.5)</td>\n",
       "    </tr>\n",
       "  </tbody>\n",
       "</table>\n",
       "</div>"
      ]
     },
     "execution_count": 14,
     "metadata": {},
     "output_type": "execute_result"
    }
   ],
   "execution_count": 14
  },
  {
   "metadata": {
    "ExecuteTime": {
     "end_time": "2025-05-16T20:42:20.832201Z",
     "start_time": "2025-05-16T20:42:20.763572Z"
    }
   },
   "cell_type": "code",
   "source": [
    "df_test = pd.read_csv('../data/rec_test_preprocessed_binned.csv')\n",
    "df_test.head()"
   ],
   "id": "e69753e13c262702",
   "outputs": [
    {
     "data": {
      "text/plain": [
       "   beer_id    username        date  \\\n",
       "0     5728  jvgoor3786  2016-04-03   \n",
       "1    93470       Jeffo  2015-12-10   \n",
       "2     2415    wspscott  2010-07-08   \n",
       "3    17932  TobiasGoth  2011-09-06   \n",
       "4     4700    nlmartin  2006-04-24   \n",
       "\n",
       "                                                text  look  smell  taste  \\\n",
       "0  poured twist-top 12 ounce bottle julian date 1...   1.5    1.5    1.5   \n",
       "1  got one hopsolutely past summer. cheers! pint ...   3.0    4.0    3.5   \n",
       "2  12oz bottle sam adams glass (best aug 2010) ma...   4.0    2.0    2.0   \n",
       "3  appearance bartender pulls sparkling easter ye...   3.0    3.0    3.0   \n",
       "4  beer purchased jungle jims $1.69. beer poured ...   3.5    3.5    3.5   \n",
       "\n",
       "   feel  overall  score sentiment  has_look  has_smell  has_taste  has_feel  \\\n",
       "0   1.5      1.5   1.50  negative      True       True       True      True   \n",
       "1   3.5      3.5   3.59   neutral      True       True       True      True   \n",
       "2   3.0      2.0   2.22   neutral      True       True       True      True   \n",
       "3   3.5      3.5   3.15   neutral      True       True       True      True   \n",
       "4   3.5      4.0   3.60   neutral      True       True       True      True   \n",
       "\n",
       "          mentioned_aspects   score_bin  \n",
       "0  look, smell, taste, feel  [1.5, 2.0)  \n",
       "1  look, smell, taste, feel  [3.5, 4.0)  \n",
       "2  look, smell, taste, feel  [2.0, 2.5)  \n",
       "3  look, smell, taste, feel  [3.0, 3.5)  \n",
       "4  look, smell, taste, feel  [3.5, 4.0)  "
      ],
      "text/html": [
       "<div>\n",
       "<style scoped>\n",
       "    .dataframe tbody tr th:only-of-type {\n",
       "        vertical-align: middle;\n",
       "    }\n",
       "\n",
       "    .dataframe tbody tr th {\n",
       "        vertical-align: top;\n",
       "    }\n",
       "\n",
       "    .dataframe thead th {\n",
       "        text-align: right;\n",
       "    }\n",
       "</style>\n",
       "<table border=\"1\" class=\"dataframe\">\n",
       "  <thead>\n",
       "    <tr style=\"text-align: right;\">\n",
       "      <th></th>\n",
       "      <th>beer_id</th>\n",
       "      <th>username</th>\n",
       "      <th>date</th>\n",
       "      <th>text</th>\n",
       "      <th>look</th>\n",
       "      <th>smell</th>\n",
       "      <th>taste</th>\n",
       "      <th>feel</th>\n",
       "      <th>overall</th>\n",
       "      <th>score</th>\n",
       "      <th>sentiment</th>\n",
       "      <th>has_look</th>\n",
       "      <th>has_smell</th>\n",
       "      <th>has_taste</th>\n",
       "      <th>has_feel</th>\n",
       "      <th>mentioned_aspects</th>\n",
       "      <th>score_bin</th>\n",
       "    </tr>\n",
       "  </thead>\n",
       "  <tbody>\n",
       "    <tr>\n",
       "      <th>0</th>\n",
       "      <td>5728</td>\n",
       "      <td>jvgoor3786</td>\n",
       "      <td>2016-04-03</td>\n",
       "      <td>poured twist-top 12 ounce bottle julian date 1...</td>\n",
       "      <td>1.5</td>\n",
       "      <td>1.5</td>\n",
       "      <td>1.5</td>\n",
       "      <td>1.5</td>\n",
       "      <td>1.5</td>\n",
       "      <td>1.50</td>\n",
       "      <td>negative</td>\n",
       "      <td>True</td>\n",
       "      <td>True</td>\n",
       "      <td>True</td>\n",
       "      <td>True</td>\n",
       "      <td>look, smell, taste, feel</td>\n",
       "      <td>[1.5, 2.0)</td>\n",
       "    </tr>\n",
       "    <tr>\n",
       "      <th>1</th>\n",
       "      <td>93470</td>\n",
       "      <td>Jeffo</td>\n",
       "      <td>2015-12-10</td>\n",
       "      <td>got one hopsolutely past summer. cheers! pint ...</td>\n",
       "      <td>3.0</td>\n",
       "      <td>4.0</td>\n",
       "      <td>3.5</td>\n",
       "      <td>3.5</td>\n",
       "      <td>3.5</td>\n",
       "      <td>3.59</td>\n",
       "      <td>neutral</td>\n",
       "      <td>True</td>\n",
       "      <td>True</td>\n",
       "      <td>True</td>\n",
       "      <td>True</td>\n",
       "      <td>look, smell, taste, feel</td>\n",
       "      <td>[3.5, 4.0)</td>\n",
       "    </tr>\n",
       "    <tr>\n",
       "      <th>2</th>\n",
       "      <td>2415</td>\n",
       "      <td>wspscott</td>\n",
       "      <td>2010-07-08</td>\n",
       "      <td>12oz bottle sam adams glass (best aug 2010) ma...</td>\n",
       "      <td>4.0</td>\n",
       "      <td>2.0</td>\n",
       "      <td>2.0</td>\n",
       "      <td>3.0</td>\n",
       "      <td>2.0</td>\n",
       "      <td>2.22</td>\n",
       "      <td>neutral</td>\n",
       "      <td>True</td>\n",
       "      <td>True</td>\n",
       "      <td>True</td>\n",
       "      <td>True</td>\n",
       "      <td>look, smell, taste, feel</td>\n",
       "      <td>[2.0, 2.5)</td>\n",
       "    </tr>\n",
       "    <tr>\n",
       "      <th>3</th>\n",
       "      <td>17932</td>\n",
       "      <td>TobiasGoth</td>\n",
       "      <td>2011-09-06</td>\n",
       "      <td>appearance bartender pulls sparkling easter ye...</td>\n",
       "      <td>3.0</td>\n",
       "      <td>3.0</td>\n",
       "      <td>3.0</td>\n",
       "      <td>3.5</td>\n",
       "      <td>3.5</td>\n",
       "      <td>3.15</td>\n",
       "      <td>neutral</td>\n",
       "      <td>True</td>\n",
       "      <td>True</td>\n",
       "      <td>True</td>\n",
       "      <td>True</td>\n",
       "      <td>look, smell, taste, feel</td>\n",
       "      <td>[3.0, 3.5)</td>\n",
       "    </tr>\n",
       "    <tr>\n",
       "      <th>4</th>\n",
       "      <td>4700</td>\n",
       "      <td>nlmartin</td>\n",
       "      <td>2006-04-24</td>\n",
       "      <td>beer purchased jungle jims $1.69. beer poured ...</td>\n",
       "      <td>3.5</td>\n",
       "      <td>3.5</td>\n",
       "      <td>3.5</td>\n",
       "      <td>3.5</td>\n",
       "      <td>4.0</td>\n",
       "      <td>3.60</td>\n",
       "      <td>neutral</td>\n",
       "      <td>True</td>\n",
       "      <td>True</td>\n",
       "      <td>True</td>\n",
       "      <td>True</td>\n",
       "      <td>look, smell, taste, feel</td>\n",
       "      <td>[3.5, 4.0)</td>\n",
       "    </tr>\n",
       "  </tbody>\n",
       "</table>\n",
       "</div>"
      ]
     },
     "execution_count": 15,
     "metadata": {},
     "output_type": "execute_result"
    }
   ],
   "execution_count": 15
  },
  {
   "metadata": {
    "ExecuteTime": {
     "end_time": "2025-05-16T20:42:20.918378Z",
     "start_time": "2025-05-16T20:42:20.911376Z"
    }
   },
   "cell_type": "code",
   "source": [
    "df_train = df_train[['beer_id', 'username', 'score']]\n",
    "df_train.head()"
   ],
   "id": "eb6addb1c41df2af",
   "outputs": [
    {
     "data": {
      "text/plain": [
       "   beer_id      username  score\n",
       "0    62040       GregSVT   4.32\n",
       "1   292393   NeroFiddled   4.14\n",
       "2    55291     matjack85   1.90\n",
       "3   223330  BlurryVisi0n   4.11\n",
       "4   222637   Brutaltruth   3.34"
      ],
      "text/html": [
       "<div>\n",
       "<style scoped>\n",
       "    .dataframe tbody tr th:only-of-type {\n",
       "        vertical-align: middle;\n",
       "    }\n",
       "\n",
       "    .dataframe tbody tr th {\n",
       "        vertical-align: top;\n",
       "    }\n",
       "\n",
       "    .dataframe thead th {\n",
       "        text-align: right;\n",
       "    }\n",
       "</style>\n",
       "<table border=\"1\" class=\"dataframe\">\n",
       "  <thead>\n",
       "    <tr style=\"text-align: right;\">\n",
       "      <th></th>\n",
       "      <th>beer_id</th>\n",
       "      <th>username</th>\n",
       "      <th>score</th>\n",
       "    </tr>\n",
       "  </thead>\n",
       "  <tbody>\n",
       "    <tr>\n",
       "      <th>0</th>\n",
       "      <td>62040</td>\n",
       "      <td>GregSVT</td>\n",
       "      <td>4.32</td>\n",
       "    </tr>\n",
       "    <tr>\n",
       "      <th>1</th>\n",
       "      <td>292393</td>\n",
       "      <td>NeroFiddled</td>\n",
       "      <td>4.14</td>\n",
       "    </tr>\n",
       "    <tr>\n",
       "      <th>2</th>\n",
       "      <td>55291</td>\n",
       "      <td>matjack85</td>\n",
       "      <td>1.90</td>\n",
       "    </tr>\n",
       "    <tr>\n",
       "      <th>3</th>\n",
       "      <td>223330</td>\n",
       "      <td>BlurryVisi0n</td>\n",
       "      <td>4.11</td>\n",
       "    </tr>\n",
       "    <tr>\n",
       "      <th>4</th>\n",
       "      <td>222637</td>\n",
       "      <td>Brutaltruth</td>\n",
       "      <td>3.34</td>\n",
       "    </tr>\n",
       "  </tbody>\n",
       "</table>\n",
       "</div>"
      ]
     },
     "execution_count": 16,
     "metadata": {},
     "output_type": "execute_result"
    }
   ],
   "execution_count": 16
  },
  {
   "cell_type": "code",
   "id": "5cd5c581-9872-4e09-bb9c-6fdda74f58c8",
   "metadata": {
    "ExecuteTime": {
     "end_time": "2025-05-16T20:42:21.057736Z",
     "start_time": "2025-05-16T20:42:21.051972Z"
    }
   },
   "source": [
    "df_test = df_test[['beer_id', 'username', 'score']]\n",
    "df_test.head()"
   ],
   "outputs": [
    {
     "data": {
      "text/plain": [
       "   beer_id    username  score\n",
       "0     5728  jvgoor3786   1.50\n",
       "1    93470       Jeffo   3.59\n",
       "2     2415    wspscott   2.22\n",
       "3    17932  TobiasGoth   3.15\n",
       "4     4700    nlmartin   3.60"
      ],
      "text/html": [
       "<div>\n",
       "<style scoped>\n",
       "    .dataframe tbody tr th:only-of-type {\n",
       "        vertical-align: middle;\n",
       "    }\n",
       "\n",
       "    .dataframe tbody tr th {\n",
       "        vertical-align: top;\n",
       "    }\n",
       "\n",
       "    .dataframe thead th {\n",
       "        text-align: right;\n",
       "    }\n",
       "</style>\n",
       "<table border=\"1\" class=\"dataframe\">\n",
       "  <thead>\n",
       "    <tr style=\"text-align: right;\">\n",
       "      <th></th>\n",
       "      <th>beer_id</th>\n",
       "      <th>username</th>\n",
       "      <th>score</th>\n",
       "    </tr>\n",
       "  </thead>\n",
       "  <tbody>\n",
       "    <tr>\n",
       "      <th>0</th>\n",
       "      <td>5728</td>\n",
       "      <td>jvgoor3786</td>\n",
       "      <td>1.50</td>\n",
       "    </tr>\n",
       "    <tr>\n",
       "      <th>1</th>\n",
       "      <td>93470</td>\n",
       "      <td>Jeffo</td>\n",
       "      <td>3.59</td>\n",
       "    </tr>\n",
       "    <tr>\n",
       "      <th>2</th>\n",
       "      <td>2415</td>\n",
       "      <td>wspscott</td>\n",
       "      <td>2.22</td>\n",
       "    </tr>\n",
       "    <tr>\n",
       "      <th>3</th>\n",
       "      <td>17932</td>\n",
       "      <td>TobiasGoth</td>\n",
       "      <td>3.15</td>\n",
       "    </tr>\n",
       "    <tr>\n",
       "      <th>4</th>\n",
       "      <td>4700</td>\n",
       "      <td>nlmartin</td>\n",
       "      <td>3.60</td>\n",
       "    </tr>\n",
       "  </tbody>\n",
       "</table>\n",
       "</div>"
      ]
     },
     "execution_count": 17,
     "metadata": {},
     "output_type": "execute_result"
    }
   ],
   "execution_count": 17
  },
  {
   "cell_type": "markdown",
   "id": "a46a60014a5b6090",
   "metadata": {},
   "source": [
    "# Training "
   ]
  },
  {
   "cell_type": "code",
   "id": "225aeb24d1cd9343",
   "metadata": {
    "ExecuteTime": {
     "end_time": "2025-05-16T20:42:21.273640Z",
     "start_time": "2025-05-16T20:42:21.229169Z"
    }
   },
   "source": [
    "from surprise import Reader, Dataset, KNNBasic\n",
    "reader = Reader(rating_scale=(0, 5))\n",
    "\n",
    "# Convert df_train into Surprise's internal training format\n",
    "data = Dataset.load_from_df(df_train[['username', 'beer_id', 'score']], reader)\n",
    "trainset = data.build_full_trainset()\n",
    "\n",
    "# Convert df_test into Surprise's expected testset format\n",
    "testset = list(df_test[['username', 'beer_id', 'score']].itertuples(index=False, name=None))"
   ],
   "outputs": [],
   "execution_count": 18
  },
  {
   "cell_type": "code",
   "id": "4262f6243cd12536",
   "metadata": {
    "ExecuteTime": {
     "end_time": "2025-05-16T20:42:21.385631Z",
     "start_time": "2025-05-16T20:42:21.379713Z"
    }
   },
   "source": [
    "sim_options = {'name': 'cosine', 'user_based': False, 'min_support': 1}"
   ],
   "outputs": [],
   "execution_count": 19
  },
  {
   "cell_type": "code",
   "id": "3daf44040bc014e1",
   "metadata": {
    "ExecuteTime": {
     "end_time": "2025-05-16T20:42:24.776601Z",
     "start_time": "2025-05-16T20:42:21.470091Z"
    }
   },
   "source": [
    "algo = KNNBasic(sim_options=sim_options)\n",
    "algo.fit(trainset)\n",
    "predictions = algo.test(testset)"
   ],
   "outputs": [
    {
     "name": "stdout",
     "output_type": "stream",
     "text": [
      "Computing the cosine similarity matrix...\n",
      "Done computing similarity matrix.\n"
     ]
    }
   ],
   "execution_count": 20
  },
  {
   "cell_type": "code",
   "id": "ee0f7ceec109d849",
   "metadata": {
    "ExecuteTime": {
     "end_time": "2025-05-16T20:42:27.262844Z",
     "start_time": "2025-05-16T20:42:24.786218Z"
    }
   },
   "source": [
    "from surprise import KNNWithMeans\n",
    "algo2 = KNNWithMeans(sim_options=sim_options)\n",
    "algo2.fit(trainset)\n",
    "predictions2 = algo2.test(testset)"
   ],
   "outputs": [
    {
     "name": "stdout",
     "output_type": "stream",
     "text": [
      "Computing the cosine similarity matrix...\n",
      "Done computing similarity matrix.\n"
     ]
    }
   ],
   "execution_count": 21
  },
  {
   "cell_type": "code",
   "id": "e2130dea6ba46f15",
   "metadata": {
    "ExecuteTime": {
     "end_time": "2025-05-16T20:42:30.578880Z",
     "start_time": "2025-05-16T20:42:27.275133Z"
    }
   },
   "source": [
    "from surprise import KNNWithZScore\n",
    "algo3 = KNNWithZScore(sim_options=sim_options)\n",
    "algo3.fit(trainset)\n",
    "predictions3 = algo3.test(testset)"
   ],
   "outputs": [
    {
     "name": "stdout",
     "output_type": "stream",
     "text": [
      "Computing the cosine similarity matrix...\n",
      "Done computing similarity matrix.\n"
     ]
    }
   ],
   "execution_count": 22
  },
  {
   "cell_type": "code",
   "id": "6b8bc958977e493d",
   "metadata": {
    "ExecuteTime": {
     "end_time": "2025-05-16T20:42:33.097889Z",
     "start_time": "2025-05-16T20:42:30.692911Z"
    }
   },
   "source": [
    "from surprise import KNNBaseline\n",
    "algo_baseline = KNNBaseline(sim_options=sim_options)\n",
    "algo_baseline.fit(trainset)\n",
    "predictions_baseline = algo_baseline.test(testset)"
   ],
   "outputs": [
    {
     "name": "stdout",
     "output_type": "stream",
     "text": [
      "Estimating biases using als...\n",
      "Computing the cosine similarity matrix...\n",
      "Done computing similarity matrix.\n"
     ]
    }
   ],
   "execution_count": 23
  },
  {
   "cell_type": "markdown",
   "id": "49034bc67395a5d1",
   "metadata": {},
   "source": [
    "# Evaluation"
   ]
  },
  {
   "cell_type": "code",
   "id": "bf4e6a80d108d638",
   "metadata": {
    "ExecuteTime": {
     "end_time": "2025-05-16T20:42:33.121907Z",
     "start_time": "2025-05-16T20:42:33.119116Z"
    }
   },
   "source": [
    "metrics = ['RMSE', 'MAE', 'MSE']"
   ],
   "outputs": [],
   "execution_count": 24
  },
  {
   "cell_type": "code",
   "id": "fc4b3b4ea40a322",
   "metadata": {
    "ExecuteTime": {
     "end_time": "2025-05-16T20:42:33.177983Z",
     "start_time": "2025-05-16T20:42:33.174062Z"
    }
   },
   "source": [
    "from surprise.accuracy import mse, rmse, mae\n",
    "# Compute MSE, RMSE and MAE on the test set predictions\n",
    "def evaluate_recommender(predictions):\n",
    "    mse_score = mse(predictions, verbose=False)\n",
    "    rmse_score = rmse(predictions, verbose=False)\n",
    "    mae_score = mae(predictions, verbose=False)\n",
    "    return rmse_score, mae_score, mse_score"
   ],
   "outputs": [],
   "execution_count": 25
  },
  {
   "cell_type": "code",
   "id": "79c6c9bc4a1d8b46",
   "metadata": {
    "ExecuteTime": {
     "end_time": "2025-05-16T20:42:33.244175Z",
     "start_time": "2025-05-16T20:42:33.232120Z"
    }
   },
   "source": [
    "import matplotlib.pyplot as plt\n",
    "\n",
    "def plot_predictions(predictions, metrics, model_name=\"\"):\n",
    "    rmse_score, mse_score, mae_score = predictions\n",
    "    fig, ax = plt.subplots(figsize=(12, 6))  \n",
    "\n",
    "    # Add title with model name\n",
    "    ax.set_title(f\"Evaluation Metrics for {model_name}\", fontsize=14)\n",
    "\n",
    "    ax.set_ylabel(\"Score\")\n",
    "    ax.set_xlabel(\"Metric\")\n",
    "    ax.set_ylim(0, 5)\n",
    "    ax.set_xticks(range(len(metrics)))\n",
    "    ax.set_xticklabels(metrics)\n",
    "\n",
    "    # Draw bar chart\n",
    "    ax.bar(range(len(metrics)), [rmse_score, mae_score, mse_score], color=['blue', 'orange', 'green'])\n",
    "\n",
    "    # Add value labels\n",
    "    for i, value in enumerate([rmse_score, mse_score, mae_score]):\n",
    "        ax.text(i - 0.1, value + 0.02, str(round(value, 2)), color='black', fontweight='bold')\n",
    "\n",
    "    # Add horizontal gridlines\n",
    "    ax.grid(axis='y', linestyle='--', alpha=0.7)\n",
    "\n",
    "    plt.show()"
   ],
   "outputs": [],
   "execution_count": 26
  },
  {
   "cell_type": "code",
   "id": "2151bb24d18b202d",
   "metadata": {
    "ExecuteTime": {
     "end_time": "2025-05-16T20:42:33.534183Z",
     "start_time": "2025-05-16T20:42:33.295435Z"
    }
   },
   "source": [
    "# Plot the metrics rmse, mse and mae\n",
    "results = evaluate_recommender(predictions)\n",
    "plot_predictions(results, metrics, model_name= \"KNNBasic\")"
   ],
   "outputs": [
    {
     "data": {
      "text/plain": [
       "<Figure size 1200x600 with 1 Axes>"
      ],
      "image/png": "[encoded data removed]"
     },
     "metadata": {},
     "output_type": "display_data"
    }
   ],
   "execution_count": 27
  },
  {
   "cell_type": "code",
   "id": "da9fe0b0ef1441f5",
   "metadata": {
    "ExecuteTime": {
     "end_time": "2025-05-16T20:42:33.688872Z",
     "start_time": "2025-05-16T20:42:33.564512Z"
    }
   },
   "source": [
    "results2 = evaluate_recommender(predictions2)\n",
    "plot_predictions(results2, metrics, model_name= \"KNNWithMeans\")"
   ],
   "outputs": [
    {
     "data": {
      "text/plain": [
       "<Figure size 1200x600 with 1 Axes>"
      ],
      "image/png": "[encoded data removed]"
     },
     "metadata": {},
     "output_type": "display_data"
    }
   ],
   "execution_count": 28
  },
  {
   "cell_type": "code",
   "id": "3afba91b593419ff",
   "metadata": {
    "ExecuteTime": {
     "end_time": "2025-05-16T20:42:33.851939Z",
     "start_time": "2025-05-16T20:42:33.703569Z"
    }
   },
   "source": [
    "results3 = evaluate_recommender(predictions3)\n",
    "plot_predictions(results3, metrics, model_name= \"KNNWithZScore\")"
   ],
   "outputs": [
    {
     "data": {
      "text/plain": [
       "<Figure size 1200x600 with 1 Axes>"
      ],
      "image/png": "[encoded data removed]"
     },
     "metadata": {},
     "output_type": "display_data"
    }
   ],
   "execution_count": 29
  },
  {
   "cell_type": "code",
   "id": "a9819231922a1b59",
   "metadata": {
    "ExecuteTime": {
     "end_time": "2025-05-16T20:42:34.011163Z",
     "start_time": "2025-05-16T20:42:33.899458Z"
    }
   },
   "source": [
    "results_baseline = evaluate_recommender(predictions_baseline)\n",
    "plot_predictions(results_baseline, metrics, model_name= \"KNNBaseline\")"
   ],
   "outputs": [
    {
     "data": {
      "text/plain": [
       "<Figure size 1200x600 with 1 Axes>"
      ],
      "image/png": "[encoded data removed]"
     },
     "metadata": {},
     "output_type": "display_data"
    }
   ],
   "execution_count": 30
  },
  {
   "metadata": {
    "ExecuteTime": {
     "end_time": "2025-05-16T20:42:34.456089Z",
     "start_time": "2025-05-16T20:42:34.041690Z"
    }
   },
   "cell_type": "code",
   "source": [
    "import matplotlib.pyplot as plt\n",
    "import numpy as np\n",
    "\n",
    "# Define metric labels in correct order\n",
    "metrics = ['RMSE', 'MAE', 'MSE']\n",
    "\n",
    "# Evaluate all model predictions using updated order\n",
    "scores_basic = evaluate_recommender(predictions)               # KNNBasic\n",
    "scores_with_means = evaluate_recommender(predictions2)         # KNNWithMeans\n",
    "scores_zscore = evaluate_recommender(predictions3)             # KNNWithZScore\n",
    "scores_baseline = evaluate_recommender(predictions_baseline)   # KNNBaseline\n",
    "\n",
    "model_names = ['KNNBasic', 'KNNWithMeans', 'KNNWithZScore', 'KNNBaseline']\n",
    "all_scores = [scores_basic, scores_with_means, scores_zscore, scores_baseline]\n",
    "\n",
    "# Convert to numpy array for plotting\n",
    "score_matrix = np.array(all_scores)  # shape: (4 models, 3 metrics)\n",
    "bar_width = 0.2\n",
    "x = np.arange(len(metrics))\n",
    "\n",
    "# Plot grouped bar chart\n",
    "fig, ax = plt.subplots(figsize=(10, 6))\n",
    "for i, scores in enumerate(score_matrix):\n",
    "    ax.bar(x + i * bar_width, scores, width=bar_width, label=model_names[i])\n",
    "\n",
    "# Step 5: Customize chart\n",
    "ax.set_title(\"Comparison of Evaluation Metrics Across KNN Models\", fontsize=14)\n",
    "ax.set_xlabel(\"Metric\")\n",
    "ax.set_ylabel(\"Score\")\n",
    "ax.set_xticks(x + 1.5 * bar_width)\n",
    "ax.set_xticklabels(metrics)\n",
    "ax.set_ylim(0, 5)\n",
    "ax.legend()\n",
    "\n",
    "# Add value labels\n",
    "for i in range(len(model_names)):\n",
    "    for j in range(len(metrics)):\n",
    "        value = score_matrix[i][j]\n",
    "        ax.text(x[j] + i * bar_width, value + 0.02, f'{value:.2f}', ha='center', fontsize=8)\n",
    "\n",
    "ax.grid(axis='y', linestyle='--', alpha=0.7)\n",
    "plt.tight_layout()\n",
    "plt.show()\n"
   ],
   "id": "3935fedd91877cce",
   "outputs": [
    {
     "data": {
      "text/plain": [
       "<Figure size 1000x600 with 1 Axes>"
      ],
      "image/png": "[encoded data removed]"
     },
     "metadata": {},
     "output_type": "display_data"
    }
   ],
   "execution_count": 31
  },
  {
   "metadata": {
    "ExecuteTime": {
     "end_time": "2025-05-16T20:42:34.554798Z",
     "start_time": "2025-05-16T20:42:34.513337Z"
    }
   },
   "cell_type": "code",
   "source": [
    "K = 10\n",
    "top_k_preds = get_top_k(predictions, k=K)\n",
    "relevant_items = get_true_positives(testset, threshold=4.0)\n",
    "\n",
    "prec = precision_at_k(top_k_preds, relevant_items, k=K)\n",
    "hit = hit_rate_at_k(top_k_preds, relevant_items)\n",
    "\n",
    "print(f'Precision@{K}: {prec:.4f}')\n",
    "print(f'Hit Rate@{K}: {hit:.4f}')"
   ],
   "id": "3b2fd34ccd4d180d",
   "outputs": [
    {
     "name": "stdout",
     "output_type": "stream",
     "text": [
      "Precision@10: 0.1310\n",
      "Hit Rate@10: 0.9989\n"
     ]
    }
   ],
   "execution_count": 32
  },
  {
   "cell_type": "markdown",
   "id": "eaea3fca-968e-4346-ab5a-593e83524ed4",
   "metadata": {},
   "source": [
    "# Evaluation Summary (Without Sentiment Score)\n",
    "\n",
    "### Item-Based\n",
    "- **Best Model:** KNNBaseline  \n",
    "- **Metrics:** RMSE = 0.81, MAE = 0.67, MSE = 0.66"
   ]
  }
 ],
 "metadata": {
  "kernelspec": {
   "display_name": "Python 3 (ipykernel)",
   "language": "python",
   "name": "python3"
  },
  "language_info": {
   "codemirror_mode": {
    "name": "ipython",
    "version": 3
   },
   "file_extension": ".py",
   "mimetype": "text/x-python",
   "name": "python",
   "nbconvert_exporter": "python",
   "pygments_lexer": "ipython3",
   "version": "3.12.7"
  }
 },
 "nbformat": 4,
 "nbformat_minor": 5
}
