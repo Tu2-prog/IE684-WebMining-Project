{
 "cells": [
  {
   "metadata": {},
   "cell_type": "markdown",
   "source": "# User-Based Collaborative Filtering",
   "id": "66bef1c26222fda6"
  },
  {
   "metadata": {
    "ExecuteTime": {
     "end_time": "2025-05-04T18:55:42.104156Z",
     "start_time": "2025-05-04T18:55:39.920238Z"
    }
   },
   "cell_type": "code",
   "source": [
    "!pip install -q -U scikit-surprise\n",
    "!pip install -q numpy==1.26.4"
   ],
   "id": "195abd285ecee6c6",
   "outputs": [],
   "execution_count": 25
  },
  {
   "cell_type": "code",
   "id": "initial_id",
   "metadata": {
    "collapsed": true,
    "ExecuteTime": {
     "end_time": "2025-05-04T18:55:42.117730Z",
     "start_time": "2025-05-04T18:55:42.115667Z"
    }
   },
   "source": [
    "import pandas as pd\n",
    "from surprise.model_selection import train_test_split\n",
    "import matplotlib.pyplot as plt\n",
    "from mpl_toolkits.axes_grid1 import Divider, Size"
   ],
   "outputs": [],
   "execution_count": 26
  },
  {
   "metadata": {},
   "cell_type": "markdown",
   "source": "# Seeting the seed for reprodcuibility",
   "id": "98525b1932f57072"
  },
  {
   "metadata": {
    "ExecuteTime": {
     "end_time": "2025-05-04T18:55:42.177083Z",
     "start_time": "2025-05-04T18:55:42.174091Z"
    }
   },
   "cell_type": "code",
   "source": [
    "# we set a random seed here to make the results in this notebook reproducible\n",
    "import random\n",
    "import numpy as np\n",
    "\n",
    "my_seed = 0\n",
    "random.seed(my_seed)\n",
    "np.random.seed(my_seed)"
   ],
   "id": "2c78bf4c061dce4d",
   "outputs": [],
   "execution_count": 27
  },
  {
   "metadata": {},
   "cell_type": "markdown",
   "source": "# Reading data",
   "id": "19dba2e0ce1981a7"
  },
  {
   "metadata": {
    "ExecuteTime": {
     "end_time": "2025-05-04T18:55:42.686320Z",
     "start_time": "2025-05-04T18:55:42.336519Z"
    }
   },
   "cell_type": "code",
   "source": [
    "df = pd.read_csv('../data/reviews_stratified_sampled.csv')\n",
    "df"
   ],
   "id": "f8126494ed2c32ba",
   "outputs": [
    {
     "data": {
      "text/plain": [
       "       beer_id          username        date  \\\n",
       "0         1428           Aethien  2012-02-12   \n",
       "1         4351        kojevergas  2011-07-31   \n",
       "2        70485           CMUbrew  2012-03-10   \n",
       "3        27069         maximum12  2010-05-12   \n",
       "4        44788       HarleyRider  2010-06-26   \n",
       "...        ...               ...         ...   \n",
       "27697    90141  BlackBelt5112203  2013-07-26   \n",
       "27698     2128     woodychandler  2011-08-08   \n",
       "27699    19216          05Harley  2011-02-25   \n",
       "27700    41951   brewdlyhooked13  2008-07-19   \n",
       "27701    98387         superspak  2014-02-12   \n",
       "\n",
       "                                                    text  look  smell  taste  \\\n",
       "0         poured into a tulip, it looks a nice golden...  3.00    1.5    1.5   \n",
       "1         can served into norrebro bryghus stemware i...  2.50    2.0    2.0   \n",
       "2         reviewed from notes 500ml can poured into a...  3.00    1.0    1.0   \n",
       "3         rec'd a bottle of this unbidden in a recent...  2.50    2.0    2.0   \n",
       "4         heading out on the boat my wife brings home...  3.00    1.0    1.0   \n",
       "...                                                  ...   ...    ...    ...   \n",
       "27697     5 oz pour into a tasting glass on tap at th...  4.25    4.5    4.5   \n",
       "27698     an afternoon of aus beers continued at my a...  4.00    4.0    4.0   \n",
       "27699     bottled on: (should be on the bottom right ...  5.00    4.0    4.0   \n",
       "27700     appearance - pours a dark reddish caramel w...  4.00    4.0    4.0   \n",
       "27701     22 ounce bottle into tulip glass, bottled o...  4.00    4.5    4.0   \n",
       "\n",
       "       feel  overall  score  has_look  has_smell  has_taste  has_feel  \\\n",
       "0       2.0      2.0   1.74      True       True       True      True   \n",
       "1       1.5      2.0   1.98      True       True       True      True   \n",
       "2       1.5      1.0   1.17      True       True       True      True   \n",
       "3       2.0      1.0   1.83      True       True       True      True   \n",
       "4       3.0      2.0   1.52      True       True       True      True   \n",
       "...     ...      ...    ...       ...        ...        ...       ...   \n",
       "27697   4.0      4.5   4.44      True       True       True      True   \n",
       "27698   4.0      4.0   4.00      True       True       True      True   \n",
       "27699   4.0      4.0   4.06      True       True       True      True   \n",
       "27700   4.5      5.0   4.25      True       True       True      True   \n",
       "27701   4.0      4.5   4.22      True       True       True      True   \n",
       "\n",
       "              mentioned_aspects sentiment  \n",
       "0      look, smell, taste, feel  negative  \n",
       "1      look, smell, taste, feel  negative  \n",
       "2      look, smell, taste, feel  negative  \n",
       "3      look, smell, taste, feel  negative  \n",
       "4      look, smell, taste, feel  negative  \n",
       "...                         ...       ...  \n",
       "27697  look, smell, taste, feel  positive  \n",
       "27698  look, smell, taste, feel  positive  \n",
       "27699  look, smell, taste, feel  positive  \n",
       "27700  look, smell, taste, feel  positive  \n",
       "27701  look, smell, taste, feel  positive  \n",
       "\n",
       "[27702 rows x 16 columns]"
      ],
      "text/html": [
       "<div>\n",
       "<style scoped>\n",
       "    .dataframe tbody tr th:only-of-type {\n",
       "        vertical-align: middle;\n",
       "    }\n",
       "\n",
       "    .dataframe tbody tr th {\n",
       "        vertical-align: top;\n",
       "    }\n",
       "\n",
       "    .dataframe thead th {\n",
       "        text-align: right;\n",
       "    }\n",
       "</style>\n",
       "<table border=\"1\" class=\"dataframe\">\n",
       "  <thead>\n",
       "    <tr style=\"text-align: right;\">\n",
       "      <th></th>\n",
       "      <th>beer_id</th>\n",
       "      <th>username</th>\n",
       "      <th>date</th>\n",
       "      <th>text</th>\n",
       "      <th>look</th>\n",
       "      <th>smell</th>\n",
       "      <th>taste</th>\n",
       "      <th>feel</th>\n",
       "      <th>overall</th>\n",
       "      <th>score</th>\n",
       "      <th>has_look</th>\n",
       "      <th>has_smell</th>\n",
       "      <th>has_taste</th>\n",
       "      <th>has_feel</th>\n",
       "      <th>mentioned_aspects</th>\n",
       "      <th>sentiment</th>\n",
       "    </tr>\n",
       "  </thead>\n",
       "  <tbody>\n",
       "    <tr>\n",
       "      <th>0</th>\n",
       "      <td>1428</td>\n",
       "      <td>Aethien</td>\n",
       "      <td>2012-02-12</td>\n",
       "      <td>poured into a tulip, it looks a nice golden...</td>\n",
       "      <td>3.00</td>\n",
       "      <td>1.5</td>\n",
       "      <td>1.5</td>\n",
       "      <td>2.0</td>\n",
       "      <td>2.0</td>\n",
       "      <td>1.74</td>\n",
       "      <td>True</td>\n",
       "      <td>True</td>\n",
       "      <td>True</td>\n",
       "      <td>True</td>\n",
       "      <td>look, smell, taste, feel</td>\n",
       "      <td>negative</td>\n",
       "    </tr>\n",
       "    <tr>\n",
       "      <th>1</th>\n",
       "      <td>4351</td>\n",
       "      <td>kojevergas</td>\n",
       "      <td>2011-07-31</td>\n",
       "      <td>can served into norrebro bryghus stemware i...</td>\n",
       "      <td>2.50</td>\n",
       "      <td>2.0</td>\n",
       "      <td>2.0</td>\n",
       "      <td>1.5</td>\n",
       "      <td>2.0</td>\n",
       "      <td>1.98</td>\n",
       "      <td>True</td>\n",
       "      <td>True</td>\n",
       "      <td>True</td>\n",
       "      <td>True</td>\n",
       "      <td>look, smell, taste, feel</td>\n",
       "      <td>negative</td>\n",
       "    </tr>\n",
       "    <tr>\n",
       "      <th>2</th>\n",
       "      <td>70485</td>\n",
       "      <td>CMUbrew</td>\n",
       "      <td>2012-03-10</td>\n",
       "      <td>reviewed from notes 500ml can poured into a...</td>\n",
       "      <td>3.00</td>\n",
       "      <td>1.0</td>\n",
       "      <td>1.0</td>\n",
       "      <td>1.5</td>\n",
       "      <td>1.0</td>\n",
       "      <td>1.17</td>\n",
       "      <td>True</td>\n",
       "      <td>True</td>\n",
       "      <td>True</td>\n",
       "      <td>True</td>\n",
       "      <td>look, smell, taste, feel</td>\n",
       "      <td>negative</td>\n",
       "    </tr>\n",
       "    <tr>\n",
       "      <th>3</th>\n",
       "      <td>27069</td>\n",
       "      <td>maximum12</td>\n",
       "      <td>2010-05-12</td>\n",
       "      <td>rec'd a bottle of this unbidden in a recent...</td>\n",
       "      <td>2.50</td>\n",
       "      <td>2.0</td>\n",
       "      <td>2.0</td>\n",
       "      <td>2.0</td>\n",
       "      <td>1.0</td>\n",
       "      <td>1.83</td>\n",
       "      <td>True</td>\n",
       "      <td>True</td>\n",
       "      <td>True</td>\n",
       "      <td>True</td>\n",
       "      <td>look, smell, taste, feel</td>\n",
       "      <td>negative</td>\n",
       "    </tr>\n",
       "    <tr>\n",
       "      <th>4</th>\n",
       "      <td>44788</td>\n",
       "      <td>HarleyRider</td>\n",
       "      <td>2010-06-26</td>\n",
       "      <td>heading out on the boat my wife brings home...</td>\n",
       "      <td>3.00</td>\n",
       "      <td>1.0</td>\n",
       "      <td>1.0</td>\n",
       "      <td>3.0</td>\n",
       "      <td>2.0</td>\n",
       "      <td>1.52</td>\n",
       "      <td>True</td>\n",
       "      <td>True</td>\n",
       "      <td>True</td>\n",
       "      <td>True</td>\n",
       "      <td>look, smell, taste, feel</td>\n",
       "      <td>negative</td>\n",
       "    </tr>\n",
       "    <tr>\n",
       "      <th>...</th>\n",
       "      <td>...</td>\n",
       "      <td>...</td>\n",
       "      <td>...</td>\n",
       "      <td>...</td>\n",
       "      <td>...</td>\n",
       "      <td>...</td>\n",
       "      <td>...</td>\n",
       "      <td>...</td>\n",
       "      <td>...</td>\n",
       "      <td>...</td>\n",
       "      <td>...</td>\n",
       "      <td>...</td>\n",
       "      <td>...</td>\n",
       "      <td>...</td>\n",
       "      <td>...</td>\n",
       "      <td>...</td>\n",
       "    </tr>\n",
       "    <tr>\n",
       "      <th>27697</th>\n",
       "      <td>90141</td>\n",
       "      <td>BlackBelt5112203</td>\n",
       "      <td>2013-07-26</td>\n",
       "      <td>5 oz pour into a tasting glass on tap at th...</td>\n",
       "      <td>4.25</td>\n",
       "      <td>4.5</td>\n",
       "      <td>4.5</td>\n",
       "      <td>4.0</td>\n",
       "      <td>4.5</td>\n",
       "      <td>4.44</td>\n",
       "      <td>True</td>\n",
       "      <td>True</td>\n",
       "      <td>True</td>\n",
       "      <td>True</td>\n",
       "      <td>look, smell, taste, feel</td>\n",
       "      <td>positive</td>\n",
       "    </tr>\n",
       "    <tr>\n",
       "      <th>27698</th>\n",
       "      <td>2128</td>\n",
       "      <td>woodychandler</td>\n",
       "      <td>2011-08-08</td>\n",
       "      <td>an afternoon of aus beers continued at my a...</td>\n",
       "      <td>4.00</td>\n",
       "      <td>4.0</td>\n",
       "      <td>4.0</td>\n",
       "      <td>4.0</td>\n",
       "      <td>4.0</td>\n",
       "      <td>4.00</td>\n",
       "      <td>True</td>\n",
       "      <td>True</td>\n",
       "      <td>True</td>\n",
       "      <td>True</td>\n",
       "      <td>look, smell, taste, feel</td>\n",
       "      <td>positive</td>\n",
       "    </tr>\n",
       "    <tr>\n",
       "      <th>27699</th>\n",
       "      <td>19216</td>\n",
       "      <td>05Harley</td>\n",
       "      <td>2011-02-25</td>\n",
       "      <td>bottled on: (should be on the bottom right ...</td>\n",
       "      <td>5.00</td>\n",
       "      <td>4.0</td>\n",
       "      <td>4.0</td>\n",
       "      <td>4.0</td>\n",
       "      <td>4.0</td>\n",
       "      <td>4.06</td>\n",
       "      <td>True</td>\n",
       "      <td>True</td>\n",
       "      <td>True</td>\n",
       "      <td>True</td>\n",
       "      <td>look, smell, taste, feel</td>\n",
       "      <td>positive</td>\n",
       "    </tr>\n",
       "    <tr>\n",
       "      <th>27700</th>\n",
       "      <td>41951</td>\n",
       "      <td>brewdlyhooked13</td>\n",
       "      <td>2008-07-19</td>\n",
       "      <td>appearance - pours a dark reddish caramel w...</td>\n",
       "      <td>4.00</td>\n",
       "      <td>4.0</td>\n",
       "      <td>4.0</td>\n",
       "      <td>4.5</td>\n",
       "      <td>5.0</td>\n",
       "      <td>4.25</td>\n",
       "      <td>True</td>\n",
       "      <td>True</td>\n",
       "      <td>True</td>\n",
       "      <td>True</td>\n",
       "      <td>look, smell, taste, feel</td>\n",
       "      <td>positive</td>\n",
       "    </tr>\n",
       "    <tr>\n",
       "      <th>27701</th>\n",
       "      <td>98387</td>\n",
       "      <td>superspak</td>\n",
       "      <td>2014-02-12</td>\n",
       "      <td>22 ounce bottle into tulip glass, bottled o...</td>\n",
       "      <td>4.00</td>\n",
       "      <td>4.5</td>\n",
       "      <td>4.0</td>\n",
       "      <td>4.0</td>\n",
       "      <td>4.5</td>\n",
       "      <td>4.22</td>\n",
       "      <td>True</td>\n",
       "      <td>True</td>\n",
       "      <td>True</td>\n",
       "      <td>True</td>\n",
       "      <td>look, smell, taste, feel</td>\n",
       "      <td>positive</td>\n",
       "    </tr>\n",
       "  </tbody>\n",
       "</table>\n",
       "<p>27702 rows × 16 columns</p>\n",
       "</div>"
      ]
     },
     "execution_count": 28,
     "metadata": {},
     "output_type": "execute_result"
    }
   ],
   "execution_count": 28
  },
  {
   "metadata": {
    "ExecuteTime": {
     "end_time": "2025-05-04T18:55:42.743158Z",
     "start_time": "2025-05-04T18:55:42.739947Z"
    }
   },
   "cell_type": "code",
   "source": [
    "col = [\"date\", \"text\", \"look\", \"smell\", \"taste\", \"feel\", \"overall\", \"has_smell\", \"has_taste\", \"has_look\", \"has_feel\", \"mentioned_aspects\", \"sentiment\"]\n",
    "df = df.drop(col, axis=1)"
   ],
   "id": "4dbdc17d9433df40",
   "outputs": [],
   "execution_count": 29
  },
  {
   "metadata": {
    "ExecuteTime": {
     "end_time": "2025-05-04T18:55:42.825273Z",
     "start_time": "2025-05-04T18:55:42.817805Z"
    }
   },
   "cell_type": "code",
   "source": "df",
   "id": "471f5b2aa3b22726",
   "outputs": [
    {
     "data": {
      "text/plain": [
       "       beer_id          username  score\n",
       "0         1428           Aethien   1.74\n",
       "1         4351        kojevergas   1.98\n",
       "2        70485           CMUbrew   1.17\n",
       "3        27069         maximum12   1.83\n",
       "4        44788       HarleyRider   1.52\n",
       "...        ...               ...    ...\n",
       "27697    90141  BlackBelt5112203   4.44\n",
       "27698     2128     woodychandler   4.00\n",
       "27699    19216          05Harley   4.06\n",
       "27700    41951   brewdlyhooked13   4.25\n",
       "27701    98387         superspak   4.22\n",
       "\n",
       "[27702 rows x 3 columns]"
      ],
      "text/html": [
       "<div>\n",
       "<style scoped>\n",
       "    .dataframe tbody tr th:only-of-type {\n",
       "        vertical-align: middle;\n",
       "    }\n",
       "\n",
       "    .dataframe tbody tr th {\n",
       "        vertical-align: top;\n",
       "    }\n",
       "\n",
       "    .dataframe thead th {\n",
       "        text-align: right;\n",
       "    }\n",
       "</style>\n",
       "<table border=\"1\" class=\"dataframe\">\n",
       "  <thead>\n",
       "    <tr style=\"text-align: right;\">\n",
       "      <th></th>\n",
       "      <th>beer_id</th>\n",
       "      <th>username</th>\n",
       "      <th>score</th>\n",
       "    </tr>\n",
       "  </thead>\n",
       "  <tbody>\n",
       "    <tr>\n",
       "      <th>0</th>\n",
       "      <td>1428</td>\n",
       "      <td>Aethien</td>\n",
       "      <td>1.74</td>\n",
       "    </tr>\n",
       "    <tr>\n",
       "      <th>1</th>\n",
       "      <td>4351</td>\n",
       "      <td>kojevergas</td>\n",
       "      <td>1.98</td>\n",
       "    </tr>\n",
       "    <tr>\n",
       "      <th>2</th>\n",
       "      <td>70485</td>\n",
       "      <td>CMUbrew</td>\n",
       "      <td>1.17</td>\n",
       "    </tr>\n",
       "    <tr>\n",
       "      <th>3</th>\n",
       "      <td>27069</td>\n",
       "      <td>maximum12</td>\n",
       "      <td>1.83</td>\n",
       "    </tr>\n",
       "    <tr>\n",
       "      <th>4</th>\n",
       "      <td>44788</td>\n",
       "      <td>HarleyRider</td>\n",
       "      <td>1.52</td>\n",
       "    </tr>\n",
       "    <tr>\n",
       "      <th>...</th>\n",
       "      <td>...</td>\n",
       "      <td>...</td>\n",
       "      <td>...</td>\n",
       "    </tr>\n",
       "    <tr>\n",
       "      <th>27697</th>\n",
       "      <td>90141</td>\n",
       "      <td>BlackBelt5112203</td>\n",
       "      <td>4.44</td>\n",
       "    </tr>\n",
       "    <tr>\n",
       "      <th>27698</th>\n",
       "      <td>2128</td>\n",
       "      <td>woodychandler</td>\n",
       "      <td>4.00</td>\n",
       "    </tr>\n",
       "    <tr>\n",
       "      <th>27699</th>\n",
       "      <td>19216</td>\n",
       "      <td>05Harley</td>\n",
       "      <td>4.06</td>\n",
       "    </tr>\n",
       "    <tr>\n",
       "      <th>27700</th>\n",
       "      <td>41951</td>\n",
       "      <td>brewdlyhooked13</td>\n",
       "      <td>4.25</td>\n",
       "    </tr>\n",
       "    <tr>\n",
       "      <th>27701</th>\n",
       "      <td>98387</td>\n",
       "      <td>superspak</td>\n",
       "      <td>4.22</td>\n",
       "    </tr>\n",
       "  </tbody>\n",
       "</table>\n",
       "<p>27702 rows × 3 columns</p>\n",
       "</div>"
      ]
     },
     "execution_count": 30,
     "metadata": {},
     "output_type": "execute_result"
    }
   ],
   "execution_count": 30
  },
  {
   "metadata": {
    "ExecuteTime": {
     "end_time": "2025-05-04T18:55:42.953314Z",
     "start_time": "2025-05-04T18:55:42.925043Z"
    }
   },
   "cell_type": "code",
   "source": [
    "df = df[['username', 'beer_id', 'score']]\n",
    "df"
   ],
   "id": "a22de921cc71cd45",
   "outputs": [
    {
     "data": {
      "text/plain": [
       "               username  beer_id  score\n",
       "0               Aethien     1428   1.74\n",
       "1            kojevergas     4351   1.98\n",
       "2               CMUbrew    70485   1.17\n",
       "3             maximum12    27069   1.83\n",
       "4           HarleyRider    44788   1.52\n",
       "...                 ...      ...    ...\n",
       "27697  BlackBelt5112203    90141   4.44\n",
       "27698     woodychandler     2128   4.00\n",
       "27699          05Harley    19216   4.06\n",
       "27700   brewdlyhooked13    41951   4.25\n",
       "27701         superspak    98387   4.22\n",
       "\n",
       "[27702 rows x 3 columns]"
      ],
      "text/html": [
       "<div>\n",
       "<style scoped>\n",
       "    .dataframe tbody tr th:only-of-type {\n",
       "        vertical-align: middle;\n",
       "    }\n",
       "\n",
       "    .dataframe tbody tr th {\n",
       "        vertical-align: top;\n",
       "    }\n",
       "\n",
       "    .dataframe thead th {\n",
       "        text-align: right;\n",
       "    }\n",
       "</style>\n",
       "<table border=\"1\" class=\"dataframe\">\n",
       "  <thead>\n",
       "    <tr style=\"text-align: right;\">\n",
       "      <th></th>\n",
       "      <th>username</th>\n",
       "      <th>beer_id</th>\n",
       "      <th>score</th>\n",
       "    </tr>\n",
       "  </thead>\n",
       "  <tbody>\n",
       "    <tr>\n",
       "      <th>0</th>\n",
       "      <td>Aethien</td>\n",
       "      <td>1428</td>\n",
       "      <td>1.74</td>\n",
       "    </tr>\n",
       "    <tr>\n",
       "      <th>1</th>\n",
       "      <td>kojevergas</td>\n",
       "      <td>4351</td>\n",
       "      <td>1.98</td>\n",
       "    </tr>\n",
       "    <tr>\n",
       "      <th>2</th>\n",
       "      <td>CMUbrew</td>\n",
       "      <td>70485</td>\n",
       "      <td>1.17</td>\n",
       "    </tr>\n",
       "    <tr>\n",
       "      <th>3</th>\n",
       "      <td>maximum12</td>\n",
       "      <td>27069</td>\n",
       "      <td>1.83</td>\n",
       "    </tr>\n",
       "    <tr>\n",
       "      <th>4</th>\n",
       "      <td>HarleyRider</td>\n",
       "      <td>44788</td>\n",
       "      <td>1.52</td>\n",
       "    </tr>\n",
       "    <tr>\n",
       "      <th>...</th>\n",
       "      <td>...</td>\n",
       "      <td>...</td>\n",
       "      <td>...</td>\n",
       "    </tr>\n",
       "    <tr>\n",
       "      <th>27697</th>\n",
       "      <td>BlackBelt5112203</td>\n",
       "      <td>90141</td>\n",
       "      <td>4.44</td>\n",
       "    </tr>\n",
       "    <tr>\n",
       "      <th>27698</th>\n",
       "      <td>woodychandler</td>\n",
       "      <td>2128</td>\n",
       "      <td>4.00</td>\n",
       "    </tr>\n",
       "    <tr>\n",
       "      <th>27699</th>\n",
       "      <td>05Harley</td>\n",
       "      <td>19216</td>\n",
       "      <td>4.06</td>\n",
       "    </tr>\n",
       "    <tr>\n",
       "      <th>27700</th>\n",
       "      <td>brewdlyhooked13</td>\n",
       "      <td>41951</td>\n",
       "      <td>4.25</td>\n",
       "    </tr>\n",
       "    <tr>\n",
       "      <th>27701</th>\n",
       "      <td>superspak</td>\n",
       "      <td>98387</td>\n",
       "      <td>4.22</td>\n",
       "    </tr>\n",
       "  </tbody>\n",
       "</table>\n",
       "<p>27702 rows × 3 columns</p>\n",
       "</div>"
      ]
     },
     "execution_count": 31,
     "metadata": {},
     "output_type": "execute_result"
    }
   ],
   "execution_count": 31
  },
  {
   "metadata": {},
   "cell_type": "markdown",
   "source": "# Training ",
   "id": "a46a60014a5b6090"
  },
  {
   "metadata": {
    "ExecuteTime": {
     "end_time": "2025-05-04T18:55:43.124838Z",
     "start_time": "2025-05-04T18:55:43.103338Z"
    }
   },
   "cell_type": "code",
   "source": [
    "from surprise import Reader, Dataset, KNNBasic\n",
    "reader = Reader(rating_scale=(0, 5))\n",
    "data = Dataset.load_from_df(df[['username','beer_id','score']], reader)"
   ],
   "id": "225aeb24d1cd9343",
   "outputs": [],

   "execution_count": 32
  },
  {
   "metadata": {
    "ExecuteTime": {

     "end_time": "2025-05-04T18:55:43.208968Z",
     "start_time": "2025-05-04T18:55:43.178537Z"
    }
   },
   "cell_type": "code",
   "source": "X_train, X_test = train_test_split(data, test_size=0.2, random_state=my_seed)",
   "id": "cc4432d267554397",
   "outputs": [],
   "execution_count": 33
  },
  {
   "metadata": {
    "ExecuteTime": {

     "end_time": "2025-05-04T18:55:43.240708Z",
     "start_time": "2025-05-04T18:55:43.238454Z"
    }
   },
   "cell_type": "code",
   "source": "sim_options = {'name': 'pearson', 'user_based': True, 'min_support': 1}",
   "id": "4262f6243cd12536",
   "outputs": [],
   "execution_count": 34
  },
  {
   "metadata": {
    "ExecuteTime": {
     "end_time": "2025-05-04T18:55:43.977817Z",
     "start_time": "2025-05-04T18:55:43.288924Z"
    }
   },
   "cell_type": "code",
   "source": [
    "algo = KNNBasic(sim_options=sim_options)\n",
    "\n",
    "algo.fit(X_train)\n",
    "predictions = algo.test(X_test)"
   ],
   "id": "3daf44040bc014e1",
   "outputs": [
    {
     "name": "stdout",
     "output_type": "stream",
     "text": [
      "Computing the pearson similarity matrix...\n",
      "Done computing similarity matrix.\n"
     ]
    }
   ],
   "execution_count": 35
  },
  {
   "metadata": {
    "ExecuteTime": {
     "end_time": "2025-05-04T18:55:44.737183Z",
     "start_time": "2025-05-04T18:55:43.992597Z"
    }
   },
   "cell_type": "code",
   "source": [
    "from surprise import KNNWithMeans\n",
    "algo2 = KNNWithMeans(sim_options=sim_options)\n",
    "algo2.fit(X_train)\n",
    "predictions2 = algo2.test(X_test)"
   ],
   "id": "ee0f7ceec109d849",
   "outputs": [
    {
     "name": "stdout",
     "output_type": "stream",
     "text": [
      "Computing the pearson similarity matrix...\n",
      "Done computing similarity matrix.\n"
     ]
    }
   ],
   "execution_count": 36
  },
  {
   "metadata": {
    "ExecuteTime": {
     "end_time": "2025-05-04T18:55:45.549458Z",
     "start_time": "2025-05-04T18:55:44.753126Z"
    }
   },
   "cell_type": "code",
   "source": [
    "from surprise import KNNWithZScore\n",
    "algo3 = KNNWithZScore(sim_options=sim_options)\n",
    "algo3.fit(X_train)\n",
    "predictions3 = algo3.test(X_test)"
   ],
   "id": "e2130dea6ba46f15",
   "outputs": [
    {
     "name": "stdout",
     "output_type": "stream",
     "text": [
      "Computing the pearson similarity matrix...\n",
      "Done computing similarity matrix.\n"
     ]
    }
   ],
   "execution_count": 37
  },
  {
   "metadata": {
    "ExecuteTime": {
     "end_time": "2025-05-04T18:55:46.570632Z",
     "start_time": "2025-05-04T18:55:45.562024Z"
    }
   },
   "cell_type": "code",
   "source": [
    "from surprise import KNNBaseline\n",
    "algo_baseline = KNNBaseline(sim_options=sim_options)\n",
    "algo_baseline.fit(X_train)\n",
    "predictions_baseline = algo_baseline.test(X_test)"
   ],
   "id": "6b8bc958977e493d",
   "outputs": [
    {
     "name": "stdout",
     "output_type": "stream",
     "text": [
      "Estimating biases using als...\n",
      "Computing the pearson similarity matrix...\n",
      "Done computing similarity matrix.\n"
     ]
    }
   ],
   "execution_count": 38
  },
  {
   "metadata": {},
   "cell_type": "markdown",
   "source": "# Evaluation",
   "id": "49034bc67395a5d1"
  },
  {
   "metadata": {
    "ExecuteTime": {

     "end_time": "2025-05-04T18:55:46.591056Z",
     "start_time": "2025-05-04T18:55:46.589251Z"
    }
   },
   "cell_type": "code",
   "source": "metrics = (\"RMSE\", \"MSE\", \"MAE\")",
   "id": "bf4e6a80d108d638",
   "outputs": [],
   "execution_count": 39
  },
  {
   "metadata": {
    "ExecuteTime": {
     "end_time": "2025-05-04T18:55:46.645351Z",
     "start_time": "2025-05-04T18:55:46.643005Z"
    }
   },
   "cell_type": "code",
   "source": [
    "from surprise.accuracy import mse, rmse, mae\n",
    "# Compute MSE, RMSE and MAE on the test set predictions\n",
    "def evaluate_recommender(predictions):\n",
    "    mse_score = mse(predictions, verbose=False)\n",
    "    rmse_score = rmse(predictions, verbose=False)\n",
    "    mae_score = mae(predictions, verbose=False)\n",
    "    return mse_score, rmse_score, mae_score"
   ],
   "id": "fc4b3b4ea40a322",
   "outputs": [],
   "execution_count": 40
  },
  {
   "metadata": {
     "end_time": "2025-05-04T18:55:46.695453Z",
     "start_time": "2025-05-04T18:55:46.692367Z"
    }
   },
   "cell_type": "code",
   "source": [
    "def plot_predictions(predictions, metrics):\n",
    "    rmse_score, mse_score, mae_score = predictions\n",
    "    fig, ax = plt.subplots(figsize=(12, 6))\n",
    "    ax.set_title(\"Evaluation metrics\")\n",
    "    ax.set_ylabel(\"Score\")\n",
    "    ax.set_xlabel(\"Metric\")\n",
    "    ax.set_ylim(0, 5)\n",
    "    ax.set_xticks(range(len(metrics)))\n",
    "    ax.set_xticklabels(metrics)\n",
    "    ax.bar(range(len(metrics)), [rmse_score, mse_score, mae_score], color=['blue', 'orange', 'green'])\n",
    "    # Add data labels\n",
    "    for i, v in enumerate([rmse_score, mse_score, mae_score]):\n",
    "        ax.text(i - 0.1, v + 0.02, str(round(v, 2)), color='black', fontweight='bold')\n",
    "    # Add grid lines\n",
    "    ax.grid(axis='y', linestyle='--', alpha=0.7)\n",
    "    plt.show()"
   ],
   "id": "79c6c9bc4a1d8b46",
   "outputs": [],
   "execution_count": 41
  },
  {
   "metadata": {
    "ExecuteTime": {
     "end_time": "2025-05-04T18:55:46.757038Z",
     "start_time": "2025-05-04T18:55:46.746946Z"
    }
   },
   "cell_type": "code",
   "source": "results = evaluate_recommender(predictions)",
   "id": "8facb3210e189185",
   "outputs": [],
   "execution_count": 42
  },
  {
   "metadata": {
    "ExecuteTime": {
     "end_time": "2025-05-04T18:55:46.946074Z",
     "start_time": "2025-05-04T18:55:46.797771Z"
    }
   },
   "cell_type": "code",
   "source": [
    "# Plot the metrics rmse, mse and mae\n",
    "plot_predictions(results, metrics)"
   ],
   "id": "2151bb24d18b202d",
   "outputs": [
    {
     "data": {
      "text/plain": [
       "<Figure size 1200x600 with 1 Axes>"
      ],
      "image/png": "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"
     },
     "metadata": {},
     "output_type": "display_data"
    }
   ],
   "execution_count": 43
  },
  {
   "metadata": {
    "ExecuteTime": {
     "end_time": "2025-05-04T18:55:47.086639Z",
     "start_time": "2025-05-04T18:55:46.960498Z"
    }
   },
   "cell_type": "code",
   "source": [
    "results2 = evaluate_recommender(predictions2)\n",
    "plot_predictions(results2, metrics)"
   ],
   "id": "da9fe0b0ef1441f5",
   "outputs": [
    {
     "data": {
      "text/plain": [
       "<Figure size 1200x600 with 1 Axes>"
      ],
      "image/png": "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"
     },
     "metadata": {},
     "output_type": "display_data"
    }
   ],
   "execution_count": 44
  },
  {
   "metadata": {
    "ExecuteTime": {
     "end_time": "2025-05-04T18:55:47.262312Z",
     "start_time": "2025-05-04T18:55:47.110734Z"
    }
   },
   "cell_type": "code",
   "source": [
    "results3 = evaluate_recommender(predictions3)\n",
    "plot_predictions(results3, metrics)"
   ],
   "id": "3afba91b593419ff",
   "outputs": [
    {
     "data": {
      "text/plain": [
       "<Figure size 1200x600 with 1 Axes>"
      ],
      "image/png": "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"
     },
     "metadata": {},
     "output_type": "display_data"
    }
   ],
   "execution_count": 45
  },
  {
   "metadata": {
    "ExecuteTime": {
     "end_time": "2025-05-04T18:55:47.372157Z",
     "start_time": "2025-05-04T18:55:47.281849Z"
    }
   },
   "cell_type": "code",
   "source": [
    "results_baseline = evaluate_recommender(predictions_baseline)\n",
    "plot_predictions(results_baseline, metrics)"
   ],
   "id": "a9819231922a1b59",
   "outputs": [
    {
     "data": {
      "text/plain": [
       "<Figure size 1200x600 with 1 Axes>"
      ],
      "image/png": "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"
     },
     "metadata": {},
     "output_type": "display_data"
    }
   ],
   "execution_count": 46
  }
 ],
 "metadata": {
  "kernelspec": {
   "display_name": "Python 3",
   "language": "python",
   "name": "python3"
  },
  "language_info": {
   "codemirror_mode": {
    "name": "ipython",
    "version": 2
   },
   "file_extension": ".py",
   "mimetype": "text/x-python",
   "name": "python",
   "nbconvert_exporter": "python",
   "pygments_lexer": "ipython2",
   "version": "2.7.6"
  }
 },
 "nbformat": 4,
 "nbformat_minor": 5
}
