{
 "cells": [
  {
   "cell_type": "code",
   "id": "initial_id",
   "metadata": {
    "collapsed": true,
    "jupyter": {
     "outputs_hidden": true
    },
    "ExecuteTime": {
     "end_time": "2025-05-16T20:25:42.560012Z",
     "start_time": "2025-05-16T20:25:42.556844Z"
    }
   },
   "source": [
    "import surprise\n",
    "import pandas as pd\n",
    "from surprise import Dataset\n",
    "from surprise import Reader\n",
    "from surprise import SVD\n",
    "from surprise.accuracy import mae, rmse, mse\n",
    "from surprise.model_selection import GridSearchCV\n",
    "from scipy.stats import pearsonr\n",
    "import numpy"
   ],
   "outputs": [],
   "execution_count": 271
  },
  {
   "cell_type": "code",
   "id": "d3f79c7cd1a4e5ec",
   "metadata": {
    "ExecuteTime": {
     "end_time": "2025-05-16T20:25:42.626078Z",
     "start_time": "2025-05-16T20:25:42.624186Z"
    }
   },
   "source": [
    "import random\n",
    "# set random seed\n",
    "my_seed = 0\n",
    "random.seed(my_seed)"
   ],
   "outputs": [],
   "execution_count": 272
  },
  {
   "metadata": {
    "ExecuteTime": {
     "end_time": "2025-05-16T20:25:42.688919Z",
     "start_time": "2025-05-16T20:25:42.686251Z"
    }
   },
   "cell_type": "code",
   "source": [
    "from collections import defaultdict\n",
    "\n",
    "def get_top_k(predictions, k=10):\n",
    "    '''Return the top-K recommended items for each user from predictions.'''\n",
    "    top_k = defaultdict(list)\n",
    "    for uid, iid, true_r, est, _ in predictions:\n",
    "        top_k[uid].append((iid, est))\n",
    "\n",
    "    # Sort and pick top k\n",
    "    for uid, user_ratings in top_k.items():\n",
    "        user_ratings.sort(key=lambda x: x[1], reverse=True)\n",
    "        top_k[uid] = [iid for (iid, _) in user_ratings[:k]]\n",
    "\n",
    "    return top_k"
   ],
   "id": "8efff5ed6a306575",
   "outputs": [],
   "execution_count": 273
  },
  {
   "metadata": {
    "ExecuteTime": {
     "end_time": "2025-05-16T20:25:42.762692Z",
     "start_time": "2025-05-16T20:25:42.760314Z"
    }
   },
   "cell_type": "code",
   "source": [
    "def get_true_positives(testset, threshold=4.0):\n",
    "    '''Return items considered relevant per user from the testset.'''\n",
    "    relevant = defaultdict(set)\n",
    "    for uid, iid, true_r in testset:\n",
    "        if true_r >= threshold:\n",
    "            relevant[uid].add(iid)\n",
    "    return relevant"
   ],
   "id": "930626f6bef6912c",
   "outputs": [],
   "execution_count": 274
  },
  {
   "metadata": {
    "ExecuteTime": {
     "end_time": "2025-05-16T20:25:42.830112Z",
     "start_time": "2025-05-16T20:25:42.826547Z"
    }
   },
   "cell_type": "code",
   "source": [
    "def precision_at_k(top_k_preds, relevant_items, k):\n",
    "    precisions = []\n",
    "    for uid in top_k_preds:\n",
    "        if uid in relevant_items:\n",
    "            hits = len(set(top_k_preds[uid]) & relevant_items[uid])\n",
    "            precisions.append(hits / k)\n",
    "\n",
    "    if len(precisions) == 0:\n",
    "        print(\"Warning: No overlap between predicted users and relevant users.\")\n",
    "        return 0.0\n",
    "\n",
    "    return sum(precisions) / len(precisions)\n",
    "\n",
    "def hit_rate_at_k(top_k_preds, relevant_items):\n",
    "    hits = 0\n",
    "    total = 0\n",
    "    for uid in relevant_items:\n",
    "        total += 1\n",
    "        if set(top_k_preds[uid]) & relevant_items[uid]:\n",
    "            hits += 1\n",
    "\n",
    "    if hits == 0:\n",
    "        print(\"Warning: No overlap between predicted users and relevant users.\")\n",
    "        return 0.0\n",
    "    return hits / total"
   ],
   "id": "3cf910bcbe11338d",
   "outputs": [],
   "execution_count": 275
  },
  {
   "cell_type": "markdown",
   "id": "66bade5a25f95e92",
   "metadata": {},
   "source": [
    "# Baseline SVD model"
   ]
  },
  {
   "cell_type": "code",
   "id": "15c19f29f9fdd545",
   "metadata": {
    "ExecuteTime": {
     "end_time": "2025-05-16T20:25:43.051475Z",
     "start_time": "2025-05-16T20:25:42.891840Z"
    }
   },
   "source": [
    "df_train = pd.read_csv(\"../data/rec_train_preprocessed_binned.csv\")\n",
    "df_test = pd.read_csv(\"../data/rec_test_preprocessed_binned.csv\")\n",
    "col = [\"date\", \"text\", \"look\", \"smell\", \"taste\", \"feel\", \"overall\", \"has_smell\", \"has_taste\", \"has_look\", \"has_feel\", \"mentioned_aspects\", \"sentiment\", \"score_bin\"]\n",
    "df_train = df_train.drop(col, axis=1)\n",
    "df_test = df_test.drop(col, axis=1)\n",
    "df_train"
   ],
   "outputs": [
    {
     "data": {
      "text/plain": [
       "       beer_id      username  score\n",
       "0        62040       GregSVT   4.32\n",
       "1       292393   NeroFiddled   4.14\n",
       "2        55291     matjack85   1.90\n",
       "3       223330  BlurryVisi0n   4.11\n",
       "4       222637   Brutaltruth   3.34\n",
       "...        ...           ...    ...\n",
       "15995      612    number1bum   3.68\n",
       "15996        5  damndirtyape   3.78\n",
       "15997    25608   CloudStrife   3.47\n",
       "15998    30517     Thorpe429   4.37\n",
       "15999     1834   mvanaskie13   3.10\n",
       "\n",
       "[16000 rows x 3 columns]"
      ],
      "text/html": [
       "<div>\n",
       "<style scoped>\n",
       "    .dataframe tbody tr th:only-of-type {\n",
       "        vertical-align: middle;\n",
       "    }\n",
       "\n",
       "    .dataframe tbody tr th {\n",
       "        vertical-align: top;\n",
       "    }\n",
       "\n",
       "    .dataframe thead th {\n",
       "        text-align: right;\n",
       "    }\n",
       "</style>\n",
       "<table border=\"1\" class=\"dataframe\">\n",
       "  <thead>\n",
       "    <tr style=\"text-align: right;\">\n",
       "      <th></th>\n",
       "      <th>beer_id</th>\n",
       "      <th>username</th>\n",
       "      <th>score</th>\n",
       "    </tr>\n",
       "  </thead>\n",
       "  <tbody>\n",
       "    <tr>\n",
       "      <th>0</th>\n",
       "      <td>62040</td>\n",
       "      <td>GregSVT</td>\n",
       "      <td>4.32</td>\n",
       "    </tr>\n",
       "    <tr>\n",
       "      <th>1</th>\n",
       "      <td>292393</td>\n",
       "      <td>NeroFiddled</td>\n",
       "      <td>4.14</td>\n",
       "    </tr>\n",
       "    <tr>\n",
       "      <th>2</th>\n",
       "      <td>55291</td>\n",
       "      <td>matjack85</td>\n",
       "      <td>1.90</td>\n",
       "    </tr>\n",
       "    <tr>\n",
       "      <th>3</th>\n",
       "      <td>223330</td>\n",
       "      <td>BlurryVisi0n</td>\n",
       "      <td>4.11</td>\n",
       "    </tr>\n",
       "    <tr>\n",
       "      <th>4</th>\n",
       "      <td>222637</td>\n",
       "      <td>Brutaltruth</td>\n",
       "      <td>3.34</td>\n",
       "    </tr>\n",
       "    <tr>\n",
       "      <th>...</th>\n",
       "      <td>...</td>\n",
       "      <td>...</td>\n",
       "      <td>...</td>\n",
       "    </tr>\n",
       "    <tr>\n",
       "      <th>15995</th>\n",
       "      <td>612</td>\n",
       "      <td>number1bum</td>\n",
       "      <td>3.68</td>\n",
       "    </tr>\n",
       "    <tr>\n",
       "      <th>15996</th>\n",
       "      <td>5</td>\n",
       "      <td>damndirtyape</td>\n",
       "      <td>3.78</td>\n",
       "    </tr>\n",
       "    <tr>\n",
       "      <th>15997</th>\n",
       "      <td>25608</td>\n",
       "      <td>CloudStrife</td>\n",
       "      <td>3.47</td>\n",
       "    </tr>\n",
       "    <tr>\n",
       "      <th>15998</th>\n",
       "      <td>30517</td>\n",
       "      <td>Thorpe429</td>\n",
       "      <td>4.37</td>\n",
       "    </tr>\n",
       "    <tr>\n",
       "      <th>15999</th>\n",
       "      <td>1834</td>\n",
       "      <td>mvanaskie13</td>\n",
       "      <td>3.10</td>\n",
       "    </tr>\n",
       "  </tbody>\n",
       "</table>\n",
       "<p>16000 rows × 3 columns</p>\n",
       "</div>"
      ]
     },
     "execution_count": 276,
     "metadata": {},
     "output_type": "execute_result"
    }
   ],
   "execution_count": 276
  },
  {
   "cell_type": "code",
   "id": "62652cc54307537a",
   "metadata": {
    "ExecuteTime": {
     "end_time": "2025-05-16T20:25:43.134173Z",
     "start_time": "2025-05-16T20:25:43.099459Z"
    }
   },
   "source": [
    "X_train = Dataset.load_from_df(df_train, reader=Reader(rating_scale=(0, 5)))\n",
    "trainset = X_train.build_full_trainset()\n",
    "X_test = Dataset.load_from_df(df_test, reader=Reader(rating_scale=(0, 5)))\n",
    "testset = X_test.build_full_trainset().build_testset()"
   ],
   "outputs": [],
   "execution_count": 277
  },
  {
   "cell_type": "code",
   "id": "499970f9b9e5022c",
   "metadata": {
    "ExecuteTime": {
     "end_time": "2025-05-16T20:25:43.379625Z",
     "start_time": "2025-05-16T20:25:43.225703Z"
    }
   },
   "source": [
    "algo = SVD(n_epochs=10, lr_all=0.005, reg_all=0.4)\n",
    "algo.fit(trainset)\n",
    "predictions = algo.test(testset)\n",
    "mae(predictions, verbose=True)\n",
    "mse(predictions, verbose=True)\n",
    "rmse(predictions, verbose=True)"
   ],
   "outputs": [
    {
     "name": "stdout",
     "output_type": "stream",
     "text": [
      "MAE:  0.6974\n",
      "MSE: 0.6957\n",
      "RMSE: 0.8341\n"
     ]
    },
    {
     "data": {
      "text/plain": [
       "0.8340850307794914"
      ]
     },
     "execution_count": 278,
     "metadata": {},
     "output_type": "execute_result"
    }
   ],
   "execution_count": 278
  },
  {
   "metadata": {
    "ExecuteTime": {
     "end_time": "2025-05-16T20:25:43.419178Z",
     "start_time": "2025-05-16T20:25:43.412647Z"
    }
   },
   "cell_type": "code",
   "source": [
    "K = 10\n",
    "top_k_preds = get_top_k(predictions, k=K)\n",
    "relevant_items = get_true_positives(testset, threshold=4.0)\n",
    "\n",
    "prec = precision_at_k(top_k_preds, relevant_items, k=K)\n",
    "hit = hit_rate_at_k(top_k_preds, relevant_items)\n",
    "\n",
    "print(f'Precision@{K}: {prec:.4f}')\n",
    "print(f'Hit Rate@{K}: {hit:.4f}')"
   ],
   "id": "e12e2a75e49c3a5f",
   "outputs": [
    {
     "name": "stdout",
     "output_type": "stream",
     "text": [
      "Precision@10: 0.1301\n",
      "Hit Rate@10: 1.0000\n"
     ]
    }
   ],
   "execution_count": 279
  },
  {
   "metadata": {},
   "cell_type": "markdown",
   "source": [
    "* For every user only 13% were actually relevant\n",
    "* Every user got at least one relevant recommendation"
   ],
   "id": "cab7d31e4a177f1f"
  },
  {
   "cell_type": "markdown",
   "id": "25b2beb6fcc2b413",
   "metadata": {},
   "source": [
    "# SVD while applying sentiment analysis results"
   ]
  },
  {
   "cell_type": "code",
   "id": "2b41fbb02f7afb4e",
   "metadata": {
    "ExecuteTime": {
     "end_time": "2025-05-16T20:25:43.483648Z",
     "start_time": "2025-05-16T20:25:43.481864Z"
    }
   },
   "source": "columns = [\"feel_true_rating\", \"look_true_rating\", \"smell_true_rating\", \"taste_true_rating\", \"overall\", \"score\", \"date\", \"text\"]",
   "outputs": [],
   "execution_count": 280
  },
  {
   "cell_type": "code",
   "id": "f577a772af9cd112",
   "metadata": {
    "ExecuteTime": {
     "end_time": "2025-05-16T20:25:43.683137Z",
     "start_time": "2025-05-16T20:25:43.544762Z"
    }
   },
   "source": [
    "train_df = pd.read_csv(\"../data/RecSys_AspectSentiment_train.csv\")\n",
    "test_df = pd.read_csv(\"../data/RecSys_AspectSentiment_test.csv\")"
   ],
   "outputs": [],
   "execution_count": 281
  },
  {
   "cell_type": "code",
   "id": "39f99b8e76ecb168",
   "metadata": {
    "ExecuteTime": {
     "end_time": "2025-05-16T20:25:43.710153Z",
     "start_time": "2025-05-16T20:25:43.706543Z"
    }
   },
   "source": [
    "# create new dataframe dropping columns from columns\n",
    "train_df1 = train_df.drop(columns=columns)\n",
    "test_df1 = test_df.drop(columns=columns)"
   ],
   "outputs": [],
   "execution_count": 282
  },
  {
   "cell_type": "code",
   "id": "623975325cfe8b79",
   "metadata": {
    "ExecuteTime": {
     "end_time": "2025-05-16T20:25:43.773402Z",
     "start_time": "2025-05-16T20:25:43.769026Z"
    }
   },
   "source": [
    "# compute score for train_merged1 by computing the average of the predicted ratings\n",
    "train_df1['score'] = train_df1[['feel_predicted_rating', 'look_predicted_rating', 'smell_predicted_rating', 'taste_predicted_rating']].mean(axis=1)"
   ],
   "outputs": [],
   "execution_count": 283
  },
  {
   "cell_type": "code",
   "id": "86193437e8bd30e7",
   "metadata": {
    "ExecuteTime": {
     "end_time": "2025-05-16T20:25:43.836489Z",
     "start_time": "2025-05-16T20:25:43.832920Z"
    }
   },
   "source": "test_df1['score'] = test_df1[['feel_predicted_rating', 'look_predicted_rating', 'smell_predicted_rating', 'taste_predicted_rating']].mean(axis=1)",
   "outputs": [],
   "execution_count": 284
  },
  {
   "cell_type": "code",
   "id": "d104d1cadb8ffe5d",
   "metadata": {
    "ExecuteTime": {
     "end_time": "2025-05-16T20:25:43.936217Z",
     "start_time": "2025-05-16T20:25:43.897071Z"
    }
   },
   "source": [
    "X_train1 = Dataset.load_from_df(train_df1[[\"username\", \"beer_id\", \"score\"]], reader=Reader(rating_scale=(0, 5)))\n",
    "X_test1 = Dataset.load_from_df(test_df1[[\"username\", \"beer_id\", \"score\"]], reader=Reader(rating_scale=(0, 5)))\n",
    "trainset1 = X_train1.build_full_trainset()\n",
    "testset1 = X_test1.build_full_trainset().build_testset()"
   ],
   "outputs": [],
   "execution_count": 285
  },
  {
   "cell_type": "code",
   "id": "bb5a61f75c307fc3",
   "metadata": {
    "ExecuteTime": {
     "end_time": "2025-05-16T20:25:44.126426Z",
     "start_time": "2025-05-16T20:25:43.965527Z"
    }
   },
   "source": [
    "# why are metrics fluctuating?\n",
    "# Perform SVD algorithm\n",
    "algo = SVD(n_epochs=10, lr_all=0.005, reg_all=0.4)\n",
    "algo.fit(trainset1)\n",
    "predictions1 = algo.test(testset1)\n",
    "mae(predictions1, verbose=True)\n",
    "mse(predictions1, verbose=True)\n",
    "rmse(predictions1, verbose=True)"
   ],
   "outputs": [
    {
     "name": "stdout",
     "output_type": "stream",
     "text": [
      "MAE:  0.4443\n",
      "MSE: 0.2818\n",
      "RMSE: 0.5308\n"
     ]
    },
    {
     "data": {
      "text/plain": [
       "0.5308068825457658"
      ]
     },
     "execution_count": 286,
     "metadata": {},
     "output_type": "execute_result"
    }
   ],
   "execution_count": 286
  },
  {
   "metadata": {
    "ExecuteTime": {
     "end_time": "2025-05-16T20:25:44.165704Z",
     "start_time": "2025-05-16T20:25:44.159029Z"
    }
   },
   "cell_type": "code",
   "source": [
    "K = 10\n",
    "top_k_preds = get_top_k(predictions1, k=K)\n",
    "relevant_items = get_true_positives(testset1, threshold=4.0)\n",
    "\n",
    "prec = precision_at_k(top_k_preds, relevant_items, k=K)\n",
    "hit = hit_rate_at_k(top_k_preds, relevant_items)\n",
    "\n",
    "print(f'Precision@{K}: {prec:.4f}')\n",
    "print(f'Hit Rate@{K}: {hit:.4f}')"
   ],
   "id": "f8fbf4149f1c78ab",
   "outputs": [
    {
     "name": "stdout",
     "output_type": "stream",
     "text": [
      "Precision@10: 0.1348\n",
      "Hit Rate@10: 1.0000\n"
     ]
    }
   ],
   "execution_count": 287
  },
  {
   "cell_type": "code",
   "id": "e8e70659b4e33f81",
   "metadata": {
    "ExecuteTime": {
     "end_time": "2025-05-16T20:25:49.472187Z",
     "start_time": "2025-05-16T20:25:44.223704Z"
    }
   },
   "source": [
    "# Perform GridSearch on the SVD algorithm\n",
    "from surprise.model_selection import GridSearchCV\n",
    "param_grid = {'n_epochs': [10, 20], 'lr_all': [0.005, 0.01], 'reg_all': [0.4, 0.6]}\n",
    "gs = GridSearchCV(SVD, param_grid, measures=['rmse', 'mae', 'mse'], cv=5)\n",
    "gs.fit(X_train1)\n",
    "print(gs.best_params['rmse'])"
   ],
   "outputs": [
    {
     "name": "stdout",
     "output_type": "stream",
     "text": [
      "{'n_epochs': 20, 'lr_all': 0.01, 'reg_all': 0.4}\n"
     ]
    }
   ],
   "execution_count": 288
  },
  {
   "cell_type": "code",
   "id": "dd54de0102167b07",
   "metadata": {
    "ExecuteTime": {
     "end_time": "2025-05-16T20:25:49.682522Z",
     "start_time": "2025-05-16T20:25:49.497109Z"
    }
   },
   "source": [
    "algo = SVD(n_epochs=20, lr_all=0.01, reg_all=0.4)\n",
    "algo.fit(trainset1)\n",
    "predictions1 = algo.test(testset1)\n",
    "mae(predictions1, verbose=True)\n",
    "mse(predictions1, verbose=True)\n",
    "rmse(predictions1, verbose=True)"
   ],
   "outputs": [
    {
     "name": "stdout",
     "output_type": "stream",
     "text": [
      "MAE:  0.3821\n",
      "MSE: 0.2265\n",
      "RMSE: 0.4759\n"
     ]
    },
    {
     "data": {
      "text/plain": [
       "0.47591290445964357"
      ]
     },
     "execution_count": 289,
     "metadata": {},
     "output_type": "execute_result"
    }
   ],
   "execution_count": 289
  },
  {
   "metadata": {
    "ExecuteTime": {
     "end_time": "2025-05-16T20:25:49.726265Z",
     "start_time": "2025-05-16T20:25:49.716806Z"
    }
   },
   "cell_type": "code",
   "source": [
    "K = 10\n",
    "top_k_preds = get_top_k(predictions1, k=K)\n",
    "relevant_items = get_true_positives(testset1, threshold=4.0)\n",
    "\n",
    "prec = precision_at_k(top_k_preds, relevant_items, k=K)\n",
    "hit = hit_rate_at_k(top_k_preds, relevant_items)\n",
    "\n",
    "print(f'Precision@{K}: {prec:.4f}')\n",
    "print(f'Hit Rate@{K}: {hit:.4f}')"
   ],
   "id": "a4ffdc29fa42b12b",
   "outputs": [
    {
     "name": "stdout",
     "output_type": "stream",
     "text": [
      "Precision@10: 0.1352\n",
      "Hit Rate@10: 1.0000\n"
     ]
    }
   ],
   "execution_count": 290
  }
 ],
 "metadata": {
  "kernelspec": {
   "display_name": "Python 3 (ipykernel)",
   "language": "python",
   "name": "python3"
  },
  "language_info": {
   "codemirror_mode": {
    "name": "ipython",
    "version": 3
   },
   "file_extension": ".py",
   "mimetype": "text/x-python",
   "name": "python",
   "nbconvert_exporter": "python",
   "pygments_lexer": "ipython3",
   "version": "3.12.7"
  }
 },
 "nbformat": 4,
 "nbformat_minor": 5
}
