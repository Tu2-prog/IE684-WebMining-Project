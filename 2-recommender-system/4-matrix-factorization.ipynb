{
 "cells": [
  {
   "cell_type": "code",
   "id": "initial_id",
   "metadata": {
    "collapsed": true,
    "ExecuteTime": {
     "end_time": "2025-05-12T18:51:40.460401Z",
     "start_time": "2025-05-12T18:51:40.457019Z"
    }
   },
   "source": [
    "import surprise\n",
    "import pandas as pd\n",
    "from surprise import Dataset\n",
    "from surprise import Reader\n",
    "from surprise import SVD\n",
    "from surprise.accuracy import mae, rmse, mse"
   ],
   "outputs": [],
   "execution_count": 189
  },
  {
   "metadata": {
    "ExecuteTime": {
     "end_time": "2025-05-12T18:51:40.520617Z",
     "start_time": "2025-05-12T18:51:40.518626Z"
    }
   },
   "cell_type": "code",
   "source": [
    "import random\n",
    "# set random seed\n",
    "my_seed = 0\n",
    "random.seed(my_seed)"
   ],
   "id": "d3f79c7cd1a4e5ec",
   "outputs": [],
   "execution_count": 190
  },
  {
   "metadata": {},
   "cell_type": "markdown",
   "source": "# Baseline SVD model",
   "id": "66bade5a25f95e92"
  },
  {
   "metadata": {
    "ExecuteTime": {
     "end_time": "2025-05-12T18:51:41.004876Z",
     "start_time": "2025-05-12T18:51:40.595177Z"
    }
   },
   "cell_type": "code",
   "source": [
    "df = pd.read_csv(\"../data/reviews_stratified_sampled.csv\")\n",
    "col = [\"date\", \"text\", \"look\", \"smell\", \"taste\", \"feel\", \"overall\", \"has_smell\", \"has_taste\", \"has_look\", \"has_feel\", \"mentioned_aspects\", \"sentiment\"]\n",
    "df = df.drop(col, axis=1)"
   ],
   "id": "15c19f29f9fdd545",
   "outputs": [],
   "execution_count": 191
  },
  {
   "metadata": {
    "ExecuteTime": {
     "end_time": "2025-05-12T18:51:41.376277Z",
     "start_time": "2025-05-12T18:51:41.036428Z"
    }
   },
   "cell_type": "code",
   "source": [
    "data = Dataset.load_from_df(df[['username','beer_id','score']], Reader(rating_scale=(0, 5)))\n",
    "X_train, X_test = surprise.model_selection.train_test_split(data, test_size=0.2, random_state=my_seed)\n"
   ],
   "id": "62652cc54307537a",
   "outputs": [],
   "execution_count": 192
  },
  {
   "metadata": {
    "ExecuteTime": {
     "end_time": "2025-05-12T18:51:41.639420Z",
     "start_time": "2025-05-12T18:51:41.409742Z"
    }
   },
   "cell_type": "code",
   "source": [
    "algo = SVD(n_epochs=10, lr_all=0.005, reg_all=0.4)\n",
    "algo.fit(X_train)\n",
    "predictions = algo.test(X_test)\n",
    "mae(predictions, verbose=True)\n",
    "mse(predictions, verbose=True)\n",
    "rmse(predictions, verbose=True)"
   ],
   "id": "499970f9b9e5022c",
   "outputs": [
    {
     "name": "stdout",
     "output_type": "stream",
     "text": [
      "MAE:  0.8178\n",
      "MSE: 0.8802\n",
      "RMSE: 0.9382\n"
     ]
    },
    {
     "data": {
      "text/plain": [
       "0.9381952164007703"
      ]
     },
     "execution_count": 193,
     "metadata": {},
     "output_type": "execute_result"
    }
   ],
   "execution_count": 193
  },
  {
   "metadata": {
    "ExecuteTime": {
     "end_time": "2025-05-12T18:54:00.877186Z",
     "start_time": "2025-05-12T18:54:00.860280Z"
    }
   },
   "cell_type": "code",
   "source": [
    "raw_ratings = data.raw_ratings\n",
    "\n",
    "# shuffle ratings if you want\n",
    "random.shuffle(raw_ratings)\n",
    "\n",
    "# A = 80% of the data, B = 20% of the data\n",
    "threshold = int(0.8 * len(raw_ratings))\n",
    "A_raw_ratings = raw_ratings[:threshold]\n",
    "B_raw_ratings = raw_ratings[threshold:]\n",
    "\n",
    "data.raw_ratings = A_raw_ratings  # data is now the set A"
   ],
   "id": "6808bda85a578587",
   "outputs": [],
   "execution_count": 212
  },
  {
   "metadata": {
    "ExecuteTime": {
     "end_time": "2025-05-12T18:54:16.417007Z",
     "start_time": "2025-05-12T18:54:09.600359Z"
    }
   },
   "cell_type": "code",
   "source": [
    "from surprise.model_selection import GridSearchCV\n",
    "param_grid = {'n_epochs': [10, 20], 'lr_all': [0.005, 0.01], 'reg_all': [0.4, 0.6]}\n",
    "gs = GridSearchCV(SVD, param_grid, measures=['rmse', 'mae', 'mse'], cv=5)\n",
    "gs.fit(data)\n",
    "print(gs.best_score['rmse'])\n",
    "print(gs.best_score['mae'])\n",
    "print(gs.best_score['mse'])\n",
    "print(gs.best_params['rmse'])"
   ],
   "id": "75121d658d01ea5c",
   "outputs": [
    {
     "name": "stdout",
     "output_type": "stream",
     "text": [
      "0.8891970884889793\n",
      "0.7526488553678874\n",
      "0.7906914975251021\n",
      "{'n_epochs': 20, 'lr_all': 0.01, 'reg_all': 0.4}\n"
     ]
    }
   ],
   "execution_count": 214
  },
  {
   "metadata": {
    "ExecuteTime": {
     "end_time": "2025-05-12T18:54:36.769390Z",
     "start_time": "2025-05-12T18:54:36.510304Z"
    }
   },
   "cell_type": "code",
   "source": [
    "algo = SVD(n_epochs=20, lr_all=0.01, reg_all=0.4)\n",
    "algo.fit(X_train)\n",
    "predictions = algo.test(X_test)\n",
    "mae(predictions, verbose=True)\n",
    "mse(predictions, verbose=True)\n",
    "rmse(predictions, verbose=True)"
   ],
   "id": "2b6574f31766680b",
   "outputs": [
    {
     "name": "stdout",
     "output_type": "stream",
     "text": [
      "MAE:  0.7346\n",
      "MSE: 0.7570\n",
      "RMSE: 0.8700\n"
     ]
    },
    {
     "data": {
      "text/plain": [
       "0.8700293716854168"
      ]
     },
     "execution_count": 215,
     "metadata": {},
     "output_type": "execute_result"
    }
   ],
   "execution_count": 215
  },
  {
   "metadata": {},
   "cell_type": "markdown",
   "source": "# SVD while applying sentiment analysis results",
   "id": "25b2beb6fcc2b413"
  },
  {
   "metadata": {
    "ExecuteTime": {
     "end_time": "2025-05-12T18:51:41.679870Z",
     "start_time": "2025-05-12T18:51:41.676658Z"
    }
   },
   "cell_type": "code",
   "source": [
    "columns = [\"feel_true_rating\", \"look_true_rating\", \"smell_true_rating\", \"taste_true_rating\", \"overall\", \"score\", \"aspect\", \"date\", \"text\", \"true_rating\"]\n",
    "columns2 = [\"feel_true_rating\", \"look_true_rating\", \"smell_true_rating\", \"taste_true_rating\", \"overall\", \"aspect\", \"date\", \"text\", \"true_rating\"]"
   ],
   "id": "2b41fbb02f7afb4e",
   "outputs": [],
   "execution_count": 194
  },
  {
   "metadata": {
    "ExecuteTime": {
     "end_time": "2025-05-12T18:51:41.781614Z",
     "start_time": "2025-05-12T18:51:41.747197Z"
    }
   },
   "cell_type": "code",
   "source": [
    "train_df = pd.read_csv(\"../data/train_wide.csv\")\n",
    "test_df = pd.read_csv(\"../data/test_wide.csv\")"
   ],
   "id": "f577a772af9cd112",
   "outputs": [],
   "execution_count": 195
  },
  {
   "metadata": {
    "ExecuteTime": {
     "end_time": "2025-05-12T18:51:49.949407Z",
     "start_time": "2025-05-12T18:51:41.819702Z"
    }
   },
   "cell_type": "code",
   "source": [
    "model_evaluation_df = pd.read_csv(\"../data/model_evaluation_results.csv\")\n",
    "model_evaluation_df = model_evaluation_df.drop_duplicates(subset=['beer_id', 'username'])"
   ],
   "id": "6f6495ca6ad613ef",
   "outputs": [],
   "execution_count": 196
  },
  {
   "metadata": {
    "ExecuteTime": {
     "end_time": "2025-05-12T18:51:50.035523Z",
     "start_time": "2025-05-12T18:51:49.989628Z"
    }
   },
   "cell_type": "code",
   "source": [
    "# Perform a left join of train_df with model_evaluation_df on 'beer_id' and 'username'\n",
    "train_merged = pd.merge(train_df, model_evaluation_df, on=['beer_id', 'username'], how='left')\n",
    "\n",
    "# Perform a left join of test_df with model_evaluation_df on 'beer_id' and 'username'\n",
    "test_merged = pd.merge(test_df, model_evaluation_df, on=['beer_id', 'username'], how='left')"
   ],
   "id": "99fc5f30aaa2d0a",
   "outputs": [],
   "execution_count": 197
  },
  {
   "metadata": {
    "ExecuteTime": {
     "end_time": "2025-05-12T18:51:50.082359Z",
     "start_time": "2025-05-12T18:51:50.077897Z"
    }
   },
   "cell_type": "code",
   "source": [
    "# create new dataframe dropping columns from columns\n",
    "train_merged1 = train_merged.drop(columns=columns)\n",
    "test_merged1 = test_merged.drop(columns=columns)"
   ],
   "id": "39f99b8e76ecb168",
   "outputs": [],
   "execution_count": 198
  },
  {
   "metadata": {
    "ExecuteTime": {
     "end_time": "2025-05-12T18:51:50.155565Z",
     "start_time": "2025-05-12T18:51:50.150870Z"
    }
   },
   "cell_type": "code",
   "source": [
    "# compute score for train_merged1 by computing the average of the predicted ratings\n",
    "train_merged1['score'] = train_merged1[['feel_predicted_rating', 'look_predicted_rating', 'smell_predicted_rating', 'taste_predicted_rating', 'predicted_rating']].mean(axis=1)"
   ],
   "id": "623975325cfe8b79",
   "outputs": [],
   "execution_count": 199
  },
  {
   "metadata": {
    "ExecuteTime": {
     "end_time": "2025-05-12T18:51:50.226276Z",
     "start_time": "2025-05-12T18:51:50.221189Z"
    }
   },
   "cell_type": "code",
   "source": "test_merged1['score'] = test_merged1[['feel_predicted_rating', 'look_predicted_rating', 'smell_predicted_rating', 'taste_predicted_rating', 'predicted_rating']].mean(axis=1)",
   "id": "86193437e8bd30e7",
   "outputs": [],
   "execution_count": 200
  },
  {
   "metadata": {
    "ExecuteTime": {
     "end_time": "2025-05-12T18:51:50.358245Z",
     "start_time": "2025-05-12T18:51:50.295733Z"
    }
   },
   "cell_type": "code",
   "source": [
    "X_train1 = Dataset.load_from_df(train_merged1[[\"username\", \"beer_id\", \"score\"]], reader=Reader(rating_scale=(0, 5)))\n",
    "X_test1 = Dataset.load_from_df(test_merged1[[\"username\", \"beer_id\", \"score\"]], reader=Reader(rating_scale=(0, 5)))\n",
    "trainset1 = X_train1.build_full_trainset()\n",
    "testset1 = X_test1.build_full_trainset().build_testset()"
   ],
   "id": "d104d1cadb8ffe5d",
   "outputs": [],
   "execution_count": 201
  },
  {
   "metadata": {
    "ExecuteTime": {
     "end_time": "2025-05-12T18:51:50.659464Z",
     "start_time": "2025-05-12T18:51:50.398206Z"
    }
   },
   "cell_type": "code",
   "source": [
    "# why are metrics fluctuating?\n",
    "# Perform SVD algorithm\n",
    "algo = SVD(n_epochs=10, lr_all=0.005, reg_all=0.4)\n",
    "algo.fit(trainset1)\n",
    "predictions1 = algo.test(testset1)\n",
    "mae(predictions1, verbose=True)\n",
    "mse(predictions1, verbose=True)\n",
    "rmse(predictions1, verbose=True)"
   ],
   "id": "bb5a61f75c307fc3",
   "outputs": [
    {
     "name": "stdout",
     "output_type": "stream",
     "text": [
      "MAE:  0.4967\n",
      "MSE: 0.3508\n",
      "RMSE: 0.5922\n"
     ]
    },
    {
     "data": {
      "text/plain": [
       "0.5922449004932442"
      ]
     },
     "execution_count": 202,
     "metadata": {},
     "output_type": "execute_result"
    }
   ],
   "execution_count": 202
  },
  {
   "metadata": {
    "ExecuteTime": {
     "end_time": "2025-05-12T18:52:01.708796Z",
     "start_time": "2025-05-12T18:51:51.191902Z"
    }
   },
   "cell_type": "code",
   "source": [
    "# Perform GridSearch on the SVD algorithm\n",
    "from surprise.model_selection import GridSearchCV\n",
    "param_grid = {'n_epochs': [10, 20], 'lr_all': [0.005, 0.01], 'reg_all': [0.4, 0.6]}\n",
    "gs = GridSearchCV(SVD, param_grid, measures=['rmse', 'mae', 'mse'], cv=5)\n",
    "gs.fit(X_train1)\n",
    "print(gs.best_score['rmse'])\n",
    "print(gs.best_score['mae'])\n",
    "print(gs.best_score['mse'])\n",
    "print(gs.best_params['rmse'])"
   ],
   "id": "e8e70659b4e33f81",
   "outputs": [
    {
     "name": "stdout",
     "output_type": "stream",
     "text": [
      "0.5390181478192837\n",
      "0.4395770743682167\n",
      "0.29056630444390463\n",
      "{'n_epochs': 20, 'lr_all': 0.01, 'reg_all': 0.4}\n"
     ]
    }
   ],
   "execution_count": 203
  },
  {
   "metadata": {
    "ExecuteTime": {
     "end_time": "2025-05-12T18:52:02.154201Z",
     "start_time": "2025-05-12T18:52:01.752686Z"
    }
   },
   "cell_type": "code",
   "source": [
    "algo = SVD(n_epochs=20, lr_all=0.01, reg_all=0.4)\n",
    "algo.fit(trainset1)\n",
    "predictions1 = algo.test(testset1)\n",
    "mae(predictions1, verbose=True)\n",
    "mse(predictions1, verbose=True)\n",
    "rmse(predictions1, verbose=True)"
   ],
   "id": "dd54de0102167b07",
   "outputs": [
    {
     "name": "stdout",
     "output_type": "stream",
     "text": [
      "MAE:  0.4247\n",
      "MSE: 0.2783\n",
      "RMSE: 0.5276\n"
     ]
    },
    {
     "data": {
      "text/plain": [
       "0.5275729470256693"
      ]
     },
     "execution_count": 204,
     "metadata": {},
     "output_type": "execute_result"
    }
   ],
   "execution_count": 204
  },
  {
   "metadata": {},
   "cell_type": "markdown",
   "source": "# Model where average takes original score",
   "id": "c1043b597316f91a"
  },
  {
   "metadata": {
    "ExecuteTime": {
     "end_time": "2025-05-12T18:52:02.188055Z",
     "start_time": "2025-05-12T18:52:02.182515Z"
    }
   },
   "cell_type": "code",
   "source": [
    "train_merged2 = train_merged.drop(columns=columns2)\n",
    "test_merged2 = test_merged.drop(columns=columns2)"
   ],
   "id": "bd069b412d940388",
   "outputs": [],
   "execution_count": 205
  },
  {
   "metadata": {
    "ExecuteTime": {
     "end_time": "2025-05-12T18:52:02.266426Z",
     "start_time": "2025-05-12T18:52:02.255280Z"
    }
   },
   "cell_type": "code",
   "source": [
    "# set score to averge of the predicted ratings and the score itself\n",
    "train_merged2['score'] = train_merged2[['feel_predicted_rating', 'look_predicted_rating', 'smell_predicted_rating', 'taste_predicted_rating', 'predicted_rating', 'score']].mean(axis=1)\n",
    "test_merged2['score'] = test_merged2[['feel_predicted_rating', 'look_predicted_rating', 'smell_predicted_rating', 'taste_predicted_rating', 'predicted_rating', 'score']].mean(axis=1)"
   ],
   "id": "a9eed489f240cf59",
   "outputs": [],
   "execution_count": 206
  },
  {
   "metadata": {
    "ExecuteTime": {
     "end_time": "2025-05-12T18:52:02.395282Z",
     "start_time": "2025-05-12T18:52:02.325086Z"
    }
   },
   "cell_type": "code",
   "source": [
    "X_train2 = Dataset.load_from_df(train_merged1[[\"username\", \"beer_id\", \"score\"]], reader=Reader(rating_scale=(0, 5)))\n",
    "X_test2 = Dataset.load_from_df(test_merged1[[\"username\", \"beer_id\", \"score\"]], reader=Reader(rating_scale=(0, 5)))\n",
    "trainset2 = X_train2.build_full_trainset()\n",
    "testset2 = X_test2.build_full_trainset().build_testset()"
   ],
   "id": "9d0672768120483c",
   "outputs": [],
   "execution_count": 207
  },
  {
   "metadata": {
    "ExecuteTime": {
     "end_time": "2025-05-12T18:52:02.667793Z",
     "start_time": "2025-05-12T18:52:02.425284Z"
    }
   },
   "cell_type": "code",
   "source": [
    "# why are metrics fluctuating?\n",
    "# Perform SVD algorithm\n",
    "algo = SVD(n_epochs=10, lr_all=0.005, reg_all=0.4)\n",
    "algo.fit(trainset2)\n",
    "predictions2 = algo.test(testset2)\n",
    "mae(predictions2, verbose=True)\n",
    "mse(predictions2, verbose=True)\n",
    "rmse(predictions2, verbose=True)"
   ],
   "id": "47f2eb7a029302cc",
   "outputs": [
    {
     "name": "stdout",
     "output_type": "stream",
     "text": [
      "MAE:  0.4970\n",
      "MSE: 0.3516\n",
      "RMSE: 0.5929\n"
     ]
    },
    {
     "data": {
      "text/plain": [
       "0.5929178576988832"
      ]
     },
     "execution_count": 208,
     "metadata": {},
     "output_type": "execute_result"
    }
   ],
   "execution_count": 208
  },
  {
   "metadata": {
    "ExecuteTime": {
     "end_time": "2025-05-12T18:52:13.167335Z",
     "start_time": "2025-05-12T18:52:02.709213Z"
    }
   },
   "cell_type": "code",
   "source": [
    "# Perform GridSearch on the SVD algorithm\n",
    "from surprise.model_selection import GridSearchCV\n",
    "param_grid = {'n_epochs': [10, 20], 'lr_all': [0.005, 0.01], 'reg_all': [0.4, 0.6]}\n",
    "gs = GridSearchCV(SVD, param_grid, measures=['rmse', 'mae', 'mse'], cv=5)\n",
    "gs.fit(X_train2)\n",
    "print(gs.best_score['rmse'])\n",
    "print(gs.best_score['mae'])\n",
    "print(gs.best_score['mse'])\n",
    "print(gs.best_params['rmse'])"
   ],
   "id": "bfeed081b8f9ef78",
   "outputs": [
    {
     "name": "stdout",
     "output_type": "stream",
     "text": [
      "0.5390246978462327\n",
      "0.4394882958713289\n",
      "0.2905716897654559\n",
      "{'n_epochs': 20, 'lr_all': 0.01, 'reg_all': 0.4}\n"
     ]
    }
   ],
   "execution_count": 209
  },
  {
   "metadata": {
    "ExecuteTime": {
     "end_time": "2025-05-12T18:52:13.569592Z",
     "start_time": "2025-05-12T18:52:13.204040Z"
    }
   },
   "cell_type": "code",
   "source": [
    "algo = SVD(n_epochs=20, lr_all=0.01, reg_all=0.4)\n",
    "algo.fit(trainset2)\n",
    "predictions2 = algo.test(testset2)\n",
    "mae(predictions2, verbose=True)\n",
    "mse(predictions2, verbose=True)\n",
    "rmse(predictions2, verbose=True)"
   ],
   "id": "2c5dfd38a9ad64d7",
   "outputs": [
    {
     "name": "stdout",
     "output_type": "stream",
     "text": [
      "MAE:  0.4251\n",
      "MSE: 0.2784\n",
      "RMSE: 0.5277\n"
     ]
    },
    {
     "data": {
      "text/plain": [
       "0.5276769065166959"
      ]
     },
     "execution_count": 210,
     "metadata": {},
     "output_type": "execute_result"
    }
   ],
   "execution_count": 210
  }
 ],
 "metadata": {
  "kernelspec": {
   "display_name": "Python 3",
   "language": "python",
   "name": "python3"
  },
  "language_info": {
   "codemirror_mode": {
    "name": "ipython",
    "version": 2
   },
   "file_extension": ".py",
   "mimetype": "text/x-python",
   "name": "python",
   "nbconvert_exporter": "python",
   "pygments_lexer": "ipython2",
   "version": "2.7.6"
  }
 },
 "nbformat": 4,
 "nbformat_minor": 5
}
