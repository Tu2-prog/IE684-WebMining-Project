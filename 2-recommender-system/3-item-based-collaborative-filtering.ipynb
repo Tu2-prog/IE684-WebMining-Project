{
 "cells": [
  {
   "metadata": {},
   "cell_type": "markdown",
   "source": "# Item-Based Collaborative Filtering",
   "id": "66bef1c26222fda6"
  },
  {
   "cell_type": "code",
   "id": "initial_id",
   "metadata": {
    "collapsed": true,
    "ExecuteTime": {
     "end_time": "2025-05-08T18:54:12.732692Z",
     "start_time": "2025-05-08T18:54:12.728856Z"
    }
   },
   "source": [
    "import pandas as pd\n",
    "from surprise.model_selection import train_test_split\n",
    "import matplotlib.pyplot as plt\n",
    "import pickle"
   ],
   "outputs": [],
   "execution_count": 23
  },
  {
   "metadata": {},
   "cell_type": "markdown",
   "source": "# Setting the seed for reprodcuibility",
   "id": "98525b1932f57072"
  },
  {
   "metadata": {
    "ExecuteTime": {
     "end_time": "2025-05-08T18:54:12.785055Z",
     "start_time": "2025-05-08T18:54:12.782743Z"
    }
   },
   "cell_type": "code",
   "source": [
    "# we set a random seed here to make the results in this notebook reproducible\n",
    "import random\n",
    "import numpy as np\n",
    "\n",
    "my_seed = 0\n",
    "random.seed(my_seed)\n",
    "np.random.seed(my_seed)"
   ],
   "id": "2c78bf4c061dce4d",
   "outputs": [],
   "execution_count": 24
  },
  {
   "metadata": {},
   "cell_type": "markdown",
   "source": "# Reading data",
   "id": "19dba2e0ce1981a7"
  },
  {
   "metadata": {
    "ExecuteTime": {
     "end_time": "2025-05-08T18:54:13.138884Z",
     "start_time": "2025-05-08T18:54:12.834709Z"
    }
   },
   "cell_type": "code",
   "source": [
    "df = pd.read_csv('../data/reviews_stratified_sampled.csv')\n",
    "df"
   ],
   "id": "f8126494ed2c32ba",
   "outputs": [
    {
     "data": {
      "text/plain": [
       "       beer_id          username        date  \\\n",
       "0         1428           Aethien  2012-02-12   \n",
       "1         4351        kojevergas  2011-07-31   \n",
       "2        70485           CMUbrew  2012-03-10   \n",
       "3        27069         maximum12  2010-05-12   \n",
       "4        44788       HarleyRider  2010-06-26   \n",
       "...        ...               ...         ...   \n",
       "27697    90141  BlackBelt5112203  2013-07-26   \n",
       "27698     2128     woodychandler  2011-08-08   \n",
       "27699    19216          05Harley  2011-02-25   \n",
       "27700    41951   brewdlyhooked13  2008-07-19   \n",
       "27701    98387         superspak  2014-02-12   \n",
       "\n",
       "                                                    text  look  smell  taste  \\\n",
       "0      poured into a tulip, it looks a nice golden ye...  3.00    1.5    1.5   \n",
       "1      can served into norrebro bryghus stemware in c...  2.50    2.0    2.0   \n",
       "2      reviewed from notes 500ml can poured into a pl...  3.00    1.0    1.0   \n",
       "3      rec'd a bottle of this unbidden in a recent tr...  2.50    2.0    2.0   \n",
       "4      heading out on the boat my wife brings home a ...  3.00    1.0    1.0   \n",
       "...                                                  ...   ...    ...    ...   \n",
       "27697  5 oz pour into a tasting glass on tap at the w...  4.25    4.5    4.5   \n",
       "27698  an afternoon of aus beers continued at my aunt...  4.00    4.0    4.0   \n",
       "27699  bottled on: (should be on the bottom right han...  5.00    4.0    4.0   \n",
       "27700  appearance - pours a dark reddish caramel with...  4.00    4.0    4.0   \n",
       "27701  22 ounce bottle into tulip glass, bottled on 1...  4.00    4.5    4.0   \n",
       "\n",
       "       feel  overall  score sentiment  has_look  has_smell  has_taste  \\\n",
       "0       2.0      2.0   1.74  negative      True       True       True   \n",
       "1       1.5      2.0   1.98  negative      True       True       True   \n",
       "2       1.5      1.0   1.17  negative      True       True       True   \n",
       "3       2.0      1.0   1.83  negative      True       True       True   \n",
       "4       3.0      2.0   1.52  negative      True       True       True   \n",
       "...     ...      ...    ...       ...       ...        ...        ...   \n",
       "27697   4.0      4.5   4.44  positive      True       True       True   \n",
       "27698   4.0      4.0   4.00  positive      True       True       True   \n",
       "27699   4.0      4.0   4.06  positive      True       True       True   \n",
       "27700   4.5      5.0   4.25  positive      True       True       True   \n",
       "27701   4.0      4.5   4.22  positive      True       True       True   \n",
       "\n",
       "       has_feel         mentioned_aspects  \n",
       "0          True  look, smell, taste, feel  \n",
       "1          True  look, smell, taste, feel  \n",
       "2          True  look, smell, taste, feel  \n",
       "3          True  look, smell, taste, feel  \n",
       "4          True  look, smell, taste, feel  \n",
       "...         ...                       ...  \n",
       "27697      True  look, smell, taste, feel  \n",
       "27698      True  look, smell, taste, feel  \n",
       "27699      True  look, smell, taste, feel  \n",
       "27700      True  look, smell, taste, feel  \n",
       "27701      True  look, smell, taste, feel  \n",
       "\n",
       "[27702 rows x 16 columns]"
      ],
      "text/html": [
       "<div>\n",
       "<style scoped>\n",
       "    .dataframe tbody tr th:only-of-type {\n",
       "        vertical-align: middle;\n",
       "    }\n",
       "\n",
       "    .dataframe tbody tr th {\n",
       "        vertical-align: top;\n",
       "    }\n",
       "\n",
       "    .dataframe thead th {\n",
       "        text-align: right;\n",
       "    }\n",
       "</style>\n",
       "<table border=\"1\" class=\"dataframe\">\n",
       "  <thead>\n",
       "    <tr style=\"text-align: right;\">\n",
       "      <th></th>\n",
       "      <th>beer_id</th>\n",
       "      <th>username</th>\n",
       "      <th>date</th>\n",
       "      <th>text</th>\n",
       "      <th>look</th>\n",
       "      <th>smell</th>\n",
       "      <th>taste</th>\n",
       "      <th>feel</th>\n",
       "      <th>overall</th>\n",
       "      <th>score</th>\n",
       "      <th>sentiment</th>\n",
       "      <th>has_look</th>\n",
       "      <th>has_smell</th>\n",
       "      <th>has_taste</th>\n",
       "      <th>has_feel</th>\n",
       "      <th>mentioned_aspects</th>\n",
       "    </tr>\n",
       "  </thead>\n",
       "  <tbody>\n",
       "    <tr>\n",
       "      <th>0</th>\n",
       "      <td>1428</td>\n",
       "      <td>Aethien</td>\n",
       "      <td>2012-02-12</td>\n",
       "      <td>poured into a tulip, it looks a nice golden ye...</td>\n",
       "      <td>3.00</td>\n",
       "      <td>1.5</td>\n",
       "      <td>1.5</td>\n",
       "      <td>2.0</td>\n",
       "      <td>2.0</td>\n",
       "      <td>1.74</td>\n",
       "      <td>negative</td>\n",
       "      <td>True</td>\n",
       "      <td>True</td>\n",
       "      <td>True</td>\n",
       "      <td>True</td>\n",
       "      <td>look, smell, taste, feel</td>\n",
       "    </tr>\n",
       "    <tr>\n",
       "      <th>1</th>\n",
       "      <td>4351</td>\n",
       "      <td>kojevergas</td>\n",
       "      <td>2011-07-31</td>\n",
       "      <td>can served into norrebro bryghus stemware in c...</td>\n",
       "      <td>2.50</td>\n",
       "      <td>2.0</td>\n",
       "      <td>2.0</td>\n",
       "      <td>1.5</td>\n",
       "      <td>2.0</td>\n",
       "      <td>1.98</td>\n",
       "      <td>negative</td>\n",
       "      <td>True</td>\n",
       "      <td>True</td>\n",
       "      <td>True</td>\n",
       "      <td>True</td>\n",
       "      <td>look, smell, taste, feel</td>\n",
       "    </tr>\n",
       "    <tr>\n",
       "      <th>2</th>\n",
       "      <td>70485</td>\n",
       "      <td>CMUbrew</td>\n",
       "      <td>2012-03-10</td>\n",
       "      <td>reviewed from notes 500ml can poured into a pl...</td>\n",
       "      <td>3.00</td>\n",
       "      <td>1.0</td>\n",
       "      <td>1.0</td>\n",
       "      <td>1.5</td>\n",
       "      <td>1.0</td>\n",
       "      <td>1.17</td>\n",
       "      <td>negative</td>\n",
       "      <td>True</td>\n",
       "      <td>True</td>\n",
       "      <td>True</td>\n",
       "      <td>True</td>\n",
       "      <td>look, smell, taste, feel</td>\n",
       "    </tr>\n",
       "    <tr>\n",
       "      <th>3</th>\n",
       "      <td>27069</td>\n",
       "      <td>maximum12</td>\n",
       "      <td>2010-05-12</td>\n",
       "      <td>rec'd a bottle of this unbidden in a recent tr...</td>\n",
       "      <td>2.50</td>\n",
       "      <td>2.0</td>\n",
       "      <td>2.0</td>\n",
       "      <td>2.0</td>\n",
       "      <td>1.0</td>\n",
       "      <td>1.83</td>\n",
       "      <td>negative</td>\n",
       "      <td>True</td>\n",
       "      <td>True</td>\n",
       "      <td>True</td>\n",
       "      <td>True</td>\n",
       "      <td>look, smell, taste, feel</td>\n",
       "    </tr>\n",
       "    <tr>\n",
       "      <th>4</th>\n",
       "      <td>44788</td>\n",
       "      <td>HarleyRider</td>\n",
       "      <td>2010-06-26</td>\n",
       "      <td>heading out on the boat my wife brings home a ...</td>\n",
       "      <td>3.00</td>\n",
       "      <td>1.0</td>\n",
       "      <td>1.0</td>\n",
       "      <td>3.0</td>\n",
       "      <td>2.0</td>\n",
       "      <td>1.52</td>\n",
       "      <td>negative</td>\n",
       "      <td>True</td>\n",
       "      <td>True</td>\n",
       "      <td>True</td>\n",
       "      <td>True</td>\n",
       "      <td>look, smell, taste, feel</td>\n",
       "    </tr>\n",
       "    <tr>\n",
       "      <th>...</th>\n",
       "      <td>...</td>\n",
       "      <td>...</td>\n",
       "      <td>...</td>\n",
       "      <td>...</td>\n",
       "      <td>...</td>\n",
       "      <td>...</td>\n",
       "      <td>...</td>\n",
       "      <td>...</td>\n",
       "      <td>...</td>\n",
       "      <td>...</td>\n",
       "      <td>...</td>\n",
       "      <td>...</td>\n",
       "      <td>...</td>\n",
       "      <td>...</td>\n",
       "      <td>...</td>\n",
       "      <td>...</td>\n",
       "    </tr>\n",
       "    <tr>\n",
       "      <th>27697</th>\n",
       "      <td>90141</td>\n",
       "      <td>BlackBelt5112203</td>\n",
       "      <td>2013-07-26</td>\n",
       "      <td>5 oz pour into a tasting glass on tap at the w...</td>\n",
       "      <td>4.25</td>\n",
       "      <td>4.5</td>\n",
       "      <td>4.5</td>\n",
       "      <td>4.0</td>\n",
       "      <td>4.5</td>\n",
       "      <td>4.44</td>\n",
       "      <td>positive</td>\n",
       "      <td>True</td>\n",
       "      <td>True</td>\n",
       "      <td>True</td>\n",
       "      <td>True</td>\n",
       "      <td>look, smell, taste, feel</td>\n",
       "    </tr>\n",
       "    <tr>\n",
       "      <th>27698</th>\n",
       "      <td>2128</td>\n",
       "      <td>woodychandler</td>\n",
       "      <td>2011-08-08</td>\n",
       "      <td>an afternoon of aus beers continued at my aunt...</td>\n",
       "      <td>4.00</td>\n",
       "      <td>4.0</td>\n",
       "      <td>4.0</td>\n",
       "      <td>4.0</td>\n",
       "      <td>4.0</td>\n",
       "      <td>4.00</td>\n",
       "      <td>positive</td>\n",
       "      <td>True</td>\n",
       "      <td>True</td>\n",
       "      <td>True</td>\n",
       "      <td>True</td>\n",
       "      <td>look, smell, taste, feel</td>\n",
       "    </tr>\n",
       "    <tr>\n",
       "      <th>27699</th>\n",
       "      <td>19216</td>\n",
       "      <td>05Harley</td>\n",
       "      <td>2011-02-25</td>\n",
       "      <td>bottled on: (should be on the bottom right han...</td>\n",
       "      <td>5.00</td>\n",
       "      <td>4.0</td>\n",
       "      <td>4.0</td>\n",
       "      <td>4.0</td>\n",
       "      <td>4.0</td>\n",
       "      <td>4.06</td>\n",
       "      <td>positive</td>\n",
       "      <td>True</td>\n",
       "      <td>True</td>\n",
       "      <td>True</td>\n",
       "      <td>True</td>\n",
       "      <td>look, smell, taste, feel</td>\n",
       "    </tr>\n",
       "    <tr>\n",
       "      <th>27700</th>\n",
       "      <td>41951</td>\n",
       "      <td>brewdlyhooked13</td>\n",
       "      <td>2008-07-19</td>\n",
       "      <td>appearance - pours a dark reddish caramel with...</td>\n",
       "      <td>4.00</td>\n",
       "      <td>4.0</td>\n",
       "      <td>4.0</td>\n",
       "      <td>4.5</td>\n",
       "      <td>5.0</td>\n",
       "      <td>4.25</td>\n",
       "      <td>positive</td>\n",
       "      <td>True</td>\n",
       "      <td>True</td>\n",
       "      <td>True</td>\n",
       "      <td>True</td>\n",
       "      <td>look, smell, taste, feel</td>\n",
       "    </tr>\n",
       "    <tr>\n",
       "      <th>27701</th>\n",
       "      <td>98387</td>\n",
       "      <td>superspak</td>\n",
       "      <td>2014-02-12</td>\n",
       "      <td>22 ounce bottle into tulip glass, bottled on 1...</td>\n",
       "      <td>4.00</td>\n",
       "      <td>4.5</td>\n",
       "      <td>4.0</td>\n",
       "      <td>4.0</td>\n",
       "      <td>4.5</td>\n",
       "      <td>4.22</td>\n",
       "      <td>positive</td>\n",
       "      <td>True</td>\n",
       "      <td>True</td>\n",
       "      <td>True</td>\n",
       "      <td>True</td>\n",
       "      <td>look, smell, taste, feel</td>\n",
       "    </tr>\n",
       "  </tbody>\n",
       "</table>\n",
       "<p>27702 rows × 16 columns</p>\n",
       "</div>"
      ]
     },
     "execution_count": 25,
     "metadata": {},
     "output_type": "execute_result"
    }
   ],
   "execution_count": 25
  },
  {
   "metadata": {
    "ExecuteTime": {
     "end_time": "2025-05-08T18:54:13.182622Z",
     "start_time": "2025-05-08T18:54:13.179330Z"
    }
   },
   "cell_type": "code",
   "source": [
    "col = [\"date\", \"text\", \"look\", \"smell\", \"taste\", \"feel\", \"overall\", \"has_smell\", \"has_taste\", \"has_look\", \"has_feel\", \"mentioned_aspects\", \"sentiment\"]\n",
    "df = df.drop(col, axis=1)"
   ],
   "id": "4dbdc17d9433df40",
   "outputs": [],
   "execution_count": 26
  },
  {
   "metadata": {
    "ExecuteTime": {
     "end_time": "2025-05-08T18:54:13.426923Z",
     "start_time": "2025-05-08T18:54:13.421851Z"
    }
   },
   "cell_type": "code",
   "source": "df",
   "id": "471f5b2aa3b22726",
   "outputs": [
    {
     "data": {
      "text/plain": [
       "       beer_id          username  score\n",
       "0         1428           Aethien   1.74\n",
       "1         4351        kojevergas   1.98\n",
       "2        70485           CMUbrew   1.17\n",
       "3        27069         maximum12   1.83\n",
       "4        44788       HarleyRider   1.52\n",
       "...        ...               ...    ...\n",
       "27697    90141  BlackBelt5112203   4.44\n",
       "27698     2128     woodychandler   4.00\n",
       "27699    19216          05Harley   4.06\n",
       "27700    41951   brewdlyhooked13   4.25\n",
       "27701    98387         superspak   4.22\n",
       "\n",
       "[27702 rows x 3 columns]"
      ],
      "text/html": [
       "<div>\n",
       "<style scoped>\n",
       "    .dataframe tbody tr th:only-of-type {\n",
       "        vertical-align: middle;\n",
       "    }\n",
       "\n",
       "    .dataframe tbody tr th {\n",
       "        vertical-align: top;\n",
       "    }\n",
       "\n",
       "    .dataframe thead th {\n",
       "        text-align: right;\n",
       "    }\n",
       "</style>\n",
       "<table border=\"1\" class=\"dataframe\">\n",
       "  <thead>\n",
       "    <tr style=\"text-align: right;\">\n",
       "      <th></th>\n",
       "      <th>beer_id</th>\n",
       "      <th>username</th>\n",
       "      <th>score</th>\n",
       "    </tr>\n",
       "  </thead>\n",
       "  <tbody>\n",
       "    <tr>\n",
       "      <th>0</th>\n",
       "      <td>1428</td>\n",
       "      <td>Aethien</td>\n",
       "      <td>1.74</td>\n",
       "    </tr>\n",
       "    <tr>\n",
       "      <th>1</th>\n",
       "      <td>4351</td>\n",
       "      <td>kojevergas</td>\n",
       "      <td>1.98</td>\n",
       "    </tr>\n",
       "    <tr>\n",
       "      <th>2</th>\n",
       "      <td>70485</td>\n",
       "      <td>CMUbrew</td>\n",
       "      <td>1.17</td>\n",
       "    </tr>\n",
       "    <tr>\n",
       "      <th>3</th>\n",
       "      <td>27069</td>\n",
       "      <td>maximum12</td>\n",
       "      <td>1.83</td>\n",
       "    </tr>\n",
       "    <tr>\n",
       "      <th>4</th>\n",
       "      <td>44788</td>\n",
       "      <td>HarleyRider</td>\n",
       "      <td>1.52</td>\n",
       "    </tr>\n",
       "    <tr>\n",
       "      <th>...</th>\n",
       "      <td>...</td>\n",
       "      <td>...</td>\n",
       "      <td>...</td>\n",
       "    </tr>\n",
       "    <tr>\n",
       "      <th>27697</th>\n",
       "      <td>90141</td>\n",
       "      <td>BlackBelt5112203</td>\n",
       "      <td>4.44</td>\n",
       "    </tr>\n",
       "    <tr>\n",
       "      <th>27698</th>\n",
       "      <td>2128</td>\n",
       "      <td>woodychandler</td>\n",
       "      <td>4.00</td>\n",
       "    </tr>\n",
       "    <tr>\n",
       "      <th>27699</th>\n",
       "      <td>19216</td>\n",
       "      <td>05Harley</td>\n",
       "      <td>4.06</td>\n",
       "    </tr>\n",
       "    <tr>\n",
       "      <th>27700</th>\n",
       "      <td>41951</td>\n",
       "      <td>brewdlyhooked13</td>\n",
       "      <td>4.25</td>\n",
       "    </tr>\n",
       "    <tr>\n",
       "      <th>27701</th>\n",
       "      <td>98387</td>\n",
       "      <td>superspak</td>\n",
       "      <td>4.22</td>\n",
       "    </tr>\n",
       "  </tbody>\n",
       "</table>\n",
       "<p>27702 rows × 3 columns</p>\n",
       "</div>"
      ]
     },
     "execution_count": 27,
     "metadata": {},
     "output_type": "execute_result"
    }
   ],
   "execution_count": 27
  },
  {
   "metadata": {
    "ExecuteTime": {
     "end_time": "2025-05-08T18:54:13.507494Z",
     "start_time": "2025-05-08T18:54:13.501047Z"
    }
   },
   "cell_type": "code",
   "source": [
    "df = df[['username', 'beer_id', 'score']]\n",
    "df"
   ],
   "id": "a22de921cc71cd45",
   "outputs": [
    {
     "data": {
      "text/plain": [
       "               username  beer_id  score\n",
       "0               Aethien     1428   1.74\n",
       "1            kojevergas     4351   1.98\n",
       "2               CMUbrew    70485   1.17\n",
       "3             maximum12    27069   1.83\n",
       "4           HarleyRider    44788   1.52\n",
       "...                 ...      ...    ...\n",
       "27697  BlackBelt5112203    90141   4.44\n",
       "27698     woodychandler     2128   4.00\n",
       "27699          05Harley    19216   4.06\n",
       "27700   brewdlyhooked13    41951   4.25\n",
       "27701         superspak    98387   4.22\n",
       "\n",
       "[27702 rows x 3 columns]"
      ],
      "text/html": [
       "<div>\n",
       "<style scoped>\n",
       "    .dataframe tbody tr th:only-of-type {\n",
       "        vertical-align: middle;\n",
       "    }\n",
       "\n",
       "    .dataframe tbody tr th {\n",
       "        vertical-align: top;\n",
       "    }\n",
       "\n",
       "    .dataframe thead th {\n",
       "        text-align: right;\n",
       "    }\n",
       "</style>\n",
       "<table border=\"1\" class=\"dataframe\">\n",
       "  <thead>\n",
       "    <tr style=\"text-align: right;\">\n",
       "      <th></th>\n",
       "      <th>username</th>\n",
       "      <th>beer_id</th>\n",
       "      <th>score</th>\n",
       "    </tr>\n",
       "  </thead>\n",
       "  <tbody>\n",
       "    <tr>\n",
       "      <th>0</th>\n",
       "      <td>Aethien</td>\n",
       "      <td>1428</td>\n",
       "      <td>1.74</td>\n",
       "    </tr>\n",
       "    <tr>\n",
       "      <th>1</th>\n",
       "      <td>kojevergas</td>\n",
       "      <td>4351</td>\n",
       "      <td>1.98</td>\n",
       "    </tr>\n",
       "    <tr>\n",
       "      <th>2</th>\n",
       "      <td>CMUbrew</td>\n",
       "      <td>70485</td>\n",
       "      <td>1.17</td>\n",
       "    </tr>\n",
       "    <tr>\n",
       "      <th>3</th>\n",
       "      <td>maximum12</td>\n",
       "      <td>27069</td>\n",
       "      <td>1.83</td>\n",
       "    </tr>\n",
       "    <tr>\n",
       "      <th>4</th>\n",
       "      <td>HarleyRider</td>\n",
       "      <td>44788</td>\n",
       "      <td>1.52</td>\n",
       "    </tr>\n",
       "    <tr>\n",
       "      <th>...</th>\n",
       "      <td>...</td>\n",
       "      <td>...</td>\n",
       "      <td>...</td>\n",
       "    </tr>\n",
       "    <tr>\n",
       "      <th>27697</th>\n",
       "      <td>BlackBelt5112203</td>\n",
       "      <td>90141</td>\n",
       "      <td>4.44</td>\n",
       "    </tr>\n",
       "    <tr>\n",
       "      <th>27698</th>\n",
       "      <td>woodychandler</td>\n",
       "      <td>2128</td>\n",
       "      <td>4.00</td>\n",
       "    </tr>\n",
       "    <tr>\n",
       "      <th>27699</th>\n",
       "      <td>05Harley</td>\n",
       "      <td>19216</td>\n",
       "      <td>4.06</td>\n",
       "    </tr>\n",
       "    <tr>\n",
       "      <th>27700</th>\n",
       "      <td>brewdlyhooked13</td>\n",
       "      <td>41951</td>\n",
       "      <td>4.25</td>\n",
       "    </tr>\n",
       "    <tr>\n",
       "      <th>27701</th>\n",
       "      <td>superspak</td>\n",
       "      <td>98387</td>\n",
       "      <td>4.22</td>\n",
       "    </tr>\n",
       "  </tbody>\n",
       "</table>\n",
       "<p>27702 rows × 3 columns</p>\n",
       "</div>"
      ]
     },
     "execution_count": 28,
     "metadata": {},
     "output_type": "execute_result"
    }
   ],
   "execution_count": 28
  },
  {
   "metadata": {},
   "cell_type": "markdown",
   "source": "# Training ",
   "id": "a46a60014a5b6090"
  },
  {
   "metadata": {
    "ExecuteTime": {
     "end_time": "2025-05-08T18:54:13.777714Z",
     "start_time": "2025-05-08T18:54:13.747987Z"
    }
   },
   "cell_type": "code",
   "source": [
    "from surprise import Reader, Dataset, KNNBasic\n",
    "reader = Reader(rating_scale=(0, 5))\n",
    "data = Dataset.load_from_df(df[['username','beer_id','score']], reader)"
   ],
   "id": "225aeb24d1cd9343",
   "outputs": [],
   "execution_count": 29
  },
  {
   "metadata": {
    "ExecuteTime": {
     "end_time": "2025-05-08T18:54:14.021865Z",
     "start_time": "2025-05-08T18:54:13.960159Z"
    }
   },
   "cell_type": "code",
   "source": "X_train, X_test = train_test_split(data, test_size=0.2, random_state=my_seed)",
   "id": "cc4432d267554397",
   "outputs": [],
   "execution_count": 30
  },
  {
   "metadata": {
    "ExecuteTime": {
     "end_time": "2025-05-08T18:54:14.067259Z",
     "start_time": "2025-05-08T18:54:14.063592Z"
    }
   },
   "cell_type": "code",
   "source": "sim_options = {'name': 'cosine', 'user_based': False, 'min_support': 1}",
   "id": "4262f6243cd12536",
   "outputs": [],
   "execution_count": 31
  },
  {
   "metadata": {
    "ExecuteTime": {
     "end_time": "2025-05-08T18:54:17.194439Z",
     "start_time": "2025-05-08T18:54:14.143151Z"
    }
   },
   "cell_type": "code",
   "source": [
    "algo = KNNBasic(sim_options=sim_options)\n",
    "\n",
    "algo.fit(X_train)\n",
    "predictions = algo.test(X_test)"
   ],
   "id": "3daf44040bc014e1",
   "outputs": [
    {
     "name": "stdout",
     "output_type": "stream",
     "text": [
      "Computing the cosine similarity matrix...\n",
      "Done computing similarity matrix.\n"
     ]
    }
   ],
   "execution_count": 32
  },
  {
   "metadata": {
    "ExecuteTime": {
     "end_time": "2025-05-08T18:54:19.235304Z",
     "start_time": "2025-05-08T18:54:17.208907Z"
    }
   },
   "cell_type": "code",
   "source": [
    "from surprise import KNNWithMeans\n",
    "algo2 = KNNWithMeans(sim_options=sim_options)\n",
    "algo2.fit(X_train)\n",
    "predictions2 = algo2.test(X_test)"
   ],
   "id": "ee0f7ceec109d849",
   "outputs": [
    {
     "name": "stdout",
     "output_type": "stream",
     "text": [
      "Computing the cosine similarity matrix...\n",
      "Done computing similarity matrix.\n"
     ]
    }
   ],
   "execution_count": 33
  },
  {
   "metadata": {
    "ExecuteTime": {
     "end_time": "2025-05-08T18:54:21.254998Z",
     "start_time": "2025-05-08T18:54:19.246448Z"
    }
   },
   "cell_type": "code",
   "source": [
    "from surprise import KNNWithZScore\n",
    "algo3 = KNNWithZScore(sim_options=sim_options)\n",
    "algo3.fit(X_train)\n",
    "predictions3 = algo3.test(X_test)"
   ],
   "id": "e2130dea6ba46f15",
   "outputs": [
    {
     "name": "stdout",
     "output_type": "stream",
     "text": [
      "Computing the cosine similarity matrix...\n",
      "Done computing similarity matrix.\n"
     ]
    }
   ],
   "execution_count": 34
  },
  {
   "metadata": {
    "ExecuteTime": {
     "end_time": "2025-05-08T18:54:23.164562Z",
     "start_time": "2025-05-08T18:54:21.280315Z"
    }
   },
   "cell_type": "code",
   "source": [
    "from surprise import KNNBaseline\n",
    "algo_baseline = KNNBaseline(sim_options=sim_options)\n",
    "algo_baseline.fit(X_train)\n",
    "predictions_baseline = algo_baseline.test(X_test)"
   ],
   "id": "6b8bc958977e493d",
   "outputs": [
    {
     "name": "stdout",
     "output_type": "stream",
     "text": [
      "Estimating biases using als...\n",
      "Computing the cosine similarity matrix...\n",
      "Done computing similarity matrix.\n"
     ]
    }
   ],
   "execution_count": 35
  },
  {
   "metadata": {},
   "cell_type": "markdown",
   "source": "# Evaluation",
   "id": "49034bc67395a5d1"
  },
  {
   "metadata": {
    "ExecuteTime": {
     "end_time": "2025-05-08T18:54:23.176935Z",
     "start_time": "2025-05-08T18:54:23.174557Z"
    }
   },
   "cell_type": "code",
   "source": "metrics = (\"RMSE\", \"MSE\", \"MAE\")",
   "id": "bf4e6a80d108d638",
   "outputs": [],
   "execution_count": 36
  },
  {
   "metadata": {
    "ExecuteTime": {
     "end_time": "2025-05-08T18:54:23.227575Z",
     "start_time": "2025-05-08T18:54:23.224967Z"
    }
   },
   "cell_type": "code",
   "source": [
    "from surprise.accuracy import mse, rmse, mae\n",
    "# Compute MSE, RMSE and MAE on the test set predictions\n",
    "def evaluate_recommender(predictions):\n",
    "    mse_score = mse(predictions, verbose=False)\n",
    "    rmse_score = rmse(predictions, verbose=False)\n",
    "    mae_score = mae(predictions, verbose=False)\n",
    "    return mse_score, rmse_score, mae_score"
   ],
   "id": "fc4b3b4ea40a322",
   "outputs": [],
   "execution_count": 37
  },
  {
   "metadata": {
    "ExecuteTime": {
     "end_time": "2025-05-08T18:54:23.277464Z",
     "start_time": "2025-05-08T18:54:23.273744Z"
    }
   },
   "cell_type": "code",
   "source": [
    "def plot_predictions(predictions, metrics):\n",
    "    rmse_score, mse_score, mae_score = predictions\n",
    "    fig, ax = plt.subplots(figsize=(12, 6))\n",
    "    ax.set_title(\"Evaluation metrics\")\n",
    "    ax.set_ylabel(\"Score\")\n",
    "    ax.set_xlabel(\"Metric\")\n",
    "    ax.set_ylim(0, 5)\n",
    "    ax.set_xticks(range(len(metrics)))\n",
    "    ax.set_xticklabels(metrics)\n",
    "    ax.bar(range(len(metrics)), [rmse_score, mse_score, mae_score], color=['blue', 'orange', 'green'])\n",
    "    # Add data labels\n",
    "    for i, v in enumerate([rmse_score, mse_score, mae_score]):\n",
    "        ax.text(i - 0.1, v + 0.02, str(round(v, 2)), color='black', fontweight='bold')\n",
    "    # Add grid lines\n",
    "    ax.grid(axis='y', linestyle='--', alpha=0.7)\n",
    "    plt.show()"
   ],
   "id": "79c6c9bc4a1d8b46",
   "outputs": [],
   "execution_count": 38
  },
  {
   "metadata": {
    "ExecuteTime": {
     "end_time": "2025-05-08T18:54:23.329434Z",
     "start_time": "2025-05-08T18:54:23.322883Z"
    }
   },
   "cell_type": "code",
   "source": "results = evaluate_recommender(predictions)",
   "id": "8facb3210e189185",
   "outputs": [],
   "execution_count": 39
  },
  {
   "metadata": {
    "ExecuteTime": {
     "end_time": "2025-05-08T18:54:23.435914Z",
     "start_time": "2025-05-08T18:54:23.372645Z"
    }
   },
   "cell_type": "code",
   "source": [
    "# Plot the metrics rmse, mse and mae\n",
    "plot_predictions(results, metrics)"
   ],
   "id": "2151bb24d18b202d",
   "outputs": [
    {
     "data": {
      "text/plain": [
       "<Figure size 1200x600 with 1 Axes>"
      ],
      "image/png": "[encoded data removed]"
     },
     "metadata": {},
     "output_type": "display_data"
    }
   ],
   "execution_count": 40
  },
  {
   "metadata": {
    "ExecuteTime": {
     "end_time": "2025-05-08T18:54:23.565381Z",
     "start_time": "2025-05-08T18:54:23.447903Z"
    }
   },
   "cell_type": "code",
   "source": [
    "results2 = evaluate_recommender(predictions2)\n",
    "plot_predictions(results2, metrics)"
   ],
   "id": "da9fe0b0ef1441f5",
   "outputs": [
    {
     "data": {
      "text/plain": [
       "<Figure size 1200x600 with 1 Axes>"
      ],
      "image/png": "[encoded data removed]"
     },
     "metadata": {},
     "output_type": "display_data"
    }
   ],
   "execution_count": 41
  },
  {
   "metadata": {
    "ExecuteTime": {
     "end_time": "2025-05-08T18:54:23.646259Z",
     "start_time": "2025-05-08T18:54:23.577945Z"
    }
   },
   "cell_type": "code",
   "source": [
    "results3 = evaluate_recommender(predictions3)\n",
    "plot_predictions(results3, metrics)"
   ],
   "id": "3afba91b593419ff",
   "outputs": [
    {
     "data": {
      "text/plain": [
       "<Figure size 1200x600 with 1 Axes>"
      ],
      "image/png": "[encoded data removed]"
     },
     "metadata": {},
     "output_type": "display_data"
    }
   ],
   "execution_count": 42
  },
  {
   "metadata": {
    "ExecuteTime": {
     "end_time": "2025-05-08T18:54:23.738729Z",
     "start_time": "2025-05-08T18:54:23.659444Z"
    }
   },
   "cell_type": "code",
   "source": [
    "results_baseline = evaluate_recommender(predictions_baseline)\n",
    "plot_predictions(results_baseline, metrics)"
   ],
   "id": "a9819231922a1b59",
   "outputs": [
    {
     "data": {
      "text/plain": [
       "<Figure size 1200x600 with 1 Axes>"
      ],
      "image/png": "[encoded data removed]"
     },
     "metadata": {},
     "output_type": "display_data"
    }
   ],
   "execution_count": 43
  },
  {
   "metadata": {
    "ExecuteTime": {
     "end_time": "2025-05-08T18:54:24.584298Z",
     "start_time": "2025-05-08T18:54:23.751005Z"
    }
   },
   "cell_type": "code",
   "source": [
    "with open(\"../model/item_based_collaborative_filtering_baseline.pkl\", \"wb\") as f:\n",
    "    pickle.dump(algo_baseline, f)"
   ],
   "id": "b576edb80672a0f",
   "outputs": [],
   "execution_count": 44
  }
 ],
 "metadata": {
  "kernelspec": {
   "display_name": "Python 3",
   "language": "python",
   "name": "python3"
  },
  "language_info": {
   "codemirror_mode": {
    "name": "ipython",
    "version": 2
   },
   "file_extension": ".py",
   "mimetype": "text/x-python",
   "name": "python",
   "nbconvert_exporter": "python",
   "pygments_lexer": "ipython2",
   "version": "2.7.6"
  }
 },
 "nbformat": 4,
 "nbformat_minor": 5
}
