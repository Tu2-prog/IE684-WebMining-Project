{
 "cells": [
  {
   "cell_type": "markdown",
   "id": "66bef1c26222fda6",
   "metadata": {},
   "source": [
    "# Item-Based Collaborative Filtering"
   ]
  },
  {
   "cell_type": "code",
   "execution_count": 1,
   "id": "initial_id",
   "metadata": {
    "ExecuteTime": {
     "end_time": "2025-05-08T18:11:37.175584Z",
     "start_time": "2025-05-08T18:11:37.080042Z"
    },
    "collapsed": true,
    "jupyter": {
     "outputs_hidden": true
    }
   },
   "outputs": [],
   "source": [
    "import pandas as pd\n",
    "from surprise.model_selection import train_test_split\n",
    "import matplotlib.pyplot as plt\n",
    "from mpl_toolkits.axes_grid1 import Divider, Size"
   ]
  },
  {
   "cell_type": "markdown",
   "id": "98525b1932f57072",
   "metadata": {},
   "source": [
    "# Setting the seed for reprodcuibility"
   ]
  },
  {
   "cell_type": "code",
   "execution_count": 2,
   "id": "2c78bf4c061dce4d",
   "metadata": {
    "ExecuteTime": {
     "end_time": "2025-05-08T18:11:37.272398Z",
     "start_time": "2025-05-08T18:11:37.270575Z"
    }
   },
   "outputs": [],
   "source": [
    "# we set a random seed here to make the results in this notebook reproducible\n",
    "import random\n",
    "import numpy as np\n",
    "\n",
    "my_seed = 0\n",
    "random.seed(my_seed)\n",
    "np.random.seed(my_seed)"
   ]
  },
  {
   "cell_type": "markdown",
   "id": "19dba2e0ce1981a7",
   "metadata": {},
   "source": [
    "# Reading data"
   ]
  },
  {
   "cell_type": "code",
   "execution_count": 3,
   "id": "f8126494ed2c32ba",
   "metadata": {
    "ExecuteTime": {
     "end_time": "2025-05-08T18:11:37.682164Z",
     "start_time": "2025-05-08T18:11:37.322695Z"
    }
   },
   "outputs": [
    {
     "data": {
      "text/html": [
       "<div>\n",
       "<style scoped>\n",
       "    .dataframe tbody tr th:only-of-type {\n",
       "        vertical-align: middle;\n",
       "    }\n",
       "\n",
       "    .dataframe tbody tr th {\n",
       "        vertical-align: top;\n",
       "    }\n",
       "\n",
       "    .dataframe thead th {\n",
       "        text-align: right;\n",
       "    }\n",
       "</style>\n",
       "<table border=\"1\" class=\"dataframe\">\n",
       "  <thead>\n",
       "    <tr style=\"text-align: right;\">\n",
       "      <th></th>\n",
       "      <th>beer_id</th>\n",
       "      <th>username</th>\n",
       "      <th>date</th>\n",
       "      <th>text</th>\n",
       "      <th>look</th>\n",
       "      <th>smell</th>\n",
       "      <th>taste</th>\n",
       "      <th>feel</th>\n",
       "      <th>overall</th>\n",
       "      <th>score</th>\n",
       "      <th>sentiment</th>\n",
       "      <th>has_look</th>\n",
       "      <th>has_smell</th>\n",
       "      <th>has_taste</th>\n",
       "      <th>has_feel</th>\n",
       "      <th>mentioned_aspects</th>\n",
       "    </tr>\n",
       "  </thead>\n",
       "  <tbody>\n",
       "    <tr>\n",
       "      <th>0</th>\n",
       "      <td>1428</td>\n",
       "      <td>Aethien</td>\n",
       "      <td>2012-02-12</td>\n",
       "      <td>poured into a tulip, it looks a nice golden ye...</td>\n",
       "      <td>3.00</td>\n",
       "      <td>1.5</td>\n",
       "      <td>1.5</td>\n",
       "      <td>2.0</td>\n",
       "      <td>2.0</td>\n",
       "      <td>1.74</td>\n",
       "      <td>negative</td>\n",
       "      <td>True</td>\n",
       "      <td>True</td>\n",
       "      <td>True</td>\n",
       "      <td>True</td>\n",
       "      <td>look, smell, taste, feel</td>\n",
       "    </tr>\n",
       "    <tr>\n",
       "      <th>1</th>\n",
       "      <td>4351</td>\n",
       "      <td>kojevergas</td>\n",
       "      <td>2011-07-31</td>\n",
       "      <td>can served into norrebro bryghus stemware in c...</td>\n",
       "      <td>2.50</td>\n",
       "      <td>2.0</td>\n",
       "      <td>2.0</td>\n",
       "      <td>1.5</td>\n",
       "      <td>2.0</td>\n",
       "      <td>1.98</td>\n",
       "      <td>negative</td>\n",
       "      <td>True</td>\n",
       "      <td>True</td>\n",
       "      <td>True</td>\n",
       "      <td>True</td>\n",
       "      <td>look, smell, taste, feel</td>\n",
       "    </tr>\n",
       "    <tr>\n",
       "      <th>2</th>\n",
       "      <td>70485</td>\n",
       "      <td>CMUbrew</td>\n",
       "      <td>2012-03-10</td>\n",
       "      <td>reviewed from notes 500ml can poured into a pl...</td>\n",
       "      <td>3.00</td>\n",
       "      <td>1.0</td>\n",
       "      <td>1.0</td>\n",
       "      <td>1.5</td>\n",
       "      <td>1.0</td>\n",
       "      <td>1.17</td>\n",
       "      <td>negative</td>\n",
       "      <td>True</td>\n",
       "      <td>True</td>\n",
       "      <td>True</td>\n",
       "      <td>True</td>\n",
       "      <td>look, smell, taste, feel</td>\n",
       "    </tr>\n",
       "    <tr>\n",
       "      <th>3</th>\n",
       "      <td>27069</td>\n",
       "      <td>maximum12</td>\n",
       "      <td>2010-05-12</td>\n",
       "      <td>rec'd a bottle of this unbidden in a recent tr...</td>\n",
       "      <td>2.50</td>\n",
       "      <td>2.0</td>\n",
       "      <td>2.0</td>\n",
       "      <td>2.0</td>\n",
       "      <td>1.0</td>\n",
       "      <td>1.83</td>\n",
       "      <td>negative</td>\n",
       "      <td>True</td>\n",
       "      <td>True</td>\n",
       "      <td>True</td>\n",
       "      <td>True</td>\n",
       "      <td>look, smell, taste, feel</td>\n",
       "    </tr>\n",
       "    <tr>\n",
       "      <th>4</th>\n",
       "      <td>44788</td>\n",
       "      <td>HarleyRider</td>\n",
       "      <td>2010-06-26</td>\n",
       "      <td>heading out on the boat my wife brings home a ...</td>\n",
       "      <td>3.00</td>\n",
       "      <td>1.0</td>\n",
       "      <td>1.0</td>\n",
       "      <td>3.0</td>\n",
       "      <td>2.0</td>\n",
       "      <td>1.52</td>\n",
       "      <td>negative</td>\n",
       "      <td>True</td>\n",
       "      <td>True</td>\n",
       "      <td>True</td>\n",
       "      <td>True</td>\n",
       "      <td>look, smell, taste, feel</td>\n",
       "    </tr>\n",
       "    <tr>\n",
       "      <th>...</th>\n",
       "      <td>...</td>\n",
       "      <td>...</td>\n",
       "      <td>...</td>\n",
       "      <td>...</td>\n",
       "      <td>...</td>\n",
       "      <td>...</td>\n",
       "      <td>...</td>\n",
       "      <td>...</td>\n",
       "      <td>...</td>\n",
       "      <td>...</td>\n",
       "      <td>...</td>\n",
       "      <td>...</td>\n",
       "      <td>...</td>\n",
       "      <td>...</td>\n",
       "      <td>...</td>\n",
       "      <td>...</td>\n",
       "    </tr>\n",
       "    <tr>\n",
       "      <th>27697</th>\n",
       "      <td>90141</td>\n",
       "      <td>BlackBelt5112203</td>\n",
       "      <td>2013-07-26</td>\n",
       "      <td>5 oz pour into a tasting glass on tap at the w...</td>\n",
       "      <td>4.25</td>\n",
       "      <td>4.5</td>\n",
       "      <td>4.5</td>\n",
       "      <td>4.0</td>\n",
       "      <td>4.5</td>\n",
       "      <td>4.44</td>\n",
       "      <td>positive</td>\n",
       "      <td>True</td>\n",
       "      <td>True</td>\n",
       "      <td>True</td>\n",
       "      <td>True</td>\n",
       "      <td>look, smell, taste, feel</td>\n",
       "    </tr>\n",
       "    <tr>\n",
       "      <th>27698</th>\n",
       "      <td>2128</td>\n",
       "      <td>woodychandler</td>\n",
       "      <td>2011-08-08</td>\n",
       "      <td>an afternoon of aus beers continued at my aunt...</td>\n",
       "      <td>4.00</td>\n",
       "      <td>4.0</td>\n",
       "      <td>4.0</td>\n",
       "      <td>4.0</td>\n",
       "      <td>4.0</td>\n",
       "      <td>4.00</td>\n",
       "      <td>positive</td>\n",
       "      <td>True</td>\n",
       "      <td>True</td>\n",
       "      <td>True</td>\n",
       "      <td>True</td>\n",
       "      <td>look, smell, taste, feel</td>\n",
       "    </tr>\n",
       "    <tr>\n",
       "      <th>27699</th>\n",
       "      <td>19216</td>\n",
       "      <td>05Harley</td>\n",
       "      <td>2011-02-25</td>\n",
       "      <td>bottled on: (should be on the bottom right han...</td>\n",
       "      <td>5.00</td>\n",
       "      <td>4.0</td>\n",
       "      <td>4.0</td>\n",
       "      <td>4.0</td>\n",
       "      <td>4.0</td>\n",
       "      <td>4.06</td>\n",
       "      <td>positive</td>\n",
       "      <td>True</td>\n",
       "      <td>True</td>\n",
       "      <td>True</td>\n",
       "      <td>True</td>\n",
       "      <td>look, smell, taste, feel</td>\n",
       "    </tr>\n",
       "    <tr>\n",
       "      <th>27700</th>\n",
       "      <td>41951</td>\n",
       "      <td>brewdlyhooked13</td>\n",
       "      <td>2008-07-19</td>\n",
       "      <td>appearance - pours a dark reddish caramel with...</td>\n",
       "      <td>4.00</td>\n",
       "      <td>4.0</td>\n",
       "      <td>4.0</td>\n",
       "      <td>4.5</td>\n",
       "      <td>5.0</td>\n",
       "      <td>4.25</td>\n",
       "      <td>positive</td>\n",
       "      <td>True</td>\n",
       "      <td>True</td>\n",
       "      <td>True</td>\n",
       "      <td>True</td>\n",
       "      <td>look, smell, taste, feel</td>\n",
       "    </tr>\n",
       "    <tr>\n",
       "      <th>27701</th>\n",
       "      <td>98387</td>\n",
       "      <td>superspak</td>\n",
       "      <td>2014-02-12</td>\n",
       "      <td>22 ounce bottle into tulip glass, bottled on 1...</td>\n",
       "      <td>4.00</td>\n",
       "      <td>4.5</td>\n",
       "      <td>4.0</td>\n",
       "      <td>4.0</td>\n",
       "      <td>4.5</td>\n",
       "      <td>4.22</td>\n",
       "      <td>positive</td>\n",
       "      <td>True</td>\n",
       "      <td>True</td>\n",
       "      <td>True</td>\n",
       "      <td>True</td>\n",
       "      <td>look, smell, taste, feel</td>\n",
       "    </tr>\n",
       "  </tbody>\n",
       "</table>\n",
       "<p>27702 rows × 16 columns</p>\n",
       "</div>"
      ],
      "text/plain": [
       "       beer_id          username        date  \\\n",
       "0         1428           Aethien  2012-02-12   \n",
       "1         4351        kojevergas  2011-07-31   \n",
       "2        70485           CMUbrew  2012-03-10   \n",
       "3        27069         maximum12  2010-05-12   \n",
       "4        44788       HarleyRider  2010-06-26   \n",
       "...        ...               ...         ...   \n",
       "27697    90141  BlackBelt5112203  2013-07-26   \n",
       "27698     2128     woodychandler  2011-08-08   \n",
       "27699    19216          05Harley  2011-02-25   \n",
       "27700    41951   brewdlyhooked13  2008-07-19   \n",
       "27701    98387         superspak  2014-02-12   \n",
       "\n",
       "                                                    text  look  smell  taste  \\\n",
       "0      poured into a tulip, it looks a nice golden ye...  3.00    1.5    1.5   \n",
       "1      can served into norrebro bryghus stemware in c...  2.50    2.0    2.0   \n",
       "2      reviewed from notes 500ml can poured into a pl...  3.00    1.0    1.0   \n",
       "3      rec'd a bottle of this unbidden in a recent tr...  2.50    2.0    2.0   \n",
       "4      heading out on the boat my wife brings home a ...  3.00    1.0    1.0   \n",
       "...                                                  ...   ...    ...    ...   \n",
       "27697  5 oz pour into a tasting glass on tap at the w...  4.25    4.5    4.5   \n",
       "27698  an afternoon of aus beers continued at my aunt...  4.00    4.0    4.0   \n",
       "27699  bottled on: (should be on the bottom right han...  5.00    4.0    4.0   \n",
       "27700  appearance - pours a dark reddish caramel with...  4.00    4.0    4.0   \n",
       "27701  22 ounce bottle into tulip glass, bottled on 1...  4.00    4.5    4.0   \n",
       "\n",
       "       feel  overall  score sentiment  has_look  has_smell  has_taste  \\\n",
       "0       2.0      2.0   1.74  negative      True       True       True   \n",
       "1       1.5      2.0   1.98  negative      True       True       True   \n",
       "2       1.5      1.0   1.17  negative      True       True       True   \n",
       "3       2.0      1.0   1.83  negative      True       True       True   \n",
       "4       3.0      2.0   1.52  negative      True       True       True   \n",
       "...     ...      ...    ...       ...       ...        ...        ...   \n",
       "27697   4.0      4.5   4.44  positive      True       True       True   \n",
       "27698   4.0      4.0   4.00  positive      True       True       True   \n",
       "27699   4.0      4.0   4.06  positive      True       True       True   \n",
       "27700   4.5      5.0   4.25  positive      True       True       True   \n",
       "27701   4.0      4.5   4.22  positive      True       True       True   \n",
       "\n",
       "       has_feel         mentioned_aspects  \n",
       "0          True  look, smell, taste, feel  \n",
       "1          True  look, smell, taste, feel  \n",
       "2          True  look, smell, taste, feel  \n",
       "3          True  look, smell, taste, feel  \n",
       "4          True  look, smell, taste, feel  \n",
       "...         ...                       ...  \n",
       "27697      True  look, smell, taste, feel  \n",
       "27698      True  look, smell, taste, feel  \n",
       "27699      True  look, smell, taste, feel  \n",
       "27700      True  look, smell, taste, feel  \n",
       "27701      True  look, smell, taste, feel  \n",
       "\n",
       "[27702 rows x 16 columns]"
      ]
     },
     "execution_count": 3,
     "metadata": {},
     "output_type": "execute_result"
    }
   ],
   "source": [
    "df = pd.read_csv('../data/reviews_stratified_sampled.csv')\n",
    "df"
   ]
  },
  {
   "cell_type": "code",
   "execution_count": 4,
   "id": "4dbdc17d9433df40",
   "metadata": {
    "ExecuteTime": {
     "end_time": "2025-05-08T18:11:37.754032Z",
     "start_time": "2025-05-08T18:11:37.748996Z"
    }
   },
   "outputs": [],
   "source": [
    "col = [\"date\", \"text\", \"look\", \"smell\", \"taste\", \"feel\", \"overall\", \"has_smell\", \"has_taste\", \"has_look\", \"has_feel\", \"mentioned_aspects\", \"sentiment\"]\n",
    "df = df.drop(col, axis=1)"
   ]
  },
  {
   "cell_type": "code",
   "execution_count": 5,
   "id": "471f5b2aa3b22726",
   "metadata": {
    "ExecuteTime": {
     "end_time": "2025-05-08T18:11:37.830505Z",
     "start_time": "2025-05-08T18:11:37.824062Z"
    }
   },
   "outputs": [
    {
     "data": {
      "text/html": [
       "<div>\n",
       "<style scoped>\n",
       "    .dataframe tbody tr th:only-of-type {\n",
       "        vertical-align: middle;\n",
       "    }\n",
       "\n",
       "    .dataframe tbody tr th {\n",
       "        vertical-align: top;\n",
       "    }\n",
       "\n",
       "    .dataframe thead th {\n",
       "        text-align: right;\n",
       "    }\n",
       "</style>\n",
       "<table border=\"1\" class=\"dataframe\">\n",
       "  <thead>\n",
       "    <tr style=\"text-align: right;\">\n",
       "      <th></th>\n",
       "      <th>beer_id</th>\n",
       "      <th>username</th>\n",
       "      <th>score</th>\n",
       "    </tr>\n",
       "  </thead>\n",
       "  <tbody>\n",
       "    <tr>\n",
       "      <th>0</th>\n",
       "      <td>1428</td>\n",
       "      <td>Aethien</td>\n",
       "      <td>1.74</td>\n",
       "    </tr>\n",
       "    <tr>\n",
       "      <th>1</th>\n",
       "      <td>4351</td>\n",
       "      <td>kojevergas</td>\n",
       "      <td>1.98</td>\n",
       "    </tr>\n",
       "    <tr>\n",
       "      <th>2</th>\n",
       "      <td>70485</td>\n",
       "      <td>CMUbrew</td>\n",
       "      <td>1.17</td>\n",
       "    </tr>\n",
       "    <tr>\n",
       "      <th>3</th>\n",
       "      <td>27069</td>\n",
       "      <td>maximum12</td>\n",
       "      <td>1.83</td>\n",
       "    </tr>\n",
       "    <tr>\n",
       "      <th>4</th>\n",
       "      <td>44788</td>\n",
       "      <td>HarleyRider</td>\n",
       "      <td>1.52</td>\n",
       "    </tr>\n",
       "    <tr>\n",
       "      <th>...</th>\n",
       "      <td>...</td>\n",
       "      <td>...</td>\n",
       "      <td>...</td>\n",
       "    </tr>\n",
       "    <tr>\n",
       "      <th>27697</th>\n",
       "      <td>90141</td>\n",
       "      <td>BlackBelt5112203</td>\n",
       "      <td>4.44</td>\n",
       "    </tr>\n",
       "    <tr>\n",
       "      <th>27698</th>\n",
       "      <td>2128</td>\n",
       "      <td>woodychandler</td>\n",
       "      <td>4.00</td>\n",
       "    </tr>\n",
       "    <tr>\n",
       "      <th>27699</th>\n",
       "      <td>19216</td>\n",
       "      <td>05Harley</td>\n",
       "      <td>4.06</td>\n",
       "    </tr>\n",
       "    <tr>\n",
       "      <th>27700</th>\n",
       "      <td>41951</td>\n",
       "      <td>brewdlyhooked13</td>\n",
       "      <td>4.25</td>\n",
       "    </tr>\n",
       "    <tr>\n",
       "      <th>27701</th>\n",
       "      <td>98387</td>\n",
       "      <td>superspak</td>\n",
       "      <td>4.22</td>\n",
       "    </tr>\n",
       "  </tbody>\n",
       "</table>\n",
       "<p>27702 rows × 3 columns</p>\n",
       "</div>"
      ],
      "text/plain": [
       "       beer_id          username  score\n",
       "0         1428           Aethien   1.74\n",
       "1         4351        kojevergas   1.98\n",
       "2        70485           CMUbrew   1.17\n",
       "3        27069         maximum12   1.83\n",
       "4        44788       HarleyRider   1.52\n",
       "...        ...               ...    ...\n",
       "27697    90141  BlackBelt5112203   4.44\n",
       "27698     2128     woodychandler   4.00\n",
       "27699    19216          05Harley   4.06\n",
       "27700    41951   brewdlyhooked13   4.25\n",
       "27701    98387         superspak   4.22\n",
       "\n",
       "[27702 rows x 3 columns]"
      ]
     },
     "execution_count": 5,
     "metadata": {},
     "output_type": "execute_result"
    }
   ],
   "source": [
    "df"
   ]
  },
  {
   "cell_type": "code",
   "execution_count": 6,
   "id": "a22de921cc71cd45",
   "metadata": {
    "ExecuteTime": {
     "end_time": "2025-05-08T18:11:37.922165Z",
     "start_time": "2025-05-08T18:11:37.916331Z"
    }
   },
   "outputs": [
    {
     "data": {
      "text/html": [
       "<div>\n",
       "<style scoped>\n",
       "    .dataframe tbody tr th:only-of-type {\n",
       "        vertical-align: middle;\n",
       "    }\n",
       "\n",
       "    .dataframe tbody tr th {\n",
       "        vertical-align: top;\n",
       "    }\n",
       "\n",
       "    .dataframe thead th {\n",
       "        text-align: right;\n",
       "    }\n",
       "</style>\n",
       "<table border=\"1\" class=\"dataframe\">\n",
       "  <thead>\n",
       "    <tr style=\"text-align: right;\">\n",
       "      <th></th>\n",
       "      <th>username</th>\n",
       "      <th>beer_id</th>\n",
       "      <th>score</th>\n",
       "    </tr>\n",
       "  </thead>\n",
       "  <tbody>\n",
       "    <tr>\n",
       "      <th>0</th>\n",
       "      <td>Aethien</td>\n",
       "      <td>1428</td>\n",
       "      <td>1.74</td>\n",
       "    </tr>\n",
       "    <tr>\n",
       "      <th>1</th>\n",
       "      <td>kojevergas</td>\n",
       "      <td>4351</td>\n",
       "      <td>1.98</td>\n",
       "    </tr>\n",
       "    <tr>\n",
       "      <th>2</th>\n",
       "      <td>CMUbrew</td>\n",
       "      <td>70485</td>\n",
       "      <td>1.17</td>\n",
       "    </tr>\n",
       "    <tr>\n",
       "      <th>3</th>\n",
       "      <td>maximum12</td>\n",
       "      <td>27069</td>\n",
       "      <td>1.83</td>\n",
       "    </tr>\n",
       "    <tr>\n",
       "      <th>4</th>\n",
       "      <td>HarleyRider</td>\n",
       "      <td>44788</td>\n",
       "      <td>1.52</td>\n",
       "    </tr>\n",
       "    <tr>\n",
       "      <th>...</th>\n",
       "      <td>...</td>\n",
       "      <td>...</td>\n",
       "      <td>...</td>\n",
       "    </tr>\n",
       "    <tr>\n",
       "      <th>27697</th>\n",
       "      <td>BlackBelt5112203</td>\n",
       "      <td>90141</td>\n",
       "      <td>4.44</td>\n",
       "    </tr>\n",
       "    <tr>\n",
       "      <th>27698</th>\n",
       "      <td>woodychandler</td>\n",
       "      <td>2128</td>\n",
       "      <td>4.00</td>\n",
       "    </tr>\n",
       "    <tr>\n",
       "      <th>27699</th>\n",
       "      <td>05Harley</td>\n",
       "      <td>19216</td>\n",
       "      <td>4.06</td>\n",
       "    </tr>\n",
       "    <tr>\n",
       "      <th>27700</th>\n",
       "      <td>brewdlyhooked13</td>\n",
       "      <td>41951</td>\n",
       "      <td>4.25</td>\n",
       "    </tr>\n",
       "    <tr>\n",
       "      <th>27701</th>\n",
       "      <td>superspak</td>\n",
       "      <td>98387</td>\n",
       "      <td>4.22</td>\n",
       "    </tr>\n",
       "  </tbody>\n",
       "</table>\n",
       "<p>27702 rows × 3 columns</p>\n",
       "</div>"
      ],
      "text/plain": [
       "               username  beer_id  score\n",
       "0               Aethien     1428   1.74\n",
       "1            kojevergas     4351   1.98\n",
       "2               CMUbrew    70485   1.17\n",
       "3             maximum12    27069   1.83\n",
       "4           HarleyRider    44788   1.52\n",
       "...                 ...      ...    ...\n",
       "27697  BlackBelt5112203    90141   4.44\n",
       "27698     woodychandler     2128   4.00\n",
       "27699          05Harley    19216   4.06\n",
       "27700   brewdlyhooked13    41951   4.25\n",
       "27701         superspak    98387   4.22\n",
       "\n",
       "[27702 rows x 3 columns]"
      ]
     },
     "execution_count": 6,
     "metadata": {},
     "output_type": "execute_result"
    }
   ],
   "source": [
    "df = df[['username', 'beer_id', 'score']]\n",
    "df"
   ]
  },
  {
   "cell_type": "markdown",
   "id": "a46a60014a5b6090",
   "metadata": {},
   "source": [
    "# Training "
   ]
  },
  {
   "cell_type": "code",
   "execution_count": 7,
   "id": "225aeb24d1cd9343",
   "metadata": {
    "ExecuteTime": {
     "end_time": "2025-05-08T18:11:38.302421Z",
     "start_time": "2025-05-08T18:11:38.264455Z"
    }
   },
   "outputs": [],
   "source": [
    "from surprise import Reader, Dataset, KNNBasic\n",
    "reader = Reader(rating_scale=(0, 5))\n",
    "data = Dataset.load_from_df(df[['username','beer_id','score']], reader)"
   ]
  },
  {
   "cell_type": "code",
   "execution_count": 8,
   "id": "cc4432d267554397",
   "metadata": {
    "ExecuteTime": {
     "end_time": "2025-05-08T18:11:38.506811Z",
     "start_time": "2025-05-08T18:11:38.457059Z"
    }
   },
   "outputs": [],
   "source": [
    "X_train, X_test = train_test_split(data, test_size=0.2, random_state=my_seed)"
   ]
  },
  {
   "cell_type": "code",
   "execution_count": 9,
   "id": "4262f6243cd12536",
   "metadata": {
    "ExecuteTime": {
     "end_time": "2025-05-08T18:11:38.541308Z",
     "start_time": "2025-05-08T18:11:38.536695Z"
    }
   },
   "outputs": [],
   "source": [
    "sim_options = {'name': 'cosine', 'user_based': False, 'min_support': 1}"
   ]
  },
  {
   "cell_type": "code",
   "execution_count": 10,
   "id": "3daf44040bc014e1",
   "metadata": {
    "ExecuteTime": {
     "end_time": "2025-05-08T18:11:45.918039Z",
     "start_time": "2025-05-08T18:11:38.588940Z"
    }
   },
   "outputs": [
    {
     "name": "stdout",
     "output_type": "stream",
     "text": [
      "Computing the cosine similarity matrix...\n",
      "Done computing similarity matrix.\n"
     ]
    }
   ],
   "source": [
    "algo = KNNBasic(sim_options=sim_options)\n",
    "\n",
    "algo.fit(X_train)\n",
    "predictions = algo.test(X_test)"
   ]
  },
  {
   "cell_type": "code",
   "execution_count": 11,
   "id": "ee0f7ceec109d849",
   "metadata": {
    "ExecuteTime": {
     "end_time": "2025-05-08T18:11:52.417463Z",
     "start_time": "2025-05-08T18:11:45.934901Z"
    }
   },
   "outputs": [
    {
     "name": "stdout",
     "output_type": "stream",
     "text": [
      "Computing the cosine similarity matrix...\n",
      "Done computing similarity matrix.\n"
     ]
    }
   ],
   "source": [
    "from surprise import KNNWithMeans\n",
    "algo2 = KNNWithMeans(sim_options=sim_options)\n",
    "algo2.fit(X_train)\n",
    "predictions2 = algo2.test(X_test)"
   ]
  },
  {
   "cell_type": "code",
   "execution_count": 12,
   "id": "e2130dea6ba46f15",
   "metadata": {
    "ExecuteTime": {
     "end_time": "2025-05-08T18:11:57.163249Z",
     "start_time": "2025-05-08T18:11:52.434874Z"
    }
   },
   "outputs": [
    {
     "name": "stdout",
     "output_type": "stream",
     "text": [
      "Computing the cosine similarity matrix...\n",
      "Done computing similarity matrix.\n"
     ]
    }
   ],
   "source": [
    "from surprise import KNNWithZScore\n",
    "algo3 = KNNWithZScore(sim_options=sim_options)\n",
    "algo3.fit(X_train)\n",
    "predictions3 = algo3.test(X_test)"
   ]
  },
  {
   "cell_type": "code",
   "execution_count": 13,
   "id": "6b8bc958977e493d",
   "metadata": {
    "ExecuteTime": {
     "end_time": "2025-05-08T18:12:00.727829Z",
     "start_time": "2025-05-08T18:11:57.182194Z"
    }
   },
   "outputs": [
    {
     "name": "stdout",
     "output_type": "stream",
     "text": [
      "Estimating biases using als...\n",
      "Computing the cosine similarity matrix...\n",
      "Done computing similarity matrix.\n"
     ]
    }
   ],
   "source": [
    "from surprise import KNNBaseline\n",
    "algo_baseline = KNNBaseline(sim_options=sim_options)\n",
    "algo_baseline.fit(X_train)\n",
    "predictions_baseline = algo_baseline.test(X_test)"
   ]
  },
  {
   "cell_type": "markdown",
   "id": "49034bc67395a5d1",
   "metadata": {},
   "source": [
    "# Evaluation"
   ]
  },
  {
   "cell_type": "code",
   "execution_count": 14,
   "id": "bf4e6a80d108d638",
   "metadata": {
    "ExecuteTime": {
     "end_time": "2025-05-08T18:12:00.747500Z",
     "start_time": "2025-05-08T18:12:00.744106Z"
    }
   },
   "outputs": [],
   "source": [
    "metrics = (\"RMSE\", \"MSE\", \"MAE\")"
   ]
  },
  {
   "cell_type": "code",
   "execution_count": 15,
   "id": "fc4b3b4ea40a322",
   "metadata": {
    "ExecuteTime": {
     "end_time": "2025-05-08T18:12:00.792737Z",
     "start_time": "2025-05-08T18:12:00.788364Z"
    }
   },
   "outputs": [],
   "source": [
    "from surprise.accuracy import mse, rmse, mae\n",
    "# Compute MSE, RMSE and MAE on the test set predictions\n",
    "def evaluate_recommender(predictions):\n",
    "    mse_score = mse(predictions, verbose=False)\n",
    "    rmse_score = rmse(predictions, verbose=False)\n",
    "    mae_score = mae(predictions, verbose=False)\n",
    "    return mse_score, rmse_score, mae_score"
   ]
  },
  {
   "cell_type": "code",
   "execution_count": 16,
   "id": "79c6c9bc4a1d8b46",
   "metadata": {
    "ExecuteTime": {
     "end_time": "2025-05-08T18:12:00.864185Z",
     "start_time": "2025-05-08T18:12:00.856176Z"
    }
   },
   "outputs": [],
   "source": [
    "def plot_predictions(predictions, metrics):\n",
    "    rmse_score, mse_score, mae_score = predictions\n",
    "    fig, ax = plt.subplots(figsize=(12, 6))\n",
    "    ax.set_title(\"Evaluation metrics\")\n",
    "    ax.set_ylabel(\"Score\")\n",
    "    ax.set_xlabel(\"Metric\")\n",
    "    ax.set_ylim(0, 5)\n",
    "    ax.set_xticks(range(len(metrics)))\n",
    "    ax.set_xticklabels(metrics)\n",
    "    ax.bar(range(len(metrics)), [rmse_score, mse_score, mae_score], color=['blue', 'orange', 'green'])\n",
    "    # Add data labels\n",
    "    for i, v in enumerate([rmse_score, mse_score, mae_score]):\n",
    "        ax.text(i - 0.1, v + 0.02, str(round(v, 2)), color='black', fontweight='bold')\n",
    "    # Add grid lines\n",
    "    ax.grid(axis='y', linestyle='--', alpha=0.7)\n",
    "    plt.show()"
   ]
  },
  {
   "cell_type": "code",
   "execution_count": 17,
   "id": "8facb3210e189185",
   "metadata": {
    "ExecuteTime": {
     "end_time": "2025-05-08T18:12:00.940287Z",
     "start_time": "2025-05-08T18:12:00.928574Z"
    }
   },
   "outputs": [],
   "source": [
    "results = evaluate_recommender(predictions)"
   ]
  },
  {
   "cell_type": "code",
   "execution_count": 18,
   "id": "2151bb24d18b202d",
   "metadata": {
    "ExecuteTime": {
     "end_time": "2025-05-08T18:12:01.189895Z",
     "start_time": "2025-05-08T18:12:00.978809Z"
    }
   },
   "outputs": [
    {
     "data": {
      "image/png": "[encoded data removed]",
      "text/plain": [
       "<Figure size 1200x600 with 1 Axes>"
      ]
     },
     "metadata": {},
     "output_type": "display_data"
    }
   ],
   "source": [
    "# Plot the metrics rmse, mse and mae\n",
    "plot_predictions(results, metrics)"
   ]
  },
  {
   "cell_type": "code",
   "execution_count": 19,
   "id": "da9fe0b0ef1441f5",
   "metadata": {
    "ExecuteTime": {
     "end_time": "2025-05-08T18:12:01.289924Z",
     "start_time": "2025-05-08T18:12:01.205729Z"
    }
   },
   "outputs": [
    {
     "data": {
      "image/png": "[encoded data removed]",
      "text/plain": [
       "<Figure size 1200x600 with 1 Axes>"
      ]
     },
     "metadata": {},
     "output_type": "display_data"
    }
   ],
   "source": [
    "results2 = evaluate_recommender(predictions2)\n",
    "plot_predictions(results2, metrics)"
   ]
  },
  {
   "cell_type": "code",
   "execution_count": 20,
   "id": "3afba91b593419ff",
   "metadata": {
    "ExecuteTime": {
     "end_time": "2025-05-08T18:12:01.403644Z",
     "start_time": "2025-05-08T18:12:01.305133Z"
    }
   },
   "outputs": [
    {
     "data": {
      "image/png": "[encoded data removed]",
      "text/plain": [
       "<Figure size 1200x600 with 1 Axes>"
      ]
     },
     "metadata": {},
     "output_type": "display_data"
    }
   ],
   "source": [
    "results3 = evaluate_recommender(predictions3)\n",
    "plot_predictions(results3, metrics)"
   ]
  },
  {
   "cell_type": "code",
   "execution_count": 21,
   "id": "a9819231922a1b59",
   "metadata": {
    "ExecuteTime": {
     "end_time": "2025-05-08T18:12:01.503100Z",
     "start_time": "2025-05-08T18:12:01.422622Z"
    }
   },
   "outputs": [
    {
     "data": {
      "image/png": "[encoded data removed]",
      "text/plain": [
       "<Figure size 1200x600 with 1 Axes>"
      ]
     },
     "metadata": {},
     "output_type": "display_data"
    }
   ],
   "source": [
    "results_baseline = evaluate_recommender(predictions_baseline)\n",
    "plot_predictions(results_baseline, metrics)"
   ]
  }
 ],
 "metadata": {
  "kernelspec": {
   "display_name": "Python 3 (ipykernel)",
   "language": "python",
   "name": "python3"
  },
  "language_info": {
   "codemirror_mode": {
    "name": "ipython",
    "version": 3
   },
   "file_extension": ".py",
   "mimetype": "text/x-python",
   "name": "python",
   "nbconvert_exporter": "python",
   "pygments_lexer": "ipython3",
   "version": "3.12.7"
  }
 },
 "nbformat": 4,
 "nbformat_minor": 5
}
