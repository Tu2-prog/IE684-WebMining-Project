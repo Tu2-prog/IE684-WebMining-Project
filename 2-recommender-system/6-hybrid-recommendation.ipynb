{
 "cells": [
  {
   "cell_type": "code",
   "id": "initial_id",
   "metadata": {
    "collapsed": true,
    "ExecuteTime": {
     "end_time": "2025-05-16T20:33:48.710011Z",
     "start_time": "2025-05-16T20:33:48.707324Z"
    }
   },
   "source": [
    "from surprise import Reader, Dataset\n",
    "from surprise import SVD, KNNBasic, AlgoBase, PredictionImpossible\n",
    "from surprise.accuracy import rmse, mae, mse\n",
    "import pandas as pd"
   ],
   "outputs": [],
   "execution_count": 40
  },
  {
   "metadata": {
    "ExecuteTime": {
     "end_time": "2025-05-16T20:33:48.772850Z",
     "start_time": "2025-05-16T20:33:48.770246Z"
    }
   },
   "cell_type": "code",
   "source": [
    "def get_true_positives(testset, threshold=4.0):\n",
    "    '''Return items considered relevant per user from the testset.'''\n",
    "    relevant = defaultdict(set)\n",
    "    for uid, iid, true_r in testset:\n",
    "        if true_r >= threshold:\n",
    "            relevant[uid].add(iid)\n",
    "    return relevant"
   ],
   "id": "1af08e0af546178b",
   "outputs": [],
   "execution_count": 41
  },
  {
   "metadata": {
    "ExecuteTime": {
     "end_time": "2025-05-16T20:33:48.830854Z",
     "start_time": "2025-05-16T20:33:48.826452Z"
    }
   },
   "cell_type": "code",
   "source": [
    "from collections import defaultdict\n",
    "\n",
    "def get_top_k(predictions, k=10):\n",
    "    '''Return the top-K recommended items for each user from predictions.'''\n",
    "    top_k = defaultdict(list)\n",
    "    for uid, iid, true_r, est, _ in predictions:\n",
    "        top_k[uid].append((iid, est))\n",
    "\n",
    "    # Sort and pick top k\n",
    "    for uid, user_ratings in top_k.items():\n",
    "        user_ratings.sort(key=lambda x: x[1], reverse=True)\n",
    "        top_k[uid] = [iid for (iid, _) in user_ratings[:k]]\n",
    "\n",
    "    return top_k"
   ],
   "id": "8affb2beb3b9f7f1",
   "outputs": [],
   "execution_count": 42
  },
  {
   "metadata": {
    "ExecuteTime": {
     "end_time": "2025-05-16T20:33:48.890930Z",
     "start_time": "2025-05-16T20:33:48.886799Z"
    }
   },
   "cell_type": "code",
   "source": [
    "def precision_at_k(top_k_preds, relevant_items, k):\n",
    "    precisions = []\n",
    "    for uid in top_k_preds:\n",
    "        if uid in relevant_items:\n",
    "            hits = len(set(top_k_preds[uid]) & relevant_items[uid])\n",
    "            precisions.append(hits / k)\n",
    "\n",
    "    if len(precisions) == 0:\n",
    "        print(\"Warning: No overlap between predicted users and relevant users.\")\n",
    "        return 0.0\n",
    "\n",
    "    return sum(precisions) / len(precisions)\n",
    "\n",
    "def hit_rate_at_k(top_k_preds, relevant_items):\n",
    "    hits = 0\n",
    "    total = 0\n",
    "    for uid in relevant_items:\n",
    "        total += 1\n",
    "        if set(top_k_preds[uid]) & relevant_items[uid]:\n",
    "            hits += 1\n",
    "\n",
    "    if hits == 0:\n",
    "        print(\"Warning: No overlap between predicted users and relevant users.\")\n",
    "        return 0.0\n",
    "    return hits / total"
   ],
   "id": "80d69c637339194b",
   "outputs": [],
   "execution_count": 43
  },
  {
   "metadata": {},
   "cell_type": "markdown",
   "source": "# Reading in Data",
   "id": "d845b3b6aacbe994"
  },
  {
   "metadata": {
    "ExecuteTime": {
     "end_time": "2025-05-16T20:33:49.272961Z",
     "start_time": "2025-05-16T20:33:48.948262Z"
    }
   },
   "cell_type": "code",
   "source": [
    "columns = [\"feel_true_rating\", \"look_true_rating\", \"smell_true_rating\", \"taste_true_rating\", \"overall\", \"score\", \"date\", \"text\"]\n",
    "train_df = pd.read_csv(\"../data/RecSys_AspectSentiment_train.csv\")\n",
    "test_df = pd.read_csv(\"../data/RecSys_AspectSentiment_train.csv\")"
   ],
   "id": "bc9cffef3ceeb36e",
   "outputs": [],
   "execution_count": 44
  },
  {
   "metadata": {
    "ExecuteTime": {
     "end_time": "2025-05-16T20:33:49.303642Z",
     "start_time": "2025-05-16T20:33:49.294429Z"
    }
   },
   "cell_type": "code",
   "source": [
    "# create new dataframe dropping columns from columns\n",
    "train_df = train_df.drop(columns=columns)\n",
    "test_df = test_df.drop(columns=columns)"
   ],
   "id": "3c6fd106c2c64a44",
   "outputs": [],
   "execution_count": 45
  },
  {
   "metadata": {
    "ExecuteTime": {
     "end_time": "2025-05-16T20:33:49.366063Z",
     "start_time": "2025-05-16T20:33:49.354747Z"
    }
   },
   "cell_type": "code",
   "source": [
    "train_df['score'] = train_df[['feel_predicted_rating', 'look_predicted_rating', 'smell_predicted_rating', 'taste_predicted_rating']].mean(axis=1)\n",
    "test_df['score'] = test_df[['feel_predicted_rating', 'look_predicted_rating', 'smell_predicted_rating', 'taste_predicted_rating']].mean(axis=1)"
   ],
   "id": "614e7859819ccb10",
   "outputs": [],
   "execution_count": 46
  },
  {
   "metadata": {
    "ExecuteTime": {
     "end_time": "2025-05-16T20:33:49.486847Z",
     "start_time": "2025-05-16T20:33:49.421526Z"
    }
   },
   "cell_type": "code",
   "source": [
    "X_train1 = Dataset.load_from_df(train_df[[\"username\", \"beer_id\", \"score\"]], reader=Reader(rating_scale=(0, 5)))\n",
    "X_test1 = Dataset.load_from_df(test_df[[\"username\", \"beer_id\", \"score\"]], reader=Reader(rating_scale=(0, 5)))\n",
    "trainset = X_train1.build_full_trainset()\n",
    "test_set = X_test1.build_full_trainset().build_testset()"
   ],
   "id": "109239835577cf60",
   "outputs": [],
   "execution_count": 47
  },
  {
   "metadata": {
    "ExecuteTime": {
     "end_time": "2025-05-16T20:33:49.561845Z",
     "start_time": "2025-05-16T20:33:49.555734Z"
    }
   },
   "cell_type": "code",
   "source": [
    "class HybridRecommender(AlgoBase):\n",
    "    def __init__(self, k=5, svd_params=None, user_knn_params=None, item_knn_params=None):\n",
    "        AlgoBase.__init__(self)\n",
    "        self.k = k\n",
    "        self.svd_params = svd_params or {}\n",
    "        self.user_knn_params = user_knn_params or {}\n",
    "        self.item_knn_params = item_knn_params or {}\n",
    "\n",
    "    def fit(self, trainset):\n",
    "        AlgoBase.fit(self, trainset)\n",
    "\n",
    "        self.user_based = KNNBasic(sim_options={\n",
    "            'name': self.user_knn_params.get(\"name\", \"pearson\"),\n",
    "            'user_based': True,\n",
    "            'min_support': self.user_knn_params.get(\"min_support\", 1)\n",
    "        })\n",
    "        self.user_based.fit(trainset)\n",
    "\n",
    "        self.item_based = KNNBasic(sim_options={\n",
    "            'name': self.item_knn_params.get(\"name\", \"cosine\"),\n",
    "            'user_based': False,\n",
    "            'min_support': self.item_knn_params.get(\"min_support\", 1)\n",
    "        })\n",
    "        self.item_based.fit(trainset)\n",
    "\n",
    "        self.svd = SVD(**self.svd_params)\n",
    "        self.svd.fit(trainset)\n",
    "\n",
    "        return self\n",
    "\n",
    "    def estimate(self, u, i):\n",
    "        if self.trainset.knows_user(u):\n",
    "            r_user_based = self.user_based.estimate(u, i)\n",
    "            r_item_based = self.item_based.estimate(u, i)\n",
    "            r_svd = self.svd.estimate(u, i)\n",
    "            rating = (r_user_based[0] + r_item_based[0] + r_svd) / 3\n",
    "        else:\n",
    "            raise PredictionImpossible(\"User is unknown.\")\n",
    "        return rating\n"
   ],
   "id": "f0ba1235c09a5c99",
   "outputs": [],
   "execution_count": 48
  },
  {
   "metadata": {
    "ExecuteTime": {
     "end_time": "2025-05-16T20:33:52.179604Z",
     "start_time": "2025-05-16T20:33:49.612600Z"
    }
   },
   "cell_type": "code",
   "source": [
    "# First prediction\n",
    "algo = HybridRecommender()\n",
    "algo.fit(trainset)\n",
    "predictions = algo.test(test_set)\n",
    "\n",
    "mae(predictions)\n",
    "mse(predictions)\n",
    "rmse(predictions)"
   ],
   "id": "f901671b84a1f77d",
   "outputs": [
    {
     "name": "stdout",
     "output_type": "stream",
     "text": [
      "Computing the pearson similarity matrix...\n",
      "Done computing similarity matrix.\n",
      "Computing the cosine similarity matrix...\n",
      "Done computing similarity matrix.\n",
      "MAE:  0.2035\n",
      "MSE: 0.0675\n",
      "RMSE: 0.2597\n"
     ]
    },
    {
     "data": {
      "text/plain": [
       "0.2597443911417997"
      ]
     },
     "execution_count": 49,
     "metadata": {},
     "output_type": "execute_result"
    }
   ],
   "execution_count": 49
  },
  {
   "metadata": {
    "ExecuteTime": {
     "end_time": "2025-05-16T20:33:52.224270Z",
     "start_time": "2025-05-16T20:33:52.199893Z"
    }
   },
   "cell_type": "code",
   "source": [
    "K = 10\n",
    "top_k_preds = get_top_k(predictions, k=K)\n",
    "relevant_items = get_true_positives(test_set, threshold=4.0)\n",
    "\n",
    "prec = precision_at_k(top_k_preds, relevant_items, k=K)\n",
    "hit = hit_rate_at_k(top_k_preds, relevant_items)\n",
    "\n",
    "print(f'Precision@{K}: {prec:.4f}')\n",
    "print(f'Hit Rate@{K}: {hit:.4f}')"
   ],
   "id": "e1972a01d5569f3f",
   "outputs": [
    {
     "name": "stdout",
     "output_type": "stream",
     "text": [
      "Precision@10: 0.1947\n",
      "Hit Rate@10: 1.0000\n"
     ]
    }
   ],
   "execution_count": 50
  },
  {
   "metadata": {
    "ExecuteTime": {
     "end_time": "2025-05-16T20:34:05.053840Z",
     "start_time": "2025-05-16T20:33:52.260026Z"
    }
   },
   "cell_type": "code",
   "source": [
    "from surprise import accuracy\n",
    "import itertools\n",
    "\n",
    "# Define parameter grid\n",
    "param_grid = {\n",
    "    'svd_params': [\n",
    "        {'n_epochs': 20, 'lr_all': 0.005, 'reg_all': 0.02},\n",
    "        {'n_epochs': 30, 'lr_all': 0.01, 'reg_all': 0.1}\n",
    "    ],\n",
    "    'user_knn_params': [\n",
    "        {'name': 'pearson', 'min_support': 1},\n",
    "        {'name': 'cosine', 'min_support': 1}\n",
    "    ],\n",
    "    'item_knn_params': [\n",
    "        {'name': 'cosine', 'min_support': 1},\n",
    "        {'name': 'msd', 'min_support': 1}\n",
    "    ]\n",
    "}\n",
    "\n",
    "# All combinations\n",
    "combinations = list(itertools.product(\n",
    "    param_grid['svd_params'],\n",
    "    param_grid['user_knn_params'],\n",
    "    param_grid['item_knn_params']\n",
    "))\n",
    "\n",
    "best_rmse = float(\"inf\")\n",
    "best_params = None\n",
    "\n",
    "for svd_p, user_knn_p, item_knn_p in combinations:\n",
    "    algo = HybridRecommender(svd_params=svd_p, user_knn_params=user_knn_p, item_knn_params=item_knn_p)\n",
    "    algo.fit(trainset)\n",
    "    predictions = algo.test(test_set)\n",
    "    rmse_val = accuracy.rmse(predictions, verbose=False)\n",
    "\n",
    "    if rmse_val < best_rmse:\n",
    "        best_rmse = rmse_val\n",
    "        best_params = (svd_p, user_knn_p, item_knn_p)\n",
    "\n",
    "print(\"Best RMSE:\", best_rmse)\n",
    "print(\"Best Params:\", best_params)"
   ],
   "id": "69e9e575d8f6b44f",
   "outputs": [
    {
     "name": "stdout",
     "output_type": "stream",
     "text": [
      "Computing the pearson similarity matrix...\n",
      "Done computing similarity matrix.\n",
      "Computing the cosine similarity matrix...\n",
      "Done computing similarity matrix.\n",
      "Computing the pearson similarity matrix...\n",
      "Done computing similarity matrix.\n",
      "Computing the msd similarity matrix...\n",
      "Done computing similarity matrix.\n",
      "Computing the cosine similarity matrix...\n",
      "Done computing similarity matrix.\n",
      "Computing the cosine similarity matrix...\n",
      "Done computing similarity matrix.\n",
      "Computing the cosine similarity matrix...\n",
      "Done computing similarity matrix.\n",
      "Computing the msd similarity matrix...\n",
      "Done computing similarity matrix.\n",
      "Computing the pearson similarity matrix...\n",
      "Done computing similarity matrix.\n",
      "Computing the cosine similarity matrix...\n",
      "Done computing similarity matrix.\n",
      "Computing the pearson similarity matrix...\n",
      "Done computing similarity matrix.\n",
      "Computing the msd similarity matrix...\n",
      "Done computing similarity matrix.\n",
      "Computing the cosine similarity matrix...\n",
      "Done computing similarity matrix.\n",
      "Computing the cosine similarity matrix...\n",
      "Done computing similarity matrix.\n",
      "Computing the cosine similarity matrix...\n",
      "Done computing similarity matrix.\n",
      "Computing the msd similarity matrix...\n",
      "Done computing similarity matrix.\n",
      "Best RMSE: 0.1640367156908764\n",
      "Best Params: ({'n_epochs': 30, 'lr_all': 0.01, 'reg_all': 0.1}, {'name': 'cosine', 'min_support': 1}, {'name': 'msd', 'min_support': 1})\n"
     ]
    }
   ],
   "execution_count": 51
  },
  {
   "metadata": {
    "ExecuteTime": {
     "end_time": "2025-05-16T20:34:05.070726Z",
     "start_time": "2025-05-16T20:34:05.068849Z"
    }
   },
   "cell_type": "code",
   "source": [
    "svd_p = {'n_epochs': 30, 'lr_all': 0.01, 'reg_all': 0.1}\n",
    "user_knn_p = {'name': 'cosine', 'min_support': 1}\n",
    "item_knn_p = {'name': 'msd', 'min_support': 1}"
   ],
   "id": "3dcb591d9294b8d0",
   "outputs": [],
   "execution_count": 52
  },
  {
   "metadata": {
    "ExecuteTime": {
     "end_time": "2025-05-16T20:34:06.543005Z",
     "start_time": "2025-05-16T20:34:05.122403Z"
    }
   },
   "cell_type": "code",
   "source": [
    "algo = HybridRecommender(svd_params=svd_p, user_knn_params=user_knn_p, item_knn_params=item_knn_p)\n",
    "algo.fit(trainset)\n",
    "predictions = algo.test(test_set)\n",
    "\n",
    "mae(predictions)\n",
    "mse(predictions)\n",
    "rmse(predictions)"
   ],
   "id": "97ec1ec86506a55d",
   "outputs": [
    {
     "name": "stdout",
     "output_type": "stream",
     "text": [
      "Computing the cosine similarity matrix...\n",
      "Done computing similarity matrix.\n",
      "Computing the msd similarity matrix...\n",
      "Done computing similarity matrix.\n",
      "MAE:  0.1242\n",
      "MSE: 0.0268\n",
      "RMSE: 0.1638\n"
     ]
    },
    {
     "data": {
      "text/plain": [
       "0.16382826919438961"
      ]
     },
     "execution_count": 53,
     "metadata": {},
     "output_type": "execute_result"
    }
   ],
   "execution_count": 53
  },
  {
   "metadata": {
    "ExecuteTime": {
     "end_time": "2025-05-16T20:34:06.581075Z",
     "start_time": "2025-05-16T20:34:06.558423Z"
    }
   },
   "cell_type": "code",
   "source": [
    "K = 10\n",
    "top_k_preds = get_top_k(predictions, k=K)\n",
    "relevant_items = get_true_positives(test_set, threshold=4.0)\n",
    "\n",
    "prec = precision_at_k(top_k_preds, relevant_items, k=K)\n",
    "hit = hit_rate_at_k(top_k_preds, relevant_items)\n",
    "\n",
    "print(f'Precision@{K}: {prec:.4f}')\n",
    "print(f'Hit Rate@{K}: {hit:.4f}')"
   ],
   "id": "3ab5c6711f8407e0",
   "outputs": [
    {
     "name": "stdout",
     "output_type": "stream",
     "text": [
      "Precision@10: 0.1948\n",
      "Hit Rate@10: 1.0000\n"
     ]
    }
   ],
   "execution_count": 54
  },
  {
   "metadata": {
    "ExecuteTime": {
     "end_time": "2025-05-16T20:34:06.623603Z",
     "start_time": "2025-05-16T20:34:06.618858Z"
    }
   },
   "cell_type": "code",
   "source": [
    "from surprise import AlgoBase, KNNBasic, SVD\n",
    "from surprise import PredictionImpossible\n",
    "\n",
    "class HybridRecommenderMonolithic(AlgoBase):\n",
    "    def __init__(self, w_user=0.3, w_item=0.3, w_svd=0.4, k=5, svd_params=None, sim_options_user=None, sim_options_item=None):\n",
    "        AlgoBase.__init__(self)\n",
    "        self.k = k\n",
    "        self.w_user = w_user\n",
    "        self.w_item = w_item\n",
    "        self.w_svd = w_svd\n",
    "        self.svd_params = svd_params or {}\n",
    "        self.sim_options_user = sim_options_user or {'name': 'pearson', 'user_based': True, 'min_support': 1}\n",
    "        self.sim_options_item = sim_options_item or {'name': 'cosine', 'user_based': False, 'min_support': 1}\n",
    "\n",
    "    def fit(self, trainset):\n",
    "        AlgoBase.fit(self, trainset)\n",
    "\n",
    "        # Fit SVD\n",
    "        self.svd = SVD(**self.svd_params)\n",
    "        self.svd.fit(trainset)\n",
    "\n",
    "        # Fit User-based KNN\n",
    "        self.user_based = KNNBasic(sim_options=self.sim_options_user)\n",
    "        self.user_based.fit(trainset)\n",
    "\n",
    "        # Fit Item-based KNN\n",
    "        self.item_based = KNNBasic(sim_options=self.sim_options_item)\n",
    "        self.item_based.fit(trainset)\n",
    "\n",
    "        return self\n",
    "\n",
    "    def estimate(self, u, i):\n",
    "        if not self.trainset.knows_user(u) or not self.trainset.knows_item(i):\n",
    "            raise PredictionImpossible(\"User or item is unknown.\")\n",
    "\n",
    "        try:\n",
    "            r_user = self.user_based.estimate(u, i)\n",
    "        except PredictionImpossible:\n",
    "            r_user = (0.0, None)\n",
    "\n",
    "        try:\n",
    "            r_item = self.item_based.estimate(u, i)\n",
    "        except PredictionImpossible:\n",
    "            r_item = (0.0, None)\n",
    "\n",
    "        try:\n",
    "            r_svd = self.svd.estimate(u, i)\n",
    "        except PredictionImpossible:\n",
    "            r_svd = 0.0\n",
    "\n",
    "        # Weighted combination (monolithic logic)\n",
    "        rating = (self.w_user * r_user[0] +\n",
    "                  self.w_item * r_item[0] +\n",
    "                  self.w_svd * r_svd)\n",
    "\n",
    "        return rating"
   ],
   "id": "79f033ce419e80d8",
   "outputs": [],
   "execution_count": 55
  },
  {
   "metadata": {
    "ExecuteTime": {
     "end_time": "2025-05-16T20:34:08.529211Z",
     "start_time": "2025-05-16T20:34:06.671878Z"
    }
   },
   "cell_type": "code",
   "source": [
    "algo2 = HybridRecommenderMonolithic(svd_params={'n_epochs': 20, 'lr_all': 0.005, 'reg_all': 0.02})\n",
    "algo2.fit(trainset)\n",
    "predictions2 = algo2.test(test_set)\n",
    "\n",
    "mae(predictions2)\n",
    "mse(predictions2)\n",
    "rmse(predictions2)"
   ],
   "id": "2c5040f17f4f8168",
   "outputs": [
    {
     "name": "stdout",
     "output_type": "stream",
     "text": [
      "Computing the pearson similarity matrix...\n",
      "Done computing similarity matrix.\n",
      "Computing the cosine similarity matrix...\n",
      "Done computing similarity matrix.\n",
      "MAE:  0.2101\n",
      "MSE: 0.0710\n",
      "RMSE: 0.2664\n"
     ]
    },
    {
     "data": {
      "text/plain": [
       "0.2664043125371097"
      ]
     },
     "execution_count": 56,
     "metadata": {},
     "output_type": "execute_result"
    }
   ],
   "execution_count": 56
  },
  {
   "metadata": {
    "ExecuteTime": {
     "end_time": "2025-05-16T20:34:08.562015Z",
     "start_time": "2025-05-16T20:34:08.547707Z"
    }
   },
   "cell_type": "code",
   "source": [
    "K = 10\n",
    "top_k_preds = get_top_k(predictions2, k=K)\n",
    "relevant_items = get_true_positives(test_set, threshold=4.0)\n",
    "\n",
    "prec = precision_at_k(top_k_preds, relevant_items, k=K)\n",
    "hit = hit_rate_at_k(top_k_preds, relevant_items)\n",
    "\n",
    "print(f'Precision@{K}: {prec:.4f}')\n",
    "print(f'Hit Rate@{K}: {hit:.4f}')"
   ],
   "id": "23d87c268583a63a",
   "outputs": [
    {
     "name": "stdout",
     "output_type": "stream",
     "text": [
      "Precision@10: 0.1939\n",
      "Hit Rate@10: 1.0000\n"
     ]
    }
   ],
   "execution_count": 57
  },
  {
   "metadata": {
    "ExecuteTime": {
     "end_time": "2025-05-16T20:34:16.119117Z",
     "start_time": "2025-05-16T20:34:08.601874Z"
    }
   },
   "cell_type": "code",
   "source": [
    "param_grid = {\n",
    "    'svd_params': [\n",
    "        {'n_epochs': 20, 'lr_all': 0.005, 'reg_all': 0.02},\n",
    "        {'n_epochs': 30, 'lr_all': 0.01, 'reg_all': 0.1}\n",
    "    ],\n",
    "    'user_knn_params': [\n",
    "        {'name': 'pearson', 'min_support': 1},\n",
    "        {'name': 'cosine', 'min_support': 1}\n",
    "    ],\n",
    "    'item_knn_params': [\n",
    "        {'name': 'cosine', 'min_support': 1},\n",
    "        {'name': 'msd', 'min_support': 1}\n",
    "    ]\n",
    "}\n",
    "\n",
    "# All combinations\n",
    "combinations = list(itertools.product(\n",
    "    param_grid['svd_params'],\n",
    "    param_grid['user_knn_params'],\n",
    "    param_grid['item_knn_params']\n",
    "))\n",
    "\n",
    "best_rmse = float(\"inf\")\n",
    "best_params = None\n",
    "\n",
    "for svd_p, user_knn_p, item_knn_p in combinations:\n",
    "    algo = HybridRecommenderMonolithic(svd_params=svd_p, sim_options_user=user_knn_p, sim_options_item=item_knn_p)\n",
    "    algo.fit(trainset)\n",
    "    predictions = algo.test(test_set)\n",
    "    rmse_val = accuracy.rmse(predictions, verbose=False)\n",
    "\n",
    "    if rmse_val < best_rmse:\n",
    "        best_rmse = rmse_val\n",
    "        best_params = (svd_p, user_knn_p, item_knn_p)\n",
    "\n",
    "print(\"Best RMSE:\", best_rmse)\n",
    "print(\"Best Params:\", best_params)"
   ],
   "id": "fb53b58b9fc036e9",
   "outputs": [
    {
     "name": "stdout",
     "output_type": "stream",
     "text": [
      "Computing the pearson similarity matrix...\n",
      "Done computing similarity matrix.\n",
      "Computing the cosine similarity matrix...\n",
      "Done computing similarity matrix.\n",
      "Computing the pearson similarity matrix...\n",
      "Done computing similarity matrix.\n",
      "Computing the msd similarity matrix...\n",
      "Done computing similarity matrix.\n",
      "Computing the cosine similarity matrix...\n",
      "Done computing similarity matrix.\n",
      "Computing the cosine similarity matrix...\n",
      "Done computing similarity matrix.\n",
      "Computing the cosine similarity matrix...\n",
      "Done computing similarity matrix.\n",
      "Computing the msd similarity matrix...\n",
      "Done computing similarity matrix.\n",
      "Computing the pearson similarity matrix...\n",
      "Done computing similarity matrix.\n",
      "Computing the cosine similarity matrix...\n",
      "Done computing similarity matrix.\n",
      "Computing the pearson similarity matrix...\n",
      "Done computing similarity matrix.\n",
      "Computing the msd similarity matrix...\n",
      "Done computing similarity matrix.\n",
      "Computing the cosine similarity matrix...\n",
      "Done computing similarity matrix.\n",
      "Computing the cosine similarity matrix...\n",
      "Done computing similarity matrix.\n",
      "Computing the cosine similarity matrix...\n",
      "Done computing similarity matrix.\n",
      "Computing the msd similarity matrix...\n",
      "Done computing similarity matrix.\n",
      "Best RMSE: 0.0816749836093069\n",
      "Best Params: ({'n_epochs': 30, 'lr_all': 0.01, 'reg_all': 0.1}, {'name': 'cosine', 'min_support': 1, 'user_based': True}, {'name': 'cosine', 'min_support': 1, 'user_based': True})\n"
     ]
    }
   ],
   "execution_count": 58
  },
  {
   "metadata": {
    "ExecuteTime": {
     "end_time": "2025-05-16T20:34:16.137573Z",
     "start_time": "2025-05-16T20:34:16.135641Z"
    }
   },
   "cell_type": "code",
   "source": [
    "svd_p = {'n_epochs': 30, 'lr_all': 0.01, 'reg_all': 0.1}\n",
    "user_knn_p = {'name': 'cosine', 'min_support': 1, 'user_based': True}\n",
    "item_knn_p = {'name': 'msd', 'min_support': 1, 'user_based': True}"
   ],
   "id": "e19d65abaa5cbf00",
   "outputs": [],
   "execution_count": 59
  },
  {
   "metadata": {
    "ExecuteTime": {
     "end_time": "2025-05-16T20:34:17.283403Z",
     "start_time": "2025-05-16T20:34:16.188202Z"
    }
   },
   "cell_type": "code",
   "source": [
    "algo2 = HybridRecommenderMonolithic(svd_params=svd_p, sim_options_user=user_knn_p, sim_options_item=item_knn_p)\n",
    "algo2.fit(trainset)\n",
    "predictions2 = algo2.test(test_set)\n",
    "\n",
    "mae(predictions2)\n",
    "mse(predictions2)\n",
    "rmse(predictions2)"
   ],
   "id": "6d70e2ed0b160206",
   "outputs": [
    {
     "name": "stdout",
     "output_type": "stream",
     "text": [
      "Computing the cosine similarity matrix...\n",
      "Done computing similarity matrix.\n",
      "Computing the msd similarity matrix...\n",
      "Done computing similarity matrix.\n",
      "MAE:  0.0620\n",
      "MSE: 0.0067\n",
      "RMSE: 0.0818\n"
     ]
    },
    {
     "data": {
      "text/plain": [
       "0.08184027146981102"
      ]
     },
     "execution_count": 60,
     "metadata": {},
     "output_type": "execute_result"
    }
   ],
   "execution_count": 60
  },
  {
   "metadata": {
    "ExecuteTime": {
     "end_time": "2025-05-16T20:34:17.315980Z",
     "start_time": "2025-05-16T20:34:17.298511Z"
    }
   },
   "cell_type": "code",
   "source": [
    "K = 10\n",
    "top_k_preds = get_top_k(predictions2, k=K)\n",
    "relevant_items = get_true_positives(test_set, threshold=4.0)\n",
    "\n",
    "prec = precision_at_k(top_k_preds, relevant_items, k=K)\n",
    "hit = hit_rate_at_k(top_k_preds, relevant_items)\n",
    "\n",
    "print(f'Precision@{K}: {prec:.4f}')\n",
    "print(f'Hit Rate@{K}: {hit:.4f}')"
   ],
   "id": "d5a2d79587162720",
   "outputs": [
    {
     "name": "stdout",
     "output_type": "stream",
     "text": [
      "Precision@10: 0.1950\n",
      "Hit Rate@10: 1.0000\n"
     ]
    }
   ],
   "execution_count": 61
  }
 ],
 "metadata": {
  "kernelspec": {
   "display_name": "Python 3",
   "language": "python",
   "name": "python3"
  },
  "language_info": {
   "codemirror_mode": {
    "name": "ipython",
    "version": 2
   },
   "file_extension": ".py",
   "mimetype": "text/x-python",
   "name": "python",
   "nbconvert_exporter": "python",
   "pygments_lexer": "ipython2",
   "version": "2.7.6"
  }
 },
 "nbformat": 4,
 "nbformat_minor": 5
}
