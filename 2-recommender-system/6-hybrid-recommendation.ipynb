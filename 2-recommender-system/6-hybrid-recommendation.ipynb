{
 "cells": [
  {
   "cell_type": "code",
   "id": "initial_id",
   "metadata": {
    "collapsed": true,
    "ExecuteTime": {
     "end_time": "2025-05-13T20:24:10.857721Z",
     "start_time": "2025-05-13T20:24:10.854864Z"
    }
   },
   "source": [
    "from surprise import Reader, Dataset\n",
    "from surprise import SVD, KNNBasic, AlgoBase, PredictionImpossible\n",
    "from surprise.accuracy import rmse, mae, mse\n",
    "import pandas as pd"
   ],
   "outputs": [],
   "execution_count": 3
  },
  {
   "metadata": {
    "ExecuteTime": {
     "end_time": "2025-05-13T20:24:18.910992Z",
     "start_time": "2025-05-13T20:24:10.908432Z"
    }
   },
   "cell_type": "code",
   "source": [
    "columns = [\"feel_true_rating\", \"look_true_rating\", \"smell_true_rating\", \"taste_true_rating\", \"overall\", \"score\", \"aspect\", \"date\", \"text\", \"true_rating\"]\n",
    "train_df = pd.read_csv(\"../data/train_wide.csv\")\n",
    "test_df = pd.read_csv(\"../data/test_wide.csv\")\n",
    "model_evaluation_df = pd.read_csv(\"../data/model_evaluation_results.csv\")\n",
    "model_evaluation_df = model_evaluation_df.drop_duplicates(subset=['beer_id', 'username'])"
   ],
   "id": "bc9cffef3ceeb36e",
   "outputs": [],
   "execution_count": 4
  },
  {
   "metadata": {
    "ExecuteTime": {
     "end_time": "2025-05-13T20:24:18.951467Z",
     "start_time": "2025-05-13T20:24:18.931335Z"
    }
   },
   "cell_type": "code",
   "source": [
    "# Perform a left join of train_df with model_evaluation_df on 'beer_id' and 'username'\n",
    "train_merged = pd.merge(train_df, model_evaluation_df, on=['beer_id', 'username'], how='left')\n",
    "\n",
    "# Perform a left join of test_df with model_evaluation_df on 'beer_id' and 'username'\n",
    "test_merged = pd.merge(test_df, model_evaluation_df, on=['beer_id', 'username'], how='left')"
   ],
   "id": "3c7825c8e30db510",
   "outputs": [],
   "execution_count": 5
  },
  {
   "metadata": {
    "ExecuteTime": {
     "end_time": "2025-05-13T20:24:18.993546Z",
     "start_time": "2025-05-13T20:24:18.988919Z"
    }
   },
   "cell_type": "code",
   "source": [
    "# create new dataframe dropping columns from columns\n",
    "train_merged = train_merged.drop(columns=columns)\n",
    "test_merged = test_merged.drop(columns=columns)"
   ],
   "id": "3c6fd106c2c64a44",
   "outputs": [],
   "execution_count": 6
  },
  {
   "metadata": {
    "ExecuteTime": {
     "end_time": "2025-05-13T20:24:19.051407Z",
     "start_time": "2025-05-13T20:24:19.044656Z"
    }
   },
   "cell_type": "code",
   "source": [
    "train_merged['score'] = train_merged[['feel_predicted_rating', 'look_predicted_rating', 'smell_predicted_rating', 'taste_predicted_rating', 'predicted_rating']].mean(axis=1)\n",
    "test_merged['score'] = test_merged[['feel_predicted_rating', 'look_predicted_rating', 'smell_predicted_rating', 'taste_predicted_rating', 'predicted_rating']].mean(axis=1)"
   ],
   "id": "614e7859819ccb10",
   "outputs": [],
   "execution_count": 7
  },
  {
   "metadata": {
    "ExecuteTime": {
     "end_time": "2025-05-13T20:24:19.164403Z",
     "start_time": "2025-05-13T20:24:19.102265Z"
    }
   },
   "cell_type": "code",
   "source": [
    "X_train1 = Dataset.load_from_df(train_merged[[\"username\", \"beer_id\", \"score\"]], reader=Reader(rating_scale=(0, 5)))\n",
    "X_test1 = Dataset.load_from_df(test_merged[[\"username\", \"beer_id\", \"score\"]], reader=Reader(rating_scale=(0, 5)))\n",
    "trainset = X_train1.build_full_trainset()\n",
    "test_set = X_test1.build_full_trainset().build_testset()"
   ],
   "id": "109239835577cf60",
   "outputs": [],
   "execution_count": 8
  },
  {
   "metadata": {
    "ExecuteTime": {
     "end_time": "2025-05-13T20:30:15.195703Z",
     "start_time": "2025-05-13T20:30:15.189180Z"
    }
   },
   "cell_type": "code",
   "source": [
    "class HybridRecommender(AlgoBase):\n",
    "    def __init__(self, k=5, svd_params=None, user_knn_params=None, item_knn_params=None):\n",
    "        AlgoBase.__init__(self)\n",
    "        self.k = k\n",
    "        self.svd_params = svd_params or {}\n",
    "        self.user_knn_params = user_knn_params or {}\n",
    "        self.item_knn_params = item_knn_params or {}\n",
    "\n",
    "    def fit(self, trainset):\n",
    "        AlgoBase.fit(self, trainset)\n",
    "\n",
    "        self.user_based = KNNBasic(sim_options={\n",
    "            'name': self.user_knn_params.get(\"name\", \"pearson\"),\n",
    "            'user_based': True,\n",
    "            'min_support': self.user_knn_params.get(\"min_support\", 1)\n",
    "        })\n",
    "        self.user_based.fit(trainset)\n",
    "\n",
    "        self.item_based = KNNBasic(sim_options={\n",
    "            'name': self.item_knn_params.get(\"name\", \"cosine\"),\n",
    "            'user_based': False,\n",
    "            'min_support': self.item_knn_params.get(\"min_support\", 1)\n",
    "        })\n",
    "        self.item_based.fit(trainset)\n",
    "\n",
    "        self.svd = SVD(**self.svd_params)\n",
    "        self.svd.fit(trainset)\n",
    "\n",
    "        return self\n",
    "\n",
    "    def estimate(self, u, i):\n",
    "        if self.trainset.knows_user(u):\n",
    "            r_user_based = self.user_based.estimate(u, i)\n",
    "            r_item_based = self.item_based.estimate(u, i)\n",
    "            r_svd = self.svd.estimate(u, i)\n",
    "            rating = (r_user_based[0] + r_item_based[0] + r_svd) / 3\n",
    "        else:\n",
    "            raise PredictionImpossible(\"User is unknown.\")\n",
    "        return rating\n"
   ],
   "id": "f0ba1235c09a5c99",
   "outputs": [],
   "execution_count": 29
  },
  {
   "metadata": {
    "ExecuteTime": {
     "end_time": "2025-05-13T20:32:40.477373Z",
     "start_time": "2025-05-13T20:32:37.338449Z"
    }
   },
   "cell_type": "code",
   "source": [
    "# First prediction\n",
    "algo = HybridRecommender()\n",
    "algo.fit(trainset)\n",
    "predictions = algo.test(test_set)\n",
    "\n",
    "mae(predictions)\n",
    "mse(predictions)\n",
    "rmse(predictions)"
   ],
   "id": "f901671b84a1f77d",
   "outputs": [
    {
     "name": "stdout",
     "output_type": "stream",
     "text": [
      "Computing the pearson similarity matrix...\n",
      "Done computing similarity matrix.\n",
      "Computing the cosine similarity matrix...\n",
      "Done computing similarity matrix.\n",
      "MAE:  0.6009\n",
      "MSE: 0.5014\n",
      "RMSE: 0.7081\n"
     ]
    },
    {
     "data": {
      "text/plain": [
       "0.7081009973147933"
      ]
     },
     "execution_count": 31,
     "metadata": {},
     "output_type": "execute_result"
    }
   ],
   "execution_count": 31
  },
  {
   "metadata": {
    "ExecuteTime": {
     "end_time": "2025-05-13T20:33:03.590613Z",
     "start_time": "2025-05-13T20:32:44.227490Z"
    }
   },
   "cell_type": "code",
   "source": [
    "from surprise import accuracy\n",
    "import itertools\n",
    "\n",
    "# Define parameter grid\n",
    "param_grid = {\n",
    "    'svd_params': [\n",
    "        {'n_epochs': 20, 'lr_all': 0.005, 'reg_all': 0.02},\n",
    "        {'n_epochs': 30, 'lr_all': 0.01, 'reg_all': 0.1}\n",
    "    ],\n",
    "    'user_knn_params': [\n",
    "        {'name': 'pearson', 'min_support': 1},\n",
    "        {'name': 'cosine', 'min_support': 1}\n",
    "    ],\n",
    "    'item_knn_params': [\n",
    "        {'name': 'cosine', 'min_support': 1},\n",
    "        {'name': 'msd', 'min_support': 1}\n",
    "    ]\n",
    "}\n",
    "\n",
    "# All combinations\n",
    "combinations = list(itertools.product(\n",
    "    param_grid['svd_params'],\n",
    "    param_grid['user_knn_params'],\n",
    "    param_grid['item_knn_params']\n",
    "))\n",
    "\n",
    "best_rmse = float(\"inf\")\n",
    "best_params = None\n",
    "\n",
    "for svd_p, user_knn_p, item_knn_p in combinations:\n",
    "    algo = HybridRecommender(svd_params=svd_p, user_knn_params=user_knn_p, item_knn_params=item_knn_p)\n",
    "    algo.fit(trainset)\n",
    "    predictions = algo.test(test_set)\n",
    "    rmse_val = accuracy.rmse(predictions, verbose=False)\n",
    "\n",
    "    if rmse_val < best_rmse:\n",
    "        best_rmse = rmse_val\n",
    "        best_params = (svd_p, user_knn_p, item_knn_p)\n",
    "\n",
    "print(\"Best RMSE:\", best_rmse)\n",
    "print(\"Best Params:\", best_params)"
   ],
   "id": "69e9e575d8f6b44f",
   "outputs": [
    {
     "name": "stdout",
     "output_type": "stream",
     "text": [
      "Computing the pearson similarity matrix...\n",
      "Done computing similarity matrix.\n",
      "Computing the cosine similarity matrix...\n",
      "Done computing similarity matrix.\n",
      "Computing the pearson similarity matrix...\n",
      "Done computing similarity matrix.\n",
      "Computing the msd similarity matrix...\n",
      "Done computing similarity matrix.\n",
      "Computing the cosine similarity matrix...\n",
      "Done computing similarity matrix.\n",
      "Computing the cosine similarity matrix...\n",
      "Done computing similarity matrix.\n",
      "Computing the cosine similarity matrix...\n",
      "Done computing similarity matrix.\n",
      "Computing the msd similarity matrix...\n",
      "Done computing similarity matrix.\n",
      "Computing the pearson similarity matrix...\n",
      "Done computing similarity matrix.\n",
      "Computing the cosine similarity matrix...\n",
      "Done computing similarity matrix.\n",
      "Computing the pearson similarity matrix...\n",
      "Done computing similarity matrix.\n",
      "Computing the msd similarity matrix...\n",
      "Done computing similarity matrix.\n",
      "Computing the cosine similarity matrix...\n",
      "Done computing similarity matrix.\n",
      "Computing the cosine similarity matrix...\n",
      "Done computing similarity matrix.\n",
      "Computing the cosine similarity matrix...\n",
      "Done computing similarity matrix.\n",
      "Computing the msd similarity matrix...\n",
      "Done computing similarity matrix.\n",
      "Best RMSE: 0.6637571383123713\n",
      "Best Params: ({'n_epochs': 30, 'lr_all': 0.01, 'reg_all': 0.1}, {'name': 'cosine', 'min_support': 1}, {'name': 'msd', 'min_support': 1})\n"
     ]
    }
   ],
   "execution_count": 32
  },
  {
   "metadata": {
    "ExecuteTime": {
     "end_time": "2025-05-13T20:37:57.477591Z",
     "start_time": "2025-05-13T20:37:57.470227Z"
    }
   },
   "cell_type": "code",
   "source": [
    "from surprise import AlgoBase, KNNBasic, SVD\n",
    "from surprise import PredictionImpossible\n",
    "\n",
    "class HybridRecommenderMonolithic(AlgoBase):\n",
    "    def __init__(self, w_user=0.3, w_item=0.3, w_svd=0.4, k=5, svd_params=None, sim_options_user=None, sim_options_item=None):\n",
    "        AlgoBase.__init__(self)\n",
    "        self.k = k\n",
    "        self.w_user = w_user\n",
    "        self.w_item = w_item\n",
    "        self.w_svd = w_svd\n",
    "        self.svd_params = svd_params or {}\n",
    "        self.sim_options_user = sim_options_user or {'name': 'pearson', 'user_based': True, 'min_support': 1}\n",
    "        self.sim_options_item = sim_options_item or {'name': 'cosine', 'user_based': False, 'min_support': 1}\n",
    "\n",
    "    def fit(self, trainset):\n",
    "        AlgoBase.fit(self, trainset)\n",
    "\n",
    "        # Fit SVD\n",
    "        self.svd = SVD(**self.svd_params)\n",
    "        self.svd.fit(trainset)\n",
    "\n",
    "        # Fit User-based KNN\n",
    "        self.user_based = KNNBasic(sim_options=self.sim_options_user)\n",
    "        self.user_based.fit(trainset)\n",
    "\n",
    "        # Fit Item-based KNN\n",
    "        self.item_based = KNNBasic(sim_options=self.sim_options_item)\n",
    "        self.item_based.fit(trainset)\n",
    "\n",
    "        return self\n",
    "\n",
    "    def estimate(self, u, i):\n",
    "        if not self.trainset.knows_user(u) or not self.trainset.knows_item(i):\n",
    "            raise PredictionImpossible(\"User or item is unknown.\")\n",
    "\n",
    "        try:\n",
    "            r_user = self.user_based.estimate(u, i)\n",
    "        except PredictionImpossible:\n",
    "            r_user = (0.0, None)\n",
    "\n",
    "        try:\n",
    "            r_item = self.item_based.estimate(u, i)\n",
    "        except PredictionImpossible:\n",
    "            r_item = (0.0, None)\n",
    "\n",
    "        try:\n",
    "            r_svd = self.svd.estimate(u, i)\n",
    "        except PredictionImpossible:\n",
    "            r_svd = 0.0\n",
    "\n",
    "        # Weighted combination (monolithic logic)\n",
    "        rating = (self.w_user * r_user[0] +\n",
    "                  self.w_item * r_item[0] +\n",
    "                  self.w_svd * r_svd)\n",
    "\n",
    "        return rating"
   ],
   "id": "79f033ce419e80d8",
   "outputs": [],
   "execution_count": 41
  },
  {
   "metadata": {
    "ExecuteTime": {
     "end_time": "2025-05-13T20:38:01.962212Z",
     "start_time": "2025-05-13T20:37:58.931334Z"
    }
   },
   "cell_type": "code",
   "source": [
    "algo2 = HybridRecommenderMonolithic(svd_params={'n_epochs': 20, 'lr_all': 0.005, 'reg_all': 0.02})\n",
    "algo2.fit(trainset)\n",
    "predictions2 = algo2.test(test_set)\n",
    "\n",
    "mae(predictions2)\n",
    "mse(predictions2)\n",
    "rmse(predictions2)"
   ],
   "id": "2c5040f17f4f8168",
   "outputs": [
    {
     "name": "stdout",
     "output_type": "stream",
     "text": [
      "Computing the pearson similarity matrix...\n",
      "Done computing similarity matrix.\n",
      "Computing the cosine similarity matrix...\n",
      "Done computing similarity matrix.\n",
      "MAE:  1.2703\n",
      "MSE: 2.3462\n",
      "RMSE: 1.5317\n"
     ]
    },
    {
     "data": {
      "text/plain": [
       "1.5317291861870086"
      ]
     },
     "execution_count": 42,
     "metadata": {},
     "output_type": "execute_result"
    }
   ],
   "execution_count": 42
  },
  {
   "metadata": {
    "ExecuteTime": {
     "end_time": "2025-05-13T20:39:07.254872Z",
     "start_time": "2025-05-13T20:38:57.119868Z"
    }
   },
   "cell_type": "code",
   "source": [
    "param_grid = {\n",
    "    'svd_params': [\n",
    "        {'n_epochs': 20, 'lr_all': 0.005, 'reg_all': 0.02},\n",
    "        {'n_epochs': 30, 'lr_all': 0.01, 'reg_all': 0.1}\n",
    "    ],\n",
    "    'user_knn_params': [\n",
    "        {'name': 'pearson', 'min_support': 1},\n",
    "        {'name': 'cosine', 'min_support': 1}\n",
    "    ],\n",
    "    'item_knn_params': [\n",
    "        {'name': 'cosine', 'min_support': 1},\n",
    "        {'name': 'msd', 'min_support': 1}\n",
    "    ]\n",
    "}\n",
    "\n",
    "# All combinations\n",
    "combinations = list(itertools.product(\n",
    "    param_grid['svd_params'],\n",
    "    param_grid['user_knn_params'],\n",
    "    param_grid['item_knn_params']\n",
    "))\n",
    "\n",
    "best_rmse = float(\"inf\")\n",
    "best_params = None\n",
    "\n",
    "for svd_p, user_knn_p, item_knn_p in combinations:\n",
    "    algo = HybridRecommenderMonolithic(svd_params=svd_p, sim_options_user=user_knn_p, sim_options_item=item_knn_p)\n",
    "    algo.fit(trainset)\n",
    "    predictions = algo.test(test_set)\n",
    "    rmse_val = accuracy.rmse(predictions, verbose=False)\n",
    "\n",
    "    if rmse_val < best_rmse:\n",
    "        best_rmse = rmse_val\n",
    "        best_params = (svd_p, user_knn_p, item_knn_p)\n",
    "\n",
    "print(\"Best RMSE:\", best_rmse)\n",
    "print(\"Best Params:\", best_params)"
   ],
   "id": "fb53b58b9fc036e9",
   "outputs": [
    {
     "name": "stdout",
     "output_type": "stream",
     "text": [
      "Computing the pearson similarity matrix...\n",
      "Done computing similarity matrix.\n",
      "Computing the cosine similarity matrix...\n",
      "Done computing similarity matrix.\n",
      "Computing the pearson similarity matrix...\n",
      "Done computing similarity matrix.\n",
      "Computing the msd similarity matrix...\n",
      "Done computing similarity matrix.\n",
      "Computing the cosine similarity matrix...\n",
      "Done computing similarity matrix.\n",
      "Computing the cosine similarity matrix...\n",
      "Done computing similarity matrix.\n",
      "Computing the cosine similarity matrix...\n",
      "Done computing similarity matrix.\n",
      "Computing the msd similarity matrix...\n",
      "Done computing similarity matrix.\n",
      "Computing the pearson similarity matrix...\n",
      "Done computing similarity matrix.\n",
      "Computing the cosine similarity matrix...\n",
      "Done computing similarity matrix.\n",
      "Computing the pearson similarity matrix...\n",
      "Done computing similarity matrix.\n",
      "Computing the msd similarity matrix...\n",
      "Done computing similarity matrix.\n",
      "Computing the cosine similarity matrix...\n",
      "Done computing similarity matrix.\n",
      "Computing the cosine similarity matrix...\n",
      "Done computing similarity matrix.\n",
      "Computing the cosine similarity matrix...\n",
      "Done computing similarity matrix.\n",
      "Computing the msd similarity matrix...\n",
      "Done computing similarity matrix.\n",
      "Best RMSE: 1.4715235067719847\n",
      "Best Params: ({'n_epochs': 30, 'lr_all': 0.01, 'reg_all': 0.1}, {'name': 'cosine', 'min_support': 1, 'user_based': True}, {'name': 'cosine', 'min_support': 1, 'user_based': True})\n"
     ]
    }
   ],
   "execution_count": 43
  }
 ],
 "metadata": {
  "kernelspec": {
   "display_name": "Python 3",
   "language": "python",
   "name": "python3"
  },
  "language_info": {
   "codemirror_mode": {
    "name": "ipython",
    "version": 2
   },
   "file_extension": ".py",
   "mimetype": "text/x-python",
   "name": "python",
   "nbconvert_exporter": "python",
   "pygments_lexer": "ipython2",
   "version": "2.7.6"
  }
 },
 "nbformat": 4,
 "nbformat_minor": 5
}
