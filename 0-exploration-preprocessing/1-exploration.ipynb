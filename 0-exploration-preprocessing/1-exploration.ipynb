{
 "cells": [
  {
   "cell_type": "markdown",
   "id": "51da3e157c4624a7",
   "metadata": {},
   "source": [
    "# Basic Exploration"
   ]
  },
  {
   "cell_type": "markdown",
   "id": "d4c083a2351cca92",
   "metadata": {},
   "source": [
    "| Author              | Description                                         |\n",
    "|---------------------|-----------------------------------------------------|\n",
    "| Anh Tu Duong Nguyen | This notebook is used to explore the dataset and visualize the distribution of certain variables to gain an initial understanding of the data and which preprocessing steps are necessary. |\n"
   ]
  },
  {
   "cell_type": "code",
   "execution_count": 1,
   "id": "c31050be762d09ba",
   "metadata": {
    "ExecuteTime": {
     "end_time": "2025-04-10T06:41:53.609934Z",
     "start_time": "2025-04-10T06:41:50.371900Z"
    }
   },
   "outputs": [
    {
     "name": "stdout",
     "output_type": "stream",
     "text": [
      "Requirement already satisfied: pandas in /opt/homebrew/anaconda3/envs/pytorch/lib/python3.12/site-packages (2.2.3)\n",
      "Requirement already satisfied: numpy>=1.26.0 in /opt/homebrew/anaconda3/envs/pytorch/lib/python3.12/site-packages (from pandas) (1.26.4)\n",
      "Requirement already satisfied: python-dateutil>=2.8.2 in /opt/homebrew/anaconda3/envs/pytorch/lib/python3.12/site-packages (from pandas) (2.9.0.post0)\n",
      "Requirement already satisfied: pytz>=2020.1 in /opt/homebrew/anaconda3/envs/pytorch/lib/python3.12/site-packages (from pandas) (2025.1)\n",
      "Requirement already satisfied: tzdata>=2022.7 in /opt/homebrew/anaconda3/envs/pytorch/lib/python3.12/site-packages (from pandas) (2025.1)\n",
      "Requirement already satisfied: six>=1.5 in /opt/homebrew/anaconda3/envs/pytorch/lib/python3.12/site-packages (from python-dateutil>=2.8.2->pandas) (1.17.0)\n",
      "Note: you may need to restart the kernel to use updated packages.\n",
      "Requirement already satisfied: emoji in /opt/homebrew/anaconda3/envs/pytorch/lib/python3.12/site-packages (2.14.1)\n",
      "Note: you may need to restart the kernel to use updated packages.\n",
      "Requirement already satisfied: matplotlib in /opt/homebrew/anaconda3/envs/pytorch/lib/python3.12/site-packages (3.10.0)\n",
      "Requirement already satisfied: contourpy>=1.0.1 in /opt/homebrew/anaconda3/envs/pytorch/lib/python3.12/site-packages (from matplotlib) (1.3.1)\n",
      "Requirement already satisfied: cycler>=0.10 in /opt/homebrew/anaconda3/envs/pytorch/lib/python3.12/site-packages (from matplotlib) (0.12.1)\n",
      "Requirement already satisfied: fonttools>=4.22.0 in /opt/homebrew/anaconda3/envs/pytorch/lib/python3.12/site-packages (from matplotlib) (4.56.0)\n",
      "Requirement already satisfied: kiwisolver>=1.3.1 in /opt/homebrew/anaconda3/envs/pytorch/lib/python3.12/site-packages (from matplotlib) (1.4.8)\n",
      "Requirement already satisfied: numpy>=1.23 in /opt/homebrew/anaconda3/envs/pytorch/lib/python3.12/site-packages (from matplotlib) (1.26.4)\n",
      "Requirement already satisfied: packaging>=20.0 in /opt/homebrew/anaconda3/envs/pytorch/lib/python3.12/site-packages (from matplotlib) (24.2)\n",
      "Requirement already satisfied: pillow>=8 in /opt/homebrew/anaconda3/envs/pytorch/lib/python3.12/site-packages (from matplotlib) (11.1.0)\n",
      "Requirement already satisfied: pyparsing>=2.3.1 in /opt/homebrew/anaconda3/envs/pytorch/lib/python3.12/site-packages (from matplotlib) (3.2.1)\n",
      "Requirement already satisfied: python-dateutil>=2.7 in /opt/homebrew/anaconda3/envs/pytorch/lib/python3.12/site-packages (from matplotlib) (2.9.0.post0)\n",
      "Requirement already satisfied: six>=1.5 in /opt/homebrew/anaconda3/envs/pytorch/lib/python3.12/site-packages (from python-dateutil>=2.7->matplotlib) (1.17.0)\n",
      "Note: you may need to restart the kernel to use updated packages.\n",
      "Requirement already satisfied: seaborn in /opt/homebrew/anaconda3/envs/pytorch/lib/python3.12/site-packages (0.13.2)\n",
      "Requirement already satisfied: numpy!=1.24.0,>=1.20 in /opt/homebrew/anaconda3/envs/pytorch/lib/python3.12/site-packages (from seaborn) (1.26.4)\n",
      "Requirement already satisfied: pandas>=1.2 in /opt/homebrew/anaconda3/envs/pytorch/lib/python3.12/site-packages (from seaborn) (2.2.3)\n",
      "Requirement already satisfied: matplotlib!=3.6.1,>=3.4 in /opt/homebrew/anaconda3/envs/pytorch/lib/python3.12/site-packages (from seaborn) (3.10.0)\n",
      "Requirement already satisfied: contourpy>=1.0.1 in /opt/homebrew/anaconda3/envs/pytorch/lib/python3.12/site-packages (from matplotlib!=3.6.1,>=3.4->seaborn) (1.3.1)\n",
      "Requirement already satisfied: cycler>=0.10 in /opt/homebrew/anaconda3/envs/pytorch/lib/python3.12/site-packages (from matplotlib!=3.6.1,>=3.4->seaborn) (0.12.1)\n",
      "Requirement already satisfied: fonttools>=4.22.0 in /opt/homebrew/anaconda3/envs/pytorch/lib/python3.12/site-packages (from matplotlib!=3.6.1,>=3.4->seaborn) (4.56.0)\n",
      "Requirement already satisfied: kiwisolver>=1.3.1 in /opt/homebrew/anaconda3/envs/pytorch/lib/python3.12/site-packages (from matplotlib!=3.6.1,>=3.4->seaborn) (1.4.8)\n",
      "Requirement already satisfied: packaging>=20.0 in /opt/homebrew/anaconda3/envs/pytorch/lib/python3.12/site-packages (from matplotlib!=3.6.1,>=3.4->seaborn) (24.2)\n",
      "Requirement already satisfied: pillow>=8 in /opt/homebrew/anaconda3/envs/pytorch/lib/python3.12/site-packages (from matplotlib!=3.6.1,>=3.4->seaborn) (11.1.0)\n",
      "Requirement already satisfied: pyparsing>=2.3.1 in /opt/homebrew/anaconda3/envs/pytorch/lib/python3.12/site-packages (from matplotlib!=3.6.1,>=3.4->seaborn) (3.2.1)\n",
      "Requirement already satisfied: python-dateutil>=2.7 in /opt/homebrew/anaconda3/envs/pytorch/lib/python3.12/site-packages (from matplotlib!=3.6.1,>=3.4->seaborn) (2.9.0.post0)\n",
      "Requirement already satisfied: pytz>=2020.1 in /opt/homebrew/anaconda3/envs/pytorch/lib/python3.12/site-packages (from pandas>=1.2->seaborn) (2025.1)\n",
      "Requirement already satisfied: tzdata>=2022.7 in /opt/homebrew/anaconda3/envs/pytorch/lib/python3.12/site-packages (from pandas>=1.2->seaborn) (2025.1)\n",
      "Requirement already satisfied: six>=1.5 in /opt/homebrew/anaconda3/envs/pytorch/lib/python3.12/site-packages (from python-dateutil>=2.7->matplotlib!=3.6.1,>=3.4->seaborn) (1.17.0)\n",
      "Note: you may need to restart the kernel to use updated packages.\n"
     ]
    }
   ],
   "source": [
    "%pip install pandas\n",
    "%pip install emoji\n",
    "%pip install matplotlib\n",
    "%pip install seaborn"
   ]
  },
  {
   "cell_type": "markdown",
   "id": "3b4a467c",
   "metadata": {},
   "source": [
    "## 1. Import libraries"
   ]
  },
  {
   "cell_type": "code",
   "execution_count": 1,
   "id": "initial_id",
   "metadata": {
    "ExecuteTime": {
     "end_time": "2025-04-10T06:41:53.689516Z",
     "start_time": "2025-04-10T06:41:53.615975Z"
    },
    "collapsed": true
   },
   "outputs": [],
   "source": [
    "import pandas as pd\n",
    "import emoji\n",
    "import matplotlib.pyplot as plt\n",
    "import seaborn as sns\n",
    "import numpy as np"
   ]
  },
  {
   "cell_type": "markdown",
   "id": "d59f0c30",
   "metadata": {},
   "source": [
    "## 2. Loading dataset"
   ]
  },
  {
   "cell_type": "code",
   "execution_count": 2,
   "id": "2e12de750b762dae",
   "metadata": {
    "ExecuteTime": {
     "end_time": "2025-04-10T06:42:27.557420Z",
     "start_time": "2025-04-10T06:41:53.769248Z"
    }
   },
   "outputs": [
    {
     "data": {
      "text/plain": [
       "(9073128, 10)"
      ]
     },
     "execution_count": 2,
     "metadata": {},
     "output_type": "execute_result"
    }
   ],
   "source": [
    "df = pd.read_csv('../data/reviews.csv')\n",
    "df.shape"
   ]
  },
  {
   "cell_type": "code",
   "execution_count": 3,
   "id": "b6a1393073bdf038",
   "metadata": {
    "ExecuteTime": {
     "end_time": "2025-04-10T06:42:27.632712Z",
     "start_time": "2025-04-10T06:42:27.620585Z"
    }
   },
   "outputs": [
    {
     "data": {
      "text/html": [
       "<div>\n",
       "<style scoped>\n",
       "    .dataframe tbody tr th:only-of-type {\n",
       "        vertical-align: middle;\n",
       "    }\n",
       "\n",
       "    .dataframe tbody tr th {\n",
       "        vertical-align: top;\n",
       "    }\n",
       "\n",
       "    .dataframe thead th {\n",
       "        text-align: right;\n",
       "    }\n",
       "</style>\n",
       "<table border=\"1\" class=\"dataframe\">\n",
       "  <thead>\n",
       "    <tr style=\"text-align: right;\">\n",
       "      <th></th>\n",
       "      <th>beer_id</th>\n",
       "      <th>username</th>\n",
       "      <th>date</th>\n",
       "      <th>text</th>\n",
       "      <th>look</th>\n",
       "      <th>smell</th>\n",
       "      <th>taste</th>\n",
       "      <th>feel</th>\n",
       "      <th>overall</th>\n",
       "      <th>score</th>\n",
       "    </tr>\n",
       "  </thead>\n",
       "  <tbody>\n",
       "    <tr>\n",
       "      <th>0</th>\n",
       "      <td>271781</td>\n",
       "      <td>bluejacket74</td>\n",
       "      <td>2017-03-17</td>\n",
       "      <td>750 ml bottle, 2016 vintage, bottle #304 of...</td>\n",
       "      <td>4.00</td>\n",
       "      <td>4.00</td>\n",
       "      <td>4.00</td>\n",
       "      <td>4.25</td>\n",
       "      <td>4.00</td>\n",
       "      <td>4.03</td>\n",
       "    </tr>\n",
       "    <tr>\n",
       "      <th>1</th>\n",
       "      <td>125646</td>\n",
       "      <td>_dirty_</td>\n",
       "      <td>2017-12-21</td>\n",
       "      <td></td>\n",
       "      <td>4.50</td>\n",
       "      <td>4.50</td>\n",
       "      <td>4.50</td>\n",
       "      <td>4.50</td>\n",
       "      <td>4.50</td>\n",
       "      <td>4.50</td>\n",
       "    </tr>\n",
       "    <tr>\n",
       "      <th>2</th>\n",
       "      <td>125646</td>\n",
       "      <td>CJDUBYA</td>\n",
       "      <td>2017-12-21</td>\n",
       "      <td></td>\n",
       "      <td>4.75</td>\n",
       "      <td>4.75</td>\n",
       "      <td>4.75</td>\n",
       "      <td>4.75</td>\n",
       "      <td>4.75</td>\n",
       "      <td>4.75</td>\n",
       "    </tr>\n",
       "    <tr>\n",
       "      <th>3</th>\n",
       "      <td>125646</td>\n",
       "      <td>GratefulBeerGuy</td>\n",
       "      <td>2017-12-20</td>\n",
       "      <td>0% 16 oz can. Funny story: As I finally wal...</td>\n",
       "      <td>4.75</td>\n",
       "      <td>4.75</td>\n",
       "      <td>4.50</td>\n",
       "      <td>4.50</td>\n",
       "      <td>4.50</td>\n",
       "      <td>4.58</td>\n",
       "    </tr>\n",
       "    <tr>\n",
       "      <th>4</th>\n",
       "      <td>125646</td>\n",
       "      <td>LukeGude</td>\n",
       "      <td>2017-12-20</td>\n",
       "      <td>Classic TH NEIPA. Overflowing head and bouq...</td>\n",
       "      <td>4.25</td>\n",
       "      <td>4.50</td>\n",
       "      <td>4.25</td>\n",
       "      <td>4.25</td>\n",
       "      <td>4.25</td>\n",
       "      <td>4.31</td>\n",
       "    </tr>\n",
       "    <tr>\n",
       "      <th>...</th>\n",
       "      <td>...</td>\n",
       "      <td>...</td>\n",
       "      <td>...</td>\n",
       "      <td>...</td>\n",
       "      <td>...</td>\n",
       "      <td>...</td>\n",
       "      <td>...</td>\n",
       "      <td>...</td>\n",
       "      <td>...</td>\n",
       "      <td>...</td>\n",
       "    </tr>\n",
       "    <tr>\n",
       "      <th>9073123</th>\n",
       "      <td>104824</td>\n",
       "      <td>CTJman</td>\n",
       "      <td>2014-06-08</td>\n",
       "      <td></td>\n",
       "      <td>NaN</td>\n",
       "      <td>NaN</td>\n",
       "      <td>NaN</td>\n",
       "      <td>NaN</td>\n",
       "      <td>NaN</td>\n",
       "      <td>4.00</td>\n",
       "    </tr>\n",
       "    <tr>\n",
       "      <th>9073124</th>\n",
       "      <td>104824</td>\n",
       "      <td>IMSPEAKNOENGLISH</td>\n",
       "      <td>2014-06-06</td>\n",
       "      <td></td>\n",
       "      <td>NaN</td>\n",
       "      <td>NaN</td>\n",
       "      <td>NaN</td>\n",
       "      <td>NaN</td>\n",
       "      <td>NaN</td>\n",
       "      <td>5.00</td>\n",
       "    </tr>\n",
       "    <tr>\n",
       "      <th>9073125</th>\n",
       "      <td>104824</td>\n",
       "      <td>twizzard</td>\n",
       "      <td>2014-06-05</td>\n",
       "      <td></td>\n",
       "      <td>NaN</td>\n",
       "      <td>NaN</td>\n",
       "      <td>NaN</td>\n",
       "      <td>NaN</td>\n",
       "      <td>NaN</td>\n",
       "      <td>5.00</td>\n",
       "    </tr>\n",
       "    <tr>\n",
       "      <th>9073126</th>\n",
       "      <td>104824</td>\n",
       "      <td>bootdown21</td>\n",
       "      <td>2014-06-04</td>\n",
       "      <td></td>\n",
       "      <td>NaN</td>\n",
       "      <td>NaN</td>\n",
       "      <td>NaN</td>\n",
       "      <td>NaN</td>\n",
       "      <td>NaN</td>\n",
       "      <td>4.50</td>\n",
       "    </tr>\n",
       "    <tr>\n",
       "      <th>9073127</th>\n",
       "      <td>104824</td>\n",
       "      <td>Brensol</td>\n",
       "      <td>2014-06-01</td>\n",
       "      <td></td>\n",
       "      <td>NaN</td>\n",
       "      <td>NaN</td>\n",
       "      <td>NaN</td>\n",
       "      <td>NaN</td>\n",
       "      <td>NaN</td>\n",
       "      <td>4.75</td>\n",
       "    </tr>\n",
       "  </tbody>\n",
       "</table>\n",
       "<p>9073128 rows × 10 columns</p>\n",
       "</div>"
      ],
      "text/plain": [
       "         beer_id          username        date  \\\n",
       "0         271781      bluejacket74  2017-03-17   \n",
       "1         125646           _dirty_  2017-12-21   \n",
       "2         125646           CJDUBYA  2017-12-21   \n",
       "3         125646   GratefulBeerGuy  2017-12-20   \n",
       "4         125646          LukeGude  2017-12-20   \n",
       "...          ...               ...         ...   \n",
       "9073123   104824            CTJman  2014-06-08   \n",
       "9073124   104824  IMSPEAKNOENGLISH  2014-06-06   \n",
       "9073125   104824          twizzard  2014-06-05   \n",
       "9073126   104824        bootdown21  2014-06-04   \n",
       "9073127   104824           Brensol  2014-06-01   \n",
       "\n",
       "                                                      text  look  smell  \\\n",
       "0           750 ml bottle, 2016 vintage, bottle #304 of...  4.00   4.00   \n",
       "1                                                           4.50   4.50   \n",
       "2                                                           4.75   4.75   \n",
       "3           0% 16 oz can. Funny story: As I finally wal...  4.75   4.75   \n",
       "4           Classic TH NEIPA. Overflowing head and bouq...  4.25   4.50   \n",
       "...                                                    ...   ...    ...   \n",
       "9073123                                                      NaN    NaN   \n",
       "9073124                                                      NaN    NaN   \n",
       "9073125                                                      NaN    NaN   \n",
       "9073126                                                      NaN    NaN   \n",
       "9073127                                                      NaN    NaN   \n",
       "\n",
       "         taste  feel  overall  score  \n",
       "0         4.00  4.25     4.00   4.03  \n",
       "1         4.50  4.50     4.50   4.50  \n",
       "2         4.75  4.75     4.75   4.75  \n",
       "3         4.50  4.50     4.50   4.58  \n",
       "4         4.25  4.25     4.25   4.31  \n",
       "...        ...   ...      ...    ...  \n",
       "9073123    NaN   NaN      NaN   4.00  \n",
       "9073124    NaN   NaN      NaN   5.00  \n",
       "9073125    NaN   NaN      NaN   5.00  \n",
       "9073126    NaN   NaN      NaN   4.50  \n",
       "9073127    NaN   NaN      NaN   4.75  \n",
       "\n",
       "[9073128 rows x 10 columns]"
      ]
     },
     "execution_count": 3,
     "metadata": {},
     "output_type": "execute_result"
    }
   ],
   "source": [
    "df"
   ]
  },
  {
   "cell_type": "markdown",
   "id": "5f2a86d5",
   "metadata": {},
   "source": [
    "## 3. Basic Information"
   ]
  },
  {
   "cell_type": "code",
   "execution_count": 5,
   "id": "9474a9119940a8c8",
   "metadata": {
    "ExecuteTime": {
     "end_time": "2025-04-10T06:42:30.213360Z",
     "start_time": "2025-04-10T06:42:27.706541Z"
    }
   },
   "outputs": [
    {
     "data": {
      "text/html": [
       "<div>\n",
       "<style scoped>\n",
       "    .dataframe tbody tr th:only-of-type {\n",
       "        vertical-align: middle;\n",
       "    }\n",
       "\n",
       "    .dataframe tbody tr th {\n",
       "        vertical-align: top;\n",
       "    }\n",
       "\n",
       "    .dataframe thead th {\n",
       "        text-align: right;\n",
       "    }\n",
       "</style>\n",
       "<table border=\"1\" class=\"dataframe\">\n",
       "  <thead>\n",
       "    <tr style=\"text-align: right;\">\n",
       "      <th></th>\n",
       "      <th>beer_id</th>\n",
       "      <th>look</th>\n",
       "      <th>smell</th>\n",
       "      <th>taste</th>\n",
       "      <th>feel</th>\n",
       "      <th>overall</th>\n",
       "      <th>score</th>\n",
       "    </tr>\n",
       "  </thead>\n",
       "  <tbody>\n",
       "    <tr>\n",
       "      <th>count</th>\n",
       "      <td>9.073128e+06</td>\n",
       "      <td>5.283110e+06</td>\n",
       "      <td>5.283110e+06</td>\n",
       "      <td>5.283110e+06</td>\n",
       "      <td>5.283110e+06</td>\n",
       "      <td>5.283110e+06</td>\n",
       "      <td>9.073128e+06</td>\n",
       "    </tr>\n",
       "    <tr>\n",
       "      <th>mean</th>\n",
       "      <td>7.730655e+04</td>\n",
       "      <td>3.952155e+00</td>\n",
       "      <td>3.887863e+00</td>\n",
       "      <td>3.920704e+00</td>\n",
       "      <td>3.884350e+00</td>\n",
       "      <td>3.916280e+00</td>\n",
       "      <td>3.889815e+00</td>\n",
       "    </tr>\n",
       "    <tr>\n",
       "      <th>std</th>\n",
       "      <td>7.929345e+04</td>\n",
       "      <td>5.517191e-01</td>\n",
       "      <td>6.115909e-01</td>\n",
       "      <td>6.333365e-01</td>\n",
       "      <td>5.999279e-01</td>\n",
       "      <td>6.054554e-01</td>\n",
       "      <td>6.127417e-01</td>\n",
       "    </tr>\n",
       "    <tr>\n",
       "      <th>min</th>\n",
       "      <td>3.000000e+00</td>\n",
       "      <td>1.000000e+00</td>\n",
       "      <td>1.000000e+00</td>\n",
       "      <td>1.000000e+00</td>\n",
       "      <td>1.000000e+00</td>\n",
       "      <td>1.000000e+00</td>\n",
       "      <td>1.000000e+00</td>\n",
       "    </tr>\n",
       "    <tr>\n",
       "      <th>25%</th>\n",
       "      <td>1.155400e+04</td>\n",
       "      <td>3.750000e+00</td>\n",
       "      <td>3.500000e+00</td>\n",
       "      <td>3.500000e+00</td>\n",
       "      <td>3.500000e+00</td>\n",
       "      <td>3.500000e+00</td>\n",
       "      <td>3.570000e+00</td>\n",
       "    </tr>\n",
       "    <tr>\n",
       "      <th>50%</th>\n",
       "      <td>5.654500e+04</td>\n",
       "      <td>4.000000e+00</td>\n",
       "      <td>4.000000e+00</td>\n",
       "      <td>4.000000e+00</td>\n",
       "      <td>4.000000e+00</td>\n",
       "      <td>4.000000e+00</td>\n",
       "      <td>4.000000e+00</td>\n",
       "    </tr>\n",
       "    <tr>\n",
       "      <th>75%</th>\n",
       "      <td>1.076670e+05</td>\n",
       "      <td>4.250000e+00</td>\n",
       "      <td>4.250000e+00</td>\n",
       "      <td>4.250000e+00</td>\n",
       "      <td>4.250000e+00</td>\n",
       "      <td>4.250000e+00</td>\n",
       "      <td>4.250000e+00</td>\n",
       "    </tr>\n",
       "    <tr>\n",
       "      <th>max</th>\n",
       "      <td>3.731280e+05</td>\n",
       "      <td>5.000000e+00</td>\n",
       "      <td>5.000000e+00</td>\n",
       "      <td>5.000000e+00</td>\n",
       "      <td>5.000000e+00</td>\n",
       "      <td>5.000000e+00</td>\n",
       "      <td>5.000000e+00</td>\n",
       "    </tr>\n",
       "  </tbody>\n",
       "</table>\n",
       "</div>"
      ],
      "text/plain": [
       "            beer_id          look         smell         taste          feel  \\\n",
       "count  9.073128e+06  5.283110e+06  5.283110e+06  5.283110e+06  5.283110e+06   \n",
       "mean   7.730655e+04  3.952155e+00  3.887863e+00  3.920704e+00  3.884350e+00   \n",
       "std    7.929345e+04  5.517191e-01  6.115909e-01  6.333365e-01  5.999279e-01   \n",
       "min    3.000000e+00  1.000000e+00  1.000000e+00  1.000000e+00  1.000000e+00   \n",
       "25%    1.155400e+04  3.750000e+00  3.500000e+00  3.500000e+00  3.500000e+00   \n",
       "50%    5.654500e+04  4.000000e+00  4.000000e+00  4.000000e+00  4.000000e+00   \n",
       "75%    1.076670e+05  4.250000e+00  4.250000e+00  4.250000e+00  4.250000e+00   \n",
       "max    3.731280e+05  5.000000e+00  5.000000e+00  5.000000e+00  5.000000e+00   \n",
       "\n",
       "            overall         score  \n",
       "count  5.283110e+06  9.073128e+06  \n",
       "mean   3.916280e+00  3.889815e+00  \n",
       "std    6.054554e-01  6.127417e-01  \n",
       "min    1.000000e+00  1.000000e+00  \n",
       "25%    3.500000e+00  3.570000e+00  \n",
       "50%    4.000000e+00  4.000000e+00  \n",
       "75%    4.250000e+00  4.250000e+00  \n",
       "max    5.000000e+00  5.000000e+00  "
      ]
     },
     "execution_count": 5,
     "metadata": {},
     "output_type": "execute_result"
    }
   ],
   "source": [
    "df.describe()"
   ]
  },
  {
   "cell_type": "markdown",
   "id": "45e5b1a3",
   "metadata": {},
   "source": [
    "## 4. Exploring the information of the emojis"
   ]
  },
  {
   "cell_type": "code",
   "execution_count": 6,
   "id": "f1a01f0abe38b0f8",
   "metadata": {
    "ExecuteTime": {
     "end_time": "2025-04-10T06:42:30.285068Z",
     "start_time": "2025-04-10T06:42:30.283039Z"
    }
   },
   "outputs": [],
   "source": [
    "# Function to check if there is an emoji in the text\n",
    "def contains_emoji(text):\n",
    "    return any(char in emoji.EMOJI_DATA for char in text)"
   ]
  },
  {
   "cell_type": "code",
   "execution_count": 7,
   "id": "c8f03028826f9cdc",
   "metadata": {
    "ExecuteTime": {
     "end_time": "2025-04-10T06:43:02.036086Z",
     "start_time": "2025-04-10T06:42:30.410511Z"
    }
   },
   "outputs": [
    {
     "name": "stdout",
     "output_type": "stream",
     "text": [
      "Row 60340 has an emoji\n",
      "Row 66176 has an emoji\n",
      "Row 76815 has an emoji\n",
      "Row 84210 has an emoji\n",
      "Row 103689 has an emoji\n",
      "Row 104236 has an emoji\n",
      "Row 104774 has an emoji\n",
      "Row 117223 has an emoji\n",
      "Row 128778 has an emoji\n",
      "Row 139957 has an emoji\n",
      "Row 161658 has an emoji\n",
      "Row 195344 has an emoji\n",
      "Row 199225 has an emoji\n",
      "Row 210256 has an emoji\n",
      "Row 267838 has an emoji\n",
      "Row 277775 has an emoji\n",
      "Row 282206 has an emoji\n",
      "Row 290955 has an emoji\n",
      "Row 327281 has an emoji\n",
      "Row 328351 has an emoji\n",
      "Row 339617 has an emoji\n",
      "Row 342959 has an emoji\n",
      "Row 369446 has an emoji\n",
      "Row 373451 has an emoji\n",
      "Row 388926 has an emoji\n",
      "Row 397009 has an emoji\n",
      "Row 401422 has an emoji\n",
      "Row 404387 has an emoji\n",
      "Row 413555 has an emoji\n",
      "Row 457475 has an emoji\n",
      "Row 502722 has an emoji\n",
      "Row 513353 has an emoji\n",
      "Row 535107 has an emoji\n",
      "Row 548648 has an emoji\n",
      "Row 563582 has an emoji\n",
      "Row 582197 has an emoji\n",
      "Row 640889 has an emoji\n",
      "Row 658529 has an emoji\n",
      "Row 663925 has an emoji\n",
      "Row 708250 has an emoji\n",
      "Row 713269 has an emoji\n",
      "Row 716316 has an emoji\n",
      "Row 716641 has an emoji\n",
      "Row 730043 has an emoji\n",
      "Row 743858 has an emoji\n",
      "Row 751048 has an emoji\n",
      "Row 755322 has an emoji\n",
      "Row 760962 has an emoji\n",
      "Row 769493 has an emoji\n",
      "Row 780743 has an emoji\n",
      "Row 802880 has an emoji\n",
      "Row 803205 has an emoji\n",
      "Row 808147 has an emoji\n",
      "Row 809615 has an emoji\n",
      "Row 809792 has an emoji\n",
      "Row 815285 has an emoji\n",
      "Row 859231 has an emoji\n",
      "Row 896147 has an emoji\n",
      "Row 910448 has an emoji\n",
      "Row 938685 has an emoji\n"
     ]
    }
   ],
   "source": [
    "MAX_ROWS = 1000000\n",
    "for index, row in df.head(MAX_ROWS).iterrows():\n",
    "    if contains_emoji(row['text']):\n",
    "        print(f\"Row {index} has an emoji\")"
   ]
  },
  {
   "cell_type": "code",
   "execution_count": 4,
   "id": "68d30d4a",
   "metadata": {},
   "outputs": [
    {
     "name": "stderr",
     "output_type": "stream",
     "text": [
      "/var/folders/fh/_tq_jbr50895yx1hkbgpct5m0000gn/T/ipykernel_32075/2034056449.py:13: SettingWithCopyWarning: \n",
      "A value is trying to be set on a copy of a slice from a DataFrame.\n",
      "Try using .loc[row_indexer,col_indexer] = value instead\n",
      "\n",
      "See the caveats in the documentation: https://pandas.pydata.org/pandas-docs/stable/user_guide/indexing.html#returning-a-view-versus-a-copy\n",
      "  df_sample[\"emojis\"] = df_sample[\"text\"].astype(str).apply(extract_emojis)\n"
     ]
    },
    {
     "name": "stdout",
     "output_type": "stream",
     "text": [
      "Rows containing emojis: 60\n",
      "Total number of emojis: 66\n"
     ]
    }
   ],
   "source": [
    "# Count the number of emojis in the text\n",
    "\n",
    "# Function to extract all emojis from a text\n",
    "def extract_emojis(text):\n",
    "    return [char for char in text if char in emoji.EMOJI_DATA]\n",
    "\n",
    "# Limit the number of rows to process\n",
    "MAX_ROWS = 1000000\n",
    "\n",
    "# Sample the first N rows (you can load from CSV if needed)\n",
    "# df = pd.read_csv(\"your_file.csv\")\n",
    "df_sample = df.head(MAX_ROWS)\n",
    "\n",
    "# Create a new column with the list of emojis in each row\n",
    "df_sample[\"emojis\"] = df_sample[\"text\"].astype(str).apply(extract_emojis)\n",
    "\n",
    "# Count rows that contain at least one emoji\n",
    "rows_with_emoji = (df_sample[\"emojis\"].apply(len) > 0).sum()\n",
    "\n",
    "# Count the total number of emojis across all rows\n",
    "total_emojis = df_sample[\"emojis\"].apply(len).sum()\n",
    "\n",
    "# Print results\n",
    "print(f\"Rows containing emojis: {rows_with_emoji}\")\n",
    "print(f\"Total number of emojis: {total_emojis}\")"
   ]
  },
  {
   "cell_type": "code",
   "execution_count": 5,
   "id": "1bdd0e4f",
   "metadata": {},
   "outputs": [
    {
     "name": "stdout",
     "output_type": "stream",
     "text": [
      "Rows containing emojis: 60\n",
      "Total number of emojis: 66\n"
     ]
    }
   ],
   "source": [
    "from emoji import emoji_list\n",
    "\n",
    "def extract_emojis(text):\n",
    "    try:\n",
    "        return [e['emoji'] for e in emoji_list(text)]\n",
    "    except:\n",
    "        return []\n",
    "\n",
    "df_sample = df.head(MAX_ROWS).copy()\n",
    "df_sample['text'] = df_sample['text'].astype(str).fillna(\"\")\n",
    "df_sample[\"emojis\"] = df_sample[\"text\"].apply(extract_emojis)\n",
    "\n",
    "rows_with_emoji = (df_sample[\"emojis\"].apply(len) > 0).sum()\n",
    "total_emojis = df_sample[\"emojis\"].apply(len).sum()\n",
    "\n",
    "print(f\"Rows containing emojis: {rows_with_emoji}\")\n",
    "print(f\"Total number of emojis: {total_emojis}\")"
   ]
  },
  {
   "cell_type": "code",
   "execution_count": 6,
   "id": "c45ea8b9",
   "metadata": {},
   "outputs": [
    {
     "ename": "OSError",
     "evalue": "[Errno 89] Operation canceled",
     "output_type": "error",
     "traceback": [
      "\u001b[0;31m---------------------------------------------------------------------------\u001b[0m",
      "\u001b[0;31mOSError\u001b[0m                                   Traceback (most recent call last)",
      "Cell \u001b[0;32mIn[6], line 8\u001b[0m\n\u001b[1;32m      5\u001b[0m \u001b[38;5;28;01mimport\u001b[39;00m\u001b[38;5;250m \u001b[39m\u001b[38;5;21;01mitertools\u001b[39;00m\n\u001b[1;32m      7\u001b[0m \u001b[38;5;66;03m# Load the full dataset\u001b[39;00m\n\u001b[0;32m----> 8\u001b[0m df \u001b[38;5;241m=\u001b[39m \u001b[43mpd\u001b[49m\u001b[38;5;241;43m.\u001b[39;49m\u001b[43mread_csv\u001b[49m\u001b[43m(\u001b[49m\u001b[38;5;124;43m'\u001b[39;49m\u001b[38;5;124;43m../data/reviews_text_cleaned.csv\u001b[39;49m\u001b[38;5;124;43m'\u001b[39;49m\u001b[43m)\u001b[49m\n\u001b[1;32m     10\u001b[0m \u001b[38;5;66;03m# Function to extract emojis from a single text string\u001b[39;00m\n\u001b[1;32m     11\u001b[0m \u001b[38;5;28;01mdef\u001b[39;00m\u001b[38;5;250m \u001b[39m\u001b[38;5;21mextract_emojis\u001b[39m(text):\n",
      "File \u001b[0;32m/opt/homebrew/anaconda3/envs/pytorch/lib/python3.12/site-packages/pandas/io/parsers/readers.py:1026\u001b[0m, in \u001b[0;36mread_csv\u001b[0;34m(filepath_or_buffer, sep, delimiter, header, names, index_col, usecols, dtype, engine, converters, true_values, false_values, skipinitialspace, skiprows, skipfooter, nrows, na_values, keep_default_na, na_filter, verbose, skip_blank_lines, parse_dates, infer_datetime_format, keep_date_col, date_parser, date_format, dayfirst, cache_dates, iterator, chunksize, compression, thousands, decimal, lineterminator, quotechar, quoting, doublequote, escapechar, comment, encoding, encoding_errors, dialect, on_bad_lines, delim_whitespace, low_memory, memory_map, float_precision, storage_options, dtype_backend)\u001b[0m\n\u001b[1;32m   1013\u001b[0m kwds_defaults \u001b[38;5;241m=\u001b[39m _refine_defaults_read(\n\u001b[1;32m   1014\u001b[0m     dialect,\n\u001b[1;32m   1015\u001b[0m     delimiter,\n\u001b[0;32m   (...)\u001b[0m\n\u001b[1;32m   1022\u001b[0m     dtype_backend\u001b[38;5;241m=\u001b[39mdtype_backend,\n\u001b[1;32m   1023\u001b[0m )\n\u001b[1;32m   1024\u001b[0m kwds\u001b[38;5;241m.\u001b[39mupdate(kwds_defaults)\n\u001b[0;32m-> 1026\u001b[0m \u001b[38;5;28;01mreturn\u001b[39;00m \u001b[43m_read\u001b[49m\u001b[43m(\u001b[49m\u001b[43mfilepath_or_buffer\u001b[49m\u001b[43m,\u001b[49m\u001b[43m \u001b[49m\u001b[43mkwds\u001b[49m\u001b[43m)\u001b[49m\n",
      "File \u001b[0;32m/opt/homebrew/anaconda3/envs/pytorch/lib/python3.12/site-packages/pandas/io/parsers/readers.py:620\u001b[0m, in \u001b[0;36m_read\u001b[0;34m(filepath_or_buffer, kwds)\u001b[0m\n\u001b[1;32m    617\u001b[0m _validate_names(kwds\u001b[38;5;241m.\u001b[39mget(\u001b[38;5;124m\"\u001b[39m\u001b[38;5;124mnames\u001b[39m\u001b[38;5;124m\"\u001b[39m, \u001b[38;5;28;01mNone\u001b[39;00m))\n\u001b[1;32m    619\u001b[0m \u001b[38;5;66;03m# Create the parser.\u001b[39;00m\n\u001b[0;32m--> 620\u001b[0m parser \u001b[38;5;241m=\u001b[39m \u001b[43mTextFileReader\u001b[49m\u001b[43m(\u001b[49m\u001b[43mfilepath_or_buffer\u001b[49m\u001b[43m,\u001b[49m\u001b[43m \u001b[49m\u001b[38;5;241;43m*\u001b[39;49m\u001b[38;5;241;43m*\u001b[39;49m\u001b[43mkwds\u001b[49m\u001b[43m)\u001b[49m\n\u001b[1;32m    622\u001b[0m \u001b[38;5;28;01mif\u001b[39;00m chunksize \u001b[38;5;129;01mor\u001b[39;00m iterator:\n\u001b[1;32m    623\u001b[0m     \u001b[38;5;28;01mreturn\u001b[39;00m parser\n",
      "File \u001b[0;32m/opt/homebrew/anaconda3/envs/pytorch/lib/python3.12/site-packages/pandas/io/parsers/readers.py:1620\u001b[0m, in \u001b[0;36mTextFileReader.__init__\u001b[0;34m(self, f, engine, **kwds)\u001b[0m\n\u001b[1;32m   1617\u001b[0m     \u001b[38;5;28mself\u001b[39m\u001b[38;5;241m.\u001b[39moptions[\u001b[38;5;124m\"\u001b[39m\u001b[38;5;124mhas_index_names\u001b[39m\u001b[38;5;124m\"\u001b[39m] \u001b[38;5;241m=\u001b[39m kwds[\u001b[38;5;124m\"\u001b[39m\u001b[38;5;124mhas_index_names\u001b[39m\u001b[38;5;124m\"\u001b[39m]\n\u001b[1;32m   1619\u001b[0m \u001b[38;5;28mself\u001b[39m\u001b[38;5;241m.\u001b[39mhandles: IOHandles \u001b[38;5;241m|\u001b[39m \u001b[38;5;28;01mNone\u001b[39;00m \u001b[38;5;241m=\u001b[39m \u001b[38;5;28;01mNone\u001b[39;00m\n\u001b[0;32m-> 1620\u001b[0m \u001b[38;5;28mself\u001b[39m\u001b[38;5;241m.\u001b[39m_engine \u001b[38;5;241m=\u001b[39m \u001b[38;5;28;43mself\u001b[39;49m\u001b[38;5;241;43m.\u001b[39;49m\u001b[43m_make_engine\u001b[49m\u001b[43m(\u001b[49m\u001b[43mf\u001b[49m\u001b[43m,\u001b[49m\u001b[43m \u001b[49m\u001b[38;5;28;43mself\u001b[39;49m\u001b[38;5;241;43m.\u001b[39;49m\u001b[43mengine\u001b[49m\u001b[43m)\u001b[49m\n",
      "File \u001b[0;32m/opt/homebrew/anaconda3/envs/pytorch/lib/python3.12/site-packages/pandas/io/parsers/readers.py:1898\u001b[0m, in \u001b[0;36mTextFileReader._make_engine\u001b[0;34m(self, f, engine)\u001b[0m\n\u001b[1;32m   1895\u001b[0m     \u001b[38;5;28;01mraise\u001b[39;00m \u001b[38;5;167;01mValueError\u001b[39;00m(msg)\n\u001b[1;32m   1897\u001b[0m \u001b[38;5;28;01mtry\u001b[39;00m:\n\u001b[0;32m-> 1898\u001b[0m     \u001b[38;5;28;01mreturn\u001b[39;00m \u001b[43mmapping\u001b[49m\u001b[43m[\u001b[49m\u001b[43mengine\u001b[49m\u001b[43m]\u001b[49m\u001b[43m(\u001b[49m\u001b[43mf\u001b[49m\u001b[43m,\u001b[49m\u001b[43m \u001b[49m\u001b[38;5;241;43m*\u001b[39;49m\u001b[38;5;241;43m*\u001b[39;49m\u001b[38;5;28;43mself\u001b[39;49m\u001b[38;5;241;43m.\u001b[39;49m\u001b[43moptions\u001b[49m\u001b[43m)\u001b[49m\n\u001b[1;32m   1899\u001b[0m \u001b[38;5;28;01mexcept\u001b[39;00m \u001b[38;5;167;01mException\u001b[39;00m:\n\u001b[1;32m   1900\u001b[0m     \u001b[38;5;28;01mif\u001b[39;00m \u001b[38;5;28mself\u001b[39m\u001b[38;5;241m.\u001b[39mhandles \u001b[38;5;129;01mis\u001b[39;00m \u001b[38;5;129;01mnot\u001b[39;00m \u001b[38;5;28;01mNone\u001b[39;00m:\n",
      "File \u001b[0;32m/opt/homebrew/anaconda3/envs/pytorch/lib/python3.12/site-packages/pandas/io/parsers/c_parser_wrapper.py:93\u001b[0m, in \u001b[0;36mCParserWrapper.__init__\u001b[0;34m(self, src, **kwds)\u001b[0m\n\u001b[1;32m     90\u001b[0m \u001b[38;5;28;01mif\u001b[39;00m kwds[\u001b[38;5;124m\"\u001b[39m\u001b[38;5;124mdtype_backend\u001b[39m\u001b[38;5;124m\"\u001b[39m] \u001b[38;5;241m==\u001b[39m \u001b[38;5;124m\"\u001b[39m\u001b[38;5;124mpyarrow\u001b[39m\u001b[38;5;124m\"\u001b[39m:\n\u001b[1;32m     91\u001b[0m     \u001b[38;5;66;03m# Fail here loudly instead of in cython after reading\u001b[39;00m\n\u001b[1;32m     92\u001b[0m     import_optional_dependency(\u001b[38;5;124m\"\u001b[39m\u001b[38;5;124mpyarrow\u001b[39m\u001b[38;5;124m\"\u001b[39m)\n\u001b[0;32m---> 93\u001b[0m \u001b[38;5;28mself\u001b[39m\u001b[38;5;241m.\u001b[39m_reader \u001b[38;5;241m=\u001b[39m \u001b[43mparsers\u001b[49m\u001b[38;5;241;43m.\u001b[39;49m\u001b[43mTextReader\u001b[49m\u001b[43m(\u001b[49m\u001b[43msrc\u001b[49m\u001b[43m,\u001b[49m\u001b[43m \u001b[49m\u001b[38;5;241;43m*\u001b[39;49m\u001b[38;5;241;43m*\u001b[39;49m\u001b[43mkwds\u001b[49m\u001b[43m)\u001b[49m\n\u001b[1;32m     95\u001b[0m \u001b[38;5;28mself\u001b[39m\u001b[38;5;241m.\u001b[39munnamed_cols \u001b[38;5;241m=\u001b[39m \u001b[38;5;28mself\u001b[39m\u001b[38;5;241m.\u001b[39m_reader\u001b[38;5;241m.\u001b[39munnamed_cols\n\u001b[1;32m     97\u001b[0m \u001b[38;5;66;03m# error: Cannot determine type of 'names'\u001b[39;00m\n",
      "File \u001b[0;32mparsers.pyx:574\u001b[0m, in \u001b[0;36mpandas._libs.parsers.TextReader.__cinit__\u001b[0;34m()\u001b[0m\n",
      "File \u001b[0;32mparsers.pyx:663\u001b[0m, in \u001b[0;36mpandas._libs.parsers.TextReader._get_header\u001b[0;34m()\u001b[0m\n",
      "File \u001b[0;32mparsers.pyx:874\u001b[0m, in \u001b[0;36mpandas._libs.parsers.TextReader._tokenize_rows\u001b[0;34m()\u001b[0m\n",
      "File \u001b[0;32mparsers.pyx:891\u001b[0m, in \u001b[0;36mpandas._libs.parsers.TextReader._check_tokenize_status\u001b[0;34m()\u001b[0m\n",
      "File \u001b[0;32mparsers.pyx:2053\u001b[0m, in \u001b[0;36mpandas._libs.parsers.raise_parser_error\u001b[0;34m()\u001b[0m\n",
      "\u001b[0;31mOSError\u001b[0m: [Errno 89] Operation canceled"
     ]
    }
   ],
   "source": [
    "import pandas as pd\n",
    "import emoji\n",
    "from emoji import emoji_list\n",
    "from collections import Counter\n",
    "import itertools\n",
    "\n",
    "# Load the full dataset\n",
    "df = pd.read_csv('../data/reviews_text_cleaned.csv')\n",
    "\n",
    "# Function to extract emojis from a single text string\n",
    "def extract_emojis(text):\n",
    "    return [e['emoji'] for e in emoji_list(str(text))]\n",
    "\n",
    "# Apply the emoji extraction function to each row\n",
    "df['emojis'] = df['text'].apply(extract_emojis)\n",
    "\n",
    "# Count how many rows contain at least one emoji\n",
    "rows_with_emoji = df['emojis'].apply(len).gt(0).sum()\n",
    "\n",
    "# Count the total number of emojis across all rows\n",
    "total_emojis = df['emojis'].apply(len).sum()\n",
    "\n",
    "# Output overall emoji statistics\n",
    "print(f\"Total rows: {len(df)}\")\n",
    "print(f\"Rows containing emojis: {rows_with_emoji}\")\n",
    "print(f\"Total number of emojis: {total_emojis}\")\n",
    "\n",
    "# Flatten all emojis into a single list and count frequency\n",
    "all_emojis = list(itertools.chain.from_iterable(df['emojis']))\n",
    "top_emojis = Counter(all_emojis).most_common(10)\n",
    "\n",
    "# Output top 10 most frequent emojis\n",
    "print(\"\\nTop 10 most frequent emojis:\")\n",
    "for emoji_char, count in top_emojis:\n",
    "    print(f\"{emoji_char}: {count}\")"
   ]
  },
  {
   "cell_type": "markdown",
   "id": "d0296817",
   "metadata": {},
   "source": [
    "## 5.1 Visualize Score distribution in 0.5 Intervals"
   ]
  },
  {
   "cell_type": "code",
   "execution_count": 11,
   "id": "b48cdfa7654dc56c",
   "metadata": {
    "ExecuteTime": {
     "end_time": "2025-04-10T06:43:02.464673Z",
     "start_time": "2025-04-10T06:43:02.058411Z"
    }
   },
   "outputs": [
    {
     "name": "stderr",
     "output_type": "stream",
     "text": [
      "/var/folders/fh/_tq_jbr50895yx1hkbgpct5m0000gn/T/ipykernel_87463/3899572657.py:17: FutureWarning: \n",
      "\n",
      "Passing `palette` without assigning `hue` is deprecated and will be removed in v0.14.0. Assign the `x` variable to `hue` and set `legend=False` for the same effect.\n",
      "\n",
      "  ax = sns.barplot(x=bin_labels, y=score_counts.values, palette='viridis')\n"
     ]
    },
    {
     "data": {
      "image/png": "[encoded data removed]",
      "text/plain": [
       "<Figure size 1200x600 with 1 Axes>"
      ]
     },
     "metadata": {},
     "output_type": "display_data"
    }
   ],
   "source": [
    "# Assuming the numerical scores column is named 'score'\n",
    "min_score = df['score'].min()\n",
    "max_score = df['score'].max()\n",
    "\n",
    "# Create bins with intervals of 0.5\n",
    "bins = np.arange(min_score, max_score + 0.5, 0.5)\n",
    "df['score_bin'] = pd.cut(df['score'], bins, right=False)  # Right=False means left-inclusive\n",
    "\n",
    "# Count occurrences in each bin\n",
    "score_counts = df['score_bin'].value_counts().sort_index()\n",
    "\n",
    "# Convert bins to string format for better display\n",
    "bin_labels = [f\"{interval.left:.1f} - {interval.right:.1f}\" for interval in score_counts.index]\n",
    "\n",
    "# Plot bar chart\n",
    "plt.figure(figsize=(12, 6))\n",
    "ax = sns.barplot(x=bin_labels, y=score_counts.values, palette='viridis')\n",
    "\n",
    "# Add value labels on top of bars\n",
    "for i, count in enumerate(score_counts.values):\n",
    "    ax.text(i, count + 0.5, str(count), ha='center', fontsize=12)\n",
    "\n",
    "# Customize plot\n",
    "plt.xlabel(\"Score Intervals\")\n",
    "plt.ylabel(\"Count\")\n",
    "plt.title(\"Distribution of Scores (Grouped by 0.5 Intervals)\")\n",
    "plt.xticks(rotation=45, ha='right')\n",
    "plt.grid(axis='y', linestyle='--', alpha=0.7)\n",
    "\n",
    "# Show plot\n",
    "plt.show()"
   ]
  },
  {
   "cell_type": "markdown",
   "id": "26dce238",
   "metadata": {},
   "source": [
    "## 5.2 Custom Score Binning and Distribution Visualization"
   ]
  },
  {
   "cell_type": "code",
   "execution_count": 9,
   "id": "2572b415ded6b955",
   "metadata": {
    "ExecuteTime": {
     "end_time": "2025-04-10T06:43:02.740008Z",
     "start_time": "2025-04-10T06:43:02.469202Z"
    }
   },
   "outputs": [
    {
     "name": "stderr",
     "output_type": "stream",
     "text": [
      "/var/folders/fh/_tq_jbr50895yx1hkbgpct5m0000gn/T/ipykernel_87463/2557220303.py:21: FutureWarning: \n",
      "\n",
      "Passing `palette` without assigning `hue` is deprecated and will be removed in v0.14.0. Assign the `x` variable to `hue` and set `legend=False` for the same effect.\n",
      "\n",
      "  ax = sns.barplot(x=bin_labels, y=score_counts.values, palette='viridis')\n"
     ]
    },
    {
     "data": {
      "image/png": "[encoded data removed]",
      "text/plain": [
       "<Figure size 1200x600 with 1 Axes>"
      ]
     },
     "metadata": {},
     "output_type": "display_data"
    }
   ],
   "source": [
    "import pandas as pd\n",
    "import matplotlib.pyplot as plt\n",
    "import seaborn as sns\n",
    "\n",
    "# Assuming df is already defined\n",
    "min_score = df['score'].min()\n",
    "max_score = df['score'].max()\n",
    "\n",
    "# Define bins\n",
    "bins = [1, 4, 5]\n",
    "df['score_bin'] = pd.cut(df['score'], bins, right=False)  # Right=False means left-inclusive\n",
    "\n",
    "# Count occurrences in each bin\n",
    "score_counts = df['score_bin'].value_counts().sort_index()\n",
    "\n",
    "# Convert bins to string format for better display\n",
    "bin_labels = [f\"{interval.left:.1f} - {interval.right:.1f}\" for interval in score_counts.index]\n",
    "\n",
    "# Plot bar chart\n",
    "plt.figure(figsize=(12, 6))\n",
    "ax = sns.barplot(x=bin_labels, y=score_counts.values, palette='viridis')\n",
    "\n",
    "# Add value labels on top of bars\n",
    "for i, count in enumerate(score_counts.values):\n",
    "    ax.text(i, count + 0.5, str(count), ha='center', fontsize=12)\n",
    "\n",
    "# Customize plot\n",
    "plt.xlabel(\"Score Intervals\")\n",
    "plt.ylabel(\"Count\")\n",
    "plt.title(\"Distribution of Scores\")\n",
    "plt.xticks(rotation=45, ha='right')\n",
    "\n",
    "# Add grid lines\n",
    "plt.grid(True, linestyle='--', alpha=0.7)  # Ensures grid is visible\n",
    "\n",
    "# Show plot\n",
    "plt.show()"
   ]
  },
  {
   "cell_type": "markdown",
   "id": "07a40254",
   "metadata": {},
   "source": [
    "## 6. Filtering Non-Empty Text Entries from the Dataset"
   ]
  },
  {
   "cell_type": "code",
   "execution_count": 10,
   "id": "800d527ecfc8f83c",
   "metadata": {
    "ExecuteTime": {
     "end_time": "2025-04-10T06:43:07.121508Z",
     "start_time": "2025-04-10T06:43:02.748849Z"
    }
   },
   "outputs": [
    {
     "name": "stdout",
     "output_type": "stream",
     "text": [
      "Number of non-empty elements in 'text' column: 2987991\n"
     ]
    }
   ],
   "source": [
    "# Extract the 'text' column and remove NaNs and empty strings\n",
    "text_values = df[\"text\"].dropna().astype(str)  # Convert to string to handle non-string values\n",
    "text_values = text_values[text_values.str.strip() != \"\"]  # Remove empty strings\n",
    "text_list = text_values.tolist()  # Convert to list\n",
    "\n",
    "# Print the number of elements\n",
    "print(\"Number of non-empty elements in 'text' column:\", len(text_list))"
   ]
  },
  {
   "cell_type": "markdown",
   "id": "ca23cad0d406e782",
   "metadata": {},
   "source": [
    "# Core Observations\n",
    "\n",
    "* The dataset is highly skewed towards positive reviews, with a significant number of 4 or 5-star ratings.\n",
    "* The dataset contains a large number of emojis.(Zihan: Need to be confirmed)\n",
    "* The dataset contains a large number of empty strings in the text column, which needs to be removed"
   ]
  },
  {
   "cell_type": "markdown",
   "id": "f6b25a52848d2d4d",
   "metadata": {},
   "source": [
    "# Next Steps\n",
    "* Remove emojis from the text\n",
    "* Filter out empty strings\n",
    "* Mismatch between and score needs to be analysed\n",
    "* Further Downsizing the data is needed -> 3 million entries"
   ]
  }
 ],
 "metadata": {
  "kernelspec": {
   "display_name": "pytorch",
   "language": "python",
   "name": "python3"
  },
  "language_info": {
   "codemirror_mode": {
    "name": "ipython",
    "version": 3
   },
   "file_extension": ".py",
   "mimetype": "text/x-python",
   "name": "python",
   "nbconvert_exporter": "python",
   "pygments_lexer": "ipython3",
   "version": "3.12.7"
  }
 },
 "nbformat": 4,
 "nbformat_minor": 5
}
