{
 "cells": [
  {
   "metadata": {},
   "cell_type": "markdown",
   "source": "# Basic Exploration",
   "id": "51da3e157c4624a7"
  },
  {
   "metadata": {},
   "cell_type": "markdown",
   "source": [
    "| Author              | Description                                         |\n",
    "|---------------------|-----------------------------------------------------|\n",
    "| Anh Tu Duong Nguyen | This notebook is used to explore the dataset and visualize the distribution of certain variables to gain an initial understanding of the data and which preprocessing steps are necessary. |\n"
   ],
   "id": "d4c083a2351cca92"
  },
  {
   "cell_type": "code",
   "id": "c31050be762d09ba",
   "metadata": {
    "ExecuteTime": {
     "end_time": "2025-04-10T06:41:53.609934Z",
     "start_time": "2025-04-10T06:41:50.371900Z"
    }
   },
   "source": [
    "%pip install pandas\n",
    "%pip install emoji\n",
    "%pip install matplotlib\n",
    "%pip install seaborn"
   ],
   "outputs": [
    {
     "name": "stdout",
     "output_type": "stream",
     "text": [
      "Requirement already satisfied: pandas in /home/tu2/anaconda3/envs/IE684-WebMining-Project/lib/python3.11/site-packages (2.2.3)\r\n",
      "Requirement already satisfied: numpy>=1.23.2 in /home/tu2/anaconda3/envs/IE684-WebMining-Project/lib/python3.11/site-packages (from pandas) (2.1.3)\r\n",
      "Requirement already satisfied: python-dateutil>=2.8.2 in /home/tu2/anaconda3/envs/IE684-WebMining-Project/lib/python3.11/site-packages (from pandas) (2.9.0.post0)\r\n",
      "Requirement already satisfied: pytz>=2020.1 in /home/tu2/anaconda3/envs/IE684-WebMining-Project/lib/python3.11/site-packages (from pandas) (2025.2)\r\n",
      "Requirement already satisfied: tzdata>=2022.7 in /home/tu2/anaconda3/envs/IE684-WebMining-Project/lib/python3.11/site-packages (from pandas) (2025.2)\r\n",
      "Requirement already satisfied: six>=1.5 in /home/tu2/anaconda3/envs/IE684-WebMining-Project/lib/python3.11/site-packages (from python-dateutil>=2.8.2->pandas) (1.17.0)\r\n",
      "Note: you may need to restart the kernel to use updated packages.\n",
      "Requirement already satisfied: emoji in /home/tu2/anaconda3/envs/IE684-WebMining-Project/lib/python3.11/site-packages (2.14.1)\r\n",
      "Note: you may need to restart the kernel to use updated packages.\n",
      "Requirement already satisfied: matplotlib in /home/tu2/anaconda3/envs/IE684-WebMining-Project/lib/python3.11/site-packages (3.10.0)\r\n",
      "Requirement already satisfied: contourpy>=1.0.1 in /home/tu2/anaconda3/envs/IE684-WebMining-Project/lib/python3.11/site-packages (from matplotlib) (1.3.1)\r\n",
      "Requirement already satisfied: cycler>=0.10 in /home/tu2/anaconda3/envs/IE684-WebMining-Project/lib/python3.11/site-packages (from matplotlib) (0.12.1)\r\n",
      "Requirement already satisfied: fonttools>=4.22.0 in /home/tu2/anaconda3/envs/IE684-WebMining-Project/lib/python3.11/site-packages (from matplotlib) (4.57.0)\r\n",
      "Requirement already satisfied: kiwisolver>=1.3.1 in /home/tu2/anaconda3/envs/IE684-WebMining-Project/lib/python3.11/site-packages (from matplotlib) (1.4.8)\r\n",
      "Requirement already satisfied: numpy>=1.23 in /home/tu2/anaconda3/envs/IE684-WebMining-Project/lib/python3.11/site-packages (from matplotlib) (2.1.3)\r\n",
      "Requirement already satisfied: packaging>=20.0 in /home/tu2/anaconda3/envs/IE684-WebMining-Project/lib/python3.11/site-packages (from matplotlib) (24.2)\r\n",
      "Requirement already satisfied: pillow>=8 in /home/tu2/anaconda3/envs/IE684-WebMining-Project/lib/python3.11/site-packages (from matplotlib) (11.1.0)\r\n",
      "Requirement already satisfied: pyparsing>=2.3.1 in /home/tu2/anaconda3/envs/IE684-WebMining-Project/lib/python3.11/site-packages (from matplotlib) (3.2.3)\r\n",
      "Requirement already satisfied: python-dateutil>=2.7 in /home/tu2/anaconda3/envs/IE684-WebMining-Project/lib/python3.11/site-packages (from matplotlib) (2.9.0.post0)\r\n",
      "Requirement already satisfied: six>=1.5 in /home/tu2/anaconda3/envs/IE684-WebMining-Project/lib/python3.11/site-packages (from python-dateutil>=2.7->matplotlib) (1.17.0)\r\n",
      "Note: you may need to restart the kernel to use updated packages.\n",
      "Requirement already satisfied: seaborn in /home/tu2/anaconda3/envs/IE684-WebMining-Project/lib/python3.11/site-packages (0.13.2)\r\n",
      "Requirement already satisfied: numpy!=1.24.0,>=1.20 in /home/tu2/anaconda3/envs/IE684-WebMining-Project/lib/python3.11/site-packages (from seaborn) (2.1.3)\r\n",
      "Requirement already satisfied: pandas>=1.2 in /home/tu2/anaconda3/envs/IE684-WebMining-Project/lib/python3.11/site-packages (from seaborn) (2.2.3)\r\n",
      "Requirement already satisfied: matplotlib!=3.6.1,>=3.4 in /home/tu2/anaconda3/envs/IE684-WebMining-Project/lib/python3.11/site-packages (from seaborn) (3.10.0)\r\n",
      "Requirement already satisfied: contourpy>=1.0.1 in /home/tu2/anaconda3/envs/IE684-WebMining-Project/lib/python3.11/site-packages (from matplotlib!=3.6.1,>=3.4->seaborn) (1.3.1)\r\n",
      "Requirement already satisfied: cycler>=0.10 in /home/tu2/anaconda3/envs/IE684-WebMining-Project/lib/python3.11/site-packages (from matplotlib!=3.6.1,>=3.4->seaborn) (0.12.1)\r\n",
      "Requirement already satisfied: fonttools>=4.22.0 in /home/tu2/anaconda3/envs/IE684-WebMining-Project/lib/python3.11/site-packages (from matplotlib!=3.6.1,>=3.4->seaborn) (4.57.0)\r\n",
      "Requirement already satisfied: kiwisolver>=1.3.1 in /home/tu2/anaconda3/envs/IE684-WebMining-Project/lib/python3.11/site-packages (from matplotlib!=3.6.1,>=3.4->seaborn) (1.4.8)\r\n",
      "Requirement already satisfied: packaging>=20.0 in /home/tu2/anaconda3/envs/IE684-WebMining-Project/lib/python3.11/site-packages (from matplotlib!=3.6.1,>=3.4->seaborn) (24.2)\r\n",
      "Requirement already satisfied: pillow>=8 in /home/tu2/anaconda3/envs/IE684-WebMining-Project/lib/python3.11/site-packages (from matplotlib!=3.6.1,>=3.4->seaborn) (11.1.0)\r\n",
      "Requirement already satisfied: pyparsing>=2.3.1 in /home/tu2/anaconda3/envs/IE684-WebMining-Project/lib/python3.11/site-packages (from matplotlib!=3.6.1,>=3.4->seaborn) (3.2.3)\r\n",
      "Requirement already satisfied: python-dateutil>=2.7 in /home/tu2/anaconda3/envs/IE684-WebMining-Project/lib/python3.11/site-packages (from matplotlib!=3.6.1,>=3.4->seaborn) (2.9.0.post0)\r\n",
      "Requirement already satisfied: pytz>=2020.1 in /home/tu2/anaconda3/envs/IE684-WebMining-Project/lib/python3.11/site-packages (from pandas>=1.2->seaborn) (2025.2)\r\n",
      "Requirement already satisfied: tzdata>=2022.7 in /home/tu2/anaconda3/envs/IE684-WebMining-Project/lib/python3.11/site-packages (from pandas>=1.2->seaborn) (2025.2)\r\n",
      "Requirement already satisfied: six>=1.5 in /home/tu2/anaconda3/envs/IE684-WebMining-Project/lib/python3.11/site-packages (from python-dateutil>=2.7->matplotlib!=3.6.1,>=3.4->seaborn) (1.17.0)\r\n",
      "Note: you may need to restart the kernel to use updated packages.\n"
     ]
    }
   ],
   "execution_count": 1
  },
  {
   "cell_type": "code",
   "id": "initial_id",
   "metadata": {
    "collapsed": true,
    "ExecuteTime": {
     "end_time": "2025-04-10T06:41:53.689516Z",
     "start_time": "2025-04-10T06:41:53.615975Z"
    }
   },
   "source": [
    "import pandas as pd\n",
    "import emoji\n",
    "import matplotlib.pyplot as plt\n",
    "import seaborn as sns\n",
    "import numpy as np"
   ],
   "outputs": [],
   "execution_count": 2
  },
  {
   "cell_type": "code",
   "id": "2e12de750b762dae",
   "metadata": {
    "ExecuteTime": {
     "end_time": "2025-04-10T06:42:27.557420Z",
     "start_time": "2025-04-10T06:41:53.769248Z"
    }
   },
   "source": [
    "df = pd.read_csv('../data/reviews.csv')\n",
    "df.shape"
   ],
   "outputs": [
    {
     "data": {
      "text/plain": [
       "(9073128, 10)"
      ]
     },
     "execution_count": 3,
     "metadata": {},
     "output_type": "execute_result"
    }
   ],
   "execution_count": 3
  },
  {
   "cell_type": "code",
   "id": "b6a1393073bdf038",
   "metadata": {
    "ExecuteTime": {
     "end_time": "2025-04-10T06:42:27.632712Z",
     "start_time": "2025-04-10T06:42:27.620585Z"
    }
   },
   "source": [
    "df"
   ],
   "outputs": [
    {
     "data": {
      "text/plain": [
       "         beer_id          username        date  \\\n",
       "0         271781      bluejacket74  2017-03-17   \n",
       "1         125646           _dirty_  2017-12-21   \n",
       "2         125646           CJDUBYA  2017-12-21   \n",
       "3         125646   GratefulBeerGuy  2017-12-20   \n",
       "4         125646          LukeGude  2017-12-20   \n",
       "...          ...               ...         ...   \n",
       "9073123   104824            CTJman  2014-06-08   \n",
       "9073124   104824  IMSPEAKNOENGLISH  2014-06-06   \n",
       "9073125   104824          twizzard  2014-06-05   \n",
       "9073126   104824        bootdown21  2014-06-04   \n",
       "9073127   104824           Brensol  2014-06-01   \n",
       "\n",
       "                                                      text  look  smell  \\\n",
       "0           750 ml bottle, 2016 vintage, bottle #304 of...  4.00   4.00   \n",
       "1                                                           4.50   4.50   \n",
       "2                                                           4.75   4.75   \n",
       "3           0% 16 oz can. Funny story: As I finally wal...  4.75   4.75   \n",
       "4           Classic TH NEIPA. Overflowing head and bouq...  4.25   4.50   \n",
       "...                                                    ...   ...    ...   \n",
       "9073123                                                      NaN    NaN   \n",
       "9073124                                                      NaN    NaN   \n",
       "9073125                                                      NaN    NaN   \n",
       "9073126                                                      NaN    NaN   \n",
       "9073127                                                      NaN    NaN   \n",
       "\n",
       "         taste  feel  overall  score  \n",
       "0         4.00  4.25     4.00   4.03  \n",
       "1         4.50  4.50     4.50   4.50  \n",
       "2         4.75  4.75     4.75   4.75  \n",
       "3         4.50  4.50     4.50   4.58  \n",
       "4         4.25  4.25     4.25   4.31  \n",
       "...        ...   ...      ...    ...  \n",
       "9073123    NaN   NaN      NaN   4.00  \n",
       "9073124    NaN   NaN      NaN   5.00  \n",
       "9073125    NaN   NaN      NaN   5.00  \n",
       "9073126    NaN   NaN      NaN   4.50  \n",
       "9073127    NaN   NaN      NaN   4.75  \n",
       "\n",
       "[9073128 rows x 10 columns]"
      ],
      "text/html": [
       "<div>\n",
       "<style scoped>\n",
       "    .dataframe tbody tr th:only-of-type {\n",
       "        vertical-align: middle;\n",
       "    }\n",
       "\n",
       "    .dataframe tbody tr th {\n",
       "        vertical-align: top;\n",
       "    }\n",
       "\n",
       "    .dataframe thead th {\n",
       "        text-align: right;\n",
       "    }\n",
       "</style>\n",
       "<table border=\"1\" class=\"dataframe\">\n",
       "  <thead>\n",
       "    <tr style=\"text-align: right;\">\n",
       "      <th></th>\n",
       "      <th>beer_id</th>\n",
       "      <th>username</th>\n",
       "      <th>date</th>\n",
       "      <th>text</th>\n",
       "      <th>look</th>\n",
       "      <th>smell</th>\n",
       "      <th>taste</th>\n",
       "      <th>feel</th>\n",
       "      <th>overall</th>\n",
       "      <th>score</th>\n",
       "    </tr>\n",
       "  </thead>\n",
       "  <tbody>\n",
       "    <tr>\n",
       "      <th>0</th>\n",
       "      <td>271781</td>\n",
       "      <td>bluejacket74</td>\n",
       "      <td>2017-03-17</td>\n",
       "      <td>750 ml bottle, 2016 vintage, bottle #304 of...</td>\n",
       "      <td>4.00</td>\n",
       "      <td>4.00</td>\n",
       "      <td>4.00</td>\n",
       "      <td>4.25</td>\n",
       "      <td>4.00</td>\n",
       "      <td>4.03</td>\n",
       "    </tr>\n",
       "    <tr>\n",
       "      <th>1</th>\n",
       "      <td>125646</td>\n",
       "      <td>_dirty_</td>\n",
       "      <td>2017-12-21</td>\n",
       "      <td></td>\n",
       "      <td>4.50</td>\n",
       "      <td>4.50</td>\n",
       "      <td>4.50</td>\n",
       "      <td>4.50</td>\n",
       "      <td>4.50</td>\n",
       "      <td>4.50</td>\n",
       "    </tr>\n",
       "    <tr>\n",
       "      <th>2</th>\n",
       "      <td>125646</td>\n",
       "      <td>CJDUBYA</td>\n",
       "      <td>2017-12-21</td>\n",
       "      <td></td>\n",
       "      <td>4.75</td>\n",
       "      <td>4.75</td>\n",
       "      <td>4.75</td>\n",
       "      <td>4.75</td>\n",
       "      <td>4.75</td>\n",
       "      <td>4.75</td>\n",
       "    </tr>\n",
       "    <tr>\n",
       "      <th>3</th>\n",
       "      <td>125646</td>\n",
       "      <td>GratefulBeerGuy</td>\n",
       "      <td>2017-12-20</td>\n",
       "      <td>0% 16 oz can. Funny story: As I finally wal...</td>\n",
       "      <td>4.75</td>\n",
       "      <td>4.75</td>\n",
       "      <td>4.50</td>\n",
       "      <td>4.50</td>\n",
       "      <td>4.50</td>\n",
       "      <td>4.58</td>\n",
       "    </tr>\n",
       "    <tr>\n",
       "      <th>4</th>\n",
       "      <td>125646</td>\n",
       "      <td>LukeGude</td>\n",
       "      <td>2017-12-20</td>\n",
       "      <td>Classic TH NEIPA. Overflowing head and bouq...</td>\n",
       "      <td>4.25</td>\n",
       "      <td>4.50</td>\n",
       "      <td>4.25</td>\n",
       "      <td>4.25</td>\n",
       "      <td>4.25</td>\n",
       "      <td>4.31</td>\n",
       "    </tr>\n",
       "    <tr>\n",
       "      <th>...</th>\n",
       "      <td>...</td>\n",
       "      <td>...</td>\n",
       "      <td>...</td>\n",
       "      <td>...</td>\n",
       "      <td>...</td>\n",
       "      <td>...</td>\n",
       "      <td>...</td>\n",
       "      <td>...</td>\n",
       "      <td>...</td>\n",
       "      <td>...</td>\n",
       "    </tr>\n",
       "    <tr>\n",
       "      <th>9073123</th>\n",
       "      <td>104824</td>\n",
       "      <td>CTJman</td>\n",
       "      <td>2014-06-08</td>\n",
       "      <td></td>\n",
       "      <td>NaN</td>\n",
       "      <td>NaN</td>\n",
       "      <td>NaN</td>\n",
       "      <td>NaN</td>\n",
       "      <td>NaN</td>\n",
       "      <td>4.00</td>\n",
       "    </tr>\n",
       "    <tr>\n",
       "      <th>9073124</th>\n",
       "      <td>104824</td>\n",
       "      <td>IMSPEAKNOENGLISH</td>\n",
       "      <td>2014-06-06</td>\n",
       "      <td></td>\n",
       "      <td>NaN</td>\n",
       "      <td>NaN</td>\n",
       "      <td>NaN</td>\n",
       "      <td>NaN</td>\n",
       "      <td>NaN</td>\n",
       "      <td>5.00</td>\n",
       "    </tr>\n",
       "    <tr>\n",
       "      <th>9073125</th>\n",
       "      <td>104824</td>\n",
       "      <td>twizzard</td>\n",
       "      <td>2014-06-05</td>\n",
       "      <td></td>\n",
       "      <td>NaN</td>\n",
       "      <td>NaN</td>\n",
       "      <td>NaN</td>\n",
       "      <td>NaN</td>\n",
       "      <td>NaN</td>\n",
       "      <td>5.00</td>\n",
       "    </tr>\n",
       "    <tr>\n",
       "      <th>9073126</th>\n",
       "      <td>104824</td>\n",
       "      <td>bootdown21</td>\n",
       "      <td>2014-06-04</td>\n",
       "      <td></td>\n",
       "      <td>NaN</td>\n",
       "      <td>NaN</td>\n",
       "      <td>NaN</td>\n",
       "      <td>NaN</td>\n",
       "      <td>NaN</td>\n",
       "      <td>4.50</td>\n",
       "    </tr>\n",
       "    <tr>\n",
       "      <th>9073127</th>\n",
       "      <td>104824</td>\n",
       "      <td>Brensol</td>\n",
       "      <td>2014-06-01</td>\n",
       "      <td></td>\n",
       "      <td>NaN</td>\n",
       "      <td>NaN</td>\n",
       "      <td>NaN</td>\n",
       "      <td>NaN</td>\n",
       "      <td>NaN</td>\n",
       "      <td>4.75</td>\n",
       "    </tr>\n",
       "  </tbody>\n",
       "</table>\n",
       "<p>9073128 rows × 10 columns</p>\n",
       "</div>"
      ]
     },
     "execution_count": 4,
     "metadata": {},
     "output_type": "execute_result"
    }
   ],
   "execution_count": 4
  },
  {
   "metadata": {
    "ExecuteTime": {
     "end_time": "2025-04-10T06:42:30.213360Z",
     "start_time": "2025-04-10T06:42:27.706541Z"
    }
   },
   "cell_type": "code",
   "source": "df.describe()",
   "id": "9474a9119940a8c8",
   "outputs": [
    {
     "data": {
      "text/plain": [
       "            beer_id          look         smell         taste          feel  \\\n",
       "count  9.073128e+06  5.283110e+06  5.283110e+06  5.283110e+06  5.283110e+06   \n",
       "mean   7.730655e+04  3.952155e+00  3.887863e+00  3.920704e+00  3.884350e+00   \n",
       "std    7.929345e+04  5.517191e-01  6.115909e-01  6.333365e-01  5.999279e-01   \n",
       "min    3.000000e+00  1.000000e+00  1.000000e+00  1.000000e+00  1.000000e+00   \n",
       "25%    1.155400e+04  3.750000e+00  3.500000e+00  3.500000e+00  3.500000e+00   \n",
       "50%    5.654500e+04  4.000000e+00  4.000000e+00  4.000000e+00  4.000000e+00   \n",
       "75%    1.076670e+05  4.250000e+00  4.250000e+00  4.250000e+00  4.250000e+00   \n",
       "max    3.731280e+05  5.000000e+00  5.000000e+00  5.000000e+00  5.000000e+00   \n",
       "\n",
       "            overall         score  \n",
       "count  5.283110e+06  9.073128e+06  \n",
       "mean   3.916280e+00  3.889815e+00  \n",
       "std    6.054554e-01  6.127417e-01  \n",
       "min    1.000000e+00  1.000000e+00  \n",
       "25%    3.500000e+00  3.570000e+00  \n",
       "50%    4.000000e+00  4.000000e+00  \n",
       "75%    4.250000e+00  4.250000e+00  \n",
       "max    5.000000e+00  5.000000e+00  "
      ],
      "text/html": [
       "<div>\n",
       "<style scoped>\n",
       "    .dataframe tbody tr th:only-of-type {\n",
       "        vertical-align: middle;\n",
       "    }\n",
       "\n",
       "    .dataframe tbody tr th {\n",
       "        vertical-align: top;\n",
       "    }\n",
       "\n",
       "    .dataframe thead th {\n",
       "        text-align: right;\n",
       "    }\n",
       "</style>\n",
       "<table border=\"1\" class=\"dataframe\">\n",
       "  <thead>\n",
       "    <tr style=\"text-align: right;\">\n",
       "      <th></th>\n",
       "      <th>beer_id</th>\n",
       "      <th>look</th>\n",
       "      <th>smell</th>\n",
       "      <th>taste</th>\n",
       "      <th>feel</th>\n",
       "      <th>overall</th>\n",
       "      <th>score</th>\n",
       "    </tr>\n",
       "  </thead>\n",
       "  <tbody>\n",
       "    <tr>\n",
       "      <th>count</th>\n",
       "      <td>9.073128e+06</td>\n",
       "      <td>5.283110e+06</td>\n",
       "      <td>5.283110e+06</td>\n",
       "      <td>5.283110e+06</td>\n",
       "      <td>5.283110e+06</td>\n",
       "      <td>5.283110e+06</td>\n",
       "      <td>9.073128e+06</td>\n",
       "    </tr>\n",
       "    <tr>\n",
       "      <th>mean</th>\n",
       "      <td>7.730655e+04</td>\n",
       "      <td>3.952155e+00</td>\n",
       "      <td>3.887863e+00</td>\n",
       "      <td>3.920704e+00</td>\n",
       "      <td>3.884350e+00</td>\n",
       "      <td>3.916280e+00</td>\n",
       "      <td>3.889815e+00</td>\n",
       "    </tr>\n",
       "    <tr>\n",
       "      <th>std</th>\n",
       "      <td>7.929345e+04</td>\n",
       "      <td>5.517191e-01</td>\n",
       "      <td>6.115909e-01</td>\n",
       "      <td>6.333365e-01</td>\n",
       "      <td>5.999279e-01</td>\n",
       "      <td>6.054554e-01</td>\n",
       "      <td>6.127417e-01</td>\n",
       "    </tr>\n",
       "    <tr>\n",
       "      <th>min</th>\n",
       "      <td>3.000000e+00</td>\n",
       "      <td>1.000000e+00</td>\n",
       "      <td>1.000000e+00</td>\n",
       "      <td>1.000000e+00</td>\n",
       "      <td>1.000000e+00</td>\n",
       "      <td>1.000000e+00</td>\n",
       "      <td>1.000000e+00</td>\n",
       "    </tr>\n",
       "    <tr>\n",
       "      <th>25%</th>\n",
       "      <td>1.155400e+04</td>\n",
       "      <td>3.750000e+00</td>\n",
       "      <td>3.500000e+00</td>\n",
       "      <td>3.500000e+00</td>\n",
       "      <td>3.500000e+00</td>\n",
       "      <td>3.500000e+00</td>\n",
       "      <td>3.570000e+00</td>\n",
       "    </tr>\n",
       "    <tr>\n",
       "      <th>50%</th>\n",
       "      <td>5.654500e+04</td>\n",
       "      <td>4.000000e+00</td>\n",
       "      <td>4.000000e+00</td>\n",
       "      <td>4.000000e+00</td>\n",
       "      <td>4.000000e+00</td>\n",
       "      <td>4.000000e+00</td>\n",
       "      <td>4.000000e+00</td>\n",
       "    </tr>\n",
       "    <tr>\n",
       "      <th>75%</th>\n",
       "      <td>1.076670e+05</td>\n",
       "      <td>4.250000e+00</td>\n",
       "      <td>4.250000e+00</td>\n",
       "      <td>4.250000e+00</td>\n",
       "      <td>4.250000e+00</td>\n",
       "      <td>4.250000e+00</td>\n",
       "      <td>4.250000e+00</td>\n",
       "    </tr>\n",
       "    <tr>\n",
       "      <th>max</th>\n",
       "      <td>3.731280e+05</td>\n",
       "      <td>5.000000e+00</td>\n",
       "      <td>5.000000e+00</td>\n",
       "      <td>5.000000e+00</td>\n",
       "      <td>5.000000e+00</td>\n",
       "      <td>5.000000e+00</td>\n",
       "      <td>5.000000e+00</td>\n",
       "    </tr>\n",
       "  </tbody>\n",
       "</table>\n",
       "</div>"
      ]
     },
     "execution_count": 5,
     "metadata": {},
     "output_type": "execute_result"
    }
   ],
   "execution_count": 5
  },
  {
   "cell_type": "code",
   "id": "f1a01f0abe38b0f8",
   "metadata": {
    "ExecuteTime": {
     "end_time": "2025-04-10T06:42:30.285068Z",
     "start_time": "2025-04-10T06:42:30.283039Z"
    }
   },
   "source": [
    "# Function to check if there is an emoji in the text\n",
    "def contains_emoji(text):\n",
    "    return any(char in emoji.EMOJI_DATA for char in text)"
   ],
   "outputs": [],
   "execution_count": 6
  },
  {
   "cell_type": "code",
   "id": "c8f03028826f9cdc",
   "metadata": {
    "ExecuteTime": {
     "end_time": "2025-04-10T06:43:02.036086Z",
     "start_time": "2025-04-10T06:42:30.410511Z"
    }
   },
   "source": [
    "MAX_ROWS = 1000000\n",
    "for index, row in df.head(MAX_ROWS).iterrows():\n",
    "    if contains_emoji(row['text']):\n",
    "        print(f\"Row {index} has an emoji\")"
   ],
   "outputs": [
    {
     "name": "stdout",
     "output_type": "stream",
     "text": [
      "Row 60340 has an emoji\n",
      "Row 66176 has an emoji\n",
      "Row 76815 has an emoji\n",
      "Row 84210 has an emoji\n",
      "Row 103689 has an emoji\n",
      "Row 104236 has an emoji\n",
      "Row 104774 has an emoji\n",
      "Row 117223 has an emoji\n",
      "Row 128778 has an emoji\n",
      "Row 139957 has an emoji\n",
      "Row 161658 has an emoji\n",
      "Row 195344 has an emoji\n",
      "Row 199225 has an emoji\n",
      "Row 210256 has an emoji\n",
      "Row 267838 has an emoji\n",
      "Row 277775 has an emoji\n",
      "Row 282206 has an emoji\n",
      "Row 290955 has an emoji\n",
      "Row 327281 has an emoji\n",
      "Row 328351 has an emoji\n",
      "Row 339617 has an emoji\n",
      "Row 342959 has an emoji\n",
      "Row 369446 has an emoji\n",
      "Row 373451 has an emoji\n",
      "Row 388926 has an emoji\n",
      "Row 397009 has an emoji\n",
      "Row 401422 has an emoji\n",
      "Row 404387 has an emoji\n",
      "Row 413555 has an emoji\n",
      "Row 457475 has an emoji\n",
      "Row 502722 has an emoji\n",
      "Row 513353 has an emoji\n",
      "Row 535107 has an emoji\n",
      "Row 548648 has an emoji\n",
      "Row 563582 has an emoji\n",
      "Row 582197 has an emoji\n",
      "Row 640889 has an emoji\n",
      "Row 658529 has an emoji\n",
      "Row 663925 has an emoji\n",
      "Row 708250 has an emoji\n",
      "Row 713269 has an emoji\n",
      "Row 716316 has an emoji\n",
      "Row 716641 has an emoji\n",
      "Row 730043 has an emoji\n",
      "Row 743858 has an emoji\n",
      "Row 751048 has an emoji\n",
      "Row 755322 has an emoji\n",
      "Row 760962 has an emoji\n",
      "Row 769493 has an emoji\n",
      "Row 780743 has an emoji\n",
      "Row 802880 has an emoji\n",
      "Row 803205 has an emoji\n",
      "Row 808147 has an emoji\n",
      "Row 809615 has an emoji\n",
      "Row 809792 has an emoji\n",
      "Row 815285 has an emoji\n",
      "Row 859231 has an emoji\n",
      "Row 896147 has an emoji\n",
      "Row 910448 has an emoji\n",
      "Row 938685 has an emoji\n"
     ]
    }
   ],
   "execution_count": 7
  },
  {
   "cell_type": "code",
   "id": "b48cdfa7654dc56c",
   "metadata": {
    "ExecuteTime": {
     "end_time": "2025-04-10T06:43:02.464673Z",
     "start_time": "2025-04-10T06:43:02.058411Z"
    }
   },
   "source": [
    "# Assuming the numerical scores column is named 'score'\n",
    "min_score = df['score'].min()\n",
    "max_score = df['score'].max()\n",
    "\n",
    "# Create bins with intervals of 0.5\n",
    "bins = np.arange(min_score, max_score + 0.5, 0.5)\n",
    "df['score_bin'] = pd.cut(df['score'], bins, right=False)  # Right=False means left-inclusive\n",
    "\n",
    "# Count occurrences in each bin\n",
    "score_counts = df['score_bin'].value_counts().sort_index()\n",
    "\n",
    "# Convert bins to string format for better display\n",
    "bin_labels = [f\"{interval.left:.1f} - {interval.right:.1f}\" for interval in score_counts.index]\n",
    "\n",
    "# Plot bar chart\n",
    "plt.figure(figsize=(12, 6))\n",
    "ax = sns.barplot(x=bin_labels, y=score_counts.values, palette='viridis')\n",
    "\n",
    "# Add value labels on top of bars\n",
    "for i, count in enumerate(score_counts.values):\n",
    "    ax.text(i, count + 0.5, str(count), ha='center', fontsize=12)\n",
    "\n",
    "# Customize plot\n",
    "plt.xlabel(\"Score Intervals\")\n",
    "plt.ylabel(\"Count\")\n",
    "plt.title(\"Distribution of Scores (Grouped by 0.5 Intervals)\")\n",
    "plt.xticks(rotation=45, ha='right')\n",
    "plt.grid(axis='y', linestyle='--', alpha=0.7)\n",
    "\n",
    "# Show plot\n",
    "plt.show()"
   ],
   "outputs": [
    {
     "name": "stderr",
     "output_type": "stream",
     "text": [
      "/tmp/ipykernel_347637/234922773.py:17: FutureWarning: \n",
      "\n",
      "Passing `palette` without assigning `hue` is deprecated and will be removed in v0.14.0. Assign the `x` variable to `hue` and set `legend=False` for the same effect.\n",
      "\n",
      "  ax = sns.barplot(x=bin_labels, y=score_counts.values, palette='viridis')\n"
     ]
    },
    {
     "data": {
      "text/plain": [
       "<Figure size 1200x600 with 1 Axes>"
      ],
      "image/png": "[encoded data removed]"
     },
     "metadata": {},
     "output_type": "display_data"
    }
   ],
   "execution_count": 8
  },
  {
   "cell_type": "code",
   "id": "2572b415ded6b955",
   "metadata": {
    "ExecuteTime": {
     "end_time": "2025-04-10T06:43:02.740008Z",
     "start_time": "2025-04-10T06:43:02.469202Z"
    }
   },
   "source": [
    "import pandas as pd\n",
    "import matplotlib.pyplot as plt\n",
    "import seaborn as sns\n",
    "\n",
    "# Assuming df is already defined\n",
    "min_score = df['score'].min()\n",
    "max_score = df['score'].max()\n",
    "\n",
    "# Define bins\n",
    "bins = [1, 4, 5]\n",
    "df['score_bin'] = pd.cut(df['score'], bins, right=False)  # Right=False means left-inclusive\n",
    "\n",
    "# Count occurrences in each bin\n",
    "score_counts = df['score_bin'].value_counts().sort_index()\n",
    "\n",
    "# Convert bins to string format for better display\n",
    "bin_labels = [f\"{interval.left:.1f} - {interval.right:.1f}\" for interval in score_counts.index]\n",
    "\n",
    "# Plot bar chart\n",
    "plt.figure(figsize=(12, 6))\n",
    "ax = sns.barplot(x=bin_labels, y=score_counts.values, palette='viridis')\n",
    "\n",
    "# Add value labels on top of bars\n",
    "for i, count in enumerate(score_counts.values):\n",
    "    ax.text(i, count + 0.5, str(count), ha='center', fontsize=12)\n",
    "\n",
    "# Customize plot\n",
    "plt.xlabel(\"Score Intervals\")\n",
    "plt.ylabel(\"Count\")\n",
    "plt.title(\"Distribution of Scores\")\n",
    "plt.xticks(rotation=45, ha='right')\n",
    "\n",
    "# Add grid lines\n",
    "plt.grid(True, linestyle='--', alpha=0.7)  # Ensures grid is visible\n",
    "\n",
    "# Show plot\n",
    "plt.show()"
   ],
   "outputs": [
    {
     "name": "stderr",
     "output_type": "stream",
     "text": [
      "/tmp/ipykernel_347637/3343119197.py:21: FutureWarning: \n",
      "\n",
      "Passing `palette` without assigning `hue` is deprecated and will be removed in v0.14.0. Assign the `x` variable to `hue` and set `legend=False` for the same effect.\n",
      "\n",
      "  ax = sns.barplot(x=bin_labels, y=score_counts.values, palette='viridis')\n"
     ]
    },
    {
     "data": {
      "text/plain": [
       "<Figure size 1200x600 with 1 Axes>"
      ],
      "image/png": "[encoded data removed]"
     },
     "metadata": {},
     "output_type": "display_data"
    }
   ],
   "execution_count": 9
  },
  {
   "cell_type": "code",
   "id": "800d527ecfc8f83c",
   "metadata": {
    "ExecuteTime": {
     "end_time": "2025-04-10T06:43:07.121508Z",
     "start_time": "2025-04-10T06:43:02.748849Z"
    }
   },
   "source": [
    "# Extract the 'text' column and remove NaNs and empty strings\n",
    "text_values = df[\"text\"].dropna().astype(str)  # Convert to string to handle non-string values\n",
    "text_values = text_values[text_values.str.strip() != \"\"]  # Remove empty strings\n",
    "text_list = text_values.tolist()  # Convert to list\n",
    "\n",
    "# Print the number of elements\n",
    "print(\"Number of non-empty elements in 'text' column:\", len(text_list))"
   ],
   "outputs": [
    {
     "name": "stdout",
     "output_type": "stream",
     "text": [
      "Number of non-empty elements in 'text' column: 2987991\n"
     ]
    }
   ],
   "execution_count": 10
  },
  {
   "metadata": {},
   "cell_type": "markdown",
   "source": [
    "# Core Observations\n",
    "\n",
    "* The dataset is highly skewed towards positive reviews, with a significant number of 4 or 5-star ratings.\n",
    "* The dataset contains a large number of emojis\n",
    "* The dataset contains a large number of empty strings in the text column, which needs to be removed"
   ],
   "id": "ca23cad0d406e782"
  },
  {
   "metadata": {},
   "cell_type": "markdown",
   "source": [
    "# Next Steps\n",
    "* Remove emojis from the text\n",
    "* Filter out empty strings\n",
    "* Mismatch between and score needs to be analysed\n",
    "* Further Downsizing the data is needed -> 3 million entries"
   ],
   "id": "f6b25a52848d2d4d"
  }
 ],
 "metadata": {
  "kernelspec": {
   "display_name": "IE684-WebMining-Project",
   "language": "python",
   "name": "python3"
  },
  "language_info": {
   "codemirror_mode": {
    "name": "ipython",
    "version": 3
   },
   "file_extension": ".py",
   "mimetype": "text/x-python",
   "name": "python",
   "nbconvert_exporter": "python",
   "pygments_lexer": "ipython3",
   "version": "3.11.11"
  }
 },
 "nbformat": 4,
 "nbformat_minor": 5
}
