{
 "cells": [
  {
   "cell_type": "markdown",
   "id": "82fc8b41645661a",
   "metadata": {},
   "source": [
    "# Preprocessing"
   ]
  },
  {
   "cell_type": "code",
   "execution_count": 2,
   "id": "2d9b99cae1d7808e",
   "metadata": {
    "ExecuteTime": {
     "end_time": "2025-05-08T17:53:50.615917Z",
     "start_time": "2025-05-08T17:53:50.291703Z"
    }
   },
   "outputs": [],
   "source": [
    "import pandas as pd\n",
    "import matplotlib.pyplot as plt\n",
    "import emoji\n",
    "import seaborn as sns\n",
    "from tqdm import tqdm\n",
    "import nltk"
   ]
  },
  {
   "cell_type": "markdown",
   "id": "66937ffd4976e892",
   "metadata": {},
   "source": [
    "## Remove empty texts"
   ]
  },
  {
   "cell_type": "code",
   "execution_count": 3,
   "id": "initial_id",
   "metadata": {
    "ExecuteTime": {
     "end_time": "2025-05-08T17:54:16.453959Z",
     "start_time": "2025-05-08T17:53:50.631663Z"
    },
    "collapsed": true
   },
   "outputs": [
    {
     "name": "stdout",
     "output_type": "stream",
     "text": [
      "Original number of rows: 9073128\n",
      "Remaining rows after cleaning: 2987991\n",
      "Removed 6085137 rows with missing or empty text\n"
     ]
    }
   ],
   "source": [
    "csv_path = '../data/reviews.csv'\n",
    "df = pd.read_csv(csv_path)\n",
    "\n",
    "# Print original row count\n",
    "original_count = len(df)\n",
    "print(f\"Original number of rows: {original_count}\")\n",
    "\n",
    "# Remove rows where 'text' column is NaN or empty/whitespace\n",
    "df.dropna(subset=['text'], inplace=True)\n",
    "df = df[df['text'].str.strip().astype(bool)]\n",
    "\n",
    "# Print cleaned row count\n",
    "cleaned_count = len(df)\n",
    "print(f\"Remaining rows after cleaning: {cleaned_count}\")\n",
    "print(f\"Removed {original_count - cleaned_count} rows with missing or empty text\")"
   ]
  },
  {
   "cell_type": "code",
   "execution_count": 4,
   "id": "c3f0bcd6786d78f5",
   "metadata": {
    "ExecuteTime": {
     "end_time": "2025-05-08T17:54:19.895793Z",
     "start_time": "2025-05-08T17:54:16.818321Z"
    }
   },
   "outputs": [
    {
     "name": "stdout",
     "output_type": "stream",
     "text": [
      "Original number of entries: 2987991\n",
      "Entries remaining after cleaning: 2987991\n",
      "Removed 0 entries with missing or empty text/score.\n"
     ]
    }
   ],
   "source": [
    "original_count = len(df)\n",
    "print(f\"Original number of entries: {original_count}\")\n",
    "\n",
    "# Step 3: Remove rows with missing or empty 'text' or missing 'score'\n",
    "df.dropna(subset=['text', 'score'], inplace=True)\n",
    "df = df[df['text'].str.strip().astype(bool)]\n",
    "\n",
    "# Step 4: Define sentiment labels based on the 'score' column\n",
    "def label_sentiment(score):\n",
    "    if score >= 4:\n",
    "        return 'positive'\n",
    "    elif score <= 2:\n",
    "        return 'negative'\n",
    "    else:\n",
    "        return 'neutral'\n",
    "\n",
    "# Step 5: Apply sentiment labeling and reset index\n",
    "df['sentiment'] = df['score'].apply(label_sentiment)\n",
    "df.reset_index(drop=True, inplace=True)\n",
    "\n",
    "# Step 6: Report cleaned entry count and how many were removed\n",
    "cleaned_count = len(df)\n",
    "print(f\"Entries remaining after cleaning: {cleaned_count}\")\n",
    "print(f\"Removed {original_count - cleaned_count} entries with missing or empty text/score.\")"
   ]
  },
  {
   "cell_type": "code",
   "execution_count": 5,
   "id": "2d4cf7711e25c0dc",
   "metadata": {
    "ExecuteTime": {
     "end_time": "2025-05-08T17:54:19.970621Z",
     "start_time": "2025-05-08T17:54:19.955294Z"
    }
   },
   "outputs": [
    {
     "data": {
      "text/html": [
       "<div>\n",
       "<style scoped>\n",
       "    .dataframe tbody tr th:only-of-type {\n",
       "        vertical-align: middle;\n",
       "    }\n",
       "\n",
       "    .dataframe tbody tr th {\n",
       "        vertical-align: top;\n",
       "    }\n",
       "\n",
       "    .dataframe thead th {\n",
       "        text-align: right;\n",
       "    }\n",
       "</style>\n",
       "<table border=\"1\" class=\"dataframe\">\n",
       "  <thead>\n",
       "    <tr style=\"text-align: right;\">\n",
       "      <th></th>\n",
       "      <th>beer_id</th>\n",
       "      <th>username</th>\n",
       "      <th>date</th>\n",
       "      <th>text</th>\n",
       "      <th>look</th>\n",
       "      <th>smell</th>\n",
       "      <th>taste</th>\n",
       "      <th>feel</th>\n",
       "      <th>overall</th>\n",
       "      <th>score</th>\n",
       "      <th>sentiment</th>\n",
       "    </tr>\n",
       "  </thead>\n",
       "  <tbody>\n",
       "    <tr>\n",
       "      <th>0</th>\n",
       "      <td>271781</td>\n",
       "      <td>bluejacket74</td>\n",
       "      <td>2017-03-17</td>\n",
       "      <td>750 ml bottle, 2016 vintage, bottle #304 of...</td>\n",
       "      <td>4.00</td>\n",
       "      <td>4.00</td>\n",
       "      <td>4.00</td>\n",
       "      <td>4.25</td>\n",
       "      <td>4.00</td>\n",
       "      <td>4.03</td>\n",
       "      <td>positive</td>\n",
       "    </tr>\n",
       "    <tr>\n",
       "      <th>1</th>\n",
       "      <td>125646</td>\n",
       "      <td>GratefulBeerGuy</td>\n",
       "      <td>2017-12-20</td>\n",
       "      <td>0% 16 oz can. Funny story: As I finally wal...</td>\n",
       "      <td>4.75</td>\n",
       "      <td>4.75</td>\n",
       "      <td>4.50</td>\n",
       "      <td>4.50</td>\n",
       "      <td>4.50</td>\n",
       "      <td>4.58</td>\n",
       "      <td>positive</td>\n",
       "    </tr>\n",
       "    <tr>\n",
       "      <th>2</th>\n",
       "      <td>125646</td>\n",
       "      <td>LukeGude</td>\n",
       "      <td>2017-12-20</td>\n",
       "      <td>Classic TH NEIPA. Overflowing head and bouq...</td>\n",
       "      <td>4.25</td>\n",
       "      <td>4.50</td>\n",
       "      <td>4.25</td>\n",
       "      <td>4.25</td>\n",
       "      <td>4.25</td>\n",
       "      <td>4.31</td>\n",
       "      <td>positive</td>\n",
       "    </tr>\n",
       "    <tr>\n",
       "      <th>3</th>\n",
       "      <td>125646</td>\n",
       "      <td>MFMB</td>\n",
       "      <td>2017-12-16</td>\n",
       "      <td>Pours a creamy opaque light straw yellow wi...</td>\n",
       "      <td>4.75</td>\n",
       "      <td>4.50</td>\n",
       "      <td>4.50</td>\n",
       "      <td>4.50</td>\n",
       "      <td>4.50</td>\n",
       "      <td>4.52</td>\n",
       "      <td>positive</td>\n",
       "    </tr>\n",
       "    <tr>\n",
       "      <th>4</th>\n",
       "      <td>125646</td>\n",
       "      <td>jngrizzaffi</td>\n",
       "      <td>2017-12-10</td>\n",
       "      <td>Pours a cloudy yellow color with a thin foa...</td>\n",
       "      <td>4.50</td>\n",
       "      <td>4.50</td>\n",
       "      <td>4.50</td>\n",
       "      <td>4.75</td>\n",
       "      <td>4.50</td>\n",
       "      <td>4.53</td>\n",
       "      <td>positive</td>\n",
       "    </tr>\n",
       "    <tr>\n",
       "      <th>5</th>\n",
       "      <td>125646</td>\n",
       "      <td>PDOR1960</td>\n",
       "      <td>2017-12-08</td>\n",
       "      <td>Another great brew from Treehouse!!</td>\n",
       "      <td>4.50</td>\n",
       "      <td>4.50</td>\n",
       "      <td>4.50</td>\n",
       "      <td>4.50</td>\n",
       "      <td>4.50</td>\n",
       "      <td>4.50</td>\n",
       "      <td>positive</td>\n",
       "    </tr>\n",
       "    <tr>\n",
       "      <th>6</th>\n",
       "      <td>125646</td>\n",
       "      <td>Lucular</td>\n",
       "      <td>2017-12-04</td>\n",
       "      <td>Pours with a cloudy yellow-orange haze with...</td>\n",
       "      <td>4.25</td>\n",
       "      <td>4.25</td>\n",
       "      <td>4.25</td>\n",
       "      <td>4.25</td>\n",
       "      <td>4.25</td>\n",
       "      <td>4.25</td>\n",
       "      <td>positive</td>\n",
       "    </tr>\n",
       "    <tr>\n",
       "      <th>7</th>\n",
       "      <td>205644</td>\n",
       "      <td>Brutaltruth</td>\n",
       "      <td>2017-03-29</td>\n",
       "      <td>From the tall boy can and enjoyed in a snif...</td>\n",
       "      <td>4.00</td>\n",
       "      <td>3.75</td>\n",
       "      <td>4.00</td>\n",
       "      <td>3.75</td>\n",
       "      <td>4.00</td>\n",
       "      <td>3.92</td>\n",
       "      <td>neutral</td>\n",
       "    </tr>\n",
       "    <tr>\n",
       "      <th>8</th>\n",
       "      <td>205644</td>\n",
       "      <td>secondtooth</td>\n",
       "      <td>2016-07-13</td>\n",
       "      <td>Appearance: Pours a deep black, with tan he...</td>\n",
       "      <td>3.50</td>\n",
       "      <td>4.00</td>\n",
       "      <td>4.25</td>\n",
       "      <td>4.00</td>\n",
       "      <td>4.00</td>\n",
       "      <td>4.07</td>\n",
       "      <td>positive</td>\n",
       "    </tr>\n",
       "    <tr>\n",
       "      <th>9</th>\n",
       "      <td>150672</td>\n",
       "      <td>Derek</td>\n",
       "      <td>2016-06-07</td>\n",
       "      <td>Beautiful, crystal clear pour with a nice h...</td>\n",
       "      <td>4.75</td>\n",
       "      <td>4.00</td>\n",
       "      <td>4.25</td>\n",
       "      <td>4.25</td>\n",
       "      <td>4.25</td>\n",
       "      <td>4.22</td>\n",
       "      <td>positive</td>\n",
       "    </tr>\n",
       "  </tbody>\n",
       "</table>\n",
       "</div>"
      ],
      "text/plain": [
       "   beer_id         username        date  \\\n",
       "0   271781     bluejacket74  2017-03-17   \n",
       "1   125646  GratefulBeerGuy  2017-12-20   \n",
       "2   125646         LukeGude  2017-12-20   \n",
       "3   125646             MFMB  2017-12-16   \n",
       "4   125646      jngrizzaffi  2017-12-10   \n",
       "5   125646         PDOR1960  2017-12-08   \n",
       "6   125646          Lucular  2017-12-04   \n",
       "7   205644      Brutaltruth  2017-03-29   \n",
       "8   205644      secondtooth  2016-07-13   \n",
       "9   150672            Derek  2016-06-07   \n",
       "\n",
       "                                                text  look  smell  taste  \\\n",
       "0     750 ml bottle, 2016 vintage, bottle #304 of...  4.00   4.00   4.00   \n",
       "1     0% 16 oz can. Funny story: As I finally wal...  4.75   4.75   4.50   \n",
       "2     Classic TH NEIPA. Overflowing head and bouq...  4.25   4.50   4.25   \n",
       "3     Pours a creamy opaque light straw yellow wi...  4.75   4.50   4.50   \n",
       "4     Pours a cloudy yellow color with a thin foa...  4.50   4.50   4.50   \n",
       "5                Another great brew from Treehouse!!  4.50   4.50   4.50   \n",
       "6     Pours with a cloudy yellow-orange haze with...  4.25   4.25   4.25   \n",
       "7     From the tall boy can and enjoyed in a snif...  4.00   3.75   4.00   \n",
       "8     Appearance: Pours a deep black, with tan he...  3.50   4.00   4.25   \n",
       "9     Beautiful, crystal clear pour with a nice h...  4.75   4.00   4.25   \n",
       "\n",
       "   feel  overall  score sentiment  \n",
       "0  4.25     4.00   4.03  positive  \n",
       "1  4.50     4.50   4.58  positive  \n",
       "2  4.25     4.25   4.31  positive  \n",
       "3  4.50     4.50   4.52  positive  \n",
       "4  4.75     4.50   4.53  positive  \n",
       "5  4.50     4.50   4.50  positive  \n",
       "6  4.25     4.25   4.25  positive  \n",
       "7  3.75     4.00   3.92   neutral  \n",
       "8  4.00     4.00   4.07  positive  \n",
       "9  4.25     4.25   4.22  positive  "
      ]
     },
     "execution_count": 5,
     "metadata": {},
     "output_type": "execute_result"
    }
   ],
   "source": [
    "pd.set_option('display.max_columns', None)\n",
    "pd.set_option('display.width', None)\n",
    "df.head(10)"
   ]
  },
  {
   "cell_type": "code",
   "execution_count": 6,
   "id": "c5605f9209766e9b",
   "metadata": {
    "ExecuteTime": {
     "end_time": "2025-05-08T17:54:20.501451Z",
     "start_time": "2025-05-08T17:54:20.138904Z"
    }
   },
   "outputs": [
    {
     "data": {
      "image/png": "[encoded data removed]",
      "text/plain": [
       "<Figure size 800x500 with 1 Axes>"
      ]
     },
     "metadata": {},
     "output_type": "display_data"
    }
   ],
   "source": [
    "# Calculate the number of each sentiment label\n",
    "sentiment_counts = df[\"sentiment\"].value_counts().reindex([\"positive\", \"neutral\", \"negative\"], fill_value=0)\n",
    "\n",
    "# Plot the sentiment distribution\n",
    "plt.figure(figsize=(8, 5))\n",
    "sentiment_counts.plot(kind=\"bar\", color=\"skyblue\")\n",
    "plt.title(\"Sentiment Polarity Distribution\")\n",
    "plt.xlabel(\"Sentiment\")\n",
    "plt.ylabel(\"Number of Reviews\")\n",
    "plt.xticks(rotation=0)\n",
    "plt.grid(axis=\"y\", linestyle=\"--\", alpha=0.7)\n",
    "plt.tight_layout()\n",
    "plt.show()"
   ]
  },
  {
   "cell_type": "markdown",
   "id": "641314fda41f4a47",
   "metadata": {},
   "source": [
    "## Remove emojis"
   ]
  },
  {
   "cell_type": "code",
   "execution_count": 8,
   "id": "35611bc967d3d31e",
   "metadata": {
    "ExecuteTime": {
     "end_time": "2025-05-08T18:09:41.772972Z",
     "start_time": "2025-05-08T17:54:20.698322Z"
    }
   },
   "outputs": [],
   "source": [
    "def remove_emoji(text):\n",
    "    return emoji.replace_emoji(text, replace='')\n",
    "\n",
    "df[\"text\"] = df[\"text\"].apply(remove_emoji)\n",
    "df['text'] = df['text'].str.lstrip()"
   ]
  },
  {
   "cell_type": "markdown",
   "id": "c9f1fe4506bbea84",
   "metadata": {},
   "source": [
    "## Remove duplicates"
   ]
  },
  {
   "cell_type": "code",
   "execution_count": 9,
   "id": "fd1a28a650cc01ea",
   "metadata": {
    "ExecuteTime": {
     "end_time": "2025-05-08T18:09:47.914170Z",
     "start_time": "2025-05-08T18:09:41.940189Z"
    }
   },
   "outputs": [
    {
     "data": {
      "text/plain": [
       "(2893954, 11)"
      ]
     },
     "execution_count": 9,
     "metadata": {},
     "output_type": "execute_result"
    }
   ],
   "source": [
    "df = df[df['text'].map(df['text'].value_counts()) == 1]\n",
    "df.shape"
   ]
  },
  {
   "cell_type": "code",
   "execution_count": 10,
   "id": "aee325e781602dc2",
   "metadata": {
    "ExecuteTime": {
     "end_time": "2025-05-08T18:10:14.272391Z",
     "start_time": "2025-05-08T18:09:47.929142Z"
    }
   },
   "outputs": [
    {
     "name": "stdout",
     "output_type": "stream",
     "text": [
      "Average number of words per sentence: 114.14880747931723\n"
     ]
    },
    {
     "data": {
      "text/plain": [
       "(1149509, 11)"
      ]
     },
     "execution_count": 10,
     "metadata": {},
     "output_type": "execute_result"
    }
   ],
   "source": [
    "# Filter out sentences with fewer words than the average\n",
    "average_word_count = df['text'].apply(lambda x: len(str(x).split())).mean()\n",
    "print(f\"Average number of words per sentence: {average_word_count}\")\n",
    "df = df[df['text'].apply(lambda x: len(str(x).split())) >= average_word_count]\n",
    "df.shape"
   ]
  },
  {
   "cell_type": "markdown",
   "id": "63e19c9281be79da",
   "metadata": {},
   "source": [
    "## Remove non-ABSA relevant reviews"
   ]
  },
  {
   "cell_type": "code",
   "execution_count": 11,
   "id": "70f6a90c0a273224",
   "metadata": {
    "ExecuteTime": {
     "end_time": "2025-05-08T18:10:32.285728Z",
     "start_time": "2025-05-08T18:10:14.359570Z"
    }
   },
   "outputs": [],
   "source": [
    "# Define the aspect-specific keyword lists\n",
    "aspect_keywords = {\n",
    "    'look': [\n",
    "        'look', 'appearance', 'color', 'colour', 'head', 'foam', 'lacing', 'clarity',\n",
    "        'hazy', 'opaque', 'transparent', 'visual', 'bubble', 'carbonation', 'layer'\n",
    "    ],\n",
    "    'smell': [\n",
    "        'smell', 'aroma', 'nose', 'scent', 'fragrance', 'odor', 'bouquet',\n",
    "        'sniff', 'whiff', 'malty aroma', 'hoppy aroma'\n",
    "    ],\n",
    "    'taste': [\n",
    "        'taste', 'flavor', 'flavour', 'aftertaste', 'bitterness', 'sweetness',\n",
    "        'sourness', 'dry', 'bitter', 'sweet', 'sour', 'savory', 'malty', 'hoppy',\n",
    "        'balanced', 'burnt', 'roasty', 'yeasty', 'complex'\n",
    "    ],\n",
    "    'feel': [\n",
    "        'feel', 'mouthfeel', 'texture', 'body', 'weight', 'creaminess',\n",
    "        'smoothness', 'carbonation', 'coating', 'slick', 'watery', 'full-bodied',\n",
    "        'astringent', 'dryness', 'crisp', 'tingle'\n",
    "    ]\n",
    "}\n",
    "\n",
    "# Convert text column to lowercase for consistent keyword matching\n",
    "df['text'] = df['text'].astype(str).str.lower()\n",
    "\n",
    "# Create a boolean column for each aspect to indicate if its keywords are mentioned\n",
    "for aspect, keywords in aspect_keywords.items():\n",
    "    df[f'has_{aspect}'] = df['text'].apply(\n",
    "        lambda text: any(keyword in text for keyword in keywords)\n",
    "    )\n",
    "\n",
    "# Filter to retain only rows where all four aspects are present\n",
    "df = df[\n",
    "    df['has_look'] &\n",
    "    df['has_smell'] &\n",
    "    df['has_taste'] &\n",
    "    df['has_feel']\n",
    "].copy()\n",
    "\n",
    "# Optional: add a column explicitly stating the presence of all aspects\n",
    "df['mentioned_aspects'] = ['look, smell, taste, feel'] * len(df)"
   ]
  },
  {
   "cell_type": "markdown",
   "id": "2ea2fd1a",
   "metadata": {},
   "source": [
    "## Balanced Data Preparation for BERT Classification"
   ]
  },
  {
   "cell_type": "code",
   "execution_count": 12,
   "id": "5b4f22a4",
   "metadata": {},
   "outputs": [],
   "source": [
    "df_for_classification = df.copy()"
   ]
  },
  {
   "cell_type": "code",
   "execution_count": 13,
   "id": "7e6e3b2eb09803c6",
   "metadata": {
    "ExecuteTime": {
     "end_time": "2025-05-08T18:10:32.457545Z",
     "start_time": "2025-05-08T18:10:32.345891Z"
    }
   },
   "outputs": [],
   "source": [
    "# Define rule: score ≥ 4 → positive, score ≤ 2 → negative, else → neutral\n",
    "def score_to_sentiment(score):\n",
    "    if score >= 4:\n",
    "        return 'positive'\n",
    "    elif score <= 2:\n",
    "        return 'negative'\n",
    "    else:\n",
    "        return 'neutral'\n",
    "\n",
    "# Apply mapping to generate sentiment column\n",
    "df_for_classification['sentiment'] = df_for_classification['score'].apply(score_to_sentiment)"
   ]
  },
  {
   "cell_type": "code",
   "execution_count": 14,
   "id": "c27a67da7f679ed2",
   "metadata": {
    "ExecuteTime": {
     "end_time": "2025-05-08T18:10:33.234164Z",
     "start_time": "2025-05-08T18:10:32.472885Z"
    }
   },
   "outputs": [
    {
     "name": "stdout",
     "output_type": "stream",
     "text": [
      "Sentiment distribution before sampling:\n",
      " sentiment\n",
      "neutral     459756\n",
      "positive    445809\n",
      "negative      9234\n",
      "Name: count, dtype: int64\n"
     ]
    },
    {
     "data": {
      "image/png": "[encoded data removed]",
      "text/plain": [
       "<Figure size 640x480 with 1 Axes>"
      ]
     },
     "metadata": {},
     "output_type": "display_data"
    }
   ],
   "source": [
    "# Count distribution\n",
    "sentiment_counts = df_for_classification['sentiment'].value_counts()\n",
    "print(\"Sentiment distribution before sampling:\\n\", sentiment_counts)\n",
    "\n",
    "# Plot\n",
    "sns.countplot(data=df_for_classification, x='sentiment', order=sentiment_counts.index)\n",
    "plt.title('Sentiment Distribution Before Sampling')\n",
    "plt.xlabel('Sentiment')\n",
    "plt.ylabel('Count')\n",
    "plt.show()"
   ]
  },
  {
   "cell_type": "code",
   "execution_count": 15,
   "id": "3b5a06fc021efa8e",
   "metadata": {
    "ExecuteTime": {
     "end_time": "2025-05-08T18:10:33.470615Z",
     "start_time": "2025-05-08T18:10:33.249845Z"
    }
   },
   "outputs": [
    {
     "name": "stdout",
     "output_type": "stream",
     "text": [
      "Stratified dataset shape: (27702, 16)\n"
     ]
    }
   ],
   "source": [
    "# Define desired sample size per sentiment class\n",
    "n_per_class = 9234\n",
    "\n",
    "# Perform stratified sampling by sentiment  # undersampling\n",
    "df_sampled = df_for_classification.groupby('sentiment').sample(n=n_per_class, random_state=42)\n",
    "\n",
    "# Reset index\n",
    "df_sampled.reset_index(drop=True, inplace=True)\n",
    "print(f\"Stratified dataset shape: {df_sampled.shape}\")"
   ]
  },
  {
   "cell_type": "code",
   "execution_count": 16,
   "id": "1a5a8220c078ca9c",
   "metadata": {
    "ExecuteTime": {
     "end_time": "2025-05-08T18:10:33.666444Z",
     "start_time": "2025-05-08T18:10:33.489202Z"
    }
   },
   "outputs": [
    {
     "data": {
      "image/png": "[encoded data removed]",
      "text/plain": [
       "<Figure size 640x480 with 1 Axes>"
      ]
     },
     "metadata": {},
     "output_type": "display_data"
    }
   ],
   "source": [
    "sns.countplot(data=df_sampled, x='sentiment')\n",
    "plt.title('Sentiment Distribution After Underampling')\n",
    "plt.xlabel('Sentiment')\n",
    "plt.ylabel('Count')\n",
    "plt.show()"
   ]
  },
  {
   "cell_type": "code",
   "execution_count": 24,
   "id": "30f49c9ac530b021",
   "metadata": {
    "ExecuteTime": {
     "end_time": "2025-05-08T18:10:52.490190Z",
     "start_time": "2025-05-08T18:10:33.685101Z"
    }
   },
   "outputs": [
    {
     "name": "stdout",
     "output_type": "stream",
     "text": [
      "Saved aspect-filtered dataset: 914799 rows → 'reviews_with_all_4_aspects.csv'\n",
      "Saved undersampled dataset: 27702 rows → 'reviews_undersampled.csv'\n"
     ]
    }
   ],
   "source": [
    "df.to_csv('../data/reviews_with_all_4_aspects.csv', index=False)\n",
    "print(f\"Saved aspect-filtered dataset: {len(df)} rows → 'reviews_with_all_4_aspects.csv'\")\n",
    "\n",
    "# Save the undersampled dataset\n",
    "df_sampled.to_csv('../data/reviews_undersampled.csv', index=False)\n",
    "print(f\"Saved undersampled dataset: {len(df_sampled)} rows → 'reviews_undersampled.csv'\")"
   ]
  },
  {
   "cell_type": "markdown",
   "id": "e2a2dd67",
   "metadata": {},
   "source": [
    "## Balanced Data Preparation for BERT Regression"
   ]
  },
  {
   "cell_type": "code",
   "execution_count": 17,
   "id": "7b673fc2",
   "metadata": {},
   "outputs": [],
   "source": [
    "df_for_regression = df.copy()"
   ]
  },
  {
   "cell_type": "code",
   "execution_count": 19,
   "id": "d5d028e2",
   "metadata": {},
   "outputs": [
    {
     "data": {
      "image/png": "[encoded data removed]",
      "text/plain": [
       "<Figure size 1200x600 with 1 Axes>"
      ]
     },
     "metadata": {},
     "output_type": "display_data"
    }
   ],
   "source": [
    "import numpy as np\n",
    "\n",
    "# Assuming the numerical scores column is named 'score'\n",
    "min_score = df_for_regression['score'].min()\n",
    "max_score = df_for_regression['score'].max()\n",
    "\n",
    "# Create bins with intervals of 0.5\n",
    "bins = np.arange(min_score, max_score + 0.5, 0.5)\n",
    "df_for_regression['score_bin'] = pd.cut(df['score'], bins, right=False)  # Right=False means left-inclusive\n",
    "\n",
    "# Count occurrences in each bin\n",
    "score_counts = df_for_regression['score_bin'].value_counts().sort_index()\n",
    "\n",
    "# Convert bins to string format for better display\n",
    "bin_labels = [f\"{interval.left:.1f} - {interval.right:.1f}\" for interval in score_counts.index]\n",
    "\n",
    "# Plot bar chart\n",
    "plt.figure(figsize=(12, 6))\n",
    "ax = sns.barplot(x=bin_labels, y=score_counts.values, hue=bin_labels, palette='viridis', legend=False)\n",
    "\n",
    "# Add value labels on top of bars\n",
    "for i, count in enumerate(score_counts.values):\n",
    "    ax.text(i, count + 0.5, str(count), ha='center', fontsize=12)\n",
    "\n",
    "# Customize plot\n",
    "plt.xlabel(\"Score Intervals\")\n",
    "plt.ylabel(\"Count\")\n",
    "plt.title(\"Distribution of Scores (Grouped by 0.5 Intervals)\")\n",
    "plt.xticks(rotation=45, ha='right')\n",
    "plt.grid(axis='y', linestyle='--', alpha=0.7)\n",
    "\n",
    "# Show plot\n",
    "plt.show()"
   ]
  },
  {
   "cell_type": "code",
   "execution_count": 21,
   "id": "77da895c",
   "metadata": {},
   "outputs": [],
   "source": [
    "# Bin scores and perform partially balanced downsampling\n",
    "import pandas as pd\n",
    "\n",
    "# Define bins\n",
    "bins = [1.0, 1.5, 2.0, 2.5, 3.0, 3.5, 4.0, 4.5, 5.0]\n",
    "df_for_regression['score_bin'] = pd.cut(df_for_regression['score'], bins=bins, right=True, include_lowest=True)\n",
    "\n",
    "# Count samples in each bin\n",
    "bin_counts = df_for_regression['score_bin'].value_counts().sort_index()\n",
    "\n",
    "# Set target total and per-bin sample size for high-score bins\n",
    "target_total = 100000 \n",
    "num_bins = len(bin_counts)\n",
    "\n",
    "to_keep_all = [interval for interval, count in bin_counts.items() if count < target_total // num_bins]\n",
    "remaining_bins = [interval for interval in bin_counts.index if interval not in to_keep_all]\n",
    "remaining_target = target_total - sum(bin_counts[b] for b in to_keep_all)\n",
    "n_per_bin = remaining_target // len(remaining_bins) if remaining_bins else 0\n",
    "\n",
    "# Collect samples\n",
    "dfs = []\n",
    "for interval in bin_counts.index:\n",
    "    bin_df = df_for_regression[df_for_regression['score_bin'] == interval]\n",
    "    if interval in to_keep_all:\n",
    "        dfs.append(bin_df)\n",
    "    else:\n",
    "        dfs.append(bin_df.sample(n=min(n_per_bin, len(bin_df)), random_state=42))\n",
    "binned_df = pd.concat(dfs, ignore_index=True)\n",
    "\n",
    "# Drop bin column\n",
    "binned_df = binned_df.drop(columns=['score_bin'])"
   ]
  },
  {
   "cell_type": "code",
   "execution_count": 22,
   "id": "13ce1a1e",
   "metadata": {},
   "outputs": [
    {
     "data": {
      "text/html": [
       "<div>\n",
       "<style scoped>\n",
       "    .dataframe tbody tr th:only-of-type {\n",
       "        vertical-align: middle;\n",
       "    }\n",
       "\n",
       "    .dataframe tbody tr th {\n",
       "        vertical-align: top;\n",
       "    }\n",
       "\n",
       "    .dataframe thead th {\n",
       "        text-align: right;\n",
       "    }\n",
       "</style>\n",
       "<table border=\"1\" class=\"dataframe\">\n",
       "  <thead>\n",
       "    <tr style=\"text-align: right;\">\n",
       "      <th></th>\n",
       "      <th>beer_id</th>\n",
       "      <th>username</th>\n",
       "      <th>date</th>\n",
       "      <th>text</th>\n",
       "      <th>look</th>\n",
       "      <th>smell</th>\n",
       "      <th>taste</th>\n",
       "      <th>feel</th>\n",
       "      <th>overall</th>\n",
       "      <th>score</th>\n",
       "      <th>sentiment</th>\n",
       "      <th>has_look</th>\n",
       "      <th>has_smell</th>\n",
       "      <th>has_taste</th>\n",
       "      <th>has_feel</th>\n",
       "      <th>mentioned_aspects</th>\n",
       "    </tr>\n",
       "  </thead>\n",
       "  <tbody>\n",
       "    <tr>\n",
       "      <th>0</th>\n",
       "      <td>191226</td>\n",
       "      <td>BigJimmy02919</td>\n",
       "      <td>2018-03-31</td>\n",
       "      <td>the absolute worst beer to have ever crossed m...</td>\n",
       "      <td>2.0</td>\n",
       "      <td>1.00</td>\n",
       "      <td>1.00</td>\n",
       "      <td>1.25</td>\n",
       "      <td>1.25</td>\n",
       "      <td>1.14</td>\n",
       "      <td>negative</td>\n",
       "      <td>True</td>\n",
       "      <td>True</td>\n",
       "      <td>True</td>\n",
       "      <td>True</td>\n",
       "      <td>look, smell, taste, feel</td>\n",
       "    </tr>\n",
       "    <tr>\n",
       "      <th>1</th>\n",
       "      <td>58698</td>\n",
       "      <td>Hat_Fulla_Beer</td>\n",
       "      <td>2017-08-07</td>\n",
       "      <td>355ml can poured into tulip. a gift from a nic...</td>\n",
       "      <td>1.5</td>\n",
       "      <td>1.25</td>\n",
       "      <td>1.50</td>\n",
       "      <td>1.50</td>\n",
       "      <td>1.50</td>\n",
       "      <td>1.44</td>\n",
       "      <td>negative</td>\n",
       "      <td>True</td>\n",
       "      <td>True</td>\n",
       "      <td>True</td>\n",
       "      <td>True</td>\n",
       "      <td>look, smell, taste, feel</td>\n",
       "    </tr>\n",
       "    <tr>\n",
       "      <th>2</th>\n",
       "      <td>85630</td>\n",
       "      <td>lacqueredmouse</td>\n",
       "      <td>2012-12-30</td>\n",
       "      <td>i think it's fair to say i have a complicated ...</td>\n",
       "      <td>3.5</td>\n",
       "      <td>2.00</td>\n",
       "      <td>1.00</td>\n",
       "      <td>1.50</td>\n",
       "      <td>1.00</td>\n",
       "      <td>1.44</td>\n",
       "      <td>negative</td>\n",
       "      <td>True</td>\n",
       "      <td>True</td>\n",
       "      <td>True</td>\n",
       "      <td>True</td>\n",
       "      <td>look, smell, taste, feel</td>\n",
       "    </tr>\n",
       "    <tr>\n",
       "      <th>3</th>\n",
       "      <td>63701</td>\n",
       "      <td>waltersrj</td>\n",
       "      <td>2011-01-12</td>\n",
       "      <td>i love hotd beers and thought, \"a soured fred ...</td>\n",
       "      <td>3.5</td>\n",
       "      <td>1.00</td>\n",
       "      <td>1.00</td>\n",
       "      <td>3.00</td>\n",
       "      <td>1.00</td>\n",
       "      <td>1.35</td>\n",
       "      <td>negative</td>\n",
       "      <td>True</td>\n",
       "      <td>True</td>\n",
       "      <td>True</td>\n",
       "      <td>True</td>\n",
       "      <td>look, smell, taste, feel</td>\n",
       "    </tr>\n",
       "    <tr>\n",
       "      <th>4</th>\n",
       "      <td>63701</td>\n",
       "      <td>hopsbreath</td>\n",
       "      <td>2010-11-20</td>\n",
       "      <td>saw on twitter today that this was on tap at t...</td>\n",
       "      <td>3.5</td>\n",
       "      <td>1.00</td>\n",
       "      <td>1.00</td>\n",
       "      <td>3.50</td>\n",
       "      <td>1.00</td>\n",
       "      <td>1.40</td>\n",
       "      <td>negative</td>\n",
       "      <td>True</td>\n",
       "      <td>True</td>\n",
       "      <td>True</td>\n",
       "      <td>True</td>\n",
       "      <td>look, smell, taste, feel</td>\n",
       "    </tr>\n",
       "    <tr>\n",
       "      <th>...</th>\n",
       "      <td>...</td>\n",
       "      <td>...</td>\n",
       "      <td>...</td>\n",
       "      <td>...</td>\n",
       "      <td>...</td>\n",
       "      <td>...</td>\n",
       "      <td>...</td>\n",
       "      <td>...</td>\n",
       "      <td>...</td>\n",
       "      <td>...</td>\n",
       "      <td>...</td>\n",
       "      <td>...</td>\n",
       "      <td>...</td>\n",
       "      <td>...</td>\n",
       "      <td>...</td>\n",
       "      <td>...</td>\n",
       "    </tr>\n",
       "    <tr>\n",
       "      <th>99991</th>\n",
       "      <td>2512</td>\n",
       "      <td>JoLight</td>\n",
       "      <td>2016-07-18</td>\n",
       "      <td>appearance: deep, deep dirty brown, almost lik...</td>\n",
       "      <td>4.5</td>\n",
       "      <td>4.50</td>\n",
       "      <td>4.75</td>\n",
       "      <td>5.00</td>\n",
       "      <td>5.00</td>\n",
       "      <td>4.75</td>\n",
       "      <td>positive</td>\n",
       "      <td>True</td>\n",
       "      <td>True</td>\n",
       "      <td>True</td>\n",
       "      <td>True</td>\n",
       "      <td>look, smell, taste, feel</td>\n",
       "    </tr>\n",
       "    <tr>\n",
       "      <th>99992</th>\n",
       "      <td>6646</td>\n",
       "      <td>ArrogantB</td>\n",
       "      <td>2007-04-16</td>\n",
       "      <td>i drank this 750ml bottle all to myself which ...</td>\n",
       "      <td>4.5</td>\n",
       "      <td>4.50</td>\n",
       "      <td>5.00</td>\n",
       "      <td>4.50</td>\n",
       "      <td>4.00</td>\n",
       "      <td>4.60</td>\n",
       "      <td>positive</td>\n",
       "      <td>True</td>\n",
       "      <td>True</td>\n",
       "      <td>True</td>\n",
       "      <td>True</td>\n",
       "      <td>look, smell, taste, feel</td>\n",
       "    </tr>\n",
       "    <tr>\n",
       "      <th>99993</th>\n",
       "      <td>31365</td>\n",
       "      <td>Pepeton</td>\n",
       "      <td>2007-01-11</td>\n",
       "      <td>i got this one courtesy of a co-worker that ha...</td>\n",
       "      <td>4.5</td>\n",
       "      <td>4.50</td>\n",
       "      <td>4.50</td>\n",
       "      <td>4.50</td>\n",
       "      <td>5.00</td>\n",
       "      <td>4.60</td>\n",
       "      <td>positive</td>\n",
       "      <td>True</td>\n",
       "      <td>True</td>\n",
       "      <td>True</td>\n",
       "      <td>True</td>\n",
       "      <td>look, smell, taste, feel</td>\n",
       "    </tr>\n",
       "    <tr>\n",
       "      <th>99994</th>\n",
       "      <td>40674</td>\n",
       "      <td>AltBock</td>\n",
       "      <td>2008-07-05</td>\n",
       "      <td>22 oz. bomber bottle with a kick ass label! th...</td>\n",
       "      <td>4.0</td>\n",
       "      <td>5.00</td>\n",
       "      <td>4.50</td>\n",
       "      <td>5.00</td>\n",
       "      <td>5.00</td>\n",
       "      <td>4.74</td>\n",
       "      <td>positive</td>\n",
       "      <td>True</td>\n",
       "      <td>True</td>\n",
       "      <td>True</td>\n",
       "      <td>True</td>\n",
       "      <td>look, smell, taste, feel</td>\n",
       "    </tr>\n",
       "    <tr>\n",
       "      <th>99995</th>\n",
       "      <td>39</td>\n",
       "      <td>dickroop</td>\n",
       "      <td>2010-02-27</td>\n",
       "      <td>i found this long-sought, much-heralded beer a...</td>\n",
       "      <td>4.5</td>\n",
       "      <td>5.00</td>\n",
       "      <td>5.00</td>\n",
       "      <td>4.00</td>\n",
       "      <td>4.00</td>\n",
       "      <td>4.67</td>\n",
       "      <td>positive</td>\n",
       "      <td>True</td>\n",
       "      <td>True</td>\n",
       "      <td>True</td>\n",
       "      <td>True</td>\n",
       "      <td>look, smell, taste, feel</td>\n",
       "    </tr>\n",
       "  </tbody>\n",
       "</table>\n",
       "<p>99996 rows × 16 columns</p>\n",
       "</div>"
      ],
      "text/plain": [
       "       beer_id        username        date  \\\n",
       "0       191226   BigJimmy02919  2018-03-31   \n",
       "1        58698  Hat_Fulla_Beer  2017-08-07   \n",
       "2        85630  lacqueredmouse  2012-12-30   \n",
       "3        63701       waltersrj  2011-01-12   \n",
       "4        63701      hopsbreath  2010-11-20   \n",
       "...        ...             ...         ...   \n",
       "99991     2512         JoLight  2016-07-18   \n",
       "99992     6646       ArrogantB  2007-04-16   \n",
       "99993    31365         Pepeton  2007-01-11   \n",
       "99994    40674         AltBock  2008-07-05   \n",
       "99995       39        dickroop  2010-02-27   \n",
       "\n",
       "                                                    text  look  smell  taste  \\\n",
       "0      the absolute worst beer to have ever crossed m...   2.0   1.00   1.00   \n",
       "1      355ml can poured into tulip. a gift from a nic...   1.5   1.25   1.50   \n",
       "2      i think it's fair to say i have a complicated ...   3.5   2.00   1.00   \n",
       "3      i love hotd beers and thought, \"a soured fred ...   3.5   1.00   1.00   \n",
       "4      saw on twitter today that this was on tap at t...   3.5   1.00   1.00   \n",
       "...                                                  ...   ...    ...    ...   \n",
       "99991  appearance: deep, deep dirty brown, almost lik...   4.5   4.50   4.75   \n",
       "99992  i drank this 750ml bottle all to myself which ...   4.5   4.50   5.00   \n",
       "99993  i got this one courtesy of a co-worker that ha...   4.5   4.50   4.50   \n",
       "99994  22 oz. bomber bottle with a kick ass label! th...   4.0   5.00   4.50   \n",
       "99995  i found this long-sought, much-heralded beer a...   4.5   5.00   5.00   \n",
       "\n",
       "       feel  overall  score sentiment  has_look  has_smell  has_taste  \\\n",
       "0      1.25     1.25   1.14  negative      True       True       True   \n",
       "1      1.50     1.50   1.44  negative      True       True       True   \n",
       "2      1.50     1.00   1.44  negative      True       True       True   \n",
       "3      3.00     1.00   1.35  negative      True       True       True   \n",
       "4      3.50     1.00   1.40  negative      True       True       True   \n",
       "...     ...      ...    ...       ...       ...        ...        ...   \n",
       "99991  5.00     5.00   4.75  positive      True       True       True   \n",
       "99992  4.50     4.00   4.60  positive      True       True       True   \n",
       "99993  4.50     5.00   4.60  positive      True       True       True   \n",
       "99994  5.00     5.00   4.74  positive      True       True       True   \n",
       "99995  4.00     4.00   4.67  positive      True       True       True   \n",
       "\n",
       "       has_feel         mentioned_aspects  \n",
       "0          True  look, smell, taste, feel  \n",
       "1          True  look, smell, taste, feel  \n",
       "2          True  look, smell, taste, feel  \n",
       "3          True  look, smell, taste, feel  \n",
       "4          True  look, smell, taste, feel  \n",
       "...         ...                       ...  \n",
       "99991      True  look, smell, taste, feel  \n",
       "99992      True  look, smell, taste, feel  \n",
       "99993      True  look, smell, taste, feel  \n",
       "99994      True  look, smell, taste, feel  \n",
       "99995      True  look, smell, taste, feel  \n",
       "\n",
       "[99996 rows x 16 columns]"
      ]
     },
     "execution_count": 22,
     "metadata": {},
     "output_type": "execute_result"
    }
   ],
   "source": [
    "binned_df"
   ]
  },
  {
   "cell_type": "code",
   "execution_count": 23,
   "id": "51627d5f",
   "metadata": {},
   "outputs": [
    {
     "data": {
      "image/png": "[encoded data removed]",
      "text/plain": [
       "<Figure size 1200x600 with 1 Axes>"
      ]
     },
     "metadata": {},
     "output_type": "display_data"
    }
   ],
   "source": [
    "import numpy as np\n",
    "\n",
    "min_score = binned_df['score'].min()\n",
    "max_score = binned_df['score'].max()\n",
    "\n",
    "# Create bins with intervals of 0.5\n",
    "bins = np.arange(min_score, max_score + 0.5, 0.5)\n",
    "binned_df['score_bin'] = pd.cut(binned_df['score'], bins, right=False)\n",
    "\n",
    "# Count occurrences in each bin\n",
    "score_counts = binned_df['score_bin'].value_counts().sort_index()\n",
    "\n",
    "# Convert bins to string format for better display\n",
    "bin_labels = [f\"{interval.left:.1f} - {interval.right:.1f}\" for interval in score_counts.index]\n",
    "\n",
    "# Plot bar chart\n",
    "plt.figure(figsize=(12, 6))\n",
    "ax = sns.barplot(x=bin_labels, y=score_counts.values, hue=bin_labels, palette='viridis', legend=False)\n",
    "\n",
    "# Add value labels on top of bars\n",
    "for i, count in enumerate(score_counts.values):\n",
    "    ax.text(i, count + 0.5, str(count), ha='center', fontsize=12)\n",
    "\n",
    "# Customize plot\n",
    "plt.xlabel(\"Score Intervals\")\n",
    "plt.ylabel(\"Count\")\n",
    "plt.title(\"Distribution of Scores (Grouped by 0.5 Intervals)\")\n",
    "plt.xticks(rotation=45, ha='right')\n",
    "plt.grid(axis='y', linestyle='--', alpha=0.7)\n",
    "\n",
    "# Show plot\n",
    "plt.show()"
   ]
  },
  {
   "cell_type": "code",
   "execution_count": 25,
   "id": "3145028d",
   "metadata": {},
   "outputs": [
    {
     "name": "stdout",
     "output_type": "stream",
     "text": [
      "Saved binned and balanced dataset: 99996 rows → 'reviews_binned_balanced.csv'\n"
     ]
    }
   ],
   "source": [
    "# Save new dataset\n",
    "binned_df.to_csv('../data/reviews_binned_balanced.csv', index=False)\n",
    "print(f\"Saved binned and balanced dataset: {len(binned_df)} rows → 'reviews_binned_balanced.csv'\")"
   ]
  },
  {
   "cell_type": "markdown",
   "id": "3a08fea2116f220c",
   "metadata": {},
   "source": [
    "The file \"reviews_statratified_sampled.csv\" contains the dataset that will be used for the baseline models. To get a first impression of the preformance."
   ]
  },
  {
   "cell_type": "markdown",
   "id": "bd997e30b0aad1ea",
   "metadata": {},
   "source": [
    "## Text Preprocessing"
   ]
  },
  {
   "cell_type": "code",
   "execution_count": 30,
   "id": "8ee222ce539aec9f",
   "metadata": {
    "ExecuteTime": {
     "end_time": "2025-05-08T18:10:52.780961Z",
     "start_time": "2025-05-08T18:10:52.510115Z"
    }
   },
   "outputs": [],
   "source": [
    "df_sampled['text'] = df_sampled['text'].apply(lambda x: x.lower())\n",
    "binned_df['text'] = binned_df['text'].apply(lambda x: x.lower())"
   ]
  },
  {
   "cell_type": "code",
   "execution_count": 31,
   "id": "1cd1153a5e7406b2",
   "metadata": {
    "ExecuteTime": {
     "end_time": "2025-05-08T18:10:54.352550Z",
     "start_time": "2025-05-08T18:10:52.795142Z"
    }
   },
   "outputs": [
    {
     "name": "stderr",
     "output_type": "stream",
     "text": [
      "[nltk_data] Downloading package stopwords to\n",
      "[nltk_data]     /Users/zhangzihan/nltk_data...\n",
      "[nltk_data]   Package stopwords is already up-to-date!\n"
     ]
    }
   ],
   "source": [
    "from nltk.corpus import stopwords\n",
    "tqdm.pandas()\n",
    "\n",
    "nltk.download('stopwords')\n",
    "stop_words = set(stopwords.words(\"english\"))\n",
    "def remove_stopwords(text):\n",
    "    return \" \".join([word for word in text.split() if word not in stop_words])\n",
    "\n",
    "df_sampled['text'] = df_sampled['text'].apply(remove_stopwords)\n",
    "binned_df['text'] = binned_df['text'].apply(remove_stopwords)"
   ]
  },
  {
   "cell_type": "code",
   "execution_count": 18,
   "id": "37a3f3af1203c838",
   "metadata": {
    "ExecuteTime": {
     "end_time": "2025-05-08T18:10:55.333351Z",
     "start_time": "2025-05-08T18:10:54.583885Z"
    }
   },
   "outputs": [],
   "source": [
    "df_sampled.to_csv(\"../data/reviews_preprocessed.csv\", index=False)"
   ]
  },
  {
   "cell_type": "markdown",
   "id": "3fa0f96f",
   "metadata": {},
   "source": [
    "## Data Split"
   ]
  },
  {
   "cell_type": "code",
   "execution_count": 34,
   "id": "0f963720",
   "metadata": {},
   "outputs": [],
   "source": [
    "from sklearn.model_selection import train_test_split\n",
    "\n",
    "# Split the binned dataset into train and test sets (e.g., 80% train, 20% test)\n",
    "train_df, test_df = train_test_split(\n",
    "    binned_df,\n",
    "    test_size=0.2,\n",
    "    random_state=42,  \n",
    "    shuffle=True         \n",
    ")\n",
    "\n",
    "# Optionally, reset the index\n",
    "train_df = train_df.reset_index(drop=True)\n",
    "test_df = test_df.reset_index(drop=True)\n",
    "\n",
    "# Save to CSV if needed\n",
    "train_df.to_csv('train_preprocessed_binned.csv', index=False)\n",
    "test_df.to_csv('test_preprocessed_binned.csv', index=False)"
   ]
  },
  {
   "cell_type": "code",
   "execution_count": 1,
   "id": "fdbb9f26",
   "metadata": {},
   "outputs": [],
   "source": [
    "import pandas as pd\n",
    "from sklearn.model_selection import train_test_split\n",
    "\n",
    "# Load the test_preprocessed_binned.csv file\n",
    "df = pd.read_csv('../data/test_preprocessed_binned.csv')\n",
    "\n",
    "rec_train_df, rec_test_df = train_test_split(\n",
    "    df,\n",
    "    test_size=0.2,\n",
    "    random_state=42,\n",
    "    shuffle=True\n",
    ")\n",
    "\n",
    "# Reset index\n",
    "rec_train_df = rec_train_df.reset_index(drop=True)\n",
    "rec_test_df = rec_test_df.reset_index(drop=True)\n",
    "\n",
    "# Save to CSV\n",
    "rec_train_df.to_csv('../data/rec_train_preprocessed_binned.csv', index=False)\n",
    "rec_test_df.to_csv('../data/rec_test_preprocessed_binned.csv', index=False)"
   ]
  }
 ],
 "metadata": {
  "kernelspec": {
   "display_name": "pytorch",
   "language": "python",
   "name": "python3"
  },
  "language_info": {
   "codemirror_mode": {
    "name": "ipython",
    "version": 3
   },
   "file_extension": ".py",
   "mimetype": "text/x-python",
   "name": "python",
   "nbconvert_exporter": "python",
   "pygments_lexer": "ipython3",
   "version": "3.12.7"
  }
 },
 "nbformat": 4,
 "nbformat_minor": 5
}
