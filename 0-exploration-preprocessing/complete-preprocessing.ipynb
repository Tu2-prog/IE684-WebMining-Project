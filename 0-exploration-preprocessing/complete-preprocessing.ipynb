{
 "cells": [
  {
   "metadata": {},
   "cell_type": "markdown",
   "source": "# Preprocessing",
   "id": "82fc8b41645661a"
  },
  {
   "metadata": {
    "ExecuteTime": {
     "end_time": "2025-05-07T17:57:17.435537Z",
     "start_time": "2025-05-07T17:57:17.422765Z"
    }
   },
   "cell_type": "code",
   "source": [
    "import pandas as pd\n",
    "import matplotlib.pyplot as plt\n",
    "import emoji\n",
    "import seaborn as sns\n",
    "from tqdm import tqdm\n",
    "import nltk"
   ],
   "id": "2d9b99cae1d7808e",
   "outputs": [],
   "execution_count": 45
  },
  {
   "metadata": {},
   "cell_type": "markdown",
   "source": "## Remove empty texts",
   "id": "66937ffd4976e892"
  },
  {
   "cell_type": "code",
   "id": "initial_id",
   "metadata": {
    "collapsed": true,
    "ExecuteTime": {
     "end_time": "2025-05-07T17:58:43.866343Z",
     "start_time": "2025-05-07T17:57:17.494842Z"
    }
   },
   "source": [
    "csv_path = '../data/reviews.csv'\n",
    "df = pd.read_csv(csv_path)\n",
    "\n",
    "# Print original row count\n",
    "original_count = len(df)\n",
    "print(f\"Original number of rows: {original_count}\")\n",
    "\n",
    "# Remove rows where 'text' column is NaN or empty/whitespace\n",
    "df.dropna(subset=['text'], inplace=True)\n",
    "df = df[df['text'].str.strip().astype(bool)]\n",
    "\n",
    "# Print cleaned row count\n",
    "cleaned_count = len(df)\n",
    "print(f\"Remaining rows after cleaning: {cleaned_count}\")\n",
    "print(f\"Removed {original_count - cleaned_count} rows with missing or empty text\")"
   ],
   "outputs": [
    {
     "name": "stdout",
     "output_type": "stream",
     "text": [
      "Original number of rows: 9073128\n",
      "Remaining rows after cleaning: 2987991\n",
      "Removed 6085137 rows with missing or empty text\n"
     ]
    }
   ],
   "execution_count": 46
  },
  {
   "metadata": {
    "ExecuteTime": {
     "end_time": "2025-05-07T17:58:48.204293Z",
     "start_time": "2025-05-07T17:58:44.415808Z"
    }
   },
   "cell_type": "code",
   "source": [
    "original_count = len(df)\n",
    "print(f\"Original number of entries: {original_count}\")\n",
    "\n",
    "# Step 3: Remove rows with missing or empty 'text' or missing 'score'\n",
    "df.dropna(subset=['text', 'score'], inplace=True)\n",
    "df = df[df['text'].str.strip().astype(bool)]\n",
    "\n",
    "# Step 4: Define sentiment labels based on the 'score' column\n",
    "def label_sentiment(score):\n",
    "    if score >= 4:\n",
    "        return 'positive'\n",
    "    elif score <= 2:\n",
    "        return 'negative'\n",
    "    else:\n",
    "        return 'neutral'\n",
    "\n",
    "# Step 5: Apply sentiment labeling and reset index\n",
    "df['sentiment'] = df['score'].apply(label_sentiment)\n",
    "df.reset_index(drop=True, inplace=True)\n",
    "\n",
    "# Step 6: Report cleaned entry count and how many were removed\n",
    "cleaned_count = len(df)\n",
    "print(f\"Entries remaining after cleaning: {cleaned_count}\")\n",
    "print(f\"Removed {original_count - cleaned_count} entries with missing or empty text/score.\")"
   ],
   "id": "c3f0bcd6786d78f5",
   "outputs": [
    {
     "name": "stdout",
     "output_type": "stream",
     "text": [
      "Original number of entries: 2987991\n",
      "Entries remaining after cleaning: 2987991\n",
      "Removed 0 entries with missing or empty text/score.\n"
     ]
    }
   ],
   "execution_count": 47
  },
  {
   "metadata": {
    "ExecuteTime": {
     "end_time": "2025-05-07T17:58:48.276355Z",
     "start_time": "2025-05-07T17:58:48.243862Z"
    }
   },
   "cell_type": "code",
   "source": [
    "pd.set_option('display.max_columns', None)\n",
    "pd.set_option('display.width', None)\n",
    "df.head(10)"
   ],
   "id": "2d4cf7711e25c0dc",
   "outputs": [
    {
     "data": {
      "text/plain": [
       "   beer_id         username        date  \\\n",
       "0   271781     bluejacket74  2017-03-17   \n",
       "1   125646  GratefulBeerGuy  2017-12-20   \n",
       "2   125646         LukeGude  2017-12-20   \n",
       "3   125646             MFMB  2017-12-16   \n",
       "4   125646      jngrizzaffi  2017-12-10   \n",
       "5   125646         PDOR1960  2017-12-08   \n",
       "6   125646          Lucular  2017-12-04   \n",
       "7   205644      Brutaltruth  2017-03-29   \n",
       "8   205644      secondtooth  2016-07-13   \n",
       "9   150672            Derek  2016-06-07   \n",
       "\n",
       "                                                text  look  smell  taste  \\\n",
       "0     750 ml bottle, 2016 vintage, bottle #304 of...  4.00   4.00   4.00   \n",
       "1     0% 16 oz can. Funny story: As I finally wal...  4.75   4.75   4.50   \n",
       "2     Classic TH NEIPA. Overflowing head and bouq...  4.25   4.50   4.25   \n",
       "3     Pours a creamy opaque light straw yellow wi...  4.75   4.50   4.50   \n",
       "4     Pours a cloudy yellow color with a thin foa...  4.50   4.50   4.50   \n",
       "5                Another great brew from Treehouse!!  4.50   4.50   4.50   \n",
       "6     Pours with a cloudy yellow-orange haze with...  4.25   4.25   4.25   \n",
       "7     From the tall boy can and enjoyed in a snif...  4.00   3.75   4.00   \n",
       "8     Appearance: Pours a deep black, with tan he...  3.50   4.00   4.25   \n",
       "9     Beautiful, crystal clear pour with a nice h...  4.75   4.00   4.25   \n",
       "\n",
       "   feel  overall  score sentiment  \n",
       "0  4.25     4.00   4.03  positive  \n",
       "1  4.50     4.50   4.58  positive  \n",
       "2  4.25     4.25   4.31  positive  \n",
       "3  4.50     4.50   4.52  positive  \n",
       "4  4.75     4.50   4.53  positive  \n",
       "5  4.50     4.50   4.50  positive  \n",
       "6  4.25     4.25   4.25  positive  \n",
       "7  3.75     4.00   3.92   neutral  \n",
       "8  4.00     4.00   4.07  positive  \n",
       "9  4.25     4.25   4.22  positive  "
      ],
      "text/html": [
       "<div>\n",
       "<style scoped>\n",
       "    .dataframe tbody tr th:only-of-type {\n",
       "        vertical-align: middle;\n",
       "    }\n",
       "\n",
       "    .dataframe tbody tr th {\n",
       "        vertical-align: top;\n",
       "    }\n",
       "\n",
       "    .dataframe thead th {\n",
       "        text-align: right;\n",
       "    }\n",
       "</style>\n",
       "<table border=\"1\" class=\"dataframe\">\n",
       "  <thead>\n",
       "    <tr style=\"text-align: right;\">\n",
       "      <th></th>\n",
       "      <th>beer_id</th>\n",
       "      <th>username</th>\n",
       "      <th>date</th>\n",
       "      <th>text</th>\n",
       "      <th>look</th>\n",
       "      <th>smell</th>\n",
       "      <th>taste</th>\n",
       "      <th>feel</th>\n",
       "      <th>overall</th>\n",
       "      <th>score</th>\n",
       "      <th>sentiment</th>\n",
       "    </tr>\n",
       "  </thead>\n",
       "  <tbody>\n",
       "    <tr>\n",
       "      <th>0</th>\n",
       "      <td>271781</td>\n",
       "      <td>bluejacket74</td>\n",
       "      <td>2017-03-17</td>\n",
       "      <td>750 ml bottle, 2016 vintage, bottle #304 of...</td>\n",
       "      <td>4.00</td>\n",
       "      <td>4.00</td>\n",
       "      <td>4.00</td>\n",
       "      <td>4.25</td>\n",
       "      <td>4.00</td>\n",
       "      <td>4.03</td>\n",
       "      <td>positive</td>\n",
       "    </tr>\n",
       "    <tr>\n",
       "      <th>1</th>\n",
       "      <td>125646</td>\n",
       "      <td>GratefulBeerGuy</td>\n",
       "      <td>2017-12-20</td>\n",
       "      <td>0% 16 oz can. Funny story: As I finally wal...</td>\n",
       "      <td>4.75</td>\n",
       "      <td>4.75</td>\n",
       "      <td>4.50</td>\n",
       "      <td>4.50</td>\n",
       "      <td>4.50</td>\n",
       "      <td>4.58</td>\n",
       "      <td>positive</td>\n",
       "    </tr>\n",
       "    <tr>\n",
       "      <th>2</th>\n",
       "      <td>125646</td>\n",
       "      <td>LukeGude</td>\n",
       "      <td>2017-12-20</td>\n",
       "      <td>Classic TH NEIPA. Overflowing head and bouq...</td>\n",
       "      <td>4.25</td>\n",
       "      <td>4.50</td>\n",
       "      <td>4.25</td>\n",
       "      <td>4.25</td>\n",
       "      <td>4.25</td>\n",
       "      <td>4.31</td>\n",
       "      <td>positive</td>\n",
       "    </tr>\n",
       "    <tr>\n",
       "      <th>3</th>\n",
       "      <td>125646</td>\n",
       "      <td>MFMB</td>\n",
       "      <td>2017-12-16</td>\n",
       "      <td>Pours a creamy opaque light straw yellow wi...</td>\n",
       "      <td>4.75</td>\n",
       "      <td>4.50</td>\n",
       "      <td>4.50</td>\n",
       "      <td>4.50</td>\n",
       "      <td>4.50</td>\n",
       "      <td>4.52</td>\n",
       "      <td>positive</td>\n",
       "    </tr>\n",
       "    <tr>\n",
       "      <th>4</th>\n",
       "      <td>125646</td>\n",
       "      <td>jngrizzaffi</td>\n",
       "      <td>2017-12-10</td>\n",
       "      <td>Pours a cloudy yellow color with a thin foa...</td>\n",
       "      <td>4.50</td>\n",
       "      <td>4.50</td>\n",
       "      <td>4.50</td>\n",
       "      <td>4.75</td>\n",
       "      <td>4.50</td>\n",
       "      <td>4.53</td>\n",
       "      <td>positive</td>\n",
       "    </tr>\n",
       "    <tr>\n",
       "      <th>5</th>\n",
       "      <td>125646</td>\n",
       "      <td>PDOR1960</td>\n",
       "      <td>2017-12-08</td>\n",
       "      <td>Another great brew from Treehouse!!</td>\n",
       "      <td>4.50</td>\n",
       "      <td>4.50</td>\n",
       "      <td>4.50</td>\n",
       "      <td>4.50</td>\n",
       "      <td>4.50</td>\n",
       "      <td>4.50</td>\n",
       "      <td>positive</td>\n",
       "    </tr>\n",
       "    <tr>\n",
       "      <th>6</th>\n",
       "      <td>125646</td>\n",
       "      <td>Lucular</td>\n",
       "      <td>2017-12-04</td>\n",
       "      <td>Pours with a cloudy yellow-orange haze with...</td>\n",
       "      <td>4.25</td>\n",
       "      <td>4.25</td>\n",
       "      <td>4.25</td>\n",
       "      <td>4.25</td>\n",
       "      <td>4.25</td>\n",
       "      <td>4.25</td>\n",
       "      <td>positive</td>\n",
       "    </tr>\n",
       "    <tr>\n",
       "      <th>7</th>\n",
       "      <td>205644</td>\n",
       "      <td>Brutaltruth</td>\n",
       "      <td>2017-03-29</td>\n",
       "      <td>From the tall boy can and enjoyed in a snif...</td>\n",
       "      <td>4.00</td>\n",
       "      <td>3.75</td>\n",
       "      <td>4.00</td>\n",
       "      <td>3.75</td>\n",
       "      <td>4.00</td>\n",
       "      <td>3.92</td>\n",
       "      <td>neutral</td>\n",
       "    </tr>\n",
       "    <tr>\n",
       "      <th>8</th>\n",
       "      <td>205644</td>\n",
       "      <td>secondtooth</td>\n",
       "      <td>2016-07-13</td>\n",
       "      <td>Appearance: Pours a deep black, with tan he...</td>\n",
       "      <td>3.50</td>\n",
       "      <td>4.00</td>\n",
       "      <td>4.25</td>\n",
       "      <td>4.00</td>\n",
       "      <td>4.00</td>\n",
       "      <td>4.07</td>\n",
       "      <td>positive</td>\n",
       "    </tr>\n",
       "    <tr>\n",
       "      <th>9</th>\n",
       "      <td>150672</td>\n",
       "      <td>Derek</td>\n",
       "      <td>2016-06-07</td>\n",
       "      <td>Beautiful, crystal clear pour with a nice h...</td>\n",
       "      <td>4.75</td>\n",
       "      <td>4.00</td>\n",
       "      <td>4.25</td>\n",
       "      <td>4.25</td>\n",
       "      <td>4.25</td>\n",
       "      <td>4.22</td>\n",
       "      <td>positive</td>\n",
       "    </tr>\n",
       "  </tbody>\n",
       "</table>\n",
       "</div>"
      ]
     },
     "execution_count": 48,
     "metadata": {},
     "output_type": "execute_result"
    }
   ],
   "execution_count": 48
  },
  {
   "metadata": {
    "ExecuteTime": {
     "end_time": "2025-05-07T17:58:49.002712Z",
     "start_time": "2025-05-07T17:58:48.705444Z"
    }
   },
   "cell_type": "code",
   "source": [
    "# Calculate the number of each sentiment label\n",
    "sentiment_counts = df[\"sentiment\"].value_counts().reindex([\"positive\", \"neutral\", \"negative\"], fill_value=0)\n",
    "\n",
    "# Plot the sentiment distribution\n",
    "plt.figure(figsize=(8, 5))\n",
    "sentiment_counts.plot(kind=\"bar\", color=\"skyblue\")\n",
    "plt.title(\"Sentiment Polarity Distribution\")\n",
    "plt.xlabel(\"Sentiment\")\n",
    "plt.ylabel(\"Number of Reviews\")\n",
    "plt.xticks(rotation=0)\n",
    "plt.grid(axis=\"y\", linestyle=\"--\", alpha=0.7)\n",
    "plt.tight_layout()\n",
    "plt.show()"
   ],
   "id": "c5605f9209766e9b",
   "outputs": [
    {
     "data": {
      "text/plain": [
       "<Figure size 800x500 with 1 Axes>"
      ],
      "image/png": "[encoded data removed]"
     },
     "metadata": {},
     "output_type": "display_data"
    }
   ],
   "execution_count": 49
  },
  {
   "metadata": {},
   "cell_type": "markdown",
   "source": "## Remove emojis",
   "id": "641314fda41f4a47"
  },
  {
   "metadata": {
    "ExecuteTime": {
     "end_time": "2025-05-07T18:16:22.174266Z",
     "start_time": "2025-05-07T17:58:49.550166Z"
    }
   },
   "cell_type": "code",
   "source": [
    "def remove_emoji(text):\n",
    "    return emoji.replace_emoji(text, replace='')\n",
    "\n",
    "df[\"text\"] = df[\"text\"].apply(remove_emoji)\n",
    "df['text'] = df['text'].str.lstrip()"
   ],
   "id": "35611bc967d3d31e",
   "outputs": [],
   "execution_count": 50
  },
  {
   "metadata": {},
   "cell_type": "markdown",
   "source": "## Remove duplicates",
   "id": "c9f1fe4506bbea84"
  },
  {
   "metadata": {
    "ExecuteTime": {
     "end_time": "2025-05-07T18:16:35.856928Z",
     "start_time": "2025-05-07T18:16:22.737555Z"
    }
   },
   "cell_type": "code",
   "source": [
    "df = df[df['text'].map(df['text'].value_counts()) == 1]\n",
    "df.shape"
   ],
   "id": "fd1a28a650cc01ea",
   "outputs": [
    {
     "data": {
      "text/plain": [
       "(2893954, 11)"
      ]
     },
     "execution_count": 51,
     "metadata": {},
     "output_type": "execute_result"
    }
   ],
   "execution_count": 51
  },
  {
   "metadata": {
    "ExecuteTime": {
     "end_time": "2025-05-07T18:17:10.783131Z",
     "start_time": "2025-05-07T18:16:39.932663Z"
    }
   },
   "cell_type": "code",
   "source": [
    "# Filter out sentences with fewer words than the average\n",
    "average_word_count = df['text'].apply(lambda x: len(str(x).split())).mean()\n",
    "print(f\"Average number of words per sentence: {average_word_count}\")\n",
    "df = df[df['text'].apply(lambda x: len(str(x).split())) >= average_word_count]\n",
    "df.shape"
   ],
   "id": "aee325e781602dc2",
   "outputs": [
    {
     "name": "stdout",
     "output_type": "stream",
     "text": [
      "Average number of words per sentence: 114.14880747931723\n"
     ]
    },
    {
     "data": {
      "text/plain": [
       "(1149509, 11)"
      ]
     },
     "execution_count": 52,
     "metadata": {},
     "output_type": "execute_result"
    }
   ],
   "execution_count": 52
  },
  {
   "metadata": {},
   "cell_type": "markdown",
   "source": "## Remove non-ABSA relevant reviews",
   "id": "63e19c9281be79da"
  },
  {
   "metadata": {
    "ExecuteTime": {
     "end_time": "2025-05-07T18:17:27.550704Z",
     "start_time": "2025-05-07T18:17:10.833513Z"
    }
   },
   "cell_type": "code",
   "source": [
    "# Define the aspect-specific keyword lists\n",
    "aspect_keywords = {\n",
    "    'look': [\n",
    "        'look', 'appearance', 'color', 'colour', 'head', 'foam', 'lacing', 'clarity',\n",
    "        'hazy', 'opaque', 'transparent', 'visual', 'bubble', 'carbonation', 'layer'\n",
    "    ],\n",
    "    'smell': [\n",
    "        'smell', 'aroma', 'nose', 'scent', 'fragrance', 'odor', 'bouquet',\n",
    "        'sniff', 'whiff', 'malty aroma', 'hoppy aroma'\n",
    "    ],\n",
    "    'taste': [\n",
    "        'taste', 'flavor', 'flavour', 'aftertaste', 'bitterness', 'sweetness',\n",
    "        'sourness', 'dry', 'bitter', 'sweet', 'sour', 'savory', 'malty', 'hoppy',\n",
    "        'balanced', 'burnt', 'roasty', 'yeasty', 'complex'\n",
    "    ],\n",
    "    'feel': [\n",
    "        'feel', 'mouthfeel', 'texture', 'body', 'weight', 'creaminess',\n",
    "        'smoothness', 'carbonation', 'coating', 'slick', 'watery', 'full-bodied',\n",
    "        'astringent', 'dryness', 'crisp', 'tingle'\n",
    "    ]\n",
    "}\n",
    "\n",
    "# Convert text column to lowercase for consistent keyword matching\n",
    "df['text'] = df['text'].astype(str).str.lower()\n",
    "\n",
    "# Create a boolean column for each aspect to indicate if its keywords are mentioned\n",
    "for aspect, keywords in aspect_keywords.items():\n",
    "    df[f'has_{aspect}'] = df['text'].apply(\n",
    "        lambda text: any(keyword in text for keyword in keywords)\n",
    "    )\n",
    "\n",
    "# Filter to retain only rows where all four aspects are present\n",
    "df = df[\n",
    "    df['has_look'] &\n",
    "    df['has_smell'] &\n",
    "    df['has_taste'] &\n",
    "    df['has_feel']\n",
    "].copy()\n",
    "\n",
    "# Optional: add a column explicitly stating the presence of all aspects\n",
    "df['mentioned_aspects'] = ['look, smell, taste, feel'] * len(df)"
   ],
   "id": "70f6a90c0a273224",
   "outputs": [],
   "execution_count": 53
  },
  {
   "metadata": {
    "ExecuteTime": {
     "end_time": "2025-05-07T18:17:27.744067Z",
     "start_time": "2025-05-07T18:17:27.624970Z"
    }
   },
   "cell_type": "code",
   "source": [
    "# Define rule: score ≥ 4 → positive, score ≤ 2 → negative, else → neutral\n",
    "def score_to_sentiment(score):\n",
    "    if score >= 4:\n",
    "        return 'positive'\n",
    "    elif score <= 2:\n",
    "        return 'negative'\n",
    "    else:\n",
    "        return 'neutral'\n",
    "\n",
    "# Apply mapping to generate sentiment column\n",
    "df['sentiment'] = df['score'].apply(score_to_sentiment)"
   ],
   "id": "7e6e3b2eb09803c6",
   "outputs": [],
   "execution_count": 54
  },
  {
   "metadata": {
    "ExecuteTime": {
     "end_time": "2025-05-07T18:18:16.512181Z",
     "start_time": "2025-05-07T18:17:27.767375Z"
    }
   },
   "cell_type": "code",
   "source": [
    "# Count distribution\n",
    "sentiment_counts = df['sentiment'].value_counts()\n",
    "print(\"Sentiment distribution before sampling:\\n\", sentiment_counts)\n",
    "\n",
    "# Plot\n",
    "sns.countplot(data=df, x='sentiment', order=sentiment_counts.index)\n",
    "plt.title('Sentiment Distribution Before Sampling')\n",
    "plt.xlabel('Sentiment')\n",
    "plt.ylabel('Count')\n",
    "plt.show()"
   ],
   "id": "c27a67da7f679ed2",
   "outputs": [
    {
     "name": "stdout",
     "output_type": "stream",
     "text": [
      "Sentiment distribution before sampling:\n",
      " sentiment\n",
      "neutral     459756\n",
      "positive    445809\n",
      "negative      9234\n",
      "Name: count, dtype: int64\n"
     ]
    },
    {
     "data": {
      "text/plain": [
       "<Figure size 640x480 with 1 Axes>"
      ],
      "image/png": "[encoded data removed]"
     },
     "metadata": {},
     "output_type": "display_data"
    }
   ],
   "execution_count": 55
  },
  {
   "metadata": {
    "ExecuteTime": {
     "end_time": "2025-05-07T18:18:20.110939Z",
     "start_time": "2025-05-07T18:18:16.735451Z"
    }
   },
   "cell_type": "code",
   "source": [
    "# Define desired sample size per sentiment class\n",
    "n_per_class = 9234\n",
    "\n",
    "# Perform stratified sampling by sentiment\n",
    "df_sampled = df.groupby('sentiment').sample(n=n_per_class, random_state=42)\n",
    "\n",
    "# Reset index\n",
    "df_sampled.reset_index(drop=True, inplace=True)\n",
    "print(f\"Stratified dataset shape: {df_sampled.shape}\")"
   ],
   "id": "3b5a06fc021efa8e",
   "outputs": [
    {
     "name": "stdout",
     "output_type": "stream",
     "text": [
      "Stratified dataset shape: (27702, 16)\n"
     ]
    }
   ],
   "execution_count": 56
  },
  {
   "metadata": {
    "ExecuteTime": {
     "end_time": "2025-05-07T18:18:20.404791Z",
     "start_time": "2025-05-07T18:18:20.156835Z"
    }
   },
   "cell_type": "code",
   "source": [
    "sns.countplot(data=df_sampled, x='sentiment')\n",
    "plt.title('Sentiment Distribution After Stratified Sampling')\n",
    "plt.xlabel('Sentiment')\n",
    "plt.ylabel('Count')\n",
    "plt.show()"
   ],
   "id": "1a5a8220c078ca9c",
   "outputs": [
    {
     "data": {
      "text/plain": [
       "<Figure size 640x480 with 1 Axes>"
      ],
      "image/png": "[encoded data removed]"
     },
     "metadata": {},
     "output_type": "display_data"
    }
   ],
   "execution_count": 57
  },
  {
   "metadata": {
    "ExecuteTime": {
     "end_time": "2025-05-07T18:18:40.290996Z",
     "start_time": "2025-05-07T18:18:20.536444Z"
    }
   },
   "cell_type": "code",
   "source": [
    "df.to_csv('../data/reviews_with_all_4_aspects.csv', index=False)\n",
    "print(f\"Saved aspect-filtered dataset: {len(df)} rows → 'reviews_with_all_4_aspects.csv'\")\n",
    "\n",
    "# Save the stratified sampled dataset\n",
    "df_sampled.to_csv('../data/reviews_stratified_sampled.csv', index=False)\n",
    "print(f\"Saved stratified sampled dataset: {len(df_sampled)} rows → 'reviews_stratified_sampled.csv'\")"
   ],
   "id": "30f49c9ac530b021",
   "outputs": [
    {
     "name": "stdout",
     "output_type": "stream",
     "text": [
      "Saved aspect-filtered dataset: 914799 rows → 'reviews_with_all_4_aspects.csv'\n",
      "Saved stratified sampled dataset: 27702 rows → 'reviews_stratified_sampled.csv'\n"
     ]
    }
   ],
   "execution_count": 58
  },
  {
   "metadata": {},
   "cell_type": "markdown",
   "source": "The file \"reviews_statratified_sampled.csv\" contains the dataset that will be used for the baseline models. To get a first impression of the preformance.",
   "id": "3a08fea2116f220c"
  },
  {
   "metadata": {},
   "cell_type": "markdown",
   "source": "## Text Preprocessing",
   "id": "bd997e30b0aad1ea"
  },
  {
   "metadata": {
    "ExecuteTime": {
     "end_time": "2025-05-07T18:18:40.631463Z",
     "start_time": "2025-05-07T18:18:40.312112Z"
    }
   },
   "cell_type": "code",
   "source": "df_sampled['text'] = df_sampled['text'].apply(lambda x: x.lower())",
   "id": "8ee222ce539aec9f",
   "outputs": [],
   "execution_count": 59
  },
  {
   "metadata": {
    "ExecuteTime": {
     "end_time": "2025-05-07T18:18:41.865937Z",
     "start_time": "2025-05-07T18:18:40.649920Z"
    }
   },
   "cell_type": "code",
   "source": [
    "from nltk.corpus import stopwords\n",
    "tqdm.pandas()\n",
    "\n",
    "nltk.download('stopwords')\n",
    "stop_words = set(stopwords.words(\"english\"))\n",
    "def remove_stopwords(text):\n",
    "    return \" \".join([word for word in text.split() if word not in stop_words])\n",
    "\n",
    "df_sampled['text'] = df_sampled['text'].apply(remove_stopwords)"
   ],
   "id": "1cd1153a5e7406b2",
   "outputs": [
    {
     "name": "stderr",
     "output_type": "stream",
     "text": [
      "[nltk_data] Downloading package stopwords to /home/tu2/nltk_data...\n",
      "[nltk_data]   Package stopwords is already up-to-date!\n"
     ]
    }
   ],
   "execution_count": 60
  },
  {
   "metadata": {
    "ExecuteTime": {
     "end_time": "2025-05-07T18:18:41.919768Z",
     "start_time": "2025-05-07T18:18:41.906738Z"
    }
   },
   "cell_type": "code",
   "source": "df_sampled",
   "id": "a4f6096dd7c848e5",
   "outputs": [
    {
     "data": {
      "text/plain": [
       "       beer_id          username        date  \\\n",
       "0         1428           Aethien  2012-02-12   \n",
       "1         4351        kojevergas  2011-07-31   \n",
       "2        70485           CMUbrew  2012-03-10   \n",
       "3        27069         maximum12  2010-05-12   \n",
       "4        44788       HarleyRider  2010-06-26   \n",
       "...        ...               ...         ...   \n",
       "27697    90141  BlackBelt5112203  2013-07-26   \n",
       "27698     2128     woodychandler  2011-08-08   \n",
       "27699    19216          05Harley  2011-02-25   \n",
       "27700    41951   brewdlyhooked13  2008-07-19   \n",
       "27701    98387         superspak  2014-02-12   \n",
       "\n",
       "                                                    text  look  smell  taste  \\\n",
       "0      poured tulip, looks nice golden yellow decent ...  3.00    1.5    1.5   \n",
       "1      served norrebro bryghus stemware copenhagen. r...  2.50    2.0    2.0   \n",
       "2      reviewed notes 500ml poured plastic cup. a: go...  3.00    1.0    1.0   \n",
       "3      rec'd bottle unbidden recent trade chickencoop...  2.50    2.0    2.0   \n",
       "4      heading boat wife brings home six packs take o...  3.00    1.0    1.0   \n",
       "...                                                  ...   ...    ...    ...   \n",
       "27697  5 oz pour tasting glass tap wicked weed taproo...  4.25    4.5    4.5   \n",
       "27698  afternoon aus beers continued aunt's house ain...  4.00    4.0    4.0   \n",
       "27699  bottled on: (should bottom right hand side bot...  5.00    4.0    4.0   \n",
       "27700  appearance - pours dark reddish caramel thin l...  4.00    4.0    4.0   \n",
       "27701  22 ounce bottle tulip glass, bottled 1/23/2014...  4.00    4.5    4.0   \n",
       "\n",
       "       feel  overall  score sentiment  has_look  has_smell  has_taste  \\\n",
       "0       2.0      2.0   1.74  negative      True       True       True   \n",
       "1       1.5      2.0   1.98  negative      True       True       True   \n",
       "2       1.5      1.0   1.17  negative      True       True       True   \n",
       "3       2.0      1.0   1.83  negative      True       True       True   \n",
       "4       3.0      2.0   1.52  negative      True       True       True   \n",
       "...     ...      ...    ...       ...       ...        ...        ...   \n",
       "27697   4.0      4.5   4.44  positive      True       True       True   \n",
       "27698   4.0      4.0   4.00  positive      True       True       True   \n",
       "27699   4.0      4.0   4.06  positive      True       True       True   \n",
       "27700   4.5      5.0   4.25  positive      True       True       True   \n",
       "27701   4.0      4.5   4.22  positive      True       True       True   \n",
       "\n",
       "       has_feel         mentioned_aspects  \n",
       "0          True  look, smell, taste, feel  \n",
       "1          True  look, smell, taste, feel  \n",
       "2          True  look, smell, taste, feel  \n",
       "3          True  look, smell, taste, feel  \n",
       "4          True  look, smell, taste, feel  \n",
       "...         ...                       ...  \n",
       "27697      True  look, smell, taste, feel  \n",
       "27698      True  look, smell, taste, feel  \n",
       "27699      True  look, smell, taste, feel  \n",
       "27700      True  look, smell, taste, feel  \n",
       "27701      True  look, smell, taste, feel  \n",
       "\n",
       "[27702 rows x 16 columns]"
      ],
      "text/html": [
       "<div>\n",
       "<style scoped>\n",
       "    .dataframe tbody tr th:only-of-type {\n",
       "        vertical-align: middle;\n",
       "    }\n",
       "\n",
       "    .dataframe tbody tr th {\n",
       "        vertical-align: top;\n",
       "    }\n",
       "\n",
       "    .dataframe thead th {\n",
       "        text-align: right;\n",
       "    }\n",
       "</style>\n",
       "<table border=\"1\" class=\"dataframe\">\n",
       "  <thead>\n",
       "    <tr style=\"text-align: right;\">\n",
       "      <th></th>\n",
       "      <th>beer_id</th>\n",
       "      <th>username</th>\n",
       "      <th>date</th>\n",
       "      <th>text</th>\n",
       "      <th>look</th>\n",
       "      <th>smell</th>\n",
       "      <th>taste</th>\n",
       "      <th>feel</th>\n",
       "      <th>overall</th>\n",
       "      <th>score</th>\n",
       "      <th>sentiment</th>\n",
       "      <th>has_look</th>\n",
       "      <th>has_smell</th>\n",
       "      <th>has_taste</th>\n",
       "      <th>has_feel</th>\n",
       "      <th>mentioned_aspects</th>\n",
       "    </tr>\n",
       "  </thead>\n",
       "  <tbody>\n",
       "    <tr>\n",
       "      <th>0</th>\n",
       "      <td>1428</td>\n",
       "      <td>Aethien</td>\n",
       "      <td>2012-02-12</td>\n",
       "      <td>poured tulip, looks nice golden yellow decent ...</td>\n",
       "      <td>3.00</td>\n",
       "      <td>1.5</td>\n",
       "      <td>1.5</td>\n",
       "      <td>2.0</td>\n",
       "      <td>2.0</td>\n",
       "      <td>1.74</td>\n",
       "      <td>negative</td>\n",
       "      <td>True</td>\n",
       "      <td>True</td>\n",
       "      <td>True</td>\n",
       "      <td>True</td>\n",
       "      <td>look, smell, taste, feel</td>\n",
       "    </tr>\n",
       "    <tr>\n",
       "      <th>1</th>\n",
       "      <td>4351</td>\n",
       "      <td>kojevergas</td>\n",
       "      <td>2011-07-31</td>\n",
       "      <td>served norrebro bryghus stemware copenhagen. r...</td>\n",
       "      <td>2.50</td>\n",
       "      <td>2.0</td>\n",
       "      <td>2.0</td>\n",
       "      <td>1.5</td>\n",
       "      <td>2.0</td>\n",
       "      <td>1.98</td>\n",
       "      <td>negative</td>\n",
       "      <td>True</td>\n",
       "      <td>True</td>\n",
       "      <td>True</td>\n",
       "      <td>True</td>\n",
       "      <td>look, smell, taste, feel</td>\n",
       "    </tr>\n",
       "    <tr>\n",
       "      <th>2</th>\n",
       "      <td>70485</td>\n",
       "      <td>CMUbrew</td>\n",
       "      <td>2012-03-10</td>\n",
       "      <td>reviewed notes 500ml poured plastic cup. a: go...</td>\n",
       "      <td>3.00</td>\n",
       "      <td>1.0</td>\n",
       "      <td>1.0</td>\n",
       "      <td>1.5</td>\n",
       "      <td>1.0</td>\n",
       "      <td>1.17</td>\n",
       "      <td>negative</td>\n",
       "      <td>True</td>\n",
       "      <td>True</td>\n",
       "      <td>True</td>\n",
       "      <td>True</td>\n",
       "      <td>look, smell, taste, feel</td>\n",
       "    </tr>\n",
       "    <tr>\n",
       "      <th>3</th>\n",
       "      <td>27069</td>\n",
       "      <td>maximum12</td>\n",
       "      <td>2010-05-12</td>\n",
       "      <td>rec'd bottle unbidden recent trade chickencoop...</td>\n",
       "      <td>2.50</td>\n",
       "      <td>2.0</td>\n",
       "      <td>2.0</td>\n",
       "      <td>2.0</td>\n",
       "      <td>1.0</td>\n",
       "      <td>1.83</td>\n",
       "      <td>negative</td>\n",
       "      <td>True</td>\n",
       "      <td>True</td>\n",
       "      <td>True</td>\n",
       "      <td>True</td>\n",
       "      <td>look, smell, taste, feel</td>\n",
       "    </tr>\n",
       "    <tr>\n",
       "      <th>4</th>\n",
       "      <td>44788</td>\n",
       "      <td>HarleyRider</td>\n",
       "      <td>2010-06-26</td>\n",
       "      <td>heading boat wife brings home six packs take o...</td>\n",
       "      <td>3.00</td>\n",
       "      <td>1.0</td>\n",
       "      <td>1.0</td>\n",
       "      <td>3.0</td>\n",
       "      <td>2.0</td>\n",
       "      <td>1.52</td>\n",
       "      <td>negative</td>\n",
       "      <td>True</td>\n",
       "      <td>True</td>\n",
       "      <td>True</td>\n",
       "      <td>True</td>\n",
       "      <td>look, smell, taste, feel</td>\n",
       "    </tr>\n",
       "    <tr>\n",
       "      <th>...</th>\n",
       "      <td>...</td>\n",
       "      <td>...</td>\n",
       "      <td>...</td>\n",
       "      <td>...</td>\n",
       "      <td>...</td>\n",
       "      <td>...</td>\n",
       "      <td>...</td>\n",
       "      <td>...</td>\n",
       "      <td>...</td>\n",
       "      <td>...</td>\n",
       "      <td>...</td>\n",
       "      <td>...</td>\n",
       "      <td>...</td>\n",
       "      <td>...</td>\n",
       "      <td>...</td>\n",
       "      <td>...</td>\n",
       "    </tr>\n",
       "    <tr>\n",
       "      <th>27697</th>\n",
       "      <td>90141</td>\n",
       "      <td>BlackBelt5112203</td>\n",
       "      <td>2013-07-26</td>\n",
       "      <td>5 oz pour tasting glass tap wicked weed taproo...</td>\n",
       "      <td>4.25</td>\n",
       "      <td>4.5</td>\n",
       "      <td>4.5</td>\n",
       "      <td>4.0</td>\n",
       "      <td>4.5</td>\n",
       "      <td>4.44</td>\n",
       "      <td>positive</td>\n",
       "      <td>True</td>\n",
       "      <td>True</td>\n",
       "      <td>True</td>\n",
       "      <td>True</td>\n",
       "      <td>look, smell, taste, feel</td>\n",
       "    </tr>\n",
       "    <tr>\n",
       "      <th>27698</th>\n",
       "      <td>2128</td>\n",
       "      <td>woodychandler</td>\n",
       "      <td>2011-08-08</td>\n",
       "      <td>afternoon aus beers continued aunt's house ain...</td>\n",
       "      <td>4.00</td>\n",
       "      <td>4.0</td>\n",
       "      <td>4.0</td>\n",
       "      <td>4.0</td>\n",
       "      <td>4.0</td>\n",
       "      <td>4.00</td>\n",
       "      <td>positive</td>\n",
       "      <td>True</td>\n",
       "      <td>True</td>\n",
       "      <td>True</td>\n",
       "      <td>True</td>\n",
       "      <td>look, smell, taste, feel</td>\n",
       "    </tr>\n",
       "    <tr>\n",
       "      <th>27699</th>\n",
       "      <td>19216</td>\n",
       "      <td>05Harley</td>\n",
       "      <td>2011-02-25</td>\n",
       "      <td>bottled on: (should bottom right hand side bot...</td>\n",
       "      <td>5.00</td>\n",
       "      <td>4.0</td>\n",
       "      <td>4.0</td>\n",
       "      <td>4.0</td>\n",
       "      <td>4.0</td>\n",
       "      <td>4.06</td>\n",
       "      <td>positive</td>\n",
       "      <td>True</td>\n",
       "      <td>True</td>\n",
       "      <td>True</td>\n",
       "      <td>True</td>\n",
       "      <td>look, smell, taste, feel</td>\n",
       "    </tr>\n",
       "    <tr>\n",
       "      <th>27700</th>\n",
       "      <td>41951</td>\n",
       "      <td>brewdlyhooked13</td>\n",
       "      <td>2008-07-19</td>\n",
       "      <td>appearance - pours dark reddish caramel thin l...</td>\n",
       "      <td>4.00</td>\n",
       "      <td>4.0</td>\n",
       "      <td>4.0</td>\n",
       "      <td>4.5</td>\n",
       "      <td>5.0</td>\n",
       "      <td>4.25</td>\n",
       "      <td>positive</td>\n",
       "      <td>True</td>\n",
       "      <td>True</td>\n",
       "      <td>True</td>\n",
       "      <td>True</td>\n",
       "      <td>look, smell, taste, feel</td>\n",
       "    </tr>\n",
       "    <tr>\n",
       "      <th>27701</th>\n",
       "      <td>98387</td>\n",
       "      <td>superspak</td>\n",
       "      <td>2014-02-12</td>\n",
       "      <td>22 ounce bottle tulip glass, bottled 1/23/2014...</td>\n",
       "      <td>4.00</td>\n",
       "      <td>4.5</td>\n",
       "      <td>4.0</td>\n",
       "      <td>4.0</td>\n",
       "      <td>4.5</td>\n",
       "      <td>4.22</td>\n",
       "      <td>positive</td>\n",
       "      <td>True</td>\n",
       "      <td>True</td>\n",
       "      <td>True</td>\n",
       "      <td>True</td>\n",
       "      <td>look, smell, taste, feel</td>\n",
       "    </tr>\n",
       "  </tbody>\n",
       "</table>\n",
       "<p>27702 rows × 16 columns</p>\n",
       "</div>"
      ]
     },
     "execution_count": 61,
     "metadata": {},
     "output_type": "execute_result"
    }
   ],
   "execution_count": 61
  }
 ],
 "metadata": {
  "kernelspec": {
   "display_name": "Python 3",
   "language": "python",
   "name": "python3"
  },
  "language_info": {
   "codemirror_mode": {
    "name": "ipython",
    "version": 2
   },
   "file_extension": ".py",
   "mimetype": "text/x-python",
   "name": "python",
   "nbconvert_exporter": "python",
   "pygments_lexer": "ipython2",
   "version": "2.7.6"
  }
 },
 "nbformat": 4,
 "nbformat_minor": 5
}
