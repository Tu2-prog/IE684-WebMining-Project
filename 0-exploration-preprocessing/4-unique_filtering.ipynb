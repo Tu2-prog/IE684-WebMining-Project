{
 "cells": [
  {
   "cell_type": "markdown",
   "id": "f89b0caddeab5277",
   "metadata": {},
   "source": [
    "# Filtering out redundant strings"
   ]
  },
  {
   "cell_type": "markdown",
   "id": "4406323fff656312",
   "metadata": {},
   "source": [
    "| Author              | Description                                         |\n",
    "|---------------------|-----------------------------------------------------|\n",
    "| Anh Tu Duong Nguyen | Filter out redundant strings to reduce the size of the dataset |"
   ]
  },
  {
   "cell_type": "code",
   "execution_count": 7,
   "id": "98a5a40471c23fbc",
   "metadata": {
    "ExecuteTime": {
     "end_time": "2025-04-13T17:26:31.750783Z",
     "start_time": "2025-04-13T17:26:30.425247Z"
    }
   },
   "outputs": [],
   "source": [
    "import pandas as pd\n",
    "from textblob import TextBlob\n",
    "from textblob.sentiments import NaiveBayesAnalyzer\n",
    "import dask.dataframe as dd\n",
    "import dask"
   ]
  },
  {
   "cell_type": "code",
   "execution_count": 8,
   "id": "d2ceee25",
   "metadata": {},
   "outputs": [],
   "source": [
    "csv_path = '../data/reviews.csv'"
   ]
  },
  {
   "cell_type": "code",
   "execution_count": 10,
   "id": "a7f22e63b9a69e35",
   "metadata": {
    "ExecuteTime": {
     "end_time": "2025-04-13T17:26:57.718641Z",
     "start_time": "2025-04-13T17:26:31.761528Z"
    }
   },
   "outputs": [
    {
     "data": {
      "text/html": [
       "<div>\n",
       "<style scoped>\n",
       "    .dataframe tbody tr th:only-of-type {\n",
       "        vertical-align: middle;\n",
       "    }\n",
       "\n",
       "    .dataframe tbody tr th {\n",
       "        vertical-align: top;\n",
       "    }\n",
       "\n",
       "    .dataframe thead th {\n",
       "        text-align: right;\n",
       "    }\n",
       "</style>\n",
       "<table border=\"1\" class=\"dataframe\">\n",
       "  <thead>\n",
       "    <tr style=\"text-align: right;\">\n",
       "      <th></th>\n",
       "      <th>beer_id</th>\n",
       "      <th>username</th>\n",
       "      <th>date</th>\n",
       "      <th>text</th>\n",
       "      <th>look</th>\n",
       "      <th>smell</th>\n",
       "      <th>taste</th>\n",
       "      <th>feel</th>\n",
       "      <th>overall</th>\n",
       "      <th>score</th>\n",
       "    </tr>\n",
       "  </thead>\n",
       "  <tbody>\n",
       "    <tr>\n",
       "      <th>0</th>\n",
       "      <td>271781</td>\n",
       "      <td>bluejacket74</td>\n",
       "      <td>2017-03-17</td>\n",
       "      <td>750 ml bottle, 2016 vintage, bottle #304 of...</td>\n",
       "      <td>4.00</td>\n",
       "      <td>4.00</td>\n",
       "      <td>4.00</td>\n",
       "      <td>4.25</td>\n",
       "      <td>4.00</td>\n",
       "      <td>4.03</td>\n",
       "    </tr>\n",
       "    <tr>\n",
       "      <th>1</th>\n",
       "      <td>125646</td>\n",
       "      <td>_dirty_</td>\n",
       "      <td>2017-12-21</td>\n",
       "      <td></td>\n",
       "      <td>4.50</td>\n",
       "      <td>4.50</td>\n",
       "      <td>4.50</td>\n",
       "      <td>4.50</td>\n",
       "      <td>4.50</td>\n",
       "      <td>4.50</td>\n",
       "    </tr>\n",
       "    <tr>\n",
       "      <th>2</th>\n",
       "      <td>125646</td>\n",
       "      <td>CJDUBYA</td>\n",
       "      <td>2017-12-21</td>\n",
       "      <td></td>\n",
       "      <td>4.75</td>\n",
       "      <td>4.75</td>\n",
       "      <td>4.75</td>\n",
       "      <td>4.75</td>\n",
       "      <td>4.75</td>\n",
       "      <td>4.75</td>\n",
       "    </tr>\n",
       "    <tr>\n",
       "      <th>3</th>\n",
       "      <td>125646</td>\n",
       "      <td>GratefulBeerGuy</td>\n",
       "      <td>2017-12-20</td>\n",
       "      <td>0% 16 oz can. Funny story: As I finally wal...</td>\n",
       "      <td>4.75</td>\n",
       "      <td>4.75</td>\n",
       "      <td>4.50</td>\n",
       "      <td>4.50</td>\n",
       "      <td>4.50</td>\n",
       "      <td>4.58</td>\n",
       "    </tr>\n",
       "    <tr>\n",
       "      <th>4</th>\n",
       "      <td>125646</td>\n",
       "      <td>LukeGude</td>\n",
       "      <td>2017-12-20</td>\n",
       "      <td>Classic TH NEIPA. Overflowing head and bouq...</td>\n",
       "      <td>4.25</td>\n",
       "      <td>4.50</td>\n",
       "      <td>4.25</td>\n",
       "      <td>4.25</td>\n",
       "      <td>4.25</td>\n",
       "      <td>4.31</td>\n",
       "    </tr>\n",
       "    <tr>\n",
       "      <th>...</th>\n",
       "      <td>...</td>\n",
       "      <td>...</td>\n",
       "      <td>...</td>\n",
       "      <td>...</td>\n",
       "      <td>...</td>\n",
       "      <td>...</td>\n",
       "      <td>...</td>\n",
       "      <td>...</td>\n",
       "      <td>...</td>\n",
       "      <td>...</td>\n",
       "    </tr>\n",
       "    <tr>\n",
       "      <th>9073123</th>\n",
       "      <td>104824</td>\n",
       "      <td>CTJman</td>\n",
       "      <td>2014-06-08</td>\n",
       "      <td></td>\n",
       "      <td>NaN</td>\n",
       "      <td>NaN</td>\n",
       "      <td>NaN</td>\n",
       "      <td>NaN</td>\n",
       "      <td>NaN</td>\n",
       "      <td>4.00</td>\n",
       "    </tr>\n",
       "    <tr>\n",
       "      <th>9073124</th>\n",
       "      <td>104824</td>\n",
       "      <td>IMSPEAKNOENGLISH</td>\n",
       "      <td>2014-06-06</td>\n",
       "      <td></td>\n",
       "      <td>NaN</td>\n",
       "      <td>NaN</td>\n",
       "      <td>NaN</td>\n",
       "      <td>NaN</td>\n",
       "      <td>NaN</td>\n",
       "      <td>5.00</td>\n",
       "    </tr>\n",
       "    <tr>\n",
       "      <th>9073125</th>\n",
       "      <td>104824</td>\n",
       "      <td>twizzard</td>\n",
       "      <td>2014-06-05</td>\n",
       "      <td></td>\n",
       "      <td>NaN</td>\n",
       "      <td>NaN</td>\n",
       "      <td>NaN</td>\n",
       "      <td>NaN</td>\n",
       "      <td>NaN</td>\n",
       "      <td>5.00</td>\n",
       "    </tr>\n",
       "    <tr>\n",
       "      <th>9073126</th>\n",
       "      <td>104824</td>\n",
       "      <td>bootdown21</td>\n",
       "      <td>2014-06-04</td>\n",
       "      <td></td>\n",
       "      <td>NaN</td>\n",
       "      <td>NaN</td>\n",
       "      <td>NaN</td>\n",
       "      <td>NaN</td>\n",
       "      <td>NaN</td>\n",
       "      <td>4.50</td>\n",
       "    </tr>\n",
       "    <tr>\n",
       "      <th>9073127</th>\n",
       "      <td>104824</td>\n",
       "      <td>Brensol</td>\n",
       "      <td>2014-06-01</td>\n",
       "      <td></td>\n",
       "      <td>NaN</td>\n",
       "      <td>NaN</td>\n",
       "      <td>NaN</td>\n",
       "      <td>NaN</td>\n",
       "      <td>NaN</td>\n",
       "      <td>4.75</td>\n",
       "    </tr>\n",
       "  </tbody>\n",
       "</table>\n",
       "<p>9073128 rows × 10 columns</p>\n",
       "</div>"
      ],
      "text/plain": [
       "         beer_id          username        date  \\\n",
       "0         271781      bluejacket74  2017-03-17   \n",
       "1         125646           _dirty_  2017-12-21   \n",
       "2         125646           CJDUBYA  2017-12-21   \n",
       "3         125646   GratefulBeerGuy  2017-12-20   \n",
       "4         125646          LukeGude  2017-12-20   \n",
       "...          ...               ...         ...   \n",
       "9073123   104824            CTJman  2014-06-08   \n",
       "9073124   104824  IMSPEAKNOENGLISH  2014-06-06   \n",
       "9073125   104824          twizzard  2014-06-05   \n",
       "9073126   104824        bootdown21  2014-06-04   \n",
       "9073127   104824           Brensol  2014-06-01   \n",
       "\n",
       "                                                      text  look  smell  \\\n",
       "0           750 ml bottle, 2016 vintage, bottle #304 of...  4.00   4.00   \n",
       "1                                                           4.50   4.50   \n",
       "2                                                           4.75   4.75   \n",
       "3           0% 16 oz can. Funny story: As I finally wal...  4.75   4.75   \n",
       "4           Classic TH NEIPA. Overflowing head and bouq...  4.25   4.50   \n",
       "...                                                    ...   ...    ...   \n",
       "9073123                                                      NaN    NaN   \n",
       "9073124                                                      NaN    NaN   \n",
       "9073125                                                      NaN    NaN   \n",
       "9073126                                                      NaN    NaN   \n",
       "9073127                                                      NaN    NaN   \n",
       "\n",
       "         taste  feel  overall  score  \n",
       "0         4.00  4.25     4.00   4.03  \n",
       "1         4.50  4.50     4.50   4.50  \n",
       "2         4.75  4.75     4.75   4.75  \n",
       "3         4.50  4.50     4.50   4.58  \n",
       "4         4.25  4.25     4.25   4.31  \n",
       "...        ...   ...      ...    ...  \n",
       "9073123    NaN   NaN      NaN   4.00  \n",
       "9073124    NaN   NaN      NaN   5.00  \n",
       "9073125    NaN   NaN      NaN   5.00  \n",
       "9073126    NaN   NaN      NaN   4.50  \n",
       "9073127    NaN   NaN      NaN   4.75  \n",
       "\n",
       "[9073128 rows x 10 columns]"
      ]
     },
     "execution_count": 10,
     "metadata": {},
     "output_type": "execute_result"
    }
   ],
   "source": [
    "df = pd.read_csv(csv_path)\n",
    "df"
   ]
  },
  {
   "cell_type": "code",
   "execution_count": 11,
   "id": "a572f817273b2f89",
   "metadata": {
    "ExecuteTime": {
     "end_time": "2025-04-13T17:27:03.634447Z",
     "start_time": "2025-04-13T17:26:57.856880Z"
    }
   },
   "outputs": [
    {
     "data": {
      "text/plain": [
       "(2893954, 10)"
      ]
     },
     "execution_count": 11,
     "metadata": {},
     "output_type": "execute_result"
    }
   ],
   "source": [
    "df_unique = df[df['text'].map(df['text'].value_counts()) == 1]\n",
    "df_unique.shape"
   ]
  },
  {
   "cell_type": "code",
   "execution_count": 12,
   "id": "1ab8590f23ea7b45",
   "metadata": {
    "ExecuteTime": {
     "end_time": "2025-04-13T17:27:16.906139Z",
     "start_time": "2025-04-13T17:27:03.700594Z"
    }
   },
   "outputs": [
    {
     "name": "stdout",
     "output_type": "stream",
     "text": [
      "Average number of words per sentence: 114.14884410740461\n"
     ]
    }
   ],
   "source": [
    "average_word_count = df_unique['text'].apply(lambda x: len(str(x).split())).mean()\n",
    "\n",
    "print(f\"Average number of words per sentence: {average_word_count}\")"
   ]
  },
  {
   "cell_type": "code",
   "execution_count": 13,
   "id": "7fe2055b8d11ab1f",
   "metadata": {
    "ExecuteTime": {
     "end_time": "2025-04-13T17:27:31.374425Z",
     "start_time": "2025-04-13T17:27:16.979424Z"
    }
   },
   "outputs": [
    {
     "data": {
      "text/plain": [
       "(1149509, 10)"
      ]
     },
     "execution_count": 13,
     "metadata": {},
     "output_type": "execute_result"
    }
   ],
   "source": [
    "df_unique = df_unique[df_unique['text'].apply(lambda x: len(str(x).split())) >= average_word_count]\n",
    "df_unique.shape"
   ]
  },
  {
   "cell_type": "code",
   "execution_count": 14,
   "id": "5517e4df",
   "metadata": {},
   "outputs": [
    {
     "name": "stdout",
     "output_type": "stream",
     "text": [
      "Saved 1148685 reviews with aspect mentions to 'reviews_with_aspects_filtered.csv'\n"
     ]
    }
   ],
   "source": [
    "import pandas as pd\n",
    "\n",
    "# Define expanded keyword lists for each ABSA-relevant aspect\n",
    "aspect_keywords = {\n",
    "    'look': [\n",
    "        'look', 'appearance', 'color', 'colour', 'head', 'foam', 'lacing', 'clarity',\n",
    "        'hazy', 'opaque', 'transparent', 'visual', 'bubble', 'carbonation', 'layer'\n",
    "    ],\n",
    "    'smell': [\n",
    "        'smell', 'aroma', 'nose', 'scent', 'fragrance', 'odor', 'bouquet',\n",
    "        'sniff', 'whiff', 'malty aroma', 'hoppy aroma'\n",
    "    ],\n",
    "    'taste': [\n",
    "        'taste', 'flavor', 'flavour', 'aftertaste', 'bitterness', 'sweetness',\n",
    "        'sourness', 'dry', 'bitter', 'sweet', 'sour', 'savory', 'malty', 'hoppy',\n",
    "        'balanced', 'burnt', 'roasty', 'yeasty', 'complex'\n",
    "    ],\n",
    "    'feel': [\n",
    "        'feel', 'mouthfeel', 'texture', 'body', 'weight', 'creaminess',\n",
    "        'smoothness', 'carbonation', 'coating', 'slick', 'watery', 'full-bodied',\n",
    "        'astringent', 'dryness', 'crisp', 'tingle'\n",
    "    ]\n",
    "}\n",
    "\n",
    "# Convert all text to lowercase for consistent matching\n",
    "df_unique['text'] = df_unique['text'].astype(str).str.lower()\n",
    "\n",
    "# Create a boolean mask identifying whether each text contains at least one aspect keyword\n",
    "aspect_mask = df_unique['text'].apply(\n",
"    lambda text: any(\n",

 

    "        any(keyword in text for keyword in keywords)\n",
 

    "        for keywords in aspect_keywords.values()\n",
 

    "    )\n",
 

    ")\n",
 

    "\n",
 

    "# Filter the DataFrame to retain only rows that mention at least one aspect\n",
 

    "df_filtered = df_unique[aspect_mask].copy()\n",
 

    "\n",
 

    "# Create a new column that lists all aspects mentioned in each review\n",
 

    "df_filtered['mentioned_aspects'] = df_filtered['text'].apply(\n",
 

    "    lambda text: [\n",
 

    "        aspect for aspect, keywords in aspect_keywords.items()\n",
 

    "        if any(keyword in text for keyword in keywords)\n",
 

    "    ]\n",
 

    ")\n",
 

    "\n",
 

    "# Save the filtered and annotated dataset to CSV\n",
 

    "df_filtered.to_csv('reviews_with_aspects_filtered.csv', index=False)\n",
 

    "print(f\"Saved {len(df_filtered)} reviews with aspect mentions to 'reviews_with_aspects_filtered.csv'\")\n"
 

   ]
 

  },
 

  {
 

   "cell_type": "code",
 

   "execution_count": 15,
 

   "id": "04e3d171",
 

   "metadata": {},
 

   "outputs": [
 

    {
 

     "name": "stdout",
 

     "output_type": "stream",
 

     "text": [
 

      "Filtered 914799 rows that contain all four aspects.\n"
 

     ]
 

    }
 

   ],
 

   "source": [
 

    "# Define the aspect-specific keyword lists\n",
 

    "aspect_keywords = {\n",
 

    "    'look': [\n",
 

    "        'look', 'appearance', 'color', 'colour', 'head', 'foam', 'lacing', 'clarity',\n",
 

    "        'hazy', 'opaque', 'transparent', 'visual', 'bubble', 'carbonation', 'layer'\n",
 

    "    ],\n",
 

    "    'smell': [\n",
 

    "        'smell', 'aroma', 'nose', 'scent', 'fragrance', 'odor', 'bouquet',\n",
 

    "        'sniff', 'whiff', 'malty aroma', 'hoppy aroma'\n",
 

    "    ],\n",
 

    "    'taste': [\n",
 

    "        'taste', 'flavor', 'flavour', 'aftertaste', 'bitterness', 'sweetness',\n",
 

    "        'sourness', 'dry', 'bitter', 'sweet', 'sour', 'savory', 'malty', 'hoppy',\n",
 

    "        'balanced', 'burnt', 'roasty', 'yeasty', 'complex'\n",
 

    "    ],\n",
 

    "    'feel': [\n",
 

    "        'feel', 'mouthfeel', 'texture', 'body', 'weight', 'creaminess',\n",
 

    "        'smoothness', 'carbonation', 'coating', 'slick', 'watery', 'full-bodied',\n",
 

    "        'astringent', 'dryness', 'crisp', 'tingle'\n",
 

    "    ]\n",
 

    "}\n",
 

    "\n",
 

    "# Convert text column to lowercase for consistent keyword matching\n",
 

    "df_unique['text'] = df_unique['text'].astype(str).str.lower()\n",
 

    "\n",
 

    "# Create a boolean column for each aspect to indicate if its keywords are mentioned\n",
 

    "for aspect, keywords in aspect_keywords.items():\n",
 

    "    df_unique[f'has_{aspect}'] = df_unique['text'].apply(\n",
 

    "        lambda text: any(keyword in text for keyword in keywords)\n",
 

    "    )\n",
 

    "\n",
 

    "# Filter to retain only rows where all four aspects are present\n",
 

    "df_all_aspects = df_unique[\n",
 

    "    df_unique['has_look'] &\n",
 

    "    df_unique['has_smell'] &\n",
 

    "    df_unique['has_taste'] &\n",
 

    "    df_unique['has_feel']\n",
 

    "].copy()\n",
 

    "\n",
 

    "# Optional: add a column explicitly stating the presence of all aspects\n",
 

    "df_all_aspects['mentioned_aspects'] = ['look, smell, taste, feel'] * len(df_all_aspects)\n",
 

    "\n",
 

    "# Save the result to a new CSV file\n",
 

    "df_all_aspects.to_csv('df_unique_with_all_aspects.csv', index=False)\n",
 

    "print(f\"Filtered {len(df_all_aspects)} rows that contain all four aspects.\")\n"
 

   ]
 

  },
 

  {
 

   "cell_type": "code",
 

   "execution_count": 17,
 

   "id": "d6c54009",
 

   "metadata": {},
 

   "outputs": [
 

    {
 

     "data": {
 

      "text/html": [
 

       "<div>\n",
 

       "<style scoped>\n",
 

       "    .dataframe tbody tr th:only-of-type {\n",
 

       "        vertical-align: middle;\n",
 

       "    }\n",
 

       "\n",
 

       "    .dataframe tbody tr th {\n",
 

       "        vertical-align: top;\n",
 

       "    }\n",
 

       "\n",
 

       "    .dataframe thead th {\n",
 

       "        text-align: right;\n",
 

       "    }\n",
 

       "</style>\n",
 

       "<table border=\"1\" class=\"dataframe\">\n",
 

       "  <thead>\n",
 

       "    <tr style=\"text-align: right;\">\n",
 

       "      <th></th>\n",
 

       "      <th>beer_id</th>\n",
 

       "      <th>username</th>\n",
 

       "      <th>date</th>\n",
 

       "      <th>text</th>\n",
 

       "      <th>look</th>\n",
 

       "      <th>smell</th>\n",
 

       "      <th>taste</th>\n",
 

       "      <th>feel</th>\n",
 

       "      <th>overall</th>\n",
 

       "      <th>score</th>\n",
 

       "      <th>has_look</th>\n",
 

       "      <th>has_smell</th>\n",
 

       "      <th>has_taste</th>\n",
 

       "      <th>has_feel</th>\n",
 

       "      <th>mentioned_aspects</th>\n",
 

       "    </tr>\n",
 

       "  </thead>\n",
 

       "  <tbody>\n",
 

       "    <tr>\n",
 

       "      <th>0</th>\n",
 

       "      <td>271781</td>\n",
 

       "      <td>bluejacket74</td>\n",
 

       "      <td>2017-03-17</td>\n",
 

       "      <td>750 ml bottle, 2016 vintage, bottle #304 of...</td>\n",
 

       "      <td>4.00</td>\n",
 

       "      <td>4.00</td>\n",
 

       "      <td>4.0</td>\n",
 

       "      <td>4.25</td>\n",
 

       "      <td>4.00</td>\n",
 

       "      <td>4.03</td>\n",
 

       "      <td>True</td>\n",
 

       "      <td>True</td>\n",
 

       "      <td>True</td>\n",
 

       "      <td>True</td>\n",
 

       "      <td>look, smell, taste, feel</td>\n",
 

       "    </tr>\n",
 

       "    <tr>\n",
 

       "      <th>3</th>\n",
 

       "      <td>125646</td>\n",
 

       "      <td>GratefulBeerGuy</td>\n",
 

       "      <td>2017-12-20</td>\n",
 

       "      <td>0% 16 oz can. funny story: as i finally wal...</td>\n",
 

       "      <td>4.75</td>\n",
 

       "      <td>4.75</td>\n",
 

       "      <td>4.5</td>\n",
 

       "      <td>4.50</td>\n",
 

       "      <td>4.50</td>\n",
 

       "      <td>4.58</td>\n",
 

       "      <td>True</td>\n",
 

       "      <td>True</td>\n",
 

       "      <td>True</td>\n",
 

       "      <td>True</td>\n",
 

       "      <td>look, smell, taste, feel</td>\n",
 

       "    </tr>\n",
 

       "    <tr>\n",
 

       "      <th>59</th>\n",
 

       "      <td>150672</td>\n",
 

       "      <td>biboergosum</td>\n",
 

       "      <td>2014-12-26</td>\n",
 

       "      <td>355ml can, the latest from this nascent cra...</td>\n",
 

       "      <td>3.75</td>\n",
 

       "      <td>4.25</td>\n",
 

       "      <td>4.0</td>\n",
 

       "      <td>3.75</td>\n",
 

       "      <td>3.75</td>\n",
 

       "      <td>3.97</td>\n",
 

       "      <td>True</td>\n",
 

       "      <td>True</td>\n",
 

       "      <td>True</td>\n",
 

       "      <td>True</td>\n",
 

       "      <td>look, smell, taste, feel</td>\n",
 

       "    </tr>\n",
 

       "    <tr>\n",
 

       "      <th>69</th>\n",
 

       "      <td>104824</td>\n",
 

       "      <td>Fcolle2</td>\n",
 

       "      <td>2014-05-27</td>\n",
 

       "      <td>batch 209 pours thick dark viscous black in...</td>\n",
 

       "      <td>4.25</td>\n",
 

       "      <td>4.75</td>\n",
 

       "      <td>4.5</td>\n",
 

       "      <td>4.75</td>\n",
 

       "      <td>4.50</td>\n",
 

       "      <td>4.57</td>\n",
 

       "      <td>True</td>\n",
 

       "      <td>True</td>\n",
 

       "      <td>True</td>\n",
 

       "      <td>True</td>\n",
 

       "      <td>look, smell, taste, feel</td>\n",
 

       "    </tr>\n",
 

       "    <tr>\n",
 

       "      <th>73</th>\n",
 

       "      <td>104824</td>\n",
 

       "      <td>kevanb</td>\n",
 

       "      <td>2014-05-24</td>\n",
 

       "      <td>12oz bottle poured into a pipeworks snifter...</td>\n",
 

       "      <td>4.00</td>\n",
 

       "      <td>4.50</td>\n",
 

       "      <td>4.5</td>\n",
 

       "      <td>4.25</td>\n",
 

       "      <td>4.50</td>\n",
 

       "      <td>4.45</td>\n",
 

       "      <td>True</td>\n",
 

       "      <td>True</td>\n",
 

       "      <td>True</td>\n",
 

       "      <td>True</td>\n",
 

       "      <td>look, smell, taste, feel</td>\n",
 

       "    </tr>\n",
 

       "    <tr>\n",
 

       "      <th>...</th>\n",
 

       "      <td>...</td>\n",
 

       "      <td>...</td>\n",
 

       "      <td>...</td>\n",
 

       "      <td>...</td>\n",
 

       "      <td>...</td>\n",
 

       "      <td>...</td>\n",
 

       "      <td>...</td>\n",
 

       "      <td>...</td>\n",
 

       "      <td>...</td>\n",
 

       "      <td>...</td>\n",
 

       "      <td>...</td>\n",
 

       "      <td>...</td>\n",
 

       "      <td>...</td>\n",
 

       "      <td>...</td>\n",
 

       "      <td>...</td>\n",
 

       "    </tr>\n",
 

       "    <tr>\n",
 

       "      <th>9073081</th>\n",
 

       "      <td>58482</td>\n",
 

       "      <td>NeroFiddled</td>\n",
 

       "      <td>2009-09-17</td>\n",
 

       "      <td>carefully poured to leave the yeast behind,...</td>\n",
 

       "      <td>4.00</td>\n",
 

       "      <td>4.50</td>\n",
 

       "      <td>4.0</td>\n",
 

       "      <td>4.00</td>\n",
 

       "      <td>4.00</td>\n",
 

       "      <td>4.12</td>\n",
 

       "      <td>True</td>\n",
 

       "      <td>True</td>\n",
 

       "      <td>True</td>\n",
 

       "      <td>True</td>\n",
 

       "      <td>look, smell, taste, feel</td>\n",
 

       "    </tr>\n",
 

       "    <tr>\n",
 

       "      <th>9073088</th>\n",
 

       "      <td>58482</td>\n",
 

       "      <td>DIM</td>\n",
 

       "      <td>2009-09-04</td>\n",
 

       "      <td>a: this was a hazy light copery color with ...</td>\n",
 

       "      <td>4.00</td>\n",
 

       "      <td>4.00</td>\n",
 

       "      <td>3.5</td>\n",
 

       "      <td>3.00</td>\n",
 

       "      <td>3.50</td>\n",
 

       "      <td>3.60</td>\n",
 

       "      <td>True</td>\n",
 

       "      <td>True</td>\n",
 

       "      <td>True</td>\n",
 

       "      <td>True</td>\n",
 

       "      <td>look, smell, taste, feel</td>\n",
 

       "    </tr>\n",
 

       "    <tr>\n",
 

       "      <th>9073091</th>\n",
 

       "      <td>58482</td>\n",
 

       "      <td>jdaelhousen</td>\n",
 

       "      <td>2009-08-28</td>\n",
 

       "      <td>pour produces a solid contribution of body ...</td>\n",
 

       "      <td>4.00</td>\n",
 

       "      <td>5.00</td>\n",
 

       "      <td>4.5</td>\n",
 

       "      <td>4.00</td>\n",
 

       "      <td>4.00</td>\n",
 

       "      <td>4.44</td>\n",
 

       "      <td>True</td>\n",
 

       "      <td>True</td>\n",
 

       "      <td>True</td>\n",
 

       "      <td>True</td>\n",
 

       "      <td>look, smell, taste, feel</td>\n",
 

       "    </tr>\n",
 

       "    <tr>\n",
 

       "      <th>9073096</th>\n",
 

       "      <td>58482</td>\n",
 

       "      <td>firkinhophead</td>\n",
 

       "      <td>2009-08-21</td>\n",
 

       "      <td>pours a hazy, almost cloudy, autumn gold. a...</td>\n",
 

       "      <td>3.50</td>\n",
 

       "      <td>4.00</td>\n",
 

       "      <td>4.0</td>\n",
 

       "      <td>3.50</td>\n",
 

       "      <td>4.00</td>\n",
 

       "      <td>3.92</td>\n",
 

       "      <td>True</td>\n",
 

       "      <td>True</td>\n",
 

       "      <td>True</td>\n",
 

       "      <td>True</td>\n",
 

       "      <td>look, smell, taste, feel</td>\n",
 

       "    </tr>\n",
 

       "    <tr>\n",
 

       "      <th>9073097</th>\n",
 

       "      <td>58482</td>\n",
 

       "      <td>CHADMC3</td>\n",
 

       "      <td>2009-08-21</td>\n",
 

       "      <td>pours a hazy golden/orange to copper with a...</td>\n",
 

       "      <td>4.00</td>\n",
 

       "      <td>4.00</td>\n",
 

       "      <td>3.5</td>\n",
 

       "      <td>4.00</td>\n",
 

       "      <td>4.00</td>\n",
 

       "      <td>3.80</td>\n",
 

       "      <td>True</td>\n",
 

       "      <td>True</td>\n",
 

       "      <td>True</td>\n",
 

       "      <td>True</td>\n",
 

       "      <td>look, smell, taste, feel</td>\n",
 

       "    </tr>\n",
 

       "  </tbody>\n",
 

       "</table>\n",
 

       "<p>914799 rows × 15 columns</p>\n",
 

       "</div>"
 

      ],
 

      "text/plain": [
 

       "         beer_id         username        date  \\\n",
 

       "0         271781     bluejacket74  2017-03-17   \n",
 

       "3         125646  GratefulBeerGuy  2017-12-20   \n",
 

       "59        150672      biboergosum  2014-12-26   \n",
 

       "69        104824          Fcolle2  2014-05-27   \n",
 

       "73        104824           kevanb  2014-05-24   \n",
 

       "...          ...              ...         ...   \n",
 

       "9073081    58482      NeroFiddled  2009-09-17   \n",
 

       "9073088    58482              DIM  2009-09-04   \n",
 

       "9073091    58482      jdaelhousen  2009-08-28   \n",
 

       "9073096    58482    firkinhophead  2009-08-21   \n",
 

       "9073097    58482          CHADMC3  2009-08-21   \n",
 

       "\n",
 

       "                                                      text  look  smell  \\\n",
 

       "0           750 ml bottle, 2016 vintage, bottle #304 of...  4.00   4.00   \n",
 

       "3           0% 16 oz can. funny story: as i finally wal...  4.75   4.75   \n",
 

       "59          355ml can, the latest from this nascent cra...  3.75   4.25   \n",
 

       "69          batch 209 pours thick dark viscous black in...  4.25   4.75   \n",
 

       "73          12oz bottle poured into a pipeworks snifter...  4.00   4.50   \n",
 

       "...                                                    ...   ...    ...   \n",
 

       "9073081     carefully poured to leave the yeast behind,...  4.00   4.50   \n",
 

       "9073088     a: this was a hazy light copery color with ...  4.00   4.00   \n",
 

       "9073091     pour produces a solid contribution of body ...  4.00   5.00   \n",
 

       "9073096     pours a hazy, almost cloudy, autumn gold. a...  3.50   4.00   \n",
 

       "9073097     pours a hazy golden/orange to copper with a...  4.00   4.00   \n",
 

       "\n",
 

       "         taste  feel  overall  score  has_look  has_smell  has_taste  \\\n",
 

       "0          4.0  4.25     4.00   4.03      True       True       True   \n",
 

       "3          4.5  4.50     4.50   4.58      True       True       True   \n",
 

       "59         4.0  3.75     3.75   3.97      True       True       True   \n",
 

       "69         4.5  4.75     4.50   4.57      True       True       True   \n",
 

       "73         4.5  4.25     4.50   4.45      True       True       True   \n",
 

       "...        ...   ...      ...    ...       ...        ...        ...   \n",
 

       "9073081    4.0  4.00     4.00   4.12      True       True       True   \n",
 

       "9073088    3.5  3.00     3.50   3.60      True       True       True   \n",
 

       "9073091    4.5  4.00     4.00   4.44      True       True       True   \n",
 

       "9073096    4.0  3.50     4.00   3.92      True       True       True   \n",
 

       "9073097    3.5  4.00     4.00   3.80      True       True       True   \n",
 

       "\n",
 

       "         has_feel         mentioned_aspects  \n",
 

       "0            True  look, smell, taste, feel  \n",
 

       "3            True  look, smell, taste, feel  \n",
 

       "59           True  look, smell, taste, feel  \n",
 

       "69           True  look, smell, taste, feel  \n",
 

       "73           True  look, smell, taste, feel  \n",
 

       "...           ...                       ...  \n",
 

       "9073081      True  look, smell, taste, feel  \n",
 

       "9073088      True  look, smell, taste, feel  \n",
 

       "9073091      True  look, smell, taste, feel  \n",
 

       "9073096      True  look, smell, taste, feel  \n",
 

       "9073097      True  look, smell, taste, feel  \n",
 

       "\n",
 

       "[914799 rows x 15 columns]"
 

      ]
 

     },
 

     "execution_count": 17,
 

     "metadata": {},
 

     "output_type": "execute_result"
 

    }
 

   ],
 

   "source": [
 

    "df_all_aspects"
 

   ]
 

  },
 

  {
 

   "cell_type": "code",
 

   "execution_count": 18,
 

   "id": "02c90005",
 

   "metadata": {},
 

   "outputs": [],
 

   "source": [
 

    "# Define rule: score ≥ 4 → positive, score ≤ 2 → negative, else → neutral\n",
 

    "def score_to_sentiment(score):\n",
 

    "    if score >= 4:\n",
 

    "        return 'positive'\n",
 

    "    elif score <= 2:\n",
 

    "        return 'negative'\n",
 

    "    else:\n",
 

    "        return 'neutral'\n",
 

    "\n",
 

    "# Apply mapping to generate sentiment column\n",
 

    "df_all_aspects['sentiment'] = df_all_aspects['score'].apply(score_to_sentiment)\n"
 

   ]
 

  },
 

  {
 

   "cell_type": "code",
 

   "execution_count": 19,
 

   "id": "25dac8f2",
 

   "metadata": {},
 

   "outputs": [
 

    {
 

     "name": "stdout",
 

     "output_type": "stream",
 

     "text": [
 

      "Sentiment distribution before sampling:\n",
 

      " sentiment\n",
 

      "neutral     459756\n",
 

      "positive    445809\n",
 

      "negative      9234\n",
 

      "Name: count, dtype: int64\n"
 

     ]
 

    },
 

    {
 

     "data": {
 

      "image/png": "[encoded data removed]",
 

      "text/plain": [
 

       "<Figure size 640x480 with 1 Axes>"
 

      ]
 

     },
 

     "metadata": {},
 

     "output_type": "display_data"
 

    }
 

   ],
 

   "source": [
 

    "import seaborn as sns\n",
 

    "import matplotlib.pyplot as plt\n",
 

    "\n",
 

    "# Count distribution\n",
 

    "sentiment_counts = df_all_aspects['sentiment'].value_counts()\n",
 

    "print(\"Sentiment distribution before sampling:\\n\", sentiment_counts)\n",
 

    "\n",
 

    "# Plot\n",
 

    "sns.countplot(data=df_all_aspects, x='sentiment', order=sentiment_counts.index)\n",
 

    "plt.title('Sentiment Distribution Before Sampling')\n",
 

    "plt.xlabel('Sentiment')\n",
 

    "plt.ylabel('Count')\n",
 

    "plt.show()\n"
 

   ]
 

  },
 

  {
 

   "cell_type": "code",
 

   "execution_count": 23,
 

   "id": "02c555b4",
 

   "metadata": {},
 

   "outputs": [
 

    {
 

     "name": "stdout",
 

     "output_type": "stream",
 

     "text": [
 

      "Stratified dataset shape: (27702, 16)\n"
 

     ]
 

    }
 

   ],
 

   "source": [
 

    "# Define desired sample size per sentiment class\n",
 

    "n_per_class = 9234\n",
 

    "\n",
 

    "# Perform stratified sampling by sentiment\n",
 

    "df_sampled = df_all_aspects.groupby('sentiment').sample(n=n_per_class, random_state=42)\n",
 

    "\n",
 

    "# Reset index\n",
 

    "df_sampled.reset_index(drop=True, inplace=True)\n",
 

    "print(f\"Stratified dataset shape: {df_sampled.shape}\")"
 

   ]
 

  },
 

  {
 

   "cell_type": "code",
 

   "execution_count": 26,
 

   "id": "451c1fd4",
 

   "metadata": {},
 

   "outputs": [
 

    {
 

     "data": {
 

      "text/html": [
 

       "<div>\n",
 

       "<style scoped>\n",
 

       "    .dataframe tbody tr th:only-of-type {\n",
 

       "        vertical-align: middle;\n",
 

       "    }\n",
 

       "\n",
 

       "    .dataframe tbody tr th {\n",
 

       "        vertical-align: top;\n",
 

       "    }\n",
 

       "\n",
 

       "    .dataframe thead th {\n",
 

       "        text-align: right;\n",
 

       "    }\n",
 

       "</style>\n",
 

       "<table border=\"1\" class=\"dataframe\">\n",
 

       "  <thead>\n",
 

       "    <tr style=\"text-align: right;\">\n",
 

       "      <th></th>\n",
 

       "      <th>beer_id</th>\n",
 

       "      <th>username</th>\n",
 

       "      <th>date</th>\n",
 

       "      <th>text</th>\n",
 

       "      <th>look</th>\n",
 

       "      <th>smell</th>\n",
 

       "      <th>taste</th>\n",
 

       "      <th>feel</th>\n",
 

       "      <th>overall</th>\n",
 

       "      <th>score</th>\n",
 

       "      <th>has_look</th>\n",
 

       "      <th>has_smell</th>\n",
 

       "      <th>has_taste</th>\n",
 

       "      <th>has_feel</th>\n",
 

       "      <th>mentioned_aspects</th>\n",
 

       "      <th>sentiment</th>\n",
 

       "    </tr>\n",
 

       "  </thead>\n",
 

       "  <tbody>\n",
 

       "    <tr>\n",
 

       "      <th>0</th>\n",
 

       "      <td>1428</td>\n",
 

       "      <td>Aethien</td>\n",
 

       "      <td>2012-02-12</td>\n",
 

       "      <td>poured into a tulip, it looks a nice golden...</td>\n",
 

       "      <td>3.00</td>\n",
 

       "      <td>1.5</td>\n",
 

       "      <td>1.5</td>\n",
 

       "      <td>2.0</td>\n",
 

       "      <td>2.0</td>\n",
 

       "      <td>1.74</td>\n",
 

       "      <td>True</td>\n",
 

       "      <td>True</td>\n",
 

       "      <td>True</td>\n",
 

       "      <td>True</td>\n",
 

       "      <td>look, smell, taste, feel</td>\n",
 

       "      <td>negative</td>\n",
 

       "    </tr>\n",
 

       "    <tr>\n",
 

       "      <th>1</th>\n",
 

       "      <td>4351</td>\n",
 

       "      <td>kojevergas</td>\n",
 

       "      <td>2011-07-31</td>\n",
 

       "      <td>can served into norrebro bryghus stemware i...</td>\n",
 

       "      <td>2.50</td>\n",
 

       "      <td>2.0</td>\n",
 

       "      <td>2.0</td>\n",
 

       "      <td>1.5</td>\n",
 

       "      <td>2.0</td>\n",
 

       "      <td>1.98</td>\n",
 

       "      <td>True</td>\n",
 

       "      <td>True</td>\n",
 

       "      <td>True</td>\n",
 

       "      <td>True</td>\n",
 

       "      <td>look, smell, taste, feel</td>\n",
 

       "      <td>negative</td>\n",
 

       "    </tr>\n",
 

       "    <tr>\n",
 

       "      <th>2</th>\n",
 

       "      <td>70485</td>\n",
 

       "      <td>CMUbrew</td>\n",
 

       "      <td>2012-03-10</td>\n",
 

       "      <td>reviewed from notes 500ml can poured into a...</td>\n",
 

       "      <td>3.00</td>\n",
 

       "      <td>1.0</td>\n",
 

       "      <td>1.0</td>\n",
 

       "      <td>1.5</td>\n",
 

       "      <td>1.0</td>\n",
 

       "      <td>1.17</td>\n",
 

       "      <td>True</td>\n",
 

       "      <td>True</td>\n",
 

       "      <td>True</td>\n",
 

       "      <td>True</td>\n",
 

       "      <td>look, smell, taste, feel</td>\n",
 

       "      <td>negative</td>\n",
 

       "    </tr>\n",
 

       "    <tr>\n",
 

       "      <th>3</th>\n",
 

       "      <td>27069</td>\n",
 

       "      <td>maximum12</td>\n",
 

       "      <td>2010-05-12</td>\n",
 

       "      <td>rec'd a bottle of this unbidden in a recent...</td>\n",
 

       "      <td>2.50</td>\n",
 

       "      <td>2.0</td>\n",
 

       "      <td>2.0</td>\n",
 

       "      <td>2.0</td>\n",
 

       "      <td>1.0</td>\n",
 

       "      <td>1.83</td>\n",
 

       "      <td>True</td>\n",
 

       "      <td>True</td>\n",
 

       "      <td>True</td>\n",
 

       "      <td>True</td>\n",
 

       "      <td>look, smell, taste, feel</td>\n",
 

       "      <td>negative</td>\n",
 

       "    </tr>\n",
 

       "    <tr>\n",
 

       "      <th>4</th>\n",
 

       "      <td>44788</td>\n",
 

       "      <td>HarleyRider</td>\n",
 

       "      <td>2010-06-26</td>\n",
 

       "      <td>heading out on the boat my wife brings home...</td>\n",
 

       "      <td>3.00</td>\n",
 

       "      <td>1.0</td>\n",
 

       "      <td>1.0</td>\n",
 

       "      <td>3.0</td>\n",
 

       "      <td>2.0</td>\n",
 

       "      <td>1.52</td>\n",
 

       "      <td>True</td>\n",
 

       "      <td>True</td>\n",
 

       "      <td>True</td>\n",
 

       "      <td>True</td>\n",
 

       "      <td>look, smell, taste, feel</td>\n",
 

       "      <td>negative</td>\n",
 

       "    </tr>\n",
 

       "    <tr>\n",
 

       "      <th>...</th>\n",
 

       "      <td>...</td>\n",
 

       "      <td>...</td>\n",
 

       "      <td>...</td>\n",
 

       "      <td>...</td>\n",
 

       "      <td>...</td>\n",
 

       "      <td>...</td>\n",
 

       "      <td>...</td>\n",
 

       "      <td>...</td>\n",
 

       "      <td>...</td>\n",
 

       "      <td>...</td>\n",
 

       "      <td>...</td>\n",
 

       "      <td>...</td>\n",
 

       "      <td>...</td>\n",
 

       "      <td>...</td>\n",
 

       "      <td>...</td>\n",
 

       "      <td>...</td>\n",
 

       "    </tr>\n",
 

       "    <tr>\n",
 

       "      <th>27697</th>\n",
 

       "      <td>90141</td>\n",
 

       "      <td>BlackBelt5112203</td>\n",
 

       "      <td>2013-07-26</td>\n",
 

       "      <td>5 oz pour into a tasting glass on tap at th...</td>\n",
 

       "      <td>4.25</td>\n",
 

       "      <td>4.5</td>\n",
 

       "      <td>4.5</td>\n",
 

       "      <td>4.0</td>\n",
 

       "      <td>4.5</td>\n",
 

       "      <td>4.44</td>\n",
 

       "      <td>True</td>\n",
 

       "      <td>True</td>\n",
 

       "      <td>True</td>\n",
 

       "      <td>True</td>\n",
 

       "      <td>look, smell, taste, feel</td>\n",
 

       "      <td>positive</td>\n",
 

       "    </tr>\n",
 

       "    <tr>\n",
 

       "      <th>27698</th>\n",
 

       "      <td>2128</td>\n",
 

       "      <td>woodychandler</td>\n",
 

       "      <td>2011-08-08</td>\n",
 

       "      <td>an afternoon of aus beers continued at my a...</td>\n",
 

       "      <td>4.00</td>\n",
 

       "      <td>4.0</td>\n",
 

       "      <td>4.0</td>\n",
 

       "      <td>4.0</td>\n",
 

       "      <td>4.0</td>\n",
 

       "      <td>4.00</td>\n",
 

       "      <td>True</td>\n",
 

       "      <td>True</td>\n",
 

       "      <td>True</td>\n",
 

       "      <td>True</td>\n",
 

       "      <td>look, smell, taste, feel</td>\n",
 

       "      <td>positive</td>\n",
 

       "    </tr>\n",
 

       "    <tr>\n",
 

       "      <th>27699</th>\n",
 

       "      <td>19216</td>\n",
 

       "      <td>05Harley</td>\n",
 

       "      <td>2011-02-25</td>\n",
 

       "      <td>bottled on: (should be on the bottom right ...</td>\n",
 

       "      <td>5.00</td>\n",
 

       "      <td>4.0</td>\n",
 

       "      <td>4.0</td>\n",
 

       "      <td>4.0</td>\n",
 

       "      <td>4.0</td>\n",
 

       "      <td>4.06</td>\n",
 

       "      <td>True</td>\n",
 

       "      <td>True</td>\n",
 

       "      <td>True</td>\n",
 

       "      <td>True</td>\n",
 

       "      <td>look, smell, taste, feel</td>\n",
 

       "      <td>positive</td>\n",
 

       "    </tr>\n",
 

       "    <tr>\n",
 

       "      <th>27700</th>\n",
 

       "      <td>41951</td>\n",
 

       "      <td>brewdlyhooked13</td>\n",
 

       "      <td>2008-07-19</td>\n",
 

       "      <td>appearance - pours a dark reddish caramel w...</td>\n",
 

       "      <td>4.00</td>\n",
 

       "      <td>4.0</td>\n",
 

       "      <td>4.0</td>\n",
 

       "      <td>4.5</td>\n",
 

       "      <td>5.0</td>\n",
 

       "      <td>4.25</td>\n",
 

       "      <td>True</td>\n",
 

       "      <td>True</td>\n",
 

       "      <td>True</td>\n",
 

       "      <td>True</td>\n",
 

       "      <td>look, smell, taste, feel</td>\n",
 

       "      <td>positive</td>\n",
 

       "    </tr>\n",
 

       "    <tr>\n",
 

       "      <th>27701</th>\n",
 

       "      <td>98387</td>\n",
 

       "      <td>superspak</td>\n",
 

       "      <td>2014-02-12</td>\n",
 

       "      <td>22 ounce bottle into tulip glass, bottled o...</td>\n",
 

       "      <td>4.00</td>\n",
 

       "      <td>4.5</td>\n",
 

       "      <td>4.0</td>\n",
 

       "      <td>4.0</td>\n",
 

       "      <td>4.5</td>\n",
 

       "      <td>4.22</td>\n",
 

       "      <td>True</td>\n",
 

       "      <td>True</td>\n",
 

       "      <td>True</td>\n",
 

       "      <td>True</td>\n",
 

       "      <td>look, smell, taste, feel</td>\n",
 

       "      <td>positive</td>\n",
 

       "    </tr>\n",
 

       "  </tbody>\n",
 

       "</table>\n",
 

       "<p>27702 rows × 16 columns</p>\n",
 

       "</div>"
 

      ],
 

      "text/plain": [
 

       "       beer_id          username        date  \\\n",
 

       "0         1428           Aethien  2012-02-12   \n",
 

       "1         4351        kojevergas  2011-07-31   \n",
 

       "2        70485           CMUbrew  2012-03-10   \n",
 

       "3        27069         maximum12  2010-05-12   \n",
 

       "4        44788       HarleyRider  2010-06-26   \n",
 

       "...        ...               ...         ...   \n",
 

       "27697    90141  BlackBelt5112203  2013-07-26   \n",
 

       "27698     2128     woodychandler  2011-08-08   \n",
 

       "27699    19216          05Harley  2011-02-25   \n",
 

       "27700    41951   brewdlyhooked13  2008-07-19   \n",
 

       "27701    98387         superspak  2014-02-12   \n",
 

       "\n",
 

       "                                                    text  look  smell  taste  \\\n",
 

       "0         poured into a tulip, it looks a nice golden...  3.00    1.5    1.5   \n",
 

       "1         can served into norrebro bryghus stemware i...  2.50    2.0    2.0   \n",
 

       "2         reviewed from notes 500ml can poured into a...  3.00    1.0    1.0   \n",
 

       "3         rec'd a bottle of this unbidden in a recent...  2.50    2.0    2.0   \n",
 

       "4         heading out on the boat my wife brings home...  3.00    1.0    1.0   \n",
 

       "...                                                  ...   ...    ...    ...   \n",
 

       "27697     5 oz pour into a tasting glass on tap at th...  4.25    4.5    4.5   \n",
 

       "27698     an afternoon of aus beers continued at my a...  4.00    4.0    4.0   \n",
 

       "27699     bottled on: (should be on the bottom right ...  5.00    4.0    4.0   \n",
 

       "27700     appearance - pours a dark reddish caramel w...  4.00    4.0    4.0   \n",
 

       "27701     22 ounce bottle into tulip glass, bottled o...  4.00    4.5    4.0   \n",
 

       "\n",
 

       "       feel  overall  score  has_look  has_smell  has_taste  has_feel  \\\n",
 

       "0       2.0      2.0   1.74      True       True       True      True   \n",
 

       "1       1.5      2.0   1.98      True       True       True      True   \n",
 

       "2       1.5      1.0   1.17      True       True       True      True   \n",
 

       "3       2.0      1.0   1.83      True       True       True      True   \n",
 

       "4       3.0      2.0   1.52      True       True       True      True   \n",
 

       "...     ...      ...    ...       ...        ...        ...       ...   \n",
 

       "27697   4.0      4.5   4.44      True       True       True      True   \n",
 

       "27698   4.0      4.0   4.00      True       True       True      True   \n",
 

       "27699   4.0      4.0   4.06      True       True       True      True   \n",
 

       "27700   4.5      5.0   4.25      True       True       True      True   \n",
 

       "27701   4.0      4.5   4.22      True       True       True      True   \n",
 

       "\n",
 

       "              mentioned_aspects sentiment  \n",
 

       "0      look, smell, taste, feel  negative  \n",
 

       "1      look, smell, taste, feel  negative  \n",
 

       "2      look, smell, taste, feel  negative  \n",
 

       "3      look, smell, taste, feel  negative  \n",
 

       "4      look, smell, taste, feel  negative  \n",
 

       "...                         ...       ...  \n",
 

       "27697  look, smell, taste, feel  positive  \n",
 

       "27698  look, smell, taste, feel  positive  \n",
 

       "27699  look, smell, taste, feel  positive  \n",
 

       "27700  look, smell, taste, feel  positive  \n",
 

       "27701  look, smell, taste, feel  positive  \n",
 

       "\n",
 

       "[27702 rows x 16 columns]"
 

      ]
 

     },
 

     "execution_count": 26,
 

     "metadata": {},
 

     "output_type": "execute_result"
 

    }
 

   ],
 

   "source": [
 

    "df_sampled"
 

   ]
 

  },
 

  {
 

   "cell_type": "code",
 

   "execution_count": 24,
 

   "id": "de8a399e",
 

   "metadata": {},
 

   "outputs": [
 

    {
 

     "data": {
 

      "image/png": "[encoded data removed]",
 

      "text/plain": [
 

       "<Figure size 640x480 with 1 Axes>"
 

      ]
 

     },
 

     "metadata": {},
 

     "output_type": "display_data"
 

    }
 

   ],
 

   "source": [
 

    "sns.countplot(data=df_sampled, x='sentiment')\n",
 

    "plt.title('Sentiment Distribution After Stratified Sampling')\n",
 

    "plt.xlabel('Sentiment')\n",
 

    "plt.ylabel('Count')\n",
 

    "plt.show()"
 

   ]
 

  },
 

  {
 

   "cell_type": "code",
 

   "execution_count": 25,
 

   "id": "7af06a68",
 

   "metadata": {},
 

   "outputs": [
 

    {
 

     "name": "stdout",
 

     "output_type": "stream",
 

     "text": [
 

      "Saved aspect-filtered dataset: 914799 rows → 'reviews_with_all_4_aspects.csv'\n",
 

      "Saved stratified sampled dataset: 27702 rows → 'reviews_stratified_sampled.csv'\n"
 

     ]
 

    }
 

   ],
 

   "source": [
 

    "# Save the aspect-filtered dataset (before sampling)\n",
 

    "df_all_aspects.to_csv('reviews_with_all_4_aspects.csv', index=False)\n",
 

    "print(f\"Saved aspect-filtered dataset: {len(df_all_aspects)} rows → 'reviews_with_all_4_aspects.csv'\")\n",
 

    "\n",
 

    "# Save the stratified sampled dataset\n",
 

    "df_sampled.to_csv('reviews_stratified_sampled.csv', index=False)\n",
 

    "print(f\"Saved stratified sampled dataset: {len(df_sampled)} rows → 'reviews_stratified_sampled.csv'\")\n"
 

   ]
 

  },
 

  {
 

   "cell_type": "code",
 

   "execution_count": 7,
 

   "id": "2516b361b87b0e84",
 

   "metadata": {
 

    "ExecuteTime": {
 

     "end_time": "2025-04-13T17:27:51.098393Z",
 

     "start_time": "2025-04-13T17:27:31.444548Z"
 

    }
 

   },
 

   "outputs": [],
 

   "source": [
 

    "#df_unique.to_csv(\"../data/df_unique.csv\", index=False)"
 

   ]
 

  },
 

  {
 

   "cell_type": "markdown",
 

   "id": "390728b9094085d",
 

   "metadata": {},
 

   "source": [
 

    "# Results\n",
 

    "* The dataset has been filtered to remove redundant strings.\n",
 

    "\n",
 

    "# Next Steps\n",
 

    "Perform the text preprocessing steps needed or described in the outline"
 

   ]
 

  }
 

 ],
 

 "metadata": {
 

  "kernelspec": {
 

   "display_name": "pytorch",
 

   "language": "python",
 

   "name": "python3"
 

  },
 

  "language_info": {
 

   "codemirror_mode": {
 

    "name": "ipython",
 

    "version": 3
 

   },
 

   "file_extension": ".py",
 

   "mimetype": "text/x-python",
 

   "name": "python",
 

   "nbconvert_exporter": "python",
 

   "pygments_lexer": "ipython3",
 

   "version": "3.12.7"
 

  }
 

 },
 

 "nbformat": 4,
 

 "nbformat_minor": 5
 

}