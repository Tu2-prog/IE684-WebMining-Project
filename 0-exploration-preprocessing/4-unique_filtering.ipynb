{
 "cells": [
  {
   "cell_type": "markdown",
   "id": "f89b0caddeab5277",
   "metadata": {},
   "source": [
    "# Filtering out redundant strings"
   ]
  },
  {
   "cell_type": "markdown",
   "id": "4406323fff656312",
   "metadata": {},
   "source": [
    "| Author              | Description                                         |\n",
    "|---------------------|-----------------------------------------------------|\n",
    "| Anh Tu Duong Nguyen | Filter out redundant strings to reduce the size of the dataset |"
   ]
  },
  {
   "cell_type": "code",
   "execution_count": 7,
   "id": "98a5a40471c23fbc",
   "metadata": {
    "ExecuteTime": {
     "end_time": "2025-04-13T17:26:31.750783Z",
     "start_time": "2025-04-13T17:26:30.425247Z"
    }
   },
   "outputs": [],
   "source": [
    "import pandas as pd\n",
    "from textblob import TextBlob\n",
    "from textblob.sentiments import NaiveBayesAnalyzer\n",
    "import dask.dataframe as dd\n",
    "import dask"
   ]
  },
  {
   "cell_type": "code",
   "execution_count": 8,
   "id": "d2ceee25",
   "metadata": {},
   "outputs": [],
   "source": [
    "csv_path = '../data/reviews.csv'"
   ]
  },
  {
   "cell_type": "code",
   "execution_count": 10,
   "id": "a7f22e63b9a69e35",
   "metadata": {
    "ExecuteTime": {
     "end_time": "2025-04-13T17:26:57.718641Z",
     "start_time": "2025-04-13T17:26:31.761528Z"
    }
   },
   "outputs": [
    {
     "data": {
      "text/html": [
       "<div>\n",
       "<style scoped>\n",
       "    .dataframe tbody tr th:only-of-type {\n",
       "        vertical-align: middle;\n",
       "    }\n",
       "\n",
       "    .dataframe tbody tr th {\n",
       "        vertical-align: top;\n",
       "    }\n",
       "\n",
       "    .dataframe thead th {\n",
       "        text-align: right;\n",
       "    }\n",
       "</style>\n",
       "<table border=\"1\" class=\"dataframe\">\n",
       "  <thead>\n",
       "    <tr style=\"text-align: right;\">\n",
       "      <th></th>\n",
       "      <th>beer_id</th>\n",
       "      <th>username</th>\n",
       "      <th>date</th>\n",
       "      <th>text</th>\n",
       "      <th>look</th>\n",
       "      <th>smell</th>\n",
       "      <th>taste</th>\n",
       "      <th>feel</th>\n",
       "      <th>overall</th>\n",
       "      <th>score</th>\n",
       "    </tr>\n",
       "  </thead>\n",
       "  <tbody>\n",
       "    <tr>\n",
       "      <th>0</th>\n",
       "      <td>271781</td>\n",
       "      <td>bluejacket74</td>\n",
       "      <td>2017-03-17</td>\n",
       "      <td>750 ml bottle, 2016 vintage, bottle #304 of...</td>\n",
       "      <td>4.00</td>\n",
       "      <td>4.00</td>\n",
       "      <td>4.00</td>\n",
       "      <td>4.25</td>\n",
       "      <td>4.00</td>\n",
       "      <td>4.03</td>\n",
       "    </tr>\n",
       "    <tr>\n",
       "      <th>1</th>\n",
       "      <td>125646</td>\n",
       "      <td>_dirty_</td>\n",
       "      <td>2017-12-21</td>\n",
       "      <td></td>\n",
       "      <td>4.50</td>\n",
       "      <td>4.50</td>\n",
       "      <td>4.50</td>\n",
       "      <td>4.50</td>\n",
       "      <td>4.50</td>\n",
       "      <td>4.50</td>\n",
       "    </tr>\n",
       "    <tr>\n",
       "      <th>2</th>\n",
       "      <td>125646</td>\n",
       "      <td>CJDUBYA</td>\n",
       "      <td>2017-12-21</td>\n",
       "      <td></td>\n",
       "      <td>4.75</td>\n",
       "      <td>4.75</td>\n",
       "      <td>4.75</td>\n",
       "      <td>4.75</td>\n",
       "      <td>4.75</td>\n",
       "      <td>4.75</td>\n",
       "    </tr>\n",
       "    <tr>\n",
       "      <th>3</th>\n",
       "      <td>125646</td>\n",
       "      <td>GratefulBeerGuy</td>\n",
       "      <td>2017-12-20</td>\n",
       "      <td>0% 16 oz can. Funny story: As I finally wal...</td>\n",
       "      <td>4.75</td>\n",
       "      <td>4.75</td>\n",
       "      <td>4.50</td>\n",
       "      <td>4.50</td>\n",
       "      <td>4.50</td>\n",
       "      <td>4.58</td>\n",
       "    </tr>\n",
       "    <tr>\n",
       "      <th>4</th>\n",
       "      <td>125646</td>\n",
       "      <td>LukeGude</td>\n",
       "      <td>2017-12-20</td>\n",
       "      <td>Classic TH NEIPA. Overflowing head and bouq...</td>\n",
       "      <td>4.25</td>\n",
       "      <td>4.50</td>\n",
       "      <td>4.25</td>\n",
       "      <td>4.25</td>\n",
       "      <td>4.25</td>\n",
       "      <td>4.31</td>\n",
       "    </tr>\n",
       "    <tr>\n",
       "      <th>...</th>\n",
       "      <td>...</td>\n",
       "      <td>...</td>\n",
       "      <td>...</td>\n",
       "      <td>...</td>\n",
       "      <td>...</td>\n",
       "      <td>...</td>\n",
       "      <td>...</td>\n",
       "      <td>...</td>\n",
       "      <td>...</td>\n",
       "      <td>...</td>\n",
       "    </tr>\n",
       "    <tr>\n",
       "      <th>9073123</th>\n",
       "      <td>104824</td>\n",
       "      <td>CTJman</td>\n",
       "      <td>2014-06-08</td>\n",
       "      <td></td>\n",
       "      <td>NaN</td>\n",
       "      <td>NaN</td>\n",
       "      <td>NaN</td>\n",
       "      <td>NaN</td>\n",
       "      <td>NaN</td>\n",
       "      <td>4.00</td>\n",
       "    </tr>\n",
       "    <tr>\n",
       "      <th>9073124</th>\n",
       "      <td>104824</td>\n",
       "      <td>IMSPEAKNOENGLISH</td>\n",
       "      <td>2014-06-06</td>\n",
       "      <td></td>\n",
       "      <td>NaN</td>\n",
       "      <td>NaN</td>\n",
       "      <td>NaN</td>\n",
       "      <td>NaN</td>\n",
       "      <td>NaN</td>\n",
       "      <td>5.00</td>\n",
       "    </tr>\n",
       "    <tr>\n",
       "      <th>9073125</th>\n",
       "      <td>104824</td>\n",
       "      <td>twizzard</td>\n",
       "      <td>2014-06-05</td>\n",
       "      <td></td>\n",
       "      <td>NaN</td>\n",
       "      <td>NaN</td>\n",
       "      <td>NaN</td>\n",
       "      <td>NaN</td>\n",
       "      <td>NaN</td>\n",
       "      <td>5.00</td>\n",
       "    </tr>\n",
       "    <tr>\n",
       "      <th>9073126</th>\n",
       "      <td>104824</td>\n",
       "      <td>bootdown21</td>\n",
       "      <td>2014-06-04</td>\n",
       "      <td></td>\n",
       "      <td>NaN</td>\n",
       "      <td>NaN</td>\n",
       "      <td>NaN</td>\n",
       "      <td>NaN</td>\n",
       "      <td>NaN</td>\n",
       "      <td>4.50</td>\n",
       "    </tr>\n",
       "    <tr>\n",
       "      <th>9073127</th>\n",
       "      <td>104824</td>\n",
       "      <td>Brensol</td>\n",
       "      <td>2014-06-01</td>\n",
       "      <td></td>\n",
       "      <td>NaN</td>\n",
       "      <td>NaN</td>\n",
       "      <td>NaN</td>\n",
       "      <td>NaN</td>\n",
       "      <td>NaN</td>\n",
       "      <td>4.75</td>\n",
       "    </tr>\n",
       "  </tbody>\n",
       "</table>\n",
       "<p>9073128 rows × 10 columns</p>\n",
       "</div>"
      ],
      "text/plain": [
       "         beer_id          username        date  \\\n",
       "0         271781      bluejacket74  2017-03-17   \n",
       "1         125646           _dirty_  2017-12-21   \n",
       "2         125646           CJDUBYA  2017-12-21   \n",
       "3         125646   GratefulBeerGuy  2017-12-20   \n",
       "4         125646          LukeGude  2017-12-20   \n",
       "...          ...               ...         ...   \n",
       "9073123   104824            CTJman  2014-06-08   \n",
       "9073124   104824  IMSPEAKNOENGLISH  2014-06-06   \n",
       "9073125   104824          twizzard  2014-06-05   \n",
       "9073126   104824        bootdown21  2014-06-04   \n",
       "9073127   104824           Brensol  2014-06-01   \n",
       "\n",
       "                                                      text  look  smell  \\\n",
       "0           750 ml bottle, 2016 vintage, bottle #304 of...  4.00   4.00   \n",
       "1                                                           4.50   4.50   \n",
       "2                                                           4.75   4.75   \n",
       "3           0% 16 oz can. Funny story: As I finally wal...  4.75   4.75   \n",
       "4           Classic TH NEIPA. Overflowing head and bouq...  4.25   4.50   \n",
       "...                                                    ...   ...    ...   \n",
       "9073123                                                      NaN    NaN   \n",
       "9073124                                                      NaN    NaN   \n",
       "9073125                                                      NaN    NaN   \n",
       "9073126                                                      NaN    NaN   \n",
       "9073127                                                      NaN    NaN   \n",
       "\n",
       "         taste  feel  overall  score  \n",
       "0         4.00  4.25     4.00   4.03  \n",
       "1         4.50  4.50     4.50   4.50  \n",
       "2         4.75  4.75     4.75   4.75  \n",
       "3         4.50  4.50     4.50   4.58  \n",
       "4         4.25  4.25     4.25   4.31  \n",
       "...        ...   ...      ...    ...  \n",
       "9073123    NaN   NaN      NaN   4.00  \n",
       "9073124    NaN   NaN      NaN   5.00  \n",
       "9073125    NaN   NaN      NaN   5.00  \n",
       "9073126    NaN   NaN      NaN   4.50  \n",
       "9073127    NaN   NaN      NaN   4.75  \n",
       "\n",
       "[9073128 rows x 10 columns]"
      ]
     },
     "execution_count": 10,
     "metadata": {},
     "output_type": "execute_result"
    }
   ],
   "source": [
    "df = pd.read_csv(csv_path)\n",
    "df"
   ]
  },
  {
   "cell_type": "code",
   "execution_count": 11,
   "id": "a572f817273b2f89",
   "metadata": {
    "ExecuteTime": {
     "end_time": "2025-04-13T17:27:03.634447Z",
     "start_time": "2025-04-13T17:26:57.856880Z"
    }
   },
   "outputs": [
    {
     "data": {
      "text/plain": [
       "(2893954, 10)"
      ]
     },
     "execution_count": 11,
     "metadata": {},
     "output_type": "execute_result"
    }
   ],
   "source": [
    "df_unique = df[df['text'].map(df['text'].value_counts()) == 1]\n",
    "df_unique.shape"
   ]
  },
  {
   "cell_type": "code",
   "execution_count": 12,
   "id": "1ab8590f23ea7b45",
   "metadata": {
    "ExecuteTime": {
     "end_time": "2025-04-13T17:27:16.906139Z",
     "start_time": "2025-04-13T17:27:03.700594Z"
    }
   },
   "outputs": [
    {
     "name": "stdout",
     "output_type": "stream",
     "text": [
      "Average number of words per sentence: 114.14884410740461\n"
     ]
    }
   ],
   "source": [
    "average_word_count = df_unique['text'].apply(lambda x: len(str(x).split())).mean()\n",
    "\n",
    "print(f\"Average number of words per sentence: {average_word_count}\")"
   ]
  },
  {
   "cell_type": "code",
   "execution_count": 13,
   "id": "7fe2055b8d11ab1f",
   "metadata": {
    "ExecuteTime": {
     "end_time": "2025-04-13T17:27:31.374425Z",
     "start_time": "2025-04-13T17:27:16.979424Z"
    }
   },
   "outputs": [
    {
     "data": {
      "text/plain": [
       "(1149509, 10)"
      ]
     },
     "execution_count": 13,
     "metadata": {},
     "output_type": "execute_result"
    }
   ],
   "source": [
    "df_unique = df_unique[df_unique['text'].apply(lambda x: len(str(x).split())) >= average_word_count]\n",
    "df_unique.shape"
   ]
  },
  {
   "cell_type": "code",
   "execution_count": 14,
   "id": "5517e4df",
   "metadata": {},
   "outputs": [
    {
     "name": "stdout",
     "output_type": "stream",
     "text": [
      "Saved 1148685 reviews with aspect mentions to 'reviews_with_aspects_filtered.csv'\n"
     ]
    }
   ],
   "source": [
    "import pandas as pd\n",
    "\n",
    "# Define expanded keyword lists for each ABSA-relevant aspect\n",
    "aspect_keywords = {\n",
    "    'look': [\n",
    "        'look', 'appearance', 'color', 'colour', 'head', 'foam', 'lacing', 'clarity',\n",
    "        'hazy', 'opaque', 'transparent', 'visual', 'bubble', 'carbonation', 'layer'\n",
    "    ],\n",
    "    'smell': [\n",
    "        'smell', 'aroma', 'nose', 'scent', 'fragrance', 'odor', 'bouquet',\n",
    "        'sniff', 'whiff', 'malty aroma', 'hoppy aroma'\n",
    "    ],\n",
    "    'taste': [\n",
    "        'taste', 'flavor', 'flavour', 'aftertaste', 'bitterness', 'sweetness',\n",
    "        'sourness', 'dry', 'bitter', 'sweet', 'sour', 'savory', 'malty', 'hoppy',\n",
    "        'balanced', 'burnt', 'roasty', 'yeasty', 'complex'\n",
    "    ],\n",
    "    'feel': [\n",
    "        'feel', 'mouthfeel', 'texture', 'body', 'weight', 'creaminess',\n",
    "        'smoothness', 'carbonation', 'coating', 'slick', 'watery', 'full-bodied',\n",
    "        'astringent', 'dryness', 'crisp', 'tingle'\n",
    "    ]\n",
    "}\n",
    "\n",
    "# Convert all text to lowercase for consistent matching\n",
    "df_unique['text'] = df_unique['text'].astype(str).str.lower()\n",
    "\n",
    "# Create a boolean mask identifying whether each text contains at least one aspect keyword\n",
    "aspect_mask = df_unique['text'].apply(\n",
    "    lam