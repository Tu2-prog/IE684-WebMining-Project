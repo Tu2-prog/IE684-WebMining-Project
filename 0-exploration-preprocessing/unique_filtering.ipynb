{
 "cells": [
  {
   "metadata": {
    "ExecuteTime": {
     "end_time": "2025-04-13T17:26:31.750783Z",
     "start_time": "2025-04-13T17:26:30.425247Z"
    }
   },
   "cell_type": "code",
   "source": [
    "import pandas as pd\n",
    "from textblob import TextBlob\n",
    "from textblob.sentiments import NaiveBayesAnalyzer"
   ],
   "id": "98a5a40471c23fbc",
   "outputs": [],
   "execution_count": 1
  },
  {
   "metadata": {
    "ExecuteTime": {
     "end_time": "2025-04-13T17:26:57.718641Z",
     "start_time": "2025-04-13T17:26:31.761528Z"
    }
   },
   "cell_type": "code",
   "source": [
    "df = pd.read_csv('../data/cleaned_reviews_without_emojis.csv')\n",
    "df"
   ],
   "id": "a7f22e63b9a69e35",
   "outputs": [
    {
     "data": {
      "text/plain": [
       "         beer_id         username        date  \\\n",
       "0         271781     bluejacket74  2017-03-17   \n",
       "1         125646  GratefulBeerGuy  2017-12-20   \n",
       "2         125646         LukeGude  2017-12-20   \n",
       "3         125646             MFMB  2017-12-16   \n",
       "4         125646      jngrizzaffi  2017-12-10   \n",
       "...          ...              ...         ...   \n",
       "2987986    58482           smcolw  2009-08-22   \n",
       "2987987    58482    firkinhophead  2009-08-21   \n",
       "2987988    58482          CHADMC3  2009-08-21   \n",
       "2987989   104824     zookerman182  2014-06-24   \n",
       "2987990   104824        Hesscabob  2014-06-18   \n",
       "\n",
       "                                                      text  look  smell  \\\n",
       "0        750 ml bottle, 2016 vintage, bottle #304 of 36...  4.00   4.00   \n",
       "1        0% 16 oz can. Funny story: As I finally walked...  4.75   4.75   \n",
       "2        Classic TH NEIPA. Overflowing head and bouquet...  4.25   4.50   \n",
       "3        Pours a creamy opaque light straw yellow with ...  4.75   4.50   \n",
       "4        Pours a cloudy yellow color with a thin foamy ...  4.50   4.50   \n",
       "...                                                    ...   ...    ...   \n",
       "2987986  Large chalky white head. Leaves lots of spotty...  4.00   3.50   \n",
       "2987987  pours a hazy, almost cloudy, autumn gold. Appa...  3.50   4.00   \n",
       "2987988  Pours a hazy golden/orange to copper with a bi...  4.00   4.00   \n",
       "2987989  Appearance is dark dark brown with a half fing...  4.25   4.75   \n",
       "2987990  Shared botte. A - Murky, brown, hardly any lig...  4.00   5.00   \n",
       "\n",
       "         taste  feel  overall  score sentiment  \n",
       "0         4.00  4.25     4.00   4.03  positive  \n",
       "1         4.50  4.50     4.50   4.58  positive  \n",
       "2         4.25  4.25     4.25   4.31  positive  \n",
       "3         4.50  4.50     4.50   4.52  positive  \n",
       "4         4.50  4.75     4.50   4.53  positive  \n",
       "...        ...   ...      ...    ...       ...  \n",
       "2987986   3.50  4.00     3.50   3.58   neutral  \n",
       "2987987   4.00  3.50     4.00   3.92   neutral  \n",
       "2987988   3.50  4.00     4.00   3.80   neutral  \n",
       "2987989   4.25  4.00     4.25   4.35  positive  \n",
       "2987990   4.75  4.25     4.50   4.67  positive  \n",
       "\n",
       "[2987991 rows x 11 columns]"
      ],
      "text/html": [
       "<div>\n",
       "<style scoped>\n",
       "    .dataframe tbody tr th:only-of-type {\n",
       "        vertical-align: middle;\n",
       "    }\n",
       "\n",
       "    .dataframe tbody tr th {\n",
       "        vertical-align: top;\n",
       "    }\n",
       "\n",
       "    .dataframe thead th {\n",
       "        text-align: right;\n",
       "    }\n",
       "</style>\n",
       "<table border=\"1\" class=\"dataframe\">\n",
       "  <thead>\n",
       "    <tr style=\"text-align: right;\">\n",
       "      <th></th>\n",
       "      <th>beer_id</th>\n",
       "      <th>username</th>\n",
       "      <th>date</th>\n",
       "      <th>text</th>\n",
       "      <th>look</th>\n",
       "      <th>smell</th>\n",
       "      <th>taste</th>\n",
       "      <th>feel</th>\n",
       "      <th>overall</th>\n",
       "      <th>score</th>\n",
       "      <th>sentiment</th>\n",
       "    </tr>\n",
       "  </thead>\n",
       "  <tbody>\n",
       "    <tr>\n",
       "      <th>0</th>\n",
       "      <td>271781</td>\n",
       "      <td>bluejacket74</td>\n",
       "      <td>2017-03-17</td>\n",
       "      <td>750 ml bottle, 2016 vintage, bottle #304 of 36...</td>\n",
       "      <td>4.00</td>\n",
       "      <td>4.00</td>\n",
       "      <td>4.00</td>\n",
       "      <td>4.25</td>\n",
       "      <td>4.00</td>\n",
       "      <td>4.03</td>\n",
       "      <td>positive</td>\n",
       "    </tr>\n",
       "    <tr>\n",
       "      <th>1</th>\n",
       "      <td>125646</td>\n",
       "      <td>GratefulBeerGuy</td>\n",
       "      <td>2017-12-20</td>\n",
       "      <td>0% 16 oz can. Funny story: As I finally walked...</td>\n",
       "      <td>4.75</td>\n",
       "      <td>4.75</td>\n",
       "      <td>4.50</td>\n",
       "      <td>4.50</td>\n",
       "      <td>4.50</td>\n",
       "      <td>4.58</td>\n",
       "      <td>positive</td>\n",
       "    </tr>\n",
       "    <tr>\n",
       "      <th>2</th>\n",
       "      <td>125646</td>\n",
       "      <td>LukeGude</td>\n",
       "      <td>2017-12-20</td>\n",
       "      <td>Classic TH NEIPA. Overflowing head and bouquet...</td>\n",
       "      <td>4.25</td>\n",
       "      <td>4.50</td>\n",
       "      <td>4.25</td>\n",
       "      <td>4.25</td>\n",
       "      <td>4.25</td>\n",
       "      <td>4.31</td>\n",
       "      <td>positive</td>\n",
       "    </tr>\n",
       "    <tr>\n",
       "      <th>3</th>\n",
       "      <td>125646</td>\n",
       "      <td>MFMB</td>\n",
       "      <td>2017-12-16</td>\n",
       "      <td>Pours a creamy opaque light straw yellow with ...</td>\n",
       "      <td>4.75</td>\n",
       "      <td>4.50</td>\n",
       "      <td>4.50</td>\n",
       "      <td>4.50</td>\n",
       "      <td>4.50</td>\n",
       "      <td>4.52</td>\n",
       "      <td>positive</td>\n",
       "    </tr>\n",
       "    <tr>\n",
       "      <th>4</th>\n",
       "      <td>125646</td>\n",
       "      <td>jngrizzaffi</td>\n",
       "      <td>2017-12-10</td>\n",
       "      <td>Pours a cloudy yellow color with a thin foamy ...</td>\n",
       "      <td>4.50</td>\n",
       "      <td>4.50</td>\n",
       "      <td>4.50</td>\n",
       "      <td>4.75</td>\n",
       "      <td>4.50</td>\n",
       "      <td>4.53</td>\n",
       "      <td>positive</td>\n",
       "    </tr>\n",
       "    <tr>\n",
       "      <th>...</th>\n",
       "      <td>...</td>\n",
       "      <td>...</td>\n",
       "      <td>...</td>\n",
       "      <td>...</td>\n",
       "      <td>...</td>\n",
       "      <td>...</td>\n",
       "      <td>...</td>\n",
       "      <td>...</td>\n",
       "      <td>...</td>\n",
       "      <td>...</td>\n",
       "      <td>...</td>\n",
       "    </tr>\n",
       "    <tr>\n",
       "      <th>2987986</th>\n",
       "      <td>58482</td>\n",
       "      <td>smcolw</td>\n",
       "      <td>2009-08-22</td>\n",
       "      <td>Large chalky white head. Leaves lots of spotty...</td>\n",
       "      <td>4.00</td>\n",
       "      <td>3.50</td>\n",
       "      <td>3.50</td>\n",
       "      <td>4.00</td>\n",
       "      <td>3.50</td>\n",
       "      <td>3.58</td>\n",
       "      <td>neutral</td>\n",
       "    </tr>\n",
       "    <tr>\n",
       "      <th>2987987</th>\n",
       "      <td>58482</td>\n",
       "      <td>firkinhophead</td>\n",
       "      <td>2009-08-21</td>\n",
       "      <td>pours a hazy, almost cloudy, autumn gold. Appa...</td>\n",
       "      <td>3.50</td>\n",
       "      <td>4.00</td>\n",
       "      <td>4.00</td>\n",
       "      <td>3.50</td>\n",
       "      <td>4.00</td>\n",
       "      <td>3.92</td>\n",
       "      <td>neutral</td>\n",
       "    </tr>\n",
       "    <tr>\n",
       "      <th>2987988</th>\n",
       "      <td>58482</td>\n",
       "      <td>CHADMC3</td>\n",
       "      <td>2009-08-21</td>\n",
       "      <td>Pours a hazy golden/orange to copper with a bi...</td>\n",
       "      <td>4.00</td>\n",
       "      <td>4.00</td>\n",
       "      <td>3.50</td>\n",
       "      <td>4.00</td>\n",
       "      <td>4.00</td>\n",
       "      <td>3.80</td>\n",
       "      <td>neutral</td>\n",
       "    </tr>\n",
       "    <tr>\n",
       "      <th>2987989</th>\n",
       "      <td>104824</td>\n",
       "      <td>zookerman182</td>\n",
       "      <td>2014-06-24</td>\n",
       "      <td>Appearance is dark dark brown with a half fing...</td>\n",
       "      <td>4.25</td>\n",
       "      <td>4.75</td>\n",
       "      <td>4.25</td>\n",
       "      <td>4.00</td>\n",
       "      <td>4.25</td>\n",
       "      <td>4.35</td>\n",
       "      <td>positive</td>\n",
       "    </tr>\n",
       "    <tr>\n",
       "      <th>2987990</th>\n",
       "      <td>104824</td>\n",
       "      <td>Hesscabob</td>\n",
       "      <td>2014-06-18</td>\n",
       "      <td>Shared botte. A - Murky, brown, hardly any lig...</td>\n",
       "      <td>4.00</td>\n",
       "      <td>5.00</td>\n",
       "      <td>4.75</td>\n",
       "      <td>4.25</td>\n",
       "      <td>4.50</td>\n",
       "      <td>4.67</td>\n",
       "      <td>positive</td>\n",
       "    </tr>\n",
       "  </tbody>\n",
       "</table>\n",
       "<p>2987991 rows × 11 columns</p>\n",
       "</div>"
      ]
     },
     "execution_count": 2,
     "metadata": {},
     "output_type": "execute_result"
    }
   ],
   "execution_count": 2
  },
  {
   "metadata": {
    "ExecuteTime": {
     "end_time": "2025-04-13T17:27:03.634447Z",
     "start_time": "2025-04-13T17:26:57.856880Z"
    }
   },
   "cell_type": "code",
   "source": [
    "df_unique = df[df['text'].map(df['text'].value_counts()) == 1]\n",
    "df_unique.shape"
   ],
   "id": "a572f817273b2f89",
   "outputs": [
    {
     "data": {
      "text/plain": [
       "(2893953, 11)"
      ]
     },
     "execution_count": 3,
     "metadata": {},
     "output_type": "execute_result"
    }
   ],
   "execution_count": 3
  },
  {
   "metadata": {
    "ExecuteTime": {
     "end_time": "2025-04-13T17:27:16.906139Z",
     "start_time": "2025-04-13T17:27:03.700594Z"
    }
   },
   "cell_type": "code",
   "source": [
    "average_word_count = df_unique['text'].apply(lambda x: len(str(x).split())).mean()\n",
    "\n",
    "print(f\"Average number of words per sentence: {average_word_count}\")"
   ],
   "id": "1ab8590f23ea7b45",
   "outputs": [
    {
     "name": "stdout",
     "output_type": "stream",
     "text": [
      "Average number of words per sentence: 114.1488465776742\n"
     ]
    }
   ],
   "execution_count": 4
  },
  {
   "metadata": {
    "ExecuteTime": {
     "end_time": "2025-04-13T17:27:31.374425Z",
     "start_time": "2025-04-13T17:27:16.979424Z"
    }
   },
   "cell_type": "code",
   "source": [
    "df_unique = df_unique[df_unique['text'].apply(lambda x: len(str(x).split())) >= average_word_count]\n",
    "df_unique.shape"
   ],
   "id": "7fe2055b8d11ab1f",
   "outputs": [
    {
     "data": {
      "text/plain": [
       "(1149509, 11)"
      ]
     },
     "execution_count": 5,
     "metadata": {},
     "output_type": "execute_result"
    }
   ],
   "execution_count": 5
  },
  {
   "metadata": {
    "ExecuteTime": {
     "end_time": "2025-04-13T17:27:51.098393Z",
     "start_time": "2025-04-13T17:27:31.444548Z"
    }
   },
   "cell_type": "code",
   "source": "df_unique.to_csv(\"../data/df_unique.csv\", index=False)",
   "id": "2516b361b87b0e84",
   "outputs": [],
   "execution_count": 6
  }
 ],
 "metadata": {
  "kernelspec": {
   "display_name": "Python 3",
   "language": "python",
   "name": "python3"
  },
  "language_info": {
   "codemirror_mode": {
    "name": "ipython",
    "version": 2
   },
   "file_extension": ".py",
   "mimetype": "text/x-python",
   "name": "python",
   "nbconvert_exporter": "python",
   "pygments_lexer": "ipython2",
   "version": "2.7.6"
  }
 },
 "nbformat": 4,
 "nbformat_minor": 5
}
