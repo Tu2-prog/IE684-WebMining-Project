{
 "cells": [
  {
   "metadata": {},
   "cell_type": "markdown",
   "source": "# First Sentiment Analysis",
   "id": "d29d2537fc5018f7"
  },
  {
   "metadata": {},
   "cell_type": "markdown",
   "source": [
    "| Author              | Description                                                                                                      |\n",
    "|---------------------|------------------------------------------------------------------------------------------------------------------|\n",
    "| Anh Tu Duong Nguyen | Using Sentiment Analysis to filter out suspicious reviews that do not match up with the assigned sentiment class |\n"
   ],
   "id": "4261595a67b21ec0"
  },
  {
   "cell_type": "code",
   "id": "initial_id",
   "metadata": {
    "collapsed": true,
    "ExecuteTime": {
     "end_time": "2025-04-15T18:43:32.979430Z",
     "start_time": "2025-04-15T18:43:32.967782Z"
    }
   },
   "source": [
    "import pandas as pd\n",
    "from transformers import pipeline\n",
    "import swifter"
   ],
   "outputs": [],
   "execution_count": 9
  },
  {
   "metadata": {
    "ExecuteTime": {
     "end_time": "2025-04-15T18:43:41.053663Z",
     "start_time": "2025-04-15T18:43:33.026282Z"
    }
   },
   "cell_type": "code",
   "source": [
    "df = pd.read_csv('../data/df_stem_text.csv')\n",
    "df"
   ],
   "id": "5b985190305e38e8",
   "outputs": [
    {
     "data": {
      "text/plain": [
       "         beer_id         username        date  \\\n",
       "0         271781     bluejacket74  2017-03-17   \n",
       "1         125646  GratefulBeerGuy  2017-12-20   \n",
       "2         150672        KingHoppy  2015-08-14   \n",
       "3         150672      biboergosum  2014-12-26   \n",
       "4         104824          Fcolle2  2014-05-27   \n",
       "...          ...              ...         ...   \n",
       "1149504    58482              DIM  2009-09-04   \n",
       "1149505    58482      jdaelhousen  2009-08-28   \n",
       "1149506    58482       beerthulhu  2009-08-24   \n",
       "1149507    58482    firkinhophead  2009-08-21   \n",
       "1149508    58482          CHADMC3  2009-08-21   \n",
       "\n",
       "                                                      text  look  smell  \\\n",
       "0        750 ml bottl , 2016 vintag , bottl # 304 360. ...  4.00   4.00   \n",
       "1        0 % 16 oz can . funni stori : final walk door ...  4.75   4.75   \n",
       "2        pass swift current sk , stop origin joe 's lat...  4.00   4.00   \n",
       "3        355ml can , latest nascent craft breweri swift...  3.75   4.25   \n",
       "4        batch 209 pour thick dark viscou black color t...  4.25   4.75   \n",
       "...                                                    ...   ...    ...   \n",
       "1149504  a : hazi light coperi color golden edg . pour ...  4.00   4.00   \n",
       "1149505  pour produc solid contribut bodi head . perfec...  4.00   5.00   \n",
       "1149506  a : pour pumpkin pie orang gold hightlight swi...  4.00   3.00   \n",
       "1149507  pour hazi , almost cloudi , autumn gold . appa...  3.50   4.00   \n",
       "1149508  pour hazi golden/orang copper big white head p...  4.00   4.00   \n",
       "\n",
       "         taste  feel  overall  score sentiment  \n",
       "0          4.0  4.25     4.00   4.03  positive  \n",
       "1          4.5  4.50     4.50   4.58  positive  \n",
       "2          4.5  4.25     4.25   4.28  positive  \n",
       "3          4.0  3.75     3.75   3.97   neutral  \n",
       "4          4.5  4.75     4.50   4.57  positive  \n",
       "...        ...   ...      ...    ...       ...  \n",
       "1149504    3.5  3.00     3.50   3.60   neutral  \n",
       "1149505    4.5  4.00     4.00   4.44  positive  \n",
       "1149506    4.0  3.50     3.50   3.61   neutral  \n",
       "1149507    4.0  3.50     4.00   3.92   neutral  \n",
       "1149508    3.5  4.00     4.00   3.80   neutral  \n",
       "\n",
       "[1149509 rows x 11 columns]"
      ],
      "text/html": [
       "<div>\n",
       "<style scoped>\n",
       "    .dataframe tbody tr th:only-of-type {\n",
       "        vertical-align: middle;\n",
       "    }\n",
       "\n",
       "    .dataframe tbody tr th {\n",
       "        vertical-align: top;\n",
       "    }\n",
       "\n",
       "    .dataframe thead th {\n",
       "        text-align: right;\n",
       "    }\n",
       "</style>\n",
       "<table border=\"1\" class=\"dataframe\">\n",
       "  <thead>\n",
       "    <tr style=\"text-align: right;\">\n",
       "      <th></th>\n",
       "      <th>beer_id</th>\n",
       "      <th>username</th>\n",
       "      <th>date</th>\n",
       "      <th>text</th>\n",
       "      <th>look</th>\n",
       "      <th>smell</th>\n",
       "      <th>taste</th>\n",
       "      <th>feel</th>\n",
       "      <th>overall</th>\n",
       "      <th>score</th>\n",
       "      <th>sentiment</th>\n",
       "    </tr>\n",
       "  </thead>\n",
       "  <tbody>\n",
       "    <tr>\n",
       "      <th>0</th>\n",
       "      <td>271781</td>\n",
       "      <td>bluejacket74</td>\n",
       "      <td>2017-03-17</td>\n",
       "      <td>750 ml bottl , 2016 vintag , bottl # 304 360. ...</td>\n",
       "      <td>4.00</td>\n",
       "      <td>4.00</td>\n",
       "      <td>4.0</td>\n",
       "      <td>4.25</td>\n",
       "      <td>4.00</td>\n",
       "      <td>4.03</td>\n",
       "      <td>positive</td>\n",
       "    </tr>\n",
       "    <tr>\n",
       "      <th>1</th>\n",
       "      <td>125646</td>\n",
       "      <td>GratefulBeerGuy</td>\n",
       "      <td>2017-12-20</td>\n",
       "      <td>0 % 16 oz can . funni stori : final walk door ...</td>\n",
       "      <td>4.75</td>\n",
       "      <td>4.75</td>\n",
       "      <td>4.5</td>\n",
       "      <td>4.50</td>\n",
       "      <td>4.50</td>\n",
       "      <td>4.58</td>\n",
       "      <td>positive</td>\n",
       "    </tr>\n",
       "    <tr>\n",
       "      <th>2</th>\n",
       "      <td>150672</td>\n",
       "      <td>KingHoppy</td>\n",
       "      <td>2015-08-14</td>\n",
       "      <td>pass swift current sk , stop origin joe 's lat...</td>\n",
       "      <td>4.00</td>\n",
       "      <td>4.00</td>\n",
       "      <td>4.5</td>\n",
       "      <td>4.25</td>\n",
       "      <td>4.25</td>\n",
       "      <td>4.28</td>\n",
       "      <td>positive</td>\n",
       "    </tr>\n",
       "    <tr>\n",
       "      <th>3</th>\n",
       "      <td>150672</td>\n",
       "      <td>biboergosum</td>\n",
       "      <td>2014-12-26</td>\n",
       "      <td>355ml can , latest nascent craft breweri swift...</td>\n",
       "      <td>3.75</td>\n",
       "      <td>4.25</td>\n",
       "      <td>4.0</td>\n",
       "      <td>3.75</td>\n",
       "      <td>3.75</td>\n",
       "      <td>3.97</td>\n",
       "      <td>neutral</td>\n",
       "    </tr>\n",
       "    <tr>\n",
       "      <th>4</th>\n",
       "      <td>104824</td>\n",
       "      <td>Fcolle2</td>\n",
       "      <td>2014-05-27</td>\n",
       "      <td>batch 209 pour thick dark viscou black color t...</td>\n",
       "      <td>4.25</td>\n",
       "      <td>4.75</td>\n",
       "      <td>4.5</td>\n",
       "      <td>4.75</td>\n",
       "      <td>4.50</td>\n",
       "      <td>4.57</td>\n",
       "      <td>positive</td>\n",
       "    </tr>\n",
       "    <tr>\n",
       "      <th>...</th>\n",
       "      <td>...</td>\n",
       "      <td>...</td>\n",
       "      <td>...</td>\n",
       "      <td>...</td>\n",
       "      <td>...</td>\n",
       "      <td>...</td>\n",
       "      <td>...</td>\n",
       "      <td>...</td>\n",
       "      <td>...</td>\n",
       "      <td>...</td>\n",
       "      <td>...</td>\n",
       "    </tr>\n",
       "    <tr>\n",
       "      <th>1149504</th>\n",
       "      <td>58482</td>\n",
       "      <td>DIM</td>\n",
       "      <td>2009-09-04</td>\n",
       "      <td>a : hazi light coperi color golden edg . pour ...</td>\n",
       "      <td>4.00</td>\n",
       "      <td>4.00</td>\n",
       "      <td>3.5</td>\n",
       "      <td>3.00</td>\n",
       "      <td>3.50</td>\n",
       "      <td>3.60</td>\n",
       "      <td>neutral</td>\n",
       "    </tr>\n",
       "    <tr>\n",
       "      <th>1149505</th>\n",
       "      <td>58482</td>\n",
       "      <td>jdaelhousen</td>\n",
       "      <td>2009-08-28</td>\n",
       "      <td>pour produc solid contribut bodi head . perfec...</td>\n",
       "      <td>4.00</td>\n",
       "      <td>5.00</td>\n",
       "      <td>4.5</td>\n",
       "      <td>4.00</td>\n",
       "      <td>4.00</td>\n",
       "      <td>4.44</td>\n",
       "      <td>positive</td>\n",
       "    </tr>\n",
       "    <tr>\n",
       "      <th>1149506</th>\n",
       "      <td>58482</td>\n",
       "      <td>beerthulhu</td>\n",
       "      <td>2009-08-24</td>\n",
       "      <td>a : pour pumpkin pie orang gold hightlight swi...</td>\n",
       "      <td>4.00</td>\n",
       "      <td>3.00</td>\n",
       "      <td>4.0</td>\n",
       "      <td>3.50</td>\n",
       "      <td>3.50</td>\n",
       "      <td>3.61</td>\n",
       "      <td>neutral</td>\n",
       "    </tr>\n",
       "    <tr>\n",
       "      <th>1149507</th>\n",
       "      <td>58482</td>\n",
       "      <td>firkinhophead</td>\n",
       "      <td>2009-08-21</td>\n",
       "      <td>pour hazi , almost cloudi , autumn gold . appa...</td>\n",
       "      <td>3.50</td>\n",
       "      <td>4.00</td>\n",
       "      <td>4.0</td>\n",
       "      <td>3.50</td>\n",
       "      <td>4.00</td>\n",
       "      <td>3.92</td>\n",
       "      <td>neutral</td>\n",
       "    </tr>\n",
       "    <tr>\n",
       "      <th>1149508</th>\n",
       "      <td>58482</td>\n",
       "      <td>CHADMC3</td>\n",
       "      <td>2009-08-21</td>\n",
       "      <td>pour hazi golden/orang copper big white head p...</td>\n",
       "      <td>4.00</td>\n",
       "      <td>4.00</td>\n",
       "      <td>3.5</td>\n",
       "      <td>4.00</td>\n",
       "      <td>4.00</td>\n",
       "      <td>3.80</td>\n",
       "      <td>neutral</td>\n",
       "    </tr>\n",
       "  </tbody>\n",
       "</table>\n",
       "<p>1149509 rows × 11 columns</p>\n",
       "</div>"
      ]
     },
     "execution_count": 10,
     "metadata": {},
     "output_type": "execute_result"
    }
   ],
   "execution_count": 10
  },
  {
   "metadata": {
    "ExecuteTime": {
     "end_time": "2025-04-15T19:08:13.397938Z",
     "start_time": "2025-04-15T18:43:41.108942Z"
    }
   },
   "cell_type": "code",
   "source": [
    "from tqdm import tqdm\n",
    "tqdm.pandas()\n",
    "import swifter\n",
    "from nltk.sentiment import SentimentIntensityAnalyzer\n",
    "import nltk\n",
    "nltk.download('vader_lexicon')\n",
    "\n",
    "sia = SentimentIntensityAnalyzer()\n",
    "\n",
    "def get_vader_sentiment(text):\n",
    "    score = sia.polarity_scores(text)['compound']\n",
    "    match score:\n",
    "        case _ if score > 0:\n",
    "            return 'positive'\n",
    "        case _ if score < 0:\n",
    "            return 'negative'\n",
    "        case _ if score == 0:\n",
    "            return 'neutral'\n",
    "\n",
    "def get_vader_sentiment_score(text):\n",
    "    score = sia.polarity_scores(text)['compound']\n",
    "    return score\n",
    "\n",
    "df['vader_prediction'], df['vader_sentiment_score'] = df['text'].swifter.apply(get_vader_sentiment), df[\"text\"].swifter.apply(get_vader_sentiment_score)"
   ],
   "id": "2d4969fd47e498ee",
   "outputs": [
    {
     "name": "stderr",
     "output_type": "stream",
     "text": [
      "[nltk_data] Downloading package vader_lexicon to\n",
      "[nltk_data]     /home/tu2/nltk_data...\n",
      "[nltk_data]   Package vader_lexicon is already up-to-date!\n"
     ]
    },
    {
     "data": {
      "text/plain": [
       "Pandas Apply:   0%|          | 0/1149509 [00:00<?, ?it/s]"
      ],
      "application/vnd.jupyter.widget-view+json": {
       "version_major": 2,
       "version_minor": 0,
       "model_id": "ce7da27d4f374602a676ed6128ab1cbf"
      }
     },
     "metadata": {},
     "output_type": "display_data"
    },
    {
     "data": {
      "text/plain": [
       "Pandas Apply:   0%|          | 0/1149509 [00:00<?, ?it/s]"
      ],
      "application/vnd.jupyter.widget-view+json": {
       "version_major": 2,
       "version_minor": 0,
       "model_id": "13708435144943dab4f63ea5fd41a850"
      }
     },
     "metadata": {},
     "output_type": "display_data"
    }
   ],
   "execution_count": 11
  },
  {
   "metadata": {
    "ExecuteTime": {
     "end_time": "2025-04-15T19:08:30.747779Z",
     "start_time": "2025-04-15T19:08:13.476761Z"
    }
   },
   "cell_type": "code",
   "source": [
    "mismatch_df = df[df['vader_prediction'] != df['sentiment']]\n",
    "match_df = df[df['vader_prediction'] == df['sentiment']]\n",
    "mismatch_df.to_csv(\"../data/mismatch_df.csv\", index=False)\n",
    "match_df.to_csv(\"../data/match_df.csv\", index=False)"
   ],
   "id": "89dbc65957493e5a",
   "outputs": [],
   "execution_count": 12
  },
  {
   "metadata": {
    "ExecuteTime": {
     "end_time": "2025-04-15T19:08:30.758665Z",
     "start_time": "2025-04-15T19:08:30.756829Z"
    }
   },
   "cell_type": "code",
   "source": "df.to_csv(\"../data/df_vader.csv\", index=False)",
   "id": "c4f803caec63622f",
   "outputs": [],
   "execution_count": 12
  },
  {
   "metadata": {},
   "cell_type": "markdown",
   "source": [
    "# Results\n",
    "* First simple sentiment analysis using vader library of nltk\n",
    "* There was a split into a dataset where the sentiment matched and where the sentiment did not match\n",
    "\n",
    "# Next Steps\n",
    "* Maybe use some more sophisticated method like BERT\n",
    "* Note: BERT was very slow on local machine -> Maybe someone with more compute can do this ;)\n",
    "* Analysis the mismatches to see if there are other reasons for the mismatch\n"
   ],
   "id": "5037ed599ff10c28"
  }
 ],
 "metadata": {
  "kernelspec": {
   "display_name": "Python 3",
   "language": "python",
   "name": "python3"
  },
  "language_info": {
   "codemirror_mode": {
    "name": "ipython",
    "version": 2
   },
   "file_extension": ".py",
   "mimetype": "text/x-python",
   "name": "python",
   "nbconvert_exporter": "python",
   "pygments_lexer": "ipython2",
   "version": "2.7.6"
  }
 },
 "nbformat": 4,
 "nbformat_minor": 5
}
