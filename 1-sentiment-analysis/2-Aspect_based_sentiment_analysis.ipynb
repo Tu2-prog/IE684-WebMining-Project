{
 "cells": [
  {
   "cell_type": "code",
   "execution_count": 1,
   "metadata": {},
   "outputs": [
    {
     "name": "stdout",
     "output_type": "stream",
     "text": [
      "Requirement already satisfied: pyabsa in /opt/homebrew/anaconda3/envs/pytorch/lib/python3.12/site-packages (2.4.1.post1)\n",
      "Requirement already satisfied: findfile>=2.0.0 in /opt/homebrew/anaconda3/envs/pytorch/lib/python3.12/site-packages (from pyabsa) (2.0.1)\n",
      "Requirement already satisfied: autocuda>=0.16 in /opt/homebrew/anaconda3/envs/pytorch/lib/python3.12/site-packages (from pyabsa) (0.16)\n",
      "Requirement already satisfied: metric-visualizer>=0.9.6 in /opt/homebrew/anaconda3/envs/pytorch/lib/python3.12/site-packages (from pyabsa) (0.9.17)\n",
      "Requirement already satisfied: boostaug>=2.3.5 in /opt/homebrew/anaconda3/envs/pytorch/lib/python3.12/site-packages (from pyabsa) (2.3.5)\n",
      "Requirement already satisfied: spacy in /opt/homebrew/anaconda3/envs/pytorch/lib/python3.12/site-packages (from pyabsa) (3.8.4)\n",
      "Requirement already satisfied: networkx in /opt/homebrew/anaconda3/envs/pytorch/lib/python3.12/site-packages (from pyabsa) (3.4.2)\n",
      "Requirement already satisfied: seqeval in /opt/homebrew/anaconda3/envs/pytorch/lib/python3.12/site-packages (from pyabsa) (1.2.2)\n",
      "Requirement already satisfied: update-checker in /opt/homebrew/anaconda3/envs/pytorch/lib/python3.12/site-packages (from pyabsa) (0.18.0)\n",
      "Requirement already satisfied: typing-extensions in /opt/homebrew/anaconda3/envs/pytorch/lib/python3.12/site-packages (from pyabsa) (4.12.2)\n",
      "Requirement already satisfied: tqdm in /opt/homebrew/anaconda3/envs/pytorch/lib/python3.12/site-packages (from pyabsa) (4.67.1)\n",
      "Requirement already satisfied: pytorch-warmup in /opt/homebrew/anaconda3/envs/pytorch/lib/python3.12/site-packages (from pyabsa) (0.2.0)\n",
      "Requirement already satisfied: termcolor in /opt/homebrew/anaconda3/envs/pytorch/lib/python3.12/site-packages (from pyabsa) (3.1.0)\n",
      "Requirement already satisfied: gitpython in /opt/homebrew/anaconda3/envs/pytorch/lib/python3.12/site-packages (from pyabsa) (3.1.44)\n",
      "Collecting transformers>=4.18.0 (from pyabsa)\n",
      "  Using cached transformers-4.51.3-py3-none-any.whl.metadata (38 kB)\n",
      "Requirement already satisfied: torch>=1.0.0 in /opt/homebrew/anaconda3/envs/pytorch/lib/python3.12/site-packages (from pyabsa) (2.6.0)\n",
      "Requirement already satisfied: sentencepiece in /opt/homebrew/anaconda3/envs/pytorch/lib/python3.12/site-packages (from pyabsa) (0.2.0)\n",
      "Requirement already satisfied: protobuf<4.0.0 in /opt/homebrew/anaconda3/envs/pytorch/lib/python3.12/site-packages (from pyabsa) (3.20.3)\n",
      "Requirement already satisfied: pandas in /opt/homebrew/anaconda3/envs/pytorch/lib/python3.12/site-packages (from pyabsa) (2.2.3)\n",
      "Requirement already satisfied: matplotlib>=3.6.3 in /opt/homebrew/anaconda3/envs/pytorch/lib/python3.12/site-packages (from metric-visualizer>=0.9.6->pyabsa) (3.10.0)\n",
      "Requirement already satisfied: tikzplotlib in /opt/homebrew/anaconda3/envs/pytorch/lib/python3.12/site-packages (from metric-visualizer>=0.9.6->pyabsa) (0.10.1)\n",
      "Requirement already satisfied: scipy in /opt/homebrew/anaconda3/envs/pytorch/lib/python3.12/site-packages (from metric-visualizer>=0.9.6->pyabsa) (1.13.1)\n",
      "Requirement already satisfied: tabulate in /opt/homebrew/anaconda3/envs/pytorch/lib/python3.12/site-packages (from metric-visualizer>=0.9.6->pyabsa) (0.9.0)\n",
      "Requirement already satisfied: natsort in /opt/homebrew/anaconda3/envs/pytorch/lib/python3.12/site-packages (from metric-visualizer>=0.9.6->pyabsa) (8.4.0)\n",
      "Requirement already satisfied: numpy in /opt/homebrew/anaconda3/envs/pytorch/lib/python3.12/site-packages (from metric-visualizer>=0.9.6->pyabsa) (1.26.4)\n",
      "Requirement already satisfied: click in /opt/homebrew/anaconda3/envs/pytorch/lib/python3.12/site-packages (from metric-visualizer>=0.9.6->pyabsa) (8.1.8)\n",
      "Requirement already satisfied: openpyxl in /opt/homebrew/anaconda3/envs/pytorch/lib/python3.12/site-packages (from metric-visualizer>=0.9.6->pyabsa) (3.1.5)\n",
      "Requirement already satisfied: xlsxwriter in /opt/homebrew/anaconda3/envs/pytorch/lib/python3.12/site-packages (from metric-visualizer>=0.9.6->pyabsa) (3.2.3)\n",
      "Requirement already satisfied: scikit-learn in /opt/homebrew/anaconda3/envs/pytorch/lib/python3.12/site-packages (from metric-visualizer>=0.9.6->pyabsa) (1.6.1)\n",
      "Requirement already satisfied: colorama in /opt/homebrew/anaconda3/envs/pytorch/lib/python3.12/site-packages (from metric-visualizer>=0.9.6->pyabsa) (0.4.6)\n",
      "Requirement already satisfied: filelock in /opt/homebrew/anaconda3/envs/pytorch/lib/python3.12/site-packages (from torch>=1.0.0->pyabsa) (3.13.1)\n",
      "Requirement already satisfied: jinja2 in /opt/homebrew/anaconda3/envs/pytorch/lib/python3.12/site-packages (from torch>=1.0.0->pyabsa) (3.1.5)\n",
      "Requirement already satisfied: fsspec in /opt/homebrew/anaconda3/envs/pytorch/lib/python3.12/site-packages (from torch>=1.0.0->pyabsa) (2025.2.0)\n",
      "Requirement already satisfied: setuptools in /opt/homebrew/anaconda3/envs/pytorch/lib/python3.12/site-packages (from torch>=1.0.0->pyabsa) (75.8.0)\n",
      "Requirement already satisfied: sympy==1.13.1 in /opt/homebrew/anaconda3/envs/pytorch/lib/python3.12/site-packages (from torch>=1.0.0->pyabsa) (1.13.1)\n",
      "Requirement already satisfied: mpmath<1.4,>=1.1.0 in /opt/homebrew/anaconda3/envs/pytorch/lib/python3.12/site-packages (from sympy==1.13.1->torch>=1.0.0->pyabsa) (1.3.0)\n",
      "Requirement already satisfied: huggingface-hub<1.0,>=0.30.0 in /opt/homebrew/anaconda3/envs/pytorch/lib/python3.12/site-packages (from transformers>=4.18.0->pyabsa) (0.30.2)\n",
      "Requirement already satisfied: packaging>=20.0 in /opt/homebrew/anaconda3/envs/pytorch/lib/python3.12/site-packages (from transformers>=4.18.0->pyabsa) (24.2)\n",
      "Requirement already satisfied: pyyaml>=5.1 in /opt/homebrew/anaconda3/envs/pytorch/lib/python3.12/site-packages (from transformers>=4.18.0->pyabsa) (6.0.2)\n",
      "Requirement already satisfied: regex!=2019.12.17 in /opt/homebrew/anaconda3/envs/pytorch/lib/python3.12/site-packages (from transformers>=4.18.0->pyabsa) (2024.11.6)\n",
      "Requirement already satisfied: requests in /opt/homebrew/anaconda3/envs/pytorch/lib/python3.12/site-packages (from transformers>=4.18.0->pyabsa) (2.32.3)\n",
      "Requirement already satisfied: tokenizers<0.22,>=0.21 in /opt/homebrew/anaconda3/envs/pytorch/lib/python3.12/site-packages (from transformers>=4.18.0->pyabsa) (0.21.1)\n",
      "Requirement already satisfied: safetensors>=0.4.3 in /opt/homebrew/anaconda3/envs/pytorch/lib/python3.12/site-packages (from transformers>=4.18.0->pyabsa) (0.5.3)\n",
      "Requirement already satisfied: gitdb<5,>=4.0.1 in /opt/homebrew/anaconda3/envs/pytorch/lib/python3.12/site-packages (from gitpython->pyabsa) (4.0.12)\n",
      "Requirement already satisfied: python-dateutil>=2.8.2 in /opt/homebrew/anaconda3/envs/pytorch/lib/python3.12/site-packages (from pandas->pyabsa) (2.9.0.post0)\n",
      "Requirement already satisfied: pytz>=2020.1 in /opt/homebrew/anaconda3/envs/pytorch/lib/python3.12/site-packages (from pandas->pyabsa) (2025.1)\n",
      "Requirement already satisfied: tzdata>=2022.7 in /opt/homebrew/anaconda3/envs/pytorch/lib/python3.12/site-packages (from pandas->pyabsa) (2025.1)\n",
      "Requirement already satisfied: spacy-legacy<3.1.0,>=3.0.11 in /opt/homebrew/anaconda3/envs/pytorch/lib/python3.12/site-packages (from spacy->pyabsa) (3.0.12)\n",
      "Requirement already satisfied: spacy-loggers<2.0.0,>=1.0.0 in /opt/homebrew/anaconda3/envs/pytorch/lib/python3.12/site-packages (from spacy->pyabsa) (1.0.5)\n",
      "Requirement already satisfied: murmurhash<1.1.0,>=0.28.0 in /opt/homebrew/anaconda3/envs/pytorch/lib/python3.12/site-packages (from spacy->pyabsa) (1.0.12)\n",
      "Requirement already satisfied: cymem<2.1.0,>=2.0.2 in /opt/homebrew/anaconda3/envs/pytorch/lib/python3.12/site-packages (from spacy->pyabsa) (2.0.11)\n",
      "Requirement already satisfied: preshed<3.1.0,>=3.0.2 in /opt/homebrew/anaconda3/envs/pytorch/lib/python3.12/site-packages (from spacy->pyabsa) (3.0.9)\n",
      "Requirement already satisfied: thinc<8.4.0,>=8.3.4 in /opt/homebrew/anaconda3/envs/pytorch/lib/python3.12/site-packages (from spacy->pyabsa) (8.3.4)\n",
      "Requirement already satisfied: wasabi<1.2.0,>=0.9.1 in /opt/homebrew/anaconda3/envs/pytorch/lib/python3.12/site-packages (from spacy->pyabsa) (1.1.3)\n",
      "Requirement already satisfied: srsly<3.0.0,>=2.4.3 in /opt/homebrew/anaconda3/envs/pytorch/lib/python3.12/site-packages (from spacy->pyabsa) (2.5.1)\n",
      "Requirement already satisfied: catalogue<2.1.0,>=2.0.6 in /opt/homebrew/anaconda3/envs/pytorch/lib/python3.12/site-packages (from spacy->pyabsa) (2.0.10)\n",
      "Requirement already satisfied: weasel<0.5.0,>=0.1.0 in /opt/homebrew/anaconda3/envs/pytorch/lib/python3.12/site-packages (from spacy->pyabsa) (0.4.1)\n",
      "Requirement already satisfied: typer<1.0.0,>=0.3.0 in /opt/homebrew/anaconda3/envs/pytorch/lib/python3.12/site-packages (from spacy->pyabsa) (0.15.2)\n",
      "Requirement already satisfied: pydantic!=1.8,!=1.8.1,<3.0.0,>=1.7.4 in /opt/homebrew/anaconda3/envs/pytorch/lib/python3.12/site-packages (from spacy->pyabsa) (2.10.6)\n",
      "Requirement already satisfied: langcodes<4.0.0,>=3.2.0 in /opt/homebrew/anaconda3/envs/pytorch/lib/python3.12/site-packages (from spacy->pyabsa) (3.5.0)\n",
      "Requirement already satisfied: smmap<6,>=3.0.1 in /opt/homebrew/anaconda3/envs/pytorch/lib/python3.12/site-packages (from gitdb<5,>=4.0.1->gitpython->pyabsa) (5.0.2)\n",
      "Requirement already satisfied: language-data>=1.2 in /opt/homebrew/anaconda3/envs/pytorch/lib/python3.12/site-packages (from langcodes<4.0.0,>=3.2.0->spacy->pyabsa) (1.3.0)\n",
      "Requirement already satisfied: contourpy>=1.0.1 in /opt/homebrew/anaconda3/envs/pytorch/lib/python3.12/site-packages (from matplotlib>=3.6.3->metric-visualizer>=0.9.6->pyabsa) (1.3.1)\n",
      "Requirement already satisfied: cycler>=0.10 in /opt/homebrew/anaconda3/envs/pytorch/lib/python3.12/site-packages (from matplotlib>=3.6.3->metric-visualizer>=0.9.6->pyabsa) (0.12.1)\n",
      "Requirement already satisfied: fonttools>=4.22.0 in /opt/homebrew/anaconda3/envs/pytorch/lib/python3.12/site-packages (from matplotlib>=3.6.3->metric-visualizer>=0.9.6->pyabsa) (4.56.0)\n",
      "Requirement already satisfied: kiwisolver>=1.3.1 in /opt/homebrew/anaconda3/envs/pytorch/lib/python3.12/site-packages (from matplotlib>=3.6.3->metric-visualizer>=0.9.6->pyabsa) (1.4.8)\n",
      "Requirement already satisfied: pillow>=8 in /opt/homebrew/anaconda3/envs/pytorch/lib/python3.12/site-packages (from matplotlib>=3.6.3->metric-visualizer>=0.9.6->pyabsa) (11.1.0)\n",
      "Requirement already satisfied: pyparsing>=2.3.1 in /opt/homebrew/anaconda3/envs/pytorch/lib/python3.12/site-packages (from matplotlib>=3.6.3->metric-visualizer>=0.9.6->pyabsa) (3.2.1)\n",
      "Requirement already satisfied: annotated-types>=0.6.0 in /opt/homebrew/anaconda3/envs/pytorch/lib/python3.12/site-packages (from pydantic!=1.8,!=1.8.1,<3.0.0,>=1.7.4->spacy->pyabsa) (0.7.0)\n",
      "Requirement already satisfied: pydantic-core==2.27.2 in /opt/homebrew/anaconda3/envs/pytorch/lib/python3.12/site-packages (from pydantic!=1.8,!=1.8.1,<3.0.0,>=1.7.4->spacy->pyabsa) (2.27.2)\n",
      "Requirement already satisfied: six>=1.5 in /opt/homebrew/anaconda3/envs/pytorch/lib/python3.12/site-packages (from python-dateutil>=2.8.2->pandas->pyabsa) (1.17.0)\n",
      "Requirement already satisfied: charset-normalizer<4,>=2 in /opt/homebrew/anaconda3/envs/pytorch/lib/python3.12/site-packages (from requests->transformers>=4.18.0->pyabsa) (3.3.2)\n",
      "Requirement already satisfied: idna<4,>=2.5 in /opt/homebrew/anaconda3/envs/pytorch/lib/python3.12/site-packages (from requests->transformers>=4.18.0->pyabsa) (3.7)\n",
      "Requirement already satisfied: urllib3<3,>=1.21.1 in /opt/homebrew/anaconda3/envs/pytorch/lib/python3.12/site-packages (from requests->transformers>=4.18.0->pyabsa) (2.3.0)\n",
      "Requirement already satisfied: certifi>=2017.4.17 in /opt/homebrew/anaconda3/envs/pytorch/lib/python3.12/site-packages (from requests->transformers>=4.18.0->pyabsa) (2025.1.31)\n",
      "Requirement already satisfied: joblib>=1.2.0 in /opt/homebrew/anaconda3/envs/pytorch/lib/python3.12/site-packages (from scikit-learn->metric-visualizer>=0.9.6->pyabsa) (1.4.2)\n",
      "Requirement already satisfied: threadpoolctl>=3.1.0 in /opt/homebrew/anaconda3/envs/pytorch/lib/python3.12/site-packages (from scikit-learn->metric-visualizer>=0.9.6->pyabsa) (3.5.0)\n",
      "Requirement already satisfied: blis<1.3.0,>=1.2.0 in /opt/homebrew/anaconda3/envs/pytorch/lib/python3.12/site-packages (from thinc<8.4.0,>=8.3.4->spacy->pyabsa) (1.2.0)\n",
      "Requirement already satisfied: confection<1.0.0,>=0.0.1 in /opt/homebrew/anaconda3/envs/pytorch/lib/python3.12/site-packages (from thinc<8.4.0,>=8.3.4->spacy->pyabsa) (0.1.5)\n",
      "Requirement already satisfied: shellingham>=1.3.0 in /opt/homebrew/anaconda3/envs/pytorch/lib/python3.12/site-packages (from typer<1.0.0,>=0.3.0->spacy->pyabsa) (1.5.4)\n",
      "Requirement already satisfied: rich>=10.11.0 in /opt/homebrew/anaconda3/envs/pytorch/lib/python3.12/site-packages (from typer<1.0.0,>=0.3.0->spacy->pyabsa) (13.9.4)\n",
      "Requirement already satisfied: cloudpathlib<1.0.0,>=0.7.0 in /opt/homebrew/anaconda3/envs/pytorch/lib/python3.12/site-packages (from weasel<0.5.0,>=0.1.0->spacy->pyabsa) (0.21.0)\n",
      "Requirement already satisfied: smart-open<8.0.0,>=5.2.1 in /opt/homebrew/anaconda3/envs/pytorch/lib/python3.12/site-packages (from weasel<0.5.0,>=0.1.0->spacy->pyabsa) (7.1.0)\n",
      "Requirement already satisfied: MarkupSafe>=2.0 in /opt/homebrew/anaconda3/envs/pytorch/lib/python3.12/site-packages (from jinja2->torch>=1.0.0->pyabsa) (2.1.5)\n",
      "Requirement already satisfied: et-xmlfile in /opt/homebrew/anaconda3/envs/pytorch/lib/python3.12/site-packages (from openpyxl->metric-visualizer>=0.9.6->pyabsa) (2.0.0)\n",
      "Requirement already satisfied: webcolors in /opt/homebrew/anaconda3/envs/pytorch/lib/python3.12/site-packages (from tikzplotlib->metric-visualizer>=0.9.6->pyabsa) (24.11.1)\n",
      "Requirement already satisfied: marisa-trie>=1.1.0 in /opt/homebrew/anaconda3/envs/pytorch/lib/python3.12/site-packages (from language-data>=1.2->langcodes<4.0.0,>=3.2.0->spacy->pyabsa) (1.2.1)\n",
      "Requirement already satisfied: markdown-it-py>=2.2.0 in /opt/homebrew/anaconda3/envs/pytorch/lib/python3.12/site-packages (from rich>=10.11.0->typer<1.0.0,>=0.3.0->spacy->pyabsa) (3.0.0)\n",
      "Requirement already satisfied: pygments<3.0.0,>=2.13.0 in /opt/homebrew/anaconda3/envs/pytorch/lib/python3.12/site-packages (from rich>=10.11.0->typer<1.0.0,>=0.3.0->spacy->pyabsa) (2.19.1)\n",
      "Requirement already satisfied: wrapt in /opt/homebrew/anaconda3/envs/pytorch/lib/python3.12/site-packages (from smart-open<8.0.0,>=5.2.1->weasel<0.5.0,>=0.1.0->spacy->pyabsa) (1.17.2)\n",
      "Requirement already satisfied: mdurl~=0.1 in /opt/homebrew/anaconda3/envs/pytorch/lib/python3.12/site-packages (from markdown-it-py>=2.2.0->rich>=10.11.0->typer<1.0.0,>=0.3.0->spacy->pyabsa) (0.1.2)\n",
      "Using cached transformers-4.51.3-py3-none-any.whl (10.4 MB)\n",
      "Installing collected packages: transformers\n",
      "Successfully installed transformers-4.51.3\n"
     ]
    }
   ],
   "source": [
    "!pip install -U pyabsa"
   ]
  },
  {
   "cell_type": "code",
   "execution_count": 2,
   "metadata": {},
   "outputs": [
    {
     "name": "stdout",
     "output_type": "stream",
     "text": [
      "Name: pyabsa\n",
      "Version: 2.4.1.post1\n",
      "Summary: This tool provides the state-of-the-art models for aspect term extraction (ATE), aspect polarity classification (APC), and text classification (TC).\n",
      "Home-page: https://github.com/yangheng95/PyABSA\n",
      "Author: Yang, Heng\n",
      "Author-email: hy345@exeter.ac.uk\n",
      "License: MIT\n",
      "Location: /opt/homebrew/anaconda3/envs/pytorch/lib/python3.12/site-packages\n",
      "Requires: autocuda, boostaug, findfile, gitpython, metric-visualizer, networkx, pandas, protobuf, pytorch-warmup, sentencepiece, seqeval, spacy, termcolor, torch, tqdm, transformers, typing-extensions, update-checker\n",
      "Required-by: boostaug\n"
     ]
    }
   ],
   "source": [
    "!pip show pyabsa"
   ]
  },
  {
   "cell_type": "code",
   "execution_count": null,
   "metadata": {},
   "outputs": [
    {
     "name": "stdout",
     "output_type": "stream",
     "text": [
      "Found existing installation: transformers 4.51.3\n",
      "Uninstalling transformers-4.51.3:\n",
      "  Successfully uninstalled transformers-4.51.3\n",
      "Collecting transformers==4.29.2\n",
      "  Using cached transformers-4.29.2-py3-none-any.whl.metadata (112 kB)\n",
      "Requirement already satisfied: filelock in /opt/homebrew/anaconda3/envs/pytorch/lib/python3.12/site-packages (from transformers==4.29.2) (3.13.1)\n",
      "Requirement already satisfied: huggingface-hub<1.0,>=0.14.1 in /opt/homebrew/anaconda3/envs/pytorch/lib/python3.12/site-packages (from transformers==4.29.2) (0.30.2)\n",
      "Requirement already satisfied: numpy>=1.17 in /opt/homebrew/anaconda3/envs/pytorch/lib/python3.12/site-packages (from transformers==4.29.2) (1.26.4)\n",
      "Requirement already satisfied: packaging>=20.0 in /opt/homebrew/anaconda3/envs/pytorch/lib/python3.12/site-packages (from transformers==4.29.2) (24.2)\n",
      "Requirement already satisfied: pyyaml>=5.1 in /opt/homebrew/anaconda3/envs/pytorch/lib/python3.12/site-packages (from transformers==4.29.2) (6.0.2)\n",
      "Requirement already satisfied: regex!=2019.12.17 in /opt/homebrew/anaconda3/envs/pytorch/lib/python3.12/site-packages (from transformers==4.29.2) (2024.11.6)\n",
      "Requirement already satisfied: requests in /opt/homebrew/anaconda3/envs/pytorch/lib/python3.12/site-packages (from transformers==4.29.2) (2.32.3)\n",
      "Collecting tokenizers!=0.11.3,<0.14,>=0.11.1 (from transformers==4.29.2)\n",
      "  Using cached tokenizers-0.13.3.tar.gz (314 kB)\n",
      "  Installing build dependencies ... \u001b[?25ldone\n",
      "\u001b[?25h  Getting requirements to build wheel ... \u001b[?25ldone\n",
      "\u001b[?25h  Preparing metadata (pyproject.toml) ... \u001b[?25ldone\n",
      "\u001b[?25hRequirement already satisfied: tqdm>=4.27 in /opt/homebrew/anaconda3/envs/pytorch/lib/python3.12/site-packages (from transformers==4.29.2) (4.67.1)\n",
      "Requirement already satisfied: fsspec>=2023.5.0 in /opt/homebrew/anaconda3/envs/pytorch/lib/python3.12/site-packages (from huggingface-hub<1.0,>=0.14.1->transformers==4.29.2) (2025.2.0)\n",
      "Requirement already satisfied: typing-extensions>=3.7.4.3 in /opt/homebrew/anaconda3/envs/pytorch/lib/python3.12/site-packages (from huggingface-hub<1.0,>=0.14.1->transformers==4.29.2) (4.12.2)\n",
      "Requirement already satisfied: charset-normalizer<4,>=2 in /opt/homebrew/anaconda3/envs/pytorch/lib/python3.12/site-packages (from requests->transformers==4.29.2) (3.3.2)\n",
      "Requirement already satisfied: idna<4,>=2.5 in /opt/homebrew/anaconda3/envs/pytorch/lib/python3.12/site-packages (from requests->transformers==4.29.2) (3.7)\n",
      "Requirement already satisfied: urllib3<3,>=1.21.1 in /opt/homebrew/anaconda3/envs/pytorch/lib/python3.12/site-packages (from requests->transformers==4.29.2) (2.3.0)\n",
      "Requirement already satisfied: certifi>=2017.4.17 in /opt/homebrew/anaconda3/envs/pytorch/lib/python3.12/site-packages (from requests->transformers==4.29.2) (2025.1.31)\n",
      "Using cached transformers-4.29.2-py3-none-any.whl (7.1 MB)\n",
      "Building wheels for collected packages: tokenizers\n",
      "  Building wheel for tokenizers (pyproject.toml) ... \u001b[?25lerror\n",
      "  \u001b[1;31merror\u001b[0m: \u001b[1msubprocess-exited-with-error\u001b[0m\n",
      "  \n",
      "  \u001b[31m×\u001b[0m \u001b[32mBuilding wheel for tokenizers \u001b[0m\u001b[1;32m(\u001b[0m\u001b[32mpyproject.toml\u001b[0m\u001b[1;32m)\u001b[0m did not run successfully.\n",
      "  \u001b[31m│\u001b[0m exit code: \u001b[1;36m1\u001b[0m\n",
      "  \u001b[31m╰─>\u001b[0m \u001b[31m[62 lines of output]\u001b[0m\n",
      "  \u001b[31m   \u001b[0m /private/var/folders/fh/_tq_jbr50895yx1hkbgpct5m0000gn/T/pip-build-env-id4j44nr/overlay/lib/python3.12/site-packages/setuptools/dist.py:759: SetuptoolsDeprecationWarning: License classifiers are deprecated.\n",
      "  \u001b[31m   \u001b[0m !!\n",
      "  \u001b[31m   \u001b[0m \n",
      "  \u001b[31m   \u001b[0m         ********************************************************************************\n",
      "  \u001b[31m   \u001b[0m         Please consider removing the following classifiers in favor of a SPDX license expression:\n",
      "  \u001b[31m   \u001b[0m \n",
      "  \u001b[31m   \u001b[0m         License :: OSI Approved :: Apache Software License\n",
      "  \u001b[31m   \u001b[0m \n",
      "  \u001b[31m   \u001b[0m         See https://packaging.python.org/en/latest/guides/writing-pyproject-toml/#license for details.\n",
      "  \u001b[31m   \u001b[0m         ********************************************************************************\n",
      "  \u001b[31m   \u001b[0m \n",
      "  \u001b[31m   \u001b[0m !!\n",
      "  \u001b[31m   \u001b[0m   self._finalize_license_expression()\n",
      "  \u001b[31m   \u001b[0m running bdist_wheel\n",
      "  \u001b[31m   \u001b[0m running build\n",
      "  \u001b[31m   \u001b[0m running build_py\n",
      "  \u001b[31m   \u001b[0m creating build/lib.macosx-11.1-arm64-cpython-312/tokenizers\n",
      "  \u001b[31m   \u001b[0m copying py_src/tokenizers/__init__.py -> build/lib.macosx-11.1-arm64-cpython-312/tokenizers\n",
      "  \u001b[31m   \u001b[0m creating build/lib.macosx-11.1-arm64-cpython-312/tokenizers/models\n",
      "  \u001b[31m   \u001b[0m copying py_src/tokenizers/models/__init__.py -> build/lib.macosx-11.1-arm64-cpython-312/tokenizers/models\n",
      "  \u001b[31m   \u001b[0m creating build/lib.macosx-11.1-arm64-cpython-312/tokenizers/decoders\n",
      "  \u001b[31m   \u001b[0m copying py_src/tokenizers/decoders/__init__.py -> build/lib.macosx-11.1-arm64-cpython-312/tokenizers/decoders\n",
      "  \u001b[31m   \u001b[0m creating build/lib.macosx-11.1-arm64-cpython-312/tokenizers/normalizers\n",
      "  \u001b[31m   \u001b[0m copying py_src/tokenizers/normalizers/__init__.py -> build/lib.macosx-11.1-arm64-cpython-312/tokenizers/normalizers\n",
      "  \u001b[31m   \u001b[0m creating build/lib.macosx-11.1-arm64-cpython-312/tokenizers/pre_tokenizers\n",
      "  \u001b[31m   \u001b[0m copying py_src/tokenizers/pre_tokenizers/__init__.py -> build/lib.macosx-11.1-arm64-cpython-312/tokenizers/pre_tokenizers\n",
      "  \u001b[31m   \u001b[0m creating build/lib.macosx-11.1-arm64-cpython-312/tokenizers/processors\n",
      "  \u001b[31m   \u001b[0m copying py_src/tokenizers/processors/__init__.py -> build/lib.macosx-11.1-arm64-cpython-312/tokenizers/processors\n",
      "  \u001b[31m   \u001b[0m creating build/lib.macosx-11.1-arm64-cpython-312/tokenizers/trainers\n",
      "  \u001b[31m   \u001b[0m copying py_src/tokenizers/trainers/__init__.py -> build/lib.macosx-11.1-arm64-cpython-312/tokenizers/trainers\n",
      "  \u001b[31m   \u001b[0m creating build/lib.macosx-11.1-arm64-cpython-312/tokenizers/implementations\n",
      "  \u001b[31m   \u001b[0m copying py_src/tokenizers/implementations/byte_level_bpe.py -> build/lib.macosx-11.1-arm64-cpython-312/tokenizers/implementations\n",
      "  \u001b[31m   \u001b[0m copying py_src/tokenizers/implementations/sentencepiece_unigram.py -> build/lib.macosx-11.1-arm64-cpython-312/tokenizers/implementations\n",
      "  \u001b[31m   \u001b[0m copying py_src/tokenizers/implementations/sentencepiece_bpe.py -> build/lib.macosx-11.1-arm64-cpython-312/tokenizers/implementations\n",
      "  \u001b[31m   \u001b[0m copying py_src/tokenizers/implementations/base_tokenizer.py -> build/lib.macosx-11.1-arm64-cpython-312/tokenizers/implementations\n",
      "  \u001b[31m   \u001b[0m copying py_src/tokenizers/implementations/__init__.py -> build/lib.macosx-11.1-arm64-cpython-312/tokenizers/implementations\n",
      "  \u001b[31m   \u001b[0m copying py_src/tokenizers/implementations/char_level_bpe.py -> build/lib.macosx-11.1-arm64-cpython-312/tokenizers/implementations\n",
      "  \u001b[31m   \u001b[0m copying py_src/tokenizers/implementations/bert_wordpiece.py -> build/lib.macosx-11.1-arm64-cpython-312/tokenizers/implementations\n",
      "  \u001b[31m   \u001b[0m creating build/lib.macosx-11.1-arm64-cpython-312/tokenizers/tools\n",
      "  \u001b[31m   \u001b[0m copying py_src/tokenizers/tools/__init__.py -> build/lib.macosx-11.1-arm64-cpython-312/tokenizers/tools\n",
      "  \u001b[31m   \u001b[0m copying py_src/tokenizers/tools/visualizer.py -> build/lib.macosx-11.1-arm64-cpython-312/tokenizers/tools\n",
      "  \u001b[31m   \u001b[0m copying py_src/tokenizers/__init__.pyi -> build/lib.macosx-11.1-arm64-cpython-312/tokenizers\n",
      "  \u001b[31m   \u001b[0m copying py_src/tokenizers/models/__init__.pyi -> build/lib.macosx-11.1-arm64-cpython-312/tokenizers/models\n",
      "  \u001b[31m   \u001b[0m copying py_src/tokenizers/decoders/__init__.pyi -> build/lib.macosx-11.1-arm64-cpython-312/tokenizers/decoders\n",
      "  \u001b[31m   \u001b[0m copying py_src/tokenizers/normalizers/__init__.pyi -> build/lib.macosx-11.1-arm64-cpython-312/tokenizers/normalizers\n",
      "  \u001b[31m   \u001b[0m copying py_src/tokenizers/pre_tokenizers/__init__.pyi -> build/lib.macosx-11.1-arm64-cpython-312/tokenizers/pre_tokenizers\n",
      "  \u001b[31m   \u001b[0m copying py_src/tokenizers/processors/__init__.pyi -> build/lib.macosx-11.1-arm64-cpython-312/tokenizers/processors\n",
      "  \u001b[31m   \u001b[0m copying py_src/tokenizers/trainers/__init__.pyi -> build/lib.macosx-11.1-arm64-cpython-312/tokenizers/trainers\n",
      "  \u001b[31m   \u001b[0m copying py_src/tokenizers/tools/visualizer-styles.css -> build/lib.macosx-11.1-arm64-cpython-312/tokenizers/tools\n",
      "  \u001b[31m   \u001b[0m running build_ext\n",
      "  \u001b[31m   \u001b[0m running build_rust\n",
      "  \u001b[31m   \u001b[0m error: can't find Rust compiler\n",
      "  \u001b[31m   \u001b[0m \n",
      "  \u001b[31m   \u001b[0m If you are using an outdated pip version, it is possible a prebuilt wheel is available for this package but pip is not able to install from it. Installing from the wheel would avoid the need for a Rust compiler.\n",
      "  \u001b[31m   \u001b[0m \n",
      "  \u001b[31m   \u001b[0m To update pip, run:\n",
      "  \u001b[31m   \u001b[0m \n",
      "  \u001b[31m   \u001b[0m     pip install --upgrade pip\n",
      "  \u001b[31m   \u001b[0m \n",
      "  \u001b[31m   \u001b[0m and then retry package installation.\n",
      "  \u001b[31m   \u001b[0m \n",
      "  \u001b[31m   \u001b[0m If you did intend to build this package from source, try installing a Rust compiler from your system package manager and ensure it is on the PATH during installation. Alternatively, rustup (available at https://rustup.rs) is the recommended way to download and update the Rust compiler toolchain.\n",
      "  \u001b[31m   \u001b[0m \u001b[31m[end of output]\u001b[0m\n",
      "  \n",
      "  \u001b[1;35mnote\u001b[0m: This error originates from a subprocess, and is likely not a problem with pip.\n",
      "\u001b[?25h\u001b[31m  ERROR: Failed building wheel for tokenizers\u001b[0m\u001b[31m\n",
      "\u001b[0mFailed to build tokenizers\n",
      "\u001b[31mERROR: Failed to build installable wheels for some pyproject.toml based projects (tokenizers)\u001b[0m\u001b[31m\n",
      "\u001b[0m"
     ]
    }
   ],
   "source": [
    "# !pip uninstall transformers -y\n",
    "# !pip install transformers==4.29.2"
   ]
  },
  {
   "cell_type": "code",
   "execution_count": 3,
   "metadata": {},
   "outputs": [
    {
     "name": "stdout",
     "output_type": "stream",
     "text": [
      "No CUDA GPU found in your device\n"
     ]
    },
    {
     "name": "stderr",
     "output_type": "stream",
     "text": [
      "/bin/sh: nvidia-smi: command not found\n"
     ]
    },
    {
     "name": "stdout",
     "output_type": "stream",
     "text": [
      "[2025-04-30 17:30:36] (2.4.1.post1) PyABSA(2.4.1.post1): If your code crashes on Colab, please use the GPU runtime. Then run \"pip install pyabsa[dev] -U\" and restart the kernel.\n",
      "Or if it does not work, you can use v1.x versions, e.g., pip install pyabsa<2.0 -U\n",
      "\n",
      "\n",
      "\n",
      "\n",
      "WARNING: When you fails to load a checkpoint, e.g., Unexpected key(s),\n",
      "Try to downgrade transformers<=4.29.0.\n",
      "\n",
      "\n",
      "\n",
      "\n"
     ]
    },
    {
     "name": "stderr",
     "output_type": "stream",
     "text": [
      "/opt/homebrew/anaconda3/envs/pytorch/lib/python3.12/multiprocessing/pool.py:268: ResourceWarning: unclosed running multiprocessing pool <multiprocessing.pool.Pool state=RUN pool_size=1>\n",
      "  _warn(f\"unclosed running multiprocessing pool {self!r}\",\n",
      "ResourceWarning: Enable tracemalloc to get the object allocation traceback\n"
     ]
    }
   ],
   "source": [
    "import pandas as pd\n",
    "import re\n",
    "import emoji\n",
    "from langdetect import detect\n",
    "from pyabsa import AspectPolarityClassification as APC\n",
    "import dask.dataframe as dd\n",
    "import dask\n",
    "from tqdm import tqdm"
   ]
  },
  {
   "cell_type": "code",
   "execution_count": 4,
   "metadata": {},
   "outputs": [
    {
     "ename": "KeyboardInterrupt",
     "evalue": "",
     "output_type": "error",
     "traceback": [
      "\u001b[0;31m---------------------------------------------------------------------------\u001b[0m",
      "\u001b[0;31mKeyboardInterrupt\u001b[0m                         Traceback (most recent call last)",
      "Cell \u001b[0;32mIn[4], line 3\u001b[0m\n\u001b[1;32m      1\u001b[0m csv_path \u001b[38;5;241m=\u001b[39m \u001b[38;5;124m'\u001b[39m\u001b[38;5;124m../data/cleaned_reviews_with_sentiment.csv\u001b[39m\u001b[38;5;124m'\u001b[39m\n\u001b[1;32m      2\u001b[0m \u001b[38;5;66;03m# Load the CSV file with Dask (lazy evaluation)\u001b[39;00m\n\u001b[0;32m----> 3\u001b[0m df \u001b[38;5;241m=\u001b[39m \u001b[43mdd\u001b[49m\u001b[38;5;241;43m.\u001b[39;49m\u001b[43mread_csv\u001b[49m\u001b[43m(\u001b[49m\u001b[43mcsv_path\u001b[49m\u001b[43m)\u001b[49m\n",
      "File \u001b[0;32m/opt/homebrew/anaconda3/envs/pytorch/lib/python3.12/site-packages/dask/backends.py:140\u001b[0m, in \u001b[0;36mCreationDispatch.register_inplace.<locals>.decorator.<locals>.wrapper\u001b[0;34m(*args, **kwargs)\u001b[0m\n\u001b[1;32m    138\u001b[0m func \u001b[38;5;241m=\u001b[39m \u001b[38;5;28mgetattr\u001b[39m(\u001b[38;5;28mself\u001b[39m, dispatch_name)\n\u001b[1;32m    139\u001b[0m \u001b[38;5;28;01mtry\u001b[39;00m:\n\u001b[0;32m--> 140\u001b[0m     \u001b[38;5;28;01mreturn\u001b[39;00m \u001b[43mfunc\u001b[49m\u001b[43m(\u001b[49m\u001b[38;5;241;43m*\u001b[39;49m\u001b[43margs\u001b[49m\u001b[43m,\u001b[49m\u001b[43m \u001b[49m\u001b[38;5;241;43m*\u001b[39;49m\u001b[38;5;241;43m*\u001b[39;49m\u001b[43mkwargs\u001b[49m\u001b[43m)\u001b[49m\n\u001b[1;32m    141\u001b[0m \u001b[38;5;28;01mexcept\u001b[39;00m \u001b[38;5;167;01mException\u001b[39;00m \u001b[38;5;28;01mas\u001b[39;00m e:\n\u001b[1;32m    142\u001b[0m     \u001b[38;5;28;01mtry\u001b[39;00m:\n",
      "File \u001b[0;32m/opt/homebrew/anaconda3/envs/pytorch/lib/python3.12/site-packages/dask/dataframe/io/csv.py:731\u001b[0m, in \u001b[0;36mmake_reader.<locals>.read\u001b[0;34m(urlpath, blocksize, lineterminator, compression, sample, sample_rows, enforce, assume_missing, storage_options, include_path_column, **kwargs)\u001b[0m\n\u001b[1;32m    718\u001b[0m \u001b[38;5;28;01mdef\u001b[39;00m\u001b[38;5;250m \u001b[39m\u001b[38;5;21mread\u001b[39m(\n\u001b[1;32m    719\u001b[0m     urlpath,\n\u001b[1;32m    720\u001b[0m     blocksize\u001b[38;5;241m=\u001b[39m\u001b[38;5;124m\"\u001b[39m\u001b[38;5;124mdefault\u001b[39m\u001b[38;5;124m\"\u001b[39m,\n\u001b[0;32m   (...)\u001b[0m\n\u001b[1;32m    729\u001b[0m     \u001b[38;5;241m*\u001b[39m\u001b[38;5;241m*\u001b[39mkwargs,\n\u001b[1;32m    730\u001b[0m ):\n\u001b[0;32m--> 731\u001b[0m     \u001b[38;5;28;01mreturn\u001b[39;00m \u001b[43mread_pandas\u001b[49m\u001b[43m(\u001b[49m\n\u001b[1;32m    732\u001b[0m \u001b[43m        \u001b[49m\u001b[43mreader\u001b[49m\u001b[43m,\u001b[49m\n\u001b[1;32m    733\u001b[0m \u001b[43m        \u001b[49m\u001b[43murlpath\u001b[49m\u001b[43m,\u001b[49m\n\u001b[1;32m    734\u001b[0m \u001b[43m        \u001b[49m\u001b[43mblocksize\u001b[49m\u001b[38;5;241;43m=\u001b[39;49m\u001b[43mblocksize\u001b[49m\u001b[43m,\u001b[49m\n\u001b[1;32m    735\u001b[0m \u001b[43m        \u001b[49m\u001b[43mlineterminator\u001b[49m\u001b[38;5;241;43m=\u001b[39;49m\u001b[43mlineterminator\u001b[49m\u001b[43m,\u001b[49m\n\u001b[1;32m    736\u001b[0m \u001b[43m        \u001b[49m\u001b[43mcompression\u001b[49m\u001b[38;5;241;43m=\u001b[39;49m\u001b[43mcompression\u001b[49m\u001b[43m,\u001b[49m\n\u001b[1;32m    737\u001b[0m \u001b[43m        \u001b[49m\u001b[43msample\u001b[49m\u001b[38;5;241;43m=\u001b[39;49m\u001b[43msample\u001b[49m\u001b[43m,\u001b[49m\n\u001b[1;32m    738\u001b[0m \u001b[43m        \u001b[49m\u001b[43msample_rows\u001b[49m\u001b[38;5;241;43m=\u001b[39;49m\u001b[43msample_rows\u001b[49m\u001b[43m,\u001b[49m\n\u001b[1;32m    739\u001b[0m \u001b[43m        \u001b[49m\u001b[43menforce\u001b[49m\u001b[38;5;241;43m=\u001b[39;49m\u001b[43menforce\u001b[49m\u001b[43m,\u001b[49m\n\u001b[1;32m    740\u001b[0m \u001b[43m        \u001b[49m\u001b[43massume_missing\u001b[49m\u001b[38;5;241;43m=\u001b[39;49m\u001b[43massume_missing\u001b[49m\u001b[43m,\u001b[49m\n\u001b[1;32m    741\u001b[0m \u001b[43m        \u001b[49m\u001b[43mstorage_options\u001b[49m\u001b[38;5;241;43m=\u001b[39;49m\u001b[43mstorage_options\u001b[49m\u001b[43m,\u001b[49m\n\u001b[1;32m    742\u001b[0m \u001b[43m        \u001b[49m\u001b[43minclude_path_column\u001b[49m\u001b[38;5;241;43m=\u001b[39;49m\u001b[43minclude_path_column\u001b[49m\u001b[43m,\u001b[49m\n\u001b[1;32m    743\u001b[0m \u001b[43m        \u001b[49m\u001b[38;5;241;43m*\u001b[39;49m\u001b[38;5;241;43m*\u001b[39;49m\u001b[43mkwargs\u001b[49m\u001b[43m,\u001b[49m\n\u001b[1;32m    744\u001b[0m \u001b[43m    \u001b[49m\u001b[43m)\u001b[49m\n",
      "File \u001b[0;32m/opt/homebrew/anaconda3/envs/pytorch/lib/python3.12/site-packages/dask/dataframe/io/csv.py:524\u001b[0m, in \u001b[0;36mread_pandas\u001b[0;34m(reader, urlpath, blocksize, lineterminator, compression, sample, sample_rows, enforce, assume_missing, storage_options, include_path_column, **kwargs)\u001b[0m\n\u001b[1;32m    518\u001b[0m     warn(\n\u001b[1;32m    519\u001b[0m         \u001b[38;5;124m\"\u001b[39m\u001b[38;5;124mUnexpected behavior can result from passing skiprows when\u001b[39m\u001b[38;5;130;01m\\n\u001b[39;00m\u001b[38;5;124m\"\u001b[39m\n\u001b[1;32m    520\u001b[0m         \u001b[38;5;124m\"\u001b[39m\u001b[38;5;124mblocksize is smaller than sample size.\u001b[39m\u001b[38;5;130;01m\\n\u001b[39;00m\u001b[38;5;124m\"\u001b[39m\n\u001b[1;32m    521\u001b[0m         \u001b[38;5;124m\"\u001b[39m\u001b[38;5;124mSetting ``sample=blocksize``\u001b[39m\u001b[38;5;124m\"\u001b[39m\n\u001b[1;32m    522\u001b[0m     )\n\u001b[1;32m    523\u001b[0m     sample \u001b[38;5;241m=\u001b[39m blocksize\n\u001b[0;32m--> 524\u001b[0m b_out \u001b[38;5;241m=\u001b[39m \u001b[43mread_bytes\u001b[49m\u001b[43m(\u001b[49m\n\u001b[1;32m    525\u001b[0m \u001b[43m    \u001b[49m\u001b[43murlpath\u001b[49m\u001b[43m,\u001b[49m\n\u001b[1;32m    526\u001b[0m \u001b[43m    \u001b[49m\u001b[43mdelimiter\u001b[49m\u001b[38;5;241;43m=\u001b[39;49m\u001b[43mb_lineterminator\u001b[49m\u001b[43m,\u001b[49m\n\u001b[1;32m    527\u001b[0m \u001b[43m    \u001b[49m\u001b[43mblocksize\u001b[49m\u001b[38;5;241;43m=\u001b[39;49m\u001b[43mblocksize\u001b[49m\u001b[43m,\u001b[49m\n\u001b[1;32m    528\u001b[0m \u001b[43m    \u001b[49m\u001b[43msample\u001b[49m\u001b[38;5;241;43m=\u001b[39;49m\u001b[43msample\u001b[49m\u001b[43m,\u001b[49m\n\u001b[1;32m    529\u001b[0m \u001b[43m    \u001b[49m\u001b[43mcompression\u001b[49m\u001b[38;5;241;43m=\u001b[39;49m\u001b[43mcompression\u001b[49m\u001b[43m,\u001b[49m\n\u001b[1;32m    530\u001b[0m \u001b[43m    \u001b[49m\u001b[43minclude_path\u001b[49m\u001b[38;5;241;43m=\u001b[39;49m\u001b[43minclude_path_column\u001b[49m\u001b[43m,\u001b[49m\n\u001b[1;32m    531\u001b[0m \u001b[43m    \u001b[49m\u001b[38;5;241;43m*\u001b[39;49m\u001b[38;5;241;43m*\u001b[39;49m\u001b[43m(\u001b[49m\u001b[43mstorage_options\u001b[49m\u001b[43m \u001b[49m\u001b[38;5;129;43;01mor\u001b[39;49;00m\u001b[43m \u001b[49m\u001b[43m{\u001b[49m\u001b[43m}\u001b[49m\u001b[43m)\u001b[49m\u001b[43m,\u001b[49m\n\u001b[1;32m    532\u001b[0m \u001b[43m\u001b[49m\u001b[43m)\u001b[49m\n\u001b[1;32m    534\u001b[0m \u001b[38;5;28;01mif\u001b[39;00m include_path_column:\n\u001b[1;32m    535\u001b[0m     b_sample, values, paths \u001b[38;5;241m=\u001b[39m b_out\n",
      "File \u001b[0;32m/opt/homebrew/anaconda3/envs/pytorch/lib/python3.12/site-packages/dask/bytes/core.py:173\u001b[0m, in \u001b[0;36mread_bytes\u001b[0;34m(urlpath, delimiter, not_zero, blocksize, sample, compression, include_path, **kwargs)\u001b[0m\n\u001b[1;32m    171\u001b[0m     sample \u001b[38;5;241m=\u001b[39m f\u001b[38;5;241m.\u001b[39mread(sample)\n\u001b[1;32m    172\u001b[0m \u001b[38;5;28;01melse\u001b[39;00m:\n\u001b[0;32m--> 173\u001b[0m     sample_buff \u001b[38;5;241m=\u001b[39m \u001b[43mf\u001b[49m\u001b[38;5;241;43m.\u001b[39;49m\u001b[43mread\u001b[49m\u001b[43m(\u001b[49m\u001b[43msample\u001b[49m\u001b[43m)\u001b[49m\n\u001b[1;32m    174\u001b[0m     \u001b[38;5;28;01mwhile\u001b[39;00m \u001b[38;5;28;01mTrue\u001b[39;00m:\n\u001b[1;32m    175\u001b[0m         new \u001b[38;5;241m=\u001b[39m f\u001b[38;5;241m.\u001b[39mread(sample)\n",
      "File \u001b[0;32m/opt/homebrew/anaconda3/envs/pytorch/lib/python3.12/site-packages/fsspec/implementations/local.py:428\u001b[0m, in \u001b[0;36mLocalFileOpener.read\u001b[0;34m(self, *args, **kwargs)\u001b[0m\n\u001b[1;32m    427\u001b[0m \u001b[38;5;28;01mdef\u001b[39;00m\u001b[38;5;250m \u001b[39m\u001b[38;5;21mread\u001b[39m(\u001b[38;5;28mself\u001b[39m, \u001b[38;5;241m*\u001b[39margs, \u001b[38;5;241m*\u001b[39m\u001b[38;5;241m*\u001b[39mkwargs):\n\u001b[0;32m--> 428\u001b[0m     \u001b[38;5;28;01mreturn\u001b[39;00m \u001b[38;5;28;43mself\u001b[39;49m\u001b[38;5;241;43m.\u001b[39;49m\u001b[43mf\u001b[49m\u001b[38;5;241;43m.\u001b[39;49m\u001b[43mread\u001b[49m\u001b[43m(\u001b[49m\u001b[38;5;241;43m*\u001b[39;49m\u001b[43margs\u001b[49m\u001b[43m,\u001b[49m\u001b[43m \u001b[49m\u001b[38;5;241;43m*\u001b[39;49m\u001b[38;5;241;43m*\u001b[39;49m\u001b[43mkwargs\u001b[49m\u001b[43m)\u001b[49m\n",
      "\u001b[0;31mKeyboardInterrupt\u001b[0m: "
     ]
    }
   ],
   "source": [
    "csv_path = '../data/cleaned_reviews_with_sentiment.csv'\n",
    "# Load the CSV file with Dask (lazy evaluation)\n",
    "df = dd.read_csv(csv_path)"
   ]
  },
  {
   "cell_type": "code",
   "execution_count": null,
   "metadata": {},
   "outputs": [],
   "source": [
    "## 2. Preprocessing for the Aspect Polarity Classification\n",
    "import re\n",
    "import emoji\n",
    "\n",
    "def clean_text(text):\n",
    "    text = str(text)\n",
    "    text = re.sub(r'<.*?>', '', text)                       # Remove HTML\n",
    "    text = re.sub(r'http\\S+|www\\.\\S+', '', text)            # Remove URLs\n",
    "    text = re.sub(r'\\S+@\\S+', '', text)                     # Remove emails\n",
    "    text = emoji.demojize(text)                             # Convert emojis to :heart:, etc.\n",
    "    return text.strip()\n",
    "    \n",
    "df['text'] = df['text'].apply(clean_text)"
   ]
  },
  {
   "cell_type": "code",
   "execution_count": 18,
   "metadata": {},
   "outputs": [
    {
     "name": "stdout",
     "output_type": "stream",
     "text": [
      "[2025-04-30 16:19:54] (2.4.1.post1) ********** Available APC model checkpoints for Version:2.4.1.post1 (this version) **********\n",
      "[2025-04-30 16:19:54] (2.4.1.post1) ********** Available APC model checkpoints for Version:2.4.1.post1 (this version) **********\n",
      "[2025-04-30 16:19:54] (2.4.1.post1) Downloading checkpoint:english \n",
      "[2025-04-30 16:19:54] (2.4.1.post1) Notice: The pretrained model are used for testing, it is recommended to train the model on your own custom datasets\n",
      "[2025-04-30 16:19:54] (2.4.1.post1) Checkpoint already downloaded, skip\n",
      "[2025-04-30 16:19:54] (2.4.1.post1) Load sentiment classifier from checkpoints/APC_ENGLISH_CHECKPOINT/fast_lsa_t_v2_English_acc_82.21_f1_81.81\n",
      "[2025-04-30 16:19:54] (2.4.1.post1) config: checkpoints/APC_ENGLISH_CHECKPOINT/fast_lsa_t_v2_English_acc_82.21_f1_81.81/fast_lsa_t_v2.config\n",
      "[2025-04-30 16:19:54] (2.4.1.post1) state_dict: checkpoints/APC_ENGLISH_CHECKPOINT/fast_lsa_t_v2_English_acc_82.21_f1_81.81/fast_lsa_t_v2.state_dict\n",
      "[2025-04-30 16:19:54] (2.4.1.post1) model: None\n",
      "[2025-04-30 16:19:54] (2.4.1.post1) tokenizer: checkpoints/APC_ENGLISH_CHECKPOINT/fast_lsa_t_v2_English_acc_82.21_f1_81.81/fast_lsa_t_v2.tokenizer\n",
      "[2025-04-30 16:19:54] (2.4.1.post1) Set Model Device: cpu\n",
      "[2025-04-30 16:19:54] (2.4.1.post1) Device Name: Unknown\n",
      "\n",
      "Processing aspect: look\n"
     ]
    },
    {
     "name": "stderr",
     "output_type": "stream",
     "text": [
      "  0%|          | 0/100 [00:00<?, ?it/s]"
     ]
    },
    {
     "name": "stdout",
     "output_type": "stream",
     "text": [
      "[2025-04-30 16:19:58] (2.4.1.post1) Warning: reference sentiment does not exist or its number 0 is not equal to aspect number 1, text:  [B-ASP]Global Sentiment[E-ASP]    0%\n",
      "[2025-04-30 16:19:58] (2.4.1.post1) Example 0: 0%\n"
     ]
    },
    {
     "name": "stderr",
     "output_type": "stream",
     "text": [
      "  1%|          | 1/100 [00:00<00:19,  5.14it/s]"
     ]
    },
    {
     "name": "stdout",
     "output_type": "stream",
     "text": [
      "[2025-04-30 16:19:58] (2.4.1.post1) Warning: reference sentiment does not exist or its number 0 is not equal to aspect number 1, text:  [B-ASP]Global Sentiment[E-ASP]    Can: Poured a clear amber color le with a nice large off-white foamy head with good retention and some lacing. Aroma of dank hoppy notes with some fruity ester and light caramel notes is quite enticing. Taste is a nice mix between some dank hoppy notes with some fruity ester and some dry caramel notes. Body is about average with good carbonation. Solid amber ale with plenty of character.  \n",
      "[2025-04-30 16:19:58] (2.4.1.post1) Example 0: Can: Poured a clear amber color le with a nice large off-white foamy head with good retention and some lacing. Aroma of dank hoppy notes with some fruity ester and light caramel notes is quite enticing. Taste is a nice mix between some dank hoppy notes with some fruity ester and some dry caramel notes. Body is about average with good carbonation. Solid amber ale with plenty of character.\n"
     ]
    },
    {
     "name": "stderr",
     "output_type": "stream",
     "text": [
      "  2%|▏         | 2/100 [00:00<00:17,  5.45it/s]"
     ]
    },
    {
     "name": "stdout",
     "output_type": "stream",
     "text": [
      "[2025-04-30 16:19:58] (2.4.1.post1) Warning: reference sentiment does not exist or its number 0 is not equal to aspect number 1, text:  [B-ASP]Global Sentiment[E-ASP]    L - \"oat cream IPA\". Jesus, OH, why you do this to me? Pours a flat, banana cream yellow. Thick haze with a whitish milky murk. S - grapefruit zest pops up front. Spicy lime and a marshmallow sugary sweetness, although that's subtle. T - green melon rind and soft, supple oaty creaminess. More lime and tangerine dream. It's got that zesty twang balanced by the luscious oats. Finishes mildly acidic with some serious hop bite. F - minimal carbonation until the very end when a little bit of foam crops up. Feel is generally medium-bodied and slick on the tongue. Smooth. O - I wanted to like this a lot more than I did, but it's still a great beer. More zest than cream, which is great in its own right, just not what's advertised on the tin!  \n",
      "[2025-04-30 16:19:58] (2.4.1.post1) Example 0: L - \"oat cream IPA\". Jesus, OH, why you do this to me? Pours a flat, banana cream yellow. Thick haze with a whitish milky murk. S - grapefruit zest pops up front. Spicy lime and a marshmallow sugary sweetness, although that's subtle. T - green melon rind and soft, supple oaty creaminess. More lime and tangerine dream. It's got that zesty twang balanced by the luscious oats. Finishes mildly acidic with some serious hop bite. F - minimal carbonation until the very end when a little bit of foam crops up. Feel is generally medium-bodied and slick on the tongue. Smooth. O - I wanted to like this a lot more than I did, but it's still a great beer. More zest than cream, which is great in its own right, just not what's advertised on the tin!\n"
     ]
    },
    {
     "name": "stderr",
     "output_type": "stream",
     "text": [
      "  3%|▎         | 3/100 [00:00<00:17,  5.53it/s]"
     ]
    },
    {
     "name": "stdout",
     "output_type": "stream",
     "text": [
      "[2025-04-30 16:19:58] (2.4.1.post1) Warning: reference sentiment does not exist or its number 0 is not equal to aspect number 1, text:  [B-ASP]Global Sentiment[E-ASP]    Draft into a Samichlaus snifter. A: Orange - red - hazey - very pretty - thin head, slight lacing. S: Vanilla, nutty, musty. T: Some roasted nuts, earthy malts, oak. M: Thin, lightly carbonated. O: I got it on draft for $3 and was not impressed. I'm a big fan of barrel aged beers, but this one didn't gain many interesting characteristics from the barrels it was stored in. Don't go out of your way for this one.  \n",
      "[2025-04-30 16:19:58] (2.4.1.post1) Example 0: Draft into a Samichlaus snifter. A: Orange - red - hazey - very pretty - thin head, slight lacing. S: Vanilla, nutty, musty. T: Some roasted nuts, earthy malts, oak. M: Thin, lightly carbonated. O: I got it on draft for $3 and was not impressed. I'm a big fan of barrel aged beers, but this one didn't gain many interesting characteristics from the barrels it was stored in. Don't go out of your way for this one.\n"
     ]
    },
    {
     "name": "stderr",
     "output_type": "stream",
     "text": [
      "  4%|▍         | 4/100 [00:00<00:17,  5.55it/s]"
     ]
    },
    {
     "name": "stdout",
     "output_type": "stream",
     "text": [
      "[2025-04-30 16:19:58] (2.4.1.post1) Warning: reference sentiment does not exist or its number 0 is not equal to aspect number 1, text:  [B-ASP]Global Sentiment[E-ASP]    Deschutes took Chicago by storm this past month, and I was lucky to go to numerous tasting sessions that had all their brews out. I feel that I was trying too many brews at once to give it a full review, so now I got a sixer and see how this pale ale is on my palate. A- Bright, transparent, sort of a blood orange type of hue. Lots of head retention that is nice and frothy. Lots of lacing is left behind. S- Such a wonderful tangerine smell, with copious amount of honey that make this smell so sweet. Lastly you smell a light malt smell that goes great with the honey. You can barely smell any hops here, as some pine barely makes it through. T- Initial light bitter, piney hops, that turns right into a sweet malt flavor that dominates my palate. I love malty beers so I may be biased. Tastes of honey biscuit, tangerine, and light grapefruit just come together to make a very solid beer. S- Light body and light carbonation makes this beer go down fast. O- I know hops are the craze nowadays, but this is my go to APA. This beer goes back to the basics with light amounts of hops and a nice sweet taste that goes down great.  \n",
      "[2025-04-30 16:19:58] (2.4.1.post1) Example 0: Deschutes took Chicago by storm this past month, and I was lucky to go to numerous tasting sessions that had all their brews out. I feel that I was trying too many brews at once to give it a full review, so now I got a sixer and see how this pale ale is on my palate. A- Bright, transparent, sort of a blood orange type of hue. Lots of head retention that is nice and frothy. Lots of lacing is left behind. S- Such a wonderful tangerine smell, with copious amount of honey that make this smell so sweet. Lastly you smell a light malt smell that goes great with the honey. You can barely smell any hops here, as some pine barely makes it through. T- Initial light bitter, piney hops, that turns right into a sweet malt flavor that dominates my palate. I love malty beers so I may be biased. Tastes of honey biscuit, tangerine, and light grapefruit just come together to make a very solid beer. S- Light body and light carbonation makes this beer go down fast. O- I know hops are the craze nowadays, but this is my go to APA. This beer goes back to the basics with light amounts of hops and a nice sweet taste that goes down great.\n"
     ]
    },
    {
     "name": "stderr",
     "output_type": "stream",
     "text": [
      "  5%|▌         | 5/100 [00:00<00:16,  5.61it/s]"
     ]
    },
    {
     "name": "stdout",
     "output_type": "stream",
     "text": [
      "[2025-04-30 16:19:58] (2.4.1.post1) Warning: reference sentiment does not exist or its number 0 is not equal to aspect number 1, text:  [B-ASP]Global Sentiment[E-ASP]    12-ounce bottle poured into a pint willi glass yields a clear bronze body capped with two fingers of soft white foam that holds at a fat sheet and leaves scattered scraps of lacing on the glass. Smell is softly malty with a twist of lemon and a spicy note. Taste is toasty malts and a bit nutty with a rush of zippy spice and a mildly bitter finish. Nice drink, pretty ho-hum.  \n",
      "[2025-04-30 16:19:59] (2.4.1.post1) Example 0: 12-ounce bottle poured into a pint willi glass yields a clear bronze body capped with two fingers of soft white foam that holds at a fat sheet and leaves scattered scraps of lacing on the glass. Smell is softly malty with a twist of lemon and a spicy note. Taste is toasty malts and a bit nutty with a rush of zippy spice and a mildly bitter finish. Nice drink, pretty ho-hum.\n"
     ]
    },
    {
     "name": "stderr",
     "output_type": "stream",
     "text": [
      "  6%|▌         | 6/100 [00:01<00:16,  5.70it/s]"
     ]
    },
    {
     "name": "stdout",
     "output_type": "stream",
     "text": [
      "[2025-04-30 16:19:59] (2.4.1.post1) Warning: reference sentiment does not exist or its number 0 is not equal to aspect number 1, text:  [B-ASP]Global Sentiment[E-ASP]    Appearance: pours a crystal clear golden yellow color with a 1/2\" head. Smell: light tropical fruit aroma. Taste: nice grainy malt profile with pineapple, lemon zest, grapefruit, and a bit of pine arrives late. Alcohol is mildly warming. Mouthfeel: medium bodied beer. Crisp throughout with a dry aftertaste. Overall: another enjoyable beer from Ballast Point.  \n",
      "[2025-04-30 16:19:59] (2.4.1.post1) Example 0: Appearance: pours a crystal clear golden yellow color with a 1/2\" head. Smell: light tropical fruit aroma. Taste: nice grainy malt profile with pineapple, lemon zest, grapefruit, and a bit of pine arrives late. Alcohol is mildly warming. Mouthfeel: medium bodied beer. Crisp throughout with a dry aftertaste. Overall: another enjoyable beer from Ballast Point.\n"
     ]
    },
    {
     "name": "stderr",
     "output_type": "stream",
     "text": [
      "  7%|▋         | 7/100 [00:01<00:16,  5.71it/s]"
     ]
    },
    {
     "name": "stdout",
     "output_type": "stream",
     "text": [
      "[2025-04-30 16:19:59] (2.4.1.post1) Warning: reference sentiment does not exist or its number 0 is not equal to aspect number 1, text:  [B-ASP]Global Sentiment[E-ASP]    This beer had a medium sized head that contained fine-medium sized bubbles.The hue of this beer was orange and it produced a decent lacing on the sides of my glass.To me it has a fruity, citrusy nose.This is definitely a bitter tasting beer.This is not my favorite style of beer; however, it wasn't that bad.  \n",
      "[2025-04-30 16:19:59] (2.4.1.post1) Example 0: This beer had a medium sized head that contained fine-medium sized bubbles.The hue of this beer was orange and it produced a decent lacing on the sides of my glass.To me it has a fruity, citrusy nose.This is definitely a bitter tasting beer.This is not my favorite style of beer; however, it wasn't that bad.\n"
     ]
    },
    {
     "name": "stderr",
     "output_type": "stream",
     "text": [
      "  8%|▊         | 8/100 [00:01<00:17,  5.13it/s]"
     ]
    },
    {
     "name": "stdout",
     "output_type": "stream",
     "text": [
      "[2025-04-30 16:19:59] (2.4.1.post1) Warning: reference sentiment does not exist or its number 0 is not equal to aspect number 1, text:  [B-ASP]Global Sentiment[E-ASP]    I went into it with low expectations and was very pleasantly surprised! Pours clear bright yellow with a thin head that dissipates fast. I couldn't get much of a head on a fairly aggressive pour. Aroma is subtle and not unpleasant, mild hops and distant corn and fermented grains. The taste was surprisingly good with a balance of bready biscuity malt and hops, with some grain and milled corn in there for sure but nothing unpleasant. Mouthfeel is light bodied but not watery, with medium carbonation. Finished clean and dry. Overall a very drinkable beer.  \n",
      "[2025-04-30 16:19:59] (2.4.1.post1) Example 0: I went into it with low expectations and was very pleasantly surprised! Pours clear bright yellow with a thin head that dissipates fast. I couldn't get much of a head on a fairly aggressive pour. Aroma is subtle and not unpleasant, mild hops and distant corn and fermented grains. The taste was surprisingly good with a balance of bready biscuity malt and hops, with some grain and milled corn in there for sure but nothing unpleasant. Mouthfeel is light bodied but not watery, with medium carbonation. Finished clean and dry. Overall a very drinkable beer.\n"
     ]
    },
    {
     "name": "stderr",
     "output_type": "stream",
     "text": [
      "  9%|▉         | 9/100 [00:01<00:17,  5.29it/s]"
     ]
    },
    {
     "name": "stdout",
     "output_type": "stream",
     "text": [
      "[2025-04-30 16:19:59] (2.4.1.post1) Warning: reference sentiment does not exist or its number 0 is not equal to aspect number 1, text:  [B-ASP]Global Sentiment[E-ASP]    My favorite De Garde. No other brewery is able to incorporate fruit into their beer so well as De Garde and this beer explodes with peach and apricot flavors. Drinking this beer is comparable to biting into a fresh apricot. Tartness, mouthfeel, and appearance are perfect. Glad I was able to snag another bottle.  \n",
      "[2025-04-30 16:19:59] (2.4.1.post1) Example 0: My favorite De Garde. No other brewery is able to incorporate fruit into their beer so well as De Garde and this beer explodes with peach and apricot flavors. Drinking this beer is comparable to biting into a fresh apricot. Tartness, mouthfeel, and appearance are perfect. Glad I was able to snag another bottle.\n"
     ]
    },
    {
     "name": "stderr",
     "output_type": "stream",
     "text": [
      " 10%|█         | 10/100 [00:01<00:16,  5.47it/s]"
     ]
    },
    {
     "name": "stdout",
     "output_type": "stream",
     "text": [
      "[2025-04-30 16:19:59] (2.4.1.post1) Warning: reference sentiment does not exist or its number 0 is not equal to aspect number 1, text:  [B-ASP]Global Sentiment[E-ASP]    Estrella Galicia seems an average lager. It pours a clear golden yellow color with a decent head and a decent lace; Smell is grainy and malty; Taste is sweet and grainy too; Mouthfeel is thin and crisp, Good carbonation; Easy to drink, very drinkable. ¡Salud!  \n",
      "[2025-04-30 16:20:00] (2.4.1.post1) Example 0: Estrella Galicia seems an average lager. It pours a clear golden yellow color with a decent head and a decent lace; Smell is grainy and malty; Taste is sweet and grainy too; Mouthfeel is thin and crisp, Good carbonation; Easy to drink, very drinkable. ¡Salud!\n"
     ]
    },
    {
     "name": "stderr",
     "output_type": "stream",
     "text": [
      " 11%|█         | 11/100 [00:02<00:16,  5.51it/s]"
     ]
    },
    {
     "name": "stdout",
     "output_type": "stream",
     "text": [
      "[2025-04-30 16:20:00] (2.4.1.post1) Warning: reference sentiment does not exist or its number 0 is not equal to aspect number 1, text:  [B-ASP]Global Sentiment[E-ASP]    Many breweries give their beers a special name. But far too many times, the taste of the beer falls short of what its creators decided to call it. Great Notion absolutely nailed this one. The beer literally tastes like blueberry pancakes. I've actually never had a beer with such an accurate representation. By FAR, one of the most delicious beers I have ever tasted. Go and try it NOW! How am I the first reviewer for this one?  \n",
      "[2025-04-30 16:20:00] (2.4.1.post1) Example 0: Many breweries give their beers a special name. But far too many times, the taste of the beer falls short of what its creators decided to call it. Great Notion absolutely nailed this one. The beer literally tastes like blueberry pancakes. I've actually never had a beer with such an accurate representation. By FAR, one of the most delicious beers I have ever tasted. Go and try it NOW! How am I the first reviewer for this one?\n"
     ]
    },
    {
     "name": "stderr",
     "output_type": "stream",
     "text": [
      " 12%|█▏        | 12/100 [00:02<00:15,  5.61it/s]"
     ]
    },
    {
     "name": "stdout",
     "output_type": "stream",
     "text": [
      "[2025-04-30 16:20:00] (2.4.1.post1) Warning: reference sentiment does not exist or its number 0 is not equal to aspect number 1, text:  [B-ASP]Global Sentiment[E-ASP]    This was a darn drinkable beer. I haven't had any doppelbocks before this, so I assume it is a good representative for the style. It tastes like a less intense stout. It had a good head on it which dissipated into a lace and then faided away. Dark of course. Very tasty. A drinkable stout is what kept coming to mind. Very good for the alcohol content.  \n",
      "[2025-04-30 16:20:00] (2.4.1.post1) Example 0: This was a darn drinkable beer. I haven't had any doppelbocks before this, so I assume it is a good representative for the style. It tastes like a less intense stout. It had a good head on it which dissipated into a lace and then faided away. Dark of course. Very tasty. A drinkable stout is what kept coming to mind. Very good for the alcohol content.\n"
     ]
    },
    {
     "name": "stderr",
     "output_type": "stream",
     "text": [
      " 13%|█▎        | 13/100 [00:02<00:15,  5.66it/s]"
     ]
    },
    {
     "name": "stdout",
     "output_type": "stream",
     "text": [
      "[2025-04-30 16:20:00] (2.4.1.post1) Warning: reference sentiment does not exist or its number 0 is not equal to aspect number 1, text:  [B-ASP]Global Sentiment[E-ASP]    Yeast. Malt. Raisin. Sweet. Phenomenal.\n",
      "[2025-04-30 16:20:00] (2.4.1.post1) Example 0: Yeast. Malt. Raisin. Sweet. Phenomenal.\n"
     ]
    },
    {
     "name": "stderr",
     "output_type": "stream",
     "text": [
      " 14%|█▍        | 14/100 [00:02<00:14,  5.74it/s]"
     ]
    },
    {
     "name": "stdout",
     "output_type": "stream",
     "text": [
      "[2025-04-30 16:20:00] (2.4.1.post1) Warning: reference sentiment does not exist or its number 0 is not equal to aspect number 1, text:  [B-ASP]Global Sentiment[E-ASP]    Pours orangey gold with large head. The aroma is spicy and phenolic with some bready malt. The flavor is spicy up front with some juiciness and a dry bitter finish. It's highly carbonated which takes away from the beer a little, but it's still a good example of the style.  \n",
      "[2025-04-30 16:20:00] (2.4.1.post1) Example 0: Pours orangey gold with large head. The aroma is spicy and phenolic with some bready malt. The flavor is spicy up front with some juiciness and a dry bitter finish. It's highly carbonated which takes away from the beer a little, but it's still a good example of the style.\n"
     ]
    },
    {
     "name": "stderr",
     "output_type": "stream",
     "text": [
      " 15%|█▌        | 15/100 [00:02<00:14,  5.80it/s]"
     ]
    },
    {
     "name": "stdout",
     "output_type": "stream",
     "text": [
      "[2025-04-30 16:20:00] (2.4.1.post1) Warning: reference sentiment does not exist or its number 0 is not equal to aspect number 1, text:  [B-ASP]Global Sentiment[E-ASP]    this is desert island beer for me, a nice grainy liquid bread sort of base saison, nice and low on the abv, but lots of body and texture, and flavored by all three elements. this really is fantastic stuff from side project, even though its some of their rarer releases that get all the hype, this one is just as good for me. batch or blend number 3 from what i gather, its a little hazy but very approachable looking, soft and inviting, with a puffy white head with great retention. maybe some rye in here? oats? more than just pale and pils type barley malt and wheat, a little peppery bite, maybe from the yeast, but possibly some rye malt too. the yeast is amazing, fully bretty, a little belgian, soft and fruity, white grape for sure, apricot, crab apple, and then the oak at the end, which is pretty mild in terms of flavor, serving more here as a mellowing agent and a vehicle for fermentation. really impressive beer, as much flavor as you can get into something this low in alcohol, rich on the grain front but bone dry, floral hoppy in the end with a little white wine note, some wood, a lot of delicate fruity funk from the mature brett, and en expressive level of carbonation that makes this positively sing on the palate. one of my new favorite styles, and one of the best takes on it i have seen in some time. not to be missed...  \n",
      "[2025-04-30 16:20:00] (2.4.1.post1) Example 0: this is desert island beer for me, a nice grainy liquid bread sort of base saison, nice and low on the abv, but lots of body and texture, and flavored by all three elements. this really is fantastic stuff from side project, even though its some of their rarer releases that get all the hype, this one is just as good for me. batch or blend number 3 from what i gather, its a little hazy but very approachable looking, soft and inviting, with a puffy white head with great retention. maybe some rye in here? oats? more than just pale and pils type barley malt and wheat, a little peppery bite, maybe from the yeast, but possibly some rye malt too. the yeast is amazing, fully bretty, a little belgian, soft and fruity, white grape for sure, apricot, crab apple, and then the oak at the end, which is pretty mild in terms of flavor, serving more here as a mellowing agent and a vehicle for fermentation. really impressive beer, as much flavor as you can get into something this low in alcohol, rich on the grain front but bone dry, floral hoppy in the end with a little white wine note, some wood, a lot of delicate fruity funk from the mature brett, and en expressive level of carbonation that makes this positively sing on the palate. one of my new favorite styles, and one of the best takes on it i have seen in\n"
     ]
    },
    {
     "name": "stderr",
     "output_type": "stream",
     "text": [
      " 16%|█▌        | 16/100 [00:02<00:15,  5.34it/s]"
     ]
    },
    {
     "name": "stdout",
     "output_type": "stream",
     "text": [
      "[2025-04-30 16:20:00] (2.4.1.post1) Warning: reference sentiment does not exist or its number 0 is not equal to aspect number 1, text:  [B-ASP]Global Sentiment[E-ASP]    A: On tap at Belmont Station Jan. 2015. Thick white head with nice lacing. Pale in color. S: Tropical fruits first followed by pine and citrus. Very pleasant. Definitely well dry hopped. T: Starts tropical with a citrus-pine middle with just a hint of sweet malts, finishes slightly bitter and very dry. M: Medium carbonation, low body with little malt. O: A very seasonable light in body beer with a dry finish. The lack of malts and body works in this because it have a very minimal bitterness. The dry hopping and late addition hops are the main feature of this ale. This leaves you feeling refreshed and not full. This along with Easy Jack are my two favorite session IPA's. If you're looking for a traditional IPA this won't be for you. Sessionable IPA's are great on a hot summer day or as a gateway craft drink for someone switching from domestics.  \n",
      "[2025-04-30 16:20:01] (2.4.1.post1) Example 0: A: On tap at Belmont Station Jan. 2015. Thick white head with nice lacing. Pale in color. S: Tropical fruits first followed by pine and citrus. Very pleasant. Definitely well dry hopped. T: Starts tropical with a citrus-pine middle with just a hint of sweet malts, finishes slightly bitter and very dry. M: Medium carbonation, low body with little malt. O: A very seasonable light in body beer with a dry finish. The lack of malts and body works in this because it have a very minimal bitterness. The dry hopping and late addition hops are the main feature of this ale. This leaves you feeling refreshed and not full. This along with Easy Jack are my two favorite session IPA's. If you're looking for a traditional IPA this won't be for you. Sessionable IPA's are great on a hot summer day or as a gateway craft drink for someone switching from domestics.\n"
     ]
    },
    {
     "name": "stderr",
     "output_type": "stream",
     "text": [
      " 17%|█▋        | 17/100 [00:03<00:15,  5.51it/s]"
     ]
    },
    {
     "name": "stdout",
     "output_type": "stream",
     "text": [
      "[2025-04-30 16:20:01] (2.4.1.post1) Warning: reference sentiment does not exist or its number 0 is not equal to aspect number 1, text:  [B-ASP]Global Sentiment[E-ASP]    12 0z bottle poure into plastic cup because I'm still at work Appearance: pure copper color with white head. Aroma: fruity with a little of oak Taste: really fruity and woody Mouthfeel: really sticky and cloying. Overall: I am glad it's only a 12 oz. it too sweet to drink too much. I enjoyed it though.  \n",
      "[2025-04-30 16:20:01] (2.4.1.post1) Example 0: 12 0z bottle poure into plastic cup because I'm still at work Appearance: pure copper color with white head. Aroma: fruity with a little of oak Taste: really fruity and woody Mouthfeel: really sticky and cloying. Overall: I am glad it's only a 12 oz. it too sweet to drink too much. I enjoyed it though.\n"
     ]
    },
    {
     "name": "stderr",
     "output_type": "stream",
     "text": [
      " 18%|█▊        | 18/100 [00:03<00:14,  5.63it/s]"
     ]
    },
    {
     "name": "stdout",
     "output_type": "stream",
     "text": [
      "[2025-04-30 16:20:01] (2.4.1.post1) Warning: reference sentiment does not exist or its number 0 is not equal to aspect number 1, text:  [B-ASP]Global Sentiment[E-ASP]    stubby little 11.2 oz. white bottle poured into a pint glass. murky light brown with an effervescing off-white head that falls quickly. a few chunky globs (coagulated proteins?) that settle after a few impatient minutes. sweet, sugary, fruity alcoholic aroma. caramel, carob, yeast, prunes, and candi sugar. sweet and incredibly pleasant. candi sugar and prunes appear once again in the flavor, with a touch of sweetness and alcohol in the finish. sweet but in a subtle, enjoyable way. prickly carbonation and a medium mouthfeel. nothing incredibly adventurous about it, but it could be a regular dessert-type sipping beer.  \n",
      "[2025-04-30 16:20:01] (2.4.1.post1) Example 0: stubby little 11.2 oz. white bottle poured into a pint glass. murky light brown with an effervescing off-white head that falls quickly. a few chunky globs (coagulated proteins?) that settle after a few impatient minutes. sweet, sugary, fruity alcoholic aroma. caramel, carob, yeast, prunes, and candi sugar. sweet and incredibly pleasant. candi sugar and prunes appear once again in the flavor, with a touch of sweetness and alcohol in the finish. sweet but in a subtle, enjoyable way. prickly carbonation and a medium mouthfeel. nothing incredibly adventurous about it, but it could be a regular dessert-type sipping beer.\n"
     ]
    },
    {
     "name": "stderr",
     "output_type": "stream",
     "text": [
      " 19%|█▉        | 19/100 [00:03<00:14,  5.68it/s]"
     ]
    },
    {
     "name": "stdout",
     "output_type": "stream",
     "text": [
      "[2025-04-30 16:20:01] (2.4.1.post1) Warning: reference sentiment does not exist or its number 0 is not equal to aspect number 1, text:  [B-ASP]Global Sentiment[E-ASP]    This beer is a mass produced English Pale Ale that is decent, but lacking all complexity. It pours a nice amber color, decent head, no lacing. This beer is plenty carbonated. The aroma is definitely earthy, caramel malt, slightly musty. This is a dry beer, quite light, quite drinkable because of its low ABV. The taste is earthy malts, some light caramels, diaceytl and buttery, but not cloyingly so. What you get on the front end is how the beer finishes. There isn't much complexity to the beer. Not much to say because it doesn't have loads of character either, but it is drinkable.  \n",
      "[2025-04-30 16:20:01] (2.4.1.post1) Example 0: This beer is a mass produced English Pale Ale that is decent, but lacking all complexity. It pours a nice amber color, decent head, no lacing. This beer is plenty carbonated. The aroma is definitely earthy, caramel malt, slightly musty. This is a dry beer, quite light, quite drinkable because of its low ABV. The taste is earthy malts, some light caramels, diaceytl and buttery, but not cloyingly so. What you get on the front end is how the beer finishes. There isn't much complexity to the beer. Not much to say because it doesn't have loads of character either, but it is drinkable.\n"
     ]
    },
    {
     "name": "stderr",
     "output_type": "stream",
     "text": [
      " 20%|██        | 20/100 [00:03<00:13,  5.76it/s]"
     ]
    },
    {
     "name": "stdout",
     "output_type": "stream",
     "text": [
      "[2025-04-30 16:20:01] (2.4.1.post1) Warning: reference sentiment does not exist or its number 0 is not equal to aspect number 1, text:  [B-ASP]Global Sentiment[E-ASP]    Poured from a bottle dated \"best By 28/09/19\" into the test glass A - Pitch black, a thin off white cap slowly fades into a loose knit ring of froth. A slow twist of the glass coaxes e revival of the cap. S - Dark char, vanilla, cigar wrap tobacco. fig, bakers chocolate, licorice. A rise in temperature releases Blackberry, some notes of tawny port and worn leather. The 13% alcohol lifts off the glass in fine fashion. T - Dark fruits, bitter chocolate, and coffee a touch of honey are the initial flavors, dark roast grains, vanilla undertones without being sweet. M - A bold move across the palate, bitter start then a chocolaty step is taken, quickly ushered out with deftness by the carbonation. The finish is pretty quick and surprisingly dry. I wonder if there was Champagne yeast involved? The alcohol evaporation has that special touch. A very slight linger on the tongue of semi sweet and hint of smoke to close the deal. O - A bold offering that is not shy about the aromatics or the flavors. Coffee, honey, vanilla are listed but not any one stands in the fore, however they combine quite well. I like the lack of barrel and the clean lines this offering takes, although they be bold lines! A treat worth seeking out.  \n",
      "[2025-04-30 16:20:01] (2.4.1.post1) Example 0: Poured from a bottle dated \"best By 28/09/19\" into the test glass A - Pitch black, a thin off white cap slowly fades into a loose knit ring of froth. A slow twist of the glass coaxes e revival of the cap. S - Dark char, vanilla, cigar wrap tobacco. fig, bakers chocolate, licorice. A rise in temperature releases Blackberry, some notes of tawny port and worn leather. The 13% alcohol lifts off the glass in fine fashion. T - Dark fruits, bitter chocolate, and coffee a touch of honey are the initial flavors, dark roast grains, vanilla undertones without being sweet. M - A bold move across the palate, bitter start then a chocolaty step is taken, quickly ushered out with deftness by the carbonation. The finish is pretty quick and surprisingly dry. I wonder if there was Champagne yeast involved? The alcohol evaporation has that special touch. A very slight linger on the tongue of semi sweet and hint of smoke to close the deal. O - A bold offering that is not shy about the aromatics or the flavors. Coffee, honey, vanilla are listed but not any one stands in the fore, however they combine quite well. I like the lack of barrel and the clean lines this offering takes, although they be bold lines! A treat worth seeking out.\n"
     ]
    },
    {
     "name": "stderr",
     "output_type": "stream",
     "text": [
      " 21%|██        | 21/100 [00:03<00:13,  5.78it/s]"
     ]
    },
    {
     "name": "stdout",
     "output_type": "stream",
     "text": [
      "[2025-04-30 16:20:01] (2.4.1.post1) Warning: reference sentiment does not exist or its number 0 is not equal to aspect number 1, text:  [B-ASP]Global Sentiment[E-ASP]    Second brown ale of the evening after a long period of avoiding the style. First one was Phil from Marshall Wharf. This was better, but not by much. Both were thoroughly enjoyable and extremely drinkable. Reminded me a bit of Tootsie Rolls. Light with nice carmely, chocolaty notes.  \n",
      "[2025-04-30 16:20:01] (2.4.1.post1) Example 0: Second brown ale of the evening after a long period of avoiding the style. First one was Phil from Marshall Wharf. This was better, but not by much. Both were thoroughly enjoyable and extremely drinkable. Reminded me a bit of Tootsie Rolls. Light with nice carmely, chocolaty notes.\n"
     ]
    },
    {
     "name": "stderr",
     "output_type": "stream",
     "text": [
      " 22%|██▏       | 22/100 [00:03<00:13,  5.82it/s]"
     ]
    },
    {
     "name": "stdout",
     "output_type": "stream",
     "text": [
      "[2025-04-30 16:20:01] (2.4.1.post1) Warning: reference sentiment does not exist or its number 0 is not equal to aspect number 1, text:  [B-ASP]Global Sentiment[E-ASP]    Poured from a bottle into a snifter. (Note: The bottle I have says 9.0% ABV versus 9.4%, perhaps indicative of a recipe tweak) A - A hazy golden/amber with a one-finger snow white head of mixed size bubbles. Decent lacing. S - Strong aroma of dank hops, pine, and tropical fruit. Some malt odor comes through as well, hopefully setting the stage for something good in the first sip. Smells like a good west coast imperial IPA should. T - Core is definitely West coast IPA flavor: mango, and grapefruit. A good bit of resinous pine. Fantastic sweet maui onion and garlic in the mid-palate. Biscuity malt provides a nice base and a hint of sweetness. The malt/hop balance is there and the complex hop bill is there. Flavors aren't \"blended\" or \"balanced\" yet, still work together. Delicious. M - Medium bodied with subdued carbonation and a dry finish. Somewhat slick and oily. That description doesn't encompass the drinkability here...it all comes together nearly perfectly so much so that I had to force myself to sip instead of gulp. O - Outstanding and just well put together on all levels. The vegetal onion/garlic notes really set this one apart from some of it's competition and border on divine to this taster. Why am I not drinking more Green Flash brews? A \"quick rebuy\", meaning I'll probably run out and get another bottle as soon as possible.  \n",
      "[2025-04-30 16:20:02] (2.4.1.post1) Example 0: Poured from a bottle into a snifter. (Note: The bottle I have says 9.0% ABV versus 9.4%, perhaps indicative of a recipe tweak) A - A hazy golden/amber with a one-finger snow white head of mixed size bubbles. Decent lacing. S - Strong aroma of dank hops, pine, and tropical fruit. Some malt odor comes through as well, hopefully setting the stage for something good in the first sip. Smells like a good west coast imperial IPA should. T - Core is definitely West coast IPA flavor: mango, and grapefruit. A good bit of resinous pine. Fantastic sweet maui onion and garlic in the mid-palate. Biscuity malt provides a nice base and a hint of sweetness. The malt/hop balance is there and the complex hop bill is there. Flavors aren't \"blended\" or \"balanced\" yet, still work together. Delicious. M - Medium bodied with subdued carbonation and a dry finish. Somewhat slick and oily. That description doesn't encompass the drinkability here...it all comes together nearly perfectly so much so that I had to force myself to sip instead of gulp. O - Outstanding and just well put together on all levels. The vegetal onion/garlic notes really set this one apart from some of it's competition and border on divine to this taster. Why am I not drinking more Green Flash brews? A \"quick rebuy\", meaning I'll probably run out and get another bottle as soon as possible.\n"
     ]
    },
    {
     "name": "stderr",
     "output_type": "stream",
     "text": [
      " 23%|██▎       | 23/100 [00:04<00:13,  5.82it/s]"
     ]
    },
    {
     "name": "stdout",
     "output_type": "stream",
     "text": [
      "[2025-04-30 16:20:02] (2.4.1.post1) Warning: reference sentiment does not exist or its number 0 is not equal to aspect number 1, text:  [B-ASP]Global Sentiment[E-ASP]    A: lightly copper tinged brown with a thin white head. S: very oaky, some balsamic and vanilla, mild acidity, faint cherries. T: similar, but everything is a bit milder than on the nose. Balsamic, light funk are key. M: low moderate carbonation decent chewy creaminess.  \n",
      "[2025-04-30 16:20:02] (2.4.1.post1) Example 0: A: lightly copper tinged brown with a thin white head. S: very oaky, some balsamic and vanilla, mild acidity, faint cherries. T: similar, but everything is a bit milder than on the nose. Balsamic, light funk are key. M: low moderate carbonation decent chewy creaminess.\n"
     ]
    },
    {
     "name": "stderr",
     "output_type": "stream",
     "text": [
      " 24%|██▍       | 24/100 [00:04<00:14,  5.35it/s]"
     ]
    },
    {
     "name": "stdout",
     "output_type": "stream",
     "text": [
      "[2025-04-30 16:20:02] (2.4.1.post1) Warning: reference sentiment does not exist or its number 0 is not equal to aspect number 1, text:  [B-ASP]Global Sentiment[E-ASP]    Pale straw yellow color with plenty carbonation bubbles. The head depends of the glass I use. With a good pilsner glass I can get a moderate soapy white head that has decent retention. The aroma is clean. Not much to it. Some grassy hops and grains. The flavor again is just clean refreshing American Lager. Nothing under or over the top. Not a lot going on. Super easy to drink and very light in body. Overall, this is at least a clean lager. There is no nasty aftertaste. Keep it cold and cut the grass with this lager.  \n",
      "[2025-04-30 16:20:02] (2.4.1.post1) Example 0: Pale straw yellow color with plenty carbonation bubbles. The head depends of the glass I use. With a good pilsner glass I can get a moderate soapy white head that has decent retention. The aroma is clean. Not much to it. Some grassy hops and grains. The flavor again is just clean refreshing American Lager. Nothing under or over the top. Not a lot going on. Super easy to drink and very light in body. Overall, this is at least a clean lager. There is no nasty aftertaste. Keep it cold and cut the grass with this lager.\n"
     ]
    },
    {
     "name": "stderr",
     "output_type": "stream",
     "text": [
      " 25%|██▌       | 25/100 [00:04<00:13,  5.51it/s]"
     ]
    },
    {
     "name": "stdout",
     "output_type": "stream",
     "text": [
      "[2025-04-30 16:20:02] (2.4.1.post1) Warning: reference sentiment does not exist or its number 0 is not equal to aspect number 1, text:  [B-ASP]Global Sentiment[E-ASP]    An average beer for this brewery, I much prefer the Spitfire. This was quite nice tasting, and the nose was good, had some nice hop aroma and a little bit of fruit. The taste had a little more fruit to it than I am used to from a bitter, but it was a bit thin on mouthfeel.  \n",
      "[2025-04-30 16:20:02] (2.4.1.post1) Example 0: An average beer for this brewery, I much prefer the Spitfire. This was quite nice tasting, and the nose was good, had some nice hop aroma and a little bit of fruit. The taste had a little more fruit to it than I am used to from a bitter, but it was a bit thin on mouthfeel.\n"
     ]
    },
    {
     "name": "stderr",
     "output_type": "stream",
     "text": [
      " 26%|██▌       | 26/100 [00:04<00:13,  5.61it/s]"
     ]
    },
    {
     "name": "stdout",
     "output_type": "stream",
     "text": [
      "[2025-04-30 16:20:02] (2.4.1.post1) Warning: reference sentiment does not exist or its number 0 is not equal to aspect number 1, text:  [B-ASP]Global Sentiment[E-ASP]    A- deep copper/dark brown, maybe a hint of red/purple. 1/2 inch head. Lacing slips down side and back to head which retains well. S- sweet cranberry/strawberry.Some pines but not as much as I would have expected in reading the label. T- A fruity taste in my mind. Some sours on the tongue, maybe a bit of beet? M- nice in the mouth. not exceptional but solid. D- overall I have to say I can only drink one of these. There is just something about the taste that isn't for me.  \n",
      "[2025-04-30 16:20:02] (2.4.1.post1) Example 0: A- deep copper/dark brown, maybe a hint of red/purple. 1/2 inch head. Lacing slips down side and back to head which retains well. S- sweet cranberry/strawberry.Some pines but not as much as I would have expected in reading the label. T- A fruity taste in my mind. Some sours on the tongue, maybe a bit of beet? M- nice in the mouth. not exceptional but solid. D- overall I have to say I can only drink one of these. There is just something about the taste that isn't for me.\n"
     ]
    },
    {
     "name": "stderr",
     "output_type": "stream",
     "text": [
      " 27%|██▋       | 27/100 [00:04<00:12,  5.70it/s]"
     ]
    },
    {
     "name": "stdout",
     "output_type": "stream",
     "text": [
      "[2025-04-30 16:20:02] (2.4.1.post1) Warning: reference sentiment does not exist or its number 0 is not equal to aspect number 1, text:  [B-ASP]Global Sentiment[E-ASP]    Poured from a 650ml bottle. A: Pours a clear amber with a thick white foamy head and nice sticky lacing. S: Great nose with this one,a West Coast Tropical Fruit nose as i like it. T: Lots of citrus and tropical fruit hops nice and bitter. F: Good carbonation the hops stay with you. O: A good IPA West Coast Style ( West Coast USA) best beer i have had from Russell for sure.  \n",
      "[2025-04-30 16:20:03] (2.4.1.post1) Example 0: Poured from a 650ml bottle. A: Pours a clear amber with a thick white foamy head and nice sticky lacing. S: Great nose with this one,a West Coast Tropical Fruit nose as i like it. T: Lots of citrus and tropical fruit hops nice and bitter. F: Good carbonation the hops stay with you. O: A good IPA West Coast Style ( West Coast USA) best beer i have had from Russell for sure.\n"
     ]
    },
    {
     "name": "stderr",
     "output_type": "stream",
     "text": [
      " 28%|██▊       | 28/100 [00:05<00:12,  5.74it/s]"
     ]
    },
    {
     "name": "stdout",
     "output_type": "stream",
     "text": [
      "[2025-04-30 16:20:03] (2.4.1.post1) Warning: reference sentiment does not exist or its number 0 is not equal to aspect number 1, text:  [B-ASP]Global Sentiment[E-ASP]    I picked up a Nitro bottle of Ballast Point's Red Velvet for $2.39 at The Lager Mill. This one seems a little weird and it caught my eye, so lets see how it goes. 2017 Vintage. Poured from a brown 12oz Nitro bottle into a imperial pint glass. A- The label is awesome and it goes great with this beer, it's very eye catching. It poured a bright red color that took on more of redish pink hue when held to the light with a fingers worth of slightly creamy off white head that died down to a thin ring that stayed till the end and it left a little bit of spotty lacing behind. This is a pretty nice looking beer, I have no complaints. S- The aroma starts off with a higher amount of medium sweetness with a weird beet aroma being the first to show up and that goes into the malts which impart a pretty grainy, pale malt and bread aromas. Up next comes some fruity aromas with no noticeable chocolate. This beer has a nice aroma, it's unique, but I don't think the beets help it. T- The taste seems to be a little similar to the aroma and it starts off with a lower amount of medium sweetness with the malts being the first to show up and they impart all the same aspects that they did in the aroma with the breadyness sticking out the most and it goes into the beets which show up a little less than they did in the aroma, but they still impart the same weird and earthy aspects. Up next comes an English ale yeast like flavor and on the finish there's a lighter amount of medium bitterness with a linger beat flavor. This is a decent tasting beer, but I don't feel like the flavors work that well together and it doesn't live up to it's name. M- Fairly smooth, pretty creamy, a little on the flat side, on thicker side of being medium bodied with a medium amount of carbonation. The mouthfeel is nice and it worked well with this beer, but I don't think the nitro really helped it. Overall I thought this beer was ok and I thought it was pretty much just an average example of the style and it's hard to pin point what style it is because it's not very oatmeal stout like at all and it doesn't really remind of red velvet cake. THis beer doesn't have good drinkability, one is more than enough for me. What I like the most about this beer is the appearance and aroma, those are the highlights of this beer. What I like the least about this beer is the taste and drinkability, they just aren't that good and they need some. I wouldn't buy this beer again and I might turn one down, I can't say I would recommend, if your want a beer that tastes like red velvet cake I think you will be disappointed. All in all wasn't a big fan of this beer and I think it just needs to be reworked from the ground up. It's one of my least favorite blast point beers and it's not a great example of the style. Better luck next time guys, this one could use some work.  \n",
      "[2025-04-30 16:20:03] (2.4.1.post1) Example 0: I picked up a Nitro bottle of Ballast Point's Red Velvet for $2.39 at The Lager Mill. This one seems a little weird and it caught my eye, so lets see how it goes. 2017 Vintage. Poured from a brown 12oz Nitro bottle into a imperial pint glass. A- The label is awesome and it goes great with this beer, it's very eye catching. It poured a bright red color that took on more of redish pink hue when held to the light with a fingers worth of slightly creamy off white head that died down to a thin ring that stayed till the end and it left a little bit of spotty lacing behind. This is a pretty nice looking beer, I have no complaints. S- The aroma starts off with a higher amount of medium sweetness with a weird beet aroma being the first to show up and that goes into the malts which impart a pretty grainy, pale malt and bread aromas. Up next comes some fruity aromas with no noticeable chocolate. This beer has a nice aroma, it's unique, but I don't think the beets help it. T- The taste seems to be a little similar to the aroma and it starts off with a lower amount of medium sweetness with the malts being the first to show up and they impart all the same aspects that they did in the aroma with the breadyness sticking out the most and it goes into\n"
     ]
    },
    {
     "name": "stderr",
     "output_type": "stream",
     "text": [
      " 29%|██▉       | 29/100 [00:05<00:12,  5.77it/s]"
     ]
    },
    {
     "name": "stdout",
     "output_type": "stream",
     "text": [
      "[2025-04-30 16:20:03] (2.4.1.post1) Warning: reference sentiment does not exist or its number 0 is not equal to aspect number 1, text:  [B-ASP]Global Sentiment[E-ASP]    Hazy dirty gold. White head. Smell of dirt. Yeast. Coriander. Taste of cracker. Butter biscuit. Coriander. Yeast esters. Banana. Feel is medium. High carbonation.  \n",
      "[2025-04-30 16:20:03] (2.4.1.post1) Example 0: Hazy dirty gold. White head. Smell of dirt. Yeast. Coriander. Taste of cracker. Butter biscuit. Coriander. Yeast esters. Banana. Feel is medium. High carbonation.\n"
     ]
    },
    {
     "name": "stderr",
     "output_type": "stream",
     "text": [
      " 30%|███       | 30/100 [00:05<00:12,  5.76it/s]"
     ]
    },
    {
     "name": "stdout",
     "output_type": "stream",
     "text": [
      "[2025-04-30 16:20:03] (2.4.1.post1) Warning: reference sentiment does not exist or its number 0 is not equal to aspect number 1, text:  [B-ASP]Global Sentiment[E-ASP]    Thanks to my brother for sharing this beer. There is no date on the bottle so I am not sure of the beer's freshness. As such, I will assume it is fresh and will rate accordingly. The beer pours a medium amber color with a tan head. The aroma is strong with the grass and piney hops, as well as some bready malt and a little bit of floral. The flavor is heavy on the grass and floraly hops. I also get a strong dose of toffee and bread from the malt. Low to medium bitterness. Medium mouthfeel and medium carbonation. Decent drinkability, but the hops and malt are slightly muddled and the beer just doesn't sit right with me.  \n",
      "[2025-04-30 16:20:03] (2.4.1.post1) Example 0: Thanks to my brother for sharing this beer. There is no date on the bottle so I am not sure of the beer's freshness. As such, I will assume it is fresh and will rate accordingly. The beer pours a medium amber color with a tan head. The aroma is strong with the grass and piney hops, as well as some bready malt and a little bit of floral. The flavor is heavy on the grass and floraly hops. I also get a strong dose of toffee and bread from the malt. Low to medium bitterness. Medium mouthfeel and medium carbonation. Decent drinkability, but the hops and malt are slightly muddled and the beer just doesn't sit right with me.\n"
     ]
    },
    {
     "name": "stderr",
     "output_type": "stream",
     "text": [
      " 31%|███       | 31/100 [00:05<00:12,  5.75it/s]"
     ]
    },
    {
     "name": "stdout",
     "output_type": "stream",
     "text": [
      "[2025-04-30 16:20:03] (2.4.1.post1) Warning: reference sentiment does not exist or its number 0 is not equal to aspect number 1, text:  [B-ASP]Global Sentiment[E-ASP]    On-tap 5/2/2017 at Flynn’s in Mansfield, MA, served in a tapered pint glass. A: The beer is a cloudy light yellow color, with a short white head that fades slowly and leaves a thin lace on the glass. S: The aroma contains grassy hops, caramelized malts and a little bit of citrus. T: The taste starts out with a strong burst of grassy hops bitterness that is quickly followed by a hearty but not too heavy malt character breadiness. The citrus sweetness is extremely mild but there’s still a very good balance. The after-taste is slightly hoppy. M: Crisp and smooth, medium body, medium carbonation, finish is dry and slightly sticky. O: Tasty, goes down very easily, not too filling, decent kick, good representation of style, this is a solid IPA to drink for a while.  \n",
      "[2025-04-30 16:20:03] (2.4.1.post1) Example 0: On-tap 5/2/2017 at Flynn’s in Mansfield, MA, served in a tapered pint glass. A: The beer is a cloudy light yellow color, with a short white head that fades slowly and leaves a thin lace on the glass. S: The aroma contains grassy hops, caramelized malts and a little bit of citrus. T: The taste starts out with a strong burst of grassy hops bitterness that is quickly followed by a hearty but not too heavy malt character breadiness. The citrus sweetness is extremely mild but there’s still a very good balance. The after-taste is slightly hoppy. M: Crisp and smooth, medium body, medium carbonation, finish is dry and slightly sticky. O: Tasty, goes down very easily, not too filling, decent kick, good representation of style, this is a solid IPA to drink for a while.\n"
     ]
    },
    {
     "name": "stderr",
     "output_type": "stream",
     "text": [
      " 32%|███▏      | 32/100 [00:05<00:12,  5.37it/s]"
     ]
    },
    {
     "name": "stdout",
     "output_type": "stream",
     "text": [
      "[2025-04-30 16:20:03] (2.4.1.post1) Warning: reference sentiment does not exist or its number 0 is not equal to aspect number 1, text:  [B-ASP]Global Sentiment[E-ASP]    Pours a nice deep gold with a one-finger head. Faint retention and very nice lacing. Looks very creamy. Nice carbonation. Smells deeply piney with faint citrus tones. Hits slightly bitter and rushes to a nice pine finish. Bitterness lasts well after the finish. Very little hint of alochol here. Very crisp and clean. Well worth a try or two ... or three.  \n",
      "[2025-04-30 16:20:03] (2.4.1.post1) Example 0: Pours a nice deep gold with a one-finger head. Faint retention and very nice lacing. Looks very creamy. Nice carbonation. Smells deeply piney with faint citrus tones. Hits slightly bitter and rushes to a nice pine finish. Bitterness lasts well after the finish. Very little hint of alochol here. Very crisp and clean. Well worth a try or two ... or three.\n"
     ]
    },
    {
     "name": "stderr",
     "output_type": "stream",
     "text": [
      " 33%|███▎      | 33/100 [00:05<00:12,  5.43it/s]"
     ]
    },
    {
     "name": "stdout",
     "output_type": "stream",
     "text": [
      "[2025-04-30 16:20:03] (2.4.1.post1) Warning: reference sentiment does not exist or its number 0 is not equal to aspect number 1, text:  [B-ASP]Global Sentiment[E-ASP]    Poured to a Duvel tulip glass. A: The body is coppery to red and it's opaque. The head is more white than beige but not totally white. There's some lacing but there's little retention. S: The aroma is very similar to an outdated IPA with tons of earthy and piny aromas but a bit more soft, I find it amazing. T: The taste has a strong influence by the IPA aroma having a profile close to a Belgian IPA. It's not great but it's interesting. M: Density is medium high. Carbonation is high. Bitterness is prominent. O: One of the best Letra beers that you can have all year round.  \n",
      "[2025-04-30 16:20:04] (2.4.1.post1) Example 0: Poured to a Duvel tulip glass. A: The body is coppery to red and it's opaque. The head is more white than beige but not totally white. There's some lacing but there's little retention. S: The aroma is very similar to an outdated IPA with tons of earthy and piny aromas but a bit more soft, I find it amazing. T: The taste has a strong influence by the IPA aroma having a profile close to a Belgian IPA. It's not great but it's interesting. M: Density is medium high. Carbonation is high. Bitterness is prominent. O: One of the best Letra beers that you can have all year round.\n"
     ]
    },
    {
     "name": "stderr",
     "output_type": "stream",
     "text": [
      " 34%|███▍      | 34/100 [00:06<00:11,  5.54it/s]"
     ]
    },
    {
     "name": "stdout",
     "output_type": "stream",
     "text": [
      "[2025-04-30 16:20:04] (2.4.1.post1) Warning: reference sentiment does not exist or its number 0 is not equal to aspect number 1, text:  [B-ASP]Global Sentiment[E-ASP]    A FANTASTIC treatment of Sorachi Ace, lots of flavor... just try it, you'll like it.\n",
      "[2025-04-30 16:20:04] (2.4.1.post1) Example 0: A FANTASTIC treatment of Sorachi Ace, lots of flavor... just try it, you'll like it.\n"
     ]
    },
    {
     "name": "stderr",
     "output_type": "stream",
     "text": [
      " 35%|███▌      | 35/100 [00:06<00:11,  5.63it/s]"
     ]
    },
    {
     "name": "stdout",
     "output_type": "stream",
     "text": [
      "[2025-04-30 16:20:04] (2.4.1.post1) Warning: reference sentiment does not exist or its number 0 is not equal to aspect number 1, text:  [B-ASP]Global Sentiment[E-ASP]    12oz brown bottle Breckenridge Pale Ale was orange-gold in color with and avege size white head. The head had fairly good retantion and left lacing behing. The nose was mainly of hops, but a sweet malt aroma was there also. The taste was good and balanced. It was medium in both body and carbonation. Good beer.  \n",
      "[2025-04-30 16:20:04] (2.4.1.post1) Example 0: 12oz brown bottle Breckenridge Pale Ale was orange-gold in color with and avege size white head. The head had fairly good retantion and left lacing behing. The nose was mainly of hops, but a sweet malt aroma was there also. The taste was good and balanced. It was medium in both body and carbonation. Good beer.\n"
     ]
    },
    {
     "name": "stderr",
     "output_type": "stream",
     "text": [
      " 36%|███▌      | 36/100 [00:06<00:11,  5.71it/s]"
     ]
    },
    {
     "name": "stdout",
     "output_type": "stream",
     "text": [
      "[2025-04-30 16:20:04] (2.4.1.post1) Warning: reference sentiment does not exist or its number 0 is not equal to aspect number 1, text:  [B-ASP]Global Sentiment[E-ASP]    A - Poured out a cloudy, copper color with a soapy, small head. It left a good deal of sticky lace. S - It smelled very floral and of grasses. Also, a fairly malty nose. T - It tasted very bitter with grassy hops. A nice roasted malt taste. M - It was crisp and sharp. A medium-bodied beer. D - This was a very nice beer. Too bad it was brewed just once.  \n",
      "[2025-04-30 16:20:04] (2.4.1.post1) Example 0: A - Poured out a cloudy, copper color with a soapy, small head. It left a good deal of sticky lace. S - It smelled very floral and of grasses. Also, a fairly malty nose. T - It tasted very bitter with grassy hops. A nice roasted malt taste. M - It was crisp and sharp. A medium-bodied beer. D - This was a very nice beer. Too bad it was brewed just once.\n"
     ]
    },
    {
     "name": "stderr",
     "output_type": "stream",
     "text": [
      " 37%|███▋      | 37/100 [00:06<00:10,  5.74it/s]"
     ]
    },
    {
     "name": "stdout",
     "output_type": "stream",
     "text": [
      "[2025-04-30 16:20:04] (2.4.1.post1) Warning: reference sentiment does not exist or its number 0 is not equal to aspect number 1, text:  [B-ASP]Global Sentiment[E-ASP]    Clear amber with quickly dissipating head, but sufficient carbonation leading to a decent mouthfeel. Malty and bready aroma lead straight into the caramelized malts of the taste. A sweet finish with just a hint of bittering hops at the end. Overall I think this is a good example of the traditional Vienna Lager beer style. Not my own personal favourite, but would recommend to anyone who enjoys that style.  \n",
      "[2025-04-30 16:20:04] (2.4.1.post1) Example 0: Clear amber with quickly dissipating head, but sufficient carbonation leading to a decent mouthfeel. Malty and bready aroma lead straight into the caramelized malts of the taste. A sweet finish with just a hint of bittering hops at the end. Overall I think this is a good example of the traditional Vienna Lager beer style. Not my own personal favourite, but would recommend to anyone who enjoys that style.\n"
     ]
    },
    {
     "name": "stderr",
     "output_type": "stream",
     "text": [
      " 38%|███▊      | 38/100 [00:06<00:10,  5.78it/s]"
     ]
    },
    {
     "name": "stdout",
     "output_type": "stream",
     "text": [
      "[2025-04-30 16:20:04] (2.4.1.post1) Warning: reference sentiment does not exist or its number 0 is not equal to aspect number 1, text:  [B-ASP]Global Sentiment[E-ASP]    First had this one tap at Revolution a few weeks ago while in Chicago and was blown away... Picked up a 6-pack of cans locally in Cleveland and just as good as it was on tap, very impressed. Easily one of my favorite beers of all time now and will be a regular in my fridge... Great job Revolution!  \n",
      "[2025-04-30 16:20:04] (2.4.1.post1) Example 0: First had this one tap at Revolution a few weeks ago while in Chicago and was blown away... Picked up a 6-pack of cans locally in Cleveland and just as good as it was on tap, very impressed. Easily one of my favorite beers of all time now and will be a regular in my fridge... Great job Revolution!\n"
     ]
    },
    {
     "name": "stderr",
     "output_type": "stream",
     "text": [
      " 39%|███▉      | 39/100 [00:06<00:10,  5.81it/s]"
     ]
    },
    {
     "name": "stdout",
     "output_type": "stream",
     "text": [
      "[2025-04-30 16:20:04] (2.4.1.post1) Warning: reference sentiment does not exist or its number 0 is not equal to aspect number 1, text:  [B-ASP]Global Sentiment[E-ASP]    Pours crystal clear bright yellow with a medium fluffy to creamy white head that dissapates VERY slowly to a thin layer with some real good lace for the style. Aroma is of earthy and crisp citrus hops with a little sweet bread in the back. The flavor is the same as above really. Just a hint of soft bitterness. The sweet bread comes through a little more in the flavor but the hops shine through to brighten things up a little. Very smooth. Mouthfeel is medium bodied, crisp and smooth. I could drink a whole keg of this it's so drinkable.  \n",
      "[2025-04-30 16:20:05] (2.4.1.post1) Example 0: Pours crystal clear bright yellow with a medium fluffy to creamy white head that dissapates VERY slowly to a thin layer with some real good lace for the style. Aroma is of earthy and crisp citrus hops with a little sweet bread in the back. The flavor is the same as above really. Just a hint of soft bitterness. The sweet bread comes through a little more in the flavor but the hops shine through to brighten things up a little. Very smooth. Mouthfeel is medium bodied, crisp and smooth. I could drink a whole keg of this it's so drinkable.\n"
     ]
    },
    {
     "name": "stderr",
     "output_type": "stream",
     "text": [
      " 40%|████      | 40/100 [00:07<00:11,  5.42it/s]"
     ]
    },
    {
     "name": "stdout",
     "output_type": "stream",
     "text": [
      "[2025-04-30 16:20:05] (2.4.1.post1) Warning: reference sentiment does not exist or its number 0 is not equal to aspect number 1, text:  [B-ASP]Global Sentiment[E-ASP]    Poured this 750 mL green bottle into a Tripel Karmeliet glass. Dated \"15- sept 1999\". I purchased this beer @ UTObeer in the Borough Market in London while there in 2007. The label is in Flemish I believe. I paid 9.00 pounds for this one ($18+ at the time). It was a bargain. The cork popped loud and far despite my gentle opening. The cork was stamped with \"SB 10\". The first pour was bright and a clear rich golden color. Cloudier on subsequent pours. The brittle white head sizzled down fairly fast leaving only a film created by the nucleation of the glass. Smell was pretty bold. Pear and Pixie Stix candy. Public toilet dampness faded from the aroma. This one cleaned up and hints of pepper arose. Interesting. Taste was tart and fruity. Champagne-like. Wood notes. Bone dry. Delicious but not especially complex. It doesn't seem to change and unfold like some superior Gueuzes. I could drink this any day and be thrilled! Mouthfeel was prickly with a medium body. Finishes a bit deflated. Overall, very good!  \n",
      "[2025-04-30 16:20:05] (2.4.1.post1) Example 0: Poured this 750 mL green bottle into a Tripel Karmeliet glass. Dated \"15- sept 1999\". I purchased this beer @ UTObeer in the Borough Market in London while there in 2007. The label is in Flemish I believe. I paid 9.00 pounds for this one ($18+ at the time). It was a bargain. The cork popped loud and far despite my gentle opening. The cork was stamped with \"SB 10\". The first pour was bright and a clear rich golden color. Cloudier on subsequent pours. The brittle white head sizzled down fairly fast leaving only a film created by the nucleation of the glass. Smell was pretty bold. Pear and Pixie Stix candy. Public toilet dampness faded from the aroma. This one cleaned up and hints of pepper arose. Interesting. Taste was tart and fruity. Champagne-like. Wood notes. Bone dry. Delicious but not especially complex. It doesn't seem to change and unfold like some superior Gueuzes. I could drink this any day and be thrilled! Mouthfeel was prickly with a medium body. Finishes a bit deflated. Overall, very good!\n"
     ]
    },
    {
     "name": "stderr",
     "output_type": "stream",
     "text": [
      " 41%|████      | 41/100 [00:07<00:10,  5.51it/s]"
     ]
    },
    {
     "name": "stdout",
     "output_type": "stream",
     "text": [
      "[2025-04-30 16:20:05] (2.4.1.post1) Warning: reference sentiment does not exist or its number 0 is not equal to aspect number 1, text:  [B-ASP]Global Sentiment[E-ASP]    Presentation: 11.2oz brown pop top with nice label and freshness date Appearance: Hazy dark amber/burgundy beer with big beige head with good retention and lots of carbonation Smell: Lots of dark fruit up front, dried figs and raisins, caramel malts, toasted biscuity bread...nice Taste: More malt forward than I thought...cotton-candy sweetness, dark caramel malt, touch of dark fruit...sadly this ends with the same odd metallic twang that the other two beers from this brewery I've sampled had...it really takes away from the experience Mouthfeel: Medium/heavy Drinkability: Medium Conclusion: This is much better than the other two beers by Van Eecke that I've had...this is pretty good, except for the weird metallic bitterness on the finish and the fact that (this is the third beer from this brewery, all bought in a gift pack, that has almost immediately made my stomach churn, in a weird acidic way...I'm not sure what's up with that...)  \n",
      "[2025-04-30 16:20:05] (2.4.1.post1) Example 0: Presentation: 11.2oz brown pop top with nice label and freshness date Appearance: Hazy dark amber/burgundy beer with big beige head with good retention and lots of carbonation Smell: Lots of dark fruit up front, dried figs and raisins, caramel malts, toasted biscuity bread...nice Taste: More malt forward than I thought...cotton-candy sweetness, dark caramel malt, touch of dark fruit...sadly this ends with the same odd metallic twang that the other two beers from this brewery I've sampled had...it really takes away from the experience Mouthfeel: Medium/heavy Drinkability: Medium Conclusion: This is much better than the other two beers by Van Eecke that I've had...this is pretty good, except for the weird metallic bitterness on the finish and the fact that (this is the third beer from this brewery, all bought in a gift pack, that has almost immediately made my stomach churn, in a weird acidic way...I'm not sure what's up with that...)\n"
     ]
    },
    {
     "name": "stderr",
     "output_type": "stream",
     "text": [
      " 42%|████▏     | 42/100 [00:07<00:10,  5.60it/s]"
     ]
    },
    {
     "name": "stdout",
     "output_type": "stream",
     "text": [
      "[2025-04-30 16:20:05] (2.4.1.post1) Warning: reference sentiment does not exist or its number 0 is not equal to aspect number 1, text:  [B-ASP]Global Sentiment[E-ASP]    Appearance: Pours a bright, clear yellow body with a white head. Smell: A spicy, floral aroma with notes of juicy pineapple and watered down honey. Taste: Thin, fleeting cereal sweetness with the taste of pears before the jarring bitterness and heavy acidity of the long, unpleasant finish. Mouthfeel: Thin-bodied. Medium carbonation. Drinkability: Harsh and uninteresting.  \n",
      "[2025-04-30 16:20:05] (2.4.1.post1) Example 0: Appearance: Pours a bright, clear yellow body with a white head. Smell: A spicy, floral aroma with notes of juicy pineapple and watered down honey. Taste: Thin, fleeting cereal sweetness with the taste of pears before the jarring bitterness and heavy acidity of the long, unpleasant finish. Mouthfeel: Thin-bodied. Medium carbonation. Drinkability: Harsh and uninteresting.\n"
     ]
    },
    {
     "name": "stderr",
     "output_type": "stream",
     "text": [
      " 43%|████▎     | 43/100 [00:07<00:09,  5.71it/s]"
     ]
    },
    {
     "name": "stdout",
     "output_type": "stream",
     "text": [
      "[2025-04-30 16:20:05] (2.4.1.post1) Warning: reference sentiment does not exist or its number 0 is not equal to aspect number 1, text:  [B-ASP]Global Sentiment[E-ASP]    30cl brown bottle, filtered. BB 06/06. Served cool in a slim goblet. A: pours a dark caramely and dark reddish colour--beautiful~~ the off-white beer head dissipates quite fast, on top of a constant and gently bubbly body. S: intriguing nose... strawberry-jam, vanilla, richly toffeeish, caramel malts+malt syrup, sour-sweet licorice-smoked prunes (a Taiwanese delicacy)... Slightly too sweet for me, but the overall nose truly is distinctive. T: very interesting flavour mixing corn-syrup, ripe fig/fig jam, root-vegetable flavour like boiled potatos, and an underlying aftertaste of the afore-mentioned prunes... weak hoppyness behind with a touch of bitterness, but a licorice and mixed herbal bitter-sweetness lingers in the finish. This beer really reminds me a lot of Taiwanese high-mountain tea infused with a licorice-smoked prune--lovely faintly sour+bitter-sweet and herbal-ish lingering aftertaste rounds off the palate smoothly~~ M&D: creamy smooth texture and very balanced body; the drinkability is good due to its unusual taste, but I really struggle to categorise this beer. Maybe somebody who will have tried it could shed some lights on this?  \n",
      "[2025-04-30 16:20:05] (2.4.1.post1) Example 0: 30cl brown bottle, filtered. BB 06/06. Served cool in a slim goblet. A: pours a dark caramely and dark reddish colour--beautiful~~ the off-white beer head dissipates quite fast, on top of a constant and gently bubbly body. S: intriguing nose... strawberry-jam, vanilla, richly toffeeish, caramel malts+malt syrup, sour-sweet licorice-smoked prunes (a Taiwanese delicacy)... Slightly too sweet for me, but the overall nose truly is distinctive. T: very interesting flavour mixing corn-syrup, ripe fig/fig jam, root-vegetable flavour like boiled potatos, and an underlying aftertaste of the afore-mentioned prunes... weak hoppyness behind with a touch of bitterness, but a licorice and mixed herbal bitter-sweetness lingers in the finish. This beer really reminds me a lot of Taiwanese high-mountain tea infused with a licorice-smoked prune--lovely faintly sour+bitter-sweet and herbal-ish lingering aftertaste rounds off the palate smoothly~~ M&D: creamy smooth texture and very balanced body; the drinkability is good due to its unusual taste, but I really struggle to categorise this beer. Maybe somebody who will have tried it could shed some lights on this?\n"
     ]
    },
    {
     "name": "stderr",
     "output_type": "stream",
     "text": [
      " 44%|████▍     | 44/100 [00:07<00:10,  5.54it/s]"
     ]
    },
    {
     "name": "stdout",
     "output_type": "stream",
     "text": [
      "[2025-04-30 16:20:05] (2.4.1.post1) Warning: reference sentiment does not exist or its number 0 is not equal to aspect number 1, text:  [B-ASP]Global Sentiment[E-ASP]    Pours that gorgeous nitro infused mix of caramel cappucino and finishing into a fairly dark color stout (closer to a brown, borderline porter). Massive dense head is poured, pretty requisite to style. Aroma is pretty mute: whiffs of roasted grain, some creamy milk chocolate, a bit of floral hops, and finally some bitter black patent. On the palate, it is a luxurious smoothness of a light Irish stout, very dry with the creamy chocolate flavors coming first, a little astringency in the mid palate and finishing with a long sustain of black patent bitterness. Mouthfeel is spot on, low carbonation, medium body with a nicely textured head. Overall, these are the stouts for summer drinking. I spotted some Shakespeare and Yeti and decided when it's 80 plus out, this is a better option.  \n",
      "[2025-04-30 16:20:06] (2.4.1.post1) Example 0: Pours that gorgeous nitro infused mix of caramel cappucino and finishing into a fairly dark color stout (closer to a brown, borderline porter). Massive dense head is poured, pretty requisite to style. Aroma is pretty mute: whiffs of roasted grain, some creamy milk chocolate, a bit of floral hops, and finally some bitter black patent. On the palate, it is a luxurious smoothness of a light Irish stout, very dry with the creamy chocolate flavors coming first, a little astringency in the mid palate and finishing with a long sustain of black patent bitterness. Mouthfeel is spot on, low carbonation, medium body with a nicely textured head. Overall, these are the stouts for summer drinking. I spotted some Shakespeare and Yeti and decided when it's 80 plus out, this is a better option.\n"
     ]
    },
    {
     "name": "stderr",
     "output_type": "stream",
     "text": [
      " 45%|████▌     | 45/100 [00:08<00:09,  5.64it/s]"
     ]
    },
    {
     "name": "stdout",
     "output_type": "stream",
     "text": [
      "[2025-04-30 16:20:06] (2.4.1.post1) Warning: reference sentiment does not exist or its number 0 is not equal to aspect number 1, text:  [B-ASP]Global Sentiment[E-ASP]    On tap at Blu Wolf Bistro in Rochester, NY. This one pours a nice orange-ish yellow, with a very small head, not long lasting, with a little bit of lacing. Smells like grass, pine, orange, grapefruit, and some crackery malt. This isn't quite as good as some of the hoppy lagers being put out in Framingham, MA, but it's still nice anyway. There's a slightly wateriness on the finish, but up front, there's some nice crisp hoppiness, crackery malt, a grassy/piney bite, and some sweet citrus. This has a light, thin body, with a crisp mouthfeel, and a moderate level of carbonation. Another really nice beer from Singlecut, but not one of their best.  \n",
      "[2025-04-30 16:20:06] (2.4.1.post1) Example 0: On tap at Blu Wolf Bistro in Rochester, NY. This one pours a nice orange-ish yellow, with a very small head, not long lasting, with a little bit of lacing. Smells like grass, pine, orange, grapefruit, and some crackery malt. This isn't quite as good as some of the hoppy lagers being put out in Framingham, MA, but it's still nice anyway. There's a slightly wateriness on the finish, but up front, there's some nice crisp hoppiness, crackery malt, a grassy/piney bite, and some sweet citrus. This has a light, thin body, with a crisp mouthfeel, and a moderate level of carbonation. Another really nice beer from Singlecut, but not one of their best.\n"
     ]
    },
    {
     "name": "stderr",
     "output_type": "stream",
     "text": [
      " 46%|████▌     | 46/100 [00:08<00:09,  5.72it/s]"
     ]
    },
    {
     "name": "stdout",
     "output_type": "stream",
     "text": [
      "[2025-04-30 16:20:06] (2.4.1.post1) Warning: reference sentiment does not exist or its number 0 is not equal to aspect number 1, text:  [B-ASP]Global Sentiment[E-ASP]    2004 batch (gold foil): I had been saving this one for quite some time and I wasn't disappointed. It poured a rich caramel/toffee colour with a thin ring of fine bubbles. Very mellow, well-integrated aroma, with notes of caramel, apple, toffee, and brown sugar. The flavour has a fine balance - moderate bitterness with plenty of bready malt. Apple, chocolate, and toffee all make contributions as well. The finish has a tootsie roll character and fruit lingers beyond that. No alcohol was apparent. Full bodied with low carbonation and an extremely smooth texture. Truly awesome. The balance in the flavour and aroma was superb. I wish I had more of these beauties in storage. I miss this beer already...  \n",
      "[2025-04-30 16:20:06] (2.4.1.post1) Example 0: 2004 batch (gold foil): I had been saving this one for quite some time and I wasn't disappointed. It poured a rich caramel/toffee colour with a thin ring of fine bubbles. Very mellow, well-integrated aroma, with notes of caramel, apple, toffee, and brown sugar. The flavour has a fine balance - moderate bitterness with plenty of bready malt. Apple, chocolate, and toffee all make contributions as well. The finish has a tootsie roll character and fruit lingers beyond that. No alcohol was apparent. Full bodied with low carbonation and an extremely smooth texture. Truly awesome. The balance in the flavour and aroma was superb. I wish I had more of these beauties in storage. I miss this beer already...\n"
     ]
    },
    {
     "name": "stderr",
     "output_type": "stream",
     "text": [
      " 47%|████▋     | 47/100 [00:08<00:09,  5.61it/s]"
     ]
    },
    {
     "name": "stdout",
     "output_type": "stream",
     "text": [
      "[2025-04-30 16:20:06] (2.4.1.post1) Warning: reference sentiment does not exist or its number 0 is not equal to aspect number 1, text:  [B-ASP]Global Sentiment[E-ASP]    A - Poured out a clear, golden-orange color with a small, thin, white head of foam. It was short lived and left minimal lacing. S - It smelled of dried fruits, caramel and some spicy, floral hops. T - Good sweet caramel maltiness with a good dose of spiciness. There was a mild dried fruit (raisin) flavor. M - It was crisp and very sharp. A medium bodied ale with a smooth, dry finish. D - This is a pretty good ale. I've had better Belgian-style Pale Ales but this one was worth a shot.  \n",
      "[2025-04-30 16:20:06] (2.4.1.post1) Example 0: A - Poured out a clear, golden-orange color with a small, thin, white head of foam. It was short lived and left minimal lacing. S - It smelled of dried fruits, caramel and some spicy, floral hops. T - Good sweet caramel maltiness with a good dose of spiciness. There was a mild dried fruit (raisin) flavor. M - It was crisp and very sharp. A medium bodied ale with a smooth, dry finish. D - This is a pretty good ale. I've had better Belgian-style Pale Ales but this one was worth a shot.\n"
     ]
    },
    {
     "name": "stderr",
     "output_type": "stream",
     "text": [
      " 48%|████▊     | 48/100 [00:08<00:09,  5.23it/s]"
     ]
    },
    {
     "name": "stdout",
     "output_type": "stream",
     "text": [
      "[2025-04-30 16:20:06] (2.4.1.post1) Warning: reference sentiment does not exist or its number 0 is not equal to aspect number 1, text:  [B-ASP]Global Sentiment[E-ASP]    Presentation: Bless my little cotton Commie socks. A beer from Baltika which doesnt have a number! One of the great things about living in LA is the multi-cultural atmosphere I work in, my work colleagues know my love for beer and often I get unexpected gifts from some obscure places, this is one of them from a fellow Engineer formerly of Russia. A metric sized half-litre (500ml) brown glass bottle, labeled as 1 Pint 0.9 fluid ounces for the US market. The label is all foreign to me though, none of this translated Arsenalnoye rubbish, my bottle has the word APCEHA&#923;&#1041;HOE which translates as Beer from the Arsenal, in rough speak above the words Extra Lager in a smaller white text. The Arsenal heritage is borne out by the symbol atop the main label, a pair of dueling flintlock pistols crossed over a large letter A in a red circle. Main crown cap is red and has the text APCEHA&#923;&#1041;HOE &#1055;&#1054;&#1042;&#1054;. Listed as Alc. 7.0% by Vol. with a Production Date of 03.08.05 and Best before Date of 03.08.06. Appearance: Tremendous head on the pour, an expansive white jobby which stays at around 1-2 for some time and only slowly collapses, but always leaves a decent covering. Faded golden body with a pale-straw super-lucid clarity. A handful of streamers with average carbonation levels. Soft lacing which soon slides down back into the body of the Lager. Nose: Low strength aromas, I struggled to get anything at first, but I managed to get a reasonable guess at what was going on before the beer completely disappeared. Taste: Biscuit malts, pale and lightly toasted with some sweetness and a little grassy bitterness in the finish. Very middle of the road, it never strays from the tried-and-tested Lager formula, but there again neither does it suffer the awful adjunct laden sweet corn soaked in high alcohol crappy tastes that many East-Euro 5%+ Lagers project. Clean enough to enjoy but simple enough to forget. Mouthfeel: Never found the alleged 7% alcohol, unless it was asleep and waiting to kick my ass later on. Conditioning was good enough to add a smooth aspect and the lightly chilled body which kept the tastes in check. It felt OK, nothing great but good enough. Drinkability: I must stay that I really did not mind this one, not mediocre but nothing more than average. Simple enough with a clean profile, and I certainly wouldnt turn this one away at a Russian BBQ if it were offered. Overall: Not that bad actually, rather surprised in fact. But still just OK.  \n",
      "[2025-04-30 16:20:06] (2.4.1.post1) Example 0: Presentation: Bless my little cotton Commie socks. A beer from Baltika which doesnt have a number! One of the great things about living in LA is the multi-cultural atmosphere I work in, my work colleagues know my love for beer and often I get unexpected gifts from some obscure places, this is one of them from a fellow Engineer formerly of Russia. A metric sized half-litre (500ml) brown glass bottle, labeled as 1 Pint 0.9 fluid ounces for the US market. The label is all foreign to me though, none of this translated Arsenalnoye rubbish, my bottle has the word APCEHA&#923;&#1041;HOE which translates as Beer from the Arsenal, in rough speak above the words Extra Lager in a smaller white text. The Arsenal heritage is borne out by the symbol atop the main label, a pair of dueling flintlock pistols crossed over a large letter A in a red circle. Main crown cap is red and has the text APCEHA&#923;&#1041;HOE &#1055;&#1054;&#1042;&#1054;. Listed as Alc. 7.0% by Vol. with a Production Date of 03.08.05 and Best before Date of 03.08.06. Appearance: Tremendous head on the pour, an expansive white jobby which stays at around 1-2 for some time and only slowly collapses, but always leaves a decent covering. Faded golden body with a pale-straw super-lucid clarity. A handful of streamers with average carbonation levels. Soft lacing which soon slides down back into the body of the Lager. Nose: Low strength aromas, I struggled to get anything at first,\n"
     ]
    },
    {
     "name": "stderr",
     "output_type": "stream",
     "text": [
      " 49%|████▉     | 49/100 [00:08<00:09,  5.39it/s]"
     ]
    },
    {
     "name": "stdout",
     "output_type": "stream",
     "text": [
      "[2025-04-30 16:20:06] (2.4.1.post1) Warning: reference sentiment does not exist or its number 0 is not equal to aspect number 1, text:  [B-ASP]Global Sentiment[E-ASP]    341 mL brown bottle, undated. Pours a dark, opaque brown with a generous tan head. Big hop aroma, citric and resinous. Nutty malts are quickly overpowered by grapefruit rind and pine. Hints of bitter chocolate come through near the end. Lingering bitterness, semi-sweet. Full-bodied with moderate carbonation. Although not unpleasant, this is not what I think a brown ale should be like. Unbalanced, with too much emphasis on the hops.  \n",
      "[2025-04-30 16:20:07] (2.4.1.post1) Example 0: 341 mL brown bottle, undated. Pours a dark, opaque brown with a generous tan head. Big hop aroma, citric and resinous. Nutty malts are quickly overpowered by grapefruit rind and pine. Hints of bitter chocolate come through near the end. Lingering bitterness, semi-sweet. Full-bodied with moderate carbonation. Although not unpleasant, this is not what I think a brown ale should be like. Unbalanced, with too much emphasis on the hops.\n"
     ]
    },
    {
     "name": "stderr",
     "output_type": "stream",
     "text": [
      " 50%|█████     | 50/100 [00:08<00:09,  5.40it/s]"
     ]
    },
    {
     "name": "stdout",
     "output_type": "stream",
     "text": [
      "[2025-04-30 16:20:07] (2.4.1.post1) Warning: reference sentiment does not exist or its number 0 is not equal to aspect number 1, text:  [B-ASP]Global Sentiment[E-ASP]    hazy gold with thick white head that sticks around with good lacing. this is how this beer should look plain and simple. the aroma is intensly fruity with loads of different fruity smells... strawberry banana, citrus, mango, pear, apple, pineapple. they're all apparent at some point in the bottle or another, great complexity. there are also cloves, a light peppery quality, and light plastic-y type aroma, that might be a product of the funky yeast characteristics. an almost sweet barbeque sauce smell shows up as it warms too, as well as a little alcohol. the taste is tangy and acidic. citrus and pinapple seem to be most dominant. mango and apple sit in the background. it has a funky dry yeasty mustiness. minty floral hop aftertaste. hint of hay in the aftertaste too. as it approaches room temp a faint molasses flavor shows up. medium bodied with lively carbonation and dry as a bone. good drinkability, has well masked 9% abv and very easy to sip the entire botte away over a couple hours. an excellent funky fruity belgian pale.  \n",
      "[2025-04-30 16:20:07] (2.4.1.post1) Example 0: hazy gold with thick white head that sticks around with good lacing. this is how this beer should look plain and simple. the aroma is intensly fruity with loads of different fruity smells... strawberry banana, citrus, mango, pear, apple, pineapple. they're all apparent at some point in the bottle or another, great complexity. there are also cloves, a light peppery quality, and light plastic-y type aroma, that might be a product of the funky yeast characteristics. an almost sweet barbeque sauce smell shows up as it warms too, as well as a little alcohol. the taste is tangy and acidic. citrus and pinapple seem to be most dominant. mango and apple sit in the background. it has a funky dry yeasty mustiness. minty floral hop aftertaste. hint of hay in the aftertaste too. as it approaches room temp a faint molasses flavor shows up. medium bodied with lively carbonation and dry as a bone. good drinkability, has well masked 9% abv and very easy to sip the entire botte away over a couple hours. an excellent funky fruity belgian pale.\n"
     ]
    },
    {
     "name": "stderr",
     "output_type": "stream",
     "text": [
      " 51%|█████     | 51/100 [00:09<00:09,  5.39it/s]"
     ]
    },
    {
     "name": "stdout",
     "output_type": "stream",
     "text": [
      "[2025-04-30 16:20:07] (2.4.1.post1) Warning: reference sentiment does not exist or its number 0 is not equal to aspect number 1, text:  [B-ASP]Global Sentiment[E-ASP]    It if def a Rye Porter. The rye dominates the palate. The mouthfeel was nice and silky. great to look at. If you like beers made with rye, you will love this one  \n",
      "[2025-04-30 16:20:07] (2.4.1.post1) Example 0: It if def a Rye Porter. The rye dominates the palate. The mouthfeel was nice and silky. great to look at. If you like beers made with rye, you will love this one\n"
     ]
    },
    {
     "name": "stderr",
     "output_type": "stream",
     "text": [
      " 52%|█████▏    | 52/100 [00:09<00:08,  5.52it/s]"
     ]
    },
    {
     "name": "stdout",
     "output_type": "stream",
     "text": [
      "[2025-04-30 16:20:07] (2.4.1.post1) Warning: reference sentiment does not exist or its number 0 is not equal to aspect number 1, text:  [B-ASP]Global Sentiment[E-ASP]    0%\n",
      "[2025-04-30 16:20:07] (2.4.1.post1) Example 0: 0%\n"
     ]
    },
    {
     "name": "stderr",
     "output_type": "stream",
     "text": [
      " 53%|█████▎    | 53/100 [00:09<00:08,  5.63it/s]"
     ]
    },
    {
     "name": "stdout",
     "output_type": "stream",
     "text": [
      "[2025-04-30 16:20:07] (2.4.1.post1) Warning: reference sentiment does not exist or its number 0 is not equal to aspect number 1, text:  [B-ASP]Global Sentiment[E-ASP]    22 bomber bought at a great little wine shop in Kona Hawaii. Pours a clear amber color, very faint head, a lot of carbonation noted. Smells biscuit like, some dough, and with a slightly sweet malty note. Taste is crisp and dry, especially upfront. Finish has a bit of malt, slightly nutty, and a touch of sweetness. There is also a hint of hop bitterness. Not bad. Mouthfeel is just above average. A bit thin, and watery feeling. But it's not awful, and it has a decent fullness on the front, and well done cabonation. All in all not a bad beer. I had low expectations, and this actually exceeded them. Nice easy drinking lighter beer for the warm Hawaii climate.  \n",
      "[2025-04-30 16:20:07] (2.4.1.post1) Example 0: 22 bomber bought at a great little wine shop in Kona Hawaii. Pours a clear amber color, very faint head, a lot of carbonation noted. Smells biscuit like, some dough, and with a slightly sweet malty note. Taste is crisp and dry, especially upfront. Finish has a bit of malt, slightly nutty, and a touch of sweetness. There is also a hint of hop bitterness. Not bad. Mouthfeel is just above average. A bit thin, and watery feeling. But it's not awful, and it has a decent fullness on the front, and well done cabonation. All in all not a bad beer. I had low expectations, and this actually exceeded them. Nice easy drinking lighter beer for the warm Hawaii climate.\n"
     ]
    },
    {
     "name": "stderr",
     "output_type": "stream",
     "text": [
      " 54%|█████▍    | 54/100 [00:09<00:08,  5.68it/s]"
     ]
    },
    {
     "name": "stdout",
     "output_type": "stream",
     "text": [
      "[2025-04-30 16:20:07] (2.4.1.post1) Warning: reference sentiment does not exist or its number 0 is not equal to aspect number 1, text:  [B-ASP]Global Sentiment[E-ASP]    This is pretty tasty, but undercarbed as mentioned by others. If someone had told me this was a new batch of \"Enjoy By\", I'd believe it. Then again, it would've been about half the price in that case.  \n",
      "[2025-04-30 16:20:07] (2.4.1.post1) Example 0: This is pretty tasty, but undercarbed as mentioned by others. If someone had told me this was a new batch of \"Enjoy By\", I'd believe it. Then again, it would've been about half the price in that case.\n"
     ]
    },
    {
     "name": "stderr",
     "output_type": "stream",
     "text": [
      " 55%|█████▌    | 55/100 [00:09<00:07,  5.75it/s]"
     ]
    },
    {
     "name": "stdout",
     "output_type": "stream",
     "text": [
      "[2025-04-30 16:20:07] (2.4.1.post1) Warning: reference sentiment does not exist or its number 0 is not equal to aspect number 1, text:  [B-ASP]Global Sentiment[E-ASP]    This is the gold standard of Belgian IPAs. As you can see by the amount of review this beer has been amazing successful and is the most popular out of all FLying Dog brews. It satisfies the needs of the hop heads out there and also caters to those on the opposite end of the spectrum that like the Belgian. This beer smells fruity with a higher than average alcohol content of 8.3%. The beer is a dark amber color when poured into a bottle with a heavy amount of white lacing. Flying Dog forces carbonation in their beer so there is heavy head on this beer. It leads to a smooth, crisp heavily carbonated (though not in a bad way) mouthfeel. The taste is slightly sweet due to the Belgian yeast but neither that nor the taste of the hops linger. This is a very drinkable beer.  \n",
      "[2025-04-30 16:20:08] (2.4.1.post1) Example 0: This is the gold standard of Belgian IPAs. As you can see by the amount of review this beer has been amazing successful and is the most popular out of all FLying Dog brews. It satisfies the needs of the hop heads out there and also caters to those on the opposite end of the spectrum that like the Belgian. This beer smells fruity with a higher than average alcohol content of 8.3%. The beer is a dark amber color when poured into a bottle with a heavy amount of white lacing. Flying Dog forces carbonation in their beer so there is heavy head on this beer. It leads to a smooth, crisp heavily carbonated (though not in a bad way) mouthfeel. The taste is slightly sweet due to the Belgian yeast but neither that nor the taste of the hops linger. This is a very drinkable beer.\n"
     ]
    },
    {
     "name": "stderr",
     "output_type": "stream",
     "text": [
      " 56%|█████▌    | 56/100 [00:10<00:08,  5.33it/s]"
     ]
    },
    {
     "name": "stdout",
     "output_type": "stream",
     "text": [
      "[2025-04-30 16:20:08] (2.4.1.post1) Warning: reference sentiment does not exist or its number 0 is not equal to aspect number 1, text:  [B-ASP]Global Sentiment[E-ASP]    A clear golden pour with a strange lack of bubbles, considering the massive suds on top of the beer. They are big soapy looking suds too, absolutely clinging to the glass as it retreats. Aroma is pure hops, I know the bitterness is going to peel the taste buds off my tongue before I even take a drink. Strangely, it is a lot gentler than expected. Obviously the bitter is here, but it's a nice blend of pine and citrus, with neither being very forward. One of the most balanced hop mixes I have yet encountered. This is really good! Feels nice and dry too. I think I am going to have to get some more...  \n",
      "[2025-04-30 16:20:08] (2.4.1.post1) Example 0: A clear golden pour with a strange lack of bubbles, considering the massive suds on top of the beer. They are big soapy looking suds too, absolutely clinging to the glass as it retreats. Aroma is pure hops, I know the bitterness is going to peel the taste buds off my tongue before I even take a drink. Strangely, it is a lot gentler than expected. Obviously the bitter is here, but it's a nice blend of pine and citrus, with neither being very forward. One of the most balanced hop mixes I have yet encountered. This is really good! Feels nice and dry too. I think I am going to have to get some more...\n"
     ]
    },
    {
     "name": "stderr",
     "output_type": "stream",
     "text": [
      " 57%|█████▋    | 57/100 [00:10<00:07,  5.49it/s]"
     ]
    },
    {
     "name": "stdout",
     "output_type": "stream",
     "text": [
      "[2025-04-30 16:20:08] (2.4.1.post1) Warning: reference sentiment does not exist or its number 0 is not equal to aspect number 1, text:  [B-ASP]Global Sentiment[E-ASP]    Underwhelming, not much oak taste and the smell is very minimal\n",
      "[2025-04-30 16:20:08] (2.4.1.post1) Example 0: Underwhelming, not much oak taste and the smell is very minimal\n"
     ]
    },
    {
     "name": "stderr",
     "output_type": "stream",
     "text": [
      " 58%|█████▊    | 58/100 [00:10<00:07,  5.47it/s]"
     ]
    },
    {
     "name": "stdout",
     "output_type": "stream",
     "text": [
      "[2025-04-30 16:20:08] (2.4.1.post1) Warning: reference sentiment does not exist or its number 0 is not equal to aspect number 1, text:  [B-ASP]Global Sentiment[E-ASP]    Poured from a bomber into a perfect. Pours a light straw with no discernable cloud. Nice fluffy head settles to a sticky cap. Aroma is of light husky grain, bready and slightly dusty. Middle comes with fruity hops with slightly floral notes. Finishes sweetly fruity and floral. Aroma doesn't grab me by the nose, but it is very apparent. Flavor opens with husky grain, slightly tannic and a little acidic. Like the nose, the middle yeilds to fruity and floral hops with a nice amount of bitterness. Malt finishes the show, crackery and with slight hints of cream and toffee. Excellent. Mouthfeel is creamy and light at the same time. Very full mouthfeel with a middle to light body. The carbonation is lush and soft. Very nice. This is a very drinkable, very tasty beer. An outstanding example of an APA. Recommend.  \n",
      "[2025-04-30 16:20:08] (2.4.1.post1) Example 0: Poured from a bomber into a perfect. Pours a light straw with no discernable cloud. Nice fluffy head settles to a sticky cap. Aroma is of light husky grain, bready and slightly dusty. Middle comes with fruity hops with slightly floral notes. Finishes sweetly fruity and floral. Aroma doesn't grab me by the nose, but it is very apparent. Flavor opens with husky grain, slightly tannic and a little acidic. Like the nose, the middle yeilds to fruity and floral hops with a nice amount of bitterness. Malt finishes the show, crackery and with slight hints of cream and toffee. Excellent. Mouthfeel is creamy and light at the same time. Very full mouthfeel with a middle to light body. The carbonation is lush and soft. Very nice. This is a very drinkable, very tasty beer. An outstanding example of an APA. Recommend.\n"
     ]
    },
    {
     "name": "stderr",
     "output_type": "stream",
     "text": [
      " 59%|█████▉    | 59/100 [00:10<00:07,  5.59it/s]"
     ]
    },
    {
     "name": "stdout",
     "output_type": "stream",
     "text": [
      "[2025-04-30 16:20:08] (2.4.1.post1) Warning: reference sentiment does not exist or its number 0 is not equal to aspect number 1, text:  [B-ASP]Global Sentiment[E-ASP]    Out of a 750ml capped bottle. Pours a nice ruby brown color, some big yeast floaters at the bottom, a nice tight egg-shell colored head that left a nice sheet of sticky lacing on the glass. The aroma is sweet, vinous, with a bit of peppery spice, typical BSDA. Deep red wine, perhaps some sherry, flavors hit up front with a nice counter-balance of dark candi-sugar, some lights hints of tobacco or an earthy spice. There is a bit of a weird sourness or bitterness to this that I cannot quite place. The feel is moderate with plenty of carbonation, some fusel alcohol is present; though sweet overall finishes with a dry and bitter kick. A nice BSDA, nothing from this brewery disappoints. The brew is a bit boozy and dry/bitter for the style. Still a good pick up.  \n",
      "[2025-04-30 16:20:08] (2.4.1.post1) Example 0: Out of a 750ml capped bottle. Pours a nice ruby brown color, some big yeast floaters at the bottom, a nice tight egg-shell colored head that left a nice sheet of sticky lacing on the glass. The aroma is sweet, vinous, with a bit of peppery spice, typical BSDA. Deep red wine, perhaps some sherry, flavors hit up front with a nice counter-balance of dark candi-sugar, some lights hints of tobacco or an earthy spice. There is a bit of a weird sourness or bitterness to this that I cannot quite place. The feel is moderate with plenty of carbonation, some fusel alcohol is present; though sweet overall finishes with a dry and bitter kick. A nice BSDA, nothing from this brewery disappoints. The brew is a bit boozy and dry/bitter for the style. Still a good pick up.\n"
     ]
    },
    {
     "name": "stderr",
     "output_type": "stream",
     "text": [
      " 60%|██████    | 60/100 [00:10<00:07,  5.65it/s]"
     ]
    },
    {
     "name": "stdout",
     "output_type": "stream",
     "text": [
      "[2025-04-30 16:20:08] (2.4.1.post1) Warning: reference sentiment does not exist or its number 0 is not equal to aspect number 1, text:  [B-ASP]Global Sentiment[E-ASP]    0%\n",
      "[2025-04-30 16:20:08] (2.4.1.post1) Example 0: 0%\n"
     ]
    },
    {
     "name": "stderr",
     "output_type": "stream",
     "text": [
      " 61%|██████    | 61/100 [00:10<00:06,  5.68it/s]"
     ]
    },
    {
     "name": "stdout",
     "output_type": "stream",
     "text": [
      "[2025-04-30 16:20:08] (2.4.1.post1) Warning: reference sentiment does not exist or its number 0 is not equal to aspect number 1, text:  [B-ASP]Global Sentiment[E-ASP]    Got this as part of Mill Street's seasonal sampler pack, or I don't think I would have ever bought it again. Man this brings back memories. I used to drink this all the time a few years back (out of the bottle no less) before I moved on to better things. Pours like a standard ale. Nothing out of the ordinary. Yellow, as you can see in the photo above. Minimal head that quickly and completely disappears, never to be seen again. There's little to no head retention which is always a little disappointing. I am picking up very little in the aroma, not much but a hint of malt and grains and...um. Fruit? Some kind of fruit I guess. The taste is actually better than I was expecting. I guess there was a reason I drank this so much back then. A fairly okay amount malt with an inoffensive barely bitter finish, with an overall lemony fruitness to it. Nice sticky yet refreshing mouthfeel. I don't think this beer is aspiring to be anything but a well brewed crowd pleaser and if that is the case it does its job well. This wouldn't be a bad beer at all to session or slake your thirst or drink when your attention was focused elsewhere. I'd probably prefer something with a bit more character than this myself, but you could do a lot worse. I think this would be a great beer to keep in your fridge to offer guests who are used to macros.  \n",
      "[2025-04-30 16:20:09] (2.4.1.post1) Example 0: Got this as part of Mill Street's seasonal sampler pack, or I don't think I would have ever bought it again. Man this brings back memories. I used to drink this all the time a few years back (out of the bottle no less) before I moved on to better things. Pours like a standard ale. Nothing out of the ordinary. Yellow, as you can see in the photo above. Minimal head that quickly and completely disappears, never to be seen again. There's little to no head retention which is always a little disappointing. I am picking up very little in the aroma, not much but a hint of malt and grains and...um. Fruit? Some kind of fruit I guess. The taste is actually better than I was expecting. I guess there was a reason I drank this so much back then. A fairly okay amount malt with an inoffensive barely bitter finish, with an overall lemony fruitness to it. Nice sticky yet refreshing mouthfeel. I don't think this beer is aspiring to be anything but a well brewed crowd pleaser and if that is the case it does its job well. This wouldn't be a bad beer at all to session or slake your thirst or drink when your attention was focused elsewhere. I'd probably prefer something with a bit more character than this myself, but you could do a lot worse. I think this would be a great beer to keep in your fridge to\n"
     ]
    },
    {
     "name": "stderr",
     "output_type": "stream",
     "text": [
      " 62%|██████▏   | 62/100 [00:11<00:06,  5.72it/s]"
     ]
    },
    {
     "name": "stdout",
     "output_type": "stream",
     "text": [
      "[2025-04-30 16:20:09] (2.4.1.post1) Warning: reference sentiment does not exist or its number 0 is not equal to aspect number 1, text:  [B-ASP]Global Sentiment[E-ASP]    Poured from a 750mL bottle into a snifter. Thanks Steve for getting this one! Pours a hazy orange body - a little more orange than the normal trillium but the same amount of haze. White head reduces to leave spotty lacing and a little retention. Aromas are interesting/unique - has a light spicyness to it, tropical fruit, grassy, herbal and earthy. The tongue matches the nose with a dank resinous note added, cantaloupe and overripe tropical fruit. Medium body and carbonation. The enigma hop worked here and it was interesting to pick up the nuances of this hop as it's not widely used.  \n",
      "[2025-04-30 16:20:09] (2.4.1.post1) Example 0: Poured from a 750mL bottle into a snifter. Thanks Steve for getting this one! Pours a hazy orange body - a little more orange than the normal trillium but the same amount of haze. White head reduces to leave spotty lacing and a little retention. Aromas are interesting/unique - has a light spicyness to it, tropical fruit, grassy, herbal and earthy. The tongue matches the nose with a dank resinous note added, cantaloupe and overripe tropical fruit. Medium body and carbonation. The enigma hop worked here and it was interesting to pick up the nuances of this hop as it's not widely used.\n"
     ]
    },
    {
     "name": "stderr",
     "output_type": "stream",
     "text": [
      " 63%|██████▎   | 63/100 [00:11<00:06,  5.70it/s]"
     ]
    },
    {
     "name": "stdout",
     "output_type": "stream",
     "text": [
      "[2025-04-30 16:20:09] (2.4.1.post1) Warning: reference sentiment does not exist or its number 0 is not equal to aspect number 1, text:  [B-ASP]Global Sentiment[E-ASP]    0%\n",
      "[2025-04-30 16:20:09] (2.4.1.post1) Example 0: 0%\n"
     ]
    },
    {
     "name": "stderr",
     "output_type": "stream",
     "text": [
      " 64%|██████▍   | 64/100 [00:11<00:06,  5.30it/s]"
     ]
    },
    {
     "name": "stdout",
     "output_type": "stream",
     "text": [
      "[2025-04-30 16:20:09] (2.4.1.post1) Warning: reference sentiment does not exist or its number 0 is not equal to aspect number 1, text:  [B-ASP]Global Sentiment[E-ASP]    The beer pours out into a Corsondonk goblet a rich dark brown that looks black. There is a 1/4“ light tan head that recedes to a ring and an irregular island of foam on the surface. Sipping creates a few scattered specks and patches of lacing on the sides of the glass. The aromas include the chocolate and raspberry blend up front, with just a hint of roasted malt in the background. The flavors are much as expected from the nose with but with chocolate up front and backed up strongly by the raspberries. There’s also a light touch of roasted malt and bitterness from the roast. Mingled in to the flavor mix are some fruity sweetness and a bit of tartness from the raspberries. There doesn’t seem to be any real hop bitterness showing. The alcohol is well concealed here and noticeable only from the slight warmth it creates after several sips. The mouthfeel is on the full side of medium bodied and fairly smooth with the small bubbled light carbonation. The medium long finish begins as the chocolate and roasted malt recede further into the background, leaving the raspberry, the light sweetness and the touch of tartness to slowly follow them. Finally in the ending there is again some dark roasted bitterness that becomes tinged with a dry hint of the raspberry in the back of the palate. Overall this is a very well made beer that I’m very much enjoying and one I certainly expect to be having again. In fact I think I’ll get another bottle to have on hand for a special occasion or for a day that needs to be improved by having a special beer. If you think you might enjoy chocolate covered raspberries this is recommended.  \n",
      "[2025-04-30 16:20:09] (2.4.1.post1) Example 0: The beer pours out into a Corsondonk goblet a rich dark brown that looks black. There is a 1/4“ light tan head that recedes to a ring and an irregular island of foam on the surface. Sipping creates a few scattered specks and patches of lacing on the sides of the glass. The aromas include the chocolate and raspberry blend up front, with just a hint of roasted malt in the background. The flavors are much as expected from the nose with but with chocolate up front and backed up strongly by the raspberries. There’s also a light touch of roasted malt and bitterness from the roast. Mingled in to the flavor mix are some fruity sweetness and a bit of tartness from the raspberries. There doesn’t seem to be any real hop bitterness showing. The alcohol is well concealed here and noticeable only from the slight warmth it creates after several sips. The mouthfeel is on the full side of medium bodied and fairly smooth with the small bubbled light carbonation. The medium long finish begins as the chocolate and roasted malt recede further into the background, leaving the raspberry, the light sweetness and the touch of tartness to slowly follow them. Finally in the ending there is again some dark roasted bitterness that becomes tinged with a dry hint of the raspberry in the back of the palate. Overall this is a very well made beer that I’m very much enjoying and one I certainly\n"
     ]
    },
    {
     "name": "stderr",
     "output_type": "stream",
     "text": [
      " 65%|██████▌   | 65/100 [00:11<00:06,  5.46it/s]"
     ]
    },
    {
     "name": "stdout",
     "output_type": "stream",
     "text": [
      "[2025-04-30 16:20:09] (2.4.1.post1) Warning: reference sentiment does not exist or its number 0 is not equal to aspect number 1, text:  [B-ASP]Global Sentiment[E-ASP]    This is based on the most recent bottle I sampled. The beer pours an orange amber color with good head retention and very nice lacing. At least for this bottle, the nose is the best part of this beer, as I pick up considerable dry citrus, light skunky weed, some noticable pine and white pepper. The flavor profile replicates the nose to some extent, but there is already some noticeable sweet maltiness in the mid palate and finish that I associate with less than optimal freshness in this beer. Otherwise, this IPA is on the dry side, with a moderately long, bitter finish. Alcohol is well integrated into the flavor profile, and mouthfeel is medium bodied with a clean, moderately bitter finish. A couple of thoughts about this beer. I used to see this beer on tap frequently at various bars in Pittsburgh when I lived in Morgantown. While always pretty good, I was also always a bit hesitant to order it, as in my experience this beer goes down hill pretty quickly once it's been tapped. Fresh, this beer was a tasty IPA that I would frequently order as an alternative to Bells Two Hearted, which was the other staple I'd see on tap in and around Pittsburgh. Unfortunately, I ordered far too many pints of HH that were nowhere close to optimal freshness, which is why I became increasingly cautious about ordering it. On the other hand, a bottle sent to me by a friend a few months back was incredible, and at long last I could see some basis for the lofty score this beer seems to routinely get on BA. The one I drank last night was decent, but in light of the bottle I enjoyed a few months back, something of a disappointment. Bottle/batch variation seems to be the order of the day with this beer, which is the only cautionary note I would make regarding this otherwise well made IPA from Fat Head's.  \n",
      "[2025-04-30 16:20:09] (2.4.1.post1) Example 0: This is based on the most recent bottle I sampled. The beer pours an orange amber color with good head retention and very nice lacing. At least for this bottle, the nose is the best part of this beer, as I pick up considerable dry citrus, light skunky weed, some noticable pine and white pepper. The flavor profile replicates the nose to some extent, but there is already some noticeable sweet maltiness in the mid palate and finish that I associate with less than optimal freshness in this beer. Otherwise, this IPA is on the dry side, with a moderately long, bitter finish. Alcohol is well integrated into the flavor profile, and mouthfeel is medium bodied with a clean, moderately bitter finish. A couple of thoughts about this beer. I used to see this beer on tap frequently at various bars in Pittsburgh when I lived in Morgantown. While always pretty good, I was also always a bit hesitant to order it, as in my experience this beer goes down hill pretty quickly once it's been tapped. Fresh, this beer was a tasty IPA that I would frequently order as an alternative to Bells Two Hearted, which was the other staple I'd see on tap in and around Pittsburgh. Unfortunately, I ordered far too many pints of HH that were nowhere close to optimal freshness, which is why I became increasingly cautious about ordering it. On the other hand, a bottle sent to me by a friend\n"
     ]
    },
    {
     "name": "stderr",
     "output_type": "stream",
     "text": [
      " 66%|██████▌   | 66/100 [00:11<00:06,  5.55it/s]"
     ]
    },
    {
     "name": "stdout",
     "output_type": "stream",
     "text": [
      "[2025-04-30 16:20:09] (2.4.1.post1) Warning: reference sentiment does not exist or its number 0 is not equal to aspect number 1, text:  [B-ASP]Global Sentiment[E-ASP]    Thanks to Tyler for grabbing this for me on a recent trip to PDX. Poured into 10oz glass. Poured a nice medium golden yellow with a thin cap of white head that had OK retention and lacing. The was nicely grainy, with a solid, but mellow, dose of hops. The flavor was also grain forward with a bit of a hop tang on the finish. The body was surprisingly full, not heavy and a bit too sweet to be called crisp, and very enjoyable. Drinkability was pretty good, I could easily have these as my chore beer, or at a cookout if it were local to me. Overall, a solid and enjoyable brew that's worth a shot if you see it.  \n",
      "[2025-04-30 16:20:10] (2.4.1.post1) Example 0: Thanks to Tyler for grabbing this for me on a recent trip to PDX. Poured into 10oz glass. Poured a nice medium golden yellow with a thin cap of white head that had OK retention and lacing. The was nicely grainy, with a solid, but mellow, dose of hops. The flavor was also grain forward with a bit of a hop tang on the finish. The body was surprisingly full, not heavy and a bit too sweet to be called crisp, and very enjoyable. Drinkability was pretty good, I could easily have these as my chore beer, or at a cookout if it were local to me. Overall, a solid and enjoyable brew that's worth a shot if you see it.\n"
     ]
    },
    {
     "name": "stderr",
     "output_type": "stream",
     "text": [
      " 67%|██████▋   | 67/100 [00:12<00:05,  5.64it/s]"
     ]
    },
    {
     "name": "stdout",
     "output_type": "stream",
     "text": [
      "[2025-04-30 16:20:10] (2.4.1.post1) Warning: reference sentiment does not exist or its number 0 is not equal to aspect number 1, text:  [B-ASP]Global Sentiment[E-ASP]    Crystalline orange-copper capped by a large, light tan head. The foam is semi-stiff and eventually falls to a thick, chunky disk. Underwhelming lace. The nose is a near equal mixture of lightly toasted caramel malt and spicy hops; the hops being a bit more prominent. I like the flavor, though it could be more assertive. Malt dominates the start with spicy hops fading in and taking over at the midway point of each mouthful. Malt appears again on the finish due to a minor grain/husk intrusion. There's a mineral-like (though not metallic) aspect to the finish as well. It isn't an overly hoppy beer considering the style. The body is closer to light than to medium and the mouthfeel is slightly too busy. BridgePort ESB is a solid, if not overly impressive, version of the style. It could stand to be more flavor assertive, particularly with regard to hops. It's still enjoyable though, and does go down rather easily.  \n",
      "[2025-04-30 16:20:10] (2.4.1.post1) Example 0: Crystalline orange-copper capped by a large, light tan head. The foam is semi-stiff and eventually falls to a thick, chunky disk. Underwhelming lace. The nose is a near equal mixture of lightly toasted caramel malt and spicy hops; the hops being a bit more prominent. I like the flavor, though it could be more assertive. Malt dominates the start with spicy hops fading in and taking over at the midway point of each mouthful. Malt appears again on the finish due to a minor grain/husk intrusion. There's a mineral-like (though not metallic) aspect to the finish as well. It isn't an overly hoppy beer considering the style. The body is closer to light than to medium and the mouthfeel is slightly too busy. BridgePort ESB is a solid, if not overly impressive, version of the style. It could stand to be more flavor assertive, particularly with regard to hops. It's still enjoyable though, and does go down rather easily.\n"
     ]
    },
    {
     "name": "stderr",
     "output_type": "stream",
     "text": [
      " 68%|██████▊   | 68/100 [00:12<00:05,  5.72it/s]"
     ]
    },
    {
     "name": "stdout",
     "output_type": "stream",
     "text": [
      "[2025-04-30 16:20:10] (2.4.1.post1) Warning: reference sentiment does not exist or its number 0 is not equal to aspect number 1, text:  [B-ASP]Global Sentiment[E-ASP]    0%\n",
      "[2025-04-30 16:20:10] (2.4.1.post1) Example 0: 0%\n"
     ]
    },
    {
     "name": "stderr",
     "output_type": "stream",
     "text": [
      " 69%|██████▉   | 69/100 [00:12<00:05,  5.67it/s]"
     ]
    },
    {
     "name": "stdout",
     "output_type": "stream",
     "text": [
      "[2025-04-30 16:20:10] (2.4.1.post1) Warning: reference sentiment does not exist or its number 0 is not equal to aspect number 1, text:  [B-ASP]Global Sentiment[E-ASP]    12 oz. bottle with just a plain and simple dark forest green label that has the name of the beer in big white letters. To the left side is a description of the beer and why it's called \"Saint Bridget's Porter.\" Below that is where they say this beer got the gold at the World Beer Cup all the way back in 1996. To the right side is where they keep the US Government warning, refund values, address of the brewery, and a notched month and week bottle date. Mine was hard to see where they notched it, so I don't know how this beer was. Appearance: When poured into a Bell's brewery pint glass, this Porter is a dark cola mahagony brown with a less than a 1/2 inch head of tan foam. The head of foam quickly fizzled away in a matter of only 2 seconds. It manage to leave behind islands of fizzy bubbles, tan foamy rings, and a smidge of tan rings around the glass. Smell: It had a nice medium sized base aroma of roasted espresso beans. Once I got passed the espresso cloud, I got a big whiff of dark roasted malts, bitter dark chocolate, and a pinch of sweet caramel and roasted hops. Taste: I could taste all the characteristics of a good Porter in the making. It had all the usual Porter tastes of dark roasted malts, bitter dark chocolate, roasted coffee beans, and a splash of roasted hops. But what made this one so different was the fact that it tasted like Great Divide watered down most of the roasted flavors for some odd reason. It was fine where the taste was going, but then it did a U-turn when the water kicked in. Mouthfeel: I thought it was a heavly carbonated medium bodied beer that had a quick aftertaste of roasted espresso beans, dark chocolate, and dark roasted malts. It's too bad the aftertaste didn't last long because there were quite a few good flavors in that aftertaste. Drinkability: It was an OK porter from Great Divide, but it could have been a great Porter from Great Divide if they hadn't watered down the taste. In the world of Porters, I could pass on this one.  \n",
      "[2025-04-30 16:20:10] (2.4.1.post1) Example 0: 12 oz. bottle with just a plain and simple dark forest green label that has the name of the beer in big white letters. To the left side is a description of the beer and why it's called \"Saint Bridget's Porter.\" Below that is where they say this beer got the gold at the World Beer Cup all the way back in 1996. To the right side is where they keep the US Government warning, refund values, address of the brewery, and a notched month and week bottle date. Mine was hard to see where they notched it, so I don't know how this beer was. Appearance: When poured into a Bell's brewery pint glass, this Porter is a dark cola mahagony brown with a less than a 1/2 inch head of tan foam. The head of foam quickly fizzled away in a matter of only 2 seconds. It manage to leave behind islands of fizzy bubbles, tan foamy rings, and a smidge of tan rings around the glass. Smell: It had a nice medium sized base aroma of roasted espresso beans. Once I got passed the espresso cloud, I got a big whiff of dark roasted malts, bitter dark chocolate, and a pinch of sweet caramel and roasted hops. Taste: I could taste all the characteristics of a good Porter in the making. It had all the usual Porter tastes of dark roasted malts, bitter dark chocolate, roasted coffee beans, and a splash of roasted hops.\n"
     ]
    },
    {
     "name": "stderr",
     "output_type": "stream",
     "text": [
      " 70%|███████   | 70/100 [00:12<00:05,  5.60it/s]"
     ]
    },
    {
     "name": "stdout",
     "output_type": "stream",
     "text": [
      "[2025-04-30 16:20:10] (2.4.1.post1) Warning: reference sentiment does not exist or its number 0 is not equal to aspect number 1, text:  [B-ASP]Global Sentiment[E-ASP]    appearance - Golden color with a nice large white head. smell - Smells of yeast, bread, sna spices here. taste - Has a sweet taste of spices and some mild hops present with a dry ending taste. mouthfeel - Medium body. drinkability - I know this is popular,but felt it was overrated. I thought it was an ok beer, above average, but nothing that I would says wow you have try this.  \n",
      "[2025-04-30 16:20:10] (2.4.1.post1) Example 0: appearance - Golden color with a nice large white head. smell - Smells of yeast, bread, sna spices here. taste - Has a sweet taste of spices and some mild hops present with a dry ending taste. mouthfeel - Medium body. drinkability - I know this is popular,but felt it was overrated. I thought it was an ok beer, above average, but nothing that I would says wow you have try this.\n"
     ]
    },
    {
     "name": "stderr",
     "output_type": "stream",
     "text": [
      " 71%|███████   | 71/100 [00:12<00:05,  5.66it/s]"
     ]
    },
    {
     "name": "stdout",
     "output_type": "stream",
     "text": [
      "[2025-04-30 16:20:10] (2.4.1.post1) Warning: reference sentiment does not exist or its number 0 is not equal to aspect number 1, text:  [B-ASP]Global Sentiment[E-ASP]    Crystal clear extremely pale yellow, big bubbled carbonation forms a white head. Decent retention, good lacing. Pretty attractive despite the light color. Smells great - the fruits are in the forefront, but have nice zesty hoppage and great yeastwork behind it. Taste is honestly very close to those fruit-flavored seltzer waters (with some spicy hops added). Pretty horrid. Very thin and dry with harsh carbonation and astringent grainy bitter finish. The aftertaste challenges you to take another sip. No thanks, I gave this a fair shot. Too bad, it started with so much potential. Is this low-carb? Maybe that was the plan. I am trying to grasp why a good brewery would make this.  \n",
      "[2025-04-30 16:20:10] (2.4.1.post1) Example 0: Crystal clear extremely pale yellow, big bubbled carbonation forms a white head. Decent retention, good lacing. Pretty attractive despite the light color. Smells great - the fruits are in the forefront, but have nice zesty hoppage and great yeastwork behind it. Taste is honestly very close to those fruit-flavored seltzer waters (with some spicy hops added). Pretty horrid. Very thin and dry with harsh carbonation and astringent grainy bitter finish. The aftertaste challenges you to take another sip. No thanks, I gave this a fair shot. Too bad, it started with so much potential. Is this low-carb? Maybe that was the plan. I am trying to grasp why a good brewery would make this.\n"
     ]
    },
    {
     "name": "stderr",
     "output_type": "stream",
     "text": [
      " 72%|███████▏  | 72/100 [00:12<00:05,  5.31it/s]"
     ]
    },
    {
     "name": "stdout",
     "output_type": "stream",
     "text": [
      "[2025-04-30 16:20:10] (2.4.1.post1) Warning: reference sentiment does not exist or its number 0 is not equal to aspect number 1, text:  [B-ASP]Global Sentiment[E-ASP]    Spent an extremely pleasant afternoon in a Pub in Victoria BC drinking this beer, so my rating may be a little biased.Medium red color. Roasted malts, slightly hoppy, very flavorful ale. Refreshing and slightly hoppy. Good malt/hop balance. Mouthfeel is full and round. Finish is clean. Aftertaste is slightly bitter.  \n",
      "[2025-04-30 16:20:11] (2.4.1.post1) Example 0: Spent an extremely pleasant afternoon in a Pub in Victoria BC drinking this beer, so my rating may be a little biased.Medium red color. Roasted malts, slightly hoppy, very flavorful ale. Refreshing and slightly hoppy. Good malt/hop balance. Mouthfeel is full and round. Finish is clean. Aftertaste is slightly bitter.\n"
     ]
    },
    {
     "name": "stderr",
     "output_type": "stream",
     "text": [
      " 73%|███████▎  | 73/100 [00:13<00:04,  5.45it/s]"
     ]
    },
    {
     "name": "stdout",
     "output_type": "stream",
     "text": [
      "[2025-04-30 16:20:11] (2.4.1.post1) Warning: reference sentiment does not exist or its number 0 is not equal to aspect number 1, text:  [B-ASP]Global Sentiment[E-ASP]    Served in a Devil's Backbone weizen glass. Figured I'd grab one o' these guys before they disappear for the rest of the year. It pours a pretty clear pale straw, riddled with particulates, topped by over a finger of healthy white froth. The nose comprises orange peel, mandarin orange flesh, puffed rice, and wet wheat. The taste comprises corn syrup, wheat, light mandarin orange, and flowers. The body is light, with a light carbonation and a thickly watery feel. Overall, a decent APWA, nothing close to special, but highly drinkable.  \n",
      "[2025-04-30 16:20:11] (2.4.1.post1) Example 0: Served in a Devil's Backbone weizen glass. Figured I'd grab one o' these guys before they disappear for the rest of the year. It pours a pretty clear pale straw, riddled with particulates, topped by over a finger of healthy white froth. The nose comprises orange peel, mandarin orange flesh, puffed rice, and wet wheat. The taste comprises corn syrup, wheat, light mandarin orange, and flowers. The body is light, with a light carbonation and a thickly watery feel. Overall, a decent APWA, nothing close to special, but highly drinkable.\n"
     ]
    },
    {
     "name": "stderr",
     "output_type": "stream",
     "text": [
      " 74%|███████▍  | 74/100 [00:13<00:04,  5.54it/s]"
     ]
    },
    {
     "name": "stdout",
     "output_type": "stream",
     "text": [
      "[2025-04-30 16:20:11] (2.4.1.post1) Warning: reference sentiment does not exist or its number 0 is not equal to aspect number 1, text:  [B-ASP]Global Sentiment[E-ASP]    This tasted very little like beer. More like raspberry flavored pop or mineral water. The fruit was just too strong for my liking. It tasted very sugary and very berry. I couldn't taste much typical beer flavors in it at all. Drinkability is therefore pretty low on this. Not my thing really. I much prefer Leinie's Sunset Wheat, where fruit flavors compliment beer flavors, instead of completely dominating them.  \n",
      "[2025-04-30 16:20:11] (2.4.1.post1) Example 0: This tasted very little like beer. More like raspberry flavored pop or mineral water. The fruit was just too strong for my liking. It tasted very sugary and very berry. I couldn't taste much typical beer flavors in it at all. Drinkability is therefore pretty low on this. Not my thing really. I much prefer Leinie's Sunset Wheat, where fruit flavors compliment beer flavors, instead of completely dominating them.\n"
     ]
    },
    {
     "name": "stderr",
     "output_type": "stream",
     "text": [
      " 75%|███████▌  | 75/100 [00:13<00:04,  5.64it/s]"
     ]
    },
    {
     "name": "stdout",
     "output_type": "stream",
     "text": [
      "[2025-04-30 16:20:11] (2.4.1.post1) Warning: reference sentiment does not exist or its number 0 is not equal to aspect number 1, text:  [B-ASP]Global Sentiment[E-ASP]    Pours a orangish body with real good frothy head that dies slow with lace. A spicy, sour grape/tart fruit and citric hop aroma as well as yeasty; something like apple or pear in as well. Little bit of sugariness for sweetness and some spices come in as well. Great balance comes to my mind, especially for the Belgian take on this style. Slightly smooth and creamy, the beer is light-bodied but still has a carbonation that makes the beer sharp and pronounces the citric hops which abound. Great balance is achieved with tart fruit tastes like grape skin, apple and pear. Clove and pepper round out the body which has a good candi-sugar and caramel sweetness as well a grainy, bready touch. Easy to drink with good fruit and sweetness while still maintaing a large hop edge, this beer finishes real crisp and is a must for anyone who appreciates Belgian ales.  \n",
      "[2025-04-30 16:20:11] (2.4.1.post1) Example 0: Pours a orangish body with real good frothy head that dies slow with lace. A spicy, sour grape/tart fruit and citric hop aroma as well as yeasty; something like apple or pear in as well. Little bit of sugariness for sweetness and some spices come in as well. Great balance comes to my mind, especially for the Belgian take on this style. Slightly smooth and creamy, the beer is light-bodied but still has a carbonation that makes the beer sharp and pronounces the citric hops which abound. Great balance is achieved with tart fruit tastes like grape skin, apple and pear. Clove and pepper round out the body which has a good candi-sugar and caramel sweetness as well a grainy, bready touch. Easy to drink with good fruit and sweetness while still maintaing a large hop edge, this beer finishes real crisp and is a must for anyone who appreciates Belgian ales.\n"
     ]
    },
    {
     "name": "stderr",
     "output_type": "stream",
     "text": [
      " 76%|███████▌  | 76/100 [00:13<00:04,  5.70it/s]"
     ]
    },
    {
     "name": "stdout",
     "output_type": "stream",
     "text": [
      "[2025-04-30 16:20:11] (2.4.1.post1) Warning: reference sentiment does not exist or its number 0 is not equal to aspect number 1, text:  [B-ASP]Global Sentiment[E-ASP]    You had this beer. Write a review.\n",
      "[2025-04-30 16:20:11] (2.4.1.post1) Example 0: You had this beer. Write a review.\n"
     ]
    },
    {
     "name": "stderr",
     "output_type": "stream",
     "text": [
      " 77%|███████▋  | 77/100 [00:13<00:03,  5.76it/s]"
     ]
    },
    {
     "name": "stdout",
     "output_type": "stream",
     "text": [
      "[2025-04-30 16:20:11] (2.4.1.post1) Warning: reference sentiment does not exist or its number 0 is not equal to aspect number 1, text:  [B-ASP]Global Sentiment[E-ASP]    12 oz bottle, poured into a tulip. Pours a light brownish amber with a minimal off-white head. Minimal retention and lacing. Smells of toasty and nutty malts with some ripe and overripe citrus. A fair amount of caramel malt sweetness, too. In the mouth, this is a pretty fruity and tangy take on a bitter. As in the nose, toasty and nutty, with a sweet combo of overripe citrus and caramel. Medium-thick body with moderate carbonation. Overripe orange and earthiness linger for a moment. Overall impression: Pretty good brew, sessionable but unmemorable.  \n",
      "[2025-04-30 16:20:12] (2.4.1.post1) Example 0: 12 oz bottle, poured into a tulip. Pours a light brownish amber with a minimal off-white head. Minimal retention and lacing. Smells of toasty and nutty malts with some ripe and overripe citrus. A fair amount of caramel malt sweetness, too. In the mouth, this is a pretty fruity and tangy take on a bitter. As in the nose, toasty and nutty, with a sweet combo of overripe citrus and caramel. Medium-thick body with moderate carbonation. Overripe orange and earthiness linger for a moment. Overall impression: Pretty good brew, sessionable but unmemorable.\n"
     ]
    },
    {
     "name": "stderr",
     "output_type": "stream",
     "text": [
      " 78%|███████▊  | 78/100 [00:13<00:03,  5.78it/s]"
     ]
    },
    {
     "name": "stdout",
     "output_type": "stream",
     "text": [
      "[2025-04-30 16:20:12] (2.4.1.post1) Warning: reference sentiment does not exist or its number 0 is not equal to aspect number 1, text:  [B-ASP]Global Sentiment[E-ASP]    Can't say anything without first thanking Sean for this gem...2012 CFH, gold waxed & capped, poured into a Deschutes tulip. A: Dense opaque black with a soft cap of khaki tan head. S: Intense bourbon and whiskey notes without being extraordinarily boozy...rye whiskey spice as well? Tons and tons of rich sweet milk chocolate, toasted almond, and oak. T: Taste follows the nose with just a bit more booze; bourbon, oak, rich dark chocolate fudge...toasted coconut and almond, strong notes of whiskey accompanies a touch of burn on the throat, with hints of spiced vanilla. MF: Honestly pretty smooth and mellow for a 2012 bottle. Soft carbonation, full bodied, velvety and a bit viscous and coating. O: So tasty! The very best beer I've ever had, something I could drink all of the time even with the moderate-to-strong bourbon presence. IMO, do what you have to to trade for one of these.  \n",
      "[2025-04-30 16:20:12] (2.4.1.post1) Example 0: Can't say anything without first thanking Sean for this gem...2012 CFH, gold waxed & capped, poured into a Deschutes tulip. A: Dense opaque black with a soft cap of khaki tan head. S: Intense bourbon and whiskey notes without being extraordinarily boozy...rye whiskey spice as well? Tons and tons of rich sweet milk chocolate, toasted almond, and oak. T: Taste follows the nose with just a bit more booze; bourbon, oak, rich dark chocolate fudge...toasted coconut and almond, strong notes of whiskey accompanies a touch of burn on the throat, with hints of spiced vanilla. MF: Honestly pretty smooth and mellow for a 2012 bottle. Soft carbonation, full bodied, velvety and a bit viscous and coating. O: So tasty! The very best beer I've ever had, something I could drink all of the time even with the moderate-to-strong bourbon presence. IMO, do what you have to to trade for one of these.\n"
     ]
    },
    {
     "name": "stderr",
     "output_type": "stream",
     "text": [
      " 79%|███████▉  | 79/100 [00:14<00:03,  5.82it/s]"
     ]
    },
    {
     "name": "stdout",
     "output_type": "stream",
     "text": [
      "[2025-04-30 16:20:12] (2.4.1.post1) Warning: reference sentiment does not exist or its number 0 is not equal to aspect number 1, text:  [B-ASP]Global Sentiment[E-ASP]    Tap at New World Tavern in Playmouth, MA. Light fizzy head decent lacing, hazy slight honey carrot orange color. Nose light sour fermented pumpkin, little apple pie spices and nutty, lots of mulling spices which make it pretty aromatic but they seem kinda weird for a lambic, some sour tart funk but light, a bit of a funky gueuze, some light reddish malts. Taste starts with a big pumpkin flavor, tons of pie both pumpkin and Apple pie, Apple pie spices and nutty flavor, some pumpkin pie and fermented pumpkin, plenty of mulling spices, light tart funk gueuze like, semi sweet too. Finish has a bit more tartness, light acidity and little flemmy, nice lambic like tartness, interesting pumpkin and apple. Mouth is med bodied, decent carb bit the bottle is probably better. Light tart flemmy finish. Overall decent, bit too sweet, to much Apple and pie flavors, spices, nuts, etc, the crazy mulling spices make it kinda weird for a lambic, and the sweetness and pie like take it more from a traditional lambic to more of a sweet dessert lambic like a Lindeman's style but still better than that at least. I do give them some credit for a uniqueness of it, actually getting pumpkin into a lambic without it really sucking at least. I'm glad I only paid a few bucks to try this on draft rather than a handful of money for a big bottle that I don't think I could finish by myself. The single glass is hard enough to finish.  \n",
      "[2025-04-30 16:20:12] (2.4.1.post1) Example 0: Tap at New World Tavern in Playmouth, MA. Light fizzy head decent lacing, hazy slight honey carrot orange color. Nose light sour fermented pumpkin, little apple pie spices and nutty, lots of mulling spices which make it pretty aromatic but they seem kinda weird for a lambic, some sour tart funk but light, a bit of a funky gueuze, some light reddish malts. Taste starts with a big pumpkin flavor, tons of pie both pumpkin and Apple pie, Apple pie spices and nutty flavor, some pumpkin pie and fermented pumpkin, plenty of mulling spices, light tart funk gueuze like, semi sweet too. Finish has a bit more tartness, light acidity and little flemmy, nice lambic like tartness, interesting pumpkin and apple. Mouth is med bodied, decent carb bit the bottle is probably better. Light tart flemmy finish. Overall decent, bit too sweet, to much Apple and pie flavors, spices, nuts, etc, the crazy mulling spices make it kinda weird for a lambic, and the sweetness and pie like take it more from a traditional lambic to more of a sweet dessert lambic like a Lindeman's style but still better than that at least. I do give them some credit for a uniqueness of it, actually getting pumpkin into a lambic without it really sucking at least. I'm glad I only paid a few bucks to try this on draft rather than a handful of money for a big bottle that I don't think I could finish by\n"
     ]
    },
    {
     "name": "stderr",
     "output_type": "stream",
     "text": [
      " 80%|████████  | 80/100 [00:14<00:03,  5.38it/s]"
     ]
    },
    {
     "name": "stdout",
     "output_type": "stream",
     "text": [
      "[2025-04-30 16:20:12] (2.4.1.post1) Warning: reference sentiment does not exist or its number 0 is not equal to aspect number 1, text:  [B-ASP]Global Sentiment[E-ASP]    Poured an opaque black with a hint of red, a nice tan head and a decent clingy lace. The head subdued quite quickly, but maintained a fine layer. The aroma was roasted, malty, and of caramel with a background a presence of fruit. The Flavor starts slightly sweet and roasted, but finishes dry and with a lasting bite. The mouth feel is smooth and effervescent, but a little thin, and dry. Admittedly, I am not a huge fan of this style, but I prefer a more dynamic brew that possesses a little more texture and body.  \n",
      "[2025-04-30 16:20:12] (2.4.1.post1) Example 0: Poured an opaque black with a hint of red, a nice tan head and a decent clingy lace. The head subdued quite quickly, but maintained a fine layer. The aroma was roasted, malty, and of caramel with a background a presence of fruit. The Flavor starts slightly sweet and roasted, but finishes dry and with a lasting bite. The mouth feel is smooth and effervescent, but a little thin, and dry. Admittedly, I am not a huge fan of this style, but I prefer a more dynamic brew that possesses a little more texture and body.\n"
     ]
    },
    {
     "name": "stderr",
     "output_type": "stream",
     "text": [
      " 81%|████████  | 81/100 [00:14<00:03,  5.48it/s]"
     ]
    },
    {
     "name": "stdout",
     "output_type": "stream",
     "text": [
      "[2025-04-30 16:20:12] (2.4.1.post1) Warning: reference sentiment does not exist or its number 0 is not equal to aspect number 1, text:  [B-ASP]Global Sentiment[E-ASP]    Sampled March 2007 Pours with a brilliantly clear, copper color and is topped by a frothy, initially three-finger thick, nicely tan colored head. The head creates a rocky surface as it slowly subsides, all the while leaving a nice lacing pattern on the sides of the glass. The aroma is nicely hop focused with notes of spicy herbs, and a full, rich grapefruit citrus character. The citrus is the single most noticeable aspect of the aroma, with maybe just a hint of malt character coming through as well. Hop fruit aromatics of apricot, peaches and some sort of sweet tropical fruit are also noticeable in the nose. A sharp, spicy taste of hops greets my tongue as I first take a sip. Immediately though the citrus character becomes the dominant note; it leans towards sweet citrus fruit like oranges, tangelos, grapefruit and even some smooth tropical fruit notes. The carbonation is fairly low, which makes this very smooth to drink; almost creamy in texture. Caramelized malt notes, a touch of brown sugar, and some light toasted grain character play a supporting role for the dominant hop character. A nice bitterness is here as well, though it is not overly powering; it plays as a nice juxtaposition to the softer, more approachable fruity hop character. This is just a nice easy drinking Pale Ale, I could easily drink a couple pints of this brew. It is so well balanced to be quaffed pint by pint. Perhaps I could wish for a bit more chewy malt body here, but that would keep it from being so drinkable. I am a sucker for the fruity, smooth hop varieties right now (in this case Amarillo) so this Pale Ale is right up my alley.  \n",
      "[2025-04-30 16:20:12] (2.4.1.post1) Example 0: Sampled March 2007 Pours with a brilliantly clear, copper color and is topped by a frothy, initially three-finger thick, nicely tan colored head. The head creates a rocky surface as it slowly subsides, all the while leaving a nice lacing pattern on the sides of the glass. The aroma is nicely hop focused with notes of spicy herbs, and a full, rich grapefruit citrus character. The citrus is the single most noticeable aspect of the aroma, with maybe just a hint of malt character coming through as well. Hop fruit aromatics of apricot, peaches and some sort of sweet tropical fruit are also noticeable in the nose. A sharp, spicy taste of hops greets my tongue as I first take a sip. Immediately though the citrus character becomes the dominant note; it leans towards sweet citrus fruit like oranges, tangelos, grapefruit and even some smooth tropical fruit notes. The carbonation is fairly low, which makes this very smooth to drink; almost creamy in texture. Caramelized malt notes, a touch of brown sugar, and some light toasted grain character play a supporting role for the dominant hop character. A nice bitterness is here as well, though it is not overly powering; it plays as a nice juxtaposition to the softer, more approachable fruity hop character. This is just a nice easy drinking Pale Ale, I could easily drink a couple pints of this brew. It is so well balanced to be quaffed pint by pint. Perhaps I could\n"
     ]
    },
    {
     "name": "stderr",
     "output_type": "stream",
     "text": [
      " 82%|████████▏ | 82/100 [00:14<00:03,  5.44it/s]"
     ]
    },
    {
     "name": "stdout",
     "output_type": "stream",
     "text": [
      "[2025-04-30 16:20:12] (2.4.1.post1) Warning: reference sentiment does not exist or its number 0 is not equal to aspect number 1, text:  [B-ASP]Global Sentiment[E-ASP]    Snagged a six pack at the local Kroger in Collierville. Typical amber color. Not much smell and a thin head. Tastes like a run of the mill pale ale with a hint of hops. Carbonation is appropriate. Drinkable and my guess is the ABV is pretty standard. Not bad but not good. Cheers.  \n",
      "[2025-04-30 16:20:12] (2.4.1.post1) Example 0: Snagged a six pack at the local Kroger in Collierville. Typical amber color. Not much smell and a thin head. Tastes like a run of the mill pale ale with a hint of hops. Carbonation is appropriate. Drinkable and my guess is the ABV is pretty standard. Not bad but not good. Cheers.\n"
     ]
    },
    {
     "name": "stderr",
     "output_type": "stream",
     "text": [
      " 83%|████████▎ | 83/100 [00:14<00:03,  5.18it/s]"
     ]
    },
    {
     "name": "stdout",
     "output_type": "stream",
     "text": [
      "[2025-04-30 16:20:12] (2.4.1.post1) Warning: reference sentiment does not exist or its number 0 is not equal to aspect number 1, text:  [B-ASP]Global Sentiment[E-ASP]    Pale, cloudy yellow, with rich ample white foam. Modest, but attractive lacing. Nose is yeasty, bready. Not bad at all. Taste is fairly typical lager, though substantially more flavorful than most. Again, as with the aroma, I get yeast and crusty bread. Malty but not too simple or flat. This one proved crisp and refreshing, and among the better lagers I've had lately.  \n",
      "[2025-04-30 16:20:13] (2.4.1.post1) Example 0: Pale, cloudy yellow, with rich ample white foam. Modest, but attractive lacing. Nose is yeasty, bready. Not bad at all. Taste is fairly typical lager, though substantially more flavorful than most. Again, as with the aroma, I get yeast and crusty bread. Malty but not too simple or flat. This one proved crisp and refreshing, and among the better lagers I've had lately.\n"
     ]
    },
    {
     "name": "stderr",
     "output_type": "stream",
     "text": [
      " 84%|████████▍ | 84/100 [00:15<00:02,  5.37it/s]"
     ]
    },
    {
     "name": "stdout",
     "output_type": "stream",
     "text": [
      "[2025-04-30 16:20:13] (2.4.1.post1) Warning: reference sentiment does not exist or its number 0 is not equal to aspect number 1, text:  [B-ASP]Global Sentiment[E-ASP]    We don’t get to RB often, but I’m always pleased with everything. The foods good, not great, and same with the beer. L (4) – Wicked Elf is a nice dark orange/amber color. Looks inviting enough. S (4.25) – Definitely smell the hops. Doesn’t smell especially piney or citrusey, but good. T (4.25) – This beer tastes pretty good. Not super malty, and not much spice going on. I get more of a piney hop taste compared to the citrus ones. A nice piney hop aftertaste too. I like. F (4) – This type of beer doesn’t have a lot to say about mouthfeel IMO. It’s light, carbed right, and not overly anything. But that’s how I want this type of beer to be. O (4.25) – Not sure how true to the style this beer was, but it was tasty. It isn’t high IBU and it isn’t high ABV. Just a nice, pleasant beer to have with dinner. Would drink again.  \n",
      "[2025-04-30 16:20:13] (2.4.1.post1) Example 0: We don’t get to RB often, but I’m always pleased with everything. The foods good, not great, and same with the beer. L (4) – Wicked Elf is a nice dark orange/amber color. Looks inviting enough. S (4.25) – Definitely smell the hops. Doesn’t smell especially piney or citrusey, but good. T (4.25) – This beer tastes pretty good. Not super malty, and not much spice going on. I get more of a piney hop taste compared to the citrus ones. A nice piney hop aftertaste too. I like. F (4) – This type of beer doesn’t have a lot to say about mouthfeel IMO. It’s light, carbed right, and not overly anything. But that’s how I want this type of beer to be. O (4.25) – Not sure how true to the style this beer was, but it was tasty. It isn’t high IBU and it isn’t high ABV. Just a nice, pleasant beer to have with dinner. Would drink again.\n"
     ]
    },
    {
     "name": "stderr",
     "output_type": "stream",
     "text": [
      " 85%|████████▌ | 85/100 [00:15<00:02,  5.51it/s]"
     ]
    },
    {
     "name": "stdout",
     "output_type": "stream",
     "text": [
      "[2025-04-30 16:20:13] (2.4.1.post1) Warning: reference sentiment does not exist or its number 0 is not equal to aspect number 1, text:  [B-ASP]Global Sentiment[E-ASP]    Thanks to wcudwight for sharing his bomber. The appearance is a deep red brew with a thick creamy head riding on top. There is some lacing in the glass. Beers just don't look much better than this. A well deserved 5. The smell was really hard to pick up on in this beer. Some hoppiness but overall, no real powerfull smell. The taste was damn fine. There was a nice hop bitterness that was just right. There was a red ale nature to this beer as well. The mouthfeel was smooth. No overpowering notes of any type. Balanced. The drinkability was superb. The higher ABV was so well hidden it may lead you to think this beer would session easy. A big beer that does not act big. This beer has fanfare and now I see why. This is unlike any other IPA I have had.  \n",
      "[2025-04-30 16:20:13] (2.4.1.post1) Example 0: Thanks to wcudwight for sharing his bomber. The appearance is a deep red brew with a thick creamy head riding on top. There is some lacing in the glass. Beers just don't look much better than this. A well deserved 5. The smell was really hard to pick up on in this beer. Some hoppiness but overall, no real powerfull smell. The taste was damn fine. There was a nice hop bitterness that was just right. There was a red ale nature to this beer as well. The mouthfeel was smooth. No overpowering notes of any type. Balanced. The drinkability was superb. The higher ABV was so well hidden it may lead you to think this beer would session easy. A big beer that does not act big. This beer has fanfare and now I see why. This is unlike any other IPA I have had.\n"
     ]
    },
    {
     "name": "stderr",
     "output_type": "stream",
     "text": [
      " 86%|████████▌ | 86/100 [00:15<00:02,  5.60it/s]"
     ]
    },
    {
     "name": "stdout",
     "output_type": "stream",
     "text": [
      "[2025-04-30 16:20:13] (2.4.1.post1) Warning: reference sentiment does not exist or its number 0 is not equal to aspect number 1, text:  [B-ASP]Global Sentiment[E-ASP]    A - Pours with a very thin head, less than a finger, that dissipates quickly. Translucent with a golden reddish brown. S - An interesting combination. A mild mix of bourbon and vanilla with a touch of malt. T - The bourbon and vanilla are at the forefront with the bourbon fading out in favor of strong malt and vanilla notes at the finish. M - Carbonation is minimal. Finishes mostly clean, leaves behind a pleasant sweet aftertaste (like a shot of a sweeter whiskey). D - Definitely worth a try and maybe a second round, but beyond two in a row the taste will be overpowering and the aftertaste might stick around for longer than you might like.  \n",
      "[2025-04-30 16:20:13] (2.4.1.post1) Example 0: A - Pours with a very thin head, less than a finger, that dissipates quickly. Translucent with a golden reddish brown. S - An interesting combination. A mild mix of bourbon and vanilla with a touch of malt. T - The bourbon and vanilla are at the forefront with the bourbon fading out in favor of strong malt and vanilla notes at the finish. M - Carbonation is minimal. Finishes mostly clean, leaves behind a pleasant sweet aftertaste (like a shot of a sweeter whiskey). D - Definitely worth a try and maybe a second round, but beyond two in a row the taste will be overpowering and the aftertaste might stick around for longer than you might like.\n"
     ]
    },
    {
     "name": "stderr",
     "output_type": "stream",
     "text": [
      " 87%|████████▋ | 87/100 [00:15<00:02,  5.68it/s]"
     ]
    },
    {
     "name": "stdout",
     "output_type": "stream",
     "text": [
      "[2025-04-30 16:20:13] (2.4.1.post1) Warning: reference sentiment does not exist or its number 0 is not equal to aspect number 1, text:  [B-ASP]Global Sentiment[E-ASP]    Big dark bready style of pour, aroma was much the same way. Lots of prune in it. Taste, reminiscient of those shitty fruitcakes your aunt would bring to the holidays. Lots of spice rack and clove here, dark fruit notes all over it, rye bread. I'm glad they like it, but I just can't get into this style of beer.  \n",
      "[2025-04-30 16:20:13] (2.4.1.post1) Example 0: Big dark bready style of pour, aroma was much the same way. Lots of prune in it. Taste, reminiscient of those shitty fruitcakes your aunt would bring to the holidays. Lots of spice rack and clove here, dark fruit notes all over it, rye bread. I'm glad they like it, but I just can't get into this style of beer.\n"
     ]
    },
    {
     "name": "stderr",
     "output_type": "stream",
     "text": [
      " 88%|████████▊ | 88/100 [00:15<00:02,  5.35it/s]"
     ]
    },
    {
     "name": "stdout",
     "output_type": "stream",
     "text": [
      "[2025-04-30 16:20:13] (2.4.1.post1) Warning: reference sentiment does not exist or its number 0 is not equal to aspect number 1, text:  [B-ASP]Global Sentiment[E-ASP]    A - Orangish amber with a nice cloud like head... Attractive carbonation... S - Wheat... Spices... Citrus... Malt... Nice aroma, but too faint... T - Wheat and spices... Perhaps a hint of citrus... M - Light and creamy texture... Crisp and refreshing... D - Refreshing... I'm not a big fan of \"summer brews,\" but this one isn't too shabby and has some redeeming qualities... A little more aroma and taste would have helped out...  \n",
      "[2025-04-30 16:20:14] (2.4.1.post1) Example 0: A - Orangish amber with a nice cloud like head... Attractive carbonation... S - Wheat... Spices... Citrus... Malt... Nice aroma, but too faint... T - Wheat and spices... Perhaps a hint of citrus... M - Light and creamy texture... Crisp and refreshing... D - Refreshing... I'm not a big fan of \"summer brews,\" but this one isn't too shabby and has some redeeming qualities... A little more aroma and taste would have helped out...\n"
     ]
    },
    {
     "name": "stderr",
     "output_type": "stream",
     "text": [
      " 89%|████████▉ | 89/100 [00:15<00:02,  5.49it/s]"
     ]
    },
    {
     "name": "stdout",
     "output_type": "stream",
     "text": [
      "[2025-04-30 16:20:14] (2.4.1.post1) Warning: reference sentiment does not exist or its number 0 is not equal to aspect number 1, text:  [B-ASP]Global Sentiment[E-ASP]    Pours hazy orange in color. Smell is big peach with a hint of funk. Funk is more present in the flavor. Not much residual sweetness but not overly dry. Alcohol VERY well hidden. Light bodied in spite of strength. Funky peach juice. More funk would be great, but very nice drinking beer that tells you exactly what it is.  \n",
      "[2025-04-30 16:20:14] (2.4.1.post1) Example 0: Pours hazy orange in color. Smell is big peach with a hint of funk. Funk is more present in the flavor. Not much residual sweetness but not overly dry. Alcohol VERY well hidden. Light bodied in spite of strength. Funky peach juice. More funk would be great, but very nice drinking beer that tells you exactly what it is.\n"
     ]
    },
    {
     "name": "stderr",
     "output_type": "stream",
     "text": [
      " 90%|█████████ | 90/100 [00:16<00:01,  5.61it/s]"
     ]
    },
    {
     "name": "stdout",
     "output_type": "stream",
     "text": [
      "[2025-04-30 16:20:14] (2.4.1.post1) Warning: reference sentiment does not exist or its number 0 is not equal to aspect number 1, text:  [B-ASP]Global Sentiment[E-ASP]    On tap at The Shack in Cypress TX. I had just had a Firestone Walker Union Jack and told my server we might as well shift gears and try a stout or something because I knew he wouldn't be able to bring me an IPA that I liked better. He asked me if I had had a Yellow Rose and when I said \"no\", he twisted my arm a little and I said \"bring it on\", though I doubted it would be as good as he said. Beautiful color and head and a nose that is amazing. The hops flavors explode in my mouth like fireworks. Now THAT is an IPA. Very pine-y but grapefruit as well. Definitely some dank, earthy notes around the edges. Perfect balance, perfect carbonation...this is just about perfection for me. Never rated a beer a perfect 5 but what part of this masterpiece isn't perfect? And it's all from one malt and one hop... amazing!  \n",
      "[2025-04-30 16:20:14] (2.4.1.post1) Example 0: On tap at The Shack in Cypress TX. I had just had a Firestone Walker Union Jack and told my server we might as well shift gears and try a stout or something because I knew he wouldn't be able to bring me an IPA that I liked better. He asked me if I had had a Yellow Rose and when I said \"no\", he twisted my arm a little and I said \"bring it on\", though I doubted it would be as good as he said. Beautiful color and head and a nose that is amazing. The hops flavors explode in my mouth like fireworks. Now THAT is an IPA. Very pine-y but grapefruit as well. Definitely some dank, earthy notes around the edges. Perfect balance, perfect carbonation...this is just about perfection for me. Never rated a beer a perfect 5 but what part of this masterpiece isn't perfect? And it's all from one malt and one hop... amazing!\n"
     ]
    },
    {
     "name": "stderr",
     "output_type": "stream",
     "text": [
      " 91%|█████████ | 91/100 [00:16<00:01,  5.68it/s]"
     ]
    },
    {
     "name": "stdout",
     "output_type": "stream",
     "text": [
      "[2025-04-30 16:20:14] (2.4.1.post1) Warning: reference sentiment does not exist or its number 0 is not equal to aspect number 1, text:  [B-ASP]Global Sentiment[E-ASP]    Im not much of a pale ale guy usually but, damnit, Alesmith won me over with this one. This beer is basically a staple anywhere you go in SD, thanks mostly to the Tony Gwynn association but even without the local plug, its a pretty fantastic beer. The ABV sits at 6% which is the sweet spot for a pale. Its not overly hoppy, not too sweet, perfectly crisp and not heavy at all. This beer holds up any season of the year.  \n",
      "[2025-04-30 16:20:14] (2.4.1.post1) Example 0: Im not much of a pale ale guy usually but, damnit, Alesmith won me over with this one. This beer is basically a staple anywhere you go in SD, thanks mostly to the Tony Gwynn association but even without the local plug, its a pretty fantastic beer. The ABV sits at 6% which is the sweet spot for a pale. Its not overly hoppy, not too sweet, perfectly crisp and not heavy at all. This beer holds up any season of the year.\n"
     ]
    },
    {
     "name": "stderr",
     "output_type": "stream",
     "text": [
      " 92%|█████████▏| 92/100 [00:16<00:01,  5.70it/s]"
     ]
    },
    {
     "name": "stdout",
     "output_type": "stream",
     "text": [
      "[2025-04-30 16:20:14] (2.4.1.post1) Warning: reference sentiment does not exist or its number 0 is not equal to aspect number 1, text:  [B-ASP]Global Sentiment[E-ASP]    750 ml bottle served in a Chouffe tulip. Batch #31 A: Pours a dark pink, grapefruit color with a light pinkish head rising up quickly on the pour. it recedes to a bubble film and thin ring. S: Unfortunately there is heavy rancid cheese and buttery notes up front. I do get a hint of tart blueberry behind all that, but the nose on the pour is very heavy on the funky notes. T: Tart blueberry with a light cracked wheat. The buttery and blue cheese flavors are only there in the slight bit in the finish. M: Light bodied with a nice prickly carb. Slightly oily with a pungent aftertaste. O: Well it was definitely heavy on the off flavors of blue cheese and buttery funk. This did not work, but I have faith the boys can correct the mistakes on their second attempt at Berliner.  \n",
      "[2025-04-30 16:20:14] (2.4.1.post1) Example 0: 750 ml bottle served in a Chouffe tulip. Batch #31 A: Pours a dark pink, grapefruit color with a light pinkish head rising up quickly on the pour. it recedes to a bubble film and thin ring. S: Unfortunately there is heavy rancid cheese and buttery notes up front. I do get a hint of tart blueberry behind all that, but the nose on the pour is very heavy on the funky notes. T: Tart blueberry with a light cracked wheat. The buttery and blue cheese flavors are only there in the slight bit in the finish. M: Light bodied with a nice prickly carb. Slightly oily with a pungent aftertaste. O: Well it was definitely heavy on the off flavors of blue cheese and buttery funk. This did not work, but I have faith the boys can correct the mistakes on their second attempt at Berliner.\n"
     ]
    },
    {
     "name": "stderr",
     "output_type": "stream",
     "text": [
      " 93%|█████████▎| 93/100 [00:16<00:01,  5.74it/s]"
     ]
    },
    {
     "name": "stdout",
     "output_type": "stream",
     "text": [
      "[2025-04-30 16:20:14] (2.4.1.post1) Warning: reference sentiment does not exist or its number 0 is not equal to aspect number 1, text:  [B-ASP]Global Sentiment[E-ASP]    During my vacation trip to Florida, I was very eager to get my hands on some Cigar City beers, as we only get a few in VA. 12 oz can poured into a cylinder glass. Dark brown color, nice head on the beer. Nice hints of chocolate and espresso, flavors I commonly find in porters and stouts. This is an outstanding brown ale.  \n",
      "[2025-04-30 16:20:14] (2.4.1.post1) Example 0: During my vacation trip to Florida, I was very eager to get my hands on some Cigar City beers, as we only get a few in VA. 12 oz can poured into a cylinder glass. Dark brown color, nice head on the beer. Nice hints of chocolate and espresso, flavors I commonly find in porters and stouts. This is an outstanding brown ale.\n"
     ]
    },
    {
     "name": "stderr",
     "output_type": "stream",
     "text": [
      " 94%|█████████▍| 94/100 [00:16<00:01,  5.77it/s]"
     ]
    },
    {
     "name": "stdout",
     "output_type": "stream",
     "text": [
      "[2025-04-30 16:20:14] (2.4.1.post1) Warning: reference sentiment does not exist or its number 0 is not equal to aspect number 1, text:  [B-ASP]Global Sentiment[E-ASP]    22oz bottle into SN imperial pint glass. A: Pours a light golden-amber with a thin white head that quickly faded into a fuzzy scum that left a complex network of lacing down the glass. S: Orange blossom honey dominates along with a good dose of bready yeast and pale malt. T: Sweet notes of pale malts and cracked grains mixed with orange zest, orange blossom honey and a bit dry biscuit-like yeast dominate but I get some coriander as well. The finish has a touch sugary sweetness and the finish is full of sweet orange. M: Slick and drying mouthfeel, medium-light body with thin carbonation. O: A little sweet but I was really digging the flavor. Pretty good mouthfeel and overall refreshing and easy to drink. Far from my favorite Alpine beer but not bad all around.  \n",
      "[2025-04-30 16:20:15] (2.4.1.post1) Example 0: 22oz bottle into SN imperial pint glass. A: Pours a light golden-amber with a thin white head that quickly faded into a fuzzy scum that left a complex network of lacing down the glass. S: Orange blossom honey dominates along with a good dose of bready yeast and pale malt. T: Sweet notes of pale malts and cracked grains mixed with orange zest, orange blossom honey and a bit dry biscuit-like yeast dominate but I get some coriander as well. The finish has a touch sugary sweetness and the finish is full of sweet orange. M: Slick and drying mouthfeel, medium-light body with thin carbonation. O: A little sweet but I was really digging the flavor. Pretty good mouthfeel and overall refreshing and easy to drink. Far from my favorite Alpine beer but not bad all around.\n"
     ]
    },
    {
     "name": "stderr",
     "output_type": "stream",
     "text": [
      " 95%|█████████▌| 95/100 [00:17<00:00,  5.64it/s]"
     ]
    },
    {
     "name": "stdout",
     "output_type": "stream",
     "text": [
      "[2025-04-30 16:20:15] (2.4.1.post1) Warning: reference sentiment does not exist or its number 0 is not equal to aspect number 1, text:  [B-ASP]Global Sentiment[E-ASP]    Had with Korean BBQ; was recommended by our waitress as being the \"better korean beer.\" Can't say this beer made me proud to be Korean. a: poured with nice ~1inch head. Light golden color. s: very subtle malty sweets. t: you won't find much flavor here. Malty with smidge of flat hops. Though, taste is non-obtrusive and actually went well with the BBQ. m: very clean and refreshing. Highly carbonated. I think its mouthfeel really saved this beer from being horrible. d: Isn't much of a beer (btw; the menu in the restaurant lists Soju in Korean with English translation \"hard liquor\")...but it's definitely drinkable.  \n",
      "[2025-04-30 16:20:15] (2.4.1.post1) Example 0: Had with Korean BBQ; was recommended by our waitress as being the \"better korean beer.\" Can't say this beer made me proud to be Korean. a: poured with nice ~1inch head. Light golden color. s: very subtle malty sweets. t: you won't find much flavor here. Malty with smidge of flat hops. Though, taste is non-obtrusive and actually went well with the BBQ. m: very clean and refreshing. Highly carbonated. I think its mouthfeel really saved this beer from being horrible. d: Isn't much of a beer (btw; the menu in the restaurant lists Soju in Korean with English translation \"hard liquor\")...but it's definitely drinkable.\n"
     ]
    },
    {
     "name": "stderr",
     "output_type": "stream",
     "text": [
      " 96%|█████████▌| 96/100 [00:17<00:00,  5.27it/s]"
     ]
    },
    {
     "name": "stdout",
     "output_type": "stream",
     "text": [
      "[2025-04-30 16:20:15] (2.4.1.post1) Warning: reference sentiment does not exist or its number 0 is not equal to aspect number 1, text:  [B-ASP]Global Sentiment[E-ASP]    22oz bottle poured into a tulip glass. Pours a jet black with 2+ fingers of brown high density head with good retention and some lacing. Nose is dominated by chocolate as expected, with subtle contributions from roasted malt. Taste wasn't as dynamic as I'd hoped. Mostly chocolate, bitter, a little caramel and some burnt attributes. Mouthfeel is good bodied, carbonation was a bit on the higher side, and a finish that is bitter a little dry and lingers. Enjoyable, but definitely not my favorite chocolate oatmeal stout.  \n",
      "[2025-04-30 16:20:15] (2.4.1.post1) Example 0: 22oz bottle poured into a tulip glass. Pours a jet black with 2+ fingers of brown high density head with good retention and some lacing. Nose is dominated by chocolate as expected, with subtle contributions from roasted malt. Taste wasn't as dynamic as I'd hoped. Mostly chocolate, bitter, a little caramel and some burnt attributes. Mouthfeel is good bodied, carbonation was a bit on the higher side, and a finish that is bitter a little dry and lingers. Enjoyable, but definitely not my favorite chocolate oatmeal stout.\n"
     ]
    },
    {
     "name": "stderr",
     "output_type": "stream",
     "text": [
      " 97%|█████████▋| 97/100 [00:17<00:00,  5.43it/s]"
     ]
    },
    {
     "name": "stdout",
     "output_type": "stream",
     "text": [
      "[2025-04-30 16:20:15] (2.4.1.post1) Warning: reference sentiment does not exist or its number 0 is not equal to aspect number 1, text:  [B-ASP]Global Sentiment[E-ASP]    Bottled in September of 2008. Pours thickly veiled brown with yellow-tan highlights -- almost like the inside of an overripe plum. Modest head dissipates to a fine surface film. Smells of prune, plum, banana, a little bit of cherry-tinged funk. Comes together to smell a bit like unsweetened purple grape juice. The smell is a true harbinger of the taste: deep plum and light caramel flavors form the backbone as banana and subtle cherry tart notes take turns. The light tartness builds a bit and ends up being the last note at the finish line. Lots of subtle complexity here for the style: no one flavor dominates or speaks out of turn. Very drinkable in that you can keep discovering new flavors over multiple servings. A real standout in the Belgian brown class.  \n",
      "[2025-04-30 16:20:15] (2.4.1.post1) Example 0: Bottled in September of 2008. Pours thickly veiled brown with yellow-tan highlights -- almost like the inside of an overripe plum. Modest head dissipates to a fine surface film. Smells of prune, plum, banana, a little bit of cherry-tinged funk. Comes together to smell a bit like unsweetened purple grape juice. The smell is a true harbinger of the taste: deep plum and light caramel flavors form the backbone as banana and subtle cherry tart notes take turns. The light tartness builds a bit and ends up being the last note at the finish line. Lots of subtle complexity here for the style: no one flavor dominates or speaks out of turn. Very drinkable in that you can keep discovering new flavors over multiple servings. A real standout in the Belgian brown class.\n"
     ]
    },
    {
     "name": "stderr",
     "output_type": "stream",
     "text": [
      " 98%|█████████▊| 98/100 [00:17<00:00,  5.53it/s]"
     ]
    },
    {
     "name": "stdout",
     "output_type": "stream",
     "text": [
      "[2025-04-30 16:20:15] (2.4.1.post1) Warning: reference sentiment does not exist or its number 0 is not equal to aspect number 1, text:  [B-ASP]Global Sentiment[E-ASP]    this dubbel is mahogany in colour with a minimal head and no lace... it has super fast little carbonation bubbles...the nose holds spice and a rich malted aroma...smells somewhat vinous and dark fruit charactered with yeast inflections...the flavour is that of a dominant malt base with spicery and vinous impressions...yeasty tones as if bottle refermented...mouthfeel is not overly robust and tips in at the fat end of lightness approaching medium...drinkability is good as this is quite the mild little creation...finish is super clean as the label proclaims...I would go so far as to designate it as sessionable if one were to see fit as an admirer of the style... quite pleasant...nothing mind blowing at all, but solid...first Allagash for me...not the last...  \n",
      "[2025-04-30 16:20:15] (2.4.1.post1) Example 0: this dubbel is mahogany in colour with a minimal head and no lace... it has super fast little carbonation bubbles...the nose holds spice and a rich malted aroma...smells somewhat vinous and dark fruit charactered with yeast inflections...the flavour is that of a dominant malt base with spicery and vinous impressions...yeasty tones as if bottle refermented...mouthfeel is not overly robust and tips in at the fat end of lightness approaching medium...drinkability is good as this is quite the mild little creation...finish is super clean as the label proclaims...I would go so far as to designate it as sessionable if one were to see fit as an admirer of the style... quite pleasant...nothing mind blowing at all, but solid...first Allagash for me...not the last...\n"
     ]
    },
    {
     "name": "stderr",
     "output_type": "stream",
     "text": [
      " 99%|█████████▉| 99/100 [00:17<00:00,  5.39it/s]"
     ]
    },
    {
     "name": "stdout",
     "output_type": "stream",
     "text": [
      "[2025-04-30 16:20:15] (2.4.1.post1) Warning: reference sentiment does not exist or its number 0 is not equal to aspect number 1, text:  [B-ASP]Global Sentiment[E-ASP]    473 ml can, from LCBO. Pours a very lightly hazed dark orange, some copper highlights, nice and thick white head forms, slowly settles down to a thick ring, some lace chunks stick to the glass. Smell is nice, very malty, signature Creemore breadiness, some toasty malts and caramel, earthy, some floral, nice light citrus hops, grassy, lightly solvent, but smells good. Taste is similar, dry and toasty up front, bready, caramel sweetness through the middle, very grassy hops, some citrus and floral, touch of fruit in the finish, almost a little tannic and grapey, nice dry finish, solid bitterness. Mouthfeel is light bodied with low to medium carbonation, just right. Nice lager with some great character. Looking forward to the hoppier batch 2.  \n",
      "[2025-04-30 16:20:16] (2.4.1.post1) Example 0: 473 ml can, from LCBO. Pours a very lightly hazed dark orange, some copper highlights, nice and thick white head forms, slowly settles down to a thick ring, some lace chunks stick to the glass. Smell is nice, very malty, signature Creemore breadiness, some toasty malts and caramel, earthy, some floral, nice light citrus hops, grassy, lightly solvent, but smells good. Taste is similar, dry and toasty up front, bready, caramel sweetness through the middle, very grassy hops, some citrus and floral, touch of fruit in the finish, almost a little tannic and grapey, nice dry finish, solid bitterness. Mouthfeel is light bodied with low to medium carbonation, just right. Nice lager with some great character. Looking forward to the hoppier batch 2.\n"
     ]
    },
    {
     "name": "stderr",
     "output_type": "stream",
     "text": [
      "100%|██████████| 100/100 [00:17<00:00,  5.56it/s]\n"
     ]
    },
    {
     "name": "stdout",
     "output_type": "stream",
     "text": [
      "\n",
      "Processing aspect: smell\n"
     ]
    },
    {
     "name": "stderr",
     "output_type": "stream",
     "text": [
      "  0%|          | 0/100 [00:00<?, ?it/s]"
     ]
    },
    {
     "name": "stdout",
     "output_type": "stream",
     "text": [
      "[2025-04-30 16:20:16] (2.4.1.post1) Warning: reference sentiment does not exist or its number 0 is not equal to aspect number 1, text:  [B-ASP]Global Sentiment[E-ASP]    0%\n",
      "[2025-04-30 16:20:16] (2.4.1.post1) Example 0: 0%\n"
     ]
    },
    {
     "name": "stderr",
     "output_type": "stream",
     "text": [
      "  1%|          | 1/100 [00:00<00:28,  3.43it/s]"
     ]
    },
    {
     "name": "stdout",
     "output_type": "stream",
     "text": [
      "[2025-04-30 16:20:16] (2.4.1.post1) Warning: reference sentiment does not exist or its number 0 is not equal to aspect number 1, text:  [B-ASP]Global Sentiment[E-ASP]    Can: Poured a clear amber color le with a nice large off-white foamy head with good retention and some lacing. Aroma of dank hoppy notes with some fruity ester and light caramel notes is quite enticing. Taste is a nice mix between some dank hoppy notes with some fruity ester and some dry caramel notes. Body is about average with good carbonation. Solid amber ale with plenty of character.  \n",
      "[2025-04-30 16:20:16] (2.4.1.post1) Example 0: Can: Poured a clear amber color le with a nice large off-white foamy head with good retention and some lacing. Aroma of dank hoppy notes with some fruity ester and light caramel notes is quite enticing. Taste is a nice mix between some dank hoppy notes with some fruity ester and some dry caramel notes. Body is about average with good carbonation. Solid amber ale with plenty of character.\n"
     ]
    },
    {
     "name": "stderr",
     "output_type": "stream",
     "text": [
      "  2%|▏         | 2/100 [00:00<00:28,  3.42it/s]"
     ]
    },
    {
     "name": "stdout",
     "output_type": "stream",
     "text": [
      "[2025-04-30 16:20:16] (2.4.1.post1) Warning: reference sentiment does not exist or its number 0 is not equal to aspect number 1, text:  [B-ASP]Global Sentiment[E-ASP]    L - \"oat cream IPA\". Jesus, OH, why you do this to me? Pours a flat, banana cream yellow. Thick haze with a whitish milky murk. S - grapefruit zest pops up front. Spicy lime and a marshmallow sugary sweetness, although that's subtle. T - green melon rind and soft, supple oaty creaminess. More lime and tangerine dream. It's got that zesty twang balanced by the luscious oats. Finishes mildly acidic with some serious hop bite. F - minimal carbonation until the very end when a little bit of foam crops up. Feel is generally medium-bodied and slick on the tongue. Smooth. O - I wanted to like this a lot more than I did, but it's still a great beer. More zest than cream, which is great in its own right, just not what's advertised on the tin!  \n",
      "[2025-04-30 16:20:16] (2.4.1.post1) Example 0: L - \"oat cream IPA\". Jesus, OH, why you do this to me? Pours a flat, banana cream yellow. Thick haze with a whitish milky murk. S - grapefruit zest pops up front. Spicy lime and a marshmallow sugary sweetness, although that's subtle. T - green melon rind and soft, supple oaty creaminess. More lime and tangerine dream. It's got that zesty twang balanced by the luscious oats. Finishes mildly acidic with some serious hop bite. F - minimal carbonation until the very end when a little bit of foam crops up. Feel is generally medium-bodied and slick on the tongue. Smooth. O - I wanted to like this a lot more than I did, but it's still a great beer. More zest than cream, which is great in its own right, just not what's advertised on the tin!\n"
     ]
    },
    {
     "name": "stderr",
     "output_type": "stream",
     "text": [
      "  3%|▎         | 3/100 [00:00<00:23,  4.14it/s]"
     ]
    },
    {
     "name": "stdout",
     "output_type": "stream",
     "text": [
      "[2025-04-30 16:20:16] (2.4.1.post1) Warning: reference sentiment does not exist or its number 0 is not equal to aspect number 1, text:  [B-ASP]Global Sentiment[E-ASP]    Draft into a Samichlaus snifter. A: Orange - red - hazey - very pretty - thin head, slight lacing. S: Vanilla, nutty, musty. T: Some roasted nuts, earthy malts, oak. M: Thin, lightly carbonated. O: I got it on draft for $3 and was not impressed. I'm a big fan of barrel aged beers, but this one didn't gain many interesting characteristics from the barrels it was stored in. Don't go out of your way for this one.  \n",
      "[2025-04-30 16:20:16] (2.4.1.post1) Example 0: Draft into a Samichlaus snifter. A: Orange - red - hazey - very pretty - thin head, slight lacing. S: Vanilla, nutty, musty. T: Some roasted nuts, earthy malts, oak. M: Thin, lightly carbonated. O: I got it on draft for $3 and was not impressed. I'm a big fan of barrel aged beers, but this one didn't gain many interesting characteristics from the barrels it was stored in. Don't go out of your way for this one.\n"
     ]
    },
    {
     "name": "stderr",
     "output_type": "stream",
     "text": [
      "  4%|▍         | 4/100 [00:00<00:20,  4.73it/s]"
     ]
    },
    {
     "name": "stdout",
     "output_type": "stream",
     "text": [
      "[2025-04-30 16:20:16] (2.4.1.post1) Warning: reference sentiment does not exist or its number 0 is not equal to aspect number 1, text:  [B-ASP]Global Sentiment[E-ASP]    Deschutes took Chicago by storm this past month, and I was lucky to go to numerous tasting sessions that had all their brews out. I feel that I was trying too many brews at once to give it a full review, so now I got a sixer and see how this pale ale is on my palate. A- Bright, transparent, sort of a blood orange type of hue. Lots of head retention that is nice and frothy. Lots of lacing is left behind. S- Such a wonderful tangerine smell, with copious amount of honey that make this smell so sweet. Lastly you smell a light malt smell that goes great with the honey. You can barely smell any hops here, as some pine barely makes it through. T- Initial light bitter, piney hops, that turns right into a sweet malt flavor that dominates my palate. I love malty beers so I may be biased. Tastes of honey biscuit, tangerine, and light grapefruit just come together to make a very solid beer. S- Light body and light carbonation makes this beer go down fast. O- I know hops are the craze nowadays, but this is my go to APA. This beer goes back to the basics with light amounts of hops and a nice sweet taste that goes down great.  \n",
      "[2025-04-30 16:20:17] (2.4.1.post1) Example 0: Deschutes took Chicago by storm this past month, and I was lucky to go to numerous tasting sessions that had all their brews out. I feel that I was trying too many brews at once to give it a full review, so now I got a sixer and see how this pale ale is on my palate. A- Bright, transparent, sort of a blood orange type of hue. Lots of head retention that is nice and frothy. Lots of lacing is left behind. S- Such a wonderful tangerine smell, with copious amount of honey that make this smell so sweet. Lastly you smell a light malt smell that goes great with the honey. You can barely smell any hops here, as some pine barely makes it through. T- Initial light bitter, piney hops, that turns right into a sweet malt flavor that dominates my palate. I love malty beers so I may be biased. Tastes of honey biscuit, tangerine, and light grapefruit just come together to make a very solid beer. S- Light body and light carbonation makes this beer go down fast. O- I know hops are the craze nowadays, but this is my go to APA. This beer goes back to the basics with light amounts of hops and a nice sweet taste that goes down great.\n"
     ]
    },
    {
     "name": "stderr",
     "output_type": "stream",
     "text": [
      "  5%|▌         | 5/100 [00:01<00:18,  5.15it/s]"
     ]
    },
    {
     "name": "stdout",
     "output_type": "stream",
     "text": [
      "[2025-04-30 16:20:17] (2.4.1.post1) Warning: reference sentiment does not exist or its number 0 is not equal to aspect number 1, text:  [B-ASP]Global Sentiment[E-ASP]    12-ounce bottle poured into a pint willi glass yields a clear bronze body capped with two fingers of soft white foam that holds at a fat sheet and leaves scattered scraps of lacing on the glass. Smell is softly malty with a twist of lemon and a spicy note. Taste is toasty malts and a bit nutty with a rush of zippy spice and a mildly bitter finish. Nice drink, pretty ho-hum.  \n",
      "[2025-04-30 16:20:17] (2.4.1.post1) Example 0: 12-ounce bottle poured into a pint willi glass yields a clear bronze body capped with two fingers of soft white foam that holds at a fat sheet and leaves scattered scraps of lacing on the glass. Smell is softly malty with a twist of lemon and a spicy note. Taste is toasty malts and a bit nutty with a rush of zippy spice and a mildly bitter finish. Nice drink, pretty ho-hum.\n"
     ]
    },
    {
     "name": "stderr",
     "output_type": "stream",
     "text": [
      "  6%|▌         | 6/100 [00:01<00:17,  5.46it/s]"
     ]
    },
    {
     "name": "stdout",
     "output_type": "stream",
     "text": [
      "[2025-04-30 16:20:17] (2.4.1.post1) Warning: reference sentiment does not exist or its number 0 is not equal to aspect number 1, text:  [B-ASP]Global Sentiment[E-ASP]    Appearance: pours a crystal clear golden yellow color with a 1/2\" head. Smell: light tropical fruit aroma. Taste: nice grainy malt profile with pineapple, lemon zest, grapefruit, and a bit of pine arrives late. Alcohol is mildly warming. Mouthfeel: medium bodied beer. Crisp throughout with a dry aftertaste. Overall: another enjoyable beer from Ballast Point.  \n",
      "[2025-04-30 16:20:17] (2.4.1.post1) Example 0: Appearance: pours a crystal clear golden yellow color with a 1/2\" head. Smell: light tropical fruit aroma. Taste: nice grainy malt profile with pineapple, lemon zest, grapefruit, and a bit of pine arrives late. Alcohol is mildly warming. Mouthfeel: medium bodied beer. Crisp throughout with a dry aftertaste. Overall: another enjoyable beer from Ballast Point.\n"
     ]
    },
    {
     "name": "stderr",
     "output_type": "stream",
     "text": [
      "  7%|▋         | 7/100 [00:01<00:17,  5.28it/s]"
     ]
    },
    {
     "name": "stdout",
     "output_type": "stream",
     "text": [
      "[2025-04-30 16:20:17] (2.4.1.post1) Warning: reference sentiment does not exist or its number 0 is not equal to aspect number 1, text:  [B-ASP]Global Sentiment[E-ASP]    This beer had a medium sized head that contained fine-medium sized bubbles.The hue of this beer was orange and it produced a decent lacing on the sides of my glass.To me it has a fruity, citrusy nose.This is definitely a bitter tasting beer.This is not my favorite style of beer; however, it wasn't that bad.  \n",
      "[2025-04-30 16:20:17] (2.4.1.post1) Example 0: This beer had a medium sized head that contained fine-medium sized bubbles.The hue of this beer was orange and it produced a decent lacing on the sides of my glass.To me it has a fruity, citrusy nose.This is definitely a bitter tasting beer.This is not my favorite style of beer; however, it wasn't that bad.\n"
     ]
    },
    {
     "name": "stderr",
     "output_type": "stream",
     "text": [
      "  8%|▊         | 8/100 [00:01<00:18,  4.86it/s]"
     ]
    },
    {
     "name": "stdout",
     "output_type": "stream",
     "text": [
      "[2025-04-30 16:20:17] (2.4.1.post1) Warning: reference sentiment does not exist or its number 0 is not equal to aspect number 1, text:  [B-ASP]Global Sentiment[E-ASP]    I went into it with low expectations and was very pleasantly surprised! Pours clear bright yellow with a thin head that dissipates fast. I couldn't get much of a head on a fairly aggressive pour. Aroma is subtle and not unpleasant, mild hops and distant corn and fermented grains. The taste was surprisingly good with a balance of bready biscuity malt and hops, with some grain and milled corn in there for sure but nothing unpleasant. Mouthfeel is light bodied but not watery, with medium carbonation. Finished clean and dry. Overall a very drinkable beer.  \n",
      "[2025-04-30 16:20:17] (2.4.1.post1) Example 0: I went into it with low expectations and was very pleasantly surprised! Pours clear bright yellow with a thin head that dissipates fast. I couldn't get much of a head on a fairly aggressive pour. Aroma is subtle and not unpleasant, mild hops and distant corn and fermented grains. The taste was surprisingly good with a balance of bready biscuity malt and hops, with some grain and milled corn in there for sure but nothing unpleasant. Mouthfeel is light bodied but not watery, with medium carbonation. Finished clean and dry. Overall a very drinkable beer.\n"
     ]
    },
    {
     "name": "stderr",
     "output_type": "stream",
     "text": [
      "  9%|▉         | 9/100 [00:01<00:17,  5.08it/s]"
     ]
    },
    {
     "name": "stdout",
     "output_type": "stream",
     "text": [
      "[2025-04-30 16:20:17] (2.4.1.post1) Warning: reference sentiment does not exist or its number 0 is not equal to aspect number 1, text:  [B-ASP]Global Sentiment[E-ASP]    My favorite De Garde. No other brewery is able to incorporate fruit into their beer so well as De Garde and this beer explodes with peach and apricot flavors. Drinking this beer is comparable to biting into a fresh apricot. Tartness, mouthfeel, and appearance are perfect. Glad I was able to snag another bottle.  \n",
      "[2025-04-30 16:20:18] (2.4.1.post1) Example 0: My favorite De Garde. No other brewery is able to incorporate fruit into their beer so well as De Garde and this beer explodes with peach and apricot flavors. Drinking this beer is comparable to biting into a fresh apricot. Tartness, mouthfeel, and appearance are perfect. Glad I was able to snag another bottle.\n"
     ]
    },
    {
     "name": "stderr",
     "output_type": "stream",
     "text": [
      " 10%|█         | 10/100 [00:02<00:18,  4.75it/s]"
     ]
    },
    {
     "name": "stdout",
     "output_type": "stream",
     "text": [
      "[2025-04-30 16:20:18] (2.4.1.post1) Warning: reference sentiment does not exist or its number 0 is not equal to aspect number 1, text:  [B-ASP]Global Sentiment[E-ASP]    Estrella Galicia seems an average lager. It pours a clear golden yellow color with a decent head and a decent lace; Smell is grainy and malty; Taste is sweet and grainy too; Mouthfeel is thin and crisp, Good carbonation; Easy to drink, very drinkable. ¡Salud!  \n",
      "[2025-04-30 16:20:18] (2.4.1.post1) Example 0: Estrella Galicia seems an average lager. It pours a clear golden yellow color with a decent head and a decent lace; Smell is grainy and malty; Taste is sweet and grainy too; Mouthfeel is thin and crisp, Good carbonation; Easy to drink, very drinkable. ¡Salud!\n"
     ]
    },
    {
     "name": "stderr",
     "output_type": "stream",
     "text": [
      " 11%|█         | 11/100 [00:02<00:18,  4.77it/s]"
     ]
    },
    {
     "name": "stdout",
     "output_type": "stream",
     "text": [
      "[2025-04-30 16:20:18] (2.4.1.post1) Warning: reference sentiment does not exist or its number 0 is not equal to aspect number 1, text:  [B-ASP]Global Sentiment[E-ASP]    Many breweries give their beers a special name. But far too many times, the taste of the beer falls short of what its creators decided to call it. Great Notion absolutely nailed this one. The beer literally tastes like blueberry pancakes. I've actually never had a beer with such an accurate representation. By FAR, one of the most delicious beers I have ever tasted. Go and try it NOW! How am I the first reviewer for this one?  \n",
      "[2025-04-30 16:20:18] (2.4.1.post1) Example 0: Many breweries give their beers a special name. But far too many times, the taste of the beer falls short of what its creators decided to call it. Great Notion absolutely nailed this one. The beer literally tastes like blueberry pancakes. I've actually never had a beer with such an accurate representation. By FAR, one of the most delicious beers I have ever tasted. Go and try it NOW! How am I the first reviewer for this one?\n"
     ]
    },
    {
     "name": "stderr",
     "output_type": "stream",
     "text": [
      " 12%|█▏        | 12/100 [00:02<00:18,  4.84it/s]"
     ]
    },
    {
     "name": "stdout",
     "output_type": "stream",
     "text": [
      "[2025-04-30 16:20:18] (2.4.1.post1) Warning: reference sentiment does not exist or its number 0 is not equal to aspect number 1, text:  [B-ASP]Global Sentiment[E-ASP]    This was a darn drinkable beer. I haven't had any doppelbocks before this, so I assume it is a good representative for the style. It tastes like a less intense stout. It had a good head on it which dissipated into a lace and then faided away. Dark of course. Very tasty. A drinkable stout is what kept coming to mind. Very good for the alcohol content.  \n",
      "[2025-04-30 16:20:18] (2.4.1.post1) Example 0: This was a darn drinkable beer. I haven't had any doppelbocks before this, so I assume it is a good representative for the style. It tastes like a less intense stout. It had a good head on it which dissipated into a lace and then faided away. Dark of course. Very tasty. A drinkable stout is what kept coming to mind. Very good for the alcohol content.\n"
     ]
    },
    {
     "name": "stderr",
     "output_type": "stream",
     "text": [
      " 13%|█▎        | 13/100 [00:02<00:17,  5.05it/s]"
     ]
    },
    {
     "name": "stdout",
     "output_type": "stream",
     "text": [
      "[2025-04-30 16:20:18] (2.4.1.post1) Warning: reference sentiment does not exist or its number 0 is not equal to aspect number 1, text:  [B-ASP]Global Sentiment[E-ASP]    Yeast. Malt. Raisin. Sweet. Phenomenal.\n",
      "[2025-04-30 16:20:18] (2.4.1.post1) Example 0: Yeast. Malt. Raisin. Sweet. Phenomenal.\n"
     ]
    },
    {
     "name": "stderr",
     "output_type": "stream",
     "text": [
      " 14%|█▍        | 14/100 [00:02<00:16,  5.24it/s]"
     ]
    },
    {
     "name": "stdout",
     "output_type": "stream",
     "text": [
      "[2025-04-30 16:20:18] (2.4.1.post1) Warning: reference sentiment does not exist or its number 0 is not equal to aspect number 1, text:  [B-ASP]Global Sentiment[E-ASP]    Pours orangey gold with large head. The aroma is spicy and phenolic with some bready malt. The flavor is spicy up front with some juiciness and a dry bitter finish. It's highly carbonated which takes away from the beer a little, but it's still a good example of the style.  \n",
      "[2025-04-30 16:20:19] (2.4.1.post1) Example 0: Pours orangey gold with large head. The aroma is spicy and phenolic with some bready malt. The flavor is spicy up front with some juiciness and a dry bitter finish. It's highly carbonated which takes away from the beer a little, but it's still a good example of the style.\n"
     ]
    },
    {
     "name": "stderr",
     "output_type": "stream",
     "text": [
      " 15%|█▌        | 15/100 [00:03<00:15,  5.38it/s]"
     ]
    },
    {
     "name": "stdout",
     "output_type": "stream",
     "text": [
      "[2025-04-30 16:20:19] (2.4.1.post1) Warning: reference sentiment does not exist or its number 0 is not equal to aspect number 1, text:  [B-ASP]Global Sentiment[E-ASP]    this is desert island beer for me, a nice grainy liquid bread sort of base saison, nice and low on the abv, but lots of body and texture, and flavored by all three elements. this really is fantastic stuff from side project, even though its some of their rarer releases that get all the hype, this one is just as good for me. batch or blend number 3 from what i gather, its a little hazy but very approachable looking, soft and inviting, with a puffy white head with great retention. maybe some rye in here? oats? more than just pale and pils type barley malt and wheat, a little peppery bite, maybe from the yeast, but possibly some rye malt too. the yeast is amazing, fully bretty, a little belgian, soft and fruity, white grape for sure, apricot, crab apple, and then the oak at the end, which is pretty mild in terms of flavor, serving more here as a mellowing agent and a vehicle for fermentation. really impressive beer, as much flavor as you can get into something this low in alcohol, rich on the grain front but bone dry, floral hoppy in the end with a little white wine note, some wood, a lot of delicate fruity funk from the mature brett, and en expressive level of carbonation that makes this positively sing on the palate. one of my new favorite styles, and one of the best takes on it i have seen in some time. not to be missed...  \n",
      "[2025-04-30 16:20:19] (2.4.1.post1) Example 0: this is desert island beer for me, a nice grainy liquid bread sort of base saison, nice and low on the abv, but lots of body and texture, and flavored by all three elements. this really is fantastic stuff from side project, even though its some of their rarer releases that get all the hype, this one is just as good for me. batch or blend number 3 from what i gather, its a little hazy but very approachable looking, soft and inviting, with a puffy white head with great retention. maybe some rye in here? oats? more than just pale and pils type barley malt and wheat, a little peppery bite, maybe from the yeast, but possibly some rye malt too. the yeast is amazing, fully bretty, a little belgian, soft and fruity, white grape for sure, apricot, crab apple, and then the oak at the end, which is pretty mild in terms of flavor, serving more here as a mellowing agent and a vehicle for fermentation. really impressive beer, as much flavor as you can get into something this low in alcohol, rich on the grain front but bone dry, floral hoppy in the end with a little white wine note, some wood, a lot of delicate fruity funk from the mature brett, and en expressive level of carbonation that makes this positively sing on the palate. one of my new favorite styles, and one of the best takes on it i have seen in\n"
     ]
    },
    {
     "name": "stderr",
     "output_type": "stream",
     "text": [
      " 16%|█▌        | 16/100 [00:03<00:17,  4.89it/s]"
     ]
    },
    {
     "name": "stdout",
     "output_type": "stream",
     "text": [
      "[2025-04-30 16:20:19] (2.4.1.post1) Warning: reference sentiment does not exist or its number 0 is not equal to aspect number 1, text:  [B-ASP]Global Sentiment[E-ASP]    A: On tap at Belmont Station Jan. 2015. Thick white head with nice lacing. Pale in color. S: Tropical fruits first followed by pine and citrus. Very pleasant. Definitely well dry hopped. T: Starts tropical with a citrus-pine middle with just a hint of sweet malts, finishes slightly bitter and very dry. M: Medium carbonation, low body with little malt. O: A very seasonable light in body beer with a dry finish. The lack of malts and body works in this because it have a very minimal bitterness. The dry hopping and late addition hops are the main feature of this ale. This leaves you feeling refreshed and not full. This along with Easy Jack are my two favorite session IPA's. If you're looking for a traditional IPA this won't be for you. Sessionable IPA's are great on a hot summer day or as a gateway craft drink for someone switching from domestics.  \n",
      "[2025-04-30 16:20:19] (2.4.1.post1) Example 0: A: On tap at Belmont Station Jan. 2015. Thick white head with nice lacing. Pale in color. S: Tropical fruits first followed by pine and citrus. Very pleasant. Definitely well dry hopped. T: Starts tropical with a citrus-pine middle with just a hint of sweet malts, finishes slightly bitter and very dry. M: Medium carbonation, low body with little malt. O: A very seasonable light in body beer with a dry finish. The lack of malts and body works in this because it have a very minimal bitterness. The dry hopping and late addition hops are the main feature of this ale. This leaves you feeling refreshed and not full. This along with Easy Jack are my two favorite session IPA's. If you're looking for a traditional IPA this won't be for you. Sessionable IPA's are great on a hot summer day or as a gateway craft drink for someone switching from domestics.\n"
     ]
    },
    {
     "name": "stderr",
     "output_type": "stream",
     "text": [
      " 17%|█▋        | 17/100 [00:03<00:17,  4.65it/s]"
     ]
    },
    {
     "name": "stdout",
     "output_type": "stream",
     "text": [
      "[2025-04-30 16:20:19] (2.4.1.post1) Warning: reference sentiment does not exist or its number 0 is not equal to aspect number 1, text:  [B-ASP]Global Sentiment[E-ASP]    12 0z bottle poure into plastic cup because I'm still at work Appearance: pure copper color with white head. Aroma: fruity with a little of oak Taste: really fruity and woody Mouthfeel: really sticky and cloying. Overall: I am glad it's only a 12 oz. it too sweet to drink too much. I enjoyed it though.  \n",
      "[2025-04-30 16:20:19] (2.4.1.post1) Example 0: 12 0z bottle poure into plastic cup because I'm still at work Appearance: pure copper color with white head. Aroma: fruity with a little of oak Taste: really fruity and woody Mouthfeel: really sticky and cloying. Overall: I am glad it's only a 12 oz. it too sweet to drink too much. I enjoyed it though.\n"
     ]
    },
    {
     "name": "stderr",
     "output_type": "stream",
     "text": [
      " 18%|█▊        | 18/100 [00:03<00:16,  4.93it/s]"
     ]
    },
    {
     "name": "stdout",
     "output_type": "stream",
     "text": [
      "[2025-04-30 16:20:19] (2.4.1.post1) Warning: reference sentiment does not exist or its number 0 is not equal to aspect number 1, text:  [B-ASP]Global Sentiment[E-ASP]    stubby little 11.2 oz. white bottle poured into a pint glass. murky light brown with an effervescing off-white head that falls quickly. a few chunky globs (coagulated proteins?) that settle after a few impatient minutes. sweet, sugary, fruity alcoholic aroma. caramel, carob, yeast, prunes, and candi sugar. sweet and incredibly pleasant. candi sugar and prunes appear once again in the flavor, with a touch of sweetness and alcohol in the finish. sweet but in a subtle, enjoyable way. prickly carbonation and a medium mouthfeel. nothing incredibly adventurous about it, but it could be a regular dessert-type sipping beer.  \n",
      "[2025-04-30 16:20:19] (2.4.1.post1) Example 0: stubby little 11.2 oz. white bottle poured into a pint glass. murky light brown with an effervescing off-white head that falls quickly. a few chunky globs (coagulated proteins?) that settle after a few impatient minutes. sweet, sugary, fruity alcoholic aroma. caramel, carob, yeast, prunes, and candi sugar. sweet and incredibly pleasant. candi sugar and prunes appear once again in the flavor, with a touch of sweetness and alcohol in the finish. sweet but in a subtle, enjoyable way. prickly carbonation and a medium mouthfeel. nothing incredibly adventurous about it, but it could be a regular dessert-type sipping beer.\n"
     ]
    },
    {
     "name": "stderr",
     "output_type": "stream",
     "text": [
      " 19%|█▉        | 19/100 [00:03<00:15,  5.15it/s]"
     ]
    },
    {
     "name": "stdout",
     "output_type": "stream",
     "text": [
      "[2025-04-30 16:20:19] (2.4.1.post1) Warning: reference sentiment does not exist or its number 0 is not equal to aspect number 1, text:  [B-ASP]Global Sentiment[E-ASP]    This beer is a mass produced English Pale Ale that is decent, but lacking all complexity. It pours a nice amber color, decent head, no lacing. This beer is plenty carbonated. The aroma is definitely earthy, caramel malt, slightly musty. This is a dry beer, quite light, quite drinkable because of its low ABV. The taste is earthy malts, some light caramels, diaceytl and buttery, but not cloyingly so. What you get on the front end is how the beer finishes. There isn't much complexity to the beer. Not much to say because it doesn't have loads of character either, but it is drinkable.  \n",
      "[2025-04-30 16:20:20] (2.4.1.post1) Example 0: This beer is a mass produced English Pale Ale that is decent, but lacking all complexity. It pours a nice amber color, decent head, no lacing. This beer is plenty carbonated. The aroma is definitely earthy, caramel malt, slightly musty. This is a dry beer, quite light, quite drinkable because of its low ABV. The taste is earthy malts, some light caramels, diaceytl and buttery, but not cloyingly so. What you get on the front end is how the beer finishes. There isn't much complexity to the beer. Not much to say because it doesn't have loads of character either, but it is drinkable.\n"
     ]
    },
    {
     "name": "stderr",
     "output_type": "stream",
     "text": [
      " 20%|██        | 20/100 [00:04<00:15,  5.11it/s]"
     ]
    },
    {
     "name": "stdout",
     "output_type": "stream",
     "text": [
      "[2025-04-30 16:20:20] (2.4.1.post1) Warning: reference sentiment does not exist or its number 0 is not equal to aspect number 1, text:  [B-ASP]Global Sentiment[E-ASP]    Poured from a bottle dated \"best By 28/09/19\" into the test glass A - Pitch black, a thin off white cap slowly fades into a loose knit ring of froth. A slow twist of the glass coaxes e revival of the cap. S - Dark char, vanilla, cigar wrap tobacco. fig, bakers chocolate, licorice. A rise in temperature releases Blackberry, some notes of tawny port and worn leather. The 13% alcohol lifts off the glass in fine fashion. T - Dark fruits, bitter chocolate, and coffee a touch of honey are the initial flavors, dark roast grains, vanilla undertones without being sweet. M - A bold move across the palate, bitter start then a chocolaty step is taken, quickly ushered out with deftness by the carbonation. The finish is pretty quick and surprisingly dry. I wonder if there was Champagne yeast involved? The alcohol evaporation has that special touch. A very slight linger on the tongue of semi sweet and hint of smoke to close the deal. O - A bold offering that is not shy about the aromatics or the flavors. Coffee, honey, vanilla are listed but not any one stands in the fore, however they combine quite well. I like the lack of barrel and the clean lines this offering takes, although they be bold lines! A treat worth seeking out.  \n",
      "[2025-04-30 16:20:20] (2.4.1.post1) Example 0: Poured from a bottle dated \"best By 28/09/19\" into the test glass A - Pitch black, a thin off white cap slowly fades into a loose knit ring of froth. A slow twist of the glass coaxes e revival of the cap. S - Dark char, vanilla, cigar wrap tobacco. fig, bakers chocolate, licorice. A rise in temperature releases Blackberry, some notes of tawny port and worn leather. The 13% alcohol lifts off the glass in fine fashion. T - Dark fruits, bitter chocolate, and coffee a touch of honey are the initial flavors, dark roast grains, vanilla undertones without being sweet. M - A bold move across the palate, bitter start then a chocolaty step is taken, quickly ushered out with deftness by the carbonation. The finish is pretty quick and surprisingly dry. I wonder if there was Champagne yeast involved? The alcohol evaporation has that special touch. A very slight linger on the tongue of semi sweet and hint of smoke to close the deal. O - A bold offering that is not shy about the aromatics or the flavors. Coffee, honey, vanilla are listed but not any one stands in the fore, however they combine quite well. I like the lack of barrel and the clean lines this offering takes, although they be bold lines! A treat worth seeking out.\n"
     ]
    },
    {
     "name": "stderr",
     "output_type": "stream",
     "text": [
      " 21%|██        | 21/100 [00:04<00:14,  5.28it/s]"
     ]
    },
    {
     "name": "stdout",
     "output_type": "stream",
     "text": [
      "[2025-04-30 16:20:20] (2.4.1.post1) Warning: reference sentiment does not exist or its number 0 is not equal to aspect number 1, text:  [B-ASP]Global Sentiment[E-ASP]    Second brown ale of the evening after a long period of avoiding the style. First one was Phil from Marshall Wharf. This was better, but not by much. Both were thoroughly enjoyable and extremely drinkable. Reminded me a bit of Tootsie Rolls. Light with nice carmely, chocolaty notes.  \n",
      "[2025-04-30 16:20:20] (2.4.1.post1) Example 0: Second brown ale of the evening after a long period of avoiding the style. First one was Phil from Marshall Wharf. This was better, but not by much. Both were thoroughly enjoyable and extremely drinkable. Reminded me a bit of Tootsie Rolls. Light with nice carmely, chocolaty notes.\n"
     ]
    },
    {
     "name": "stderr",
     "output_type": "stream",
     "text": [
      " 22%|██▏       | 22/100 [00:04<00:14,  5.43it/s]"
     ]
    },
    {
     "name": "stdout",
     "output_type": "stream",
     "text": [
      "[2025-04-30 16:20:20] (2.4.1.post1) Warning: reference sentiment does not exist or its number 0 is not equal to aspect number 1, text:  [B-ASP]Global Sentiment[E-ASP]    Poured from a bottle into a snifter. (Note: The bottle I have says 9.0% ABV versus 9.4%, perhaps indicative of a recipe tweak) A - A hazy golden/amber with a one-finger snow white head of mixed size bubbles. Decent lacing. S - Strong aroma of dank hops, pine, and tropical fruit. Some malt odor comes through as well, hopefully setting the stage for something good in the first sip. Smells like a good west coast imperial IPA should. T - Core is definitely West coast IPA flavor: mango, and grapefruit. A good bit of resinous pine. Fantastic sweet maui onion and garlic in the mid-palate. Biscuity malt provides a nice base and a hint of sweetness. The malt/hop balance is there and the complex hop bill is there. Flavors aren't \"blended\" or \"balanced\" yet, still work together. Delicious. M - Medium bodied with subdued carbonation and a dry finish. Somewhat slick and oily. That description doesn't encompass the drinkability here...it all comes together nearly perfectly so much so that I had to force myself to sip instead of gulp. O - Outstanding and just well put together on all levels. The vegetal onion/garlic notes really set this one apart from some of it's competition and border on divine to this taster. Why am I not drinking more Green Flash brews? A \"quick rebuy\", meaning I'll probably run out and get another bottle as soon as possible.  \n",
      "[2025-04-30 16:20:20] (2.4.1.post1) Example 0: Poured from a bottle into a snifter. (Note: The bottle I have says 9.0% ABV versus 9.4%, perhaps indicative of a recipe tweak) A - A hazy golden/amber with a one-finger snow white head of mixed size bubbles. Decent lacing. S - Strong aroma of dank hops, pine, and tropical fruit. Some malt odor comes through as well, hopefully setting the stage for something good in the first sip. Smells like a good west coast imperial IPA should. T - Core is definitely West coast IPA flavor: mango, and grapefruit. A good bit of resinous pine. Fantastic sweet maui onion and garlic in the mid-palate. Biscuity malt provides a nice base and a hint of sweetness. The malt/hop balance is there and the complex hop bill is there. Flavors aren't \"blended\" or \"balanced\" yet, still work together. Delicious. M - Medium bodied with subdued carbonation and a dry finish. Somewhat slick and oily. That description doesn't encompass the drinkability here...it all comes together nearly perfectly so much so that I had to force myself to sip instead of gulp. O - Outstanding and just well put together on all levels. The vegetal onion/garlic notes really set this one apart from some of it's competition and border on divine to this taster. Why am I not drinking more Green Flash brews? A \"quick rebuy\", meaning I'll probably run out and get another bottle as soon as possible.\n"
     ]
    },
    {
     "name": "stderr",
     "output_type": "stream",
     "text": [
      " 23%|██▎       | 23/100 [00:04<00:15,  5.10it/s]"
     ]
    },
    {
     "name": "stdout",
     "output_type": "stream",
     "text": [
      "[2025-04-30 16:20:20] (2.4.1.post1) Warning: reference sentiment does not exist or its number 0 is not equal to aspect number 1, text:  [B-ASP]Global Sentiment[E-ASP]    A: lightly copper tinged brown with a thin white head. S: very oaky, some balsamic and vanilla, mild acidity, faint cherries. T: similar, but everything is a bit milder than on the nose. Balsamic, light funk are key. M: low moderate carbonation decent chewy creaminess.  \n",
      "[2025-04-30 16:20:20] (2.4.1.post1) Example 0: A: lightly copper tinged brown with a thin white head. S: very oaky, some balsamic and vanilla, mild acidity, faint cherries. T: similar, but everything is a bit milder than on the nose. Balsamic, light funk are key. M: low moderate carbonation decent chewy creaminess.\n"
     ]
    },
    {
     "name": "stderr",
     "output_type": "stream",
     "text": [
      " 24%|██▍       | 24/100 [00:04<00:14,  5.26it/s]"
     ]
    },
    {
     "name": "stdout",
     "output_type": "stream",
     "text": [
      "[2025-04-30 16:20:20] (2.4.1.post1) Warning: reference sentiment does not exist or its number 0 is not equal to aspect number 1, text:  [B-ASP]Global Sentiment[E-ASP]    Pale straw yellow color with plenty carbonation bubbles. The head depends of the glass I use. With a good pilsner glass I can get a moderate soapy white head that has decent retention. The aroma is clean. Not much to it. Some grassy hops and grains. The flavor again is just clean refreshing American Lager. Nothing under or over the top. Not a lot going on. Super easy to drink and very light in body. Overall, this is at least a clean lager. There is no nasty aftertaste. Keep it cold and cut the grass with this lager.  \n",
      "[2025-04-30 16:20:21] (2.4.1.post1) Example 0: Pale straw yellow color with plenty carbonation bubbles. The head depends of the glass I use. With a good pilsner glass I can get a moderate soapy white head that has decent retention. The aroma is clean. Not much to it. Some grassy hops and grains. The flavor again is just clean refreshing American Lager. Nothing under or over the top. Not a lot going on. Super easy to drink and very light in body. Overall, this is at least a clean lager. There is no nasty aftertaste. Keep it cold and cut the grass with this lager.\n"
     ]
    },
    {
     "name": "stderr",
     "output_type": "stream",
     "text": [
      " 25%|██▌       | 25/100 [00:05<00:14,  5.28it/s]"
     ]
    },
    {
     "name": "stdout",
     "output_type": "stream",
     "text": [
      "[2025-04-30 16:20:21] (2.4.1.post1) Warning: reference sentiment does not exist or its number 0 is not equal to aspect number 1, text:  [B-ASP]Global Sentiment[E-ASP]    An average beer for this brewery, I much prefer the Spitfire. This was quite nice tasting, and the nose was good, had some nice hop aroma and a little bit of fruit. The taste had a little more fruit to it than I am used to from a bitter, but it was a bit thin on mouthfeel.  \n",
      "[2025-04-30 16:20:21] (2.4.1.post1) Example 0: An average beer for this brewery, I much prefer the Spitfire. This was quite nice tasting, and the nose was good, had some nice hop aroma and a little bit of fruit. The taste had a little more fruit to it than I am used to from a bitter, but it was a bit thin on mouthfeel.\n"
     ]
    },
    {
     "name": "stderr",
     "output_type": "stream",
     "text": [
      " 26%|██▌       | 26/100 [00:05<00:13,  5.41it/s]"
     ]
    },
    {
     "name": "stdout",
     "output_type": "stream",
     "text": [
      "[2025-04-30 16:20:21] (2.4.1.post1) Warning: reference sentiment does not exist or its number 0 is not equal to aspect number 1, text:  [B-ASP]Global Sentiment[E-ASP]    A- deep copper/dark brown, maybe a hint of red/purple. 1/2 inch head. Lacing slips down side and back to head which retains well. S- sweet cranberry/strawberry.Some pines but not as much as I would have expected in reading the label. T- A fruity taste in my mind. Some sours on the tongue, maybe a bit of beet? M- nice in the mouth. not exceptional but solid. D- overall I have to say I can only drink one of these. There is just something about the taste that isn't for me.  \n",
      "[2025-04-30 16:20:21] (2.4.1.post1) Example 0: A- deep copper/dark brown, maybe a hint of red/purple. 1/2 inch head. Lacing slips down side and back to head which retains well. S- sweet cranberry/strawberry.Some pines but not as much as I would have expected in reading the label. T- A fruity taste in my mind. Some sours on the tongue, maybe a bit of beet? M- nice in the mouth. not exceptional but solid. D- overall I have to say I can only drink one of these. There is just something about the taste that isn't for me.\n"
     ]
    },
    {
     "name": "stderr",
     "output_type": "stream",
     "text": [
      " 27%|██▋       | 27/100 [00:05<00:13,  5.53it/s]"
     ]
    },
    {
     "name": "stdout",
     "output_type": "stream",
     "text": [
      "[2025-04-30 16:20:21] (2.4.1.post1) Warning: reference sentiment does not exist or its number 0 is not equal to aspect number 1, text:  [B-ASP]Global Sentiment[E-ASP]    Poured from a 650ml bottle. A: Pours a clear amber with a thick white foamy head and nice sticky lacing. S: Great nose with this one,a West Coast Tropical Fruit nose as i like it. T: Lots of citrus and tropical fruit hops nice and bitter. F: Good carbonation the hops stay with you. O: A good IPA West Coast Style ( West Coast USA) best beer i have had from Russell for sure.  \n",
      "[2025-04-30 16:20:21] (2.4.1.post1) Example 0: Poured from a 650ml bottle. A: Pours a clear amber with a thick white foamy head and nice sticky lacing. S: Great nose with this one,a West Coast Tropical Fruit nose as i like it. T: Lots of citrus and tropical fruit hops nice and bitter. F: Good carbonation the hops stay with you. O: A good IPA West Coast Style ( West Coast USA) best beer i have had from Russell for sure.\n"
     ]
    },
    {
     "name": "stderr",
     "output_type": "stream",
     "text": [
      " 28%|██▊       | 28/100 [00:05<00:12,  5.63it/s]"
     ]
    },
    {
     "name": "stdout",
     "output_type": "stream",
     "text": [
      "[2025-04-30 16:20:21] (2.4.1.post1) Warning: reference sentiment does not exist or its number 0 is not equal to aspect number 1, text:  [B-ASP]Global Sentiment[E-ASP]    I picked up a Nitro bottle of Ballast Point's Red Velvet for $2.39 at The Lager Mill. This one seems a little weird and it caught my eye, so lets see how it goes. 2017 Vintage. Poured from a brown 12oz Nitro bottle into a imperial pint glass. A- The label is awesome and it goes great with this beer, it's very eye catching. It poured a bright red color that took on more of redish pink hue when held to the light with a fingers worth of slightly creamy off white head that died down to a thin ring that stayed till the end and it left a little bit of spotty lacing behind. This is a pretty nice looking beer, I have no complaints. S- The aroma starts off with a higher amount of medium sweetness with a weird beet aroma being the first to show up and that goes into the malts which impart a pretty grainy, pale malt and bread aromas. Up next comes some fruity aromas with no noticeable chocolate. This beer has a nice aroma, it's unique, but I don't think the beets help it. T- The taste seems to be a little similar to the aroma and it starts off with a lower amount of medium sweetness with the malts being the first to show up and they impart all the same aspects that they did in the aroma with the breadyness sticking out the most and it goes into the beets which show up a little less than they did in the aroma, but they still impart the same weird and earthy aspects. Up next comes an English ale yeast like flavor and on the finish there's a lighter amount of medium bitterness with a linger beat flavor. This is a decent tasting beer, but I don't feel like the flavors work that well together and it doesn't live up to it's name. M- Fairly smooth, pretty creamy, a little on the flat side, on thicker side of being medium bodied with a medium amount of carbonation. The mouthfeel is nice and it worked well with this beer, but I don't think the nitro really helped it. Overall I thought this beer was ok and I thought it was pretty much just an average example of the style and it's hard to pin point what style it is because it's not very oatmeal stout like at all and it doesn't really remind of red velvet cake. THis beer doesn't have good drinkability, one is more than enough for me. What I like the most about this beer is the appearance and aroma, those are the highlights of this beer. What I like the least about this beer is the taste and drinkability, they just aren't that good and they need some. I wouldn't buy this beer again and I might turn one down, I can't say I would recommend, if your want a beer that tastes like red velvet cake I think you will be disappointed. All in all wasn't a big fan of this beer and I think it just needs to be reworked from the ground up. It's one of my least favorite blast point beers and it's not a great example of the style. Better luck next time guys, this one could use some work.  \n",
      "[2025-04-30 16:20:21] (2.4.1.post1) Example 0: I picked up a Nitro bottle of Ballast Point's Red Velvet for $2.39 at The Lager Mill. This one seems a little weird and it caught my eye, so lets see how it goes. 2017 Vintage. Poured from a brown 12oz Nitro bottle into a imperial pint glass. A- The label is awesome and it goes great with this beer, it's very eye catching. It poured a bright red color that took on more of redish pink hue when held to the light with a fingers worth of slightly creamy off white head that died down to a thin ring that stayed till the end and it left a little bit of spotty lacing behind. This is a pretty nice looking beer, I have no complaints. S- The aroma starts off with a higher amount of medium sweetness with a weird beet aroma being the first to show up and that goes into the malts which impart a pretty grainy, pale malt and bread aromas. Up next comes some fruity aromas with no noticeable chocolate. This beer has a nice aroma, it's unique, but I don't think the beets help it. T- The taste seems to be a little similar to the aroma and it starts off with a lower amount of medium sweetness with the malts being the first to show up and they impart all the same aspects that they did in the aroma with the breadyness sticking out the most and it goes into\n"
     ]
    },
    {
     "name": "stderr",
     "output_type": "stream",
     "text": [
      " 29%|██▉       | 29/100 [00:05<00:12,  5.54it/s]"
     ]
    },
    {
     "name": "stdout",
     "output_type": "stream",
     "text": [
      "[2025-04-30 16:20:21] (2.4.1.post1) Warning: reference sentiment does not exist or its number 0 is not equal to aspect number 1, text:  [B-ASP]Global Sentiment[E-ASP]    Hazy dirty gold. White head. Smell of dirt. Yeast. Coriander. Taste of cracker. Butter biscuit. Coriander. Yeast esters. Banana. Feel is medium. High carbonation.  \n",
      "[2025-04-30 16:20:21] (2.4.1.post1) Example 0: Hazy dirty gold. White head. Smell of dirt. Yeast. Coriander. Taste of cracker. Butter biscuit. Coriander. Yeast esters. Banana. Feel is medium. High carbonation.\n"
     ]
    },
    {
     "name": "stderr",
     "output_type": "stream",
     "text": [
      " 30%|███       | 30/100 [00:05<00:13,  5.18it/s]"
     ]
    },
    {
     "name": "stdout",
     "output_type": "stream",
     "text": [
      "[2025-04-30 16:20:21] (2.4.1.post1) Warning: reference sentiment does not exist or its number 0 is not equal to aspect number 1, text:  [B-ASP]Global Sentiment[E-ASP]    Thanks to my brother for sharing this beer. There is no date on the bottle so I am not sure of the beer's freshness. As such, I will assume it is fresh and will rate accordingly. The beer pours a medium amber color with a tan head. The aroma is strong with the grass and piney hops, as well as some bready malt and a little bit of floral. The flavor is heavy on the grass and floraly hops. I also get a strong dose of toffee and bread from the malt. Low to medium bitterness. Medium mouthfeel and medium carbonation. Decent drinkability, but the hops and malt are slightly muddled and the beer just doesn't sit right with me.  \n",
      "[2025-04-30 16:20:22] (2.4.1.post1) Example 0: Thanks to my brother for sharing this beer. There is no date on the bottle so I am not sure of the beer's freshness. As such, I will assume it is fresh and will rate accordingly. The beer pours a medium amber color with a tan head. The aroma is strong with the grass and piney hops, as well as some bready malt and a little bit of floral. The flavor is heavy on the grass and floraly hops. I also get a strong dose of toffee and bread from the malt. Low to medium bitterness. Medium mouthfeel and medium carbonation. Decent drinkability, but the hops and malt are slightly muddled and the beer just doesn't sit right with me.\n"
     ]
    },
    {
     "name": "stderr",
     "output_type": "stream",
     "text": [
      " 31%|███       | 31/100 [00:06<00:12,  5.31it/s]"
     ]
    },
    {
     "name": "stdout",
     "output_type": "stream",
     "text": [
      "[2025-04-30 16:20:22] (2.4.1.post1) Warning: reference sentiment does not exist or its number 0 is not equal to aspect number 1, text:  [B-ASP]Global Sentiment[E-ASP]    On-tap 5/2/2017 at Flynn’s in Mansfield, MA, served in a tapered pint glass. A: The beer is a cloudy light yellow color, with a short white head that fades slowly and leaves a thin lace on the glass. S: The aroma contains grassy hops, caramelized malts and a little bit of citrus. T: The taste starts out with a strong burst of grassy hops bitterness that is quickly followed by a hearty but not too heavy malt character breadiness. The citrus sweetness is extremely mild but there’s still a very good balance. The after-taste is slightly hoppy. M: Crisp and smooth, medium body, medium carbonation, finish is dry and slightly sticky. O: Tasty, goes down very easily, not too filling, decent kick, good representation of style, this is a solid IPA to drink for a while.  \n",
      "[2025-04-30 16:20:22] (2.4.1.post1) Example 0: On-tap 5/2/2017 at Flynn’s in Mansfield, MA, served in a tapered pint glass. A: The beer is a cloudy light yellow color, with a short white head that fades slowly and leaves a thin lace on the glass. S: The aroma contains grassy hops, caramelized malts and a little bit of citrus. T: The taste starts out with a strong burst of grassy hops bitterness that is quickly followed by a hearty but not too heavy malt character breadiness. The citrus sweetness is extremely mild but there’s still a very good balance. The after-taste is slightly hoppy. M: Crisp and smooth, medium body, medium carbonation, finish is dry and slightly sticky. O: Tasty, goes down very easily, not too filling, decent kick, good representation of style, this is a solid IPA to drink for a while.\n"
     ]
    },
    {
     "name": "stderr",
     "output_type": "stream",
     "text": [
      " 32%|███▏      | 32/100 [00:06<00:12,  5.45it/s]"
     ]
    },
    {
     "name": "stdout",
     "output_type": "stream",
     "text": [
      "[2025-04-30 16:20:22] (2.4.1.post1) Warning: reference sentiment does not exist or its number 0 is not equal to aspect number 1, text:  [B-ASP]Global Sentiment[E-ASP]    Pours a nice deep gold with a one-finger head. Faint retention and very nice lacing. Looks very creamy. Nice carbonation. Smells deeply piney with faint citrus tones. Hits slightly bitter and rushes to a nice pine finish. Bitterness lasts well after the finish. Very little hint of alochol here. Very crisp and clean. Well worth a try or two ... or three.  \n",
      "[2025-04-30 16:20:22] (2.4.1.post1) Example 0: Pours a nice deep gold with a one-finger head. Faint retention and very nice lacing. Looks very creamy. Nice carbonation. Smells deeply piney with faint citrus tones. Hits slightly bitter and rushes to a nice pine finish. Bitterness lasts well after the finish. Very little hint of alochol here. Very crisp and clean. Well worth a try or two ... or three.\n"
     ]
    },
    {
     "name": "stderr",
     "output_type": "stream",
     "text": [
      " 33%|███▎      | 33/100 [00:06<00:12,  5.55it/s]"
     ]
    },
    {
     "name": "stdout",
     "output_type": "stream",
     "text": [
      "[2025-04-30 16:20:22] (2.4.1.post1) Warning: reference sentiment does not exist or its number 0 is not equal to aspect number 1, text:  [B-ASP]Global Sentiment[E-ASP]    Poured to a Duvel tulip glass. A: The body is coppery to red and it's opaque. The head is more white than beige but not totally white. There's some lacing but there's little retention. S: The aroma is very similar to an outdated IPA with tons of earthy and piny aromas but a bit more soft, I find it amazing. T: The taste has a strong influence by the IPA aroma having a profile close to a Belgian IPA. It's not great but it's interesting. M: Density is medium high. Carbonation is high. Bitterness is prominent. O: One of the best Letra beers that you can have all year round.  \n",
      "[2025-04-30 16:20:22] (2.4.1.post1) Example 0: Poured to a Duvel tulip glass. A: The body is coppery to red and it's opaque. The head is more white than beige but not totally white. There's some lacing but there's little retention. S: The aroma is very similar to an outdated IPA with tons of earthy and piny aromas but a bit more soft, I find it amazing. T: The taste has a strong influence by the IPA aroma having a profile close to a Belgian IPA. It's not great but it's interesting. M: Density is medium high. Carbonation is high. Bitterness is prominent. O: One of the best Letra beers that you can have all year round.\n"
     ]
    },
    {
     "name": "stderr",
     "output_type": "stream",
     "text": [
      " 34%|███▍      | 34/100 [00:06<00:11,  5.63it/s]"
     ]
    },
    {
     "name": "stdout",
     "output_type": "stream",
     "text": [
      "[2025-04-30 16:20:22] (2.4.1.post1) Warning: reference sentiment does not exist or its number 0 is not equal to aspect number 1, text:  [B-ASP]Global Sentiment[E-ASP]    A FANTASTIC treatment of Sorachi Ace, lots of flavor... just try it, you'll like it.\n",
      "[2025-04-30 16:20:22] (2.4.1.post1) Example 0: A FANTASTIC treatment of Sorachi Ace, lots of flavor... just try it, you'll like it.\n"
     ]
    },
    {
     "name": "stderr",
     "output_type": "stream",
     "text": [
      " 35%|███▌      | 35/100 [00:06<00:11,  5.69it/s]"
     ]
    },
    {
     "name": "stdout",
     "output_type": "stream",
     "text": [
      "[2025-04-30 16:20:22] (2.4.1.post1) Warning: reference sentiment does not exist or its number 0 is not equal to aspect number 1, text:  [B-ASP]Global Sentiment[E-ASP]    12oz brown bottle Breckenridge Pale Ale was orange-gold in color with and avege size white head. The head had fairly good retantion and left lacing behing. The nose was mainly of hops, but a sweet malt aroma was there also. The taste was good and balanced. It was medium in both body and carbonation. Good beer.  \n",
      "[2025-04-30 16:20:23] (2.4.1.post1) Example 0: 12oz brown bottle Breckenridge Pale Ale was orange-gold in color with and avege size white head. The head had fairly good retantion and left lacing behing. The nose was mainly of hops, but a sweet malt aroma was there also. The taste was good and balanced. It was medium in both body and carbonation. Good beer.\n"
     ]
    },
    {
     "name": "stderr",
     "output_type": "stream",
     "text": [
      " 36%|███▌      | 36/100 [00:07<00:11,  5.50it/s]"
     ]
    },
    {
     "name": "stdout",
     "output_type": "stream",
     "text": [
      "[2025-04-30 16:20:23] (2.4.1.post1) Warning: reference sentiment does not exist or its number 0 is not equal to aspect number 1, text:  [B-ASP]Global Sentiment[E-ASP]    A - Poured out a cloudy, copper color with a soapy, small head. It left a good deal of sticky lace. S - It smelled very floral and of grasses. Also, a fairly malty nose. T - It tasted very bitter with grassy hops. A nice roasted malt taste. M - It was crisp and sharp. A medium-bodied beer. D - This was a very nice beer. Too bad it was brewed just once.  \n",
      "[2025-04-30 16:20:23] (2.4.1.post1) Example 0: A - Poured out a cloudy, copper color with a soapy, small head. It left a good deal of sticky lace. S - It smelled very floral and of grasses. Also, a fairly malty nose. T - It tasted very bitter with grassy hops. A nice roasted malt taste. M - It was crisp and sharp. A medium-bodied beer. D - This was a very nice beer. Too bad it was brewed just once.\n"
     ]
    },
    {
     "name": "stderr",
     "output_type": "stream",
     "text": [
      " 37%|███▋      | 37/100 [00:07<00:12,  5.19it/s]"
     ]
    },
    {
     "name": "stdout",
     "output_type": "stream",
     "text": [
      "[2025-04-30 16:20:23] (2.4.1.post1) Warning: reference sentiment does not exist or its number 0 is not equal to aspect number 1, text:  [B-ASP]Global Sentiment[E-ASP]    Clear amber with quickly dissipating head, but sufficient carbonation leading to a decent mouthfeel. Malty and bready aroma lead straight into the caramelized malts of the taste. A sweet finish with just a hint of bittering hops at the end. Overall I think this is a good example of the traditional Vienna Lager beer style. Not my own personal favourite, but would recommend to anyone who enjoys that style.  \n",
      "[2025-04-30 16:20:23] (2.4.1.post1) Example 0: Clear amber with quickly dissipating head, but sufficient carbonation leading to a decent mouthfeel. Malty and bready aroma lead straight into the caramelized malts of the taste. A sweet finish with just a hint of bittering hops at the end. Overall I think this is a good example of the traditional Vienna Lager beer style. Not my own personal favourite, but would recommend to anyone who enjoys that style.\n"
     ]
    },
    {
     "name": "stderr",
     "output_type": "stream",
     "text": [
      " 38%|███▊      | 38/100 [00:07<00:11,  5.23it/s]"
     ]
    },
    {
     "name": "stdout",
     "output_type": "stream",
     "text": [
      "[2025-04-30 16:20:23] (2.4.1.post1) Warning: reference sentiment does not exist or its number 0 is not equal to aspect number 1, text:  [B-ASP]Global Sentiment[E-ASP]    First had this one tap at Revolution a few weeks ago while in Chicago and was blown away... Picked up a 6-pack of cans locally in Cleveland and just as good as it was on tap, very impressed. Easily one of my favorite beers of all time now and will be a regular in my fridge... Great job Revolution!  \n",
      "[2025-04-30 16:20:23] (2.4.1.post1) Example 0: First had this one tap at Revolution a few weeks ago while in Chicago and was blown away... Picked up a 6-pack of cans locally in Cleveland and just as good as it was on tap, very impressed. Easily one of my favorite beers of all time now and will be a regular in my fridge... Great job Revolution!\n"
     ]
    },
    {
     "name": "stderr",
     "output_type": "stream",
     "text": [
      " 39%|███▉      | 39/100 [00:07<00:11,  5.38it/s]"
     ]
    },
    {
     "name": "stdout",
     "output_type": "stream",
     "text": [
      "[2025-04-30 16:20:23] (2.4.1.post1) Warning: reference sentiment does not exist or its number 0 is not equal to aspect number 1, text:  [B-ASP]Global Sentiment[E-ASP]    Pours crystal clear bright yellow with a medium fluffy to creamy white head that dissapates VERY slowly to a thin layer with some real good lace for the style. Aroma is of earthy and crisp citrus hops with a little sweet bread in the back. The flavor is the same as above really. Just a hint of soft bitterness. The sweet bread comes through a little more in the flavor but the hops shine through to brighten things up a little. Very smooth. Mouthfeel is medium bodied, crisp and smooth. I could drink a whole keg of this it's so drinkable.  \n",
      "[2025-04-30 16:20:23] (2.4.1.post1) Example 0: Pours crystal clear bright yellow with a medium fluffy to creamy white head that dissapates VERY slowly to a thin layer with some real good lace for the style. Aroma is of earthy and crisp citrus hops with a little sweet bread in the back. The flavor is the same as above really. Just a hint of soft bitterness. The sweet bread comes through a little more in the flavor but the hops shine through to brighten things up a little. Very smooth. Mouthfeel is medium bodied, crisp and smooth. I could drink a whole keg of this it's so drinkable.\n"
     ]
    },
    {
     "name": "stderr",
     "output_type": "stream",
     "text": [
      " 40%|████      | 40/100 [00:07<00:10,  5.48it/s]"
     ]
    },
    {
     "name": "stdout",
     "output_type": "stream",
     "text": [
      "[2025-04-30 16:20:23] (2.4.1.post1) Warning: reference sentiment does not exist or its number 0 is not equal to aspect number 1, text:  [B-ASP]Global Sentiment[E-ASP]    Poured this 750 mL green bottle into a Tripel Karmeliet glass. Dated \"15- sept 1999\". I purchased this beer @ UTObeer in the Borough Market in London while there in 2007. The label is in Flemish I believe. I paid 9.00 pounds for this one ($18+ at the time). It was a bargain. The cork popped loud and far despite my gentle opening. The cork was stamped with \"SB 10\". The first pour was bright and a clear rich golden color. Cloudier on subsequent pours. The brittle white head sizzled down fairly fast leaving only a film created by the nucleation of the glass. Smell was pretty bold. Pear and Pixie Stix candy. Public toilet dampness faded from the aroma. This one cleaned up and hints of pepper arose. Interesting. Taste was tart and fruity. Champagne-like. Wood notes. Bone dry. Delicious but not especially complex. It doesn't seem to change and unfold like some superior Gueuzes. I could drink this any day and be thrilled! Mouthfeel was prickly with a medium body. Finishes a bit deflated. Overall, very good!  \n",
      "[2025-04-30 16:20:23] (2.4.1.post1) Example 0: Poured this 750 mL green bottle into a Tripel Karmeliet glass. Dated \"15- sept 1999\". I purchased this beer @ UTObeer in the Borough Market in London while there in 2007. The label is in Flemish I believe. I paid 9.00 pounds for this one ($18+ at the time). It was a bargain. The cork popped loud and far despite my gentle opening. The cork was stamped with \"SB 10\". The first pour was bright and a clear rich golden color. Cloudier on subsequent pours. The brittle white head sizzled down fairly fast leaving only a film created by the nucleation of the glass. Smell was pretty bold. Pear and Pixie Stix candy. Public toilet dampness faded from the aroma. This one cleaned up and hints of pepper arose. Interesting. Taste was tart and fruity. Champagne-like. Wood notes. Bone dry. Delicious but not especially complex. It doesn't seem to change and unfold like some superior Gueuzes. I could drink this any day and be thrilled! Mouthfeel was prickly with a medium body. Finishes a bit deflated. Overall, very good!\n"
     ]
    },
    {
     "name": "stderr",
     "output_type": "stream",
     "text": [
      " 41%|████      | 41/100 [00:07<00:10,  5.54it/s]"
     ]
    },
    {
     "name": "stdout",
     "output_type": "stream",
     "text": [
      "[2025-04-30 16:20:23] (2.4.1.post1) Warning: reference sentiment does not exist or its number 0 is not equal to aspect number 1, text:  [B-ASP]Global Sentiment[E-ASP]    Presentation: 11.2oz brown pop top with nice label and freshness date Appearance: Hazy dark amber/burgundy beer with big beige head with good retention and lots of carbonation Smell: Lots of dark fruit up front, dried figs and raisins, caramel malts, toasted biscuity bread...nice Taste: More malt forward than I thought...cotton-candy sweetness, dark caramel malt, touch of dark fruit...sadly this ends with the same odd metallic twang that the other two beers from this brewery I've sampled had...it really takes away from the experience Mouthfeel: Medium/heavy Drinkability: Medium Conclusion: This is much better than the other two beers by Van Eecke that I've had...this is pretty good, except for the weird metallic bitterness on the finish and the fact that (this is the third beer from this brewery, all bought in a gift pack, that has almost immediately made my stomach churn, in a weird acidic way...I'm not sure what's up with that...)  \n",
      "[2025-04-30 16:20:24] (2.4.1.post1) Example 0: Presentation: 11.2oz brown pop top with nice label and freshness date Appearance: Hazy dark amber/burgundy beer with big beige head with good retention and lots of carbonation Smell: Lots of dark fruit up front, dried figs and raisins, caramel malts, toasted biscuity bread...nice Taste: More malt forward than I thought...cotton-candy sweetness, dark caramel malt, touch of dark fruit...sadly this ends with the same odd metallic twang that the other two beers from this brewery I've sampled had...it really takes away from the experience Mouthfeel: Medium/heavy Drinkability: Medium Conclusion: This is much better than the other two beers by Van Eecke that I've had...this is pretty good, except for the weird metallic bitterness on the finish and the fact that (this is the third beer from this brewery, all bought in a gift pack, that has almost immediately made my stomach churn, in a weird acidic way...I'm not sure what's up with that...)\n"
     ]
    },
    {
     "name": "stderr",
     "output_type": "stream",
     "text": [
      " 42%|████▏     | 42/100 [00:08<00:10,  5.34it/s]"
     ]
    },
    {
     "name": "stdout",
     "output_type": "stream",
     "text": [
      "[2025-04-30 16:20:24] (2.4.1.post1) Warning: reference sentiment does not exist or its number 0 is not equal to aspect number 1, text:  [B-ASP]Global Sentiment[E-ASP]    Appearance: Pours a bright, clear yellow body with a white head. Smell: A spicy, floral aroma with notes of juicy pineapple and watered down honey. Taste: Thin, fleeting cereal sweetness with the taste of pears before the jarring bitterness and heavy acidity of the long, unpleasant finish. Mouthfeel: Thin-bodied. Medium carbonation. Drinkability: Harsh and uninteresting.  \n",
      "[2025-04-30 16:20:24] (2.4.1.post1) Example 0: Appearance: Pours a bright, clear yellow body with a white head. Smell: A spicy, floral aroma with notes of juicy pineapple and watered down honey. Taste: Thin, fleeting cereal sweetness with the taste of pears before the jarring bitterness and heavy acidity of the long, unpleasant finish. Mouthfeel: Thin-bodied. Medium carbonation. Drinkability: Harsh and uninteresting.\n"
     ]
    },
    {
     "name": "stderr",
     "output_type": "stream",
     "text": [
      " 43%|████▎     | 43/100 [00:08<00:10,  5.46it/s]"
     ]
    },
    {
     "name": "stdout",
     "output_type": "stream",
     "text": [
      "[2025-04-30 16:20:24] (2.4.1.post1) Warning: reference sentiment does not exist or its number 0 is not equal to aspect number 1, text:  [B-ASP]Global Sentiment[E-ASP]    30cl brown bottle, filtered. BB 06/06. Served cool in a slim goblet. A: pours a dark caramely and dark reddish colour--beautiful~~ the off-white beer head dissipates quite fast, on top of a constant and gently bubbly body. S: intriguing nose... strawberry-jam, vanilla, richly toffeeish, caramel malts+malt syrup, sour-sweet licorice-smoked prunes (a Taiwanese delicacy)... Slightly too sweet for me, but the overall nose truly is distinctive. T: very interesting flavour mixing corn-syrup, ripe fig/fig jam, root-vegetable flavour like boiled potatos, and an underlying aftertaste of the afore-mentioned prunes... weak hoppyness behind with a touch of bitterness, but a licorice and mixed herbal bitter-sweetness lingers in the finish. This beer really reminds me a lot of Taiwanese high-mountain tea infused with a licorice-smoked prune--lovely faintly sour+bitter-sweet and herbal-ish lingering aftertaste rounds off the palate smoothly~~ M&D: creamy smooth texture and very balanced body; the drinkability is good due to its unusual taste, but I really struggle to categorise this beer. Maybe somebody who will have tried it could shed some lights on this?  \n",
      "[2025-04-30 16:20:24] (2.4.1.post1) Example 0: 30cl brown bottle, filtered. BB 06/06. Served cool in a slim goblet. A: pours a dark caramely and dark reddish colour--beautiful~~ the off-white beer head dissipates quite fast, on top of a constant and gently bubbly body. S: intriguing nose... strawberry-jam, vanilla, richly toffeeish, caramel malts+malt syrup, sour-sweet licorice-smoked prunes (a Taiwanese delicacy)... Slightly too sweet for me, but the overall nose truly is distinctive. T: very interesting flavour mixing corn-syrup, ripe fig/fig jam, root-vegetable flavour like boiled potatos, and an underlying aftertaste of the afore-mentioned prunes... weak hoppyness behind with a touch of bitterness, but a licorice and mixed herbal bitter-sweetness lingers in the finish. This beer really reminds me a lot of Taiwanese high-mountain tea infused with a licorice-smoked prune--lovely faintly sour+bitter-sweet and herbal-ish lingering aftertaste rounds off the palate smoothly~~ M&D: creamy smooth texture and very balanced body; the drinkability is good due to its unusual taste, but I really struggle to categorise this beer. Maybe somebody who will have tried it could shed some lights on this?\n"
     ]
    },
    {
     "name": "stderr",
     "output_type": "stream",
     "text": [
      " 44%|████▍     | 44/100 [00:08<00:10,  5.11it/s]"
     ]
    },
    {
     "name": "stdout",
     "output_type": "stream",
     "text": [
      "[2025-04-30 16:20:24] (2.4.1.post1) Warning: reference sentiment does not exist or its number 0 is not equal to aspect number 1, text:  [B-ASP]Global Sentiment[E-ASP]    Pours that gorgeous nitro infused mix of caramel cappucino and finishing into a fairly dark color stout (closer to a brown, borderline porter). Massive dense head is poured, pretty requisite to style. Aroma is pretty mute: whiffs of roasted grain, some creamy milk chocolate, a bit of floral hops, and finally some bitter black patent. On the palate, it is a luxurious smoothness of a light Irish stout, very dry with the creamy chocolate flavors coming first, a little astringency in the mid palate and finishing with a long sustain of black patent bitterness. Mouthfeel is spot on, low carbonation, medium body with a nicely textured head. Overall, these are the stouts for summer drinking. I spotted some Shakespeare and Yeti and decided when it's 80 plus out, this is a better option.  \n",
      "[2025-04-30 16:20:24] (2.4.1.post1) Example 0: Pours that gorgeous nitro infused mix of caramel cappucino and finishing into a fairly dark color stout (closer to a brown, borderline porter). Massive dense head is poured, pretty requisite to style. Aroma is pretty mute: whiffs of roasted grain, some creamy milk chocolate, a bit of floral hops, and finally some bitter black patent. On the palate, it is a luxurious smoothness of a light Irish stout, very dry with the creamy chocolate flavors coming first, a little astringency in the mid palate and finishing with a long sustain of black patent bitterness. Mouthfeel is spot on, low carbonation, medium body with a nicely textured head. Overall, these are the stouts for summer drinking. I spotted some Shakespeare and Yeti and decided when it's 80 plus out, this is a better option.\n"
     ]
    },
    {
     "name": "stderr",
     "output_type": "stream",
     "text": [
      " 45%|████▌     | 45/100 [00:08<00:10,  5.26it/s]"
     ]
    },
    {
     "name": "stdout",
     "output_type": "stream",
     "text": [
      "[2025-04-30 16:20:24] (2.4.1.post1) Warning: reference sentiment does not exist or its number 0 is not equal to aspect number 1, text:  [B-ASP]Global Sentiment[E-ASP]    On tap at Blu Wolf Bistro in Rochester, NY. This one pours a nice orange-ish yellow, with a very small head, not long lasting, with a little bit of lacing. Smells like grass, pine, orange, grapefruit, and some crackery malt. This isn't quite as good as some of the hoppy lagers being put out in Framingham, MA, but it's still nice anyway. There's a slightly wateriness on the finish, but up front, there's some nice crisp hoppiness, crackery malt, a grassy/piney bite, and some sweet citrus. This has a light, thin body, with a crisp mouthfeel, and a moderate level of carbonation. Another really nice beer from Singlecut, but not one of their best.  \n",
      "[2025-04-30 16:20:24] (2.4.1.post1) Example 0: On tap at Blu Wolf Bistro in Rochester, NY. This one pours a nice orange-ish yellow, with a very small head, not long lasting, with a little bit of lacing. Smells like grass, pine, orange, grapefruit, and some crackery malt. This isn't quite as good as some of the hoppy lagers being put out in Framingham, MA, but it's still nice anyway. There's a slightly wateriness on the finish, but up front, there's some nice crisp hoppiness, crackery malt, a grassy/piney bite, and some sweet citrus. This has a light, thin body, with a crisp mouthfeel, and a moderate level of carbonation. Another really nice beer from Singlecut, but not one of their best.\n"
     ]
    },
    {
     "name": "stderr",
     "output_type": "stream",
     "text": [
      " 46%|████▌     | 46/100 [00:08<00:10,  5.40it/s]"
     ]
    },
    {
     "name": "stdout",
     "output_type": "stream",
     "text": [
      "[2025-04-30 16:20:24] (2.4.1.post1) Warning: reference sentiment does not exist or its number 0 is not equal to aspect number 1, text:  [B-ASP]Global Sentiment[E-ASP]    2004 batch (gold foil): I had been saving this one for quite some time and I wasn't disappointed. It poured a rich caramel/toffee colour with a thin ring of fine bubbles. Very mellow, well-integrated aroma, with notes of caramel, apple, toffee, and brown sugar. The flavour has a fine balance - moderate bitterness with plenty of bready malt. Apple, chocolate, and toffee all make contributions as well. The finish has a tootsie roll character and fruit lingers beyond that. No alcohol was apparent. Full bodied with low carbonation and an extremely smooth texture. Truly awesome. The balance in the flavour and aroma was superb. I wish I had more of these beauties in storage. I miss this beer already...  \n",
      "[2025-04-30 16:20:25] (2.4.1.post1) Example 0: 2004 batch (gold foil): I had been saving this one for quite some time and I wasn't disappointed. It poured a rich caramel/toffee colour with a thin ring of fine bubbles. Very mellow, well-integrated aroma, with notes of caramel, apple, toffee, and brown sugar. The flavour has a fine balance - moderate bitterness with plenty of bready malt. Apple, chocolate, and toffee all make contributions as well. The finish has a tootsie roll character and fruit lingers beyond that. No alcohol was apparent. Full bodied with low carbonation and an extremely smooth texture. Truly awesome. The balance in the flavour and aroma was superb. I wish I had more of these beauties in storage. I miss this beer already...\n"
     ]
    },
    {
     "name": "stderr",
     "output_type": "stream",
     "text": [
      " 47%|████▋     | 47/100 [00:09<00:09,  5.40it/s]"
     ]
    },
    {
     "name": "stdout",
     "output_type": "stream",
     "text": [
      "[2025-04-30 16:20:25] (2.4.1.post1) Warning: reference sentiment does not exist or its number 0 is not equal to aspect number 1, text:  [B-ASP]Global Sentiment[E-ASP]    A - Poured out a clear, golden-orange color with a small, thin, white head of foam. It was short lived and left minimal lacing. S - It smelled of dried fruits, caramel and some spicy, floral hops. T - Good sweet caramel maltiness with a good dose of spiciness. There was a mild dried fruit (raisin) flavor. M - It was crisp and very sharp. A medium bodied ale with a smooth, dry finish. D - This is a pretty good ale. I've had better Belgian-style Pale Ales but this one was worth a shot.  \n",
      "[2025-04-30 16:20:25] (2.4.1.post1) Example 0: A - Poured out a clear, golden-orange color with a small, thin, white head of foam. It was short lived and left minimal lacing. S - It smelled of dried fruits, caramel and some spicy, floral hops. T - Good sweet caramel maltiness with a good dose of spiciness. There was a mild dried fruit (raisin) flavor. M - It was crisp and very sharp. A medium bodied ale with a smooth, dry finish. D - This is a pretty good ale. I've had better Belgian-style Pale Ales but this one was worth a shot.\n"
     ]
    },
    {
     "name": "stderr",
     "output_type": "stream",
     "text": [
      " 48%|████▊     | 48/100 [00:09<00:09,  5.51it/s]"
     ]
    },
    {
     "name": "stdout",
     "output_type": "stream",
     "text": [
      "[2025-04-30 16:20:25] (2.4.1.post1) Warning: reference sentiment does not exist or its number 0 is not equal to aspect number 1, text:  [B-ASP]Global Sentiment[E-ASP]    Presentation: Bless my little cotton Commie socks. A beer from Baltika which doesnt have a number! One of the great things about living in LA is the multi-cultural atmosphere I work in, my work colleagues know my love for beer and often I get unexpected gifts from some obscure places, this is one of them from a fellow Engineer formerly of Russia. A metric sized half-litre (500ml) brown glass bottle, labeled as 1 Pint 0.9 fluid ounces for the US market. The label is all foreign to me though, none of this translated Arsenalnoye rubbish, my bottle has the word APCEHA&#923;&#1041;HOE which translates as Beer from the Arsenal, in rough speak above the words Extra Lager in a smaller white text. The Arsenal heritage is borne out by the symbol atop the main label, a pair of dueling flintlock pistols crossed over a large letter A in a red circle. Main crown cap is red and has the text APCEHA&#923;&#1041;HOE &#1055;&#1054;&#1042;&#1054;. Listed as Alc. 7.0% by Vol. with a Production Date of 03.08.05 and Best before Date of 03.08.06. Appearance: Tremendous head on the pour, an expansive white jobby which stays at around 1-2 for some time and only slowly collapses, but always leaves a decent covering. Faded golden body with a pale-straw super-lucid clarity. A handful of streamers with average carbonation levels. Soft lacing which soon slides down back into the body of the Lager. Nose: Low strength aromas, I struggled to get anything at first, but I managed to get a reasonable guess at what was going on before the beer completely disappeared. Taste: Biscuit malts, pale and lightly toasted with some sweetness and a little grassy bitterness in the finish. Very middle of the road, it never strays from the tried-and-tested Lager formula, but there again neither does it suffer the awful adjunct laden sweet corn soaked in high alcohol crappy tastes that many East-Euro 5%+ Lagers project. Clean enough to enjoy but simple enough to forget. Mouthfeel: Never found the alleged 7% alcohol, unless it was asleep and waiting to kick my ass later on. Conditioning was good enough to add a smooth aspect and the lightly chilled body which kept the tastes in check. It felt OK, nothing great but good enough. Drinkability: I must stay that I really did not mind this one, not mediocre but nothing more than average. Simple enough with a clean profile, and I certainly wouldnt turn this one away at a Russian BBQ if it were offered. Overall: Not that bad actually, rather surprised in fact. But still just OK.  \n",
      "[2025-04-30 16:20:25] (2.4.1.post1) Example 0: Presentation: Bless my little cotton Commie socks. A beer from Baltika which doesnt have a number! One of the great things about living in LA is the multi-cultural atmosphere I work in, my work colleagues know my love for beer and often I get unexpected gifts from some obscure places, this is one of them from a fellow Engineer formerly of Russia. A metric sized half-litre (500ml) brown glass bottle, labeled as 1 Pint 0.9 fluid ounces for the US market. The label is all foreign to me though, none of this translated Arsenalnoye rubbish, my bottle has the word APCEHA&#923;&#1041;HOE which translates as Beer from the Arsenal, in rough speak above the words Extra Lager in a smaller white text. The Arsenal heritage is borne out by the symbol atop the main label, a pair of dueling flintlock pistols crossed over a large letter A in a red circle. Main crown cap is red and has the text APCEHA&#923;&#1041;HOE &#1055;&#1054;&#1042;&#1054;. Listed as Alc. 7.0% by Vol. with a Production Date of 03.08.05 and Best before Date of 03.08.06. Appearance: Tremendous head on the pour, an expansive white jobby which stays at around 1-2 for some time and only slowly collapses, but always leaves a decent covering. Faded golden body with a pale-straw super-lucid clarity. A handful of streamers with average carbonation levels. Soft lacing which soon slides down back into the body of the Lager. Nose: Low strength aromas, I struggled to get anything at first,\n"
     ]
    },
    {
     "name": "stderr",
     "output_type": "stream",
     "text": [
      " 49%|████▉     | 49/100 [00:09<00:09,  5.59it/s]"
     ]
    },
    {
     "name": "stdout",
     "output_type": "stream",
     "text": [
      "[2025-04-30 16:20:25] (2.4.1.post1) Warning: reference sentiment does not exist or its number 0 is not equal to aspect number 1, text:  [B-ASP]Global Sentiment[E-ASP]    341 mL brown bottle, undated. Pours a dark, opaque brown with a generous tan head. Big hop aroma, citric and resinous. Nutty malts are quickly overpowered by grapefruit rind and pine. Hints of bitter chocolate come through near the end. Lingering bitterness, semi-sweet. Full-bodied with moderate carbonation. Although not unpleasant, this is not what I think a brown ale should be like. Unbalanced, with too much emphasis on the hops.  \n",
      "[2025-04-30 16:20:25] (2.4.1.post1) Example 0: 341 mL brown bottle, undated. Pours a dark, opaque brown with a generous tan head. Big hop aroma, citric and resinous. Nutty malts are quickly overpowered by grapefruit rind and pine. Hints of bitter chocolate come through near the end. Lingering bitterness, semi-sweet. Full-bodied with moderate carbonation. Although not unpleasant, this is not what I think a brown ale should be like. Unbalanced, with too much emphasis on the hops.\n"
     ]
    },
    {
     "name": "stderr",
     "output_type": "stream",
     "text": [
      " 50%|█████     | 50/100 [00:09<00:08,  5.66it/s]"
     ]
    },
    {
     "name": "stdout",
     "output_type": "stream",
     "text": [
      "[2025-04-30 16:20:25] (2.4.1.post1) Warning: reference sentiment does not exist or its number 0 is not equal to aspect number 1, text:  [B-ASP]Global Sentiment[E-ASP]    hazy gold with thick white head that sticks around with good lacing. this is how this beer should look plain and simple. the aroma is intensly fruity with loads of different fruity smells... strawberry banana, citrus, mango, pear, apple, pineapple. they're all apparent at some point in the bottle or another, great complexity. there are also cloves, a light peppery quality, and light plastic-y type aroma, that might be a product of the funky yeast characteristics. an almost sweet barbeque sauce smell shows up as it warms too, as well as a little alcohol. the taste is tangy and acidic. citrus and pinapple seem to be most dominant. mango and apple sit in the background. it has a funky dry yeasty mustiness. minty floral hop aftertaste. hint of hay in the aftertaste too. as it approaches room temp a faint molasses flavor shows up. medium bodied with lively carbonation and dry as a bone. good drinkability, has well masked 9% abv and very easy to sip the entire botte away over a couple hours. an excellent funky fruity belgian pale.  \n",
      "[2025-04-30 16:20:25] (2.4.1.post1) Example 0: hazy gold with thick white head that sticks around with good lacing. this is how this beer should look plain and simple. the aroma is intensly fruity with loads of different fruity smells... strawberry banana, citrus, mango, pear, apple, pineapple. they're all apparent at some point in the bottle or another, great complexity. there are also cloves, a light peppery quality, and light plastic-y type aroma, that might be a product of the funky yeast characteristics. an almost sweet barbeque sauce smell shows up as it warms too, as well as a little alcohol. the taste is tangy and acidic. citrus and pinapple seem to be most dominant. mango and apple sit in the background. it has a funky dry yeasty mustiness. minty floral hop aftertaste. hint of hay in the aftertaste too. as it approaches room temp a faint molasses flavor shows up. medium bodied with lively carbonation and dry as a bone. good drinkability, has well masked 9% abv and very easy to sip the entire botte away over a couple hours. an excellent funky fruity belgian pale.\n"
     ]
    },
    {
     "name": "stderr",
     "output_type": "stream",
     "text": [
      " 51%|█████     | 51/100 [00:09<00:09,  5.23it/s]"
     ]
    },
    {
     "name": "stdout",
     "output_type": "stream",
     "text": [
      "[2025-04-30 16:20:25] (2.4.1.post1) Warning: reference sentiment does not exist or its number 0 is not equal to aspect number 1, text:  [B-ASP]Global Sentiment[E-ASP]    It if def a Rye Porter. The rye dominates the palate. The mouthfeel was nice and silky. great to look at. If you like beers made with rye, you will love this one  \n",
      "[2025-04-30 16:20:26] (2.4.1.post1) Example 0: It if def a Rye Porter. The rye dominates the palate. The mouthfeel was nice and silky. great to look at. If you like beers made with rye, you will love this one\n"
     ]
    },
    {
     "name": "stderr",
     "output_type": "stream",
     "text": [
      " 52%|█████▏    | 52/100 [00:09<00:08,  5.41it/s]"
     ]
    },
    {
     "name": "stdout",
     "output_type": "stream",
     "text": [
      "[2025-04-30 16:20:26] (2.4.1.post1) Warning: reference sentiment does not exist or its number 0 is not equal to aspect number 1, text:  [B-ASP]Global Sentiment[E-ASP]    0%\n",
      "[2025-04-30 16:20:26] (2.4.1.post1) Example 0: 0%\n"
     ]
    },
    {
     "name": "stderr",
     "output_type": "stream",
     "text": [
      " 53%|█████▎    | 53/100 [00:10<00:08,  5.49it/s]"
     ]
    },
    {
     "name": "stdout",
     "output_type": "stream",
     "text": [
      "[2025-04-30 16:20:26] (2.4.1.post1) Warning: reference sentiment does not exist or its number 0 is not equal to aspect number 1, text:  [B-ASP]Global Sentiment[E-ASP]    22 bomber bought at a great little wine shop in Kona Hawaii. Pours a clear amber color, very faint head, a lot of carbonation noted. Smells biscuit like, some dough, and with a slightly sweet malty note. Taste is crisp and dry, especially upfront. Finish has a bit of malt, slightly nutty, and a touch of sweetness. There is also a hint of hop bitterness. Not bad. Mouthfeel is just above average. A bit thin, and watery feeling. But it's not awful, and it has a decent fullness on the front, and well done cabonation. All in all not a bad beer. I had low expectations, and this actually exceeded them. Nice easy drinking lighter beer for the warm Hawaii climate.  \n",
      "[2025-04-30 16:20:26] (2.4.1.post1) Example 0: 22 bomber bought at a great little wine shop in Kona Hawaii. Pours a clear amber color, very faint head, a lot of carbonation noted. Smells biscuit like, some dough, and with a slightly sweet malty note. Taste is crisp and dry, especially upfront. Finish has a bit of malt, slightly nutty, and a touch of sweetness. There is also a hint of hop bitterness. Not bad. Mouthfeel is just above average. A bit thin, and watery feeling. But it's not awful, and it has a decent fullness on the front, and well done cabonation. All in all not a bad beer. I had low expectations, and this actually exceeded them. Nice easy drinking lighter beer for the warm Hawaii climate.\n"
     ]
    },
    {
     "name": "stderr",
     "output_type": "stream",
     "text": [
      " 54%|█████▍    | 54/100 [00:10<00:08,  5.41it/s]"
     ]
    },
    {
     "name": "stdout",
     "output_type": "stream",
     "text": [
      "[2025-04-30 16:20:26] (2.4.1.post1) Warning: reference sentiment does not exist or its number 0 is not equal to aspect number 1, text:  [B-ASP]Global Sentiment[E-ASP]    This is pretty tasty, but undercarbed as mentioned by others. If someone had told me this was a new batch of \"Enjoy By\", I'd believe it. Then again, it would've been about half the price in that case.  \n",
      "[2025-04-30 16:20:26] (2.4.1.post1) Example 0: This is pretty tasty, but undercarbed as mentioned by others. If someone had told me this was a new batch of \"Enjoy By\", I'd believe it. Then again, it would've been about half the price in that case.\n"
     ]
    },
    {
     "name": "stderr",
     "output_type": "stream",
     "text": [
      " 55%|█████▌    | 55/100 [00:10<00:08,  5.51it/s]"
     ]
    },
    {
     "name": "stdout",
     "output_type": "stream",
     "text": [
      "[2025-04-30 16:20:26] (2.4.1.post1) Warning: reference sentiment does not exist or its number 0 is not equal to aspect number 1, text:  [B-ASP]Global Sentiment[E-ASP]    This is the gold standard of Belgian IPAs. As you can see by the amount of review this beer has been amazing successful and is the most popular out of all FLying Dog brews. It satisfies the needs of the hop heads out there and also caters to those on the opposite end of the spectrum that like the Belgian. This beer smells fruity with a higher than average alcohol content of 8.3%. The beer is a dark amber color when poured into a bottle with a heavy amount of white lacing. Flying Dog forces carbonation in their beer so there is heavy head on this beer. It leads to a smooth, crisp heavily carbonated (though not in a bad way) mouthfeel. The taste is slightly sweet due to the Belgian yeast but neither that nor the taste of the hops linger. This is a very drinkable beer.  \n",
      "[2025-04-30 16:20:26] (2.4.1.post1) Example 0: This is the gold standard of Belgian IPAs. As you can see by the amount of review this beer has been amazing successful and is the most popular out of all FLying Dog brews. It satisfies the needs of the hop heads out there and also caters to those on the opposite end of the spectrum that like the Belgian. This beer smells fruity with a higher than average alcohol content of 8.3%. The beer is a dark amber color when poured into a bottle with a heavy amount of white lacing. Flying Dog forces carbonation in their beer so there is heavy head on this beer. It leads to a smooth, crisp heavily carbonated (though not in a bad way) mouthfeel. The taste is slightly sweet due to the Belgian yeast but neither that nor the taste of the hops linger. This is a very drinkable beer.\n"
     ]
    },
    {
     "name": "stderr",
     "output_type": "stream",
     "text": [
      " 56%|█████▌    | 56/100 [00:10<00:08,  5.39it/s]"
     ]
    },
    {
     "name": "stdout",
     "output_type": "stream",
     "text": [
      "[2025-04-30 16:20:26] (2.4.1.post1) Warning: reference sentiment does not exist or its number 0 is not equal to aspect number 1, text:  [B-ASP]Global Sentiment[E-ASP]    A clear golden pour with a strange lack of bubbles, considering the massive suds on top of the beer. They are big soapy looking suds too, absolutely clinging to the glass as it retreats. Aroma is pure hops, I know the bitterness is going to peel the taste buds off my tongue before I even take a drink. Strangely, it is a lot gentler than expected. Obviously the bitter is here, but it's a nice blend of pine and citrus, with neither being very forward. One of the most balanced hop mixes I have yet encountered. This is really good! Feels nice and dry too. I think I am going to have to get some more...  \n",
      "[2025-04-30 16:20:26] (2.4.1.post1) Example 0: A clear golden pour with a strange lack of bubbles, considering the massive suds on top of the beer. They are big soapy looking suds too, absolutely clinging to the glass as it retreats. Aroma is pure hops, I know the bitterness is going to peel the taste buds off my tongue before I even take a drink. Strangely, it is a lot gentler than expected. Obviously the bitter is here, but it's a nice blend of pine and citrus, with neither being very forward. One of the most balanced hop mixes I have yet encountered. This is really good! Feels nice and dry too. I think I am going to have to get some more...\n"
     ]
    },
    {
     "name": "stderr",
     "output_type": "stream",
     "text": [
      " 57%|█████▋    | 57/100 [00:10<00:07,  5.51it/s]"
     ]
    },
    {
     "name": "stdout",
     "output_type": "stream",
     "text": [
      "[2025-04-30 16:20:26] (2.4.1.post1) Warning: reference sentiment does not exist or its number 0 is not equal to aspect number 1, text:  [B-ASP]Global Sentiment[E-ASP]    Underwhelming, not much oak taste and the smell is very minimal\n",
      "[2025-04-30 16:20:27] (2.4.1.post1) Example 0: Underwhelming, not much oak taste and the smell is very minimal\n"
     ]
    },
    {
     "name": "stderr",
     "output_type": "stream",
     "text": [
      " 58%|█████▊    | 58/100 [00:11<00:08,  5.16it/s]"
     ]
    },
    {
     "name": "stdout",
     "output_type": "stream",
     "text": [
      "[2025-04-30 16:20:27] (2.4.1.post1) Warning: reference sentiment does not exist or its number 0 is not equal to aspect number 1, text:  [B-ASP]Global Sentiment[E-ASP]    Poured from a bomber into a perfect. Pours a light straw with no discernable cloud. Nice fluffy head settles to a sticky cap. Aroma is of light husky grain, bready and slightly dusty. Middle comes with fruity hops with slightly floral notes. Finishes sweetly fruity and floral. Aroma doesn't grab me by the nose, but it is very apparent. Flavor opens with husky grain, slightly tannic and a little acidic. Like the nose, the middle yeilds to fruity and floral hops with a nice amount of bitterness. Malt finishes the show, crackery and with slight hints of cream and toffee. Excellent. Mouthfeel is creamy and light at the same time. Very full mouthfeel with a middle to light body. The carbonation is lush and soft. Very nice. This is a very drinkable, very tasty beer. An outstanding example of an APA. Recommend.  \n",
      "[2025-04-30 16:20:27] (2.4.1.post1) Example 0: Poured from a bomber into a perfect. Pours a light straw with no discernable cloud. Nice fluffy head settles to a sticky cap. Aroma is of light husky grain, bready and slightly dusty. Middle comes with fruity hops with slightly floral notes. Finishes sweetly fruity and floral. Aroma doesn't grab me by the nose, but it is very apparent. Flavor opens with husky grain, slightly tannic and a little acidic. Like the nose, the middle yeilds to fruity and floral hops with a nice amount of bitterness. Malt finishes the show, crackery and with slight hints of cream and toffee. Excellent. Mouthfeel is creamy and light at the same time. Very full mouthfeel with a middle to light body. The carbonation is lush and soft. Very nice. This is a very drinkable, very tasty beer. An outstanding example of an APA. Recommend.\n"
     ]
    },
    {
     "name": "stderr",
     "output_type": "stream",
     "text": [
      " 59%|█████▉    | 59/100 [00:11<00:07,  5.30it/s]"
     ]
    },
    {
     "name": "stdout",
     "output_type": "stream",
     "text": [
      "[2025-04-30 16:20:27] (2.4.1.post1) Warning: reference sentiment does not exist or its number 0 is not equal to aspect number 1, text:  [B-ASP]Global Sentiment[E-ASP]    Out of a 750ml capped bottle. Pours a nice ruby brown color, some big yeast floaters at the bottom, a nice tight egg-shell colored head that left a nice sheet of sticky lacing on the glass. The aroma is sweet, vinous, with a bit of peppery spice, typical BSDA. Deep red wine, perhaps some sherry, flavors hit up front with a nice counter-balance of dark candi-sugar, some lights hints of tobacco or an earthy spice. There is a bit of a weird sourness or bitterness to this that I cannot quite place. The feel is moderate with plenty of carbonation, some fusel alcohol is present; though sweet overall finishes with a dry and bitter kick. A nice BSDA, nothing from this brewery disappoints. The brew is a bit boozy and dry/bitter for the style. Still a good pick up.  \n",
      "[2025-04-30 16:20:27] (2.4.1.post1) Example 0: Out of a 750ml capped bottle. Pours a nice ruby brown color, some big yeast floaters at the bottom, a nice tight egg-shell colored head that left a nice sheet of sticky lacing on the glass. The aroma is sweet, vinous, with a bit of peppery spice, typical BSDA. Deep red wine, perhaps some sherry, flavors hit up front with a nice counter-balance of dark candi-sugar, some lights hints of tobacco or an earthy spice. There is a bit of a weird sourness or bitterness to this that I cannot quite place. The feel is moderate with plenty of carbonation, some fusel alcohol is present; though sweet overall finishes with a dry and bitter kick. A nice BSDA, nothing from this brewery disappoints. The brew is a bit boozy and dry/bitter for the style. Still a good pick up.\n"
     ]
    },
    {
     "name": "stderr",
     "output_type": "stream",
     "text": [
      " 60%|██████    | 60/100 [00:11<00:07,  5.39it/s]"
     ]
    },
    {
     "name": "stdout",
     "output_type": "stream",
     "text": [
      "[2025-04-30 16:20:27] (2.4.1.post1) Warning: reference sentiment does not exist or its number 0 is not equal to aspect number 1, text:  [B-ASP]Global Sentiment[E-ASP]    0%\n",
      "[2025-04-30 16:20:27] (2.4.1.post1) Example 0: 0%\n"
     ]
    },
    {
     "name": "stderr",
     "output_type": "stream",
     "text": [
      " 61%|██████    | 61/100 [00:11<00:07,  5.49it/s]"
     ]
    },
    {
     "name": "stdout",
     "output_type": "stream",
     "text": [
      "[2025-04-30 16:20:27] (2.4.1.post1) Warning: reference sentiment does not exist or its number 0 is not equal to aspect number 1, text:  [B-ASP]Global Sentiment[E-ASP]    Got this as part of Mill Street's seasonal sampler pack, or I don't think I would have ever bought it again. Man this brings back memories. I used to drink this all the time a few years back (out of the bottle no less) before I moved on to better things. Pours like a standard ale. Nothing out of the ordinary. Yellow, as you can see in the photo above. Minimal head that quickly and completely disappears, never to be seen again. There's little to no head retention which is always a little disappointing. I am picking up very little in the aroma, not much but a hint of malt and grains and...um. Fruit? Some kind of fruit I guess. The taste is actually better than I was expecting. I guess there was a reason I drank this so much back then. A fairly okay amount malt with an inoffensive barely bitter finish, with an overall lemony fruitness to it. Nice sticky yet refreshing mouthfeel. I don't think this beer is aspiring to be anything but a well brewed crowd pleaser and if that is the case it does its job well. This wouldn't be a bad beer at all to session or slake your thirst or drink when your attention was focused elsewhere. I'd probably prefer something with a bit more character than this myself, but you could do a lot worse. I think this would be a great beer to keep in your fridge to offer guests who are used to macros.  \n",
      "[2025-04-30 16:20:27] (2.4.1.post1) Example 0: Got this as part of Mill Street's seasonal sampler pack, or I don't think I would have ever bought it again. Man this brings back memories. I used to drink this all the time a few years back (out of the bottle no less) before I moved on to better things. Pours like a standard ale. Nothing out of the ordinary. Yellow, as you can see in the photo above. Minimal head that quickly and completely disappears, never to be seen again. There's little to no head retention which is always a little disappointing. I am picking up very little in the aroma, not much but a hint of malt and grains and...um. Fruit? Some kind of fruit I guess. The taste is actually better than I was expecting. I guess there was a reason I drank this so much back then. A fairly okay amount malt with an inoffensive barely bitter finish, with an overall lemony fruitness to it. Nice sticky yet refreshing mouthfeel. I don't think this beer is aspiring to be anything but a well brewed crowd pleaser and if that is the case it does its job well. This wouldn't be a bad beer at all to session or slake your thirst or drink when your attention was focused elsewhere. I'd probably prefer something with a bit more character than this myself, but you could do a lot worse. I think this would be a great beer to keep in your fridge to\n"
     ]
    },
    {
     "name": "stderr",
     "output_type": "stream",
     "text": [
      " 62%|██████▏   | 62/100 [00:11<00:06,  5.54it/s]"
     ]
    },
    {
     "name": "stdout",
     "output_type": "stream",
     "text": [
      "[2025-04-30 16:20:27] (2.4.1.post1) Warning: reference sentiment does not exist or its number 0 is not equal to aspect number 1, text:  [B-ASP]Global Sentiment[E-ASP]    Poured from a 750mL bottle into a snifter. Thanks Steve for getting this one! Pours a hazy orange body - a little more orange than the normal trillium but the same amount of haze. White head reduces to leave spotty lacing and a little retention. Aromas are interesting/unique - has a light spicyness to it, tropical fruit, grassy, herbal and earthy. The tongue matches the nose with a dank resinous note added, cantaloupe and overripe tropical fruit. Medium body and carbonation. The enigma hop worked here and it was interesting to pick up the nuances of this hop as it's not widely used.  \n",
      "[2025-04-30 16:20:28] (2.4.1.post1) Example 0: Poured from a 750mL bottle into a snifter. Thanks Steve for getting this one! Pours a hazy orange body - a little more orange than the normal trillium but the same amount of haze. White head reduces to leave spotty lacing and a little retention. Aromas are interesting/unique - has a light spicyness to it, tropical fruit, grassy, herbal and earthy. The tongue matches the nose with a dank resinous note added, cantaloupe and overripe tropical fruit. Medium body and carbonation. The enigma hop worked here and it was interesting to pick up the nuances of this hop as it's not widely used.\n"
     ]
    },
    {
     "name": "stderr",
     "output_type": "stream",
     "text": [
      " 63%|██████▎   | 63/100 [00:11<00:06,  5.56it/s]"
     ]
    },
    {
     "name": "stdout",
     "output_type": "stream",
     "text": [
      "[2025-04-30 16:20:28] (2.4.1.post1) Warning: reference sentiment does not exist or its number 0 is not equal to aspect number 1, text:  [B-ASP]Global Sentiment[E-ASP]    0%\n",
      "[2025-04-30 16:20:28] (2.4.1.post1) Example 0: 0%\n"
     ]
    },
    {
     "name": "stderr",
     "output_type": "stream",
     "text": [
      " 64%|██████▍   | 64/100 [00:12<00:06,  5.51it/s]"
     ]
    },
    {
     "name": "stdout",
     "output_type": "stream",
     "text": [
      "[2025-04-30 16:20:28] (2.4.1.post1) Warning: reference sentiment does not exist or its number 0 is not equal to aspect number 1, text:  [B-ASP]Global Sentiment[E-ASP]    The beer pours out into a Corsondonk goblet a rich dark brown that looks black. There is a 1/4“ light tan head that recedes to a ring and an irregular island of foam on the surface. Sipping creates a few scattered specks and patches of lacing on the sides of the glass. The aromas include the chocolate and raspberry blend up front, with just a hint of roasted malt in the background. The flavors are much as expected from the nose with but with chocolate up front and backed up strongly by the raspberries. There’s also a light touch of roasted malt and bitterness from the roast. Mingled in to the flavor mix are some fruity sweetness and a bit of tartness from the raspberries. There doesn’t seem to be any real hop bitterness showing. The alcohol is well concealed here and noticeable only from the slight warmth it creates after several sips. The mouthfeel is on the full side of medium bodied and fairly smooth with the small bubbled light carbonation. The medium long finish begins as the chocolate and roasted malt recede further into the background, leaving the raspberry, the light sweetness and the touch of tartness to slowly follow them. Finally in the ending there is again some dark roasted bitterness that becomes tinged with a dry hint of the raspberry in the back of the palate. Overall this is a very well made beer that I’m very much enjoying and one I certainly expect to be having again. In fact I think I’ll get another bottle to have on hand for a special occasion or for a day that needs to be improved by having a special beer. If you think you might enjoy chocolate covered raspberries this is recommended.  \n",
      "[2025-04-30 16:20:28] (2.4.1.post1) Example 0: The beer pours out into a Corsondonk goblet a rich dark brown that looks black. There is a 1/4“ light tan head that recedes to a ring and an irregular island of foam on the surface. Sipping creates a few scattered specks and patches of lacing on the sides of the glass. The aromas include the chocolate and raspberry blend up front, with just a hint of roasted malt in the background. The flavors are much as expected from the nose with but with chocolate up front and backed up strongly by the raspberries. There’s also a light touch of roasted malt and bitterness from the roast. Mingled in to the flavor mix are some fruity sweetness and a bit of tartness from the raspberries. There doesn’t seem to be any real hop bitterness showing. The alcohol is well concealed here and noticeable only from the slight warmth it creates after several sips. The mouthfeel is on the full side of medium bodied and fairly smooth with the small bubbled light carbonation. The medium long finish begins as the chocolate and roasted malt recede further into the background, leaving the raspberry, the light sweetness and the touch of tartness to slowly follow them. Finally in the ending there is again some dark roasted bitterness that becomes tinged with a dry hint of the raspberry in the back of the palate. Overall this is a very well made beer that I’m very much enjoying and one I certainly\n"
     ]
    },
    {
     "name": "stderr",
     "output_type": "stream",
     "text": [
      " 65%|██████▌   | 65/100 [00:12<00:06,  5.15it/s]"
     ]
    },
    {
     "name": "stdout",
     "output_type": "stream",
     "text": [
      "[2025-04-30 16:20:28] (2.4.1.post1) Warning: reference sentiment does not exist or its number 0 is not equal to aspect number 1, text:  [B-ASP]Global Sentiment[E-ASP]    This is based on the most recent bottle I sampled. The beer pours an orange amber color with good head retention and very nice lacing. At least for this bottle, the nose is the best part of this beer, as I pick up considerable dry citrus, light skunky weed, some noticable pine and white pepper. The flavor profile replicates the nose to some extent, but there is already some noticeable sweet maltiness in the mid palate and finish that I associate with less than optimal freshness in this beer. Otherwise, this IPA is on the dry side, with a moderately long, bitter finish. Alcohol is well integrated into the flavor profile, and mouthfeel is medium bodied with a clean, moderately bitter finish. A couple of thoughts about this beer. I used to see this beer on tap frequently at various bars in Pittsburgh when I lived in Morgantown. While always pretty good, I was also always a bit hesitant to order it, as in my experience this beer goes down hill pretty quickly once it's been tapped. Fresh, this beer was a tasty IPA that I would frequently order as an alternative to Bells Two Hearted, which was the other staple I'd see on tap in and around Pittsburgh. Unfortunately, I ordered far too many pints of HH that were nowhere close to optimal freshness, which is why I became increasingly cautious about ordering it. On the other hand, a bottle sent to me by a friend a few months back was incredible, and at long last I could see some basis for the lofty score this beer seems to routinely get on BA. The one I drank last night was decent, but in light of the bottle I enjoyed a few months back, something of a disappointment. Bottle/batch variation seems to be the order of the day with this beer, which is the only cautionary note I would make regarding this otherwise well made IPA from Fat Head's.  \n",
      "[2025-04-30 16:20:28] (2.4.1.post1) Example 0: This is based on the most recent bottle I sampled. The beer pours an orange amber color with good head retention and very nice lacing. At least for this bottle, the nose is the best part of this beer, as I pick up considerable dry citrus, light skunky weed, some noticable pine and white pepper. The flavor profile replicates the nose to some extent, but there is already some noticeable sweet maltiness in the mid palate and finish that I associate with less than optimal freshness in this beer. Otherwise, this IPA is on the dry side, with a moderately long, bitter finish. Alcohol is well integrated into the flavor profile, and mouthfeel is medium bodied with a clean, moderately bitter finish. A couple of thoughts about this beer. I used to see this beer on tap frequently at various bars in Pittsburgh when I lived in Morgantown. While always pretty good, I was also always a bit hesitant to order it, as in my experience this beer goes down hill pretty quickly once it's been tapped. Fresh, this beer was a tasty IPA that I would frequently order as an alternative to Bells Two Hearted, which was the other staple I'd see on tap in and around Pittsburgh. Unfortunately, I ordered far too many pints of HH that were nowhere close to optimal freshness, which is why I became increasingly cautious about ordering it. On the other hand, a bottle sent to me by a friend\n"
     ]
    },
    {
     "name": "stderr",
     "output_type": "stream",
     "text": [
      " 66%|██████▌   | 66/100 [00:12<00:06,  5.29it/s]"
     ]
    },
    {
     "name": "stdout",
     "output_type": "stream",
     "text": [
      "[2025-04-30 16:20:28] (2.4.1.post1) Warning: reference sentiment does not exist or its number 0 is not equal to aspect number 1, text:  [B-ASP]Global Sentiment[E-ASP]    Thanks to Tyler for grabbing this for me on a recent trip to PDX. Poured into 10oz glass. Poured a nice medium golden yellow with a thin cap of white head that had OK retention and lacing. The was nicely grainy, with a solid, but mellow, dose of hops. The flavor was also grain forward with a bit of a hop tang on the finish. The body was surprisingly full, not heavy and a bit too sweet to be called crisp, and very enjoyable. Drinkability was pretty good, I could easily have these as my chore beer, or at a cookout if it were local to me. Overall, a solid and enjoyable brew that's worth a shot if you see it.  \n",
      "[2025-04-30 16:20:28] (2.4.1.post1) Example 0: Thanks to Tyler for grabbing this for me on a recent trip to PDX. Poured into 10oz glass. Poured a nice medium golden yellow with a thin cap of white head that had OK retention and lacing. The was nicely grainy, with a solid, but mellow, dose of hops. The flavor was also grain forward with a bit of a hop tang on the finish. The body was surprisingly full, not heavy and a bit too sweet to be called crisp, and very enjoyable. Drinkability was pretty good, I could easily have these as my chore beer, or at a cookout if it were local to me. Overall, a solid and enjoyable brew that's worth a shot if you see it.\n"
     ]
    },
    {
     "name": "stderr",
     "output_type": "stream",
     "text": [
      " 67%|██████▋   | 67/100 [00:12<00:06,  5.38it/s]"
     ]
    },
    {
     "name": "stdout",
     "output_type": "stream",
     "text": [
      "[2025-04-30 16:20:28] (2.4.1.post1) Warning: reference sentiment does not exist or its number 0 is not equal to aspect number 1, text:  [B-ASP]Global Sentiment[E-ASP]    Crystalline orange-copper capped by a large, light tan head. The foam is semi-stiff and eventually falls to a thick, chunky disk. Underwhelming lace. The nose is a near equal mixture of lightly toasted caramel malt and spicy hops; the hops being a bit more prominent. I like the flavor, though it could be more assertive. Malt dominates the start with spicy hops fading in and taking over at the midway point of each mouthful. Malt appears again on the finish due to a minor grain/husk intrusion. There's a mineral-like (though not metallic) aspect to the finish as well. It isn't an overly hoppy beer considering the style. The body is closer to light than to medium and the mouthfeel is slightly too busy. BridgePort ESB is a solid, if not overly impressive, version of the style. It could stand to be more flavor assertive, particularly with regard to hops. It's still enjoyable though, and does go down rather easily.  \n",
      "[2025-04-30 16:20:28] (2.4.1.post1) Example 0: Crystalline orange-copper capped by a large, light tan head. The foam is semi-stiff and eventually falls to a thick, chunky disk. Underwhelming lace. The nose is a near equal mixture of lightly toasted caramel malt and spicy hops; the hops being a bit more prominent. I like the flavor, though it could be more assertive. Malt dominates the start with spicy hops fading in and taking over at the midway point of each mouthful. Malt appears again on the finish due to a minor grain/husk intrusion. There's a mineral-like (though not metallic) aspect to the finish as well. It isn't an overly hoppy beer considering the style. The body is closer to light than to medium and the mouthfeel is slightly too busy. BridgePort ESB is a solid, if not overly impressive, version of the style. It could stand to be more flavor assertive, particularly with regard to hops. It's still enjoyable though, and does go down rather easily.\n"
     ]
    },
    {
     "name": "stderr",
     "output_type": "stream",
     "text": [
      " 68%|██████▊   | 68/100 [00:12<00:05,  5.46it/s]"
     ]
    },
    {
     "name": "stdout",
     "output_type": "stream",
     "text": [
      "[2025-04-30 16:20:28] (2.4.1.post1) Warning: reference sentiment does not exist or its number 0 is not equal to aspect number 1, text:  [B-ASP]Global Sentiment[E-ASP]    0%\n",
      "[2025-04-30 16:20:29] (2.4.1.post1) Example 0: 0%\n"
     ]
    },
    {
     "name": "stderr",
     "output_type": "stream",
     "text": [
      " 69%|██████▉   | 69/100 [00:13<00:05,  5.52it/s]"
     ]
    },
    {
     "name": "stdout",
     "output_type": "stream",
     "text": [
      "[2025-04-30 16:20:29] (2.4.1.post1) Warning: reference sentiment does not exist or its number 0 is not equal to aspect number 1, text:  [B-ASP]Global Sentiment[E-ASP]    12 oz. bottle with just a plain and simple dark forest green label that has the name of the beer in big white letters. To the left side is a description of the beer and why it's called \"Saint Bridget's Porter.\" Below that is where they say this beer got the gold at the World Beer Cup all the way back in 1996. To the right side is where they keep the US Government warning, refund values, address of the brewery, and a notched month and week bottle date. Mine was hard to see where they notched it, so I don't know how this beer was. Appearance: When poured into a Bell's brewery pint glass, this Porter is a dark cola mahagony brown with a less than a 1/2 inch head of tan foam. The head of foam quickly fizzled away in a matter of only 2 seconds. It manage to leave behind islands of fizzy bubbles, tan foamy rings, and a smidge of tan rings around the glass. Smell: It had a nice medium sized base aroma of roasted espresso beans. Once I got passed the espresso cloud, I got a big whiff of dark roasted malts, bitter dark chocolate, and a pinch of sweet caramel and roasted hops. Taste: I could taste all the characteristics of a good Porter in the making. It had all the usual Porter tastes of dark roasted malts, bitter dark chocolate, roasted coffee beans, and a splash of roasted hops. But what made this one so different was the fact that it tasted like Great Divide watered down most of the roasted flavors for some odd reason. It was fine where the taste was going, but then it did a U-turn when the water kicked in. Mouthfeel: I thought it was a heavly carbonated medium bodied beer that had a quick aftertaste of roasted espresso beans, dark chocolate, and dark roasted malts. It's too bad the aftertaste didn't last long because there were quite a few good flavors in that aftertaste. Drinkability: It was an OK porter from Great Divide, but it could have been a great Porter from Great Divide if they hadn't watered down the taste. In the world of Porters, I could pass on this one.  \n",
      "[2025-04-30 16:20:29] (2.4.1.post1) Example 0: 12 oz. bottle with just a plain and simple dark forest green label that has the name of the beer in big white letters. To the left side is a description of the beer and why it's called \"Saint Bridget's Porter.\" Below that is where they say this beer got the gold at the World Beer Cup all the way back in 1996. To the right side is where they keep the US Government warning, refund values, address of the brewery, and a notched month and week bottle date. Mine was hard to see where they notched it, so I don't know how this beer was. Appearance: When poured into a Bell's brewery pint glass, this Porter is a dark cola mahagony brown with a less than a 1/2 inch head of tan foam. The head of foam quickly fizzled away in a matter of only 2 seconds. It manage to leave behind islands of fizzy bubbles, tan foamy rings, and a smidge of tan rings around the glass. Smell: It had a nice medium sized base aroma of roasted espresso beans. Once I got passed the espresso cloud, I got a big whiff of dark roasted malts, bitter dark chocolate, and a pinch of sweet caramel and roasted hops. Taste: I could taste all the characteristics of a good Porter in the making. It had all the usual Porter tastes of dark roasted malts, bitter dark chocolate, roasted coffee beans, and a splash of roasted hops.\n"
     ]
    },
    {
     "name": "stderr",
     "output_type": "stream",
     "text": [
      " 70%|███████   | 70/100 [00:13<00:05,  5.56it/s]"
     ]
    },
    {
     "name": "stdout",
     "output_type": "stream",
     "text": [
      "[2025-04-30 16:20:29] (2.4.1.post1) Warning: reference sentiment does not exist or its number 0 is not equal to aspect number 1, text:  [B-ASP]Global Sentiment[E-ASP]    appearance - Golden color with a nice large white head. smell - Smells of yeast, bread, sna spices here. taste - Has a sweet taste of spices and some mild hops present with a dry ending taste. mouthfeel - Medium body. drinkability - I know this is popular,but felt it was overrated. I thought it was an ok beer, above average, but nothing that I would says wow you have try this.  \n",
      "[2025-04-30 16:20:29] (2.4.1.post1) Example 0: appearance - Golden color with a nice large white head. smell - Smells of yeast, bread, sna spices here. taste - Has a sweet taste of spices and some mild hops present with a dry ending taste. mouthfeel - Medium body. drinkability - I know this is popular,but felt it was overrated. I thought it was an ok beer, above average, but nothing that I would says wow you have try this.\n"
     ]
    },
    {
     "name": "stderr",
     "output_type": "stream",
     "text": [
      " 71%|███████   | 71/100 [00:13<00:05,  5.61it/s]"
     ]
    },
    {
     "name": "stdout",
     "output_type": "stream",
     "text": [
      "[2025-04-30 16:20:29] (2.4.1.post1) Warning: reference sentiment does not exist or its number 0 is not equal to aspect number 1, text:  [B-ASP]Global Sentiment[E-ASP]    Crystal clear extremely pale yellow, big bubbled carbonation forms a white head. Decent retention, good lacing. Pretty attractive despite the light color. Smells great - the fruits are in the forefront, but have nice zesty hoppage and great yeastwork behind it. Taste is honestly very close to those fruit-flavored seltzer waters (with some spicy hops added). Pretty horrid. Very thin and dry with harsh carbonation and astringent grainy bitter finish. The aftertaste challenges you to take another sip. No thanks, I gave this a fair shot. Too bad, it started with so much potential. Is this low-carb? Maybe that was the plan. I am trying to grasp why a good brewery would make this.  \n",
      "[2025-04-30 16:20:29] (2.4.1.post1) Example 0: Crystal clear extremely pale yellow, big bubbled carbonation forms a white head. Decent retention, good lacing. Pretty attractive despite the light color. Smells great - the fruits are in the forefront, but have nice zesty hoppage and great yeastwork behind it. Taste is honestly very close to those fruit-flavored seltzer waters (with some spicy hops added). Pretty horrid. Very thin and dry with harsh carbonation and astringent grainy bitter finish. The aftertaste challenges you to take another sip. No thanks, I gave this a fair shot. Too bad, it started with so much potential. Is this low-carb? Maybe that was the plan. I am trying to grasp why a good brewery would make this.\n"
     ]
    },
    {
     "name": "stderr",
     "output_type": "stream",
     "text": [
      " 72%|███████▏  | 72/100 [00:13<00:04,  5.63it/s]"
     ]
    },
    {
     "name": "stdout",
     "output_type": "stream",
     "text": [
      "[2025-04-30 16:20:29] (2.4.1.post1) Warning: reference sentiment does not exist or its number 0 is not equal to aspect number 1, text:  [B-ASP]Global Sentiment[E-ASP]    Spent an extremely pleasant afternoon in a Pub in Victoria BC drinking this beer, so my rating may be a little biased.Medium red color. Roasted malts, slightly hoppy, very flavorful ale. Refreshing and slightly hoppy. Good malt/hop balance. Mouthfeel is full and round. Finish is clean. Aftertaste is slightly bitter.  \n",
      "[2025-04-30 16:20:29] (2.4.1.post1) Example 0: Spent an extremely pleasant afternoon in a Pub in Victoria BC drinking this beer, so my rating may be a little biased.Medium red color. Roasted malts, slightly hoppy, very flavorful ale. Refreshing and slightly hoppy. Good malt/hop balance. Mouthfeel is full and round. Finish is clean. Aftertaste is slightly bitter.\n"
     ]
    },
    {
     "name": "stderr",
     "output_type": "stream",
     "text": [
      " 73%|███████▎  | 73/100 [00:13<00:05,  5.21it/s]"
     ]
    },
    {
     "name": "stdout",
     "output_type": "stream",
     "text": [
      "[2025-04-30 16:20:29] (2.4.1.post1) Warning: reference sentiment does not exist or its number 0 is not equal to aspect number 1, text:  [B-ASP]Global Sentiment[E-ASP]    Served in a Devil's Backbone weizen glass. Figured I'd grab one o' these guys before they disappear for the rest of the year. It pours a pretty clear pale straw, riddled with particulates, topped by over a finger of healthy white froth. The nose comprises orange peel, mandarin orange flesh, puffed rice, and wet wheat. The taste comprises corn syrup, wheat, light mandarin orange, and flowers. The body is light, with a light carbonation and a thickly watery feel. Overall, a decent APWA, nothing close to special, but highly drinkable.  \n",
      "[2025-04-30 16:20:30] (2.4.1.post1) Example 0: Served in a Devil's Backbone weizen glass. Figured I'd grab one o' these guys before they disappear for the rest of the year. It pours a pretty clear pale straw, riddled with particulates, topped by over a finger of healthy white froth. The nose comprises orange peel, mandarin orange flesh, puffed rice, and wet wheat. The taste comprises corn syrup, wheat, light mandarin orange, and flowers. The body is light, with a light carbonation and a thickly watery feel. Overall, a decent APWA, nothing close to special, but highly drinkable.\n"
     ]
    },
    {
     "name": "stderr",
     "output_type": "stream",
     "text": [
      " 74%|███████▍  | 74/100 [00:14<00:04,  5.33it/s]"
     ]
    },
    {
     "name": "stdout",
     "output_type": "stream",
     "text": [
      "[2025-04-30 16:20:30] (2.4.1.post1) Warning: reference sentiment does not exist or its number 0 is not equal to aspect number 1, text:  [B-ASP]Global Sentiment[E-ASP]    This tasted very little like beer. More like raspberry flavored pop or mineral water. The fruit was just too strong for my liking. It tasted very sugary and very berry. I couldn't taste much typical beer flavors in it at all. Drinkability is therefore pretty low on this. Not my thing really. I much prefer Leinie's Sunset Wheat, where fruit flavors compliment beer flavors, instead of completely dominating them.  \n",
      "[2025-04-30 16:20:30] (2.4.1.post1) Example 0: This tasted very little like beer. More like raspberry flavored pop or mineral water. The fruit was just too strong for my liking. It tasted very sugary and very berry. I couldn't taste much typical beer flavors in it at all. Drinkability is therefore pretty low on this. Not my thing really. I much prefer Leinie's Sunset Wheat, where fruit flavors compliment beer flavors, instead of completely dominating them.\n"
     ]
    },
    {
     "name": "stderr",
     "output_type": "stream",
     "text": [
      " 75%|███████▌  | 75/100 [00:14<00:04,  5.33it/s]"
     ]
    },
    {
     "name": "stdout",
     "output_type": "stream",
     "text": [
      "[2025-04-30 16:20:30] (2.4.1.post1) Warning: reference sentiment does not exist or its number 0 is not equal to aspect number 1, text:  [B-ASP]Global Sentiment[E-ASP]    Pours a orangish body with real good frothy head that dies slow with lace. A spicy, sour grape/tart fruit and citric hop aroma as well as yeasty; something like apple or pear in as well. Little bit of sugariness for sweetness and some spices come in as well. Great balance comes to my mind, especially for the Belgian take on this style. Slightly smooth and creamy, the beer is light-bodied but still has a carbonation that makes the beer sharp and pronounces the citric hops which abound. Great balance is achieved with tart fruit tastes like grape skin, apple and pear. Clove and pepper round out the body which has a good candi-sugar and caramel sweetness as well a grainy, bready touch. Easy to drink with good fruit and sweetness while still maintaing a large hop edge, this beer finishes real crisp and is a must for anyone who appreciates Belgian ales.  \n",
      "[2025-04-30 16:20:30] (2.4.1.post1) Example 0: Pours a orangish body with real good frothy head that dies slow with lace. A spicy, sour grape/tart fruit and citric hop aroma as well as yeasty; something like apple or pear in as well. Little bit of sugariness for sweetness and some spices come in as well. Great balance comes to my mind, especially for the Belgian take on this style. Slightly smooth and creamy, the beer is light-bodied but still has a carbonation that makes the beer sharp and pronounces the citric hops which abound. Great balance is achieved with tart fruit tastes like grape skin, apple and pear. Clove and pepper round out the body which has a good candi-sugar and caramel sweetness as well a grainy, bready touch. Easy to drink with good fruit and sweetness while still maintaing a large hop edge, this beer finishes real crisp and is a must for anyone who appreciates Belgian ales.\n"
     ]
    },
    {
     "name": "stderr",
     "output_type": "stream",
     "text": [
      " 76%|███████▌  | 76/100 [00:14<00:04,  5.43it/s]"
     ]
    },
    {
     "name": "stdout",
     "output_type": "stream",
     "text": [
      "[2025-04-30 16:20:30] (2.4.1.post1) Warning: reference sentiment does not exist or its number 0 is not equal to aspect number 1, text:  [B-ASP]Global Sentiment[E-ASP]    You had this beer. Write a review.\n",
      "[2025-04-30 16:20:30] (2.4.1.post1) Example 0: You had this beer. Write a review.\n"
     ]
    },
    {
     "name": "stderr",
     "output_type": "stream",
     "text": [
      " 77%|███████▋  | 77/100 [00:14<00:04,  5.47it/s]"
     ]
    },
    {
     "name": "stdout",
     "output_type": "stream",
     "text": [
      "[2025-04-30 16:20:30] (2.4.1.post1) Warning: reference sentiment does not exist or its number 0 is not equal to aspect number 1, text:  [B-ASP]Global Sentiment[E-ASP]    12 oz bottle, poured into a tulip. Pours a light brownish amber with a minimal off-white head. Minimal retention and lacing. Smells of toasty and nutty malts with some ripe and overripe citrus. A fair amount of caramel malt sweetness, too. In the mouth, this is a pretty fruity and tangy take on a bitter. As in the nose, toasty and nutty, with a sweet combo of overripe citrus and caramel. Medium-thick body with moderate carbonation. Overripe orange and earthiness linger for a moment. Overall impression: Pretty good brew, sessionable but unmemorable.  \n",
      "[2025-04-30 16:20:30] (2.4.1.post1) Example 0: 12 oz bottle, poured into a tulip. Pours a light brownish amber with a minimal off-white head. Minimal retention and lacing. Smells of toasty and nutty malts with some ripe and overripe citrus. A fair amount of caramel malt sweetness, too. In the mouth, this is a pretty fruity and tangy take on a bitter. As in the nose, toasty and nutty, with a sweet combo of overripe citrus and caramel. Medium-thick body with moderate carbonation. Overripe orange and earthiness linger for a moment. Overall impression: Pretty good brew, sessionable but unmemorable.\n"
     ]
    },
    {
     "name": "stderr",
     "output_type": "stream",
     "text": [
      " 78%|███████▊  | 78/100 [00:14<00:03,  5.55it/s]"
     ]
    },
    {
     "name": "stdout",
     "output_type": "stream",
     "text": [
      "[2025-04-30 16:20:30] (2.4.1.post1) Warning: reference sentiment does not exist or its number 0 is not equal to aspect number 1, text:  [B-ASP]Global Sentiment[E-ASP]    Can't say anything without first thanking Sean for this gem...2012 CFH, gold waxed & capped, poured into a Deschutes tulip. A: Dense opaque black with a soft cap of khaki tan head. S: Intense bourbon and whiskey notes without being extraordinarily boozy...rye whiskey spice as well? Tons and tons of rich sweet milk chocolate, toasted almond, and oak. T: Taste follows the nose with just a bit more booze; bourbon, oak, rich dark chocolate fudge...toasted coconut and almond, strong notes of whiskey accompanies a touch of burn on the throat, with hints of spiced vanilla. MF: Honestly pretty smooth and mellow for a 2012 bottle. Soft carbonation, full bodied, velvety and a bit viscous and coating. O: So tasty! The very best beer I've ever had, something I could drink all of the time even with the moderate-to-strong bourbon presence. IMO, do what you have to to trade for one of these.  \n",
      "[2025-04-30 16:20:30] (2.4.1.post1) Example 0: Can't say anything without first thanking Sean for this gem...2012 CFH, gold waxed & capped, poured into a Deschutes tulip. A: Dense opaque black with a soft cap of khaki tan head. S: Intense bourbon and whiskey notes without being extraordinarily boozy...rye whiskey spice as well? Tons and tons of rich sweet milk chocolate, toasted almond, and oak. T: Taste follows the nose with just a bit more booze; bourbon, oak, rich dark chocolate fudge...toasted coconut and almond, strong notes of whiskey accompanies a touch of burn on the throat, with hints of spiced vanilla. MF: Honestly pretty smooth and mellow for a 2012 bottle. Soft carbonation, full bodied, velvety and a bit viscous and coating. O: So tasty! The very best beer I've ever had, something I could drink all of the time even with the moderate-to-strong bourbon presence. IMO, do what you have to to trade for one of these.\n"
     ]
    },
    {
     "name": "stderr",
     "output_type": "stream",
     "text": [
      " 79%|███████▉  | 79/100 [00:14<00:03,  5.59it/s]"
     ]
    },
    {
     "name": "stdout",
     "output_type": "stream",
     "text": [
      "[2025-04-30 16:20:30] (2.4.1.post1) Warning: reference sentiment does not exist or its number 0 is not equal to aspect number 1, text:  [B-ASP]Global Sentiment[E-ASP]    Tap at New World Tavern in Playmouth, MA. Light fizzy head decent lacing, hazy slight honey carrot orange color. Nose light sour fermented pumpkin, little apple pie spices and nutty, lots of mulling spices which make it pretty aromatic but they seem kinda weird for a lambic, some sour tart funk but light, a bit of a funky gueuze, some light reddish malts. Taste starts with a big pumpkin flavor, tons of pie both pumpkin and Apple pie, Apple pie spices and nutty flavor, some pumpkin pie and fermented pumpkin, plenty of mulling spices, light tart funk gueuze like, semi sweet too. Finish has a bit more tartness, light acidity and little flemmy, nice lambic like tartness, interesting pumpkin and apple. Mouth is med bodied, decent carb bit the bottle is probably better. Light tart flemmy finish. Overall decent, bit too sweet, to much Apple and pie flavors, spices, nuts, etc, the crazy mulling spices make it kinda weird for a lambic, and the sweetness and pie like take it more from a traditional lambic to more of a sweet dessert lambic like a Lindeman's style but still better than that at least. I do give them some credit for a uniqueness of it, actually getting pumpkin into a lambic without it really sucking at least. I'm glad I only paid a few bucks to try this on draft rather than a handful of money for a big bottle that I don't think I could finish by myself. The single glass is hard enough to finish.  \n",
      "[2025-04-30 16:20:31] (2.4.1.post1) Example 0: Tap at New World Tavern in Playmouth, MA. Light fizzy head decent lacing, hazy slight honey carrot orange color. Nose light sour fermented pumpkin, little apple pie spices and nutty, lots of mulling spices which make it pretty aromatic but they seem kinda weird for a lambic, some sour tart funk but light, a bit of a funky gueuze, some light reddish malts. Taste starts with a big pumpkin flavor, tons of pie both pumpkin and Apple pie, Apple pie spices and nutty flavor, some pumpkin pie and fermented pumpkin, plenty of mulling spices, light tart funk gueuze like, semi sweet too. Finish has a bit more tartness, light acidity and little flemmy, nice lambic like tartness, interesting pumpkin and apple. Mouth is med bodied, decent carb bit the bottle is probably better. Light tart flemmy finish. Overall decent, bit too sweet, to much Apple and pie flavors, spices, nuts, etc, the crazy mulling spices make it kinda weird for a lambic, and the sweetness and pie like take it more from a traditional lambic to more of a sweet dessert lambic like a Lindeman's style but still better than that at least. I do give them some credit for a uniqueness of it, actually getting pumpkin into a lambic without it really sucking at least. I'm glad I only paid a few bucks to try this on draft rather than a handful of money for a big bottle that I don't think I could finish by\n"
     ]
    },
    {
     "name": "stderr",
     "output_type": "stream",
     "text": [
      " 80%|████████  | 80/100 [00:15<00:03,  5.53it/s]"
     ]
    },
    {
     "name": "stdout",
     "output_type": "stream",
     "text": [
      "[2025-04-30 16:20:31] (2.4.1.post1) Warning: reference sentiment does not exist or its number 0 is not equal to aspect number 1, text:  [B-ASP]Global Sentiment[E-ASP]    Poured an opaque black with a hint of red, a nice tan head and a decent clingy lace. The head subdued quite quickly, but maintained a fine layer. The aroma was roasted, malty, and of caramel with a background a presence of fruit. The Flavor starts slightly sweet and roasted, but finishes dry and with a lasting bite. The mouth feel is smooth and effervescent, but a little thin, and dry. Admittedly, I am not a huge fan of this style, but I prefer a more dynamic brew that possesses a little more texture and body.  \n",
      "[2025-04-30 16:20:31] (2.4.1.post1) Example 0: Poured an opaque black with a hint of red, a nice tan head and a decent clingy lace. The head subdued quite quickly, but maintained a fine layer. The aroma was roasted, malty, and of caramel with a background a presence of fruit. The Flavor starts slightly sweet and roasted, but finishes dry and with a lasting bite. The mouth feel is smooth and effervescent, but a little thin, and dry. Admittedly, I am not a huge fan of this style, but I prefer a more dynamic brew that possesses a little more texture and body.\n"
     ]
    },
    {
     "name": "stderr",
     "output_type": "stream",
     "text": [
      " 81%|████████  | 81/100 [00:15<00:03,  5.20it/s]"
     ]
    },
    {
     "name": "stdout",
     "output_type": "stream",
     "text": [
      "[2025-04-30 16:20:31] (2.4.1.post1) Warning: reference sentiment does not exist or its number 0 is not equal to aspect number 1, text:  [B-ASP]Global Sentiment[E-ASP]    Sampled March 2007 Pours with a brilliantly clear, copper color and is topped by a frothy, initially three-finger thick, nicely tan colored head. The head creates a rocky surface as it slowly subsides, all the while leaving a nice lacing pattern on the sides of the glass. The aroma is nicely hop focused with notes of spicy herbs, and a full, rich grapefruit citrus character. The citrus is the single most noticeable aspect of the aroma, with maybe just a hint of malt character coming through as well. Hop fruit aromatics of apricot, peaches and some sort of sweet tropical fruit are also noticeable in the nose. A sharp, spicy taste of hops greets my tongue as I first take a sip. Immediately though the citrus character becomes the dominant note; it leans towards sweet citrus fruit like oranges, tangelos, grapefruit and even some smooth tropical fruit notes. The carbonation is fairly low, which makes this very smooth to drink; almost creamy in texture. Caramelized malt notes, a touch of brown sugar, and some light toasted grain character play a supporting role for the dominant hop character. A nice bitterness is here as well, though it is not overly powering; it plays as a nice juxtaposition to the softer, more approachable fruity hop character. This is just a nice easy drinking Pale Ale, I could easily drink a couple pints of this brew. It is so well balanced to be quaffed pint by pint. Perhaps I could wish for a bit more chewy malt body here, but that would keep it from being so drinkable. I am a sucker for the fruity, smooth hop varieties right now (in this case Amarillo) so this Pale Ale is right up my alley.  \n",
      "[2025-04-30 16:20:31] (2.4.1.post1) Example 0: Sampled March 2007 Pours with a brilliantly clear, copper color and is topped by a frothy, initially three-finger thick, nicely tan colored head. The head creates a rocky surface as it slowly subsides, all the while leaving a nice lacing pattern on the sides of the glass. The aroma is nicely hop focused with notes of spicy herbs, and a full, rich grapefruit citrus character. The citrus is the single most noticeable aspect of the aroma, with maybe just a hint of malt character coming through as well. Hop fruit aromatics of apricot, peaches and some sort of sweet tropical fruit are also noticeable in the nose. A sharp, spicy taste of hops greets my tongue as I first take a sip. Immediately though the citrus character becomes the dominant note; it leans towards sweet citrus fruit like oranges, tangelos, grapefruit and even some smooth tropical fruit notes. The carbonation is fairly low, which makes this very smooth to drink; almost creamy in texture. Caramelized malt notes, a touch of brown sugar, and some light toasted grain character play a supporting role for the dominant hop character. A nice bitterness is here as well, though it is not overly powering; it plays as a nice juxtaposition to the softer, more approachable fruity hop character. This is just a nice easy drinking Pale Ale, I could easily drink a couple pints of this brew. It is so well balanced to be quaffed pint by pint. Perhaps I could\n"
     ]
    },
    {
     "name": "stderr",
     "output_type": "stream",
     "text": [
      " 82%|████████▏ | 82/100 [00:15<00:03,  5.31it/s]"
     ]
    },
    {
     "name": "stdout",
     "output_type": "stream",
     "text": [
      "[2025-04-30 16:20:31] (2.4.1.post1) Warning: reference sentiment does not exist or its number 0 is not equal to aspect number 1, text:  [B-ASP]Global Sentiment[E-ASP]    Snagged a six pack at the local Kroger in Collierville. Typical amber color. Not much smell and a thin head. Tastes like a run of the mill pale ale with a hint of hops. Carbonation is appropriate. Drinkable and my guess is the ABV is pretty standard. Not bad but not good. Cheers.  \n",
      "[2025-04-30 16:20:31] (2.4.1.post1) Example 0: Snagged a six pack at the local Kroger in Collierville. Typical amber color. Not much smell and a thin head. Tastes like a run of the mill pale ale with a hint of hops. Carbonation is appropriate. Drinkable and my guess is the ABV is pretty standard. Not bad but not good. Cheers.\n"
     ]
    },
    {
     "name": "stderr",
     "output_type": "stream",
     "text": [
      " 83%|████████▎ | 83/100 [00:15<00:03,  5.39it/s]"
     ]
    },
    {
     "name": "stdout",
     "output_type": "stream",
     "text": [
      "[2025-04-30 16:20:31] (2.4.1.post1) Warning: reference sentiment does not exist or its number 0 is not equal to aspect number 1, text:  [B-ASP]Global Sentiment[E-ASP]    Pale, cloudy yellow, with rich ample white foam. Modest, but attractive lacing. Nose is yeasty, bready. Not bad at all. Taste is fairly typical lager, though substantially more flavorful than most. Again, as with the aroma, I get yeast and crusty bread. Malty but not too simple or flat. This one proved crisp and refreshing, and among the better lagers I've had lately.  \n",
      "[2025-04-30 16:20:31] (2.4.1.post1) Example 0: Pale, cloudy yellow, with rich ample white foam. Modest, but attractive lacing. Nose is yeasty, bready. Not bad at all. Taste is fairly typical lager, though substantially more flavorful than most. Again, as with the aroma, I get yeast and crusty bread. Malty but not too simple or flat. This one proved crisp and refreshing, and among the better lagers I've had lately.\n"
     ]
    },
    {
     "name": "stderr",
     "output_type": "stream",
     "text": [
      " 84%|████████▍ | 84/100 [00:15<00:02,  5.46it/s]"
     ]
    },
    {
     "name": "stdout",
     "output_type": "stream",
     "text": [
      "[2025-04-30 16:20:31] (2.4.1.post1) Warning: reference sentiment does not exist or its number 0 is not equal to aspect number 1, text:  [B-ASP]Global Sentiment[E-ASP]    We don’t get to RB often, but I’m always pleased with everything. The foods good, not great, and same with the beer. L (4) – Wicked Elf is a nice dark orange/amber color. Looks inviting enough. S (4.25) – Definitely smell the hops. Doesn’t smell especially piney or citrusey, but good. T (4.25) – This beer tastes pretty good. Not super malty, and not much spice going on. I get more of a piney hop taste compared to the citrus ones. A nice piney hop aftertaste too. I like. F (4) – This type of beer doesn’t have a lot to say about mouthfeel IMO. It’s light, carbed right, and not overly anything. But that’s how I want this type of beer to be. O (4.25) – Not sure how true to the style this beer was, but it was tasty. It isn’t high IBU and it isn’t high ABV. Just a nice, pleasant beer to have with dinner. Would drink again.  \n",
      "[2025-04-30 16:20:32] (2.4.1.post1) Example 0: We don’t get to RB often, but I’m always pleased with everything. The foods good, not great, and same with the beer. L (4) – Wicked Elf is a nice dark orange/amber color. Looks inviting enough. S (4.25) – Definitely smell the hops. Doesn’t smell especially piney or citrusey, but good. T (4.25) – This beer tastes pretty good. Not super malty, and not much spice going on. I get more of a piney hop taste compared to the citrus ones. A nice piney hop aftertaste too. I like. F (4) – This type of beer doesn’t have a lot to say about mouthfeel IMO. It’s light, carbed right, and not overly anything. But that’s how I want this type of beer to be. O (4.25) – Not sure how true to the style this beer was, but it was tasty. It isn’t high IBU and it isn’t high ABV. Just a nice, pleasant beer to have with dinner. Would drink again.\n"
     ]
    },
    {
     "name": "stderr",
     "output_type": "stream",
     "text": [
      " 85%|████████▌ | 85/100 [00:16<00:02,  5.50it/s]"
     ]
    },
    {
     "name": "stdout",
     "output_type": "stream",
     "text": [
      "[2025-04-30 16:20:32] (2.4.1.post1) Warning: reference sentiment does not exist or its number 0 is not equal to aspect number 1, text:  [B-ASP]Global Sentiment[E-ASP]    Thanks to wcudwight for sharing his bomber. The appearance is a deep red brew with a thick creamy head riding on top. There is some lacing in the glass. Beers just don't look much better than this. A well deserved 5. The smell was really hard to pick up on in this beer. Some hoppiness but overall, no real powerfull smell. The taste was damn fine. There was a nice hop bitterness that was just right. There was a red ale nature to this beer as well. The mouthfeel was smooth. No overpowering notes of any type. Balanced. The drinkability was superb. The higher ABV was so well hidden it may lead you to think this beer would session easy. A big beer that does not act big. This beer has fanfare and now I see why. This is unlike any other IPA I have had.  \n",
      "[2025-04-30 16:20:32] (2.4.1.post1) Example 0: Thanks to wcudwight for sharing his bomber. The appearance is a deep red brew with a thick creamy head riding on top. There is some lacing in the glass. Beers just don't look much better than this. A well deserved 5. The smell was really hard to pick up on in this beer. Some hoppiness but overall, no real powerfull smell. The taste was damn fine. There was a nice hop bitterness that was just right. There was a red ale nature to this beer as well. The mouthfeel was smooth. No overpowering notes of any type. Balanced. The drinkability was superb. The higher ABV was so well hidden it may lead you to think this beer would session easy. A big beer that does not act big. This beer has fanfare and now I see why. This is unlike any other IPA I have had.\n"
     ]
    },
    {
     "name": "stderr",
     "output_type": "stream",
     "text": [
      " 86%|████████▌ | 86/100 [00:16<00:02,  5.42it/s]"
     ]
    },
    {
     "name": "stdout",
     "output_type": "stream",
     "text": [
      "[2025-04-30 16:20:32] (2.4.1.post1) Warning: reference sentiment does not exist or its number 0 is not equal to aspect number 1, text:  [B-ASP]Global Sentiment[E-ASP]    A - Pours with a very thin head, less than a finger, that dissipates quickly. Translucent with a golden reddish brown. S - An interesting combination. A mild mix of bourbon and vanilla with a touch of malt. T - The bourbon and vanilla are at the forefront with the bourbon fading out in favor of strong malt and vanilla notes at the finish. M - Carbonation is minimal. Finishes mostly clean, leaves behind a pleasant sweet aftertaste (like a shot of a sweeter whiskey). D - Definitely worth a try and maybe a second round, but beyond two in a row the taste will be overpowering and the aftertaste might stick around for longer than you might like.  \n",
      "[2025-04-30 16:20:32] (2.4.1.post1) Example 0: A - Pours with a very thin head, less than a finger, that dissipates quickly. Translucent with a golden reddish brown. S - An interesting combination. A mild mix of bourbon and vanilla with a touch of malt. T - The bourbon and vanilla are at the forefront with the bourbon fading out in favor of strong malt and vanilla notes at the finish. M - Carbonation is minimal. Finishes mostly clean, leaves behind a pleasant sweet aftertaste (like a shot of a sweeter whiskey). D - Definitely worth a try and maybe a second round, but beyond two in a row the taste will be overpowering and the aftertaste might stick around for longer than you might like.\n"
     ]
    },
    {
     "name": "stderr",
     "output_type": "stream",
     "text": [
      " 87%|████████▋ | 87/100 [00:16<00:02,  5.30it/s]"
     ]
    },
    {
     "name": "stdout",
     "output_type": "stream",
     "text": [
      "[2025-04-30 16:20:32] (2.4.1.post1) Warning: reference sentiment does not exist or its number 0 is not equal to aspect number 1, text:  [B-ASP]Global Sentiment[E-ASP]    Big dark bready style of pour, aroma was much the same way. Lots of prune in it. Taste, reminiscient of those shitty fruitcakes your aunt would bring to the holidays. Lots of spice rack and clove here, dark fruit notes all over it, rye bread. I'm glad they like it, but I just can't get into this style of beer.  \n",
      "[2025-04-30 16:20:32] (2.4.1.post1) Example 0: Big dark bready style of pour, aroma was much the same way. Lots of prune in it. Taste, reminiscient of those shitty fruitcakes your aunt would bring to the holidays. Lots of spice rack and clove here, dark fruit notes all over it, rye bread. I'm glad they like it, but I just can't get into this style of beer.\n"
     ]
    },
    {
     "name": "stderr",
     "output_type": "stream",
     "text": [
      " 88%|████████▊ | 88/100 [00:16<00:02,  5.34it/s]"
     ]
    },
    {
     "name": "stdout",
     "output_type": "stream",
     "text": [
      "[2025-04-30 16:20:32] (2.4.1.post1) Warning: reference sentiment does not exist or its number 0 is not equal to aspect number 1, text:  [B-ASP]Global Sentiment[E-ASP]    A - Orangish amber with a nice cloud like head... Attractive carbonation... S - Wheat... Spices... Citrus... Malt... Nice aroma, but too faint... T - Wheat and spices... Perhaps a hint of citrus... M - Light and creamy texture... Crisp and refreshing... D - Refreshing... I'm not a big fan of \"summer brews,\" but this one isn't too shabby and has some redeeming qualities... A little more aroma and taste would have helped out...  \n",
      "[2025-04-30 16:20:32] (2.4.1.post1) Example 0: A - Orangish amber with a nice cloud like head... Attractive carbonation... S - Wheat... Spices... Citrus... Malt... Nice aroma, but too faint... T - Wheat and spices... Perhaps a hint of citrus... M - Light and creamy texture... Crisp and refreshing... D - Refreshing... I'm not a big fan of \"summer brews,\" but this one isn't too shabby and has some redeeming qualities... A little more aroma and taste would have helped out...\n"
     ]
    },
    {
     "name": "stderr",
     "output_type": "stream",
     "text": [
      " 89%|████████▉ | 89/100 [00:16<00:02,  5.05it/s]"
     ]
    },
    {
     "name": "stdout",
     "output_type": "stream",
     "text": [
      "[2025-04-30 16:20:32] (2.4.1.post1) Warning: reference sentiment does not exist or its number 0 is not equal to aspect number 1, text:  [B-ASP]Global Sentiment[E-ASP]    Pours hazy orange in color. Smell is big peach with a hint of funk. Funk is more present in the flavor. Not much residual sweetness but not overly dry. Alcohol VERY well hidden. Light bodied in spite of strength. Funky peach juice. More funk would be great, but very nice drinking beer that tells you exactly what it is.  \n",
      "[2025-04-30 16:20:33] (2.4.1.post1) Example 0: Pours hazy orange in color. Smell is big peach with a hint of funk. Funk is more present in the flavor. Not much residual sweetness but not overly dry. Alcohol VERY well hidden. Light bodied in spite of strength. Funky peach juice. More funk would be great, but very nice drinking beer that tells you exactly what it is.\n"
     ]
    },
    {
     "name": "stderr",
     "output_type": "stream",
     "text": [
      " 90%|█████████ | 90/100 [00:17<00:01,  5.24it/s]"
     ]
    },
    {
     "name": "stdout",
     "output_type": "stream",
     "text": [
      "[2025-04-30 16:20:33] (2.4.1.post1) Warning: reference sentiment does not exist or its number 0 is not equal to aspect number 1, text:  [B-ASP]Global Sentiment[E-ASP]    On tap at The Shack in Cypress TX. I had just had a Firestone Walker Union Jack and told my server we might as well shift gears and try a stout or something because I knew he wouldn't be able to bring me an IPA that I liked better. He asked me if I had had a Yellow Rose and when I said \"no\", he twisted my arm a little and I said \"bring it on\", though I doubted it would be as good as he said. Beautiful color and head and a nose that is amazing. The hops flavors explode in my mouth like fireworks. Now THAT is an IPA. Very pine-y but grapefruit as well. Definitely some dank, earthy notes around the edges. Perfect balance, perfect carbonation...this is just about perfection for me. Never rated a beer a perfect 5 but what part of this masterpiece isn't perfect? And it's all from one malt and one hop... amazing!  \n",
      "[2025-04-30 16:20:33] (2.4.1.post1) Example 0: On tap at The Shack in Cypress TX. I had just had a Firestone Walker Union Jack and told my server we might as well shift gears and try a stout or something because I knew he wouldn't be able to bring me an IPA that I liked better. He asked me if I had had a Yellow Rose and when I said \"no\", he twisted my arm a little and I said \"bring it on\", though I doubted it would be as good as he said. Beautiful color and head and a nose that is amazing. The hops flavors explode in my mouth like fireworks. Now THAT is an IPA. Very pine-y but grapefruit as well. Definitely some dank, earthy notes around the edges. Perfect balance, perfect carbonation...this is just about perfection for me. Never rated a beer a perfect 5 but what part of this masterpiece isn't perfect? And it's all from one malt and one hop... amazing!\n"
     ]
    },
    {
     "name": "stderr",
     "output_type": "stream",
     "text": [
      " 91%|█████████ | 91/100 [00:17<00:01,  5.32it/s]"
     ]
    },
    {
     "name": "stdout",
     "output_type": "stream",
     "text": [
      "[2025-04-30 16:20:33] (2.4.1.post1) Warning: reference sentiment does not exist or its number 0 is not equal to aspect number 1, text:  [B-ASP]Global Sentiment[E-ASP]    Im not much of a pale ale guy usually but, damnit, Alesmith won me over with this one. This beer is basically a staple anywhere you go in SD, thanks mostly to the Tony Gwynn association but even without the local plug, its a pretty fantastic beer. The ABV sits at 6% which is the sweet spot for a pale. Its not overly hoppy, not too sweet, perfectly crisp and not heavy at all. This beer holds up any season of the year.  \n",
      "[2025-04-30 16:20:33] (2.4.1.post1) Example 0: Im not much of a pale ale guy usually but, damnit, Alesmith won me over with this one. This beer is basically a staple anywhere you go in SD, thanks mostly to the Tony Gwynn association but even without the local plug, its a pretty fantastic beer. The ABV sits at 6% which is the sweet spot for a pale. Its not overly hoppy, not too sweet, perfectly crisp and not heavy at all. This beer holds up any season of the year.\n"
     ]
    },
    {
     "name": "stderr",
     "output_type": "stream",
     "text": [
      " 92%|█████████▏| 92/100 [00:17<00:01,  5.41it/s]"
     ]
    },
    {
     "name": "stdout",
     "output_type": "stream",
     "text": [
      "[2025-04-30 16:20:33] (2.4.1.post1) Warning: reference sentiment does not exist or its number 0 is not equal to aspect number 1, text:  [B-ASP]Global Sentiment[E-ASP]    750 ml bottle served in a Chouffe tulip. Batch #31 A: Pours a dark pink, grapefruit color with a light pinkish head rising up quickly on the pour. it recedes to a bubble film and thin ring. S: Unfortunately there is heavy rancid cheese and buttery notes up front. I do get a hint of tart blueberry behind all that, but the nose on the pour is very heavy on the funky notes. T: Tart blueberry with a light cracked wheat. The buttery and blue cheese flavors are only there in the slight bit in the finish. M: Light bodied with a nice prickly carb. Slightly oily with a pungent aftertaste. O: Well it was definitely heavy on the off flavors of blue cheese and buttery funk. This did not work, but I have faith the boys can correct the mistakes on their second attempt at Berliner.  \n",
      "[2025-04-30 16:20:33] (2.4.1.post1) Example 0: 750 ml bottle served in a Chouffe tulip. Batch #31 A: Pours a dark pink, grapefruit color with a light pinkish head rising up quickly on the pour. it recedes to a bubble film and thin ring. S: Unfortunately there is heavy rancid cheese and buttery notes up front. I do get a hint of tart blueberry behind all that, but the nose on the pour is very heavy on the funky notes. T: Tart blueberry with a light cracked wheat. The buttery and blue cheese flavors are only there in the slight bit in the finish. M: Light bodied with a nice prickly carb. Slightly oily with a pungent aftertaste. O: Well it was definitely heavy on the off flavors of blue cheese and buttery funk. This did not work, but I have faith the boys can correct the mistakes on their second attempt at Berliner.\n"
     ]
    },
    {
     "name": "stderr",
     "output_type": "stream",
     "text": [
      " 93%|█████████▎| 93/100 [00:17<00:01,  5.45it/s]"
     ]
    },
    {
     "name": "stdout",
     "output_type": "stream",
     "text": [
      "[2025-04-30 16:20:33] (2.4.1.post1) Warning: reference sentiment does not exist or its number 0 is not equal to aspect number 1, text:  [B-ASP]Global Sentiment[E-ASP]    During my vacation trip to Florida, I was very eager to get my hands on some Cigar City beers, as we only get a few in VA. 12 oz can poured into a cylinder glass. Dark brown color, nice head on the beer. Nice hints of chocolate and espresso, flavors I commonly find in porters and stouts. This is an outstanding brown ale.  \n",
      "[2025-04-30 16:20:33] (2.4.1.post1) Example 0: During my vacation trip to Florida, I was very eager to get my hands on some Cigar City beers, as we only get a few in VA. 12 oz can poured into a cylinder glass. Dark brown color, nice head on the beer. Nice hints of chocolate and espresso, flavors I commonly find in porters and stouts. This is an outstanding brown ale.\n"
     ]
    },
    {
     "name": "stderr",
     "output_type": "stream",
     "text": [
      " 94%|█████████▍| 94/100 [00:17<00:01,  5.48it/s]"
     ]
    },
    {
     "name": "stdout",
     "output_type": "stream",
     "text": [
      "[2025-04-30 16:20:33] (2.4.1.post1) Warning: reference sentiment does not exist or its number 0 is not equal to aspect number 1, text:  [B-ASP]Global Sentiment[E-ASP]    22oz bottle into SN imperial pint glass. A: Pours a light golden-amber with a thin white head that quickly faded into a fuzzy scum that left a complex network of lacing down the glass. S: Orange blossom honey dominates along with a good dose of bready yeast and pale malt. T: Sweet notes of pale malts and cracked grains mixed with orange zest, orange blossom honey and a bit dry biscuit-like yeast dominate but I get some coriander as well. The finish has a touch sugary sweetness and the finish is full of sweet orange. M: Slick and drying mouthfeel, medium-light body with thin carbonation. O: A little sweet but I was really digging the flavor. Pretty good mouthfeel and overall refreshing and easy to drink. Far from my favorite Alpine beer but not bad all around.  \n",
      "[2025-04-30 16:20:33] (2.4.1.post1) Example 0: 22oz bottle into SN imperial pint glass. A: Pours a light golden-amber with a thin white head that quickly faded into a fuzzy scum that left a complex network of lacing down the glass. S: Orange blossom honey dominates along with a good dose of bready yeast and pale malt. T: Sweet notes of pale malts and cracked grains mixed with orange zest, orange blossom honey and a bit dry biscuit-like yeast dominate but I get some coriander as well. The finish has a touch sugary sweetness and the finish is full of sweet orange. M: Slick and drying mouthfeel, medium-light body with thin carbonation. O: A little sweet but I was really digging the flavor. Pretty good mouthfeel and overall refreshing and easy to drink. Far from my favorite Alpine beer but not bad all around.\n"
     ]
    },
    {
     "name": "stderr",
     "output_type": "stream",
     "text": [
      " 95%|█████████▌| 95/100 [00:17<00:00,  5.49it/s]"
     ]
    },
    {
     "name": "stdout",
     "output_type": "stream",
     "text": [
      "[2025-04-30 16:20:33] (2.4.1.post1) Warning: reference sentiment does not exist or its number 0 is not equal to aspect number 1, text:  [B-ASP]Global Sentiment[E-ASP]    Had with Korean BBQ; was recommended by our waitress as being the \"better korean beer.\" Can't say this beer made me proud to be Korean. a: poured with nice ~1inch head. Light golden color. s: very subtle malty sweets. t: you won't find much flavor here. Malty with smidge of flat hops. Though, taste is non-obtrusive and actually went well with the BBQ. m: very clean and refreshing. Highly carbonated. I think its mouthfeel really saved this beer from being horrible. d: Isn't much of a beer (btw; the menu in the restaurant lists Soju in Korean with English translation \"hard liquor\")...but it's definitely drinkable.  \n",
      "[2025-04-30 16:20:34] (2.4.1.post1) Example 0: Had with Korean BBQ; was recommended by our waitress as being the \"better korean beer.\" Can't say this beer made me proud to be Korean. a: poured with nice ~1inch head. Light golden color. s: very subtle malty sweets. t: you won't find much flavor here. Malty with smidge of flat hops. Though, taste is non-obtrusive and actually went well with the BBQ. m: very clean and refreshing. Highly carbonated. I think its mouthfeel really saved this beer from being horrible. d: Isn't much of a beer (btw; the menu in the restaurant lists Soju in Korean with English translation \"hard liquor\")...but it's definitely drinkable.\n"
     ]
    },
    {
     "name": "stderr",
     "output_type": "stream",
     "text": [
      " 96%|█████████▌| 96/100 [00:18<00:00,  5.52it/s]"
     ]
    },
    {
     "name": "stdout",
     "output_type": "stream",
     "text": [
      "[2025-04-30 16:20:34] (2.4.1.post1) Warning: reference sentiment does not exist or its number 0 is not equal to aspect number 1, text:  [B-ASP]Global Sentiment[E-ASP]    22oz bottle poured into a tulip glass. Pours a jet black with 2+ fingers of brown high density head with good retention and some lacing. Nose is dominated by chocolate as expected, with subtle contributions from roasted malt. Taste wasn't as dynamic as I'd hoped. Mostly chocolate, bitter, a little caramel and some burnt attributes. Mouthfeel is good bodied, carbonation was a bit on the higher side, and a finish that is bitter a little dry and lingers. Enjoyable, but definitely not my favorite chocolate oatmeal stout.  \n",
      "[2025-04-30 16:20:34] (2.4.1.post1) Example 0: 22oz bottle poured into a tulip glass. Pours a jet black with 2+ fingers of brown high density head with good retention and some lacing. Nose is dominated by chocolate as expected, with subtle contributions from roasted malt. Taste wasn't as dynamic as I'd hoped. Mostly chocolate, bitter, a little caramel and some burnt attributes. Mouthfeel is good bodied, carbonation was a bit on the higher side, and a finish that is bitter a little dry and lingers. Enjoyable, but definitely not my favorite chocolate oatmeal stout.\n"
     ]
    },
    {
     "name": "stderr",
     "output_type": "stream",
     "text": [
      " 97%|█████████▋| 97/100 [00:18<00:00,  5.13it/s]"
     ]
    },
    {
     "name": "stdout",
     "output_type": "stream",
     "text": [
      "[2025-04-30 16:20:34] (2.4.1.post1) Warning: reference sentiment does not exist or its number 0 is not equal to aspect number 1, text:  [B-ASP]Global Sentiment[E-ASP]    Bottled in September of 2008. Pours thickly veiled brown with yellow-tan highlights -- almost like the inside of an overripe plum. Modest head dissipates to a fine surface film. Smells of prune, plum, banana, a little bit of cherry-tinged funk. Comes together to smell a bit like unsweetened purple grape juice. The smell is a true harbinger of the taste: deep plum and light caramel flavors form the backbone as banana and subtle cherry tart notes take turns. The light tartness builds a bit and ends up being the last note at the finish line. Lots of subtle complexity here for the style: no one flavor dominates or speaks out of turn. Very drinkable in that you can keep discovering new flavors over multiple servings. A real standout in the Belgian brown class.  \n",
      "[2025-04-30 16:20:34] (2.4.1.post1) Example 0: Bottled in September of 2008. Pours thickly veiled brown with yellow-tan highlights -- almost like the inside of an overripe plum. Modest head dissipates to a fine surface film. Smells of prune, plum, banana, a little bit of cherry-tinged funk. Comes together to smell a bit like unsweetened purple grape juice. The smell is a true harbinger of the taste: deep plum and light caramel flavors form the backbone as banana and subtle cherry tart notes take turns. The light tartness builds a bit and ends up being the last note at the finish line. Lots of subtle complexity here for the style: no one flavor dominates or speaks out of turn. Very drinkable in that you can keep discovering new flavors over multiple servings. A real standout in the Belgian brown class.\n"
     ]
    },
    {
     "name": "stderr",
     "output_type": "stream",
     "text": [
      " 98%|█████████▊| 98/100 [00:18<00:00,  5.11it/s]"
     ]
    },
    {
     "name": "stdout",
     "output_type": "stream",
     "text": [
      "[2025-04-30 16:20:34] (2.4.1.post1) Warning: reference sentiment does not exist or its number 0 is not equal to aspect number 1, text:  [B-ASP]Global Sentiment[E-ASP]    this dubbel is mahogany in colour with a minimal head and no lace... it has super fast little carbonation bubbles...the nose holds spice and a rich malted aroma...smells somewhat vinous and dark fruit charactered with yeast inflections...the flavour is that of a dominant malt base with spicery and vinous impressions...yeasty tones as if bottle refermented...mouthfeel is not overly robust and tips in at the fat end of lightness approaching medium...drinkability is good as this is quite the mild little creation...finish is super clean as the label proclaims...I would go so far as to designate it as sessionable if one were to see fit as an admirer of the style... quite pleasant...nothing mind blowing at all, but solid...first Allagash for me...not the last...  \n",
      "[2025-04-30 16:20:34] (2.4.1.post1) Example 0: this dubbel is mahogany in colour with a minimal head and no lace... it has super fast little carbonation bubbles...the nose holds spice and a rich malted aroma...smells somewhat vinous and dark fruit charactered with yeast inflections...the flavour is that of a dominant malt base with spicery and vinous impressions...yeasty tones as if bottle refermented...mouthfeel is not overly robust and tips in at the fat end of lightness approaching medium...drinkability is good as this is quite the mild little creation...finish is super clean as the label proclaims...I would go so far as to designate it as sessionable if one were to see fit as an admirer of the style... quite pleasant...nothing mind blowing at all, but solid...first Allagash for me...not the last...\n"
     ]
    },
    {
     "name": "stderr",
     "output_type": "stream",
     "text": [
      " 99%|█████████▉| 99/100 [00:18<00:00,  5.26it/s]"
     ]
    },
    {
     "name": "stdout",
     "output_type": "stream",
     "text": [
      "[2025-04-30 16:20:34] (2.4.1.post1) Warning: reference sentiment does not exist or its number 0 is not equal to aspect number 1, text:  [B-ASP]Global Sentiment[E-ASP]    473 ml can, from LCBO. Pours a very lightly hazed dark orange, some copper highlights, nice and thick white head forms, slowly settles down to a thick ring, some lace chunks stick to the glass. Smell is nice, very malty, signature Creemore breadiness, some toasty malts and caramel, earthy, some floral, nice light citrus hops, grassy, lightly solvent, but smells good. Taste is similar, dry and toasty up front, bready, caramel sweetness through the middle, very grassy hops, some citrus and floral, touch of fruit in the finish, almost a little tannic and grapey, nice dry finish, solid bitterness. Mouthfeel is light bodied with low to medium carbonation, just right. Nice lager with some great character. Looking forward to the hoppier batch 2.  \n",
      "[2025-04-30 16:20:34] (2.4.1.post1) Example 0: 473 ml can, from LCBO. Pours a very lightly hazed dark orange, some copper highlights, nice and thick white head forms, slowly settles down to a thick ring, some lace chunks stick to the glass. Smell is nice, very malty, signature Creemore breadiness, some toasty malts and caramel, earthy, some floral, nice light citrus hops, grassy, lightly solvent, but smells good. Taste is similar, dry and toasty up front, bready, caramel sweetness through the middle, very grassy hops, some citrus and floral, touch of fruit in the finish, almost a little tannic and grapey, nice dry finish, solid bitterness. Mouthfeel is light bodied with low to medium carbonation, just right. Nice lager with some great character. Looking forward to the hoppier batch 2.\n"
     ]
    },
    {
     "name": "stderr",
     "output_type": "stream",
     "text": [
      "100%|██████████| 100/100 [00:18<00:00,  5.29it/s]\n"
     ]
    },
    {
     "name": "stdout",
     "output_type": "stream",
     "text": [
      "\n",
      "Processing aspect: taste\n"
     ]
    },
    {
     "name": "stderr",
     "output_type": "stream",
     "text": [
      "  0%|          | 0/100 [00:00<?, ?it/s]"
     ]
    },
    {
     "name": "stdout",
     "output_type": "stream",
     "text": [
      "[2025-04-30 16:20:34] (2.4.1.post1) Warning: reference sentiment does not exist or its number 0 is not equal to aspect number 1, text:  [B-ASP]Global Sentiment[E-ASP]    0%\n",
      "[2025-04-30 16:20:35] (2.4.1.post1) Example 0: 0%\n"
     ]
    },
    {
     "name": "stderr",
     "output_type": "stream",
     "text": [
      "  1%|          | 1/100 [00:00<00:17,  5.53it/s]"
     ]
    },
    {
     "name": "stdout",
     "output_type": "stream",
     "text": [
      "[2025-04-30 16:20:35] (2.4.1.post1) Warning: reference sentiment does not exist or its number 0 is not equal to aspect number 1, text:  [B-ASP]Global Sentiment[E-ASP]    Can: Poured a clear amber color le with a nice large off-white foamy head with good retention and some lacing. Aroma of dank hoppy notes with some fruity ester and light caramel notes is quite enticing. Taste is a nice mix between some dank hoppy notes with some fruity ester and some dry caramel notes. Body is about average with good carbonation. Solid amber ale with plenty of character.  \n",
      "[2025-04-30 16:20:35] (2.4.1.post1) Example 0: Can: Poured a clear amber color le with a nice large off-white foamy head with good retention and some lacing. Aroma of dank hoppy notes with some fruity ester and light caramel notes is quite enticing. Taste is a nice mix between some dank hoppy notes with some fruity ester and some dry caramel notes. Body is about average with good carbonation. Solid amber ale with plenty of character.\n"
     ]
    },
    {
     "name": "stderr",
     "output_type": "stream",
     "text": [
      "  2%|▏         | 2/100 [00:00<00:17,  5.54it/s]"
     ]
    },
    {
     "name": "stdout",
     "output_type": "stream",
     "text": [
      "[2025-04-30 16:20:35] (2.4.1.post1) Warning: reference sentiment does not exist or its number 0 is not equal to aspect number 1, text:  [B-ASP]Global Sentiment[E-ASP]    L - \"oat cream IPA\". Jesus, OH, why you do this to me? Pours a flat, banana cream yellow. Thick haze with a whitish milky murk. S - grapefruit zest pops up front. Spicy lime and a marshmallow sugary sweetness, although that's subtle. T - green melon rind and soft, supple oaty creaminess. More lime and tangerine dream. It's got that zesty twang balanced by the luscious oats. Finishes mildly acidic with some serious hop bite. F - minimal carbonation until the very end when a little bit of foam crops up. Feel is generally medium-bodied and slick on the tongue. Smooth. O - I wanted to like this a lot more than I did, but it's still a great beer. More zest than cream, which is great in its own right, just not what's advertised on the tin!  \n",
      "[2025-04-30 16:20:35] (2.4.1.post1) Example 0: L - \"oat cream IPA\". Jesus, OH, why you do this to me? Pours a flat, banana cream yellow. Thick haze with a whitish milky murk. S - grapefruit zest pops up front. Spicy lime and a marshmallow sugary sweetness, although that's subtle. T - green melon rind and soft, supple oaty creaminess. More lime and tangerine dream. It's got that zesty twang balanced by the luscious oats. Finishes mildly acidic with some serious hop bite. F - minimal carbonation until the very end when a little bit of foam crops up. Feel is generally medium-bodied and slick on the tongue. Smooth. O - I wanted to like this a lot more than I did, but it's still a great beer. More zest than cream, which is great in its own right, just not what's advertised on the tin!\n"
     ]
    },
    {
     "name": "stderr",
     "output_type": "stream",
     "text": [
      "  3%|▎         | 3/100 [00:00<00:19,  4.97it/s]"
     ]
    },
    {
     "name": "stdout",
     "output_type": "stream",
     "text": [
      "[2025-04-30 16:20:35] (2.4.1.post1) Warning: reference sentiment does not exist or its number 0 is not equal to aspect number 1, text:  [B-ASP]Global Sentiment[E-ASP]    Draft into a Samichlaus snifter. A: Orange - red - hazey - very pretty - thin head, slight lacing. S: Vanilla, nutty, musty. T: Some roasted nuts, earthy malts, oak. M: Thin, lightly carbonated. O: I got it on draft for $3 and was not impressed. I'm a big fan of barrel aged beers, but this one didn't gain many interesting characteristics from the barrels it was stored in. Don't go out of your way for this one.  \n",
      "[2025-04-30 16:20:35] (2.4.1.post1) Example 0: Draft into a Samichlaus snifter. A: Orange - red - hazey - very pretty - thin head, slight lacing. S: Vanilla, nutty, musty. T: Some roasted nuts, earthy malts, oak. M: Thin, lightly carbonated. O: I got it on draft for $3 and was not impressed. I'm a big fan of barrel aged beers, but this one didn't gain many interesting characteristics from the barrels it was stored in. Don't go out of your way for this one.\n"
     ]
    },
    {
     "name": "stderr",
     "output_type": "stream",
     "text": [
      "  4%|▍         | 4/100 [00:00<00:18,  5.19it/s]"
     ]
    },
    {
     "name": "stdout",
     "output_type": "stream",
     "text": [
      "[2025-04-30 16:20:35] (2.4.1.post1) Warning: reference sentiment does not exist or its number 0 is not equal to aspect number 1, text:  [B-ASP]Global Sentiment[E-ASP]    Deschutes took Chicago by storm this past month, and I was lucky to go to numerous tasting sessions that had all their brews out. I feel that I was trying too many brews at once to give it a full review, so now I got a sixer and see how this pale ale is on my palate. A- Bright, transparent, sort of a blood orange type of hue. Lots of head retention that is nice and frothy. Lots of lacing is left behind. S- Such a wonderful tangerine smell, with copious amount of honey that make this smell so sweet. Lastly you smell a light malt smell that goes great with the honey. You can barely smell any hops here, as some pine barely makes it through. T- Initial light bitter, piney hops, that turns right into a sweet malt flavor that dominates my palate. I love malty beers so I may be biased. Tastes of honey biscuit, tangerine, and light grapefruit just come together to make a very solid beer. S- Light body and light carbonation makes this beer go down fast. O- I know hops are the craze nowadays, but this is my go to APA. This beer goes back to the basics with light amounts of hops and a nice sweet taste that goes down great.  \n",
      "[2025-04-30 16:20:35] (2.4.1.post1) Example 0: Deschutes took Chicago by storm this past month, and I was lucky to go to numerous tasting sessions that had all their brews out. I feel that I was trying too many brews at once to give it a full review, so now I got a sixer and see how this pale ale is on my palate. A- Bright, transparent, sort of a blood orange type of hue. Lots of head retention that is nice and frothy. Lots of lacing is left behind. S- Such a wonderful tangerine smell, with copious amount of honey that make this smell so sweet. Lastly you smell a light malt smell that goes great with the honey. You can barely smell any hops here, as some pine barely makes it through. T- Initial light bitter, piney hops, that turns right into a sweet malt flavor that dominates my palate. I love malty beers so I may be biased. Tastes of honey biscuit, tangerine, and light grapefruit just come together to make a very solid beer. S- Light body and light carbonation makes this beer go down fast. O- I know hops are the craze nowadays, but this is my go to APA. This beer goes back to the basics with light amounts of hops and a nice sweet taste that goes down great.\n"
     ]
    },
    {
     "name": "stderr",
     "output_type": "stream",
     "text": [
      "  5%|▌         | 5/100 [00:00<00:17,  5.32it/s]"
     ]
    },
    {
     "name": "stdout",
     "output_type": "stream",
     "text": [
      "[2025-04-30 16:20:35] (2.4.1.post1) Warning: reference sentiment does not exist or its number 0 is not equal to aspect number 1, text:  [B-ASP]Global Sentiment[E-ASP]    12-ounce bottle poured into a pint willi glass yields a clear bronze body capped with two fingers of soft white foam that holds at a fat sheet and leaves scattered scraps of lacing on the glass. Smell is softly malty with a twist of lemon and a spicy note. Taste is toasty malts and a bit nutty with a rush of zippy spice and a mildly bitter finish. Nice drink, pretty ho-hum.  \n",
      "[2025-04-30 16:20:36] (2.4.1.post1) Example 0: 12-ounce bottle poured into a pint willi glass yields a clear bronze body capped with two fingers of soft white foam that holds at a fat sheet and leaves scattered scraps of lacing on the glass. Smell is softly malty with a twist of lemon and a spicy note. Taste is toasty malts and a bit nutty with a rush of zippy spice and a mildly bitter finish. Nice drink, pretty ho-hum.\n"
     ]
    },
    {
     "name": "stderr",
     "output_type": "stream",
     "text": [
      "  6%|▌         | 6/100 [00:01<00:17,  5.42it/s]"
     ]
    },
    {
     "name": "stdout",
     "output_type": "stream",
     "text": [
      "[2025-04-30 16:20:36] (2.4.1.post1) Warning: reference sentiment does not exist or its number 0 is not equal to aspect number 1, text:  [B-ASP]Global Sentiment[E-ASP]    Appearance: pours a crystal clear golden yellow color with a 1/2\" head. Smell: light tropical fruit aroma. Taste: nice grainy malt profile with pineapple, lemon zest, grapefruit, and a bit of pine arrives late. Alcohol is mildly warming. Mouthfeel: medium bodied beer. Crisp throughout with a dry aftertaste. Overall: another enjoyable beer from Ballast Point.  \n",
      "[2025-04-30 16:20:36] (2.4.1.post1) Example 0: Appearance: pours a crystal clear golden yellow color with a 1/2\" head. Smell: light tropical fruit aroma. Taste: nice grainy malt profile with pineapple, lemon zest, grapefruit, and a bit of pine arrives late. Alcohol is mildly warming. Mouthfeel: medium bodied beer. Crisp throughout with a dry aftertaste. Overall: another enjoyable beer from Ballast Point.\n"
     ]
    },
    {
     "name": "stderr",
     "output_type": "stream",
     "text": [
      "  7%|▋         | 7/100 [00:01<00:16,  5.49it/s]"
     ]
    },
    {
     "name": "stdout",
     "output_type": "stream",
     "text": [
      "[2025-04-30 16:20:36] (2.4.1.post1) Warning: reference sentiment does not exist or its number 0 is not equal to aspect number 1, text:  [B-ASP]Global Sentiment[E-ASP]    This beer had a medium sized head that contained fine-medium sized bubbles.The hue of this beer was orange and it produced a decent lacing on the sides of my glass.To me it has a fruity, citrusy nose.This is definitely a bitter tasting beer.This is not my favorite style of beer; however, it wasn't that bad.  \n",
      "[2025-04-30 16:20:36] (2.4.1.post1) Example 0: This beer had a medium sized head that contained fine-medium sized bubbles.The hue of this beer was orange and it produced a decent lacing on the sides of my glass.To me it has a fruity, citrusy nose.This is definitely a bitter tasting beer.This is not my favorite style of beer; however, it wasn't that bad.\n"
     ]
    },
    {
     "name": "stderr",
     "output_type": "stream",
     "text": [
      "  8%|▊         | 8/100 [00:01<00:16,  5.54it/s]"
     ]
    },
    {
     "name": "stdout",
     "output_type": "stream",
     "text": [
      "[2025-04-30 16:20:36] (2.4.1.post1) Warning: reference sentiment does not exist or its number 0 is not equal to aspect number 1, text:  [B-ASP]Global Sentiment[E-ASP]    I went into it with low expectations and was very pleasantly surprised! Pours clear bright yellow with a thin head that dissipates fast. I couldn't get much of a head on a fairly aggressive pour. Aroma is subtle and not unpleasant, mild hops and distant corn and fermented grains. The taste was surprisingly good with a balance of bready biscuity malt and hops, with some grain and milled corn in there for sure but nothing unpleasant. Mouthfeel is light bodied but not watery, with medium carbonation. Finished clean and dry. Overall a very drinkable beer.  \n",
      "[2025-04-30 16:20:36] (2.4.1.post1) Example 0: I went into it with low expectations and was very pleasantly surprised! Pours clear bright yellow with a thin head that dissipates fast. I couldn't get much of a head on a fairly aggressive pour. Aroma is subtle and not unpleasant, mild hops and distant corn and fermented grains. The taste was surprisingly good with a balance of bready biscuity malt and hops, with some grain and milled corn in there for sure but nothing unpleasant. Mouthfeel is light bodied but not watery, with medium carbonation. Finished clean and dry. Overall a very drinkable beer.\n"
     ]
    },
    {
     "name": "stderr",
     "output_type": "stream",
     "text": [
      "  9%|▉         | 9/100 [00:01<00:16,  5.43it/s]"
     ]
    },
    {
     "name": "stdout",
     "output_type": "stream",
     "text": [
      "[2025-04-30 16:20:36] (2.4.1.post1) Warning: reference sentiment does not exist or its number 0 is not equal to aspect number 1, text:  [B-ASP]Global Sentiment[E-ASP]    My favorite De Garde. No other brewery is able to incorporate fruit into their beer so well as De Garde and this beer explodes with peach and apricot flavors. Drinking this beer is comparable to biting into a fresh apricot. Tartness, mouthfeel, and appearance are perfect. Glad I was able to snag another bottle.  \n",
      "[2025-04-30 16:20:36] (2.4.1.post1) Example 0: My favorite De Garde. No other brewery is able to incorporate fruit into their beer so well as De Garde and this beer explodes with peach and apricot flavors. Drinking this beer is comparable to biting into a fresh apricot. Tartness, mouthfeel, and appearance are perfect. Glad I was able to snag another bottle.\n"
     ]
    },
    {
     "name": "stderr",
     "output_type": "stream",
     "text": [
      " 10%|█         | 10/100 [00:01<00:16,  5.48it/s]"
     ]
    },
    {
     "name": "stdout",
     "output_type": "stream",
     "text": [
      "[2025-04-30 16:20:36] (2.4.1.post1) Warning: reference sentiment does not exist or its number 0 is not equal to aspect number 1, text:  [B-ASP]Global Sentiment[E-ASP]    Estrella Galicia seems an average lager. It pours a clear golden yellow color with a decent head and a decent lace; Smell is grainy and malty; Taste is sweet and grainy too; Mouthfeel is thin and crisp, Good carbonation; Easy to drink, very drinkable. ¡Salud!  \n",
      "[2025-04-30 16:20:37] (2.4.1.post1) Example 0: Estrella Galicia seems an average lager. It pours a clear golden yellow color with a decent head and a decent lace; Smell is grainy and malty; Taste is sweet and grainy too; Mouthfeel is thin and crisp, Good carbonation; Easy to drink, very drinkable. ¡Salud!\n"
     ]
    },
    {
     "name": "stderr",
     "output_type": "stream",
     "text": [
      " 11%|█         | 11/100 [00:02<00:17,  5.09it/s]"
     ]
    },
    {
     "name": "stdout",
     "output_type": "stream",
     "text": [
      "[2025-04-30 16:20:37] (2.4.1.post1) Warning: reference sentiment does not exist or its number 0 is not equal to aspect number 1, text:  [B-ASP]Global Sentiment[E-ASP]    Many breweries give their beers a special name. But far too many times, the taste of the beer falls short of what its creators decided to call it. Great Notion absolutely nailed this one. The beer literally tastes like blueberry pancakes. I've actually never had a beer with such an accurate representation. By FAR, one of the most delicious beers I have ever tasted. Go and try it NOW! How am I the first reviewer for this one?  \n",
      "[2025-04-30 16:20:37] (2.4.1.post1) Example 0: Many breweries give their beers a special name. But far too many times, the taste of the beer falls short of what its creators decided to call it. Great Notion absolutely nailed this one. The beer literally tastes like blueberry pancakes. I've actually never had a beer with such an accurate representation. By FAR, one of the most delicious beers I have ever tasted. Go and try it NOW! How am I the first reviewer for this one?\n"
     ]
    },
    {
     "name": "stderr",
     "output_type": "stream",
     "text": [
      " 12%|█▏        | 12/100 [00:02<00:16,  5.24it/s]"
     ]
    },
    {
     "name": "stdout",
     "output_type": "stream",
     "text": [
      "[2025-04-30 16:20:37] (2.4.1.post1) Warning: reference sentiment does not exist or its number 0 is not equal to aspect number 1, text:  [B-ASP]Global Sentiment[E-ASP]    This was a darn drinkable beer. I haven't had any doppelbocks before this, so I assume it is a good representative for the style. It tastes like a less intense stout. It had a good head on it which dissipated into a lace and then faided away. Dark of course. Very tasty. A drinkable stout is what kept coming to mind. Very good for the alcohol content.  \n",
      "[2025-04-30 16:20:37] (2.4.1.post1) Example 0: This was a darn drinkable beer. I haven't had any doppelbocks before this, so I assume it is a good representative for the style. It tastes like a less intense stout. It had a good head on it which dissipated into a lace and then faided away. Dark of course. Very tasty. A drinkable stout is what kept coming to mind. Very good for the alcohol content.\n"
     ]
    },
    {
     "name": "stderr",
     "output_type": "stream",
     "text": [
      " 13%|█▎        | 13/100 [00:02<00:16,  5.32it/s]"
     ]
    },
    {
     "name": "stdout",
     "output_type": "stream",
     "text": [
      "[2025-04-30 16:20:37] (2.4.1.post1) Warning: reference sentiment does not exist or its number 0 is not equal to aspect number 1, text:  [B-ASP]Global Sentiment[E-ASP]    Yeast. Malt. Raisin. Sweet. Phenomenal.\n",
      "[2025-04-30 16:20:37] (2.4.1.post1) Example 0: Yeast. Malt. Raisin. Sweet. Phenomenal.\n"
     ]
    },
    {
     "name": "stderr",
     "output_type": "stream",
     "text": [
      " 14%|█▍        | 14/100 [00:02<00:15,  5.39it/s]"
     ]
    },
    {
     "name": "stdout",
     "output_type": "stream",
     "text": [
      "[2025-04-30 16:20:37] (2.4.1.post1) Warning: reference sentiment does not exist or its number 0 is not equal to aspect number 1, text:  [B-ASP]Global Sentiment[E-ASP]    Pours orangey gold with large head. The aroma is spicy and phenolic with some bready malt. The flavor is spicy up front with some juiciness and a dry bitter finish. It's highly carbonated which takes away from the beer a little, but it's still a good example of the style.  \n",
      "[2025-04-30 16:20:37] (2.4.1.post1) Example 0: Pours orangey gold with large head. The aroma is spicy and phenolic with some bready malt. The flavor is spicy up front with some juiciness and a dry bitter finish. It's highly carbonated which takes away from the beer a little, but it's still a good example of the style.\n"
     ]
    },
    {
     "name": "stderr",
     "output_type": "stream",
     "text": [
      " 15%|█▌        | 15/100 [00:02<00:15,  5.39it/s]"
     ]
    },
    {
     "name": "stdout",
     "output_type": "stream",
     "text": [
      "[2025-04-30 16:20:37] (2.4.1.post1) Warning: reference sentiment does not exist or its number 0 is not equal to aspect number 1, text:  [B-ASP]Global Sentiment[E-ASP]    this is desert island beer for me, a nice grainy liquid bread sort of base saison, nice and low on the abv, but lots of body and texture, and flavored by all three elements. this really is fantastic stuff from side project, even though its some of their rarer releases that get all the hype, this one is just as good for me. batch or blend number 3 from what i gather, its a little hazy but very approachable looking, soft and inviting, with a puffy white head with great retention. maybe some rye in here? oats? more than just pale and pils type barley malt and wheat, a little peppery bite, maybe from the yeast, but possibly some rye malt too. the yeast is amazing, fully bretty, a little belgian, soft and fruity, white grape for sure, apricot, crab apple, and then the oak at the end, which is pretty mild in terms of flavor, serving more here as a mellowing agent and a vehicle for fermentation. really impressive beer, as much flavor as you can get into something this low in alcohol, rich on the grain front but bone dry, floral hoppy in the end with a little white wine note, some wood, a lot of delicate fruity funk from the mature brett, and en expressive level of carbonation that makes this positively sing on the palate. one of my new favorite styles, and one of the best takes on it i have seen in some time. not to be missed...  \n",
      "[2025-04-30 16:20:37] (2.4.1.post1) Example 0: this is desert island beer for me, a nice grainy liquid bread sort of base saison, nice and low on the abv, but lots of body and texture, and flavored by all three elements. this really is fantastic stuff from side project, even though its some of their rarer releases that get all the hype, this one is just as good for me. batch or blend number 3 from what i gather, its a little hazy but very approachable looking, soft and inviting, with a puffy white head with great retention. maybe some rye in here? oats? more than just pale and pils type barley malt and wheat, a little peppery bite, maybe from the yeast, but possibly some rye malt too. the yeast is amazing, fully bretty, a little belgian, soft and fruity, white grape for sure, apricot, crab apple, and then the oak at the end, which is pretty mild in terms of flavor, serving more here as a mellowing agent and a vehicle for fermentation. really impressive beer, as much flavor as you can get into something this low in alcohol, rich on the grain front but bone dry, floral hoppy in the end with a little white wine note, some wood, a lot of delicate fruity funk from the mature brett, and en expressive level of carbonation that makes this positively sing on the palate. one of my new favorite styles, and one of the best takes on it i have seen in\n"
     ]
    },
    {
     "name": "stderr",
     "output_type": "stream",
     "text": [
      " 16%|█▌        | 16/100 [00:02<00:15,  5.44it/s]"
     ]
    },
    {
     "name": "stdout",
     "output_type": "stream",
     "text": [
      "[2025-04-30 16:20:37] (2.4.1.post1) Warning: reference sentiment does not exist or its number 0 is not equal to aspect number 1, text:  [B-ASP]Global Sentiment[E-ASP]    A: On tap at Belmont Station Jan. 2015. Thick white head with nice lacing. Pale in color. S: Tropical fruits first followed by pine and citrus. Very pleasant. Definitely well dry hopped. T: Starts tropical with a citrus-pine middle with just a hint of sweet malts, finishes slightly bitter and very dry. M: Medium carbonation, low body with little malt. O: A very seasonable light in body beer with a dry finish. The lack of malts and body works in this because it have a very minimal bitterness. The dry hopping and late addition hops are the main feature of this ale. This leaves you feeling refreshed and not full. This along with Easy Jack are my two favorite session IPA's. If you're looking for a traditional IPA this won't be for you. Sessionable IPA's are great on a hot summer day or as a gateway craft drink for someone switching from domestics.  \n",
      "[2025-04-30 16:20:38] (2.4.1.post1) Example 0: A: On tap at Belmont Station Jan. 2015. Thick white head with nice lacing. Pale in color. S: Tropical fruits first followed by pine and citrus. Very pleasant. Definitely well dry hopped. T: Starts tropical with a citrus-pine middle with just a hint of sweet malts, finishes slightly bitter and very dry. M: Medium carbonation, low body with little malt. O: A very seasonable light in body beer with a dry finish. The lack of malts and body works in this because it have a very minimal bitterness. The dry hopping and late addition hops are the main feature of this ale. This leaves you feeling refreshed and not full. This along with Easy Jack are my two favorite session IPA's. If you're looking for a traditional IPA this won't be for you. Sessionable IPA's are great on a hot summer day or as a gateway craft drink for someone switching from domestics.\n"
     ]
    },
    {
     "name": "stderr",
     "output_type": "stream",
     "text": [
      " 17%|█▋        | 17/100 [00:03<00:15,  5.47it/s]"
     ]
    },
    {
     "name": "stdout",
     "output_type": "stream",
     "text": [
      "[2025-04-30 16:20:38] (2.4.1.post1) Warning: reference sentiment does not exist or its number 0 is not equal to aspect number 1, text:  [B-ASP]Global Sentiment[E-ASP]    12 0z bottle poure into plastic cup because I'm still at work Appearance: pure copper color with white head. Aroma: fruity with a little of oak Taste: really fruity and woody Mouthfeel: really sticky and cloying. Overall: I am glad it's only a 12 oz. it too sweet to drink too much. I enjoyed it though.  \n",
      "[2025-04-30 16:20:38] (2.4.1.post1) Example 0: 12 0z bottle poure into plastic cup because I'm still at work Appearance: pure copper color with white head. Aroma: fruity with a little of oak Taste: really fruity and woody Mouthfeel: really sticky and cloying. Overall: I am glad it's only a 12 oz. it too sweet to drink too much. I enjoyed it though.\n"
     ]
    },
    {
     "name": "stderr",
     "output_type": "stream",
     "text": [
      " 18%|█▊        | 18/100 [00:03<00:15,  5.15it/s]"
     ]
    },
    {
     "name": "stdout",
     "output_type": "stream",
     "text": [
      "[2025-04-30 16:20:38] (2.4.1.post1) Warning: reference sentiment does not exist or its number 0 is not equal to aspect number 1, text:  [B-ASP]Global Sentiment[E-ASP]    stubby little 11.2 oz. white bottle poured into a pint glass. murky light brown with an effervescing off-white head that falls quickly. a few chunky globs (coagulated proteins?) that settle after a few impatient minutes. sweet, sugary, fruity alcoholic aroma. caramel, carob, yeast, prunes, and candi sugar. sweet and incredibly pleasant. candi sugar and prunes appear once again in the flavor, with a touch of sweetness and alcohol in the finish. sweet but in a subtle, enjoyable way. prickly carbonation and a medium mouthfeel. nothing incredibly adventurous about it, but it could be a regular dessert-type sipping beer.  \n",
      "[2025-04-30 16:20:38] (2.4.1.post1) Example 0: stubby little 11.2 oz. white bottle poured into a pint glass. murky light brown with an effervescing off-white head that falls quickly. a few chunky globs (coagulated proteins?) that settle after a few impatient minutes. sweet, sugary, fruity alcoholic aroma. caramel, carob, yeast, prunes, and candi sugar. sweet and incredibly pleasant. candi sugar and prunes appear once again in the flavor, with a touch of sweetness and alcohol in the finish. sweet but in a subtle, enjoyable way. prickly carbonation and a medium mouthfeel. nothing incredibly adventurous about it, but it could be a regular dessert-type sipping beer.\n"
     ]
    },
    {
     "name": "stderr",
     "output_type": "stream",
     "text": [
      " 19%|█▉        | 19/100 [00:03<00:15,  5.28it/s]"
     ]
    },
    {
     "name": "stdout",
     "output_type": "stream",
     "text": [
      "[2025-04-30 16:20:38] (2.4.1.post1) Warning: reference sentiment does not exist or its number 0 is not equal to aspect number 1, text:  [B-ASP]Global Sentiment[E-ASP]    This beer is a mass produced English Pale Ale that is decent, but lacking all complexity. It pours a nice amber color, decent head, no lacing. This beer is plenty carbonated. The aroma is definitely earthy, caramel malt, slightly musty. This is a dry beer, quite light, quite drinkable because of its low ABV. The taste is earthy malts, some light caramels, diaceytl and buttery, but not cloyingly so. What you get on the front end is how the beer finishes. There isn't much complexity to the beer. Not much to say because it doesn't have loads of character either, but it is drinkable.  \n",
      "[2025-04-30 16:20:38] (2.4.1.post1) Example 0: This beer is a mass produced English Pale Ale that is decent, but lacking all complexity. It pours a nice amber color, decent head, no lacing. This beer is plenty carbonated. The aroma is definitely earthy, caramel malt, slightly musty. This is a dry beer, quite light, quite drinkable because of its low ABV. The taste is earthy malts, some light caramels, diaceytl and buttery, but not cloyingly so. What you get on the front end is how the beer finishes. There isn't much complexity to the beer. Not much to say because it doesn't have loads of character either, but it is drinkable.\n"
     ]
    },
    {
     "name": "stderr",
     "output_type": "stream",
     "text": [
      " 20%|██        | 20/100 [00:03<00:15,  5.25it/s]"
     ]
    },
    {
     "name": "stdout",
     "output_type": "stream",
     "text": [
      "[2025-04-30 16:20:38] (2.4.1.post1) Warning: reference sentiment does not exist or its number 0 is not equal to aspect number 1, text:  [B-ASP]Global Sentiment[E-ASP]    Poured from a bottle dated \"best By 28/09/19\" into the test glass A - Pitch black, a thin off white cap slowly fades into a loose knit ring of froth. A slow twist of the glass coaxes e revival of the cap. S - Dark char, vanilla, cigar wrap tobacco. fig, bakers chocolate, licorice. A rise in temperature releases Blackberry, some notes of tawny port and worn leather. The 13% alcohol lifts off the glass in fine fashion. T - Dark fruits, bitter chocolate, and coffee a touch of honey are the initial flavors, dark roast grains, vanilla undertones without being sweet. M - A bold move across the palate, bitter start then a chocolaty step is taken, quickly ushered out with deftness by the carbonation. The finish is pretty quick and surprisingly dry. I wonder if there was Champagne yeast involved? The alcohol evaporation has that special touch. A very slight linger on the tongue of semi sweet and hint of smoke to close the deal. O - A bold offering that is not shy about the aromatics or the flavors. Coffee, honey, vanilla are listed but not any one stands in the fore, however they combine quite well. I like the lack of barrel and the clean lines this offering takes, although they be bold lines! A treat worth seeking out.  \n",
      "[2025-04-30 16:20:38] (2.4.1.post1) Example 0: Poured from a bottle dated \"best By 28/09/19\" into the test glass A - Pitch black, a thin off white cap slowly fades into a loose knit ring of froth. A slow twist of the glass coaxes e revival of the cap. S - Dark char, vanilla, cigar wrap tobacco. fig, bakers chocolate, licorice. A rise in temperature releases Blackberry, some notes of tawny port and worn leather. The 13% alcohol lifts off the glass in fine fashion. T - Dark fruits, bitter chocolate, and coffee a touch of honey are the initial flavors, dark roast grains, vanilla undertones without being sweet. M - A bold move across the palate, bitter start then a chocolaty step is taken, quickly ushered out with deftness by the carbonation. The finish is pretty quick and surprisingly dry. I wonder if there was Champagne yeast involved? The alcohol evaporation has that special touch. A very slight linger on the tongue of semi sweet and hint of smoke to close the deal. O - A bold offering that is not shy about the aromatics or the flavors. Coffee, honey, vanilla are listed but not any one stands in the fore, however they combine quite well. I like the lack of barrel and the clean lines this offering takes, although they be bold lines! A treat worth seeking out.\n"
     ]
    },
    {
     "name": "stderr",
     "output_type": "stream",
     "text": [
      " 21%|██        | 21/100 [00:03<00:14,  5.31it/s]"
     ]
    },
    {
     "name": "stdout",
     "output_type": "stream",
     "text": [
      "[2025-04-30 16:20:38] (2.4.1.post1) Warning: reference sentiment does not exist or its number 0 is not equal to aspect number 1, text:  [B-ASP]Global Sentiment[E-ASP]    Second brown ale of the evening after a long period of avoiding the style. First one was Phil from Marshall Wharf. This was better, but not by much. Both were thoroughly enjoyable and extremely drinkable. Reminded me a bit of Tootsie Rolls. Light with nice carmely, chocolaty notes.  \n",
      "[2025-04-30 16:20:39] (2.4.1.post1) Example 0: Second brown ale of the evening after a long period of avoiding the style. First one was Phil from Marshall Wharf. This was better, but not by much. Both were thoroughly enjoyable and extremely drinkable. Reminded me a bit of Tootsie Rolls. Light with nice carmely, chocolaty notes.\n"
     ]
    },
    {
     "name": "stderr",
     "output_type": "stream",
     "text": [
      " 22%|██▏       | 22/100 [00:04<00:14,  5.39it/s]"
     ]
    },
    {
     "name": "stdout",
     "output_type": "stream",
     "text": [
      "[2025-04-30 16:20:39] (2.4.1.post1) Warning: reference sentiment does not exist or its number 0 is not equal to aspect number 1, text:  [B-ASP]Global Sentiment[E-ASP]    Poured from a bottle into a snifter. (Note: The bottle I have says 9.0% ABV versus 9.4%, perhaps indicative of a recipe tweak) A - A hazy golden/amber with a one-finger snow white head of mixed size bubbles. Decent lacing. S - Strong aroma of dank hops, pine, and tropical fruit. Some malt odor comes through as well, hopefully setting the stage for something good in the first sip. Smells like a good west coast imperial IPA should. T - Core is definitely West coast IPA flavor: mango, and grapefruit. A good bit of resinous pine. Fantastic sweet maui onion and garlic in the mid-palate. Biscuity malt provides a nice base and a hint of sweetness. The malt/hop balance is there and the complex hop bill is there. Flavors aren't \"blended\" or \"balanced\" yet, still work together. Delicious. M - Medium bodied with subdued carbonation and a dry finish. Somewhat slick and oily. That description doesn't encompass the drinkability here...it all comes together nearly perfectly so much so that I had to force myself to sip instead of gulp. O - Outstanding and just well put together on all levels. The vegetal onion/garlic notes really set this one apart from some of it's competition and border on divine to this taster. Why am I not drinking more Green Flash brews? A \"quick rebuy\", meaning I'll probably run out and get another bottle as soon as possible.  \n",
      "[2025-04-30 16:20:39] (2.4.1.post1) Example 0: Poured from a bottle into a snifter. (Note: The bottle I have says 9.0% ABV versus 9.4%, perhaps indicative of a recipe tweak) A - A hazy golden/amber with a one-finger snow white head of mixed size bubbles. Decent lacing. S - Strong aroma of dank hops, pine, and tropical fruit. Some malt odor comes through as well, hopefully setting the stage for something good in the first sip. Smells like a good west coast imperial IPA should. T - Core is definitely West coast IPA flavor: mango, and grapefruit. A good bit of resinous pine. Fantastic sweet maui onion and garlic in the mid-palate. Biscuity malt provides a nice base and a hint of sweetness. The malt/hop balance is there and the complex hop bill is there. Flavors aren't \"blended\" or \"balanced\" yet, still work together. Delicious. M - Medium bodied with subdued carbonation and a dry finish. Somewhat slick and oily. That description doesn't encompass the drinkability here...it all comes together nearly perfectly so much so that I had to force myself to sip instead of gulp. O - Outstanding and just well put together on all levels. The vegetal onion/garlic notes really set this one apart from some of it's competition and border on divine to this taster. Why am I not drinking more Green Flash brews? A \"quick rebuy\", meaning I'll probably run out and get another bottle as soon as possible.\n"
     ]
    },
    {
     "name": "stderr",
     "output_type": "stream",
     "text": [
      " 23%|██▎       | 23/100 [00:04<00:14,  5.44it/s]"
     ]
    },
    {
     "name": "stdout",
     "output_type": "stream",
     "text": [
      "[2025-04-30 16:20:39] (2.4.1.post1) Warning: reference sentiment does not exist or its number 0 is not equal to aspect number 1, text:  [B-ASP]Global Sentiment[E-ASP]    A: lightly copper tinged brown with a thin white head. S: very oaky, some balsamic and vanilla, mild acidity, faint cherries. T: similar, but everything is a bit milder than on the nose. Balsamic, light funk are key. M: low moderate carbonation decent chewy creaminess.  \n",
      "[2025-04-30 16:20:39] (2.4.1.post1) Example 0: A: lightly copper tinged brown with a thin white head. S: very oaky, some balsamic and vanilla, mild acidity, faint cherries. T: similar, but everything is a bit milder than on the nose. Balsamic, light funk are key. M: low moderate carbonation decent chewy creaminess.\n"
     ]
    },
    {
     "name": "stderr",
     "output_type": "stream",
     "text": [
      " 24%|██▍       | 24/100 [00:04<00:13,  5.50it/s]"
     ]
    },
    {
     "name": "stdout",
     "output_type": "stream",
     "text": [
      "[2025-04-30 16:20:39] (2.4.1.post1) Warning: reference sentiment does not exist or its number 0 is not equal to aspect number 1, text:  [B-ASP]Global Sentiment[E-ASP]    Pale straw yellow color with plenty carbonation bubbles. The head depends of the glass I use. With a good pilsner glass I can get a moderate soapy white head that has decent retention. The aroma is clean. Not much to it. Some grassy hops and grains. The flavor again is just clean refreshing American Lager. Nothing under or over the top. Not a lot going on. Super easy to drink and very light in body. Overall, this is at least a clean lager. There is no nasty aftertaste. Keep it cold and cut the grass with this lager.  \n",
      "[2025-04-30 16:20:39] (2.4.1.post1) Example 0: Pale straw yellow color with plenty carbonation bubbles. The head depends of the glass I use. With a good pilsner glass I can get a moderate soapy white head that has decent retention. The aroma is clean. Not much to it. Some grassy hops and grains. The flavor again is just clean refreshing American Lager. Nothing under or over the top. Not a lot going on. Super easy to drink and very light in body. Overall, this is at least a clean lager. There is no nasty aftertaste. Keep it cold and cut the grass with this lager.\n"
     ]
    },
    {
     "name": "stderr",
     "output_type": "stream",
     "text": [
      " 25%|██▌       | 25/100 [00:04<00:14,  5.15it/s]"
     ]
    },
    {
     "name": "stdout",
     "output_type": "stream",
     "text": [
      "[2025-04-30 16:20:39] (2.4.1.post1) Warning: reference sentiment does not exist or its number 0 is not equal to aspect number 1, text:  [B-ASP]Global Sentiment[E-ASP]    An average beer for this brewery, I much prefer the Spitfire. This was quite nice tasting, and the nose was good, had some nice hop aroma and a little bit of fruit. The taste had a little more fruit to it than I am used to from a bitter, but it was a bit thin on mouthfeel.  \n",
      "[2025-04-30 16:20:39] (2.4.1.post1) Example 0: An average beer for this brewery, I much prefer the Spitfire. This was quite nice tasting, and the nose was good, had some nice hop aroma and a little bit of fruit. The taste had a little more fruit to it than I am used to from a bitter, but it was a bit thin on mouthfeel.\n"
     ]
    },
    {
     "name": "stderr",
     "output_type": "stream",
     "text": [
      " 26%|██▌       | 26/100 [00:04<00:14,  5.27it/s]"
     ]
    },
    {
     "name": "stdout",
     "output_type": "stream",
     "text": [
      "[2025-04-30 16:20:39] (2.4.1.post1) Warning: reference sentiment does not exist or its number 0 is not equal to aspect number 1, text:  [B-ASP]Global Sentiment[E-ASP]    A- deep copper/dark brown, maybe a hint of red/purple. 1/2 inch head. Lacing slips down side and back to head which retains well. S- sweet cranberry/strawberry.Some pines but not as much as I would have expected in reading the label. T- A fruity taste in my mind. Some sours on the tongue, maybe a bit of beet? M- nice in the mouth. not exceptional but solid. D- overall I have to say I can only drink one of these. There is just something about the taste that isn't for me.  \n",
      "[2025-04-30 16:20:39] (2.4.1.post1) Example 0: A- deep copper/dark brown, maybe a hint of red/purple. 1/2 inch head. Lacing slips down side and back to head which retains well. S- sweet cranberry/strawberry.Some pines but not as much as I would have expected in reading the label. T- A fruity taste in my mind. Some sours on the tongue, maybe a bit of beet? M- nice in the mouth. not exceptional but solid. D- overall I have to say I can only drink one of these. There is just something about the taste that isn't for me.\n"
     ]
    },
    {
     "name": "stderr",
     "output_type": "stream",
     "text": [
      " 27%|██▋       | 27/100 [00:05<00:13,  5.38it/s]"
     ]
    },
    {
     "name": "stdout",
     "output_type": "stream",
     "text": [
      "[2025-04-30 16:20:39] (2.4.1.post1) Warning: reference sentiment does not exist or its number 0 is not equal to aspect number 1, text:  [B-ASP]Global Sentiment[E-ASP]    Poured from a 650ml bottle. A: Pours a clear amber with a thick white foamy head and nice sticky lacing. S: Great nose with this one,a West Coast Tropical Fruit nose as i like it. T: Lots of citrus and tropical fruit hops nice and bitter. F: Good carbonation the hops stay with you. O: A good IPA West Coast Style ( West Coast USA) best beer i have had from Russell for sure.  \n",
      "[2025-04-30 16:20:40] (2.4.1.post1) Example 0: Poured from a 650ml bottle. A: Pours a clear amber with a thick white foamy head and nice sticky lacing. S: Great nose with this one,a West Coast Tropical Fruit nose as i like it. T: Lots of citrus and tropical fruit hops nice and bitter. F: Good carbonation the hops stay with you. O: A good IPA West Coast Style ( West Coast USA) best beer i have had from Russell for sure.\n"
     ]
    },
    {
     "name": "stderr",
     "output_type": "stream",
     "text": [
      " 28%|██▊       | 28/100 [00:05<00:13,  5.45it/s]"
     ]
    },
    {
     "name": "stdout",
     "output_type": "stream",
     "text": [
      "[2025-04-30 16:20:40] (2.4.1.post1) Warning: reference sentiment does not exist or its number 0 is not equal to aspect number 1, text:  [B-ASP]Global Sentiment[E-ASP]    I picked up a Nitro bottle of Ballast Point's Red Velvet for $2.39 at The Lager Mill. This one seems a little weird and it caught my eye, so lets see how it goes. 2017 Vintage. Poured from a brown 12oz Nitro bottle into a imperial pint glass. A- The label is awesome and it goes great with this beer, it's very eye catching. It poured a bright red color that took on more of redish pink hue when held to the light with a fingers worth of slightly creamy off white head that died down to a thin ring that stayed till the end and it left a little bit of spotty lacing behind. This is a pretty nice looking beer, I have no complaints. S- The aroma starts off with a higher amount of medium sweetness with a weird beet aroma being the first to show up and that goes into the malts which impart a pretty grainy, pale malt and bread aromas. Up next comes some fruity aromas with no noticeable chocolate. This beer has a nice aroma, it's unique, but I don't think the beets help it. T- The taste seems to be a little similar to the aroma and it starts off with a lower amount of medium sweetness with the malts being the first to show up and they impart all the same aspects that they did in the aroma with the breadyness sticking out the most and it goes into the beets which show up a little less than they did in the aroma, but they still impart the same weird and earthy aspects. Up next comes an English ale yeast like flavor and on the finish there's a lighter amount of medium bitterness with a linger beat flavor. This is a decent tasting beer, but I don't feel like the flavors work that well together and it doesn't live up to it's name. M- Fairly smooth, pretty creamy, a little on the flat side, on thicker side of being medium bodied with a medium amount of carbonation. The mouthfeel is nice and it worked well with this beer, but I don't think the nitro really helped it. Overall I thought this beer was ok and I thought it was pretty much just an average example of the style and it's hard to pin point what style it is because it's not very oatmeal stout like at all and it doesn't really remind of red velvet cake. THis beer doesn't have good drinkability, one is more than enough for me. What I like the most about this beer is the appearance and aroma, those are the highlights of this beer. What I like the least about this beer is the taste and drinkability, they just aren't that good and they need some. I wouldn't buy this beer again and I might turn one down, I can't say I would recommend, if your want a beer that tastes like red velvet cake I think you will be disappointed. All in all wasn't a big fan of this beer and I think it just needs to be reworked from the ground up. It's one of my least favorite blast point beers and it's not a great example of the style. Better luck next time guys, this one could use some work.  \n",
      "[2025-04-30 16:20:40] (2.4.1.post1) Example 0: I picked up a Nitro bottle of Ballast Point's Red Velvet for $2.39 at The Lager Mill. This one seems a little weird and it caught my eye, so lets see how it goes. 2017 Vintage. Poured from a brown 12oz Nitro bottle into a imperial pint glass. A- The label is awesome and it goes great with this beer, it's very eye catching. It poured a bright red color that took on more of redish pink hue when held to the light with a fingers worth of slightly creamy off white head that died down to a thin ring that stayed till the end and it left a little bit of spotty lacing behind. This is a pretty nice looking beer, I have no complaints. S- The aroma starts off with a higher amount of medium sweetness with a weird beet aroma being the first to show up and that goes into the malts which impart a pretty grainy, pale malt and bread aromas. Up next comes some fruity aromas with no noticeable chocolate. This beer has a nice aroma, it's unique, but I don't think the beets help it. T- The taste seems to be a little similar to the aroma and it starts off with a lower amount of medium sweetness with the malts being the first to show up and they impart all the same aspects that they did in the aroma with the breadyness sticking out the most and it goes into\n"
     ]
    },
    {
     "name": "stderr",
     "output_type": "stream",
     "text": [
      " 29%|██▉       | 29/100 [00:05<00:12,  5.49it/s]"
     ]
    },
    {
     "name": "stdout",
     "output_type": "stream",
     "text": [
      "[2025-04-30 16:20:40] (2.4.1.post1) Warning: reference sentiment does not exist or its number 0 is not equal to aspect number 1, text:  [B-ASP]Global Sentiment[E-ASP]    Hazy dirty gold. White head. Smell of dirt. Yeast. Coriander. Taste of cracker. Butter biscuit. Coriander. Yeast esters. Banana. Feel is medium. High carbonation.  \n",
      "[2025-04-30 16:20:40] (2.4.1.post1) Example 0: Hazy dirty gold. White head. Smell of dirt. Yeast. Coriander. Taste of cracker. Butter biscuit. Coriander. Yeast esters. Banana. Feel is medium. High carbonation.\n"
     ]
    },
    {
     "name": "stderr",
     "output_type": "stream",
     "text": [
      " 30%|███       | 30/100 [00:05<00:12,  5.52it/s]"
     ]
    },
    {
     "name": "stdout",
     "output_type": "stream",
     "text": [
      "[2025-04-30 16:20:40] (2.4.1.post1) Warning: reference sentiment does not exist or its number 0 is not equal to aspect number 1, text:  [B-ASP]Global Sentiment[E-ASP]    Thanks to my brother for sharing this beer. There is no date on the bottle so I am not sure of the beer's freshness. As such, I will assume it is fresh and will rate accordingly. The beer pours a medium amber color with a tan head. The aroma is strong with the grass and piney hops, as well as some bready malt and a little bit of floral. The flavor is heavy on the grass and floraly hops. I also get a strong dose of toffee and bread from the malt. Low to medium bitterness. Medium mouthfeel and medium carbonation. Decent drinkability, but the hops and malt are slightly muddled and the beer just doesn't sit right with me.  \n",
      "[2025-04-30 16:20:40] (2.4.1.post1) Example 0: Thanks to my brother for sharing this beer. There is no date on the bottle so I am not sure of the beer's freshness. As such, I will assume it is fresh and will rate accordingly. The beer pours a medium amber color with a tan head. The aroma is strong with the grass and piney hops, as well as some bready malt and a little bit of floral. The flavor is heavy on the grass and floraly hops. I also get a strong dose of toffee and bread from the malt. Low to medium bitterness. Medium mouthfeel and medium carbonation. Decent drinkability, but the hops and malt are slightly muddled and the beer just doesn't sit right with me.\n"
     ]
    },
    {
     "name": "stderr",
     "output_type": "stream",
     "text": [
      " 31%|███       | 31/100 [00:05<00:12,  5.43it/s]"
     ]
    },
    {
     "name": "stdout",
     "output_type": "stream",
     "text": [
      "[2025-04-30 16:20:40] (2.4.1.post1) Warning: reference sentiment does not exist or its number 0 is not equal to aspect number 1, text:  [B-ASP]Global Sentiment[E-ASP]    On-tap 5/2/2017 at Flynn’s in Mansfield, MA, served in a tapered pint glass. A: The beer is a cloudy light yellow color, with a short white head that fades slowly and leaves a thin lace on the glass. S: The aroma contains grassy hops, caramelized malts and a little bit of citrus. T: The taste starts out with a strong burst of grassy hops bitterness that is quickly followed by a hearty but not too heavy malt character breadiness. The citrus sweetness is extremely mild but there’s still a very good balance. The after-taste is slightly hoppy. M: Crisp and smooth, medium body, medium carbonation, finish is dry and slightly sticky. O: Tasty, goes down very easily, not too filling, decent kick, good representation of style, this is a solid IPA to drink for a while.  \n",
      "[2025-04-30 16:20:40] (2.4.1.post1) Example 0: On-tap 5/2/2017 at Flynn’s in Mansfield, MA, served in a tapered pint glass. A: The beer is a cloudy light yellow color, with a short white head that fades slowly and leaves a thin lace on the glass. S: The aroma contains grassy hops, caramelized malts and a little bit of citrus. T: The taste starts out with a strong burst of grassy hops bitterness that is quickly followed by a hearty but not too heavy malt character breadiness. The citrus sweetness is extremely mild but there’s still a very good balance. The after-taste is slightly hoppy. M: Crisp and smooth, medium body, medium carbonation, finish is dry and slightly sticky. O: Tasty, goes down very easily, not too filling, decent kick, good representation of style, this is a solid IPA to drink for a while.\n"
     ]
    },
    {
     "name": "stderr",
     "output_type": "stream",
     "text": [
      " 32%|███▏      | 32/100 [00:05<00:12,  5.48it/s]"
     ]
    },
    {
     "name": "stdout",
     "output_type": "stream",
     "text": [
      "[2025-04-30 16:20:40] (2.4.1.post1) Warning: reference sentiment does not exist or its number 0 is not equal to aspect number 1, text:  [B-ASP]Global Sentiment[E-ASP]    Pours a nice deep gold with a one-finger head. Faint retention and very nice lacing. Looks very creamy. Nice carbonation. Smells deeply piney with faint citrus tones. Hits slightly bitter and rushes to a nice pine finish. Bitterness lasts well after the finish. Very little hint of alochol here. Very crisp and clean. Well worth a try or two ... or three.  \n",
      "[2025-04-30 16:20:41] (2.4.1.post1) Example 0: Pours a nice deep gold with a one-finger head. Faint retention and very nice lacing. Looks very creamy. Nice carbonation. Smells deeply piney with faint citrus tones. Hits slightly bitter and rushes to a nice pine finish. Bitterness lasts well after the finish. Very little hint of alochol here. Very crisp and clean. Well worth a try or two ... or three.\n"
     ]
    },
    {
     "name": "stderr",
     "output_type": "stream",
     "text": [
      " 33%|███▎      | 33/100 [00:06<00:13,  5.12it/s]"
     ]
    },
    {
     "name": "stdout",
     "output_type": "stream",
     "text": [
      "[2025-04-30 16:20:41] (2.4.1.post1) Warning: reference sentiment does not exist or its number 0 is not equal to aspect number 1, text:  [B-ASP]Global Sentiment[E-ASP]    Poured to a Duvel tulip glass. A: The body is coppery to red and it's opaque. The head is more white than beige but not totally white. There's some lacing but there's little retention. S: The aroma is very similar to an outdated IPA with tons of earthy and piny aromas but a bit more soft, I find it amazing. T: The taste has a strong influence by the IPA aroma having a profile close to a Belgian IPA. It's not great but it's interesting. M: Density is medium high. Carbonation is high. Bitterness is prominent. O: One of the best Letra beers that you can have all year round.  \n",
      "[2025-04-30 16:20:41] (2.4.1.post1) Example 0: Poured to a Duvel tulip glass. A: The body is coppery to red and it's opaque. The head is more white than beige but not totally white. There's some lacing but there's little retention. S: The aroma is very similar to an outdated IPA with tons of earthy and piny aromas but a bit more soft, I find it amazing. T: The taste has a strong influence by the IPA aroma having a profile close to a Belgian IPA. It's not great but it's interesting. M: Density is medium high. Carbonation is high. Bitterness is prominent. O: One of the best Letra beers that you can have all year round.\n"
     ]
    },
    {
     "name": "stderr",
     "output_type": "stream",
     "text": [
      " 34%|███▍      | 34/100 [00:06<00:12,  5.24it/s]"
     ]
    },
    {
     "name": "stdout",
     "output_type": "stream",
     "text": [
      "[2025-04-30 16:20:41] (2.4.1.post1) Warning: reference sentiment does not exist or its number 0 is not equal to aspect number 1, text:  [B-ASP]Global Sentiment[E-ASP]    A FANTASTIC treatment of Sorachi Ace, lots of flavor... just try it, you'll like it.\n",
      "[2025-04-30 16:20:41] (2.4.1.post1) Example 0: A FANTASTIC treatment of Sorachi Ace, lots of flavor... just try it, you'll like it.\n"
     ]
    },
    {
     "name": "stderr",
     "output_type": "stream",
     "text": [
      " 35%|███▌      | 35/100 [00:06<00:12,  5.35it/s]"
     ]
    },
    {
     "name": "stdout",
     "output_type": "stream",
     "text": [
      "[2025-04-30 16:20:41] (2.4.1.post1) Warning: reference sentiment does not exist or its number 0 is not equal to aspect number 1, text:  [B-ASP]Global Sentiment[E-ASP]    12oz brown bottle Breckenridge Pale Ale was orange-gold in color with and avege size white head. The head had fairly good retantion and left lacing behing. The nose was mainly of hops, but a sweet malt aroma was there also. The taste was good and balanced. It was medium in both body and carbonation. Good beer.  \n",
      "[2025-04-30 16:20:41] (2.4.1.post1) Example 0: 12oz brown bottle Breckenridge Pale Ale was orange-gold in color with and avege size white head. The head had fairly good retantion and left lacing behing. The nose was mainly of hops, but a sweet malt aroma was there also. The taste was good and balanced. It was medium in both body and carbonation. Good beer.\n"
     ]
    },
    {
     "name": "stderr",
     "output_type": "stream",
     "text": [
      " 36%|███▌      | 36/100 [00:06<00:11,  5.42it/s]"
     ]
    },
    {
     "name": "stdout",
     "output_type": "stream",
     "text": [
      "[2025-04-30 16:20:41] (2.4.1.post1) Warning: reference sentiment does not exist or its number 0 is not equal to aspect number 1, text:  [B-ASP]Global Sentiment[E-ASP]    A - Poured out a cloudy, copper color with a soapy, small head. It left a good deal of sticky lace. S - It smelled very floral and of grasses. Also, a fairly malty nose. T - It tasted very bitter with grassy hops. A nice roasted malt taste. M - It was crisp and sharp. A medium-bodied beer. D - This was a very nice beer. Too bad it was brewed just once.  \n",
      "[2025-04-30 16:20:41] (2.4.1.post1) Example 0: A - Poured out a cloudy, copper color with a soapy, small head. It left a good deal of sticky lace. S - It smelled very floral and of grasses. Also, a fairly malty nose. T - It tasted very bitter with grassy hops. A nice roasted malt taste. M - It was crisp and sharp. A medium-bodied beer. D - This was a very nice beer. Too bad it was brewed just once.\n"
     ]
    },
    {
     "name": "stderr",
     "output_type": "stream",
     "text": [
      " 37%|███▋      | 37/100 [00:06<00:11,  5.46it/s]"
     ]
    },
    {
     "name": "stdout",
     "output_type": "stream",
     "text": [
      "[2025-04-30 16:20:41] (2.4.1.post1) Warning: reference sentiment does not exist or its number 0 is not equal to aspect number 1, text:  [B-ASP]Global Sentiment[E-ASP]    Clear amber with quickly dissipating head, but sufficient carbonation leading to a decent mouthfeel. Malty and bready aroma lead straight into the caramelized malts of the taste. A sweet finish with just a hint of bittering hops at the end. Overall I think this is a good example of the traditional Vienna Lager beer style. Not my own personal favourite, but would recommend to anyone who enjoys that style.  \n",
      "[2025-04-30 16:20:42] (2.4.1.post1) Example 0: Clear amber with quickly dissipating head, but sufficient carbonation leading to a decent mouthfeel. Malty and bready aroma lead straight into the caramelized malts of the taste. A sweet finish with just a hint of bittering hops at the end. Overall I think this is a good example of the traditional Vienna Lager beer style. Not my own personal favourite, but would recommend to anyone who enjoys that style.\n"
     ]
    },
    {
     "name": "stderr",
     "output_type": "stream",
     "text": [
      " 38%|███▊      | 38/100 [00:07<00:11,  5.52it/s]"
     ]
    },
    {
     "name": "stdout",
     "output_type": "stream",
     "text": [
      "[2025-04-30 16:20:42] (2.4.1.post1) Warning: reference sentiment does not exist or its number 0 is not equal to aspect number 1, text:  [B-ASP]Global Sentiment[E-ASP]    First had this one tap at Revolution a few weeks ago while in Chicago and was blown away... Picked up a 6-pack of cans locally in Cleveland and just as good as it was on tap, very impressed. Easily one of my favorite beers of all time now and will be a regular in my fridge... Great job Revolution!  \n",
      "[2025-04-30 16:20:42] (2.4.1.post1) Example 0: First had this one tap at Revolution a few weeks ago while in Chicago and was blown away... Picked up a 6-pack of cans locally in Cleveland and just as good as it was on tap, very impressed. Easily one of my favorite beers of all time now and will be a regular in my fridge... Great job Revolution!\n"
     ]
    },
    {
     "name": "stderr",
     "output_type": "stream",
     "text": [
      " 39%|███▉      | 39/100 [00:07<00:10,  5.60it/s]"
     ]
    },
    {
     "name": "stdout",
     "output_type": "stream",
     "text": [
      "[2025-04-30 16:20:42] (2.4.1.post1) Warning: reference sentiment does not exist or its number 0 is not equal to aspect number 1, text:  [B-ASP]Global Sentiment[E-ASP]    Pours crystal clear bright yellow with a medium fluffy to creamy white head that dissapates VERY slowly to a thin layer with some real good lace for the style. Aroma is of earthy and crisp citrus hops with a little sweet bread in the back. The flavor is the same as above really. Just a hint of soft bitterness. The sweet bread comes through a little more in the flavor but the hops shine through to brighten things up a little. Very smooth. Mouthfeel is medium bodied, crisp and smooth. I could drink a whole keg of this it's so drinkable.  \n",
      "[2025-04-30 16:20:42] (2.4.1.post1) Example 0: Pours crystal clear bright yellow with a medium fluffy to creamy white head that dissapates VERY slowly to a thin layer with some real good lace for the style. Aroma is of earthy and crisp citrus hops with a little sweet bread in the back. The flavor is the same as above really. Just a hint of soft bitterness. The sweet bread comes through a little more in the flavor but the hops shine through to brighten things up a little. Very smooth. Mouthfeel is medium bodied, crisp and smooth. I could drink a whole keg of this it's so drinkable.\n"
     ]
    },
    {
     "name": "stderr",
     "output_type": "stream",
     "text": [
      " 40%|████      | 40/100 [00:07<00:10,  5.47it/s]"
     ]
    },
    {
     "name": "stdout",
     "output_type": "stream",
     "text": [
      "[2025-04-30 16:20:42] (2.4.1.post1) Warning: reference sentiment does not exist or its number 0 is not equal to aspect number 1, text:  [B-ASP]Global Sentiment[E-ASP]    Poured this 750 mL green bottle into a Tripel Karmeliet glass. Dated \"15- sept 1999\". I purchased this beer @ UTObeer in the Borough Market in London while there in 2007. The label is in Flemish I believe. I paid 9.00 pounds for this one ($18+ at the time). It was a bargain. The cork popped loud and far despite my gentle opening. The cork was stamped with \"SB 10\". The first pour was bright and a clear rich golden color. Cloudier on subsequent pours. The brittle white head sizzled down fairly fast leaving only a film created by the nucleation of the glass. Smell was pretty bold. Pear and Pixie Stix candy. Public toilet dampness faded from the aroma. This one cleaned up and hints of pepper arose. Interesting. Taste was tart and fruity. Champagne-like. Wood notes. Bone dry. Delicious but not especially complex. It doesn't seem to change and unfold like some superior Gueuzes. I could drink this any day and be thrilled! Mouthfeel was prickly with a medium body. Finishes a bit deflated. Overall, very good!  \n",
      "[2025-04-30 16:20:42] (2.4.1.post1) Example 0: Poured this 750 mL green bottle into a Tripel Karmeliet glass. Dated \"15- sept 1999\". I purchased this beer @ UTObeer in the Borough Market in London while there in 2007. The label is in Flemish I believe. I paid 9.00 pounds for this one ($18+ at the time). It was a bargain. The cork popped loud and far despite my gentle opening. The cork was stamped with \"SB 10\". The first pour was bright and a clear rich golden color. Cloudier on subsequent pours. The brittle white head sizzled down fairly fast leaving only a film created by the nucleation of the glass. Smell was pretty bold. Pear and Pixie Stix candy. Public toilet dampness faded from the aroma. This one cleaned up and hints of pepper arose. Interesting. Taste was tart and fruity. Champagne-like. Wood notes. Bone dry. Delicious but not especially complex. It doesn't seem to change and unfold like some superior Gueuzes. I could drink this any day and be thrilled! Mouthfeel was prickly with a medium body. Finishes a bit deflated. Overall, very good!\n"
     ]
    },
    {
     "name": "stderr",
     "output_type": "stream",
     "text": [
      " 41%|████      | 41/100 [00:07<00:11,  5.09it/s]"
     ]
    },
    {
     "name": "stdout",
     "output_type": "stream",
     "text": [
      "[2025-04-30 16:20:42] (2.4.1.post1) Warning: reference sentiment does not exist or its number 0 is not equal to aspect number 1, text:  [B-ASP]Global Sentiment[E-ASP]    Presentation: 11.2oz brown pop top with nice label and freshness date Appearance: Hazy dark amber/burgundy beer with big beige head with good retention and lots of carbonation Smell: Lots of dark fruit up front, dried figs and raisins, caramel malts, toasted biscuity bread...nice Taste: More malt forward than I thought...cotton-candy sweetness, dark caramel malt, touch of dark fruit...sadly this ends with the same odd metallic twang that the other two beers from this brewery I've sampled had...it really takes away from the experience Mouthfeel: Medium/heavy Drinkability: Medium Conclusion: This is much better than the other two beers by Van Eecke that I've had...this is pretty good, except for the weird metallic bitterness on the finish and the fact that (this is the third beer from this brewery, all bought in a gift pack, that has almost immediately made my stomach churn, in a weird acidic way...I'm not sure what's up with that...)  \n",
      "[2025-04-30 16:20:42] (2.4.1.post1) Example 0: Presentation: 11.2oz brown pop top with nice label and freshness date Appearance: Hazy dark amber/burgundy beer with big beige head with good retention and lots of carbonation Smell: Lots of dark fruit up front, dried figs and raisins, caramel malts, toasted biscuity bread...nice Taste: More malt forward than I thought...cotton-candy sweetness, dark caramel malt, touch of dark fruit...sadly this ends with the same odd metallic twang that the other two beers from this brewery I've sampled had...it really takes away from the experience Mouthfeel: Medium/heavy Drinkability: Medium Conclusion: This is much better than the other two beers by Van Eecke that I've had...this is pretty good, except for the weird metallic bitterness on the finish and the fact that (this is the third beer from this brewery, all bought in a gift pack, that has almost immediately made my stomach churn, in a weird acidic way...I'm not sure what's up with that...)\n"
     ]
    },
    {
     "name": "stderr",
     "output_type": "stream",
     "text": [
      " 42%|████▏     | 42/100 [00:07<00:11,  5.23it/s]"
     ]
    },
    {
     "name": "stdout",
     "output_type": "stream",
     "text": [
      "[2025-04-30 16:20:42] (2.4.1.post1) Warning: reference sentiment does not exist or its number 0 is not equal to aspect number 1, text:  [B-ASP]Global Sentiment[E-ASP]    Appearance: Pours a bright, clear yellow body with a white head. Smell: A spicy, floral aroma with notes of juicy pineapple and watered down honey. Taste: Thin, fleeting cereal sweetness with the taste of pears before the jarring bitterness and heavy acidity of the long, unpleasant finish. Mouthfeel: Thin-bodied. Medium carbonation. Drinkability: Harsh and uninteresting.  \n",
      "[2025-04-30 16:20:42] (2.4.1.post1) Example 0: Appearance: Pours a bright, clear yellow body with a white head. Smell: A spicy, floral aroma with notes of juicy pineapple and watered down honey. Taste: Thin, fleeting cereal sweetness with the taste of pears before the jarring bitterness and heavy acidity of the long, unpleasant finish. Mouthfeel: Thin-bodied. Medium carbonation. Drinkability: Harsh and uninteresting.\n"
     ]
    },
    {
     "name": "stderr",
     "output_type": "stream",
     "text": [
      " 43%|████▎     | 43/100 [00:08<00:10,  5.35it/s]"
     ]
    },
    {
     "name": "stdout",
     "output_type": "stream",
     "text": [
      "[2025-04-30 16:20:42] (2.4.1.post1) Warning: reference sentiment does not exist or its number 0 is not equal to aspect number 1, text:  [B-ASP]Global Sentiment[E-ASP]    30cl brown bottle, filtered. BB 06/06. Served cool in a slim goblet. A: pours a dark caramely and dark reddish colour--beautiful~~ the off-white beer head dissipates quite fast, on top of a constant and gently bubbly body. S: intriguing nose... strawberry-jam, vanilla, richly toffeeish, caramel malts+malt syrup, sour-sweet licorice-smoked prunes (a Taiwanese delicacy)... Slightly too sweet for me, but the overall nose truly is distinctive. T: very interesting flavour mixing corn-syrup, ripe fig/fig jam, root-vegetable flavour like boiled potatos, and an underlying aftertaste of the afore-mentioned prunes... weak hoppyness behind with a touch of bitterness, but a licorice and mixed herbal bitter-sweetness lingers in the finish. This beer really reminds me a lot of Taiwanese high-mountain tea infused with a licorice-smoked prune--lovely faintly sour+bitter-sweet and herbal-ish lingering aftertaste rounds off the palate smoothly~~ M&D: creamy smooth texture and very balanced body; the drinkability is good due to its unusual taste, but I really struggle to categorise this beer. Maybe somebody who will have tried it could shed some lights on this?  \n",
      "[2025-04-30 16:20:43] (2.4.1.post1) Example 0: 30cl brown bottle, filtered. BB 06/06. Served cool in a slim goblet. A: pours a dark caramely and dark reddish colour--beautiful~~ the off-white beer head dissipates quite fast, on top of a constant and gently bubbly body. S: intriguing nose... strawberry-jam, vanilla, richly toffeeish, caramel malts+malt syrup, sour-sweet licorice-smoked prunes (a Taiwanese delicacy)... Slightly too sweet for me, but the overall nose truly is distinctive. T: very interesting flavour mixing corn-syrup, ripe fig/fig jam, root-vegetable flavour like boiled potatos, and an underlying aftertaste of the afore-mentioned prunes... weak hoppyness behind with a touch of bitterness, but a licorice and mixed herbal bitter-sweetness lingers in the finish. This beer really reminds me a lot of Taiwanese high-mountain tea infused with a licorice-smoked prune--lovely faintly sour+bitter-sweet and herbal-ish lingering aftertaste rounds off the palate smoothly~~ M&D: creamy smooth texture and very balanced body; the drinkability is good due to its unusual taste, but I really struggle to categorise this beer. Maybe somebody who will have tried it could shed some lights on this?\n"
     ]
    },
    {
     "name": "stderr",
     "output_type": "stream",
     "text": [
      " 44%|████▍     | 44/100 [00:08<00:10,  5.41it/s]"
     ]
    },
    {
     "name": "stdout",
     "output_type": "stream",
     "text": [
      "[2025-04-30 16:20:43] (2.4.1.post1) Warning: reference sentiment does not exist or its number 0 is not equal to aspect number 1, text:  [B-ASP]Global Sentiment[E-ASP]    Pours that gorgeous nitro infused mix of caramel cappucino and finishing into a fairly dark color stout (closer to a brown, borderline porter). Massive dense head is poured, pretty requisite to style. Aroma is pretty mute: whiffs of roasted grain, some creamy milk chocolate, a bit of floral hops, and finally some bitter black patent. On the palate, it is a luxurious smoothness of a light Irish stout, very dry with the creamy chocolate flavors coming first, a little astringency in the mid palate and finishing with a long sustain of black patent bitterness. Mouthfeel is spot on, low carbonation, medium body with a nicely textured head. Overall, these are the stouts for summer drinking. I spotted some Shakespeare and Yeti and decided when it's 80 plus out, this is a better option.  \n",
      "[2025-04-30 16:20:43] (2.4.1.post1) Example 0: Pours that gorgeous nitro infused mix of caramel cappucino and finishing into a fairly dark color stout (closer to a brown, borderline porter). Massive dense head is poured, pretty requisite to style. Aroma is pretty mute: whiffs of roasted grain, some creamy milk chocolate, a bit of floral hops, and finally some bitter black patent. On the palate, it is a luxurious smoothness of a light Irish stout, very dry with the creamy chocolate flavors coming first, a little astringency in the mid palate and finishing with a long sustain of black patent bitterness. Mouthfeel is spot on, low carbonation, medium body with a nicely textured head. Overall, these are the stouts for summer drinking. I spotted some Shakespeare and Yeti and decided when it's 80 plus out, this is a better option.\n"
     ]
    },
    {
     "name": "stderr",
     "output_type": "stream",
     "text": [
      " 45%|████▌     | 45/100 [00:08<00:10,  5.47it/s]"
     ]
    },
    {
     "name": "stdout",
     "output_type": "stream",
     "text": [
      "[2025-04-30 16:20:43] (2.4.1.post1) Warning: reference sentiment does not exist or its number 0 is not equal to aspect number 1, text:  [B-ASP]Global Sentiment[E-ASP]    On tap at Blu Wolf Bistro in Rochester, NY. This one pours a nice orange-ish yellow, with a very small head, not long lasting, with a little bit of lacing. Smells like grass, pine, orange, grapefruit, and some crackery malt. This isn't quite as good as some of the hoppy lagers being put out in Framingham, MA, but it's still nice anyway. There's a slightly wateriness on the finish, but up front, there's some nice crisp hoppiness, crackery malt, a grassy/piney bite, and some sweet citrus. This has a light, thin body, with a crisp mouthfeel, and a moderate level of carbonation. Another really nice beer from Singlecut, but not one of their best.  \n",
      "[2025-04-30 16:20:43] (2.4.1.post1) Example 0: On tap at Blu Wolf Bistro in Rochester, NY. This one pours a nice orange-ish yellow, with a very small head, not long lasting, with a little bit of lacing. Smells like grass, pine, orange, grapefruit, and some crackery malt. This isn't quite as good as some of the hoppy lagers being put out in Framingham, MA, but it's still nice anyway. There's a slightly wateriness on the finish, but up front, there's some nice crisp hoppiness, crackery malt, a grassy/piney bite, and some sweet citrus. This has a light, thin body, with a crisp mouthfeel, and a moderate level of carbonation. Another really nice beer from Singlecut, but not one of their best.\n"
     ]
    },
    {
     "name": "stderr",
     "output_type": "stream",
     "text": [
      " 46%|████▌     | 46/100 [00:08<00:09,  5.50it/s]"
     ]
    },
    {
     "name": "stdout",
     "output_type": "stream",
     "text": [
      "[2025-04-30 16:20:43] (2.4.1.post1) Warning: reference sentiment does not exist or its number 0 is not equal to aspect number 1, text:  [B-ASP]Global Sentiment[E-ASP]    2004 batch (gold foil): I had been saving this one for quite some time and I wasn't disappointed. It poured a rich caramel/toffee colour with a thin ring of fine bubbles. Very mellow, well-integrated aroma, with notes of caramel, apple, toffee, and brown sugar. The flavour has a fine balance - moderate bitterness with plenty of bready malt. Apple, chocolate, and toffee all make contributions as well. The finish has a tootsie roll character and fruit lingers beyond that. No alcohol was apparent. Full bodied with low carbonation and an extremely smooth texture. Truly awesome. The balance in the flavour and aroma was superb. I wish I had more of these beauties in storage. I miss this beer already...  \n",
      "[2025-04-30 16:20:43] (2.4.1.post1) Example 0: 2004 batch (gold foil): I had been saving this one for quite some time and I wasn't disappointed. It poured a rich caramel/toffee colour with a thin ring of fine bubbles. Very mellow, well-integrated aroma, with notes of caramel, apple, toffee, and brown sugar. The flavour has a fine balance - moderate bitterness with plenty of bready malt. Apple, chocolate, and toffee all make contributions as well. The finish has a tootsie roll character and fruit lingers beyond that. No alcohol was apparent. Full bodied with low carbonation and an extremely smooth texture. Truly awesome. The balance in the flavour and aroma was superb. I wish I had more of these beauties in storage. I miss this beer already...\n"
     ]
    },
    {
     "name": "stderr",
     "output_type": "stream",
     "text": [
      " 47%|████▋     | 47/100 [00:08<00:09,  5.52it/s]"
     ]
    },
    {
     "name": "stdout",
     "output_type": "stream",
     "text": [
      "[2025-04-30 16:20:43] (2.4.1.post1) Warning: reference sentiment does not exist or its number 0 is not equal to aspect number 1, text:  [B-ASP]Global Sentiment[E-ASP]    A - Poured out a clear, golden-orange color with a small, thin, white head of foam. It was short lived and left minimal lacing. S - It smelled of dried fruits, caramel and some spicy, floral hops. T - Good sweet caramel maltiness with a good dose of spiciness. There was a mild dried fruit (raisin) flavor. M - It was crisp and very sharp. A medium bodied ale with a smooth, dry finish. D - This is a pretty good ale. I've had better Belgian-style Pale Ales but this one was worth a shot.  \n",
      "[2025-04-30 16:20:43] (2.4.1.post1) Example 0: A - Poured out a clear, golden-orange color with a small, thin, white head of foam. It was short lived and left minimal lacing. S - It smelled of dried fruits, caramel and some spicy, floral hops. T - Good sweet caramel maltiness with a good dose of spiciness. There was a mild dried fruit (raisin) flavor. M - It was crisp and very sharp. A medium bodied ale with a smooth, dry finish. D - This is a pretty good ale. I've had better Belgian-style Pale Ales but this one was worth a shot.\n"
     ]
    },
    {
     "name": "stderr",
     "output_type": "stream",
     "text": [
      " 48%|████▊     | 48/100 [00:08<00:09,  5.53it/s]"
     ]
    },
    {
     "name": "stdout",
     "output_type": "stream",
     "text": [
      "[2025-04-30 16:20:43] (2.4.1.post1) Warning: reference sentiment does not exist or its number 0 is not equal to aspect number 1, text:  [B-ASP]Global Sentiment[E-ASP]    Presentation: Bless my little cotton Commie socks. A beer from Baltika which doesnt have a number! One of the great things about living in LA is the multi-cultural atmosphere I work in, my work colleagues know my love for beer and often I get unexpected gifts from some obscure places, this is one of them from a fellow Engineer formerly of Russia. A metric sized half-litre (500ml) brown glass bottle, labeled as 1 Pint 0.9 fluid ounces for the US market. The label is all foreign to me though, none of this translated Arsenalnoye rubbish, my bottle has the word APCEHA&#923;&#1041;HOE which translates as Beer from the Arsenal, in rough speak above the words Extra Lager in a smaller white text. The Arsenal heritage is borne out by the symbol atop the main label, a pair of dueling flintlock pistols crossed over a large letter A in a red circle. Main crown cap is red and has the text APCEHA&#923;&#1041;HOE &#1055;&#1054;&#1042;&#1054;. Listed as Alc. 7.0% by Vol. with a Production Date of 03.08.05 and Best before Date of 03.08.06. Appearance: Tremendous head on the pour, an expansive white jobby which stays at around 1-2 for some time and only slowly collapses, but always leaves a decent covering. Faded golden body with a pale-straw super-lucid clarity. A handful of streamers with average carbonation levels. Soft lacing which soon slides down back into the body of the Lager. Nose: Low strength aromas, I struggled to get anything at first, but I managed to get a reasonable guess at what was going on before the beer completely disappeared. Taste: Biscuit malts, pale and lightly toasted with some sweetness and a little grassy bitterness in the finish. Very middle of the road, it never strays from the tried-and-tested Lager formula, but there again neither does it suffer the awful adjunct laden sweet corn soaked in high alcohol crappy tastes that many East-Euro 5%+ Lagers project. Clean enough to enjoy but simple enough to forget. Mouthfeel: Never found the alleged 7% alcohol, unless it was asleep and waiting to kick my ass later on. Conditioning was good enough to add a smooth aspect and the lightly chilled body which kept the tastes in check. It felt OK, nothing great but good enough. Drinkability: I must stay that I really did not mind this one, not mediocre but nothing more than average. Simple enough with a clean profile, and I certainly wouldnt turn this one away at a Russian BBQ if it were offered. Overall: Not that bad actually, rather surprised in fact. But still just OK.  \n",
      "[2025-04-30 16:20:44] (2.4.1.post1) Example 0: Presentation: Bless my little cotton Commie socks. A beer from Baltika which doesnt have a number! One of the great things about living in LA is the multi-cultural atmosphere I work in, my work colleagues know my love for beer and often I get unexpected gifts from some obscure places, this is one of them from a fellow Engineer formerly of Russia. A metric sized half-litre (500ml) brown glass bottle, labeled as 1 Pint 0.9 fluid ounces for the US market. The label is all foreign to me though, none of this translated Arsenalnoye rubbish, my bottle has the word APCEHA&#923;&#1041;HOE which translates as Beer from the Arsenal, in rough speak above the words Extra Lager in a smaller white text. The Arsenal heritage is borne out by the symbol atop the main label, a pair of dueling flintlock pistols crossed over a large letter A in a red circle. Main crown cap is red and has the text APCEHA&#923;&#1041;HOE &#1055;&#1054;&#1042;&#1054;. Listed as Alc. 7.0% by Vol. with a Production Date of 03.08.05 and Best before Date of 03.08.06. Appearance: Tremendous head on the pour, an expansive white jobby which stays at around 1-2 for some time and only slowly collapses, but always leaves a decent covering. Faded golden body with a pale-straw super-lucid clarity. A handful of streamers with average carbonation levels. Soft lacing which soon slides down back into the body of the Lager. Nose: Low strength aromas, I struggled to get anything at first,\n"
     ]
    },
    {
     "name": "stderr",
     "output_type": "stream",
     "text": [
      " 49%|████▉     | 49/100 [00:09<00:09,  5.21it/s]"
     ]
    },
    {
     "name": "stdout",
     "output_type": "stream",
     "text": [
      "[2025-04-30 16:20:44] (2.4.1.post1) Warning: reference sentiment does not exist or its number 0 is not equal to aspect number 1, text:  [B-ASP]Global Sentiment[E-ASP]    341 mL brown bottle, undated. Pours a dark, opaque brown with a generous tan head. Big hop aroma, citric and resinous. Nutty malts are quickly overpowered by grapefruit rind and pine. Hints of bitter chocolate come through near the end. Lingering bitterness, semi-sweet. Full-bodied with moderate carbonation. Although not unpleasant, this is not what I think a brown ale should be like. Unbalanced, with too much emphasis on the hops.  \n",
      "[2025-04-30 16:20:44] (2.4.1.post1) Example 0: 341 mL brown bottle, undated. Pours a dark, opaque brown with a generous tan head. Big hop aroma, citric and resinous. Nutty malts are quickly overpowered by grapefruit rind and pine. Hints of bitter chocolate come through near the end. Lingering bitterness, semi-sweet. Full-bodied with moderate carbonation. Although not unpleasant, this is not what I think a brown ale should be like. Unbalanced, with too much emphasis on the hops.\n"
     ]
    },
    {
     "name": "stderr",
     "output_type": "stream",
     "text": [
      " 50%|█████     | 50/100 [00:09<00:09,  5.42it/s]"
     ]
    },
    {
     "name": "stdout",
     "output_type": "stream",
     "text": [
      "[2025-04-30 16:20:44] (2.4.1.post1) Warning: reference sentiment does not exist or its number 0 is not equal to aspect number 1, text:  [B-ASP]Global Sentiment[E-ASP]    hazy gold with thick white head that sticks around with good lacing. this is how this beer should look plain and simple. the aroma is intensly fruity with loads of different fruity smells... strawberry banana, citrus, mango, pear, apple, pineapple. they're all apparent at some point in the bottle or another, great complexity. there are also cloves, a light peppery quality, and light plastic-y type aroma, that might be a product of the funky yeast characteristics. an almost sweet barbeque sauce smell shows up as it warms too, as well as a little alcohol. the taste is tangy and acidic. citrus and pinapple seem to be most dominant. mango and apple sit in the background. it has a funky dry yeasty mustiness. minty floral hop aftertaste. hint of hay in the aftertaste too. as it approaches room temp a faint molasses flavor shows up. medium bodied with lively carbonation and dry as a bone. good drinkability, has well masked 9% abv and very easy to sip the entire botte away over a couple hours. an excellent funky fruity belgian pale.  \n",
      "[2025-04-30 16:20:44] (2.4.1.post1) Example 0: hazy gold with thick white head that sticks around with good lacing. this is how this beer should look plain and simple. the aroma is intensly fruity with loads of different fruity smells... strawberry banana, citrus, mango, pear, apple, pineapple. they're all apparent at some point in the bottle or another, great complexity. there are also cloves, a light peppery quality, and light plastic-y type aroma, that might be a product of the funky yeast characteristics. an almost sweet barbeque sauce smell shows up as it warms too, as well as a little alcohol. the taste is tangy and acidic. citrus and pinapple seem to be most dominant. mango and apple sit in the background. it has a funky dry yeasty mustiness. minty floral hop aftertaste. hint of hay in the aftertaste too. as it approaches room temp a faint molasses flavor shows up. medium bodied with lively carbonation and dry as a bone. good drinkability, has well masked 9% abv and very easy to sip the entire botte away over a couple hours. an excellent funky fruity belgian pale.\n"
     ]
    },
    {
     "name": "stderr",
     "output_type": "stream",
     "text": [
      " 51%|█████     | 51/100 [00:09<00:08,  5.57it/s]"
     ]
    },
    {
     "name": "stdout",
     "output_type": "stream",
     "text": [
      "[2025-04-30 16:20:44] (2.4.1.post1) Warning: reference sentiment does not exist or its number 0 is not equal to aspect number 1, text:  [B-ASP]Global Sentiment[E-ASP]    It if def a Rye Porter. The rye dominates the palate. The mouthfeel was nice and silky. great to look at. If you like beers made with rye, you will love this one  \n",
      "[2025-04-30 16:20:44] (2.4.1.post1) Example 0: It if def a Rye Porter. The rye dominates the palate. The mouthfeel was nice and silky. great to look at. If you like beers made with rye, you will love this one\n"
     ]
    },
    {
     "name": "stderr",
     "output_type": "stream",
     "text": [
      " 52%|█████▏    | 52/100 [00:09<00:08,  5.66it/s]"
     ]
    },
    {
     "name": "stdout",
     "output_type": "stream",
     "text": [
      "[2025-04-30 16:20:44] (2.4.1.post1) Warning: reference sentiment does not exist or its number 0 is not equal to aspect number 1, text:  [B-ASP]Global Sentiment[E-ASP]    0%\n",
      "[2025-04-30 16:20:44] (2.4.1.post1) Example 0: 0%\n"
     ]
    },
    {
     "name": "stderr",
     "output_type": "stream",
     "text": [
      " 53%|█████▎    | 53/100 [00:09<00:08,  5.73it/s]"
     ]
    },
    {
     "name": "stdout",
     "output_type": "stream",
     "text": [
      "[2025-04-30 16:20:44] (2.4.1.post1) Warning: reference sentiment does not exist or its number 0 is not equal to aspect number 1, text:  [B-ASP]Global Sentiment[E-ASP]    22 bomber bought at a great little wine shop in Kona Hawaii. Pours a clear amber color, very faint head, a lot of carbonation noted. Smells biscuit like, some dough, and with a slightly sweet malty note. Taste is crisp and dry, especially upfront. Finish has a bit of malt, slightly nutty, and a touch of sweetness. There is also a hint of hop bitterness. Not bad. Mouthfeel is just above average. A bit thin, and watery feeling. But it's not awful, and it has a decent fullness on the front, and well done cabonation. All in all not a bad beer. I had low expectations, and this actually exceeded them. Nice easy drinking lighter beer for the warm Hawaii climate.  \n",
      "[2025-04-30 16:20:44] (2.4.1.post1) Example 0: 22 bomber bought at a great little wine shop in Kona Hawaii. Pours a clear amber color, very faint head, a lot of carbonation noted. Smells biscuit like, some dough, and with a slightly sweet malty note. Taste is crisp and dry, especially upfront. Finish has a bit of malt, slightly nutty, and a touch of sweetness. There is also a hint of hop bitterness. Not bad. Mouthfeel is just above average. A bit thin, and watery feeling. But it's not awful, and it has a decent fullness on the front, and well done cabonation. All in all not a bad beer. I had low expectations, and this actually exceeded them. Nice easy drinking lighter beer for the warm Hawaii climate.\n"
     ]
    },
    {
     "name": "stderr",
     "output_type": "stream",
     "text": [
      " 54%|█████▍    | 54/100 [00:09<00:07,  5.79it/s]"
     ]
    },
    {
     "name": "stdout",
     "output_type": "stream",
     "text": [
      "[2025-04-30 16:20:44] (2.4.1.post1) Warning: reference sentiment does not exist or its number 0 is not equal to aspect number 1, text:  [B-ASP]Global Sentiment[E-ASP]    This is pretty tasty, but undercarbed as mentioned by others. If someone had told me this was a new batch of \"Enjoy By\", I'd believe it. Then again, it would've been about half the price in that case.  \n",
      "[2025-04-30 16:20:45] (2.4.1.post1) Example 0: This is pretty tasty, but undercarbed as mentioned by others. If someone had told me this was a new batch of \"Enjoy By\", I'd believe it. Then again, it would've been about half the price in that case.\n"
     ]
    },
    {
     "name": "stderr",
     "output_type": "stream",
     "text": [
      " 55%|█████▌    | 55/100 [00:10<00:07,  5.82it/s]"
     ]
    },
    {
     "name": "stdout",
     "output_type": "stream",
     "text": [
      "[2025-04-30 16:20:45] (2.4.1.post1) Warning: reference sentiment does not exist or its number 0 is not equal to aspect number 1, text:  [B-ASP]Global Sentiment[E-ASP]    This is the gold standard of Belgian IPAs. As you can see by the amount of review this beer has been amazing successful and is the most popular out of all FLying Dog brews. It satisfies the needs of the hop heads out there and also caters to those on the opposite end of the spectrum that like the Belgian. This beer smells fruity with a higher than average alcohol content of 8.3%. The beer is a dark amber color when poured into a bottle with a heavy amount of white lacing. Flying Dog forces carbonation in their beer so there is heavy head on this beer. It leads to a smooth, crisp heavily carbonated (though not in a bad way) mouthfeel. The taste is slightly sweet due to the Belgian yeast but neither that nor the taste of the hops linger. This is a very drinkable beer.  \n",
      "[2025-04-30 16:20:45] (2.4.1.post1) Example 0: This is the gold standard of Belgian IPAs. As you can see by the amount of review this beer has been amazing successful and is the most popular out of all FLying Dog brews. It satisfies the needs of the hop heads out there and also caters to those on the opposite end of the spectrum that like the Belgian. This beer smells fruity with a higher than average alcohol content of 8.3%. The beer is a dark amber color when poured into a bottle with a heavy amount of white lacing. Flying Dog forces carbonation in their beer so there is heavy head on this beer. It leads to a smooth, crisp heavily carbonated (though not in a bad way) mouthfeel. The taste is slightly sweet due to the Belgian yeast but neither that nor the taste of the hops linger. This is a very drinkable beer.\n"
     ]
    },
    {
     "name": "stderr",
     "output_type": "stream",
     "text": [
      " 56%|█████▌    | 56/100 [00:10<00:07,  5.84it/s]"
     ]
    },
    {
     "name": "stdout",
     "output_type": "stream",
     "text": [
      "[2025-04-30 16:20:45] (2.4.1.post1) Warning: reference sentiment does not exist or its number 0 is not equal to aspect number 1, text:  [B-ASP]Global Sentiment[E-ASP]    A clear golden pour with a strange lack of bubbles, considering the massive suds on top of the beer. They are big soapy looking suds too, absolutely clinging to the glass as it retreats. Aroma is pure hops, I know the bitterness is going to peel the taste buds off my tongue before I even take a drink. Strangely, it is a lot gentler than expected. Obviously the bitter is here, but it's a nice blend of pine and citrus, with neither being very forward. One of the most balanced hop mixes I have yet encountered. This is really good! Feels nice and dry too. I think I am going to have to get some more...  \n",
      "[2025-04-30 16:20:45] (2.4.1.post1) Example 0: A clear golden pour with a strange lack of bubbles, considering the massive suds on top of the beer. They are big soapy looking suds too, absolutely clinging to the glass as it retreats. Aroma is pure hops, I know the bitterness is going to peel the taste buds off my tongue before I even take a drink. Strangely, it is a lot gentler than expected. Obviously the bitter is here, but it's a nice blend of pine and citrus, with neither being very forward. One of the most balanced hop mixes I have yet encountered. This is really good! Feels nice and dry too. I think I am going to have to get some more...\n"
     ]
    },
    {
     "name": "stderr",
     "output_type": "stream",
     "text": [
      " 57%|█████▋    | 57/100 [00:10<00:07,  5.46it/s]"
     ]
    },
    {
     "name": "stdout",
     "output_type": "stream",
     "text": [
      "[2025-04-30 16:20:45] (2.4.1.post1) Warning: reference sentiment does not exist or its number 0 is not equal to aspect number 1, text:  [B-ASP]Global Sentiment[E-ASP]    Underwhelming, not much oak taste and the smell is very minimal\n",
      "[2025-04-30 16:20:45] (2.4.1.post1) Example 0: Underwhelming, not much oak taste and the smell is very minimal\n"
     ]
    },
    {
     "name": "stderr",
     "output_type": "stream",
     "text": [
      " 58%|█████▊    | 58/100 [00:10<00:07,  5.62it/s]"
     ]
    },
    {
     "name": "stdout",
     "output_type": "stream",
     "text": [
      "[2025-04-30 16:20:45] (2.4.1.post1) Warning: reference sentiment does not exist or its number 0 is not equal to aspect number 1, text:  [B-ASP]Global Sentiment[E-ASP]    Poured from a bomber into a perfect. Pours a light straw with no discernable cloud. Nice fluffy head settles to a sticky cap. Aroma is of light husky grain, bready and slightly dusty. Middle comes with fruity hops with slightly floral notes. Finishes sweetly fruity and floral. Aroma doesn't grab me by the nose, but it is very apparent. Flavor opens with husky grain, slightly tannic and a little acidic. Like the nose, the middle yeilds to fruity and floral hops with a nice amount of bitterness. Malt finishes the show, crackery and with slight hints of cream and toffee. Excellent. Mouthfeel is creamy and light at the same time. Very full mouthfeel with a middle to light body. The carbonation is lush and soft. Very nice. This is a very drinkable, very tasty beer. An outstanding example of an APA. Recommend.  \n",
      "[2025-04-30 16:20:45] (2.4.1.post1) Example 0: Poured from a bomber into a perfect. Pours a light straw with no discernable cloud. Nice fluffy head settles to a sticky cap. Aroma is of light husky grain, bready and slightly dusty. Middle comes with fruity hops with slightly floral notes. Finishes sweetly fruity and floral. Aroma doesn't grab me by the nose, but it is very apparent. Flavor opens with husky grain, slightly tannic and a little acidic. Like the nose, the middle yeilds to fruity and floral hops with a nice amount of bitterness. Malt finishes the show, crackery and with slight hints of cream and toffee. Excellent. Mouthfeel is creamy and light at the same time. Very full mouthfeel with a middle to light body. The carbonation is lush and soft. Very nice. This is a very drinkable, very tasty beer. An outstanding example of an APA. Recommend.\n"
     ]
    },
    {
     "name": "stderr",
     "output_type": "stream",
     "text": [
      " 59%|█████▉    | 59/100 [00:10<00:07,  5.70it/s]"
     ]
    },
    {
     "name": "stdout",
     "output_type": "stream",
     "text": [
      "[2025-04-30 16:20:45] (2.4.1.post1) Warning: reference sentiment does not exist or its number 0 is not equal to aspect number 1, text:  [B-ASP]Global Sentiment[E-ASP]    Out of a 750ml capped bottle. Pours a nice ruby brown color, some big yeast floaters at the bottom, a nice tight egg-shell colored head that left a nice sheet of sticky lacing on the glass. The aroma is sweet, vinous, with a bit of peppery spice, typical BSDA. Deep red wine, perhaps some sherry, flavors hit up front with a nice counter-balance of dark candi-sugar, some lights hints of tobacco or an earthy spice. There is a bit of a weird sourness or bitterness to this that I cannot quite place. The feel is moderate with plenty of carbonation, some fusel alcohol is present; though sweet overall finishes with a dry and bitter kick. A nice BSDA, nothing from this brewery disappoints. The brew is a bit boozy and dry/bitter for the style. Still a good pick up.  \n",
      "[2025-04-30 16:20:45] (2.4.1.post1) Example 0: Out of a 750ml capped bottle. Pours a nice ruby brown color, some big yeast floaters at the bottom, a nice tight egg-shell colored head that left a nice sheet of sticky lacing on the glass. The aroma is sweet, vinous, with a bit of peppery spice, typical BSDA. Deep red wine, perhaps some sherry, flavors hit up front with a nice counter-balance of dark candi-sugar, some lights hints of tobacco or an earthy spice. There is a bit of a weird sourness or bitterness to this that I cannot quite place. The feel is moderate with plenty of carbonation, some fusel alcohol is present; though sweet overall finishes with a dry and bitter kick. A nice BSDA, nothing from this brewery disappoints. The brew is a bit boozy and dry/bitter for the style. Still a good pick up.\n"
     ]
    },
    {
     "name": "stderr",
     "output_type": "stream",
     "text": [
      " 60%|██████    | 60/100 [00:11<00:06,  5.74it/s]"
     ]
    },
    {
     "name": "stdout",
     "output_type": "stream",
     "text": [
      "[2025-04-30 16:20:45] (2.4.1.post1) Warning: reference sentiment does not exist or its number 0 is not equal to aspect number 1, text:  [B-ASP]Global Sentiment[E-ASP]    0%\n",
      "[2025-04-30 16:20:46] (2.4.1.post1) Example 0: 0%\n"
     ]
    },
    {
     "name": "stderr",
     "output_type": "stream",
     "text": [
      " 61%|██████    | 61/100 [00:11<00:06,  5.78it/s]"
     ]
    },
    {
     "name": "stdout",
     "output_type": "stream",
     "text": [
      "[2025-04-30 16:20:46] (2.4.1.post1) Warning: reference sentiment does not exist or its number 0 is not equal to aspect number 1, text:  [B-ASP]Global Sentiment[E-ASP]    Got this as part of Mill Street's seasonal sampler pack, or I don't think I would have ever bought it again. Man this brings back memories. I used to drink this all the time a few years back (out of the bottle no less) before I moved on to better things. Pours like a standard ale. Nothing out of the ordinary. Yellow, as you can see in the photo above. Minimal head that quickly and completely disappears, never to be seen again. There's little to no head retention which is always a little disappointing. I am picking up very little in the aroma, not much but a hint of malt and grains and...um. Fruit? Some kind of fruit I guess. The taste is actually better than I was expecting. I guess there was a reason I drank this so much back then. A fairly okay amount malt with an inoffensive barely bitter finish, with an overall lemony fruitness to it. Nice sticky yet refreshing mouthfeel. I don't think this beer is aspiring to be anything but a well brewed crowd pleaser and if that is the case it does its job well. This wouldn't be a bad beer at all to session or slake your thirst or drink when your attention was focused elsewhere. I'd probably prefer something with a bit more character than this myself, but you could do a lot worse. I think this would be a great beer to keep in your fridge to offer guests who are used to macros.  \n",
      "[2025-04-30 16:20:46] (2.4.1.post1) Example 0: Got this as part of Mill Street's seasonal sampler pack, or I don't think I would have ever bought it again. Man this brings back memories. I used to drink this all the time a few years back (out of the bottle no less) before I moved on to better things. Pours like a standard ale. Nothing out of the ordinary. Yellow, as you can see in the photo above. Minimal head that quickly and completely disappears, never to be seen again. There's little to no head retention which is always a little disappointing. I am picking up very little in the aroma, not much but a hint of malt and grains and...um. Fruit? Some kind of fruit I guess. The taste is actually better than I was expecting. I guess there was a reason I drank this so much back then. A fairly okay amount malt with an inoffensive barely bitter finish, with an overall lemony fruitness to it. Nice sticky yet refreshing mouthfeel. I don't think this beer is aspiring to be anything but a well brewed crowd pleaser and if that is the case it does its job well. This wouldn't be a bad beer at all to session or slake your thirst or drink when your attention was focused elsewhere. I'd probably prefer something with a bit more character than this myself, but you could do a lot worse. I think this would be a great beer to keep in your fridge to\n"
     ]
    },
    {
     "name": "stderr",
     "output_type": "stream",
     "text": [
      " 62%|██████▏   | 62/100 [00:11<00:06,  5.84it/s]"
     ]
    },
    {
     "name": "stdout",
     "output_type": "stream",
     "text": [
      "[2025-04-30 16:20:46] (2.4.1.post1) Warning: reference sentiment does not exist or its number 0 is not equal to aspect number 1, text:  [B-ASP]Global Sentiment[E-ASP]    Poured from a 750mL bottle into a snifter. Thanks Steve for getting this one! Pours a hazy orange body - a little more orange than the normal trillium but the same amount of haze. White head reduces to leave spotty lacing and a little retention. Aromas are interesting/unique - has a light spicyness to it, tropical fruit, grassy, herbal and earthy. The tongue matches the nose with a dank resinous note added, cantaloupe and overripe tropical fruit. Medium body and carbonation. The enigma hop worked here and it was interesting to pick up the nuances of this hop as it's not widely used.  \n",
      "[2025-04-30 16:20:46] (2.4.1.post1) Example 0: Poured from a 750mL bottle into a snifter. Thanks Steve for getting this one! Pours a hazy orange body - a little more orange than the normal trillium but the same amount of haze. White head reduces to leave spotty lacing and a little retention. Aromas are interesting/unique - has a light spicyness to it, tropical fruit, grassy, herbal and earthy. The tongue matches the nose with a dank resinous note added, cantaloupe and overripe tropical fruit. Medium body and carbonation. The enigma hop worked here and it was interesting to pick up the nuances of this hop as it's not widely used.\n"
     ]
    },
    {
     "name": "stderr",
     "output_type": "stream",
     "text": [
      " 63%|██████▎   | 63/100 [00:11<00:06,  5.85it/s]"
     ]
    },
    {
     "name": "stdout",
     "output_type": "stream",
     "text": [
      "[2025-04-30 16:20:46] (2.4.1.post1) Warning: reference sentiment does not exist or its number 0 is not equal to aspect number 1, text:  [B-ASP]Global Sentiment[E-ASP]    0%\n",
      "[2025-04-30 16:20:46] (2.4.1.post1) Example 0: 0%\n"
     ]
    },
    {
     "name": "stderr",
     "output_type": "stream",
     "text": [
      " 64%|██████▍   | 64/100 [00:11<00:06,  5.89it/s]"
     ]
    },
    {
     "name": "stdout",
     "output_type": "stream",
     "text": [
      "[2025-04-30 16:20:46] (2.4.1.post1) Warning: reference sentiment does not exist or its number 0 is not equal to aspect number 1, text:  [B-ASP]Global Sentiment[E-ASP]    The beer pours out into a Corsondonk goblet a rich dark brown that looks black. There is a 1/4“ light tan head that recedes to a ring and an irregular island of foam on the surface. Sipping creates a few scattered specks and patches of lacing on the sides of the glass. The aromas include the chocolate and raspberry blend up front, with just a hint of roasted malt in the background. The flavors are much as expected from the nose with but with chocolate up front and backed up strongly by the raspberries. There’s also a light touch of roasted malt and bitterness from the roast. Mingled in to the flavor mix are some fruity sweetness and a bit of tartness from the raspberries. There doesn’t seem to be any real hop bitterness showing. The alcohol is well concealed here and noticeable only from the slight warmth it creates after several sips. The mouthfeel is on the full side of medium bodied and fairly smooth with the small bubbled light carbonation. The medium long finish begins as the chocolate and roasted malt recede further into the background, leaving the raspberry, the light sweetness and the touch of tartness to slowly follow them. Finally in the ending there is again some dark roasted bitterness that becomes tinged with a dry hint of the raspberry in the back of the palate. Overall this is a very well made beer that I’m very much enjoying and one I certainly expect to be having again. In fact I think I’ll get another bottle to have on hand for a special occasion or for a day that needs to be improved by having a special beer. If you think you might enjoy chocolate covered raspberries this is recommended.  \n",
      "[2025-04-30 16:20:46] (2.4.1.post1) Example 0: The beer pours out into a Corsondonk goblet a rich dark brown that looks black. There is a 1/4“ light tan head that recedes to a ring and an irregular island of foam on the surface. Sipping creates a few scattered specks and patches of lacing on the sides of the glass. The aromas include the chocolate and raspberry blend up front, with just a hint of roasted malt in the background. The flavors are much as expected from the nose with but with chocolate up front and backed up strongly by the raspberries. There’s also a light touch of roasted malt and bitterness from the roast. Mingled in to the flavor mix are some fruity sweetness and a bit of tartness from the raspberries. There doesn’t seem to be any real hop bitterness showing. The alcohol is well concealed here and noticeable only from the slight warmth it creates after several sips. The mouthfeel is on the full side of medium bodied and fairly smooth with the small bubbled light carbonation. The medium long finish begins as the chocolate and roasted malt recede further into the background, leaving the raspberry, the light sweetness and the touch of tartness to slowly follow them. Finally in the ending there is again some dark roasted bitterness that becomes tinged with a dry hint of the raspberry in the back of the palate. Overall this is a very well made beer that I’m very much enjoying and one I certainly\n"
     ]
    },
    {
     "name": "stderr",
     "output_type": "stream",
     "text": [
      " 65%|██████▌   | 65/100 [00:11<00:06,  5.41it/s]"
     ]
    },
    {
     "name": "stdout",
     "output_type": "stream",
     "text": [
      "[2025-04-30 16:20:46] (2.4.1.post1) Warning: reference sentiment does not exist or its number 0 is not equal to aspect number 1, text:  [B-ASP]Global Sentiment[E-ASP]    This is based on the most recent bottle I sampled. The beer pours an orange amber color with good head retention and very nice lacing. At least for this bottle, the nose is the best part of this beer, as I pick up considerable dry citrus, light skunky weed, some noticable pine and white pepper. The flavor profile replicates the nose to some extent, but there is already some noticeable sweet maltiness in the mid palate and finish that I associate with less than optimal freshness in this beer. Otherwise, this IPA is on the dry side, with a moderately long, bitter finish. Alcohol is well integrated into the flavor profile, and mouthfeel is medium bodied with a clean, moderately bitter finish. A couple of thoughts about this beer. I used to see this beer on tap frequently at various bars in Pittsburgh when I lived in Morgantown. While always pretty good, I was also always a bit hesitant to order it, as in my experience this beer goes down hill pretty quickly once it's been tapped. Fresh, this beer was a tasty IPA that I would frequently order as an alternative to Bells Two Hearted, which was the other staple I'd see on tap in and around Pittsburgh. Unfortunately, I ordered far too many pints of HH that were nowhere close to optimal freshness, which is why I became increasingly cautious about ordering it. On the other hand, a bottle sent to me by a friend a few months back was incredible, and at long last I could see some basis for the lofty score this beer seems to routinely get on BA. The one I drank last night was decent, but in light of the bottle I enjoyed a few months back, something of a disappointment. Bottle/batch variation seems to be the order of the day with this beer, which is the only cautionary note I would make regarding this otherwise well made IPA from Fat Head's.  \n",
      "[2025-04-30 16:20:47] (2.4.1.post1) Example 0: This is based on the most recent bottle I sampled. The beer pours an orange amber color with good head retention and very nice lacing. At least for this bottle, the nose is the best part of this beer, as I pick up considerable dry citrus, light skunky weed, some noticable pine and white pepper. The flavor profile replicates the nose to some extent, but there is already some noticeable sweet maltiness in the mid palate and finish that I associate with less than optimal freshness in this beer. Otherwise, this IPA is on the dry side, with a moderately long, bitter finish. Alcohol is well integrated into the flavor profile, and mouthfeel is medium bodied with a clean, moderately bitter finish. A couple of thoughts about this beer. I used to see this beer on tap frequently at various bars in Pittsburgh when I lived in Morgantown. While always pretty good, I was also always a bit hesitant to order it, as in my experience this beer goes down hill pretty quickly once it's been tapped. Fresh, this beer was a tasty IPA that I would frequently order as an alternative to Bells Two Hearted, which was the other staple I'd see on tap in and around Pittsburgh. Unfortunately, I ordered far too many pints of HH that were nowhere close to optimal freshness, which is why I became increasingly cautious about ordering it. On the other hand, a bottle sent to me by a friend\n"
     ]
    },
    {
     "name": "stderr",
     "output_type": "stream",
     "text": [
      " 66%|██████▌   | 66/100 [00:12<00:06,  5.56it/s]"
     ]
    },
    {
     "name": "stdout",
     "output_type": "stream",
     "text": [
      "[2025-04-30 16:20:47] (2.4.1.post1) Warning: reference sentiment does not exist or its number 0 is not equal to aspect number 1, text:  [B-ASP]Global Sentiment[E-ASP]    Thanks to Tyler for grabbing this for me on a recent trip to PDX. Poured into 10oz glass. Poured a nice medium golden yellow with a thin cap of white head that had OK retention and lacing. The was nicely grainy, with a solid, but mellow, dose of hops. The flavor was also grain forward with a bit of a hop tang on the finish. The body was surprisingly full, not heavy and a bit too sweet to be called crisp, and very enjoyable. Drinkability was pretty good, I could easily have these as my chore beer, or at a cookout if it were local to me. Overall, a solid and enjoyable brew that's worth a shot if you see it.  \n",
      "[2025-04-30 16:20:47] (2.4.1.post1) Example 0: Thanks to Tyler for grabbing this for me on a recent trip to PDX. Poured into 10oz glass. Poured a nice medium golden yellow with a thin cap of white head that had OK retention and lacing. The was nicely grainy, with a solid, but mellow, dose of hops. The flavor was also grain forward with a bit of a hop tang on the finish. The body was surprisingly full, not heavy and a bit too sweet to be called crisp, and very enjoyable. Drinkability was pretty good, I could easily have these as my chore beer, or at a cookout if it were local to me. Overall, a solid and enjoyable brew that's worth a shot if you see it.\n"
     ]
    },
    {
     "name": "stderr",
     "output_type": "stream",
     "text": [
      " 67%|██████▋   | 67/100 [00:12<00:05,  5.66it/s]"
     ]
    },
    {
     "name": "stdout",
     "output_type": "stream",
     "text": [
      "[2025-04-30 16:20:47] (2.4.1.post1) Warning: reference sentiment does not exist or its number 0 is not equal to aspect number 1, text:  [B-ASP]Global Sentiment[E-ASP]    Crystalline orange-copper capped by a large, light tan head. The foam is semi-stiff and eventually falls to a thick, chunky disk. Underwhelming lace. The nose is a near equal mixture of lightly toasted caramel malt and spicy hops; the hops being a bit more prominent. I like the flavor, though it could be more assertive. Malt dominates the start with spicy hops fading in and taking over at the midway point of each mouthful. Malt appears again on the finish due to a minor grain/husk intrusion. There's a mineral-like (though not metallic) aspect to the finish as well. It isn't an overly hoppy beer considering the style. The body is closer to light than to medium and the mouthfeel is slightly too busy. BridgePort ESB is a solid, if not overly impressive, version of the style. It could stand to be more flavor assertive, particularly with regard to hops. It's still enjoyable though, and does go down rather easily.  \n",
      "[2025-04-30 16:20:47] (2.4.1.post1) Example 0: Crystalline orange-copper capped by a large, light tan head. The foam is semi-stiff and eventually falls to a thick, chunky disk. Underwhelming lace. The nose is a near equal mixture of lightly toasted caramel malt and spicy hops; the hops being a bit more prominent. I like the flavor, though it could be more assertive. Malt dominates the start with spicy hops fading in and taking over at the midway point of each mouthful. Malt appears again on the finish due to a minor grain/husk intrusion. There's a mineral-like (though not metallic) aspect to the finish as well. It isn't an overly hoppy beer considering the style. The body is closer to light than to medium and the mouthfeel is slightly too busy. BridgePort ESB is a solid, if not overly impressive, version of the style. It could stand to be more flavor assertive, particularly with regard to hops. It's still enjoyable though, and does go down rather easily.\n"
     ]
    },
    {
     "name": "stderr",
     "output_type": "stream",
     "text": [
      " 68%|██████▊   | 68/100 [00:12<00:05,  5.77it/s]"
     ]
    },
    {
     "name": "stdout",
     "output_type": "stream",
     "text": [
      "[2025-04-30 16:20:47] (2.4.1.post1) Warning: reference sentiment does not exist or its number 0 is not equal to aspect number 1, text:  [B-ASP]Global Sentiment[E-ASP]    0%\n",
      "[2025-04-30 16:20:47] (2.4.1.post1) Example 0: 0%\n"
     ]
    },
    {
     "name": "stderr",
     "output_type": "stream",
     "text": [
      " 69%|██████▉   | 69/100 [00:12<00:05,  5.81it/s]"
     ]
    },
    {
     "name": "stdout",
     "output_type": "stream",
     "text": [
      "[2025-04-30 16:20:47] (2.4.1.post1) Warning: reference sentiment does not exist or its number 0 is not equal to aspect number 1, text:  [B-ASP]Global Sentiment[E-ASP]    12 oz. bottle with just a plain and simple dark forest green label that has the name of the beer in big white letters. To the left side is a description of the beer and why it's called \"Saint Bridget's Porter.\" Below that is where they say this beer got the gold at the World Beer Cup all the way back in 1996. To the right side is where they keep the US Government warning, refund values, address of the brewery, and a notched month and week bottle date. Mine was hard to see where they notched it, so I don't know how this beer was. Appearance: When poured into a Bell's brewery pint glass, this Porter is a dark cola mahagony brown with a less than a 1/2 inch head of tan foam. The head of foam quickly fizzled away in a matter of only 2 seconds. It manage to leave behind islands of fizzy bubbles, tan foamy rings, and a smidge of tan rings around the glass. Smell: It had a nice medium sized base aroma of roasted espresso beans. Once I got passed the espresso cloud, I got a big whiff of dark roasted malts, bitter dark chocolate, and a pinch of sweet caramel and roasted hops. Taste: I could taste all the characteristics of a good Porter in the making. It had all the usual Porter tastes of dark roasted malts, bitter dark chocolate, roasted coffee beans, and a splash of roasted hops. But what made this one so different was the fact that it tasted like Great Divide watered down most of the roasted flavors for some odd reason. It was fine where the taste was going, but then it did a U-turn when the water kicked in. Mouthfeel: I thought it was a heavly carbonated medium bodied beer that had a quick aftertaste of roasted espresso beans, dark chocolate, and dark roasted malts. It's too bad the aftertaste didn't last long because there were quite a few good flavors in that aftertaste. Drinkability: It was an OK porter from Great Divide, but it could have been a great Porter from Great Divide if they hadn't watered down the taste. In the world of Porters, I could pass on this one.  \n",
      "[2025-04-30 16:20:47] (2.4.1.post1) Example 0: 12 oz. bottle with just a plain and simple dark forest green label that has the name of the beer in big white letters. To the left side is a description of the beer and why it's called \"Saint Bridget's Porter.\" Below that is where they say this beer got the gold at the World Beer Cup all the way back in 1996. To the right side is where they keep the US Government warning, refund values, address of the brewery, and a notched month and week bottle date. Mine was hard to see where they notched it, so I don't know how this beer was. Appearance: When poured into a Bell's brewery pint glass, this Porter is a dark cola mahagony brown with a less than a 1/2 inch head of tan foam. The head of foam quickly fizzled away in a matter of only 2 seconds. It manage to leave behind islands of fizzy bubbles, tan foamy rings, and a smidge of tan rings around the glass. Smell: It had a nice medium sized base aroma of roasted espresso beans. Once I got passed the espresso cloud, I got a big whiff of dark roasted malts, bitter dark chocolate, and a pinch of sweet caramel and roasted hops. Taste: I could taste all the characteristics of a good Porter in the making. It had all the usual Porter tastes of dark roasted malts, bitter dark chocolate, roasted coffee beans, and a splash of roasted hops.\n"
     ]
    },
    {
     "name": "stderr",
     "output_type": "stream",
     "text": [
      " 70%|███████   | 70/100 [00:12<00:05,  5.85it/s]"
     ]
    },
    {
     "name": "stdout",
     "output_type": "stream",
     "text": [
      "[2025-04-30 16:20:47] (2.4.1.post1) Warning: reference sentiment does not exist or its number 0 is not equal to aspect number 1, text:  [B-ASP]Global Sentiment[E-ASP]    appearance - Golden color with a nice large white head. smell - Smells of yeast, bread, sna spices here. taste - Has a sweet taste of spices and some mild hops present with a dry ending taste. mouthfeel - Medium body. drinkability - I know this is popular,but felt it was overrated. I thought it was an ok beer, above average, but nothing that I would says wow you have try this.  \n",
      "[2025-04-30 16:20:47] (2.4.1.post1) Example 0: appearance - Golden color with a nice large white head. smell - Smells of yeast, bread, sna spices here. taste - Has a sweet taste of spices and some mild hops present with a dry ending taste. mouthfeel - Medium body. drinkability - I know this is popular,but felt it was overrated. I thought it was an ok beer, above average, but nothing that I would says wow you have try this.\n"
     ]
    },
    {
     "name": "stderr",
     "output_type": "stream",
     "text": [
      " 71%|███████   | 71/100 [00:12<00:04,  5.84it/s]"
     ]
    },
    {
     "name": "stdout",
     "output_type": "stream",
     "text": [
      "[2025-04-30 16:20:47] (2.4.1.post1) Warning: reference sentiment does not exist or its number 0 is not equal to aspect number 1, text:  [B-ASP]Global Sentiment[E-ASP]    Crystal clear extremely pale yellow, big bubbled carbonation forms a white head. Decent retention, good lacing. Pretty attractive despite the light color. Smells great - the fruits are in the forefront, but have nice zesty hoppage and great yeastwork behind it. Taste is honestly very close to those fruit-flavored seltzer waters (with some spicy hops added). Pretty horrid. Very thin and dry with harsh carbonation and astringent grainy bitter finish. The aftertaste challenges you to take another sip. No thanks, I gave this a fair shot. Too bad, it started with so much potential. Is this low-carb? Maybe that was the plan. I am trying to grasp why a good brewery would make this.  \n",
      "[2025-04-30 16:20:48] (2.4.1.post1) Example 0: Crystal clear extremely pale yellow, big bubbled carbonation forms a white head. Decent retention, good lacing. Pretty attractive despite the light color. Smells great - the fruits are in the forefront, but have nice zesty hoppage and great yeastwork behind it. Taste is honestly very close to those fruit-flavored seltzer waters (with some spicy hops added). Pretty horrid. Very thin and dry with harsh carbonation and astringent grainy bitter finish. The aftertaste challenges you to take another sip. No thanks, I gave this a fair shot. Too bad, it started with so much potential. Is this low-carb? Maybe that was the plan. I am trying to grasp why a good brewery would make this.\n"
     ]
    },
    {
     "name": "stderr",
     "output_type": "stream",
     "text": [
      " 72%|███████▏  | 72/100 [00:13<00:04,  5.88it/s]"
     ]
    },
    {
     "name": "stdout",
     "output_type": "stream",
     "text": [
      "[2025-04-30 16:20:48] (2.4.1.post1) Warning: reference sentiment does not exist or its number 0 is not equal to aspect number 1, text:  [B-ASP]Global Sentiment[E-ASP]    Spent an extremely pleasant afternoon in a Pub in Victoria BC drinking this beer, so my rating may be a little biased.Medium red color. Roasted malts, slightly hoppy, very flavorful ale. Refreshing and slightly hoppy. Good malt/hop balance. Mouthfeel is full and round. Finish is clean. Aftertaste is slightly bitter.  \n",
      "[2025-04-30 16:20:48] (2.4.1.post1) Example 0: Spent an extremely pleasant afternoon in a Pub in Victoria BC drinking this beer, so my rating may be a little biased.Medium red color. Roasted malts, slightly hoppy, very flavorful ale. Refreshing and slightly hoppy. Good malt/hop balance. Mouthfeel is full and round. Finish is clean. Aftertaste is slightly bitter.\n"
     ]
    },
    {
     "name": "stderr",
     "output_type": "stream",
     "text": [
      " 73%|███████▎  | 73/100 [00:13<00:04,  5.44it/s]"
     ]
    },
    {
     "name": "stdout",
     "output_type": "stream",
     "text": [
      "[2025-04-30 16:20:48] (2.4.1.post1) Warning: reference sentiment does not exist or its number 0 is not equal to aspect number 1, text:  [B-ASP]Global Sentiment[E-ASP]    Served in a Devil's Backbone weizen glass. Figured I'd grab one o' these guys before they disappear for the rest of the year. It pours a pretty clear pale straw, riddled with particulates, topped by over a finger of healthy white froth. The nose comprises orange peel, mandarin orange flesh, puffed rice, and wet wheat. The taste comprises corn syrup, wheat, light mandarin orange, and flowers. The body is light, with a light carbonation and a thickly watery feel. Overall, a decent APWA, nothing close to special, but highly drinkable.  \n",
      "[2025-04-30 16:20:48] (2.4.1.post1) Example 0: Served in a Devil's Backbone weizen glass. Figured I'd grab one o' these guys before they disappear for the rest of the year. It pours a pretty clear pale straw, riddled with particulates, topped by over a finger of healthy white froth. The nose comprises orange peel, mandarin orange flesh, puffed rice, and wet wheat. The taste comprises corn syrup, wheat, light mandarin orange, and flowers. The body is light, with a light carbonation and a thickly watery feel. Overall, a decent APWA, nothing close to special, but highly drinkable.\n"
     ]
    },
    {
     "name": "stderr",
     "output_type": "stream",
     "text": [
      " 74%|███████▍  | 74/100 [00:13<00:04,  5.57it/s]"
     ]
    },
    {
     "name": "stdout",
     "output_type": "stream",
     "text": [
      "[2025-04-30 16:20:48] (2.4.1.post1) Warning: reference sentiment does not exist or its number 0 is not equal to aspect number 1, text:  [B-ASP]Global Sentiment[E-ASP]    This tasted very little like beer. More like raspberry flavored pop or mineral water. The fruit was just too strong for my liking. It tasted very sugary and very berry. I couldn't taste much typical beer flavors in it at all. Drinkability is therefore pretty low on this. Not my thing really. I much prefer Leinie's Sunset Wheat, where fruit flavors compliment beer flavors, instead of completely dominating them.  \n",
      "[2025-04-30 16:20:48] (2.4.1.post1) Example 0: This tasted very little like beer. More like raspberry flavored pop or mineral water. The fruit was just too strong for my liking. It tasted very sugary and very berry. I couldn't taste much typical beer flavors in it at all. Drinkability is therefore pretty low on this. Not my thing really. I much prefer Leinie's Sunset Wheat, where fruit flavors compliment beer flavors, instead of completely dominating them.\n"
     ]
    },
    {
     "name": "stderr",
     "output_type": "stream",
     "text": [
      " 75%|███████▌  | 75/100 [00:13<00:04,  5.68it/s]"
     ]
    },
    {
     "name": "stdout",
     "output_type": "stream",
     "text": [
      "[2025-04-30 16:20:48] (2.4.1.post1) Warning: reference sentiment does not exist or its number 0 is not equal to aspect number 1, text:  [B-ASP]Global Sentiment[E-ASP]    Pours a orangish body with real good frothy head that dies slow with lace. A spicy, sour grape/tart fruit and citric hop aroma as well as yeasty; something like apple or pear in as well. Little bit of sugariness for sweetness and some spices come in as well. Great balance comes to my mind, especially for the Belgian take on this style. Slightly smooth and creamy, the beer is light-bodied but still has a carbonation that makes the beer sharp and pronounces the citric hops which abound. Great balance is achieved with tart fruit tastes like grape skin, apple and pear. Clove and pepper round out the body which has a good candi-sugar and caramel sweetness as well a grainy, bready touch. Easy to drink with good fruit and sweetness while still maintaing a large hop edge, this beer finishes real crisp and is a must for anyone who appreciates Belgian ales.  \n",
      "[2025-04-30 16:20:48] (2.4.1.post1) Example 0: Pours a orangish body with real good frothy head that dies slow with lace. A spicy, sour grape/tart fruit and citric hop aroma as well as yeasty; something like apple or pear in as well. Little bit of sugariness for sweetness and some spices come in as well. Great balance comes to my mind, especially for the Belgian take on this style. Slightly smooth and creamy, the beer is light-bodied but still has a carbonation that makes the beer sharp and pronounces the citric hops which abound. Great balance is achieved with tart fruit tastes like grape skin, apple and pear. Clove and pepper round out the body which has a good candi-sugar and caramel sweetness as well a grainy, bready touch. Easy to drink with good fruit and sweetness while still maintaing a large hop edge, this beer finishes real crisp and is a must for anyone who appreciates Belgian ales.\n"
     ]
    },
    {
     "name": "stderr",
     "output_type": "stream",
     "text": [
      " 76%|███████▌  | 76/100 [00:13<00:04,  5.75it/s]"
     ]
    },
    {
     "name": "stdout",
     "output_type": "stream",
     "text": [
      "[2025-04-30 16:20:48] (2.4.1.post1) Warning: reference sentiment does not exist or its number 0 is not equal to aspect number 1, text:  [B-ASP]Global Sentiment[E-ASP]    You had this beer. Write a review.\n",
      "[2025-04-30 16:20:48] (2.4.1.post1) Example 0: You had this beer. Write a review.\n"
     ]
    },
    {
     "name": "stderr",
     "output_type": "stream",
     "text": [
      " 77%|███████▋  | 77/100 [00:14<00:03,  5.79it/s]"
     ]
    },
    {
     "name": "stdout",
     "output_type": "stream",
     "text": [
      "[2025-04-30 16:20:48] (2.4.1.post1) Warning: reference sentiment does not exist or its number 0 is not equal to aspect number 1, text:  [B-ASP]Global Sentiment[E-ASP]    12 oz bottle, poured into a tulip. Pours a light brownish amber with a minimal off-white head. Minimal retention and lacing. Smells of toasty and nutty malts with some ripe and overripe citrus. A fair amount of caramel malt sweetness, too. In the mouth, this is a pretty fruity and tangy take on a bitter. As in the nose, toasty and nutty, with a sweet combo of overripe citrus and caramel. Medium-thick body with moderate carbonation. Overripe orange and earthiness linger for a moment. Overall impression: Pretty good brew, sessionable but unmemorable.  \n",
      "[2025-04-30 16:20:49] (2.4.1.post1) Example 0: 12 oz bottle, poured into a tulip. Pours a light brownish amber with a minimal off-white head. Minimal retention and lacing. Smells of toasty and nutty malts with some ripe and overripe citrus. A fair amount of caramel malt sweetness, too. In the mouth, this is a pretty fruity and tangy take on a bitter. As in the nose, toasty and nutty, with a sweet combo of overripe citrus and caramel. Medium-thick body with moderate carbonation. Overripe orange and earthiness linger for a moment. Overall impression: Pretty good brew, sessionable but unmemorable.\n"
     ]
    },
    {
     "name": "stderr",
     "output_type": "stream",
     "text": [
      " 78%|███████▊  | 78/100 [00:14<00:03,  5.82it/s]"
     ]
    },
    {
     "name": "stdout",
     "output_type": "stream",
     "text": [
      "[2025-04-30 16:20:49] (2.4.1.post1) Warning: reference sentiment does not exist or its number 0 is not equal to aspect number 1, text:  [B-ASP]Global Sentiment[E-ASP]    Can't say anything without first thanking Sean for this gem...2012 CFH, gold waxed & capped, poured into a Deschutes tulip. A: Dense opaque black with a soft cap of khaki tan head. S: Intense bourbon and whiskey notes without being extraordinarily boozy...rye whiskey spice as well? Tons and tons of rich sweet milk chocolate, toasted almond, and oak. T: Taste follows the nose with just a bit more booze; bourbon, oak, rich dark chocolate fudge...toasted coconut and almond, strong notes of whiskey accompanies a touch of burn on the throat, with hints of spiced vanilla. MF: Honestly pretty smooth and mellow for a 2012 bottle. Soft carbonation, full bodied, velvety and a bit viscous and coating. O: So tasty! The very best beer I've ever had, something I could drink all of the time even with the moderate-to-strong bourbon presence. IMO, do what you have to to trade for one of these.  \n",
      "[2025-04-30 16:20:49] (2.4.1.post1) Example 0: Can't say anything without first thanking Sean for this gem...2012 CFH, gold waxed & capped, poured into a Deschutes tulip. A: Dense opaque black with a soft cap of khaki tan head. S: Intense bourbon and whiskey notes without being extraordinarily boozy...rye whiskey spice as well? Tons and tons of rich sweet milk chocolate, toasted almond, and oak. T: Taste follows the nose with just a bit more booze; bourbon, oak, rich dark chocolate fudge...toasted coconut and almond, strong notes of whiskey accompanies a touch of burn on the throat, with hints of spiced vanilla. MF: Honestly pretty smooth and mellow for a 2012 bottle. Soft carbonation, full bodied, velvety and a bit viscous and coating. O: So tasty! The very best beer I've ever had, something I could drink all of the time even with the moderate-to-strong bourbon presence. IMO, do what you have to to trade for one of these.\n"
     ]
    },
    {
     "name": "stderr",
     "output_type": "stream",
     "text": [
      " 79%|███████▉  | 79/100 [00:14<00:03,  5.83it/s]"
     ]
    },
    {
     "name": "stdout",
     "output_type": "stream",
     "text": [
      "[2025-04-30 16:20:49] (2.4.1.post1) Warning: reference sentiment does not exist or its number 0 is not equal to aspect number 1, text:  [B-ASP]Global Sentiment[E-ASP]    Tap at New World Tavern in Playmouth, MA. Light fizzy head decent lacing, hazy slight honey carrot orange color. Nose light sour fermented pumpkin, little apple pie spices and nutty, lots of mulling spices which make it pretty aromatic but they seem kinda weird for a lambic, some sour tart funk but light, a bit of a funky gueuze, some light reddish malts. Taste starts with a big pumpkin flavor, tons of pie both pumpkin and Apple pie, Apple pie spices and nutty flavor, some pumpkin pie and fermented pumpkin, plenty of mulling spices, light tart funk gueuze like, semi sweet too. Finish has a bit more tartness, light acidity and little flemmy, nice lambic like tartness, interesting pumpkin and apple. Mouth is med bodied, decent carb bit the bottle is probably better. Light tart flemmy finish. Overall decent, bit too sweet, to much Apple and pie flavors, spices, nuts, etc, the crazy mulling spices make it kinda weird for a lambic, and the sweetness and pie like take it more from a traditional lambic to more of a sweet dessert lambic like a Lindeman's style but still better than that at least. I do give them some credit for a uniqueness of it, actually getting pumpkin into a lambic without it really sucking at least. I'm glad I only paid a few bucks to try this on draft rather than a handful of money for a big bottle that I don't think I could finish by myself. The single glass is hard enough to finish.  \n",
      "[2025-04-30 16:20:49] (2.4.1.post1) Example 0: Tap at New World Tavern in Playmouth, MA. Light fizzy head decent lacing, hazy slight honey carrot orange color. Nose light sour fermented pumpkin, little apple pie spices and nutty, lots of mulling spices which make it pretty aromatic but they seem kinda weird for a lambic, some sour tart funk but light, a bit of a funky gueuze, some light reddish malts. Taste starts with a big pumpkin flavor, tons of pie both pumpkin and Apple pie, Apple pie spices and nutty flavor, some pumpkin pie and fermented pumpkin, plenty of mulling spices, light tart funk gueuze like, semi sweet too. Finish has a bit more tartness, light acidity and little flemmy, nice lambic like tartness, interesting pumpkin and apple. Mouth is med bodied, decent carb bit the bottle is probably better. Light tart flemmy finish. Overall decent, bit too sweet, to much Apple and pie flavors, spices, nuts, etc, the crazy mulling spices make it kinda weird for a lambic, and the sweetness and pie like take it more from a traditional lambic to more of a sweet dessert lambic like a Lindeman's style but still better than that at least. I do give them some credit for a uniqueness of it, actually getting pumpkin into a lambic without it really sucking at least. I'm glad I only paid a few bucks to try this on draft rather than a handful of money for a big bottle that I don't think I could finish by\n"
     ]
    },
    {
     "name": "stderr",
     "output_type": "stream",
     "text": [
      " 80%|████████  | 80/100 [00:14<00:03,  5.84it/s]"
     ]
    },
    {
     "name": "stdout",
     "output_type": "stream",
     "text": [
      "[2025-04-30 16:20:49] (2.4.1.post1) Warning: reference sentiment does not exist or its number 0 is not equal to aspect number 1, text:  [B-ASP]Global Sentiment[E-ASP]    Poured an opaque black with a hint of red, a nice tan head and a decent clingy lace. The head subdued quite quickly, but maintained a fine layer. The aroma was roasted, malty, and of caramel with a background a presence of fruit. The Flavor starts slightly sweet and roasted, but finishes dry and with a lasting bite. The mouth feel is smooth and effervescent, but a little thin, and dry. Admittedly, I am not a huge fan of this style, but I prefer a more dynamic brew that possesses a little more texture and body.  \n",
      "[2025-04-30 16:20:49] (2.4.1.post1) Example 0: Poured an opaque black with a hint of red, a nice tan head and a decent clingy lace. The head subdued quite quickly, but maintained a fine layer. The aroma was roasted, malty, and of caramel with a background a presence of fruit. The Flavor starts slightly sweet and roasted, but finishes dry and with a lasting bite. The mouth feel is smooth and effervescent, but a little thin, and dry. Admittedly, I am not a huge fan of this style, but I prefer a more dynamic brew that possesses a little more texture and body.\n"
     ]
    },
    {
     "name": "stderr",
     "output_type": "stream",
     "text": [
      " 81%|████████  | 81/100 [00:14<00:03,  5.40it/s]"
     ]
    },
    {
     "name": "stdout",
     "output_type": "stream",
     "text": [
      "[2025-04-30 16:20:49] (2.4.1.post1) Warning: reference sentiment does not exist or its number 0 is not equal to aspect number 1, text:  [B-ASP]Global Sentiment[E-ASP]    Sampled March 2007 Pours with a brilliantly clear, copper color and is topped by a frothy, initially three-finger thick, nicely tan colored head. The head creates a rocky surface as it slowly subsides, all the while leaving a nice lacing pattern on the sides of the glass. The aroma is nicely hop focused with notes of spicy herbs, and a full, rich grapefruit citrus character. The citrus is the single most noticeable aspect of the aroma, with maybe just a hint of malt character coming through as well. Hop fruit aromatics of apricot, peaches and some sort of sweet tropical fruit are also noticeable in the nose. A sharp, spicy taste of hops greets my tongue as I first take a sip. Immediately though the citrus character becomes the dominant note; it leans towards sweet citrus fruit like oranges, tangelos, grapefruit and even some smooth tropical fruit notes. The carbonation is fairly low, which makes this very smooth to drink; almost creamy in texture. Caramelized malt notes, a touch of brown sugar, and some light toasted grain character play a supporting role for the dominant hop character. A nice bitterness is here as well, though it is not overly powering; it plays as a nice juxtaposition to the softer, more approachable fruity hop character. This is just a nice easy drinking Pale Ale, I could easily drink a couple pints of this brew. It is so well balanced to be quaffed pint by pint. Perhaps I could wish for a bit more chewy malt body here, but that would keep it from being so drinkable. I am a sucker for the fruity, smooth hop varieties right now (in this case Amarillo) so this Pale Ale is right up my alley.  \n",
      "[2025-04-30 16:20:49] (2.4.1.post1) Example 0: Sampled March 2007 Pours with a brilliantly clear, copper color and is topped by a frothy, initially three-finger thick, nicely tan colored head. The head creates a rocky surface as it slowly subsides, all the while leaving a nice lacing pattern on the sides of the glass. The aroma is nicely hop focused with notes of spicy herbs, and a full, rich grapefruit citrus character. The citrus is the single most noticeable aspect of the aroma, with maybe just a hint of malt character coming through as well. Hop fruit aromatics of apricot, peaches and some sort of sweet tropical fruit are also noticeable in the nose. A sharp, spicy taste of hops greets my tongue as I first take a sip. Immediately though the citrus character becomes the dominant note; it leans towards sweet citrus fruit like oranges, tangelos, grapefruit and even some smooth tropical fruit notes. The carbonation is fairly low, which makes this very smooth to drink; almost creamy in texture. Caramelized malt notes, a touch of brown sugar, and some light toasted grain character play a supporting role for the dominant hop character. A nice bitterness is here as well, though it is not overly powering; it plays as a nice juxtaposition to the softer, more approachable fruity hop character. This is just a nice easy drinking Pale Ale, I could easily drink a couple pints of this brew. It is so well balanced to be quaffed pint by pint. Perhaps I could\n"
     ]
    },
    {
     "name": "stderr",
     "output_type": "stream",
     "text": [
      " 82%|████████▏ | 82/100 [00:14<00:03,  5.58it/s]"
     ]
    },
    {
     "name": "stdout",
     "output_type": "stream",
     "text": [
      "[2025-04-30 16:20:49] (2.4.1.post1) Warning: reference sentiment does not exist or its number 0 is not equal to aspect number 1, text:  [B-ASP]Global Sentiment[E-ASP]    Snagged a six pack at the local Kroger in Collierville. Typical amber color. Not much smell and a thin head. Tastes like a run of the mill pale ale with a hint of hops. Carbonation is appropriate. Drinkable and my guess is the ABV is pretty standard. Not bad but not good. Cheers.  \n",
      "[2025-04-30 16:20:50] (2.4.1.post1) Example 0: Snagged a six pack at the local Kroger in Collierville. Typical amber color. Not much smell and a thin head. Tastes like a run of the mill pale ale with a hint of hops. Carbonation is appropriate. Drinkable and my guess is the ABV is pretty standard. Not bad but not good. Cheers.\n"
     ]
    },
    {
     "name": "stderr",
     "output_type": "stream",
     "text": [
      " 83%|████████▎ | 83/100 [00:15<00:02,  5.69it/s]"
     ]
    },
    {
     "name": "stdout",
     "output_type": "stream",
     "text": [
      "[2025-04-30 16:20:50] (2.4.1.post1) Warning: reference sentiment does not exist or its number 0 is not equal to aspect number 1, text:  [B-ASP]Global Sentiment[E-ASP]    Pale, cloudy yellow, with rich ample white foam. Modest, but attractive lacing. Nose is yeasty, bready. Not bad at all. Taste is fairly typical lager, though substantially more flavorful than most. Again, as with the aroma, I get yeast and crusty bread. Malty but not too simple or flat. This one proved crisp and refreshing, and among the better lagers I've had lately.  \n",
      "[2025-04-30 16:20:50] (2.4.1.post1) Example 0: Pale, cloudy yellow, with rich ample white foam. Modest, but attractive lacing. Nose is yeasty, bready. Not bad at all. Taste is fairly typical lager, though substantially more flavorful than most. Again, as with the aroma, I get yeast and crusty bread. Malty but not too simple or flat. This one proved crisp and refreshing, and among the better lagers I've had lately.\n"
     ]
    },
    {
     "name": "stderr",
     "output_type": "stream",
     "text": [
      " 84%|████████▍ | 84/100 [00:15<00:02,  5.78it/s]"
     ]
    },
    {
     "name": "stdout",
     "output_type": "stream",
     "text": [
      "[2025-04-30 16:20:50] (2.4.1.post1) Warning: reference sentiment does not exist or its number 0 is not equal to aspect number 1, text:  [B-ASP]Global Sentiment[E-ASP]    We don’t get to RB often, but I’m always pleased with everything. The foods good, not great, and same with the beer. L (4) – Wicked Elf is a nice dark orange/amber color. Looks inviting enough. S (4.25) – Definitely smell the hops. Doesn’t smell especially piney or citrusey, but good. T (4.25) – This beer tastes pretty good. Not super malty, and not much spice going on. I get more of a piney hop taste compared to the citrus ones. A nice piney hop aftertaste too. I like. F (4) – This type of beer doesn’t have a lot to say about mouthfeel IMO. It’s light, carbed right, and not overly anything. But that’s how I want this type of beer to be. O (4.25) – Not sure how true to the style this beer was, but it was tasty. It isn’t high IBU and it isn’t high ABV. Just a nice, pleasant beer to have with dinner. Would drink again.  \n",
      "[2025-04-30 16:20:50] (2.4.1.post1) Example 0: We don’t get to RB often, but I’m always pleased with everything. The foods good, not great, and same with the beer. L (4) – Wicked Elf is a nice dark orange/amber color. Looks inviting enough. S (4.25) – Definitely smell the hops. Doesn’t smell especially piney or citrusey, but good. T (4.25) – This beer tastes pretty good. Not super malty, and not much spice going on. I get more of a piney hop taste compared to the citrus ones. A nice piney hop aftertaste too. I like. F (4) – This type of beer doesn’t have a lot to say about mouthfeel IMO. It’s light, carbed right, and not overly anything. But that’s how I want this type of beer to be. O (4.25) – Not sure how true to the style this beer was, but it was tasty. It isn’t high IBU and it isn’t high ABV. Just a nice, pleasant beer to have with dinner. Would drink again.\n"
     ]
    },
    {
     "name": "stderr",
     "output_type": "stream",
     "text": [
      " 85%|████████▌ | 85/100 [00:15<00:02,  5.86it/s]"
     ]
    },
    {
     "name": "stdout",
     "output_type": "stream",
     "text": [
      "[2025-04-30 16:20:50] (2.4.1.post1) Warning: reference sentiment does not exist or its number 0 is not equal to aspect number 1, text:  [B-ASP]Global Sentiment[E-ASP]    Thanks to wcudwight for sharing his bomber. The appearance is a deep red brew with a thick creamy head riding on top. There is some lacing in the glass. Beers just don't look much better than this. A well deserved 5. The smell was really hard to pick up on in this beer. Some hoppiness but overall, no real powerfull smell. The taste was damn fine. There was a nice hop bitterness that was just right. There was a red ale nature to this beer as well. The mouthfeel was smooth. No overpowering notes of any type. Balanced. The drinkability was superb. The higher ABV was so well hidden it may lead you to think this beer would session easy. A big beer that does not act big. This beer has fanfare and now I see why. This is unlike any other IPA I have had.  \n",
      "[2025-04-30 16:20:50] (2.4.1.post1) Example 0: Thanks to wcudwight for sharing his bomber. The appearance is a deep red brew with a thick creamy head riding on top. There is some lacing in the glass. Beers just don't look much better than this. A well deserved 5. The smell was really hard to pick up on in this beer. Some hoppiness but overall, no real powerfull smell. The taste was damn fine. There was a nice hop bitterness that was just right. There was a red ale nature to this beer as well. The mouthfeel was smooth. No overpowering notes of any type. Balanced. The drinkability was superb. The higher ABV was so well hidden it may lead you to think this beer would session easy. A big beer that does not act big. This beer has fanfare and now I see why. This is unlike any other IPA I have had.\n"
     ]
    },
    {
     "name": "stderr",
     "output_type": "stream",
     "text": [
      " 86%|████████▌ | 86/100 [00:15<00:02,  5.84it/s]"
     ]
    },
    {
     "name": "stdout",
     "output_type": "stream",
     "text": [
      "[2025-04-30 16:20:50] (2.4.1.post1) Warning: reference sentiment does not exist or its number 0 is not equal to aspect number 1, text:  [B-ASP]Global Sentiment[E-ASP]    A - Pours with a very thin head, less than a finger, that dissipates quickly. Translucent with a golden reddish brown. S - An interesting combination. A mild mix of bourbon and vanilla with a touch of malt. T - The bourbon and vanilla are at the forefront with the bourbon fading out in favor of strong malt and vanilla notes at the finish. M - Carbonation is minimal. Finishes mostly clean, leaves behind a pleasant sweet aftertaste (like a shot of a sweeter whiskey). D - Definitely worth a try and maybe a second round, but beyond two in a row the taste will be overpowering and the aftertaste might stick around for longer than you might like.  \n",
      "[2025-04-30 16:20:50] (2.4.1.post1) Example 0: A - Pours with a very thin head, less than a finger, that dissipates quickly. Translucent with a golden reddish brown. S - An interesting combination. A mild mix of bourbon and vanilla with a touch of malt. T - The bourbon and vanilla are at the forefront with the bourbon fading out in favor of strong malt and vanilla notes at the finish. M - Carbonation is minimal. Finishes mostly clean, leaves behind a pleasant sweet aftertaste (like a shot of a sweeter whiskey). D - Definitely worth a try and maybe a second round, but beyond two in a row the taste will be overpowering and the aftertaste might stick around for longer than you might like.\n"
     ]
    },
    {
     "name": "stderr",
     "output_type": "stream",
     "text": [
      " 87%|████████▋ | 87/100 [00:15<00:02,  5.82it/s]"
     ]
    },
    {
     "name": "stdout",
     "output_type": "stream",
     "text": [
      "[2025-04-30 16:20:50] (2.4.1.post1) Warning: reference sentiment does not exist or its number 0 is not equal to aspect number 1, text:  [B-ASP]Global Sentiment[E-ASP]    Big dark bready style of pour, aroma was much the same way. Lots of prune in it. Taste, reminiscient of those shitty fruitcakes your aunt would bring to the holidays. Lots of spice rack and clove here, dark fruit notes all over it, rye bread. I'm glad they like it, but I just can't get into this style of beer.  \n",
      "[2025-04-30 16:20:50] (2.4.1.post1) Example 0: Big dark bready style of pour, aroma was much the same way. Lots of prune in it. Taste, reminiscient of those shitty fruitcakes your aunt would bring to the holidays. Lots of spice rack and clove here, dark fruit notes all over it, rye bread. I'm glad they like it, but I just can't get into this style of beer.\n"
     ]
    },
    {
     "name": "stderr",
     "output_type": "stream",
     "text": [
      " 88%|████████▊ | 88/100 [00:15<00:02,  5.84it/s]"
     ]
    },
    {
     "name": "stdout",
     "output_type": "stream",
     "text": [
      "[2025-04-30 16:20:50] (2.4.1.post1) Warning: reference sentiment does not exist or its number 0 is not equal to aspect number 1, text:  [B-ASP]Global Sentiment[E-ASP]    A - Orangish amber with a nice cloud like head... Attractive carbonation... S - Wheat... Spices... Citrus... Malt... Nice aroma, but too faint... T - Wheat and spices... Perhaps a hint of citrus... M - Light and creamy texture... Crisp and refreshing... D - Refreshing... I'm not a big fan of \"summer brews,\" but this one isn't too shabby and has some redeeming qualities... A little more aroma and taste would have helped out...  \n",
      "[2025-04-30 16:20:51] (2.4.1.post1) Example 0: A - Orangish amber with a nice cloud like head... Attractive carbonation... S - Wheat... Spices... Citrus... Malt... Nice aroma, but too faint... T - Wheat and spices... Perhaps a hint of citrus... M - Light and creamy texture... Crisp and refreshing... D - Refreshing... I'm not a big fan of \"summer brews,\" but this one isn't too shabby and has some redeeming qualities... A little more aroma and taste would have helped out...\n"
     ]
    },
    {
     "name": "stderr",
     "output_type": "stream",
     "text": [
      " 89%|████████▉ | 89/100 [00:16<00:02,  5.41it/s]"
     ]
    },
    {
     "name": "stdout",
     "output_type": "stream",
     "text": [
      "[2025-04-30 16:20:51] (2.4.1.post1) Warning: reference sentiment does not exist or its number 0 is not equal to aspect number 1, text:  [B-ASP]Global Sentiment[E-ASP]    Pours hazy orange in color. Smell is big peach with a hint of funk. Funk is more present in the flavor. Not much residual sweetness but not overly dry. Alcohol VERY well hidden. Light bodied in spite of strength. Funky peach juice. More funk would be great, but very nice drinking beer that tells you exactly what it is.  \n",
      "[2025-04-30 16:20:51] (2.4.1.post1) Example 0: Pours hazy orange in color. Smell is big peach with a hint of funk. Funk is more present in the flavor. Not much residual sweetness but not overly dry. Alcohol VERY well hidden. Light bodied in spite of strength. Funky peach juice. More funk would be great, but very nice drinking beer that tells you exactly what it is.\n"
     ]
    },
    {
     "name": "stderr",
     "output_type": "stream",
     "text": [
      " 90%|█████████ | 90/100 [00:16<00:01,  5.57it/s]"
     ]
    },
    {
     "name": "stdout",
     "output_type": "stream",
     "text": [
      "[2025-04-30 16:20:51] (2.4.1.post1) Warning: reference sentiment does not exist or its number 0 is not equal to aspect number 1, text:  [B-ASP]Global Sentiment[E-ASP]    On tap at The Shack in Cypress TX. I had just had a Firestone Walker Union Jack and told my server we might as well shift gears and try a stout or something because I knew he wouldn't be able to bring me an IPA that I liked better. He asked me if I had had a Yellow Rose and when I said \"no\", he twisted my arm a little and I said \"bring it on\", though I doubted it would be as good as he said. Beautiful color and head and a nose that is amazing. The hops flavors explode in my mouth like fireworks. Now THAT is an IPA. Very pine-y but grapefruit as well. Definitely some dank, earthy notes around the edges. Perfect balance, perfect carbonation...this is just about perfection for me. Never rated a beer a perfect 5 but what part of this masterpiece isn't perfect? And it's all from one malt and one hop... amazing!  \n",
      "[2025-04-30 16:20:51] (2.4.1.post1) Example 0: On tap at The Shack in Cypress TX. I had just had a Firestone Walker Union Jack and told my server we might as well shift gears and try a stout or something because I knew he wouldn't be able to bring me an IPA that I liked better. He asked me if I had had a Yellow Rose and when I said \"no\", he twisted my arm a little and I said \"bring it on\", though I doubted it would be as good as he said. Beautiful color and head and a nose that is amazing. The hops flavors explode in my mouth like fireworks. Now THAT is an IPA. Very pine-y but grapefruit as well. Definitely some dank, earthy notes around the edges. Perfect balance, perfect carbonation...this is just about perfection for me. Never rated a beer a perfect 5 but what part of this masterpiece isn't perfect? And it's all from one malt and one hop... amazing!\n"
     ]
    },
    {
     "name": "stderr",
     "output_type": "stream",
     "text": [
      " 91%|█████████ | 91/100 [00:16<00:01,  5.69it/s]"
     ]
    },
    {
     "name": "stdout",
     "output_type": "stream",
     "text": [
      "[2025-04-30 16:20:51] (2.4.1.post1) Warning: reference sentiment does not exist or its number 0 is not equal to aspect number 1, text:  [B-ASP]Global Sentiment[E-ASP]    Im not much of a pale ale guy usually but, damnit, Alesmith won me over with this one. This beer is basically a staple anywhere you go in SD, thanks mostly to the Tony Gwynn association but even without the local plug, its a pretty fantastic beer. The ABV sits at 6% which is the sweet spot for a pale. Its not overly hoppy, not too sweet, perfectly crisp and not heavy at all. This beer holds up any season of the year.  \n",
      "[2025-04-30 16:20:51] (2.4.1.post1) Example 0: Im not much of a pale ale guy usually but, damnit, Alesmith won me over with this one. This beer is basically a staple anywhere you go in SD, thanks mostly to the Tony Gwynn association but even without the local plug, its a pretty fantastic beer. The ABV sits at 6% which is the sweet spot for a pale. Its not overly hoppy, not too sweet, perfectly crisp and not heavy at all. This beer holds up any season of the year.\n"
     ]
    },
    {
     "name": "stderr",
     "output_type": "stream",
     "text": [
      " 92%|█████████▏| 92/100 [00:16<00:01,  5.63it/s]"
     ]
    },
    {
     "name": "stdout",
     "output_type": "stream",
     "text": [
      "[2025-04-30 16:20:51] (2.4.1.post1) Warning: reference sentiment does not exist or its number 0 is not equal to aspect number 1, text:  [B-ASP]Global Sentiment[E-ASP]    750 ml bottle served in a Chouffe tulip. Batch #31 A: Pours a dark pink, grapefruit color with a light pinkish head rising up quickly on the pour. it recedes to a bubble film and thin ring. S: Unfortunately there is heavy rancid cheese and buttery notes up front. I do get a hint of tart blueberry behind all that, but the nose on the pour is very heavy on the funky notes. T: Tart blueberry with a light cracked wheat. The buttery and blue cheese flavors are only there in the slight bit in the finish. M: Light bodied with a nice prickly carb. Slightly oily with a pungent aftertaste. O: Well it was definitely heavy on the off flavors of blue cheese and buttery funk. This did not work, but I have faith the boys can correct the mistakes on their second attempt at Berliner.  \n",
      "[2025-04-30 16:20:51] (2.4.1.post1) Example 0: 750 ml bottle served in a Chouffe tulip. Batch #31 A: Pours a dark pink, grapefruit color with a light pinkish head rising up quickly on the pour. it recedes to a bubble film and thin ring. S: Unfortunately there is heavy rancid cheese and buttery notes up front. I do get a hint of tart blueberry behind all that, but the nose on the pour is very heavy on the funky notes. T: Tart blueberry with a light cracked wheat. The buttery and blue cheese flavors are only there in the slight bit in the finish. M: Light bodied with a nice prickly carb. Slightly oily with a pungent aftertaste. O: Well it was definitely heavy on the off flavors of blue cheese and buttery funk. This did not work, but I have faith the boys can correct the mistakes on their second attempt at Berliner.\n"
     ]
    },
    {
     "name": "stderr",
     "output_type": "stream",
     "text": [
      " 93%|█████████▎| 93/100 [00:16<00:01,  5.70it/s]"
     ]
    },
    {
     "name": "stdout",
     "output_type": "stream",
     "text": [
      "[2025-04-30 16:20:51] (2.4.1.post1) Warning: reference sentiment does not exist or its number 0 is not equal to aspect number 1, text:  [B-ASP]Global Sentiment[E-ASP]    During my vacation trip to Florida, I was very eager to get my hands on some Cigar City beers, as we only get a few in VA. 12 oz can poured into a cylinder glass. Dark brown color, nice head on the beer. Nice hints of chocolate and espresso, flavors I commonly find in porters and stouts. This is an outstanding brown ale.  \n",
      "[2025-04-30 16:20:51] (2.4.1.post1) Example 0: During my vacation trip to Florida, I was very eager to get my hands on some Cigar City beers, as we only get a few in VA. 12 oz can poured into a cylinder glass. Dark brown color, nice head on the beer. Nice hints of chocolate and espresso, flavors I commonly find in porters and stouts. This is an outstanding brown ale.\n"
     ]
    },
    {
     "name": "stderr",
     "output_type": "stream",
     "text": [
      " 94%|█████████▍| 94/100 [00:16<00:01,  5.75it/s]"
     ]
    },
    {
     "name": "stdout",
     "output_type": "stream",
     "text": [
      "[2025-04-30 16:20:51] (2.4.1.post1) Warning: reference sentiment does not exist or its number 0 is not equal to aspect number 1, text:  [B-ASP]Global Sentiment[E-ASP]    22oz bottle into SN imperial pint glass. A: Pours a light golden-amber with a thin white head that quickly faded into a fuzzy scum that left a complex network of lacing down the glass. S: Orange blossom honey dominates along with a good dose of bready yeast and pale malt. T: Sweet notes of pale malts and cracked grains mixed with orange zest, orange blossom honey and a bit dry biscuit-like yeast dominate but I get some coriander as well. The finish has a touch sugary sweetness and the finish is full of sweet orange. M: Slick and drying mouthfeel, medium-light body with thin carbonation. O: A little sweet but I was really digging the flavor. Pretty good mouthfeel and overall refreshing and easy to drink. Far from my favorite Alpine beer but not bad all around.  \n",
      "[2025-04-30 16:20:52] (2.4.1.post1) Example 0: 22oz bottle into SN imperial pint glass. A: Pours a light golden-amber with a thin white head that quickly faded into a fuzzy scum that left a complex network of lacing down the glass. S: Orange blossom honey dominates along with a good dose of bready yeast and pale malt. T: Sweet notes of pale malts and cracked grains mixed with orange zest, orange blossom honey and a bit dry biscuit-like yeast dominate but I get some coriander as well. The finish has a touch sugary sweetness and the finish is full of sweet orange. M: Slick and drying mouthfeel, medium-light body with thin carbonation. O: A little sweet but I was really digging the flavor. Pretty good mouthfeel and overall refreshing and easy to drink. Far from my favorite Alpine beer but not bad all around.\n"
     ]
    },
    {
     "name": "stderr",
     "output_type": "stream",
     "text": [
      " 95%|█████████▌| 95/100 [00:17<00:00,  5.80it/s]"
     ]
    },
    {
     "name": "stdout",
     "output_type": "stream",
     "text": [
      "[2025-04-30 16:20:52] (2.4.1.post1) Warning: reference sentiment does not exist or its number 0 is not equal to aspect number 1, text:  [B-ASP]Global Sentiment[E-ASP]    Had with Korean BBQ; was recommended by our waitress as being the \"better korean beer.\" Can't say this beer made me proud to be Korean. a: poured with nice ~1inch head. Light golden color. s: very subtle malty sweets. t: you won't find much flavor here. Malty with smidge of flat hops. Though, taste is non-obtrusive and actually went well with the BBQ. m: very clean and refreshing. Highly carbonated. I think its mouthfeel really saved this beer from being horrible. d: Isn't much of a beer (btw; the menu in the restaurant lists Soju in Korean with English translation \"hard liquor\")...but it's definitely drinkable.  \n",
      "[2025-04-30 16:20:52] (2.4.1.post1) Example 0: Had with Korean BBQ; was recommended by our waitress as being the \"better korean beer.\" Can't say this beer made me proud to be Korean. a: poured with nice ~1inch head. Light golden color. s: very subtle malty sweets. t: you won't find much flavor here. Malty with smidge of flat hops. Though, taste is non-obtrusive and actually went well with the BBQ. m: very clean and refreshing. Highly carbonated. I think its mouthfeel really saved this beer from being horrible. d: Isn't much of a beer (btw; the menu in the restaurant lists Soju in Korean with English translation \"hard liquor\")...but it's definitely drinkable.\n"
     ]
    },
    {
     "name": "stderr",
     "output_type": "stream",
     "text": [
      " 96%|█████████▌| 96/100 [00:17<00:00,  5.81it/s]"
     ]
    },
    {
     "name": "stdout",
     "output_type": "stream",
     "text": [
      "[2025-04-30 16:20:52] (2.4.1.post1) Warning: reference sentiment does not exist or its number 0 is not equal to aspect number 1, text:  [B-ASP]Global Sentiment[E-ASP]    22oz bottle poured into a tulip glass. Pours a jet black with 2+ fingers of brown high density head with good retention and some lacing. Nose is dominated by chocolate as expected, with subtle contributions from roasted malt. Taste wasn't as dynamic as I'd hoped. Mostly chocolate, bitter, a little caramel and some burnt attributes. Mouthfeel is good bodied, carbonation was a bit on the higher side, and a finish that is bitter a little dry and lingers. Enjoyable, but definitely not my favorite chocolate oatmeal stout.  \n",
      "[2025-04-30 16:20:52] (2.4.1.post1) Example 0: 22oz bottle poured into a tulip glass. Pours a jet black with 2+ fingers of brown high density head with good retention and some lacing. Nose is dominated by chocolate as expected, with subtle contributions from roasted malt. Taste wasn't as dynamic as I'd hoped. Mostly chocolate, bitter, a little caramel and some burnt attributes. Mouthfeel is good bodied, carbonation was a bit on the higher side, and a finish that is bitter a little dry and lingers. Enjoyable, but definitely not my favorite chocolate oatmeal stout.\n"
     ]
    },
    {
     "name": "stderr",
     "output_type": "stream",
     "text": [
      " 97%|█████████▋| 97/100 [00:17<00:00,  5.42it/s]"
     ]
    },
    {
     "name": "stdout",
     "output_type": "stream",
     "text": [
      "[2025-04-30 16:20:52] (2.4.1.post1) Warning: reference sentiment does not exist or its number 0 is not equal to aspect number 1, text:  [B-ASP]Global Sentiment[E-ASP]    Bottled in September of 2008. Pours thickly veiled brown with yellow-tan highlights -- almost like the inside of an overripe plum. Modest head dissipates to a fine surface film. Smells of prune, plum, banana, a little bit of cherry-tinged funk. Comes together to smell a bit like unsweetened purple grape juice. The smell is a true harbinger of the taste: deep plum and light caramel flavors form the backbone as banana and subtle cherry tart notes take turns. The light tartness builds a bit and ends up being the last note at the finish line. Lots of subtle complexity here for the style: no one flavor dominates or speaks out of turn. Very drinkable in that you can keep discovering new flavors over multiple servings. A real standout in the Belgian brown class.  \n",
      "[2025-04-30 16:20:52] (2.4.1.post1) Example 0: Bottled in September of 2008. Pours thickly veiled brown with yellow-tan highlights -- almost like the inside of an overripe plum. Modest head dissipates to a fine surface film. Smells of prune, plum, banana, a little bit of cherry-tinged funk. Comes together to smell a bit like unsweetened purple grape juice. The smell is a true harbinger of the taste: deep plum and light caramel flavors form the backbone as banana and subtle cherry tart notes take turns. The light tartness builds a bit and ends up being the last note at the finish line. Lots of subtle complexity here for the style: no one flavor dominates or speaks out of turn. Very drinkable in that you can keep discovering new flavors over multiple servings. A real standout in the Belgian brown class.\n"
     ]
    },
    {
     "name": "stderr",
     "output_type": "stream",
     "text": [
      " 98%|█████████▊| 98/100 [00:17<00:00,  5.52it/s]"
     ]
    },
    {
     "name": "stdout",
     "output_type": "stream",
     "text": [
      "[2025-04-30 16:20:52] (2.4.1.post1) Warning: reference sentiment does not exist or its number 0 is not equal to aspect number 1, text:  [B-ASP]Global Sentiment[E-ASP]    this dubbel is mahogany in colour with a minimal head and no lace... it has super fast little carbonation bubbles...the nose holds spice and a rich malted aroma...smells somewhat vinous and dark fruit charactered with yeast inflections...the flavour is that of a dominant malt base with spicery and vinous impressions...yeasty tones as if bottle refermented...mouthfeel is not overly robust and tips in at the fat end of lightness approaching medium...drinkability is good as this is quite the mild little creation...finish is super clean as the label proclaims...I would go so far as to designate it as sessionable if one were to see fit as an admirer of the style... quite pleasant...nothing mind blowing at all, but solid...first Allagash for me...not the last...  \n",
      "[2025-04-30 16:20:52] (2.4.1.post1) Example 0: this dubbel is mahogany in colour with a minimal head and no lace... it has super fast little carbonation bubbles...the nose holds spice and a rich malted aroma...smells somewhat vinous and dark fruit charactered with yeast inflections...the flavour is that of a dominant malt base with spicery and vinous impressions...yeasty tones as if bottle refermented...mouthfeel is not overly robust and tips in at the fat end of lightness approaching medium...drinkability is good as this is quite the mild little creation...finish is super clean as the label proclaims...I would go so far as to designate it as sessionable if one were to see fit as an admirer of the style... quite pleasant...nothing mind blowing at all, but solid...first Allagash for me...not the last...\n"
     ]
    },
    {
     "name": "stderr",
     "output_type": "stream",
     "text": [
      " 99%|█████████▉| 99/100 [00:17<00:00,  5.61it/s]"
     ]
    },
    {
     "name": "stdout",
     "output_type": "stream",
     "text": [
      "[2025-04-30 16:20:52] (2.4.1.post1) Warning: reference sentiment does not exist or its number 0 is not equal to aspect number 1, text:  [B-ASP]Global Sentiment[E-ASP]    473 ml can, from LCBO. Pours a very lightly hazed dark orange, some copper highlights, nice and thick white head forms, slowly settles down to a thick ring, some lace chunks stick to the glass. Smell is nice, very malty, signature Creemore breadiness, some toasty malts and caramel, earthy, some floral, nice light citrus hops, grassy, lightly solvent, but smells good. Taste is similar, dry and toasty up front, bready, caramel sweetness through the middle, very grassy hops, some citrus and floral, touch of fruit in the finish, almost a little tannic and grapey, nice dry finish, solid bitterness. Mouthfeel is light bodied with low to medium carbonation, just right. Nice lager with some great character. Looking forward to the hoppier batch 2.  \n",
      "[2025-04-30 16:20:52] (2.4.1.post1) Example 0: 473 ml can, from LCBO. Pours a very lightly hazed dark orange, some copper highlights, nice and thick white head forms, slowly settles down to a thick ring, some lace chunks stick to the glass. Smell is nice, very malty, signature Creemore breadiness, some toasty malts and caramel, earthy, some floral, nice light citrus hops, grassy, lightly solvent, but smells good. Taste is similar, dry and toasty up front, bready, caramel sweetness through the middle, very grassy hops, some citrus and floral, touch of fruit in the finish, almost a little tannic and grapey, nice dry finish, solid bitterness. Mouthfeel is light bodied with low to medium carbonation, just right. Nice lager with some great character. Looking forward to the hoppier batch 2.\n"
     ]
    },
    {
     "name": "stderr",
     "output_type": "stream",
     "text": [
      "100%|██████████| 100/100 [00:18<00:00,  5.54it/s]\n"
     ]
    },
    {
     "name": "stdout",
     "output_type": "stream",
     "text": [
      "\n",
      "Processing aspect: feel\n"
     ]
    },
    {
     "name": "stderr",
     "output_type": "stream",
     "text": [
      "  0%|          | 0/100 [00:00<?, ?it/s]"
     ]
    },
    {
     "name": "stdout",
     "output_type": "stream",
     "text": [
      "[2025-04-30 16:20:52] (2.4.1.post1) Warning: reference sentiment does not exist or its number 0 is not equal to aspect number 1, text:  [B-ASP]Global Sentiment[E-ASP]    0%\n",
      "[2025-04-30 16:20:53] (2.4.1.post1) Example 0: 0%\n"
     ]
    },
    {
     "name": "stderr",
     "output_type": "stream",
     "text": [
      "  1%|          | 1/100 [00:00<00:17,  5.81it/s]"
     ]
    },
    {
     "name": "stdout",
     "output_type": "stream",
     "text": [
      "[2025-04-30 16:20:53] (2.4.1.post1) Warning: reference sentiment does not exist or its number 0 is not equal to aspect number 1, text:  [B-ASP]Global Sentiment[E-ASP]    Can: Poured a clear amber color le with a nice large off-white foamy head with good retention and some lacing. Aroma of dank hoppy notes with some fruity ester and light caramel notes is quite enticing. Taste is a nice mix between some dank hoppy notes with some fruity ester and some dry caramel notes. Body is about average with good carbonation. Solid amber ale with plenty of character.  \n",
      "[2025-04-30 16:20:53] (2.4.1.post1) Example 0: Can: Poured a clear amber color le with a nice large off-white foamy head with good retention and some lacing. Aroma of dank hoppy notes with some fruity ester and light caramel notes is quite enticing. Taste is a nice mix between some dank hoppy notes with some fruity ester and some dry caramel notes. Body is about average with good carbonation. Solid amber ale with plenty of character.\n"
     ]
    },
    {
     "name": "stderr",
     "output_type": "stream",
     "text": [
      "  2%|▏         | 2/100 [00:00<00:16,  5.90it/s]"
     ]
    },
    {
     "name": "stdout",
     "output_type": "stream",
     "text": [
      "[2025-04-30 16:20:53] (2.4.1.post1) Warning: reference sentiment does not exist or its number 0 is not equal to aspect number 1, text:  [B-ASP]Global Sentiment[E-ASP]    L - \"oat cream IPA\". Jesus, OH, why you do this to me? Pours a flat, banana cream yellow. Thick haze with a whitish milky murk. S - grapefruit zest pops up front. Spicy lime and a marshmallow sugary sweetness, although that's subtle. T - green melon rind and soft, supple oaty creaminess. More lime and tangerine dream. It's got that zesty twang balanced by the luscious oats. Finishes mildly acidic with some serious hop bite. F - minimal carbonation until the very end when a little bit of foam crops up. Feel is generally medium-bodied and slick on the tongue. Smooth. O - I wanted to like this a lot more than I did, but it's still a great beer. More zest than cream, which is great in its own right, just not what's advertised on the tin!  \n",
      "[2025-04-30 16:20:53] (2.4.1.post1) Example 0: L - \"oat cream IPA\". Jesus, OH, why you do this to me? Pours a flat, banana cream yellow. Thick haze with a whitish milky murk. S - grapefruit zest pops up front. Spicy lime and a marshmallow sugary sweetness, although that's subtle. T - green melon rind and soft, supple oaty creaminess. More lime and tangerine dream. It's got that zesty twang balanced by the luscious oats. Finishes mildly acidic with some serious hop bite. F - minimal carbonation until the very end when a little bit of foam crops up. Feel is generally medium-bodied and slick on the tongue. Smooth. O - I wanted to like this a lot more than I did, but it's still a great beer. More zest than cream, which is great in its own right, just not what's advertised on the tin!\n"
     ]
    },
    {
     "name": "stderr",
     "output_type": "stream",
     "text": [
      "  3%|▎         | 3/100 [00:00<00:16,  5.78it/s]"
     ]
    },
    {
     "name": "stdout",
     "output_type": "stream",
     "text": [
      "[2025-04-30 16:20:53] (2.4.1.post1) Warning: reference sentiment does not exist or its number 0 is not equal to aspect number 1, text:  [B-ASP]Global Sentiment[E-ASP]    Draft into a Samichlaus snifter. A: Orange - red - hazey - very pretty - thin head, slight lacing. S: Vanilla, nutty, musty. T: Some roasted nuts, earthy malts, oak. M: Thin, lightly carbonated. O: I got it on draft for $3 and was not impressed. I'm a big fan of barrel aged beers, but this one didn't gain many interesting characteristics from the barrels it was stored in. Don't go out of your way for this one.  \n",
      "[2025-04-30 16:20:53] (2.4.1.post1) Example 0: Draft into a Samichlaus snifter. A: Orange - red - hazey - very pretty - thin head, slight lacing. S: Vanilla, nutty, musty. T: Some roasted nuts, earthy malts, oak. M: Thin, lightly carbonated. O: I got it on draft for $3 and was not impressed. I'm a big fan of barrel aged beers, but this one didn't gain many interesting characteristics from the barrels it was stored in. Don't go out of your way for this one.\n"
     ]
    },
    {
     "name": "stderr",
     "output_type": "stream",
     "text": [
      "  4%|▍         | 4/100 [00:00<00:18,  5.23it/s]"
     ]
    },
    {
     "name": "stdout",
     "output_type": "stream",
     "text": [
      "[2025-04-30 16:20:53] (2.4.1.post1) Warning: reference sentiment does not exist or its number 0 is not equal to aspect number 1, text:  [B-ASP]Global Sentiment[E-ASP]    Deschutes took Chicago by storm this past month, and I was lucky to go to numerous tasting sessions that had all their brews out. I feel that I was trying too many brews at once to give it a full review, so now I got a sixer and see how this pale ale is on my palate. A- Bright, transparent, sort of a blood orange type of hue. Lots of head retention that is nice and frothy. Lots of lacing is left behind. S- Such a wonderful tangerine smell, with copious amount of honey that make this smell so sweet. Lastly you smell a light malt smell that goes great with the honey. You can barely smell any hops here, as some pine barely makes it through. T- Initial light bitter, piney hops, that turns right into a sweet malt flavor that dominates my palate. I love malty beers so I may be biased. Tastes of honey biscuit, tangerine, and light grapefruit just come together to make a very solid beer. S- Light body and light carbonation makes this beer go down fast. O- I know hops are the craze nowadays, but this is my go to APA. This beer goes back to the basics with light amounts of hops and a nice sweet taste that goes down great.  \n",
      "[2025-04-30 16:20:53] (2.4.1.post1) Example 0: Deschutes took Chicago by storm this past month, and I was lucky to go to numerous tasting sessions that had all their brews out. I feel that I was trying too many brews at once to give it a full review, so now I got a sixer and see how this pale ale is on my palate. A- Bright, transparent, sort of a blood orange type of hue. Lots of head retention that is nice and frothy. Lots of lacing is left behind. S- Such a wonderful tangerine smell, with copious amount of honey that make this smell so sweet. Lastly you smell a light malt smell that goes great with the honey. You can barely smell any hops here, as some pine barely makes it through. T- Initial light bitter, piney hops, that turns right into a sweet malt flavor that dominates my palate. I love malty beers so I may be biased. Tastes of honey biscuit, tangerine, and light grapefruit just come together to make a very solid beer. S- Light body and light carbonation makes this beer go down fast. O- I know hops are the craze nowadays, but this is my go to APA. This beer goes back to the basics with light amounts of hops and a nice sweet taste that goes down great.\n"
     ]
    },
    {
     "name": "stderr",
     "output_type": "stream",
     "text": [
      "  5%|▌         | 5/100 [00:00<00:17,  5.47it/s]"
     ]
    },
    {
     "name": "stdout",
     "output_type": "stream",
     "text": [
      "[2025-04-30 16:20:53] (2.4.1.post1) Warning: reference sentiment does not exist or its number 0 is not equal to aspect number 1, text:  [B-ASP]Global Sentiment[E-ASP]    12-ounce bottle poured into a pint willi glass yields a clear bronze body capped with two fingers of soft white foam that holds at a fat sheet and leaves scattered scraps of lacing on the glass. Smell is softly malty with a twist of lemon and a spicy note. Taste is toasty malts and a bit nutty with a rush of zippy spice and a mildly bitter finish. Nice drink, pretty ho-hum.  \n",
      "[2025-04-30 16:20:54] (2.4.1.post1) Example 0: 12-ounce bottle poured into a pint willi glass yields a clear bronze body capped with two fingers of soft white foam that holds at a fat sheet and leaves scattered scraps of lacing on the glass. Smell is softly malty with a twist of lemon and a spicy note. Taste is toasty malts and a bit nutty with a rush of zippy spice and a mildly bitter finish. Nice drink, pretty ho-hum.\n"
     ]
    },
    {
     "name": "stderr",
     "output_type": "stream",
     "text": [
      "  6%|▌         | 6/100 [00:01<00:16,  5.60it/s]"
     ]
    },
    {
     "name": "stdout",
     "output_type": "stream",
     "text": [
      "[2025-04-30 16:20:54] (2.4.1.post1) Warning: reference sentiment does not exist or its number 0 is not equal to aspect number 1, text:  [B-ASP]Global Sentiment[E-ASP]    Appearance: pours a crystal clear golden yellow color with a 1/2\" head. Smell: light tropical fruit aroma. Taste: nice grainy malt profile with pineapple, lemon zest, grapefruit, and a bit of pine arrives late. Alcohol is mildly warming. Mouthfeel: medium bodied beer. Crisp throughout with a dry aftertaste. Overall: another enjoyable beer from Ballast Point.  \n",
      "[2025-04-30 16:20:54] (2.4.1.post1) Example 0: Appearance: pours a crystal clear golden yellow color with a 1/2\" head. Smell: light tropical fruit aroma. Taste: nice grainy malt profile with pineapple, lemon zest, grapefruit, and a bit of pine arrives late. Alcohol is mildly warming. Mouthfeel: medium bodied beer. Crisp throughout with a dry aftertaste. Overall: another enjoyable beer from Ballast Point.\n"
     ]
    },
    {
     "name": "stderr",
     "output_type": "stream",
     "text": [
      "  7%|▋         | 7/100 [00:01<00:16,  5.72it/s]"
     ]
    },
    {
     "name": "stdout",
     "output_type": "stream",
     "text": [
      "[2025-04-30 16:20:54] (2.4.1.post1) Warning: reference sentiment does not exist or its number 0 is not equal to aspect number 1, text:  [B-ASP]Global Sentiment[E-ASP]    This beer had a medium sized head that contained fine-medium sized bubbles.The hue of this beer was orange and it produced a decent lacing on the sides of my glass.To me it has a fruity, citrusy nose.This is definitely a bitter tasting beer.This is not my favorite style of beer; however, it wasn't that bad.  \n",
      "[2025-04-30 16:20:54] (2.4.1.post1) Example 0: This beer had a medium sized head that contained fine-medium sized bubbles.The hue of this beer was orange and it produced a decent lacing on the sides of my glass.To me it has a fruity, citrusy nose.This is definitely a bitter tasting beer.This is not my favorite style of beer; however, it wasn't that bad.\n"
     ]
    },
    {
     "name": "stderr",
     "output_type": "stream",
     "text": [
      "  8%|▊         | 8/100 [00:01<00:15,  5.78it/s]"
     ]
    },
    {
     "name": "stdout",
     "output_type": "stream",
     "text": [
      "[2025-04-30 16:20:54] (2.4.1.post1) Warning: reference sentiment does not exist or its number 0 is not equal to aspect number 1, text:  [B-ASP]Global Sentiment[E-ASP]    I went into it with low expectations and was very pleasantly surprised! Pours clear bright yellow with a thin head that dissipates fast. I couldn't get much of a head on a fairly aggressive pour. Aroma is subtle and not unpleasant, mild hops and distant corn and fermented grains. The taste was surprisingly good with a balance of bready biscuity malt and hops, with some grain and milled corn in there for sure but nothing unpleasant. Mouthfeel is light bodied but not watery, with medium carbonation. Finished clean and dry. Overall a very drinkable beer.  \n",
      "[2025-04-30 16:20:54] (2.4.1.post1) Example 0: I went into it with low expectations and was very pleasantly surprised! Pours clear bright yellow with a thin head that dissipates fast. I couldn't get much of a head on a fairly aggressive pour. Aroma is subtle and not unpleasant, mild hops and distant corn and fermented grains. The taste was surprisingly good with a balance of bready biscuity malt and hops, with some grain and milled corn in there for sure but nothing unpleasant. Mouthfeel is light bodied but not watery, with medium carbonation. Finished clean and dry. Overall a very drinkable beer.\n"
     ]
    },
    {
     "name": "stderr",
     "output_type": "stream",
     "text": [
      "  9%|▉         | 9/100 [00:01<00:15,  5.78it/s]"
     ]
    },
    {
     "name": "stdout",
     "output_type": "stream",
     "text": [
      "[2025-04-30 16:20:54] (2.4.1.post1) Warning: reference sentiment does not exist or its number 0 is not equal to aspect number 1, text:  [B-ASP]Global Sentiment[E-ASP]    My favorite De Garde. No other brewery is able to incorporate fruit into their beer so well as De Garde and this beer explodes with peach and apricot flavors. Drinking this beer is comparable to biting into a fresh apricot. Tartness, mouthfeel, and appearance are perfect. Glad I was able to snag another bottle.  \n",
      "[2025-04-30 16:20:54] (2.4.1.post1) Example 0: My favorite De Garde. No other brewery is able to incorporate fruit into their beer so well as De Garde and this beer explodes with peach and apricot flavors. Drinking this beer is comparable to biting into a fresh apricot. Tartness, mouthfeel, and appearance are perfect. Glad I was able to snag another bottle.\n"
     ]
    },
    {
     "name": "stderr",
     "output_type": "stream",
     "text": [
      " 10%|█         | 10/100 [00:01<00:15,  5.82it/s]"
     ]
    },
    {
     "name": "stdout",
     "output_type": "stream",
     "text": [
      "[2025-04-30 16:20:54] (2.4.1.post1) Warning: reference sentiment does not exist or its number 0 is not equal to aspect number 1, text:  [B-ASP]Global Sentiment[E-ASP]    Estrella Galicia seems an average lager. It pours a clear golden yellow color with a decent head and a decent lace; Smell is grainy and malty; Taste is sweet and grainy too; Mouthfeel is thin and crisp, Good carbonation; Easy to drink, very drinkable. ¡Salud!  \n",
      "[2025-04-30 16:20:54] (2.4.1.post1) Example 0: Estrella Galicia seems an average lager. It pours a clear golden yellow color with a decent head and a decent lace; Smell is grainy and malty; Taste is sweet and grainy too; Mouthfeel is thin and crisp, Good carbonation; Easy to drink, very drinkable. ¡Salud!\n"
     ]
    },
    {
     "name": "stderr",
     "output_type": "stream",
     "text": [
      " 11%|█         | 11/100 [00:01<00:15,  5.86it/s]"
     ]
    },
    {
     "name": "stdout",
     "output_type": "stream",
     "text": [
      "[2025-04-30 16:20:54] (2.4.1.post1) Warning: reference sentiment does not exist or its number 0 is not equal to aspect number 1, text:  [B-ASP]Global Sentiment[E-ASP]    Many breweries give their beers a special name. But far too many times, the taste of the beer falls short of what its creators decided to call it. Great Notion absolutely nailed this one. The beer literally tastes like blueberry pancakes. I've actually never had a beer with such an accurate representation. By FAR, one of the most delicious beers I have ever tasted. Go and try it NOW! How am I the first reviewer for this one?  \n",
      "[2025-04-30 16:20:55] (2.4.1.post1) Example 0: Many breweries give their beers a special name. But far too many times, the taste of the beer falls short of what its creators decided to call it. Great Notion absolutely nailed this one. The beer literally tastes like blueberry pancakes. I've actually never had a beer with such an accurate representation. By FAR, one of the most delicious beers I have ever tasted. Go and try it NOW! How am I the first reviewer for this one?\n"
     ]
    },
    {
     "name": "stderr",
     "output_type": "stream",
     "text": [
      " 12%|█▏        | 12/100 [00:02<00:16,  5.41it/s]"
     ]
    },
    {
     "name": "stdout",
     "output_type": "stream",
     "text": [
      "[2025-04-30 16:20:55] (2.4.1.post1) Warning: reference sentiment does not exist or its number 0 is not equal to aspect number 1, text:  [B-ASP]Global Sentiment[E-ASP]    This was a darn drinkable beer. I haven't had any doppelbocks before this, so I assume it is a good representative for the style. It tastes like a less intense stout. It had a good head on it which dissipated into a lace and then faided away. Dark of course. Very tasty. A drinkable stout is what kept coming to mind. Very good for the alcohol content.  \n",
      "[2025-04-30 16:20:55] (2.4.1.post1) Example 0: This was a darn drinkable beer. I haven't had any doppelbocks before this, so I assume it is a good representative for the style. It tastes like a less intense stout. It had a good head on it which dissipated into a lace and then faided away. Dark of course. Very tasty. A drinkable stout is what kept coming to mind. Very good for the alcohol content.\n"
     ]
    },
    {
     "name": "stderr",
     "output_type": "stream",
     "text": [
      " 13%|█▎        | 13/100 [00:02<00:15,  5.56it/s]"
     ]
    },
    {
     "name": "stdout",
     "output_type": "stream",
     "text": [
      "[2025-04-30 16:20:55] (2.4.1.post1) Warning: reference sentiment does not exist or its number 0 is not equal to aspect number 1, text:  [B-ASP]Global Sentiment[E-ASP]    Yeast. Malt. Raisin. Sweet. Phenomenal.\n",
      "[2025-04-30 16:20:55] (2.4.1.post1) Example 0: Yeast. Malt. Raisin. Sweet. Phenomenal.\n"
     ]
    },
    {
     "name": "stderr",
     "output_type": "stream",
     "text": [
      " 14%|█▍        | 14/100 [00:02<00:15,  5.66it/s]"
     ]
    },
    {
     "name": "stdout",
     "output_type": "stream",
     "text": [
      "[2025-04-30 16:20:55] (2.4.1.post1) Warning: reference sentiment does not exist or its number 0 is not equal to aspect number 1, text:  [B-ASP]Global Sentiment[E-ASP]    Pours orangey gold with large head. The aroma is spicy and phenolic with some bready malt. The flavor is spicy up front with some juiciness and a dry bitter finish. It's highly carbonated which takes away from the beer a little, but it's still a good example of the style.  \n",
      "[2025-04-30 16:20:55] (2.4.1.post1) Example 0: Pours orangey gold with large head. The aroma is spicy and phenolic with some bready malt. The flavor is spicy up front with some juiciness and a dry bitter finish. It's highly carbonated which takes away from the beer a little, but it's still a good example of the style.\n"
     ]
    },
    {
     "name": "stderr",
     "output_type": "stream",
     "text": [
      " 15%|█▌        | 15/100 [00:02<00:14,  5.72it/s]"
     ]
    },
    {
     "name": "stdout",
     "output_type": "stream",
     "text": [
      "[2025-04-30 16:20:55] (2.4.1.post1) Warning: reference sentiment does not exist or its number 0 is not equal to aspect number 1, text:  [B-ASP]Global Sentiment[E-ASP]    this is desert island beer for me, a nice grainy liquid bread sort of base saison, nice and low on the abv, but lots of body and texture, and flavored by all three elements. this really is fantastic stuff from side project, even though its some of their rarer releases that get all the hype, this one is just as good for me. batch or blend number 3 from what i gather, its a little hazy but very approachable looking, soft and inviting, with a puffy white head with great retention. maybe some rye in here? oats? more than just pale and pils type barley malt and wheat, a little peppery bite, maybe from the yeast, but possibly some rye malt too. the yeast is amazing, fully bretty, a little belgian, soft and fruity, white grape for sure, apricot, crab apple, and then the oak at the end, which is pretty mild in terms of flavor, serving more here as a mellowing agent and a vehicle for fermentation. really impressive beer, as much flavor as you can get into something this low in alcohol, rich on the grain front but bone dry, floral hoppy in the end with a little white wine note, some wood, a lot of delicate fruity funk from the mature brett, and en expressive level of carbonation that makes this positively sing on the palate. one of my new favorite styles, and one of the best takes on it i have seen in some time. not to be missed...  \n",
      "[2025-04-30 16:20:55] (2.4.1.post1) Example 0: this is desert island beer for me, a nice grainy liquid bread sort of base saison, nice and low on the abv, but lots of body and texture, and flavored by all three elements. this really is fantastic stuff from side project, even though its some of their rarer releases that get all the hype, this one is just as good for me. batch or blend number 3 from what i gather, its a little hazy but very approachable looking, soft and inviting, with a puffy white head with great retention. maybe some rye in here? oats? more than just pale and pils type barley malt and wheat, a little peppery bite, maybe from the yeast, but possibly some rye malt too. the yeast is amazing, fully bretty, a little belgian, soft and fruity, white grape for sure, apricot, crab apple, and then the oak at the end, which is pretty mild in terms of flavor, serving more here as a mellowing agent and a vehicle for fermentation. really impressive beer, as much flavor as you can get into something this low in alcohol, rich on the grain front but bone dry, floral hoppy in the end with a little white wine note, some wood, a lot of delicate fruity funk from the mature brett, and en expressive level of carbonation that makes this positively sing on the palate. one of my new favorite styles, and one of the best takes on it i have seen in\n"
     ]
    },
    {
     "name": "stderr",
     "output_type": "stream",
     "text": [
      " 16%|█▌        | 16/100 [00:02<00:14,  5.79it/s]"
     ]
    },
    {
     "name": "stdout",
     "output_type": "stream",
     "text": [
      "[2025-04-30 16:20:55] (2.4.1.post1) Warning: reference sentiment does not exist or its number 0 is not equal to aspect number 1, text:  [B-ASP]Global Sentiment[E-ASP]    A: On tap at Belmont Station Jan. 2015. Thick white head with nice lacing. Pale in color. S: Tropical fruits first followed by pine and citrus. Very pleasant. Definitely well dry hopped. T: Starts tropical with a citrus-pine middle with just a hint of sweet malts, finishes slightly bitter and very dry. M: Medium carbonation, low body with little malt. O: A very seasonable light in body beer with a dry finish. The lack of malts and body works in this because it have a very minimal bitterness. The dry hopping and late addition hops are the main feature of this ale. This leaves you feeling refreshed and not full. This along with Easy Jack are my two favorite session IPA's. If you're looking for a traditional IPA this won't be for you. Sessionable IPA's are great on a hot summer day or as a gateway craft drink for someone switching from domestics.  \n",
      "[2025-04-30 16:20:55] (2.4.1.post1) Example 0: A: On tap at Belmont Station Jan. 2015. Thick white head with nice lacing. Pale in color. S: Tropical fruits first followed by pine and citrus. Very pleasant. Definitely well dry hopped. T: Starts tropical with a citrus-pine middle with just a hint of sweet malts, finishes slightly bitter and very dry. M: Medium carbonation, low body with little malt. O: A very seasonable light in body beer with a dry finish. The lack of malts and body works in this because it have a very minimal bitterness. The dry hopping and late addition hops are the main feature of this ale. This leaves you feeling refreshed and not full. This along with Easy Jack are my two favorite session IPA's. If you're looking for a traditional IPA this won't be for you. Sessionable IPA's are great on a hot summer day or as a gateway craft drink for someone switching from domestics.\n"
     ]
    },
    {
     "name": "stderr",
     "output_type": "stream",
     "text": [
      " 17%|█▋        | 17/100 [00:02<00:14,  5.82it/s]"
     ]
    },
    {
     "name": "stdout",
     "output_type": "stream",
     "text": [
      "[2025-04-30 16:20:55] (2.4.1.post1) Warning: reference sentiment does not exist or its number 0 is not equal to aspect number 1, text:  [B-ASP]Global Sentiment[E-ASP]    12 0z bottle poure into plastic cup because I'm still at work Appearance: pure copper color with white head. Aroma: fruity with a little of oak Taste: really fruity and woody Mouthfeel: really sticky and cloying. Overall: I am glad it's only a 12 oz. it too sweet to drink too much. I enjoyed it though.  \n",
      "[2025-04-30 16:20:56] (2.4.1.post1) Example 0: 12 0z bottle poure into plastic cup because I'm still at work Appearance: pure copper color with white head. Aroma: fruity with a little of oak Taste: really fruity and woody Mouthfeel: really sticky and cloying. Overall: I am glad it's only a 12 oz. it too sweet to drink too much. I enjoyed it though.\n"
     ]
    },
    {
     "name": "stderr",
     "output_type": "stream",
     "text": [
      " 18%|█▊        | 18/100 [00:03<00:14,  5.84it/s]"
     ]
    },
    {
     "name": "stdout",
     "output_type": "stream",
     "text": [
      "[2025-04-30 16:20:56] (2.4.1.post1) Warning: reference sentiment does not exist or its number 0 is not equal to aspect number 1, text:  [B-ASP]Global Sentiment[E-ASP]    stubby little 11.2 oz. white bottle poured into a pint glass. murky light brown with an effervescing off-white head that falls quickly. a few chunky globs (coagulated proteins?) that settle after a few impatient minutes. sweet, sugary, fruity alcoholic aroma. caramel, carob, yeast, prunes, and candi sugar. sweet and incredibly pleasant. candi sugar and prunes appear once again in the flavor, with a touch of sweetness and alcohol in the finish. sweet but in a subtle, enjoyable way. prickly carbonation and a medium mouthfeel. nothing incredibly adventurous about it, but it could be a regular dessert-type sipping beer.  \n",
      "[2025-04-30 16:20:56] (2.4.1.post1) Example 0: stubby little 11.2 oz. white bottle poured into a pint glass. murky light brown with an effervescing off-white head that falls quickly. a few chunky globs (coagulated proteins?) that settle after a few impatient minutes. sweet, sugary, fruity alcoholic aroma. caramel, carob, yeast, prunes, and candi sugar. sweet and incredibly pleasant. candi sugar and prunes appear once again in the flavor, with a touch of sweetness and alcohol in the finish. sweet but in a subtle, enjoyable way. prickly carbonation and a medium mouthfeel. nothing incredibly adventurous about it, but it could be a regular dessert-type sipping beer.\n"
     ]
    },
    {
     "name": "stderr",
     "output_type": "stream",
     "text": [
      " 19%|█▉        | 19/100 [00:03<00:13,  5.86it/s]"
     ]
    },
    {
     "name": "stdout",
     "output_type": "stream",
     "text": [
      "[2025-04-30 16:20:56] (2.4.1.post1) Warning: reference sentiment does not exist or its number 0 is not equal to aspect number 1, text:  [B-ASP]Global Sentiment[E-ASP]    This beer is a mass produced English Pale Ale that is decent, but lacking all complexity. It pours a nice amber color, decent head, no lacing. This beer is plenty carbonated. The aroma is definitely earthy, caramel malt, slightly musty. This is a dry beer, quite light, quite drinkable because of its low ABV. The taste is earthy malts, some light caramels, diaceytl and buttery, but not cloyingly so. What you get on the front end is how the beer finishes. There isn't much complexity to the beer. Not much to say because it doesn't have loads of character either, but it is drinkable.  \n",
      "[2025-04-30 16:20:56] (2.4.1.post1) Example 0: This beer is a mass produced English Pale Ale that is decent, but lacking all complexity. It pours a nice amber color, decent head, no lacing. This beer is plenty carbonated. The aroma is definitely earthy, caramel malt, slightly musty. This is a dry beer, quite light, quite drinkable because of its low ABV. The taste is earthy malts, some light caramels, diaceytl and buttery, but not cloyingly so. What you get on the front end is how the beer finishes. There isn't much complexity to the beer. Not much to say because it doesn't have loads of character either, but it is drinkable.\n"
     ]
    },
    {
     "name": "stderr",
     "output_type": "stream",
     "text": [
      " 20%|██        | 20/100 [00:03<00:14,  5.45it/s]"
     ]
    },
    {
     "name": "stdout",
     "output_type": "stream",
     "text": [
      "[2025-04-30 16:20:56] (2.4.1.post1) Warning: reference sentiment does not exist or its number 0 is not equal to aspect number 1, text:  [B-ASP]Global Sentiment[E-ASP]    Poured from a bottle dated \"best By 28/09/19\" into the test glass A - Pitch black, a thin off white cap slowly fades into a loose knit ring of froth. A slow twist of the glass coaxes e revival of the cap. S - Dark char, vanilla, cigar wrap tobacco. fig, bakers chocolate, licorice. A rise in temperature releases Blackberry, some notes of tawny port and worn leather. The 13% alcohol lifts off the glass in fine fashion. T - Dark fruits, bitter chocolate, and coffee a touch of honey are the initial flavors, dark roast grains, vanilla undertones without being sweet. M - A bold move across the palate, bitter start then a chocolaty step is taken, quickly ushered out with deftness by the carbonation. The finish is pretty quick and surprisingly dry. I wonder if there was Champagne yeast involved? The alcohol evaporation has that special touch. A very slight linger on the tongue of semi sweet and hint of smoke to close the deal. O - A bold offering that is not shy about the aromatics or the flavors. Coffee, honey, vanilla are listed but not any one stands in the fore, however they combine quite well. I like the lack of barrel and the clean lines this offering takes, although they be bold lines! A treat worth seeking out.  \n",
      "[2025-04-30 16:20:56] (2.4.1.post1) Example 0: Poured from a bottle dated \"best By 28/09/19\" into the test glass A - Pitch black, a thin off white cap slowly fades into a loose knit ring of froth. A slow twist of the glass coaxes e revival of the cap. S - Dark char, vanilla, cigar wrap tobacco. fig, bakers chocolate, licorice. A rise in temperature releases Blackberry, some notes of tawny port and worn leather. The 13% alcohol lifts off the glass in fine fashion. T - Dark fruits, bitter chocolate, and coffee a touch of honey are the initial flavors, dark roast grains, vanilla undertones without being sweet. M - A bold move across the palate, bitter start then a chocolaty step is taken, quickly ushered out with deftness by the carbonation. The finish is pretty quick and surprisingly dry. I wonder if there was Champagne yeast involved? The alcohol evaporation has that special touch. A very slight linger on the tongue of semi sweet and hint of smoke to close the deal. O - A bold offering that is not shy about the aromatics or the flavors. Coffee, honey, vanilla are listed but not any one stands in the fore, however they combine quite well. I like the lack of barrel and the clean lines this offering takes, although they be bold lines! A treat worth seeking out.\n"
     ]
    },
    {
     "name": "stderr",
     "output_type": "stream",
     "text": [
      " 21%|██        | 21/100 [00:03<00:14,  5.56it/s]"
     ]
    },
    {
     "name": "stdout",
     "output_type": "stream",
     "text": [
      "[2025-04-30 16:20:56] (2.4.1.post1) Warning: reference sentiment does not exist or its number 0 is not equal to aspect number 1, text:  [B-ASP]Global Sentiment[E-ASP]    Second brown ale of the evening after a long period of avoiding the style. First one was Phil from Marshall Wharf. This was better, but not by much. Both were thoroughly enjoyable and extremely drinkable. Reminded me a bit of Tootsie Rolls. Light with nice carmely, chocolaty notes.  \n",
      "[2025-04-30 16:20:56] (2.4.1.post1) Example 0: Second brown ale of the evening after a long period of avoiding the style. First one was Phil from Marshall Wharf. This was better, but not by much. Both were thoroughly enjoyable and extremely drinkable. Reminded me a bit of Tootsie Rolls. Light with nice carmely, chocolaty notes.\n"
     ]
    },
    {
     "name": "stderr",
     "output_type": "stream",
     "text": [
      " 22%|██▏       | 22/100 [00:03<00:13,  5.61it/s]"
     ]
    },
    {
     "name": "stdout",
     "output_type": "stream",
     "text": [
      "[2025-04-30 16:20:56] (2.4.1.post1) Warning: reference sentiment does not exist or its number 0 is not equal to aspect number 1, text:  [B-ASP]Global Sentiment[E-ASP]    Poured from a bottle into a snifter. (Note: The bottle I have says 9.0% ABV versus 9.4%, perhaps indicative of a recipe tweak) A - A hazy golden/amber with a one-finger snow white head of mixed size bubbles. Decent lacing. S - Strong aroma of dank hops, pine, and tropical fruit. Some malt odor comes through as well, hopefully setting the stage for something good in the first sip. Smells like a good west coast imperial IPA should. T - Core is definitely West coast IPA flavor: mango, and grapefruit. A good bit of resinous pine. Fantastic sweet maui onion and garlic in the mid-palate. Biscuity malt provides a nice base and a hint of sweetness. The malt/hop balance is there and the complex hop bill is there. Flavors aren't \"blended\" or \"balanced\" yet, still work together. Delicious. M - Medium bodied with subdued carbonation and a dry finish. Somewhat slick and oily. That description doesn't encompass the drinkability here...it all comes together nearly perfectly so much so that I had to force myself to sip instead of gulp. O - Outstanding and just well put together on all levels. The vegetal onion/garlic notes really set this one apart from some of it's competition and border on divine to this taster. Why am I not drinking more Green Flash brews? A \"quick rebuy\", meaning I'll probably run out and get another bottle as soon as possible.  \n",
      "[2025-04-30 16:20:57] (2.4.1.post1) Example 0: Poured from a bottle into a snifter. (Note: The bottle I have says 9.0% ABV versus 9.4%, perhaps indicative of a recipe tweak) A - A hazy golden/amber with a one-finger snow white head of mixed size bubbles. Decent lacing. S - Strong aroma of dank hops, pine, and tropical fruit. Some malt odor comes through as well, hopefully setting the stage for something good in the first sip. Smells like a good west coast imperial IPA should. T - Core is definitely West coast IPA flavor: mango, and grapefruit. A good bit of resinous pine. Fantastic sweet maui onion and garlic in the mid-palate. Biscuity malt provides a nice base and a hint of sweetness. The malt/hop balance is there and the complex hop bill is there. Flavors aren't \"blended\" or \"balanced\" yet, still work together. Delicious. M - Medium bodied with subdued carbonation and a dry finish. Somewhat slick and oily. That description doesn't encompass the drinkability here...it all comes together nearly perfectly so much so that I had to force myself to sip instead of gulp. O - Outstanding and just well put together on all levels. The vegetal onion/garlic notes really set this one apart from some of it's competition and border on divine to this taster. Why am I not drinking more Green Flash brews? A \"quick rebuy\", meaning I'll probably run out and get another bottle as soon as possible.\n"
     ]
    },
    {
     "name": "stderr",
     "output_type": "stream",
     "text": [
      " 23%|██▎       | 23/100 [00:04<00:13,  5.69it/s]"
     ]
    },
    {
     "name": "stdout",
     "output_type": "stream",
     "text": [
      "[2025-04-30 16:20:57] (2.4.1.post1) Warning: reference sentiment does not exist or its number 0 is not equal to aspect number 1, text:  [B-ASP]Global Sentiment[E-ASP]    A: lightly copper tinged brown with a thin white head. S: very oaky, some balsamic and vanilla, mild acidity, faint cherries. T: similar, but everything is a bit milder than on the nose. Balsamic, light funk are key. M: low moderate carbonation decent chewy creaminess.  \n",
      "[2025-04-30 16:20:57] (2.4.1.post1) Example 0: A: lightly copper tinged brown with a thin white head. S: very oaky, some balsamic and vanilla, mild acidity, faint cherries. T: similar, but everything is a bit milder than on the nose. Balsamic, light funk are key. M: low moderate carbonation decent chewy creaminess.\n"
     ]
    },
    {
     "name": "stderr",
     "output_type": "stream",
     "text": [
      " 24%|██▍       | 24/100 [00:04<00:13,  5.74it/s]"
     ]
    },
    {
     "name": "stdout",
     "output_type": "stream",
     "text": [
      "[2025-04-30 16:20:57] (2.4.1.post1) Warning: reference sentiment does not exist or its number 0 is not equal to aspect number 1, text:  [B-ASP]Global Sentiment[E-ASP]    Pale straw yellow color with plenty carbonation bubbles. The head depends of the glass I use. With a good pilsner glass I can get a moderate soapy white head that has decent retention. The aroma is clean. Not much to it. Some grassy hops and grains. The flavor again is just clean refreshing American Lager. Nothing under or over the top. Not a lot going on. Super easy to drink and very light in body. Overall, this is at least a clean lager. There is no nasty aftertaste. Keep it cold and cut the grass with this lager.  \n",
      "[2025-04-30 16:20:57] (2.4.1.post1) Example 0: Pale straw yellow color with plenty carbonation bubbles. The head depends of the glass I use. With a good pilsner glass I can get a moderate soapy white head that has decent retention. The aroma is clean. Not much to it. Some grassy hops and grains. The flavor again is just clean refreshing American Lager. Nothing under or over the top. Not a lot going on. Super easy to drink and very light in body. Overall, this is at least a clean lager. There is no nasty aftertaste. Keep it cold and cut the grass with this lager.\n"
     ]
    },
    {
     "name": "stderr",
     "output_type": "stream",
     "text": [
      " 25%|██▌       | 25/100 [00:04<00:12,  5.81it/s]"
     ]
    },
    {
     "name": "stdout",
     "output_type": "stream",
     "text": [
      "[2025-04-30 16:20:57] (2.4.1.post1) Warning: reference sentiment does not exist or its number 0 is not equal to aspect number 1, text:  [B-ASP]Global Sentiment[E-ASP]    An average beer for this brewery, I much prefer the Spitfire. This was quite nice tasting, and the nose was good, had some nice hop aroma and a little bit of fruit. The taste had a little more fruit to it than I am used to from a bitter, but it was a bit thin on mouthfeel.  \n",
      "[2025-04-30 16:20:57] (2.4.1.post1) Example 0: An average beer for this brewery, I much prefer the Spitfire. This was quite nice tasting, and the nose was good, had some nice hop aroma and a little bit of fruit. The taste had a little more fruit to it than I am used to from a bitter, but it was a bit thin on mouthfeel.\n"
     ]
    },
    {
     "name": "stderr",
     "output_type": "stream",
     "text": [
      " 26%|██▌       | 26/100 [00:04<00:12,  5.88it/s]"
     ]
    },
    {
     "name": "stdout",
     "output_type": "stream",
     "text": [
      "[2025-04-30 16:20:57] (2.4.1.post1) Warning: reference sentiment does not exist or its number 0 is not equal to aspect number 1, text:  [B-ASP]Global Sentiment[E-ASP]    A- deep copper/dark brown, maybe a hint of red/purple. 1/2 inch head. Lacing slips down side and back to head which retains well. S- sweet cranberry/strawberry.Some pines but not as much as I would have expected in reading the label. T- A fruity taste in my mind. Some sours on the tongue, maybe a bit of beet? M- nice in the mouth. not exceptional but solid. D- overall I have to say I can only drink one of these. There is just something about the taste that isn't for me.  \n",
      "[2025-04-30 16:20:57] (2.4.1.post1) Example 0: A- deep copper/dark brown, maybe a hint of red/purple. 1/2 inch head. Lacing slips down side and back to head which retains well. S- sweet cranberry/strawberry.Some pines but not as much as I would have expected in reading the label. T- A fruity taste in my mind. Some sours on the tongue, maybe a bit of beet? M- nice in the mouth. not exceptional but solid. D- overall I have to say I can only drink one of these. There is just something about the taste that isn't for me.\n"
     ]
    },
    {
     "name": "stderr",
     "output_type": "stream",
     "text": [
      " 27%|██▋       | 27/100 [00:04<00:12,  5.89it/s]"
     ]
    },
    {
     "name": "stdout",
     "output_type": "stream",
     "text": [
      "[2025-04-30 16:20:57] (2.4.1.post1) Warning: reference sentiment does not exist or its number 0 is not equal to aspect number 1, text:  [B-ASP]Global Sentiment[E-ASP]    Poured from a 650ml bottle. A: Pours a clear amber with a thick white foamy head and nice sticky lacing. S: Great nose with this one,a West Coast Tropical Fruit nose as i like it. T: Lots of citrus and tropical fruit hops nice and bitter. F: Good carbonation the hops stay with you. O: A good IPA West Coast Style ( West Coast USA) best beer i have had from Russell for sure.  \n",
      "[2025-04-30 16:20:57] (2.4.1.post1) Example 0: Poured from a 650ml bottle. A: Pours a clear amber with a thick white foamy head and nice sticky lacing. S: Great nose with this one,a West Coast Tropical Fruit nose as i like it. T: Lots of citrus and tropical fruit hops nice and bitter. F: Good carbonation the hops stay with you. O: A good IPA West Coast Style ( West Coast USA) best beer i have had from Russell for sure.\n"
     ]
    },
    {
     "name": "stderr",
     "output_type": "stream",
     "text": [
      " 28%|██▊       | 28/100 [00:04<00:13,  5.45it/s]"
     ]
    },
    {
     "name": "stdout",
     "output_type": "stream",
     "text": [
      "[2025-04-30 16:20:57] (2.4.1.post1) Warning: reference sentiment does not exist or its number 0 is not equal to aspect number 1, text:  [B-ASP]Global Sentiment[E-ASP]    I picked up a Nitro bottle of Ballast Point's Red Velvet for $2.39 at The Lager Mill. This one seems a little weird and it caught my eye, so lets see how it goes. 2017 Vintage. Poured from a brown 12oz Nitro bottle into a imperial pint glass. A- The label is awesome and it goes great with this beer, it's very eye catching. It poured a bright red color that took on more of redish pink hue when held to the light with a fingers worth of slightly creamy off white head that died down to a thin ring that stayed till the end and it left a little bit of spotty lacing behind. This is a pretty nice looking beer, I have no complaints. S- The aroma starts off with a higher amount of medium sweetness with a weird beet aroma being the first to show up and that goes into the malts which impart a pretty grainy, pale malt and bread aromas. Up next comes some fruity aromas with no noticeable chocolate. This beer has a nice aroma, it's unique, but I don't think the beets help it. T- The taste seems to be a little similar to the aroma and it starts off with a lower amount of medium sweetness with the malts being the first to show up and they impart all the same aspects that they did in the aroma with the breadyness sticking out the most and it goes into the beets which show up a little less than they did in the aroma, but they still impart the same weird and earthy aspects. Up next comes an English ale yeast like flavor and on the finish there's a lighter amount of medium bitterness with a linger beat flavor. This is a decent tasting beer, but I don't feel like the flavors work that well together and it doesn't live up to it's name. M- Fairly smooth, pretty creamy, a little on the flat side, on thicker side of being medium bodied with a medium amount of carbonation. The mouthfeel is nice and it worked well with this beer, but I don't think the nitro really helped it. Overall I thought this beer was ok and I thought it was pretty much just an average example of the style and it's hard to pin point what style it is because it's not very oatmeal stout like at all and it doesn't really remind of red velvet cake. THis beer doesn't have good drinkability, one is more than enough for me. What I like the most about this beer is the appearance and aroma, those are the highlights of this beer. What I like the least about this beer is the taste and drinkability, they just aren't that good and they need some. I wouldn't buy this beer again and I might turn one down, I can't say I would recommend, if your want a beer that tastes like red velvet cake I think you will be disappointed. All in all wasn't a big fan of this beer and I think it just needs to be reworked from the ground up. It's one of my least favorite blast point beers and it's not a great example of the style. Better luck next time guys, this one could use some work.  \n",
      "[2025-04-30 16:20:58] (2.4.1.post1) Example 0: I picked up a Nitro bottle of Ballast Point's Red Velvet for $2.39 at The Lager Mill. This one seems a little weird and it caught my eye, so lets see how it goes. 2017 Vintage. Poured from a brown 12oz Nitro bottle into a imperial pint glass. A- The label is awesome and it goes great with this beer, it's very eye catching. It poured a bright red color that took on more of redish pink hue when held to the light with a fingers worth of slightly creamy off white head that died down to a thin ring that stayed till the end and it left a little bit of spotty lacing behind. This is a pretty nice looking beer, I have no complaints. S- The aroma starts off with a higher amount of medium sweetness with a weird beet aroma being the first to show up and that goes into the malts which impart a pretty grainy, pale malt and bread aromas. Up next comes some fruity aromas with no noticeable chocolate. This beer has a nice aroma, it's unique, but I don't think the beets help it. T- The taste seems to be a little similar to the aroma and it starts off with a lower amount of medium sweetness with the malts being the first to show up and they impart all the same aspects that they did in the aroma with the breadyness sticking out the most and it goes into\n"
     ]
    },
    {
     "name": "stderr",
     "output_type": "stream",
     "text": [
      " 29%|██▉       | 29/100 [00:05<00:12,  5.58it/s]"
     ]
    },
    {
     "name": "stdout",
     "output_type": "stream",
     "text": [
      "[2025-04-30 16:20:58] (2.4.1.post1) Warning: reference sentiment does not exist or its number 0 is not equal to aspect number 1, text:  [B-ASP]Global Sentiment[E-ASP]    Hazy dirty gold. White head. Smell of dirt. Yeast. Coriander. Taste of cracker. Butter biscuit. Coriander. Yeast esters. Banana. Feel is medium. High carbonation.  \n",
      "[2025-04-30 16:20:58] (2.4.1.post1) Example 0: Hazy dirty gold. White head. Smell of dirt. Yeast. Coriander. Taste of cracker. Butter biscuit. Coriander. Yeast esters. Banana. Feel is medium. High carbonation.\n"
     ]
    },
    {
     "name": "stderr",
     "output_type": "stream",
     "text": [
      " 30%|███       | 30/100 [00:05<00:12,  5.69it/s]"
     ]
    },
    {
     "name": "stdout",
     "output_type": "stream",
     "text": [
      "[2025-04-30 16:20:58] (2.4.1.post1) Warning: reference sentiment does not exist or its number 0 is not equal to aspect number 1, text:  [B-ASP]Global Sentiment[E-ASP]    Thanks to my brother for sharing this beer. There is no date on the bottle so I am not sure of the beer's freshness. As such, I will assume it is fresh and will rate accordingly. The beer pours a medium amber color with a tan head. The aroma is strong with the grass and piney hops, as well as some bready malt and a little bit of floral. The flavor is heavy on the grass and floraly hops. I also get a strong dose of toffee and bread from the malt. Low to medium bitterness. Medium mouthfeel and medium carbonation. Decent drinkability, but the hops and malt are slightly muddled and the beer just doesn't sit right with me.  \n",
      "[2025-04-30 16:20:58] (2.4.1.post1) Example 0: Thanks to my brother for sharing this beer. There is no date on the bottle so I am not sure of the beer's freshness. As such, I will assume it is fresh and will rate accordingly. The beer pours a medium amber color with a tan head. The aroma is strong with the grass and piney hops, as well as some bready malt and a little bit of floral. The flavor is heavy on the grass and floraly hops. I also get a strong dose of toffee and bread from the malt. Low to medium bitterness. Medium mouthfeel and medium carbonation. Decent drinkability, but the hops and malt are slightly muddled and the beer just doesn't sit right with me.\n"
     ]
    },
    {
     "name": "stderr",
     "output_type": "stream",
     "text": [
      " 31%|███       | 31/100 [00:05<00:12,  5.75it/s]"
     ]
    },
    {
     "name": "stdout",
     "output_type": "stream",
     "text": [
      "[2025-04-30 16:20:58] (2.4.1.post1) Warning: reference sentiment does not exist or its number 0 is not equal to aspect number 1, text:  [B-ASP]Global Sentiment[E-ASP]    On-tap 5/2/2017 at Flynn’s in Mansfield, MA, served in a tapered pint glass. A: The beer is a cloudy light yellow color, with a short white head that fades slowly and leaves a thin lace on the glass. S: The aroma contains grassy hops, caramelized malts and a little bit of citrus. T: The taste starts out with a strong burst of grassy hops bitterness that is quickly followed by a hearty but not too heavy malt character breadiness. The citrus sweetness is extremely mild but there’s still a very good balance. The after-taste is slightly hoppy. M: Crisp and smooth, medium body, medium carbonation, finish is dry and slightly sticky. O: Tasty, goes down very easily, not too filling, decent kick, good representation of style, this is a solid IPA to drink for a while.  \n",
      "[2025-04-30 16:20:58] (2.4.1.post1) Example 0: On-tap 5/2/2017 at Flynn’s in Mansfield, MA, served in a tapered pint glass. A: The beer is a cloudy light yellow color, with a short white head that fades slowly and leaves a thin lace on the glass. S: The aroma contains grassy hops, caramelized malts and a little bit of citrus. T: The taste starts out with a strong burst of grassy hops bitterness that is quickly followed by a hearty but not too heavy malt character breadiness. The citrus sweetness is extremely mild but there’s still a very good balance. The after-taste is slightly hoppy. M: Crisp and smooth, medium body, medium carbonation, finish is dry and slightly sticky. O: Tasty, goes down very easily, not too filling, decent kick, good representation of style, this is a solid IPA to drink for a while.\n"
     ]
    },
    {
     "name": "stderr",
     "output_type": "stream",
     "text": [
      " 32%|███▏      | 32/100 [00:05<00:11,  5.81it/s]"
     ]
    },
    {
     "name": "stdout",
     "output_type": "stream",
     "text": [
      "[2025-04-30 16:20:58] (2.4.1.post1) Warning: reference sentiment does not exist or its number 0 is not equal to aspect number 1, text:  [B-ASP]Global Sentiment[E-ASP]    Pours a nice deep gold with a one-finger head. Faint retention and very nice lacing. Looks very creamy. Nice carbonation. Smells deeply piney with faint citrus tones. Hits slightly bitter and rushes to a nice pine finish. Bitterness lasts well after the finish. Very little hint of alochol here. Very crisp and clean. Well worth a try or two ... or three.  \n",
      "[2025-04-30 16:20:58] (2.4.1.post1) Example 0: Pours a nice deep gold with a one-finger head. Faint retention and very nice lacing. Looks very creamy. Nice carbonation. Smells deeply piney with faint citrus tones. Hits slightly bitter and rushes to a nice pine finish. Bitterness lasts well after the finish. Very little hint of alochol here. Very crisp and clean. Well worth a try or two ... or three.\n"
     ]
    },
    {
     "name": "stderr",
     "output_type": "stream",
     "text": [
      " 33%|███▎      | 33/100 [00:05<00:11,  5.83it/s]"
     ]
    },
    {
     "name": "stdout",
     "output_type": "stream",
     "text": [
      "[2025-04-30 16:20:58] (2.4.1.post1) Warning: reference sentiment does not exist or its number 0 is not equal to aspect number 1, text:  [B-ASP]Global Sentiment[E-ASP]    Poured to a Duvel tulip glass. A: The body is coppery to red and it's opaque. The head is more white than beige but not totally white. There's some lacing but there's little retention. S: The aroma is very similar to an outdated IPA with tons of earthy and piny aromas but a bit more soft, I find it amazing. T: The taste has a strong influence by the IPA aroma having a profile close to a Belgian IPA. It's not great but it's interesting. M: Density is medium high. Carbonation is high. Bitterness is prominent. O: One of the best Letra beers that you can have all year round.  \n",
      "[2025-04-30 16:20:58] (2.4.1.post1) Example 0: Poured to a Duvel tulip glass. A: The body is coppery to red and it's opaque. The head is more white than beige but not totally white. There's some lacing but there's little retention. S: The aroma is very similar to an outdated IPA with tons of earthy and piny aromas but a bit more soft, I find it amazing. T: The taste has a strong influence by the IPA aroma having a profile close to a Belgian IPA. It's not great but it's interesting. M: Density is medium high. Carbonation is high. Bitterness is prominent. O: One of the best Letra beers that you can have all year round.\n"
     ]
    },
    {
     "name": "stderr",
     "output_type": "stream",
     "text": [
      " 34%|███▍      | 34/100 [00:05<00:11,  5.80it/s]"
     ]
    },
    {
     "name": "stdout",
     "output_type": "stream",
     "text": [
      "[2025-04-30 16:20:58] (2.4.1.post1) Warning: reference sentiment does not exist or its number 0 is not equal to aspect number 1, text:  [B-ASP]Global Sentiment[E-ASP]    A FANTASTIC treatment of Sorachi Ace, lots of flavor... just try it, you'll like it.\n",
      "[2025-04-30 16:20:59] (2.4.1.post1) Example 0: A FANTASTIC treatment of Sorachi Ace, lots of flavor... just try it, you'll like it.\n"
     ]
    },
    {
     "name": "stderr",
     "output_type": "stream",
     "text": [
      " 35%|███▌      | 35/100 [00:06<00:11,  5.86it/s]"
     ]
    },
    {
     "name": "stdout",
     "output_type": "stream",
     "text": [
      "[2025-04-30 16:20:59] (2.4.1.post1) Warning: reference sentiment does not exist or its number 0 is not equal to aspect number 1, text:  [B-ASP]Global Sentiment[E-ASP]    12oz brown bottle Breckenridge Pale Ale was orange-gold in color with and avege size white head. The head had fairly good retantion and left lacing behing. The nose was mainly of hops, but a sweet malt aroma was there also. The taste was good and balanced. It was medium in both body and carbonation. Good beer.  \n",
      "[2025-04-30 16:20:59] (2.4.1.post1) Example 0: 12oz brown bottle Breckenridge Pale Ale was orange-gold in color with and avege size white head. The head had fairly good retantion and left lacing behing. The nose was mainly of hops, but a sweet malt aroma was there also. The taste was good and balanced. It was medium in both body and carbonation. Good beer.\n"
     ]
    },
    {
     "name": "stderr",
     "output_type": "stream",
     "text": [
      " 36%|███▌      | 36/100 [00:06<00:11,  5.42it/s]"
     ]
    },
    {
     "name": "stdout",
     "output_type": "stream",
     "text": [
      "[2025-04-30 16:20:59] (2.4.1.post1) Warning: reference sentiment does not exist or its number 0 is not equal to aspect number 1, text:  [B-ASP]Global Sentiment[E-ASP]    A - Poured out a cloudy, copper color with a soapy, small head. It left a good deal of sticky lace. S - It smelled very floral and of grasses. Also, a fairly malty nose. T - It tasted very bitter with grassy hops. A nice roasted malt taste. M - It was crisp and sharp. A medium-bodied beer. D - This was a very nice beer. Too bad it was brewed just once.  \n",
      "[2025-04-30 16:20:59] (2.4.1.post1) Example 0: A - Poured out a cloudy, copper color with a soapy, small head. It left a good deal of sticky lace. S - It smelled very floral and of grasses. Also, a fairly malty nose. T - It tasted very bitter with grassy hops. A nice roasted malt taste. M - It was crisp and sharp. A medium-bodied beer. D - This was a very nice beer. Too bad it was brewed just once.\n"
     ]
    },
    {
     "name": "stderr",
     "output_type": "stream",
     "text": [
      " 37%|███▋      | 37/100 [00:06<00:11,  5.55it/s]"
     ]
    },
    {
     "name": "stdout",
     "output_type": "stream",
     "text": [
      "[2025-04-30 16:20:59] (2.4.1.post1) Warning: reference sentiment does not exist or its number 0 is not equal to aspect number 1, text:  [B-ASP]Global Sentiment[E-ASP]    Clear amber with quickly dissipating head, but sufficient carbonation leading to a decent mouthfeel. Malty and bready aroma lead straight into the caramelized malts of the taste. A sweet finish with just a hint of bittering hops at the end. Overall I think this is a good example of the traditional Vienna Lager beer style. Not my own personal favourite, but would recommend to anyone who enjoys that style.  \n",
      "[2025-04-30 16:20:59] (2.4.1.post1) Example 0: Clear amber with quickly dissipating head, but sufficient carbonation leading to a decent mouthfeel. Malty and bready aroma lead straight into the caramelized malts of the taste. A sweet finish with just a hint of bittering hops at the end. Overall I think this is a good example of the traditional Vienna Lager beer style. Not my own personal favourite, but would recommend to anyone who enjoys that style.\n"
     ]
    },
    {
     "name": "stderr",
     "output_type": "stream",
     "text": [
      " 38%|███▊      | 38/100 [00:06<00:10,  5.66it/s]"
     ]
    },
    {
     "name": "stdout",
     "output_type": "stream",
     "text": [
      "[2025-04-30 16:20:59] (2.4.1.post1) Warning: reference sentiment does not exist or its number 0 is not equal to aspect number 1, text:  [B-ASP]Global Sentiment[E-ASP]    First had this one tap at Revolution a few weeks ago while in Chicago and was blown away... Picked up a 6-pack of cans locally in Cleveland and just as good as it was on tap, very impressed. Easily one of my favorite beers of all time now and will be a regular in my fridge... Great job Revolution!  \n",
      "[2025-04-30 16:20:59] (2.4.1.post1) Example 0: First had this one tap at Revolution a few weeks ago while in Chicago and was blown away... Picked up a 6-pack of cans locally in Cleveland and just as good as it was on tap, very impressed. Easily one of my favorite beers of all time now and will be a regular in my fridge... Great job Revolution!\n"
     ]
    },
    {
     "name": "stderr",
     "output_type": "stream",
     "text": [
      " 39%|███▉      | 39/100 [00:06<00:10,  5.74it/s]"
     ]
    },
    {
     "name": "stdout",
     "output_type": "stream",
     "text": [
      "[2025-04-30 16:20:59] (2.4.1.post1) Warning: reference sentiment does not exist or its number 0 is not equal to aspect number 1, text:  [B-ASP]Global Sentiment[E-ASP]    Pours crystal clear bright yellow with a medium fluffy to creamy white head that dissapates VERY slowly to a thin layer with some real good lace for the style. Aroma is of earthy and crisp citrus hops with a little sweet bread in the back. The flavor is the same as above really. Just a hint of soft bitterness. The sweet bread comes through a little more in the flavor but the hops shine through to brighten things up a little. Very smooth. Mouthfeel is medium bodied, crisp and smooth. I could drink a whole keg of this it's so drinkable.  \n",
      "[2025-04-30 16:21:00] (2.4.1.post1) Example 0: Pours crystal clear bright yellow with a medium fluffy to creamy white head that dissapates VERY slowly to a thin layer with some real good lace for the style. Aroma is of earthy and crisp citrus hops with a little sweet bread in the back. The flavor is the same as above really. Just a hint of soft bitterness. The sweet bread comes through a little more in the flavor but the hops shine through to brighten things up a little. Very smooth. Mouthfeel is medium bodied, crisp and smooth. I could drink a whole keg of this it's so drinkable.\n"
     ]
    },
    {
     "name": "stderr",
     "output_type": "stream",
     "text": [
      " 40%|████      | 40/100 [00:07<00:10,  5.80it/s]"
     ]
    },
    {
     "name": "stdout",
     "output_type": "stream",
     "text": [
      "[2025-04-30 16:21:00] (2.4.1.post1) Warning: reference sentiment does not exist or its number 0 is not equal to aspect number 1, text:  [B-ASP]Global Sentiment[E-ASP]    Poured this 750 mL green bottle into a Tripel Karmeliet glass. Dated \"15- sept 1999\". I purchased this beer @ UTObeer in the Borough Market in London while there in 2007. The label is in Flemish I believe. I paid 9.00 pounds for this one ($18+ at the time). It was a bargain. The cork popped loud and far despite my gentle opening. The cork was stamped with \"SB 10\". The first pour was bright and a clear rich golden color. Cloudier on subsequent pours. The brittle white head sizzled down fairly fast leaving only a film created by the nucleation of the glass. Smell was pretty bold. Pear and Pixie Stix candy. Public toilet dampness faded from the aroma. This one cleaned up and hints of pepper arose. Interesting. Taste was tart and fruity. Champagne-like. Wood notes. Bone dry. Delicious but not especially complex. It doesn't seem to change and unfold like some superior Gueuzes. I could drink this any day and be thrilled! Mouthfeel was prickly with a medium body. Finishes a bit deflated. Overall, very good!  \n",
      "[2025-04-30 16:21:00] (2.4.1.post1) Example 0: Poured this 750 mL green bottle into a Tripel Karmeliet glass. Dated \"15- sept 1999\". I purchased this beer @ UTObeer in the Borough Market in London while there in 2007. The label is in Flemish I believe. I paid 9.00 pounds for this one ($18+ at the time). It was a bargain. The cork popped loud and far despite my gentle opening. The cork was stamped with \"SB 10\". The first pour was bright and a clear rich golden color. Cloudier on subsequent pours. The brittle white head sizzled down fairly fast leaving only a film created by the nucleation of the glass. Smell was pretty bold. Pear and Pixie Stix candy. Public toilet dampness faded from the aroma. This one cleaned up and hints of pepper arose. Interesting. Taste was tart and fruity. Champagne-like. Wood notes. Bone dry. Delicious but not especially complex. It doesn't seem to change and unfold like some superior Gueuzes. I could drink this any day and be thrilled! Mouthfeel was prickly with a medium body. Finishes a bit deflated. Overall, very good!\n"
     ]
    },
    {
     "name": "stderr",
     "output_type": "stream",
     "text": [
      " 41%|████      | 41/100 [00:07<00:10,  5.81it/s]"
     ]
    },
    {
     "name": "stdout",
     "output_type": "stream",
     "text": [
      "[2025-04-30 16:21:00] (2.4.1.post1) Warning: reference sentiment does not exist or its number 0 is not equal to aspect number 1, text:  [B-ASP]Global Sentiment[E-ASP]    Presentation: 11.2oz brown pop top with nice label and freshness date Appearance: Hazy dark amber/burgundy beer with big beige head with good retention and lots of carbonation Smell: Lots of dark fruit up front, dried figs and raisins, caramel malts, toasted biscuity bread...nice Taste: More malt forward than I thought...cotton-candy sweetness, dark caramel malt, touch of dark fruit...sadly this ends with the same odd metallic twang that the other two beers from this brewery I've sampled had...it really takes away from the experience Mouthfeel: Medium/heavy Drinkability: Medium Conclusion: This is much better than the other two beers by Van Eecke that I've had...this is pretty good, except for the weird metallic bitterness on the finish and the fact that (this is the third beer from this brewery, all bought in a gift pack, that has almost immediately made my stomach churn, in a weird acidic way...I'm not sure what's up with that...)  \n",
      "[2025-04-30 16:21:00] (2.4.1.post1) Example 0: Presentation: 11.2oz brown pop top with nice label and freshness date Appearance: Hazy dark amber/burgundy beer with big beige head with good retention and lots of carbonation Smell: Lots of dark fruit up front, dried figs and raisins, caramel malts, toasted biscuity bread...nice Taste: More malt forward than I thought...cotton-candy sweetness, dark caramel malt, touch of dark fruit...sadly this ends with the same odd metallic twang that the other two beers from this brewery I've sampled had...it really takes away from the experience Mouthfeel: Medium/heavy Drinkability: Medium Conclusion: This is much better than the other two beers by Van Eecke that I've had...this is pretty good, except for the weird metallic bitterness on the finish and the fact that (this is the third beer from this brewery, all bought in a gift pack, that has almost immediately made my stomach churn, in a weird acidic way...I'm not sure what's up with that...)\n"
     ]
    },
    {
     "name": "stderr",
     "output_type": "stream",
     "text": [
      " 42%|████▏     | 42/100 [00:07<00:10,  5.76it/s]"
     ]
    },
    {
     "name": "stdout",
     "output_type": "stream",
     "text": [
      "[2025-04-30 16:21:00] (2.4.1.post1) Warning: reference sentiment does not exist or its number 0 is not equal to aspect number 1, text:  [B-ASP]Global Sentiment[E-ASP]    Appearance: Pours a bright, clear yellow body with a white head. Smell: A spicy, floral aroma with notes of juicy pineapple and watered down honey. Taste: Thin, fleeting cereal sweetness with the taste of pears before the jarring bitterness and heavy acidity of the long, unpleasant finish. Mouthfeel: Thin-bodied. Medium carbonation. Drinkability: Harsh and uninteresting.  \n",
      "[2025-04-30 16:21:00] (2.4.1.post1) Example 0: Appearance: Pours a bright, clear yellow body with a white head. Smell: A spicy, floral aroma with notes of juicy pineapple and watered down honey. Taste: Thin, fleeting cereal sweetness with the taste of pears before the jarring bitterness and heavy acidity of the long, unpleasant finish. Mouthfeel: Thin-bodied. Medium carbonation. Drinkability: Harsh and uninteresting.\n"
     ]
    },
    {
     "name": "stderr",
     "output_type": "stream",
     "text": [
      " 43%|████▎     | 43/100 [00:07<00:09,  5.79it/s]"
     ]
    },
    {
     "name": "stdout",
     "output_type": "stream",
     "text": [
      "[2025-04-30 16:21:00] (2.4.1.post1) Warning: reference sentiment does not exist or its number 0 is not equal to aspect number 1, text:  [B-ASP]Global Sentiment[E-ASP]    30cl brown bottle, filtered. BB 06/06. Served cool in a slim goblet. A: pours a dark caramely and dark reddish colour--beautiful~~ the off-white beer head dissipates quite fast, on top of a constant and gently bubbly body. S: intriguing nose... strawberry-jam, vanilla, richly toffeeish, caramel malts+malt syrup, sour-sweet licorice-smoked prunes (a Taiwanese delicacy)... Slightly too sweet for me, but the overall nose truly is distinctive. T: very interesting flavour mixing corn-syrup, ripe fig/fig jam, root-vegetable flavour like boiled potatos, and an underlying aftertaste of the afore-mentioned prunes... weak hoppyness behind with a touch of bitterness, but a licorice and mixed herbal bitter-sweetness lingers in the finish. This beer really reminds me a lot of Taiwanese high-mountain tea infused with a licorice-smoked prune--lovely faintly sour+bitter-sweet and herbal-ish lingering aftertaste rounds off the palate smoothly~~ M&D: creamy smooth texture and very balanced body; the drinkability is good due to its unusual taste, but I really struggle to categorise this beer. Maybe somebody who will have tried it could shed some lights on this?  \n",
      "[2025-04-30 16:21:00] (2.4.1.post1) Example 0: 30cl brown bottle, filtered. BB 06/06. Served cool in a slim goblet. A: pours a dark caramely and dark reddish colour--beautiful~~ the off-white beer head dissipates quite fast, on top of a constant and gently bubbly body. S: intriguing nose... strawberry-jam, vanilla, richly toffeeish, caramel malts+malt syrup, sour-sweet licorice-smoked prunes (a Taiwanese delicacy)... Slightly too sweet for me, but the overall nose truly is distinctive. T: very interesting flavour mixing corn-syrup, ripe fig/fig jam, root-vegetable flavour like boiled potatos, and an underlying aftertaste of the afore-mentioned prunes... weak hoppyness behind with a touch of bitterness, but a licorice and mixed herbal bitter-sweetness lingers in the finish. This beer really reminds me a lot of Taiwanese high-mountain tea infused with a licorice-smoked prune--lovely faintly sour+bitter-sweet and herbal-ish lingering aftertaste rounds off the palate smoothly~~ M&D: creamy smooth texture and very balanced body; the drinkability is good due to its unusual taste, but I really struggle to categorise this beer. Maybe somebody who will have tried it could shed some lights on this?\n"
     ]
    },
    {
     "name": "stderr",
     "output_type": "stream",
     "text": [
      " 44%|████▍     | 44/100 [00:07<00:10,  5.39it/s]"
     ]
    },
    {
     "name": "stdout",
     "output_type": "stream",
     "text": [
      "[2025-04-30 16:21:00] (2.4.1.post1) Warning: reference sentiment does not exist or its number 0 is not equal to aspect number 1, text:  [B-ASP]Global Sentiment[E-ASP]    Pours that gorgeous nitro infused mix of caramel cappucino and finishing into a fairly dark color stout (closer to a brown, borderline porter). Massive dense head is poured, pretty requisite to style. Aroma is pretty mute: whiffs of roasted grain, some creamy milk chocolate, a bit of floral hops, and finally some bitter black patent. On the palate, it is a luxurious smoothness of a light Irish stout, very dry with the creamy chocolate flavors coming first, a little astringency in the mid palate and finishing with a long sustain of black patent bitterness. Mouthfeel is spot on, low carbonation, medium body with a nicely textured head. Overall, these are the stouts for summer drinking. I spotted some Shakespeare and Yeti and decided when it's 80 plus out, this is a better option.  \n",
      "[2025-04-30 16:21:00] (2.4.1.post1) Example 0: Pours that gorgeous nitro infused mix of caramel cappucino and finishing into a fairly dark color stout (closer to a brown, borderline porter). Massive dense head is poured, pretty requisite to style. Aroma is pretty mute: whiffs of roasted grain, some creamy milk chocolate, a bit of floral hops, and finally some bitter black patent. On the palate, it is a luxurious smoothness of a light Irish stout, very dry with the creamy chocolate flavors coming first, a little astringency in the mid palate and finishing with a long sustain of black patent bitterness. Mouthfeel is spot on, low carbonation, medium body with a nicely textured head. Overall, these are the stouts for summer drinking. I spotted some Shakespeare and Yeti and decided when it's 80 plus out, this is a better option.\n"
     ]
    },
    {
     "name": "stderr",
     "output_type": "stream",
     "text": [
      " 45%|████▌     | 45/100 [00:07<00:09,  5.55it/s]"
     ]
    },
    {
     "name": "stdout",
     "output_type": "stream",
     "text": [
      "[2025-04-30 16:21:00] (2.4.1.post1) Warning: reference sentiment does not exist or its number 0 is not equal to aspect number 1, text:  [B-ASP]Global Sentiment[E-ASP]    On tap at Blu Wolf Bistro in Rochester, NY. This one pours a nice orange-ish yellow, with a very small head, not long lasting, with a little bit of lacing. Smells like grass, pine, orange, grapefruit, and some crackery malt. This isn't quite as good as some of the hoppy lagers being put out in Framingham, MA, but it's still nice anyway. There's a slightly wateriness on the finish, but up front, there's some nice crisp hoppiness, crackery malt, a grassy/piney bite, and some sweet citrus. This has a light, thin body, with a crisp mouthfeel, and a moderate level of carbonation. Another really nice beer from Singlecut, but not one of their best.  \n",
      "[2025-04-30 16:21:01] (2.4.1.post1) Example 0: On tap at Blu Wolf Bistro in Rochester, NY. This one pours a nice orange-ish yellow, with a very small head, not long lasting, with a little bit of lacing. Smells like grass, pine, orange, grapefruit, and some crackery malt. This isn't quite as good as some of the hoppy lagers being put out in Framingham, MA, but it's still nice anyway. There's a slightly wateriness on the finish, but up front, there's some nice crisp hoppiness, crackery malt, a grassy/piney bite, and some sweet citrus. This has a light, thin body, with a crisp mouthfeel, and a moderate level of carbonation. Another really nice beer from Singlecut, but not one of their best.\n"
     ]
    },
    {
     "name": "stderr",
     "output_type": "stream",
     "text": [
      " 46%|████▌     | 46/100 [00:08<00:09,  5.63it/s]"
     ]
    },
    {
     "name": "stdout",
     "output_type": "stream",
     "text": [
      "[2025-04-30 16:21:01] (2.4.1.post1) Warning: reference sentiment does not exist or its number 0 is not equal to aspect number 1, text:  [B-ASP]Global Sentiment[E-ASP]    2004 batch (gold foil): I had been saving this one for quite some time and I wasn't disappointed. It poured a rich caramel/toffee colour with a thin ring of fine bubbles. Very mellow, well-integrated aroma, with notes of caramel, apple, toffee, and brown sugar. The flavour has a fine balance - moderate bitterness with plenty of bready malt. Apple, chocolate, and toffee all make contributions as well. The finish has a tootsie roll character and fruit lingers beyond that. No alcohol was apparent. Full bodied with low carbonation and an extremely smooth texture. Truly awesome. The balance in the flavour and aroma was superb. I wish I had more of these beauties in storage. I miss this beer already...  \n",
      "[2025-04-30 16:21:01] (2.4.1.post1) Example 0: 2004 batch (gold foil): I had been saving this one for quite some time and I wasn't disappointed. It poured a rich caramel/toffee colour with a thin ring of fine bubbles. Very mellow, well-integrated aroma, with notes of caramel, apple, toffee, and brown sugar. The flavour has a fine balance - moderate bitterness with plenty of bready malt. Apple, chocolate, and toffee all make contributions as well. The finish has a tootsie roll character and fruit lingers beyond that. No alcohol was apparent. Full bodied with low carbonation and an extremely smooth texture. Truly awesome. The balance in the flavour and aroma was superb. I wish I had more of these beauties in storage. I miss this beer already...\n"
     ]
    },
    {
     "name": "stderr",
     "output_type": "stream",
     "text": [
      " 47%|████▋     | 47/100 [00:08<00:09,  5.64it/s]"
     ]
    },
    {
     "name": "stdout",
     "output_type": "stream",
     "text": [
      "[2025-04-30 16:21:01] (2.4.1.post1) Warning: reference sentiment does not exist or its number 0 is not equal to aspect number 1, text:  [B-ASP]Global Sentiment[E-ASP]    A - Poured out a clear, golden-orange color with a small, thin, white head of foam. It was short lived and left minimal lacing. S - It smelled of dried fruits, caramel and some spicy, floral hops. T - Good sweet caramel maltiness with a good dose of spiciness. There was a mild dried fruit (raisin) flavor. M - It was crisp and very sharp. A medium bodied ale with a smooth, dry finish. D - This is a pretty good ale. I've had better Belgian-style Pale Ales but this one was worth a shot.  \n",
      "[2025-04-30 16:21:01] (2.4.1.post1) Example 0: A - Poured out a clear, golden-orange color with a small, thin, white head of foam. It was short lived and left minimal lacing. S - It smelled of dried fruits, caramel and some spicy, floral hops. T - Good sweet caramel maltiness with a good dose of spiciness. There was a mild dried fruit (raisin) flavor. M - It was crisp and very sharp. A medium bodied ale with a smooth, dry finish. D - This is a pretty good ale. I've had better Belgian-style Pale Ales but this one was worth a shot.\n"
     ]
    },
    {
     "name": "stderr",
     "output_type": "stream",
     "text": [
      " 48%|████▊     | 48/100 [00:08<00:09,  5.72it/s]"
     ]
    },
    {
     "name": "stdout",
     "output_type": "stream",
     "text": [
      "[2025-04-30 16:21:01] (2.4.1.post1) Warning: reference sentiment does not exist or its number 0 is not equal to aspect number 1, text:  [B-ASP]Global Sentiment[E-ASP]    Presentation: Bless my little cotton Commie socks. A beer from Baltika which doesnt have a number! One of the great things about living in LA is the multi-cultural atmosphere I work in, my work colleagues know my love for beer and often I get unexpected gifts from some obscure places, this is one of them from a fellow Engineer formerly of Russia. A metric sized half-litre (500ml) brown glass bottle, labeled as 1 Pint 0.9 fluid ounces for the US market. The label is all foreign to me though, none of this translated Arsenalnoye rubbish, my bottle has the word APCEHA&#923;&#1041;HOE which translates as Beer from the Arsenal, in rough speak above the words Extra Lager in a smaller white text. The Arsenal heritage is borne out by the symbol atop the main label, a pair of dueling flintlock pistols crossed over a large letter A in a red circle. Main crown cap is red and has the text APCEHA&#923;&#1041;HOE &#1055;&#1054;&#1042;&#1054;. Listed as Alc. 7.0% by Vol. with a Production Date of 03.08.05 and Best before Date of 03.08.06. Appearance: Tremendous head on the pour, an expansive white jobby which stays at around 1-2 for some time and only slowly collapses, but always leaves a decent covering. Faded golden body with a pale-straw super-lucid clarity. A handful of streamers with average carbonation levels. Soft lacing which soon slides down back into the body of the Lager. Nose: Low strength aromas, I struggled to get anything at first, but I managed to get a reasonable guess at what was going on before the beer completely disappeared. Taste: Biscuit malts, pale and lightly toasted with some sweetness and a little grassy bitterness in the finish. Very middle of the road, it never strays from the tried-and-tested Lager formula, but there again neither does it suffer the awful adjunct laden sweet corn soaked in high alcohol crappy tastes that many East-Euro 5%+ Lagers project. Clean enough to enjoy but simple enough to forget. Mouthfeel: Never found the alleged 7% alcohol, unless it was asleep and waiting to kick my ass later on. Conditioning was good enough to add a smooth aspect and the lightly chilled body which kept the tastes in check. It felt OK, nothing great but good enough. Drinkability: I must stay that I really did not mind this one, not mediocre but nothing more than average. Simple enough with a clean profile, and I certainly wouldnt turn this one away at a Russian BBQ if it were offered. Overall: Not that bad actually, rather surprised in fact. But still just OK.  \n",
      "[2025-04-30 16:21:01] (2.4.1.post1) Example 0: Presentation: Bless my little cotton Commie socks. A beer from Baltika which doesnt have a number! One of the great things about living in LA is the multi-cultural atmosphere I work in, my work colleagues know my love for beer and often I get unexpected gifts from some obscure places, this is one of them from a fellow Engineer formerly of Russia. A metric sized half-litre (500ml) brown glass bottle, labeled as 1 Pint 0.9 fluid ounces for the US market. The label is all foreign to me though, none of this translated Arsenalnoye rubbish, my bottle has the word APCEHA&#923;&#1041;HOE which translates as Beer from the Arsenal, in rough speak above the words Extra Lager in a smaller white text. The Arsenal heritage is borne out by the symbol atop the main label, a pair of dueling flintlock pistols crossed over a large letter A in a red circle. Main crown cap is red and has the text APCEHA&#923;&#1041;HOE &#1055;&#1054;&#1042;&#1054;. Listed as Alc. 7.0% by Vol. with a Production Date of 03.08.05 and Best before Date of 03.08.06. Appearance: Tremendous head on the pour, an expansive white jobby which stays at around 1-2 for some time and only slowly collapses, but always leaves a decent covering. Faded golden body with a pale-straw super-lucid clarity. A handful of streamers with average carbonation levels. Soft lacing which soon slides down back into the body of the Lager. Nose: Low strength aromas, I struggled to get anything at first,\n"
     ]
    },
    {
     "name": "stderr",
     "output_type": "stream",
     "text": [
      " 49%|████▉     | 49/100 [00:08<00:08,  5.78it/s]"
     ]
    },
    {
     "name": "stdout",
     "output_type": "stream",
     "text": [
      "[2025-04-30 16:21:01] (2.4.1.post1) Warning: reference sentiment does not exist or its number 0 is not equal to aspect number 1, text:  [B-ASP]Global Sentiment[E-ASP]    341 mL brown bottle, undated. Pours a dark, opaque brown with a generous tan head. Big hop aroma, citric and resinous. Nutty malts are quickly overpowered by grapefruit rind and pine. Hints of bitter chocolate come through near the end. Lingering bitterness, semi-sweet. Full-bodied with moderate carbonation. Although not unpleasant, this is not what I think a brown ale should be like. Unbalanced, with too much emphasis on the hops.  \n",
      "[2025-04-30 16:21:01] (2.4.1.post1) Example 0: 341 mL brown bottle, undated. Pours a dark, opaque brown with a generous tan head. Big hop aroma, citric and resinous. Nutty malts are quickly overpowered by grapefruit rind and pine. Hints of bitter chocolate come through near the end. Lingering bitterness, semi-sweet. Full-bodied with moderate carbonation. Although not unpleasant, this is not what I think a brown ale should be like. Unbalanced, with too much emphasis on the hops.\n"
     ]
    },
    {
     "name": "stderr",
     "output_type": "stream",
     "text": [
      " 50%|█████     | 50/100 [00:08<00:08,  5.80it/s]"
     ]
    },
    {
     "name": "stdout",
     "output_type": "stream",
     "text": [
      "[2025-04-30 16:21:01] (2.4.1.post1) Warning: reference sentiment does not exist or its number 0 is not equal to aspect number 1, text:  [B-ASP]Global Sentiment[E-ASP]    hazy gold with thick white head that sticks around with good lacing. this is how this beer should look plain and simple. the aroma is intensly fruity with loads of different fruity smells... strawberry banana, citrus, mango, pear, apple, pineapple. they're all apparent at some point in the bottle or another, great complexity. there are also cloves, a light peppery quality, and light plastic-y type aroma, that might be a product of the funky yeast characteristics. an almost sweet barbeque sauce smell shows up as it warms too, as well as a little alcohol. the taste is tangy and acidic. citrus and pinapple seem to be most dominant. mango and apple sit in the background. it has a funky dry yeasty mustiness. minty floral hop aftertaste. hint of hay in the aftertaste too. as it approaches room temp a faint molasses flavor shows up. medium bodied with lively carbonation and dry as a bone. good drinkability, has well masked 9% abv and very easy to sip the entire botte away over a couple hours. an excellent funky fruity belgian pale.  \n",
      "[2025-04-30 16:21:01] (2.4.1.post1) Example 0: hazy gold with thick white head that sticks around with good lacing. this is how this beer should look plain and simple. the aroma is intensly fruity with loads of different fruity smells... strawberry banana, citrus, mango, pear, apple, pineapple. they're all apparent at some point in the bottle or another, great complexity. there are also cloves, a light peppery quality, and light plastic-y type aroma, that might be a product of the funky yeast characteristics. an almost sweet barbeque sauce smell shows up as it warms too, as well as a little alcohol. the taste is tangy and acidic. citrus and pinapple seem to be most dominant. mango and apple sit in the background. it has a funky dry yeasty mustiness. minty floral hop aftertaste. hint of hay in the aftertaste too. as it approaches room temp a faint molasses flavor shows up. medium bodied with lively carbonation and dry as a bone. good drinkability, has well masked 9% abv and very easy to sip the entire botte away over a couple hours. an excellent funky fruity belgian pale.\n"
     ]
    },
    {
     "name": "stderr",
     "output_type": "stream",
     "text": [
      " 51%|█████     | 51/100 [00:08<00:08,  5.69it/s]"
     ]
    },
    {
     "name": "stdout",
     "output_type": "stream",
     "text": [
      "[2025-04-30 16:21:01] (2.4.1.post1) Warning: reference sentiment does not exist or its number 0 is not equal to aspect number 1, text:  [B-ASP]Global Sentiment[E-ASP]    It if def a Rye Porter. The rye dominates the palate. The mouthfeel was nice and silky. great to look at. If you like beers made with rye, you will love this one  \n",
      "[2025-04-30 16:21:02] (2.4.1.post1) Example 0: It if def a Rye Porter. The rye dominates the palate. The mouthfeel was nice and silky. great to look at. If you like beers made with rye, you will love this one\n"
     ]
    },
    {
     "name": "stderr",
     "output_type": "stream",
     "text": [
      " 52%|█████▏    | 52/100 [00:09<00:09,  5.30it/s]"
     ]
    },
    {
     "name": "stdout",
     "output_type": "stream",
     "text": [
      "[2025-04-30 16:21:02] (2.4.1.post1) Warning: reference sentiment does not exist or its number 0 is not equal to aspect number 1, text:  [B-ASP]Global Sentiment[E-ASP]    0%\n",
      "[2025-04-30 16:21:02] (2.4.1.post1) Example 0: 0%\n"
     ]
    },
    {
     "name": "stderr",
     "output_type": "stream",
     "text": [
      " 53%|█████▎    | 53/100 [00:09<00:08,  5.47it/s]"
     ]
    },
    {
     "name": "stdout",
     "output_type": "stream",
     "text": [
      "[2025-04-30 16:21:02] (2.4.1.post1) Warning: reference sentiment does not exist or its number 0 is not equal to aspect number 1, text:  [B-ASP]Global Sentiment[E-ASP]    22 bomber bought at a great little wine shop in Kona Hawaii. Pours a clear amber color, very faint head, a lot of carbonation noted. Smells biscuit like, some dough, and with a slightly sweet malty note. Taste is crisp and dry, especially upfront. Finish has a bit of malt, slightly nutty, and a touch of sweetness. There is also a hint of hop bitterness. Not bad. Mouthfeel is just above average. A bit thin, and watery feeling. But it's not awful, and it has a decent fullness on the front, and well done cabonation. All in all not a bad beer. I had low expectations, and this actually exceeded them. Nice easy drinking lighter beer for the warm Hawaii climate.  \n",
      "[2025-04-30 16:21:02] (2.4.1.post1) Example 0: 22 bomber bought at a great little wine shop in Kona Hawaii. Pours a clear amber color, very faint head, a lot of carbonation noted. Smells biscuit like, some dough, and with a slightly sweet malty note. Taste is crisp and dry, especially upfront. Finish has a bit of malt, slightly nutty, and a touch of sweetness. There is also a hint of hop bitterness. Not bad. Mouthfeel is just above average. A bit thin, and watery feeling. But it's not awful, and it has a decent fullness on the front, and well done cabonation. All in all not a bad beer. I had low expectations, and this actually exceeded them. Nice easy drinking lighter beer for the warm Hawaii climate.\n"
     ]
    },
    {
     "name": "stderr",
     "output_type": "stream",
     "text": [
      " 54%|█████▍    | 54/100 [00:09<00:08,  5.60it/s]"
     ]
    },
    {
     "name": "stdout",
     "output_type": "stream",
     "text": [
      "[2025-04-30 16:21:02] (2.4.1.post1) Warning: reference sentiment does not exist or its number 0 is not equal to aspect number 1, text:  [B-ASP]Global Sentiment[E-ASP]    This is pretty tasty, but undercarbed as mentioned by others. If someone had told me this was a new batch of \"Enjoy By\", I'd believe it. Then again, it would've been about half the price in that case.  \n",
      "[2025-04-30 16:21:02] (2.4.1.post1) Example 0: This is pretty tasty, but undercarbed as mentioned by others. If someone had told me this was a new batch of \"Enjoy By\", I'd believe it. Then again, it would've been about half the price in that case.\n"
     ]
    },
    {
     "name": "stderr",
     "output_type": "stream",
     "text": [
      " 55%|█████▌    | 55/100 [00:09<00:07,  5.66it/s]"
     ]
    },
    {
     "name": "stdout",
     "output_type": "stream",
     "text": [
      "[2025-04-30 16:21:02] (2.4.1.post1) Warning: reference sentiment does not exist or its number 0 is not equal to aspect number 1, text:  [B-ASP]Global Sentiment[E-ASP]    This is the gold standard of Belgian IPAs. As you can see by the amount of review this beer has been amazing successful and is the most popular out of all FLying Dog brews. It satisfies the needs of the hop heads out there and also caters to those on the opposite end of the spectrum that like the Belgian. This beer smells fruity with a higher than average alcohol content of 8.3%. The beer is a dark amber color when poured into a bottle with a heavy amount of white lacing. Flying Dog forces carbonation in their beer so there is heavy head on this beer. It leads to a smooth, crisp heavily carbonated (though not in a bad way) mouthfeel. The taste is slightly sweet due to the Belgian yeast but neither that nor the taste of the hops linger. This is a very drinkable beer.  \n",
      "[2025-04-30 16:21:02] (2.4.1.post1) Example 0: This is the gold standard of Belgian IPAs. As you can see by the amount of review this beer has been amazing successful and is the most popular out of all FLying Dog brews. It satisfies the needs of the hop heads out there and also caters to those on the opposite end of the spectrum that like the Belgian. This beer smells fruity with a higher than average alcohol content of 8.3%. The beer is a dark amber color when poured into a bottle with a heavy amount of white lacing. Flying Dog forces carbonation in their beer so there is heavy head on this beer. It leads to a smooth, crisp heavily carbonated (though not in a bad way) mouthfeel. The taste is slightly sweet due to the Belgian yeast but neither that nor the taste of the hops linger. This is a very drinkable beer.\n"
     ]
    },
    {
     "name": "stderr",
     "output_type": "stream",
     "text": [
      " 56%|█████▌    | 56/100 [00:09<00:07,  5.73it/s]"
     ]
    },
    {
     "name": "stdout",
     "output_type": "stream",
     "text": [
      "[2025-04-30 16:21:02] (2.4.1.post1) Warning: reference sentiment does not exist or its number 0 is not equal to aspect number 1, text:  [B-ASP]Global Sentiment[E-ASP]    A clear golden pour with a strange lack of bubbles, considering the massive suds on top of the beer. They are big soapy looking suds too, absolutely clinging to the glass as it retreats. Aroma is pure hops, I know the bitterness is going to peel the taste buds off my tongue before I even take a drink. Strangely, it is a lot gentler than expected. Obviously the bitter is here, but it's a nice blend of pine and citrus, with neither being very forward. One of the most balanced hop mixes I have yet encountered. This is really good! Feels nice and dry too. I think I am going to have to get some more...  \n",
      "[2025-04-30 16:21:03] (2.4.1.post1) Example 0: A clear golden pour with a strange lack of bubbles, considering the massive suds on top of the beer. They are big soapy looking suds too, absolutely clinging to the glass as it retreats. Aroma is pure hops, I know the bitterness is going to peel the taste buds off my tongue before I even take a drink. Strangely, it is a lot gentler than expected. Obviously the bitter is here, but it's a nice blend of pine and citrus, with neither being very forward. One of the most balanced hop mixes I have yet encountered. This is really good! Feels nice and dry too. I think I am going to have to get some more...\n"
     ]
    },
    {
     "name": "stderr",
     "output_type": "stream",
     "text": [
      " 57%|█████▋    | 57/100 [00:10<00:07,  5.78it/s]"
     ]
    },
    {
     "name": "stdout",
     "output_type": "stream",
     "text": [
      "[2025-04-30 16:21:03] (2.4.1.post1) Warning: reference sentiment does not exist or its number 0 is not equal to aspect number 1, text:  [B-ASP]Global Sentiment[E-ASP]    Underwhelming, not much oak taste and the smell is very minimal\n",
      "[2025-04-30 16:21:03] (2.4.1.post1) Example 0: Underwhelming, not much oak taste and the smell is very minimal\n"
     ]
    },
    {
     "name": "stderr",
     "output_type": "stream",
     "text": [
      " 58%|█████▊    | 58/100 [00:10<00:07,  5.79it/s]"
     ]
    },
    {
     "name": "stdout",
     "output_type": "stream",
     "text": [
      "[2025-04-30 16:21:03] (2.4.1.post1) Warning: reference sentiment does not exist or its number 0 is not equal to aspect number 1, text:  [B-ASP]Global Sentiment[E-ASP]    Poured from a bomber into a perfect. Pours a light straw with no discernable cloud. Nice fluffy head settles to a sticky cap. Aroma is of light husky grain, bready and slightly dusty. Middle comes with fruity hops with slightly floral notes. Finishes sweetly fruity and floral. Aroma doesn't grab me by the nose, but it is very apparent. Flavor opens with husky grain, slightly tannic and a little acidic. Like the nose, the middle yeilds to fruity and floral hops with a nice amount of bitterness. Malt finishes the show, crackery and with slight hints of cream and toffee. Excellent. Mouthfeel is creamy and light at the same time. Very full mouthfeel with a middle to light body. The carbonation is lush and soft. Very nice. This is a very drinkable, very tasty beer. An outstanding example of an APA. Recommend.  \n",
      "[2025-04-30 16:21:03] (2.4.1.post1) Example 0: Poured from a bomber into a perfect. Pours a light straw with no discernable cloud. Nice fluffy head settles to a sticky cap. Aroma is of light husky grain, bready and slightly dusty. Middle comes with fruity hops with slightly floral notes. Finishes sweetly fruity and floral. Aroma doesn't grab me by the nose, but it is very apparent. Flavor opens with husky grain, slightly tannic and a little acidic. Like the nose, the middle yeilds to fruity and floral hops with a nice amount of bitterness. Malt finishes the show, crackery and with slight hints of cream and toffee. Excellent. Mouthfeel is creamy and light at the same time. Very full mouthfeel with a middle to light body. The carbonation is lush and soft. Very nice. This is a very drinkable, very tasty beer. An outstanding example of an APA. Recommend.\n"
     ]
    },
    {
     "name": "stderr",
     "output_type": "stream",
     "text": [
      " 59%|█████▉    | 59/100 [00:10<00:07,  5.36it/s]"
     ]
    },
    {
     "name": "stdout",
     "output_type": "stream",
     "text": [
      "[2025-04-30 16:21:03] (2.4.1.post1) Warning: reference sentiment does not exist or its number 0 is not equal to aspect number 1, text:  [B-ASP]Global Sentiment[E-ASP]    Out of a 750ml capped bottle. Pours a nice ruby brown color, some big yeast floaters at the bottom, a nice tight egg-shell colored head that left a nice sheet of sticky lacing on the glass. The aroma is sweet, vinous, with a bit of peppery spice, typical BSDA. Deep red wine, perhaps some sherry, flavors hit up front with a nice counter-balance of dark candi-sugar, some lights hints of tobacco or an earthy spice. There is a bit of a weird sourness or bitterness to this that I cannot quite place. The feel is moderate with plenty of carbonation, some fusel alcohol is present; though sweet overall finishes with a dry and bitter kick. A nice BSDA, nothing from this brewery disappoints. The brew is a bit boozy and dry/bitter for the style. Still a good pick up.  \n",
      "[2025-04-30 16:21:03] (2.4.1.post1) Example 0: Out of a 750ml capped bottle. Pours a nice ruby brown color, some big yeast floaters at the bottom, a nice tight egg-shell colored head that left a nice sheet of sticky lacing on the glass. The aroma is sweet, vinous, with a bit of peppery spice, typical BSDA. Deep red wine, perhaps some sherry, flavors hit up front with a nice counter-balance of dark candi-sugar, some lights hints of tobacco or an earthy spice. There is a bit of a weird sourness or bitterness to this that I cannot quite place. The feel is moderate with plenty of carbonation, some fusel alcohol is present; though sweet overall finishes with a dry and bitter kick. A nice BSDA, nothing from this brewery disappoints. The brew is a bit boozy and dry/bitter for the style. Still a good pick up.\n"
     ]
    },
    {
     "name": "stderr",
     "output_type": "stream",
     "text": [
      " 60%|██████    | 60/100 [00:10<00:07,  5.51it/s]"
     ]
    },
    {
     "name": "stdout",
     "output_type": "stream",
     "text": [
      "[2025-04-30 16:21:03] (2.4.1.post1) Warning: reference sentiment does not exist or its number 0 is not equal to aspect number 1, text:  [B-ASP]Global Sentiment[E-ASP]    0%\n",
      "[2025-04-30 16:21:03] (2.4.1.post1) Example 0: 0%\n"
     ]
    },
    {
     "name": "stderr",
     "output_type": "stream",
     "text": [
      " 61%|██████    | 61/100 [00:10<00:06,  5.64it/s]"
     ]
    },
    {
     "name": "stdout",
     "output_type": "stream",
     "text": [
      "[2025-04-30 16:21:03] (2.4.1.post1) Warning: reference sentiment does not exist or its number 0 is not equal to aspect number 1, text:  [B-ASP]Global Sentiment[E-ASP]    Got this as part of Mill Street's seasonal sampler pack, or I don't think I would have ever bought it again. Man this brings back memories. I used to drink this all the time a few years back (out of the bottle no less) before I moved on to better things. Pours like a standard ale. Nothing out of the ordinary. Yellow, as you can see in the photo above. Minimal head that quickly and completely disappears, never to be seen again. There's little to no head retention which is always a little disappointing. I am picking up very little in the aroma, not much but a hint of malt and grains and...um. Fruit? Some kind of fruit I guess. The taste is actually better than I was expecting. I guess there was a reason I drank this so much back then. A fairly okay amount malt with an inoffensive barely bitter finish, with an overall lemony fruitness to it. Nice sticky yet refreshing mouthfeel. I don't think this beer is aspiring to be anything but a well brewed crowd pleaser and if that is the case it does its job well. This wouldn't be a bad beer at all to session or slake your thirst or drink when your attention was focused elsewhere. I'd probably prefer something with a bit more character than this myself, but you could do a lot worse. I think this would be a great beer to keep in your fridge to offer guests who are used to macros.  \n",
      "[2025-04-30 16:21:03] (2.4.1.post1) Example 0: Got this as part of Mill Street's seasonal sampler pack, or I don't think I would have ever bought it again. Man this brings back memories. I used to drink this all the time a few years back (out of the bottle no less) before I moved on to better things. Pours like a standard ale. Nothing out of the ordinary. Yellow, as you can see in the photo above. Minimal head that quickly and completely disappears, never to be seen again. There's little to no head retention which is always a little disappointing. I am picking up very little in the aroma, not much but a hint of malt and grains and...um. Fruit? Some kind of fruit I guess. The taste is actually better than I was expecting. I guess there was a reason I drank this so much back then. A fairly okay amount malt with an inoffensive barely bitter finish, with an overall lemony fruitness to it. Nice sticky yet refreshing mouthfeel. I don't think this beer is aspiring to be anything but a well brewed crowd pleaser and if that is the case it does its job well. This wouldn't be a bad beer at all to session or slake your thirst or drink when your attention was focused elsewhere. I'd probably prefer something with a bit more character than this myself, but you could do a lot worse. I think this would be a great beer to keep in your fridge to\n"
     ]
    },
    {
     "name": "stderr",
     "output_type": "stream",
     "text": [
      " 62%|██████▏   | 62/100 [00:10<00:06,  5.72it/s]"
     ]
    },
    {
     "name": "stdout",
     "output_type": "stream",
     "text": [
      "[2025-04-30 16:21:03] (2.4.1.post1) Warning: reference sentiment does not exist or its number 0 is not equal to aspect number 1, text:  [B-ASP]Global Sentiment[E-ASP]    Poured from a 750mL bottle into a snifter. Thanks Steve for getting this one! Pours a hazy orange body - a little more orange than the normal trillium but the same amount of haze. White head reduces to leave spotty lacing and a little retention. Aromas are interesting/unique - has a light spicyness to it, tropical fruit, grassy, herbal and earthy. The tongue matches the nose with a dank resinous note added, cantaloupe and overripe tropical fruit. Medium body and carbonation. The enigma hop worked here and it was interesting to pick up the nuances of this hop as it's not widely used.  \n",
      "[2025-04-30 16:21:04] (2.4.1.post1) Example 0: Poured from a 750mL bottle into a snifter. Thanks Steve for getting this one! Pours a hazy orange body - a little more orange than the normal trillium but the same amount of haze. White head reduces to leave spotty lacing and a little retention. Aromas are interesting/unique - has a light spicyness to it, tropical fruit, grassy, herbal and earthy. The tongue matches the nose with a dank resinous note added, cantaloupe and overripe tropical fruit. Medium body and carbonation. The enigma hop worked here and it was interesting to pick up the nuances of this hop as it's not widely used.\n"
     ]
    },
    {
     "name": "stderr",
     "output_type": "stream",
     "text": [
      " 63%|██████▎   | 63/100 [00:11<00:06,  5.77it/s]"
     ]
    },
    {
     "name": "stdout",
     "output_type": "stream",
     "text": [
      "[2025-04-30 16:21:04] (2.4.1.post1) Warning: reference sentiment does not exist or its number 0 is not equal to aspect number 1, text:  [B-ASP]Global Sentiment[E-ASP]    0%\n",
      "[2025-04-30 16:21:04] (2.4.1.post1) Example 0: 0%\n"
     ]
    },
    {
     "name": "stderr",
     "output_type": "stream",
     "text": [
      " 64%|██████▍   | 64/100 [00:11<00:06,  5.83it/s]"
     ]
    },
    {
     "name": "stdout",
     "output_type": "stream",
     "text": [
      "[2025-04-30 16:21:04] (2.4.1.post1) Warning: reference sentiment does not exist or its number 0 is not equal to aspect number 1, text:  [B-ASP]Global Sentiment[E-ASP]    The beer pours out into a Corsondonk goblet a rich dark brown that looks black. There is a 1/4“ light tan head that recedes to a ring and an irregular island of foam on the surface. Sipping creates a few scattered specks and patches of lacing on the sides of the glass. The aromas include the chocolate and raspberry blend up front, with just a hint of roasted malt in the background. The flavors are much as expected from the nose with but with chocolate up front and backed up strongly by the raspberries. There’s also a light touch of roasted malt and bitterness from the roast. Mingled in to the flavor mix are some fruity sweetness and a bit of tartness from the raspberries. There doesn’t seem to be any real hop bitterness showing. The alcohol is well concealed here and noticeable only from the slight warmth it creates after several sips. The mouthfeel is on the full side of medium bodied and fairly smooth with the small bubbled light carbonation. The medium long finish begins as the chocolate and roasted malt recede further into the background, leaving the raspberry, the light sweetness and the touch of tartness to slowly follow them. Finally in the ending there is again some dark roasted bitterness that becomes tinged with a dry hint of the raspberry in the back of the palate. Overall this is a very well made beer that I’m very much enjoying and one I certainly expect to be having again. In fact I think I’ll get another bottle to have on hand for a special occasion or for a day that needs to be improved by having a special beer. If you think you might enjoy chocolate covered raspberries this is recommended.  \n",
      "[2025-04-30 16:21:04] (2.4.1.post1) Example 0: The beer pours out into a Corsondonk goblet a rich dark brown that looks black. There is a 1/4“ light tan head that recedes to a ring and an irregular island of foam on the surface. Sipping creates a few scattered specks and patches of lacing on the sides of the glass. The aromas include the chocolate and raspberry blend up front, with just a hint of roasted malt in the background. The flavors are much as expected from the nose with but with chocolate up front and backed up strongly by the raspberries. There’s also a light touch of roasted malt and bitterness from the roast. Mingled in to the flavor mix are some fruity sweetness and a bit of tartness from the raspberries. There doesn’t seem to be any real hop bitterness showing. The alcohol is well concealed here and noticeable only from the slight warmth it creates after several sips. The mouthfeel is on the full side of medium bodied and fairly smooth with the small bubbled light carbonation. The medium long finish begins as the chocolate and roasted malt recede further into the background, leaving the raspberry, the light sweetness and the touch of tartness to slowly follow them. Finally in the ending there is again some dark roasted bitterness that becomes tinged with a dry hint of the raspberry in the back of the palate. Overall this is a very well made beer that I’m very much enjoying and one I certainly\n"
     ]
    },
    {
     "name": "stderr",
     "output_type": "stream",
     "text": [
      " 65%|██████▌   | 65/100 [00:11<00:05,  5.86it/s]"
     ]
    },
    {
     "name": "stdout",
     "output_type": "stream",
     "text": [
      "[2025-04-30 16:21:04] (2.4.1.post1) Warning: reference sentiment does not exist or its number 0 is not equal to aspect number 1, text:  [B-ASP]Global Sentiment[E-ASP]    This is based on the most recent bottle I sampled. The beer pours an orange amber color with good head retention and very nice lacing. At least for this bottle, the nose is the best part of this beer, as I pick up considerable dry citrus, light skunky weed, some noticable pine and white pepper. The flavor profile replicates the nose to some extent, but there is already some noticeable sweet maltiness in the mid palate and finish that I associate with less than optimal freshness in this beer. Otherwise, this IPA is on the dry side, with a moderately long, bitter finish. Alcohol is well integrated into the flavor profile, and mouthfeel is medium bodied with a clean, moderately bitter finish. A couple of thoughts about this beer. I used to see this beer on tap frequently at various bars in Pittsburgh when I lived in Morgantown. While always pretty good, I was also always a bit hesitant to order it, as in my experience this beer goes down hill pretty quickly once it's been tapped. Fresh, this beer was a tasty IPA that I would frequently order as an alternative to Bells Two Hearted, which was the other staple I'd see on tap in and around Pittsburgh. Unfortunately, I ordered far too many pints of HH that were nowhere close to optimal freshness, which is why I became increasingly cautious about ordering it. On the other hand, a bottle sent to me by a friend a few months back was incredible, and at long last I could see some basis for the lofty score this beer seems to routinely get on BA. The one I drank last night was decent, but in light of the bottle I enjoyed a few months back, something of a disappointment. Bottle/batch variation seems to be the order of the day with this beer, which is the only cautionary note I would make regarding this otherwise well made IPA from Fat Head's.  \n",
      "[2025-04-30 16:21:04] (2.4.1.post1) Example 0: This is based on the most recent bottle I sampled. The beer pours an orange amber color with good head retention and very nice lacing. At least for this bottle, the nose is the best part of this beer, as I pick up considerable dry citrus, light skunky weed, some noticable pine and white pepper. The flavor profile replicates the nose to some extent, but there is already some noticeable sweet maltiness in the mid palate and finish that I associate with less than optimal freshness in this beer. Otherwise, this IPA is on the dry side, with a moderately long, bitter finish. Alcohol is well integrated into the flavor profile, and mouthfeel is medium bodied with a clean, moderately bitter finish. A couple of thoughts about this beer. I used to see this beer on tap frequently at various bars in Pittsburgh when I lived in Morgantown. While always pretty good, I was also always a bit hesitant to order it, as in my experience this beer goes down hill pretty quickly once it's been tapped. Fresh, this beer was a tasty IPA that I would frequently order as an alternative to Bells Two Hearted, which was the other staple I'd see on tap in and around Pittsburgh. Unfortunately, I ordered far too many pints of HH that were nowhere close to optimal freshness, which is why I became increasingly cautious about ordering it. On the other hand, a bottle sent to me by a friend\n"
     ]
    },
    {
     "name": "stderr",
     "output_type": "stream",
     "text": [
      " 66%|██████▌   | 66/100 [00:11<00:06,  5.40it/s]"
     ]
    },
    {
     "name": "stdout",
     "output_type": "stream",
     "text": [
      "[2025-04-30 16:21:04] (2.4.1.post1) Warning: reference sentiment does not exist or its number 0 is not equal to aspect number 1, text:  [B-ASP]Global Sentiment[E-ASP]    Thanks to Tyler for grabbing this for me on a recent trip to PDX. Poured into 10oz glass. Poured a nice medium golden yellow with a thin cap of white head that had OK retention and lacing. The was nicely grainy, with a solid, but mellow, dose of hops. The flavor was also grain forward with a bit of a hop tang on the finish. The body was surprisingly full, not heavy and a bit too sweet to be called crisp, and very enjoyable. Drinkability was pretty good, I could easily have these as my chore beer, or at a cookout if it were local to me. Overall, a solid and enjoyable brew that's worth a shot if you see it.  \n",
      "[2025-04-30 16:21:04] (2.4.1.post1) Example 0: Thanks to Tyler for grabbing this for me on a recent trip to PDX. Poured into 10oz glass. Poured a nice medium golden yellow with a thin cap of white head that had OK retention and lacing. The was nicely grainy, with a solid, but mellow, dose of hops. The flavor was also grain forward with a bit of a hop tang on the finish. The body was surprisingly full, not heavy and a bit too sweet to be called crisp, and very enjoyable. Drinkability was pretty good, I could easily have these as my chore beer, or at a cookout if it were local to me. Overall, a solid and enjoyable brew that's worth a shot if you see it.\n"
     ]
    },
    {
     "name": "stderr",
     "output_type": "stream",
     "text": [
      " 67%|██████▋   | 67/100 [00:11<00:05,  5.54it/s]"
     ]
    },
    {
     "name": "stdout",
     "output_type": "stream",
     "text": [
      "[2025-04-30 16:21:04] (2.4.1.post1) Warning: reference sentiment does not exist or its number 0 is not equal to aspect number 1, text:  [B-ASP]Global Sentiment[E-ASP]    Crystalline orange-copper capped by a large, light tan head. The foam is semi-stiff and eventually falls to a thick, chunky disk. Underwhelming lace. The nose is a near equal mixture of lightly toasted caramel malt and spicy hops; the hops being a bit more prominent. I like the flavor, though it could be more assertive. Malt dominates the start with spicy hops fading in and taking over at the midway point of each mouthful. Malt appears again on the finish due to a minor grain/husk intrusion. There's a mineral-like (though not metallic) aspect to the finish as well. It isn't an overly hoppy beer considering the style. The body is closer to light than to medium and the mouthfeel is slightly too busy. BridgePort ESB is a solid, if not overly impressive, version of the style. It could stand to be more flavor assertive, particularly with regard to hops. It's still enjoyable though, and does go down rather easily.  \n",
      "[2025-04-30 16:21:04] (2.4.1.post1) Example 0: Crystalline orange-copper capped by a large, light tan head. The foam is semi-stiff and eventually falls to a thick, chunky disk. Underwhelming lace. The nose is a near equal mixture of lightly toasted caramel malt and spicy hops; the hops being a bit more prominent. I like the flavor, though it could be more assertive. Malt dominates the start with spicy hops fading in and taking over at the midway point of each mouthful. Malt appears again on the finish due to a minor grain/husk intrusion. There's a mineral-like (though not metallic) aspect to the finish as well. It isn't an overly hoppy beer considering the style. The body is closer to light than to medium and the mouthfeel is slightly too busy. BridgePort ESB is a solid, if not overly impressive, version of the style. It could stand to be more flavor assertive, particularly with regard to hops. It's still enjoyable though, and does go down rather easily.\n"
     ]
    },
    {
     "name": "stderr",
     "output_type": "stream",
     "text": [
      " 68%|██████▊   | 68/100 [00:11<00:05,  5.62it/s]"
     ]
    },
    {
     "name": "stdout",
     "output_type": "stream",
     "text": [
      "[2025-04-30 16:21:04] (2.4.1.post1) Warning: reference sentiment does not exist or its number 0 is not equal to aspect number 1, text:  [B-ASP]Global Sentiment[E-ASP]    0%\n",
      "[2025-04-30 16:21:05] (2.4.1.post1) Example 0: 0%\n"
     ]
    },
    {
     "name": "stderr",
     "output_type": "stream",
     "text": [
      " 69%|██████▉   | 69/100 [00:12<00:05,  5.72it/s]"
     ]
    },
    {
     "name": "stdout",
     "output_type": "stream",
     "text": [
      "[2025-04-30 16:21:05] (2.4.1.post1) Warning: reference sentiment does not exist or its number 0 is not equal to aspect number 1, text:  [B-ASP]Global Sentiment[E-ASP]    12 oz. bottle with just a plain and simple dark forest green label that has the name of the beer in big white letters. To the left side is a description of the beer and why it's called \"Saint Bridget's Porter.\" Below that is where they say this beer got the gold at the World Beer Cup all the way back in 1996. To the right side is where they keep the US Government warning, refund values, address of the brewery, and a notched month and week bottle date. Mine was hard to see where they notched it, so I don't know how this beer was. Appearance: When poured into a Bell's brewery pint glass, this Porter is a dark cola mahagony brown with a less than a 1/2 inch head of tan foam. The head of foam quickly fizzled away in a matter of only 2 seconds. It manage to leave behind islands of fizzy bubbles, tan foamy rings, and a smidge of tan rings around the glass. Smell: It had a nice medium sized base aroma of roasted espresso beans. Once I got passed the espresso cloud, I got a big whiff of dark roasted malts, bitter dark chocolate, and a pinch of sweet caramel and roasted hops. Taste: I could taste all the characteristics of a good Porter in the making. It had all the usual Porter tastes of dark roasted malts, bitter dark chocolate, roasted coffee beans, and a splash of roasted hops. But what made this one so different was the fact that it tasted like Great Divide watered down most of the roasted flavors for some odd reason. It was fine where the taste was going, but then it did a U-turn when the water kicked in. Mouthfeel: I thought it was a heavly carbonated medium bodied beer that had a quick aftertaste of roasted espresso beans, dark chocolate, and dark roasted malts. It's too bad the aftertaste didn't last long because there were quite a few good flavors in that aftertaste. Drinkability: It was an OK porter from Great Divide, but it could have been a great Porter from Great Divide if they hadn't watered down the taste. In the world of Porters, I could pass on this one.  \n",
      "[2025-04-30 16:21:05] (2.4.1.post1) Example 0: 12 oz. bottle with just a plain and simple dark forest green label that has the name of the beer in big white letters. To the left side is a description of the beer and why it's called \"Saint Bridget's Porter.\" Below that is where they say this beer got the gold at the World Beer Cup all the way back in 1996. To the right side is where they keep the US Government warning, refund values, address of the brewery, and a notched month and week bottle date. Mine was hard to see where they notched it, so I don't know how this beer was. Appearance: When poured into a Bell's brewery pint glass, this Porter is a dark cola mahagony brown with a less than a 1/2 inch head of tan foam. The head of foam quickly fizzled away in a matter of only 2 seconds. It manage to leave behind islands of fizzy bubbles, tan foamy rings, and a smidge of tan rings around the glass. Smell: It had a nice medium sized base aroma of roasted espresso beans. Once I got passed the espresso cloud, I got a big whiff of dark roasted malts, bitter dark chocolate, and a pinch of sweet caramel and roasted hops. Taste: I could taste all the characteristics of a good Porter in the making. It had all the usual Porter tastes of dark roasted malts, bitter dark chocolate, roasted coffee beans, and a splash of roasted hops.\n"
     ]
    },
    {
     "name": "stderr",
     "output_type": "stream",
     "text": [
      " 70%|███████   | 70/100 [00:12<00:05,  5.78it/s]"
     ]
    },
    {
     "name": "stdout",
     "output_type": "stream",
     "text": [
      "[2025-04-30 16:21:05] (2.4.1.post1) Warning: reference sentiment does not exist or its number 0 is not equal to aspect number 1, text:  [B-ASP]Global Sentiment[E-ASP]    appearance - Golden color with a nice large white head. smell - Smells of yeast, bread, sna spices here. taste - Has a sweet taste of spices and some mild hops present with a dry ending taste. mouthfeel - Medium body. drinkability - I know this is popular,but felt it was overrated. I thought it was an ok beer, above average, but nothing that I would says wow you have try this.  \n",
      "[2025-04-30 16:21:05] (2.4.1.post1) Example 0: appearance - Golden color with a nice large white head. smell - Smells of yeast, bread, sna spices here. taste - Has a sweet taste of spices and some mild hops present with a dry ending taste. mouthfeel - Medium body. drinkability - I know this is popular,but felt it was overrated. I thought it was an ok beer, above average, but nothing that I would says wow you have try this.\n"
     ]
    },
    {
     "name": "stderr",
     "output_type": "stream",
     "text": [
      " 71%|███████   | 71/100 [00:12<00:04,  5.82it/s]"
     ]
    },
    {
     "name": "stdout",
     "output_type": "stream",
     "text": [
      "[2025-04-30 16:21:05] (2.4.1.post1) Warning: reference sentiment does not exist or its number 0 is not equal to aspect number 1, text:  [B-ASP]Global Sentiment[E-ASP]    Crystal clear extremely pale yellow, big bubbled carbonation forms a white head. Decent retention, good lacing. Pretty attractive despite the light color. Smells great - the fruits are in the forefront, but have nice zesty hoppage and great yeastwork behind it. Taste is honestly very close to those fruit-flavored seltzer waters (with some spicy hops added). Pretty horrid. Very thin and dry with harsh carbonation and astringent grainy bitter finish. The aftertaste challenges you to take another sip. No thanks, I gave this a fair shot. Too bad, it started with so much potential. Is this low-carb? Maybe that was the plan. I am trying to grasp why a good brewery would make this.  \n",
      "[2025-04-30 16:21:05] (2.4.1.post1) Example 0: Crystal clear extremely pale yellow, big bubbled carbonation forms a white head. Decent retention, good lacing. Pretty attractive despite the light color. Smells great - the fruits are in the forefront, but have nice zesty hoppage and great yeastwork behind it. Taste is honestly very close to those fruit-flavored seltzer waters (with some spicy hops added). Pretty horrid. Very thin and dry with harsh carbonation and astringent grainy bitter finish. The aftertaste challenges you to take another sip. No thanks, I gave this a fair shot. Too bad, it started with so much potential. Is this low-carb? Maybe that was the plan. I am trying to grasp why a good brewery would make this.\n"
     ]
    },
    {
     "name": "stderr",
     "output_type": "stream",
     "text": [
      " 72%|███████▏  | 72/100 [00:12<00:05,  5.35it/s]"
     ]
    },
    {
     "name": "stdout",
     "output_type": "stream",
     "text": [
      "[2025-04-30 16:21:05] (2.4.1.post1) Warning: reference sentiment does not exist or its number 0 is not equal to aspect number 1, text:  [B-ASP]Global Sentiment[E-ASP]    Spent an extremely pleasant afternoon in a Pub in Victoria BC drinking this beer, so my rating may be a little biased.Medium red color. Roasted malts, slightly hoppy, very flavorful ale. Refreshing and slightly hoppy. Good malt/hop balance. Mouthfeel is full and round. Finish is clean. Aftertaste is slightly bitter.  \n",
      "[2025-04-30 16:21:06] (2.4.1.post1) Example 0: Spent an extremely pleasant afternoon in a Pub in Victoria BC drinking this beer, so my rating may be a little biased.Medium red color. Roasted malts, slightly hoppy, very flavorful ale. Refreshing and slightly hoppy. Good malt/hop balance. Mouthfeel is full and round. Finish is clean. Aftertaste is slightly bitter.\n"
     ]
    },
    {
     "name": "stderr",
     "output_type": "stream",
     "text": [
      " 73%|███████▎  | 73/100 [00:13<00:06,  4.17it/s]"
     ]
    },
    {
     "name": "stdout",
     "output_type": "stream",
     "text": [
      "[2025-04-30 16:21:06] (2.4.1.post1) Warning: reference sentiment does not exist or its number 0 is not equal to aspect number 1, text:  [B-ASP]Global Sentiment[E-ASP]    Served in a Devil's Backbone weizen glass. Figured I'd grab one o' these guys before they disappear for the rest of the year. It pours a pretty clear pale straw, riddled with particulates, topped by over a finger of healthy white froth. The nose comprises orange peel, mandarin orange flesh, puffed rice, and wet wheat. The taste comprises corn syrup, wheat, light mandarin orange, and flowers. The body is light, with a light carbonation and a thickly watery feel. Overall, a decent APWA, nothing close to special, but highly drinkable.  \n",
      "[2025-04-30 16:21:06] (2.4.1.post1) Example 0: Served in a Devil's Backbone weizen glass. Figured I'd grab one o' these guys before they disappear for the rest of the year. It pours a pretty clear pale straw, riddled with particulates, topped by over a finger of healthy white froth. The nose comprises orange peel, mandarin orange flesh, puffed rice, and wet wheat. The taste comprises corn syrup, wheat, light mandarin orange, and flowers. The body is light, with a light carbonation and a thickly watery feel. Overall, a decent APWA, nothing close to special, but highly drinkable.\n"
     ]
    },
    {
     "name": "stderr",
     "output_type": "stream",
     "text": [
      " 74%|███████▍  | 74/100 [00:13<00:06,  3.86it/s]"
     ]
    },
    {
     "name": "stdout",
     "output_type": "stream",
     "text": [
      "[2025-04-30 16:21:06] (2.4.1.post1) Warning: reference sentiment does not exist or its number 0 is not equal to aspect number 1, text:  [B-ASP]Global Sentiment[E-ASP]    This tasted very little like beer. More like raspberry flavored pop or mineral water. The fruit was just too strong for my liking. It tasted very sugary and very berry. I couldn't taste much typical beer flavors in it at all. Drinkability is therefore pretty low on this. Not my thing really. I much prefer Leinie's Sunset Wheat, where fruit flavors compliment beer flavors, instead of completely dominating them.  \n",
      "[2025-04-30 16:21:06] (2.4.1.post1) Example 0: This tasted very little like beer. More like raspberry flavored pop or mineral water. The fruit was just too strong for my liking. It tasted very sugary and very berry. I couldn't taste much typical beer flavors in it at all. Drinkability is therefore pretty low on this. Not my thing really. I much prefer Leinie's Sunset Wheat, where fruit flavors compliment beer flavors, instead of completely dominating them.\n"
     ]
    },
    {
     "name": "stderr",
     "output_type": "stream",
     "text": [
      " 75%|███████▌  | 75/100 [00:13<00:07,  3.32it/s]"
     ]
    },
    {
     "name": "stdout",
     "output_type": "stream",
     "text": [
      "[2025-04-30 16:21:06] (2.4.1.post1) Warning: reference sentiment does not exist or its number 0 is not equal to aspect number 1, text:  [B-ASP]Global Sentiment[E-ASP]    Pours a orangish body with real good frothy head that dies slow with lace. A spicy, sour grape/tart fruit and citric hop aroma as well as yeasty; something like apple or pear in as well. Little bit of sugariness for sweetness and some spices come in as well. Great balance comes to my mind, especially for the Belgian take on this style. Slightly smooth and creamy, the beer is light-bodied but still has a carbonation that makes the beer sharp and pronounces the citric hops which abound. Great balance is achieved with tart fruit tastes like grape skin, apple and pear. Clove and pepper round out the body which has a good candi-sugar and caramel sweetness as well a grainy, bready touch. Easy to drink with good fruit and sweetness while still maintaing a large hop edge, this beer finishes real crisp and is a must for anyone who appreciates Belgian ales.  \n",
      "[2025-04-30 16:21:06] (2.4.1.post1) Example 0: Pours a orangish body with real good frothy head that dies slow with lace. A spicy, sour grape/tart fruit and citric hop aroma as well as yeasty; something like apple or pear in as well. Little bit of sugariness for sweetness and some spices come in as well. Great balance comes to my mind, especially for the Belgian take on this style. Slightly smooth and creamy, the beer is light-bodied but still has a carbonation that makes the beer sharp and pronounces the citric hops which abound. Great balance is achieved with tart fruit tastes like grape skin, apple and pear. Clove and pepper round out the body which has a good candi-sugar and caramel sweetness as well a grainy, bready touch. Easy to drink with good fruit and sweetness while still maintaing a large hop edge, this beer finishes real crisp and is a must for anyone who appreciates Belgian ales.\n"
     ]
    },
    {
     "name": "stderr",
     "output_type": "stream",
     "text": [
      " 76%|███████▌  | 76/100 [00:13<00:06,  3.72it/s]"
     ]
    },
    {
     "name": "stdout",
     "output_type": "stream",
     "text": [
      "[2025-04-30 16:21:06] (2.4.1.post1) Warning: reference sentiment does not exist or its number 0 is not equal to aspect number 1, text:  [B-ASP]Global Sentiment[E-ASP]    You had this beer. Write a review.\n",
      "[2025-04-30 16:21:07] (2.4.1.post1) Example 0: You had this beer. Write a review.\n"
     ]
    },
    {
     "name": "stderr",
     "output_type": "stream",
     "text": [
      " 77%|███████▋  | 77/100 [00:14<00:05,  4.13it/s]"
     ]
    },
    {
     "name": "stdout",
     "output_type": "stream",
     "text": [
      "[2025-04-30 16:21:07] (2.4.1.post1) Warning: reference sentiment does not exist or its number 0 is not equal to aspect number 1, text:  [B-ASP]Global Sentiment[E-ASP]    12 oz bottle, poured into a tulip. Pours a light brownish amber with a minimal off-white head. Minimal retention and lacing. Smells of toasty and nutty malts with some ripe and overripe citrus. A fair amount of caramel malt sweetness, too. In the mouth, this is a pretty fruity and tangy take on a bitter. As in the nose, toasty and nutty, with a sweet combo of overripe citrus and caramel. Medium-thick body with moderate carbonation. Overripe orange and earthiness linger for a moment. Overall impression: Pretty good brew, sessionable but unmemorable.  \n",
      "[2025-04-30 16:21:07] (2.4.1.post1) Example 0: 12 oz bottle, poured into a tulip. Pours a light brownish amber with a minimal off-white head. Minimal retention and lacing. Smells of toasty and nutty malts with some ripe and overripe citrus. A fair amount of caramel malt sweetness, too. In the mouth, this is a pretty fruity and tangy take on a bitter. As in the nose, toasty and nutty, with a sweet combo of overripe citrus and caramel. Medium-thick body with moderate carbonation. Overripe orange and earthiness linger for a moment. Overall impression: Pretty good brew, sessionable but unmemorable.\n"
     ]
    },
    {
     "name": "stderr",
     "output_type": "stream",
     "text": [
      " 78%|███████▊  | 78/100 [00:14<00:04,  4.51it/s]"
     ]
    },
    {
     "name": "stdout",
     "output_type": "stream",
     "text": [
      "[2025-04-30 16:21:07] (2.4.1.post1) Warning: reference sentiment does not exist or its number 0 is not equal to aspect number 1, text:  [B-ASP]Global Sentiment[E-ASP]    Can't say anything without first thanking Sean for this gem...2012 CFH, gold waxed & capped, poured into a Deschutes tulip. A: Dense opaque black with a soft cap of khaki tan head. S: Intense bourbon and whiskey notes without being extraordinarily boozy...rye whiskey spice as well? Tons and tons of rich sweet milk chocolate, toasted almond, and oak. T: Taste follows the nose with just a bit more booze; bourbon, oak, rich dark chocolate fudge...toasted coconut and almond, strong notes of whiskey accompanies a touch of burn on the throat, with hints of spiced vanilla. MF: Honestly pretty smooth and mellow for a 2012 bottle. Soft carbonation, full bodied, velvety and a bit viscous and coating. O: So tasty! The very best beer I've ever had, something I could drink all of the time even with the moderate-to-strong bourbon presence. IMO, do what you have to to trade for one of these.  \n",
      "[2025-04-30 16:21:07] (2.4.1.post1) Example 0: Can't say anything without first thanking Sean for this gem...2012 CFH, gold waxed & capped, poured into a Deschutes tulip. A: Dense opaque black with a soft cap of khaki tan head. S: Intense bourbon and whiskey notes without being extraordinarily boozy...rye whiskey spice as well? Tons and tons of rich sweet milk chocolate, toasted almond, and oak. T: Taste follows the nose with just a bit more booze; bourbon, oak, rich dark chocolate fudge...toasted coconut and almond, strong notes of whiskey accompanies a touch of burn on the throat, with hints of spiced vanilla. MF: Honestly pretty smooth and mellow for a 2012 bottle. Soft carbonation, full bodied, velvety and a bit viscous and coating. O: So tasty! The very best beer I've ever had, something I could drink all of the time even with the moderate-to-strong bourbon presence. IMO, do what you have to to trade for one of these.\n"
     ]
    },
    {
     "name": "stderr",
     "output_type": "stream",
     "text": [
      " 79%|███████▉  | 79/100 [00:14<00:04,  4.82it/s]"
     ]
    },
    {
     "name": "stdout",
     "output_type": "stream",
     "text": [
      "[2025-04-30 16:21:07] (2.4.1.post1) Warning: reference sentiment does not exist or its number 0 is not equal to aspect number 1, text:  [B-ASP]Global Sentiment[E-ASP]    Tap at New World Tavern in Playmouth, MA. Light fizzy head decent lacing, hazy slight honey carrot orange color. Nose light sour fermented pumpkin, little apple pie spices and nutty, lots of mulling spices which make it pretty aromatic but they seem kinda weird for a lambic, some sour tart funk but light, a bit of a funky gueuze, some light reddish malts. Taste starts with a big pumpkin flavor, tons of pie both pumpkin and Apple pie, Apple pie spices and nutty flavor, some pumpkin pie and fermented pumpkin, plenty of mulling spices, light tart funk gueuze like, semi sweet too. Finish has a bit more tartness, light acidity and little flemmy, nice lambic like tartness, interesting pumpkin and apple. Mouth is med bodied, decent carb bit the bottle is probably better. Light tart flemmy finish. Overall decent, bit too sweet, to much Apple and pie flavors, spices, nuts, etc, the crazy mulling spices make it kinda weird for a lambic, and the sweetness and pie like take it more from a traditional lambic to more of a sweet dessert lambic like a Lindeman's style but still better than that at least. I do give them some credit for a uniqueness of it, actually getting pumpkin into a lambic without it really sucking at least. I'm glad I only paid a few bucks to try this on draft rather than a handful of money for a big bottle that I don't think I could finish by myself. The single glass is hard enough to finish.  \n",
      "[2025-04-30 16:21:07] (2.4.1.post1) Example 0: Tap at New World Tavern in Playmouth, MA. Light fizzy head decent lacing, hazy slight honey carrot orange color. Nose light sour fermented pumpkin, little apple pie spices and nutty, lots of mulling spices which make it pretty aromatic but they seem kinda weird for a lambic, some sour tart funk but light, a bit of a funky gueuze, some light reddish malts. Taste starts with a big pumpkin flavor, tons of pie both pumpkin and Apple pie, Apple pie spices and nutty flavor, some pumpkin pie and fermented pumpkin, plenty of mulling spices, light tart funk gueuze like, semi sweet too. Finish has a bit more tartness, light acidity and little flemmy, nice lambic like tartness, interesting pumpkin and apple. Mouth is med bodied, decent carb bit the bottle is probably better. Light tart flemmy finish. Overall decent, bit too sweet, to much Apple and pie flavors, spices, nuts, etc, the crazy mulling spices make it kinda weird for a lambic, and the sweetness and pie like take it more from a traditional lambic to more of a sweet dessert lambic like a Lindeman's style but still better than that at least. I do give them some credit for a uniqueness of it, actually getting pumpkin into a lambic without it really sucking at least. I'm glad I only paid a few bucks to try this on draft rather than a handful of money for a big bottle that I don't think I could finish by\n"
     ]
    },
    {
     "name": "stderr",
     "output_type": "stream",
     "text": [
      " 80%|████████  | 80/100 [00:14<00:03,  5.10it/s]"
     ]
    },
    {
     "name": "stdout",
     "output_type": "stream",
     "text": [
      "[2025-04-30 16:21:07] (2.4.1.post1) Warning: reference sentiment does not exist or its number 0 is not equal to aspect number 1, text:  [B-ASP]Global Sentiment[E-ASP]    Poured an opaque black with a hint of red, a nice tan head and a decent clingy lace. The head subdued quite quickly, but maintained a fine layer. The aroma was roasted, malty, and of caramel with a background a presence of fruit. The Flavor starts slightly sweet and roasted, but finishes dry and with a lasting bite. The mouth feel is smooth and effervescent, but a little thin, and dry. Admittedly, I am not a huge fan of this style, but I prefer a more dynamic brew that possesses a little more texture and body.  \n",
      "[2025-04-30 16:21:07] (2.4.1.post1) Example 0: Poured an opaque black with a hint of red, a nice tan head and a decent clingy lace. The head subdued quite quickly, but maintained a fine layer. The aroma was roasted, malty, and of caramel with a background a presence of fruit. The Flavor starts slightly sweet and roasted, but finishes dry and with a lasting bite. The mouth feel is smooth and effervescent, but a little thin, and dry. Admittedly, I am not a huge fan of this style, but I prefer a more dynamic brew that possesses a little more texture and body.\n"
     ]
    },
    {
     "name": "stderr",
     "output_type": "stream",
     "text": [
      " 81%|████████  | 81/100 [00:14<00:03,  4.89it/s]"
     ]
    },
    {
     "name": "stdout",
     "output_type": "stream",
     "text": [
      "[2025-04-30 16:21:07] (2.4.1.post1) Warning: reference sentiment does not exist or its number 0 is not equal to aspect number 1, text:  [B-ASP]Global Sentiment[E-ASP]    Sampled March 2007 Pours with a brilliantly clear, copper color and is topped by a frothy, initially three-finger thick, nicely tan colored head. The head creates a rocky surface as it slowly subsides, all the while leaving a nice lacing pattern on the sides of the glass. The aroma is nicely hop focused with notes of spicy herbs, and a full, rich grapefruit citrus character. The citrus is the single most noticeable aspect of the aroma, with maybe just a hint of malt character coming through as well. Hop fruit aromatics of apricot, peaches and some sort of sweet tropical fruit are also noticeable in the nose. A sharp, spicy taste of hops greets my tongue as I first take a sip. Immediately though the citrus character becomes the dominant note; it leans towards sweet citrus fruit like oranges, tangelos, grapefruit and even some smooth tropical fruit notes. The carbonation is fairly low, which makes this very smooth to drink; almost creamy in texture. Caramelized malt notes, a touch of brown sugar, and some light toasted grain character play a supporting role for the dominant hop character. A nice bitterness is here as well, though it is not overly powering; it plays as a nice juxtaposition to the softer, more approachable fruity hop character. This is just a nice easy drinking Pale Ale, I could easily drink a couple pints of this brew. It is so well balanced to be quaffed pint by pint. Perhaps I could wish for a bit more chewy malt body here, but that would keep it from being so drinkable. I am a sucker for the fruity, smooth hop varieties right now (in this case Amarillo) so this Pale Ale is right up my alley.  \n",
      "[2025-04-30 16:21:08] (2.4.1.post1) Example 0: Sampled March 2007 Pours with a brilliantly clear, copper color and is topped by a frothy, initially three-finger thick, nicely tan colored head. The head creates a rocky surface as it slowly subsides, all the while leaving a nice lacing pattern on the sides of the glass. The aroma is nicely hop focused with notes of spicy herbs, and a full, rich grapefruit citrus character. The citrus is the single most noticeable aspect of the aroma, with maybe just a hint of malt character coming through as well. Hop fruit aromatics of apricot, peaches and some sort of sweet tropical fruit are also noticeable in the nose. A sharp, spicy taste of hops greets my tongue as I first take a sip. Immediately though the citrus character becomes the dominant note; it leans towards sweet citrus fruit like oranges, tangelos, grapefruit and even some smooth tropical fruit notes. The carbonation is fairly low, which makes this very smooth to drink; almost creamy in texture. Caramelized malt notes, a touch of brown sugar, and some light toasted grain character play a supporting role for the dominant hop character. A nice bitterness is here as well, though it is not overly powering; it plays as a nice juxtaposition to the softer, more approachable fruity hop character. This is just a nice easy drinking Pale Ale, I could easily drink a couple pints of this brew. It is so well balanced to be quaffed pint by pint. Perhaps I could\n"
     ]
    },
    {
     "name": "stderr",
     "output_type": "stream",
     "text": [
      " 82%|████████▏ | 82/100 [00:15<00:03,  5.15it/s]"
     ]
    },
    {
     "name": "stdout",
     "output_type": "stream",
     "text": [
      "[2025-04-30 16:21:08] (2.4.1.post1) Warning: reference sentiment does not exist or its number 0 is not equal to aspect number 1, text:  [B-ASP]Global Sentiment[E-ASP]    Snagged a six pack at the local Kroger in Collierville. Typical amber color. Not much smell and a thin head. Tastes like a run of the mill pale ale with a hint of hops. Carbonation is appropriate. Drinkable and my guess is the ABV is pretty standard. Not bad but not good. Cheers.  \n",
      "[2025-04-30 16:21:08] (2.4.1.post1) Example 0: Snagged a six pack at the local Kroger in Collierville. Typical amber color. Not much smell and a thin head. Tastes like a run of the mill pale ale with a hint of hops. Carbonation is appropriate. Drinkable and my guess is the ABV is pretty standard. Not bad but not good. Cheers.\n"
     ]
    },
    {
     "name": "stderr",
     "output_type": "stream",
     "text": [
      " 83%|████████▎ | 83/100 [00:15<00:03,  5.35it/s]"
     ]
    },
    {
     "name": "stdout",
     "output_type": "stream",
     "text": [
      "[2025-04-30 16:21:08] (2.4.1.post1) Warning: reference sentiment does not exist or its number 0 is not equal to aspect number 1, text:  [B-ASP]Global Sentiment[E-ASP]    Pale, cloudy yellow, with rich ample white foam. Modest, but attractive lacing. Nose is yeasty, bready. Not bad at all. Taste is fairly typical lager, though substantially more flavorful than most. Again, as with the aroma, I get yeast and crusty bread. Malty but not too simple or flat. This one proved crisp and refreshing, and among the better lagers I've had lately.  \n",
      "[2025-04-30 16:21:08] (2.4.1.post1) Example 0: Pale, cloudy yellow, with rich ample white foam. Modest, but attractive lacing. Nose is yeasty, bready. Not bad at all. Taste is fairly typical lager, though substantially more flavorful than most. Again, as with the aroma, I get yeast and crusty bread. Malty but not too simple or flat. This one proved crisp and refreshing, and among the better lagers I've had lately.\n"
     ]
    },
    {
     "name": "stderr",
     "output_type": "stream",
     "text": [
      " 84%|████████▍ | 84/100 [00:15<00:02,  5.49it/s]"
     ]
    },
    {
     "name": "stdout",
     "output_type": "stream",
     "text": [
      "[2025-04-30 16:21:08] (2.4.1.post1) Warning: reference sentiment does not exist or its number 0 is not equal to aspect number 1, text:  [B-ASP]Global Sentiment[E-ASP]    We don’t get to RB often, but I’m always pleased with everything. The foods good, not great, and same with the beer. L (4) – Wicked Elf is a nice dark orange/amber color. Looks inviting enough. S (4.25) – Definitely smell the hops. Doesn’t smell especially piney or citrusey, but good. T (4.25) – This beer tastes pretty good. Not super malty, and not much spice going on. I get more of a piney hop taste compared to the citrus ones. A nice piney hop aftertaste too. I like. F (4) – This type of beer doesn’t have a lot to say about mouthfeel IMO. It’s light, carbed right, and not overly anything. But that’s how I want this type of beer to be. O (4.25) – Not sure how true to the style this beer was, but it was tasty. It isn’t high IBU and it isn’t high ABV. Just a nice, pleasant beer to have with dinner. Would drink again.  \n",
      "[2025-04-30 16:21:08] (2.4.1.post1) Example 0: We don’t get to RB often, but I’m always pleased with everything. The foods good, not great, and same with the beer. L (4) – Wicked Elf is a nice dark orange/amber color. Looks inviting enough. S (4.25) – Definitely smell the hops. Doesn’t smell especially piney or citrusey, but good. T (4.25) – This beer tastes pretty good. Not super malty, and not much spice going on. I get more of a piney hop taste compared to the citrus ones. A nice piney hop aftertaste too. I like. F (4) – This type of beer doesn’t have a lot to say about mouthfeel IMO. It’s light, carbed right, and not overly anything. But that’s how I want this type of beer to be. O (4.25) – Not sure how true to the style this beer was, but it was tasty. It isn’t high IBU and it isn’t high ABV. Just a nice, pleasant beer to have with dinner. Would drink again.\n"
     ]
    },
    {
     "name": "stderr",
     "output_type": "stream",
     "text": [
      " 85%|████████▌ | 85/100 [00:15<00:02,  5.59it/s]"
     ]
    },
    {
     "name": "stdout",
     "output_type": "stream",
     "text": [
      "[2025-04-30 16:21:08] (2.4.1.post1) Warning: reference sentiment does not exist or its number 0 is not equal to aspect number 1, text:  [B-ASP]Global Sentiment[E-ASP]    Thanks to wcudwight for sharing his bomber. The appearance is a deep red brew with a thick creamy head riding on top. There is some lacing in the glass. Beers just don't look much better than this. A well deserved 5. The smell was really hard to pick up on in this beer. Some hoppiness but overall, no real powerfull smell. The taste was damn fine. There was a nice hop bitterness that was just right. There was a red ale nature to this beer as well. The mouthfeel was smooth. No overpowering notes of any type. Balanced. The drinkability was superb. The higher ABV was so well hidden it may lead you to think this beer would session easy. A big beer that does not act big. This beer has fanfare and now I see why. This is unlike any other IPA I have had.  \n",
      "[2025-04-30 16:21:08] (2.4.1.post1) Example 0: Thanks to wcudwight for sharing his bomber. The appearance is a deep red brew with a thick creamy head riding on top. There is some lacing in the glass. Beers just don't look much better than this. A well deserved 5. The smell was really hard to pick up on in this beer. Some hoppiness but overall, no real powerfull smell. The taste was damn fine. There was a nice hop bitterness that was just right. There was a red ale nature to this beer as well. The mouthfeel was smooth. No overpowering notes of any type. Balanced. The drinkability was superb. The higher ABV was so well hidden it may lead you to think this beer would session easy. A big beer that does not act big. This beer has fanfare and now I see why. This is unlike any other IPA I have had.\n"
     ]
    },
    {
     "name": "stderr",
     "output_type": "stream",
     "text": [
      " 86%|████████▌ | 86/100 [00:15<00:02,  5.66it/s]"
     ]
    },
    {
     "name": "stdout",
     "output_type": "stream",
     "text": [
      "[2025-04-30 16:21:08] (2.4.1.post1) Warning: reference sentiment does not exist or its number 0 is not equal to aspect number 1, text:  [B-ASP]Global Sentiment[E-ASP]    A - Pours with a very thin head, less than a finger, that dissipates quickly. Translucent with a golden reddish brown. S - An interesting combination. A mild mix of bourbon and vanilla with a touch of malt. T - The bourbon and vanilla are at the forefront with the bourbon fading out in favor of strong malt and vanilla notes at the finish. M - Carbonation is minimal. Finishes mostly clean, leaves behind a pleasant sweet aftertaste (like a shot of a sweeter whiskey). D - Definitely worth a try and maybe a second round, but beyond two in a row the taste will be overpowering and the aftertaste might stick around for longer than you might like.  \n",
      "[2025-04-30 16:21:08] (2.4.1.post1) Example 0: A - Pours with a very thin head, less than a finger, that dissipates quickly. Translucent with a golden reddish brown. S - An interesting combination. A mild mix of bourbon and vanilla with a touch of malt. T - The bourbon and vanilla are at the forefront with the bourbon fading out in favor of strong malt and vanilla notes at the finish. M - Carbonation is minimal. Finishes mostly clean, leaves behind a pleasant sweet aftertaste (like a shot of a sweeter whiskey). D - Definitely worth a try and maybe a second round, but beyond two in a row the taste will be overpowering and the aftertaste might stick around for longer than you might like.\n"
     ]
    },
    {
     "name": "stderr",
     "output_type": "stream",
     "text": [
      " 87%|████████▋ | 87/100 [00:15<00:02,  5.71it/s]"
     ]
    },
    {
     "name": "stdout",
     "output_type": "stream",
     "text": [
      "[2025-04-30 16:21:08] (2.4.1.post1) Warning: reference sentiment does not exist or its number 0 is not equal to aspect number 1, text:  [B-ASP]Global Sentiment[E-ASP]    Big dark bready style of pour, aroma was much the same way. Lots of prune in it. Taste, reminiscient of those shitty fruitcakes your aunt would bring to the holidays. Lots of spice rack and clove here, dark fruit notes all over it, rye bread. I'm glad they like it, but I just can't get into this style of beer.  \n",
      "[2025-04-30 16:21:09] (2.4.1.post1) Example 0: Big dark bready style of pour, aroma was much the same way. Lots of prune in it. Taste, reminiscient of those shitty fruitcakes your aunt would bring to the holidays. Lots of spice rack and clove here, dark fruit notes all over it, rye bread. I'm glad they like it, but I just can't get into this style of beer.\n"
     ]
    },
    {
     "name": "stderr",
     "output_type": "stream",
     "text": [
      " 88%|████████▊ | 88/100 [00:16<00:02,  5.73it/s]"
     ]
    },
    {
     "name": "stdout",
     "output_type": "stream",
     "text": [
      "[2025-04-30 16:21:09] (2.4.1.post1) Warning: reference sentiment does not exist or its number 0 is not equal to aspect number 1, text:  [B-ASP]Global Sentiment[E-ASP]    A - Orangish amber with a nice cloud like head... Attractive carbonation... S - Wheat... Spices... Citrus... Malt... Nice aroma, but too faint... T - Wheat and spices... Perhaps a hint of citrus... M - Light and creamy texture... Crisp and refreshing... D - Refreshing... I'm not a big fan of \"summer brews,\" but this one isn't too shabby and has some redeeming qualities... A little more aroma and taste would have helped out...  \n",
      "[2025-04-30 16:21:09] (2.4.1.post1) Example 0: A - Orangish amber with a nice cloud like head... Attractive carbonation... S - Wheat... Spices... Citrus... Malt... Nice aroma, but too faint... T - Wheat and spices... Perhaps a hint of citrus... M - Light and creamy texture... Crisp and refreshing... D - Refreshing... I'm not a big fan of \"summer brews,\" but this one isn't too shabby and has some redeeming qualities... A little more aroma and taste would have helped out...\n"
     ]
    },
    {
     "name": "stderr",
     "output_type": "stream",
     "text": [
      " 89%|████████▉ | 89/100 [00:16<00:02,  5.34it/s]"
     ]
    },
    {
     "name": "stdout",
     "output_type": "stream",
     "text": [
      "[2025-04-30 16:21:09] (2.4.1.post1) Warning: reference sentiment does not exist or its number 0 is not equal to aspect number 1, text:  [B-ASP]Global Sentiment[E-ASP]    Pours hazy orange in color. Smell is big peach with a hint of funk. Funk is more present in the flavor. Not much residual sweetness but not overly dry. Alcohol VERY well hidden. Light bodied in spite of strength. Funky peach juice. More funk would be great, but very nice drinking beer that tells you exactly what it is.  \n",
      "[2025-04-30 16:21:09] (2.4.1.post1) Example 0: Pours hazy orange in color. Smell is big peach with a hint of funk. Funk is more present in the flavor. Not much residual sweetness but not overly dry. Alcohol VERY well hidden. Light bodied in spite of strength. Funky peach juice. More funk would be great, but very nice drinking beer that tells you exactly what it is.\n"
     ]
    },
    {
     "name": "stderr",
     "output_type": "stream",
     "text": [
      " 90%|█████████ | 90/100 [00:16<00:01,  5.49it/s]"
     ]
    },
    {
     "name": "stdout",
     "output_type": "stream",
     "text": [
      "[2025-04-30 16:21:09] (2.4.1.post1) Warning: reference sentiment does not exist or its number 0 is not equal to aspect number 1, text:  [B-ASP]Global Sentiment[E-ASP]    On tap at The Shack in Cypress TX. I had just had a Firestone Walker Union Jack and told my server we might as well shift gears and try a stout or something because I knew he wouldn't be able to bring me an IPA that I liked better. He asked me if I had had a Yellow Rose and when I said \"no\", he twisted my arm a little and I said \"bring it on\", though I doubted it would be as good as he said. Beautiful color and head and a nose that is amazing. The hops flavors explode in my mouth like fireworks. Now THAT is an IPA. Very pine-y but grapefruit as well. Definitely some dank, earthy notes around the edges. Perfect balance, perfect carbonation...this is just about perfection for me. Never rated a beer a perfect 5 but what part of this masterpiece isn't perfect? And it's all from one malt and one hop... amazing!  \n",
      "[2025-04-30 16:21:09] (2.4.1.post1) Example 0: On tap at The Shack in Cypress TX. I had just had a Firestone Walker Union Jack and told my server we might as well shift gears and try a stout or something because I knew he wouldn't be able to bring me an IPA that I liked better. He asked me if I had had a Yellow Rose and when I said \"no\", he twisted my arm a little and I said \"bring it on\", though I doubted it would be as good as he said. Beautiful color and head and a nose that is amazing. The hops flavors explode in my mouth like fireworks. Now THAT is an IPA. Very pine-y but grapefruit as well. Definitely some dank, earthy notes around the edges. Perfect balance, perfect carbonation...this is just about perfection for me. Never rated a beer a perfect 5 but what part of this masterpiece isn't perfect? And it's all from one malt and one hop... amazing!\n"
     ]
    },
    {
     "name": "stderr",
     "output_type": "stream",
     "text": [
      " 91%|█████████ | 91/100 [00:16<00:01,  5.58it/s]"
     ]
    },
    {
     "name": "stdout",
     "output_type": "stream",
     "text": [
      "[2025-04-30 16:21:09] (2.4.1.post1) Warning: reference sentiment does not exist or its number 0 is not equal to aspect number 1, text:  [B-ASP]Global Sentiment[E-ASP]    Im not much of a pale ale guy usually but, damnit, Alesmith won me over with this one. This beer is basically a staple anywhere you go in SD, thanks mostly to the Tony Gwynn association but even without the local plug, its a pretty fantastic beer. The ABV sits at 6% which is the sweet spot for a pale. Its not overly hoppy, not too sweet, perfectly crisp and not heavy at all. This beer holds up any season of the year.  \n",
      "[2025-04-30 16:21:09] (2.4.1.post1) Example 0: Im not much of a pale ale guy usually but, damnit, Alesmith won me over with this one. This beer is basically a staple anywhere you go in SD, thanks mostly to the Tony Gwynn association but even without the local plug, its a pretty fantastic beer. The ABV sits at 6% which is the sweet spot for a pale. Its not overly hoppy, not too sweet, perfectly crisp and not heavy at all. This beer holds up any season of the year.\n"
     ]
    },
    {
     "name": "stderr",
     "output_type": "stream",
     "text": [
      " 92%|█████████▏| 92/100 [00:16<00:01,  5.68it/s]"
     ]
    },
    {
     "name": "stdout",
     "output_type": "stream",
     "text": [
      "[2025-04-30 16:21:09] (2.4.1.post1) Warning: reference sentiment does not exist or its number 0 is not equal to aspect number 1, text:  [B-ASP]Global Sentiment[E-ASP]    750 ml bottle served in a Chouffe tulip. Batch #31 A: Pours a dark pink, grapefruit color with a light pinkish head rising up quickly on the pour. it recedes to a bubble film and thin ring. S: Unfortunately there is heavy rancid cheese and buttery notes up front. I do get a hint of tart blueberry behind all that, but the nose on the pour is very heavy on the funky notes. T: Tart blueberry with a light cracked wheat. The buttery and blue cheese flavors are only there in the slight bit in the finish. M: Light bodied with a nice prickly carb. Slightly oily with a pungent aftertaste. O: Well it was definitely heavy on the off flavors of blue cheese and buttery funk. This did not work, but I have faith the boys can correct the mistakes on their second attempt at Berliner.  \n",
      "[2025-04-30 16:21:09] (2.4.1.post1) Example 0: 750 ml bottle served in a Chouffe tulip. Batch #31 A: Pours a dark pink, grapefruit color with a light pinkish head rising up quickly on the pour. it recedes to a bubble film and thin ring. S: Unfortunately there is heavy rancid cheese and buttery notes up front. I do get a hint of tart blueberry behind all that, but the nose on the pour is very heavy on the funky notes. T: Tart blueberry with a light cracked wheat. The buttery and blue cheese flavors are only there in the slight bit in the finish. M: Light bodied with a nice prickly carb. Slightly oily with a pungent aftertaste. O: Well it was definitely heavy on the off flavors of blue cheese and buttery funk. This did not work, but I have faith the boys can correct the mistakes on their second attempt at Berliner.\n"
     ]
    },
    {
     "name": "stderr",
     "output_type": "stream",
     "text": [
      " 93%|█████████▎| 93/100 [00:16<00:01,  5.73it/s]"
     ]
    },
    {
     "name": "stdout",
     "output_type": "stream",
     "text": [
      "[2025-04-30 16:21:09] (2.4.1.post1) Warning: reference sentiment does not exist or its number 0 is not equal to aspect number 1, text:  [B-ASP]Global Sentiment[E-ASP]    During my vacation trip to Florida, I was very eager to get my hands on some Cigar City beers, as we only get a few in VA. 12 oz can poured into a cylinder glass. Dark brown color, nice head on the beer. Nice hints of chocolate and espresso, flavors I commonly find in porters and stouts. This is an outstanding brown ale.  \n",
      "[2025-04-30 16:21:10] (2.4.1.post1) Example 0: During my vacation trip to Florida, I was very eager to get my hands on some Cigar City beers, as we only get a few in VA. 12 oz can poured into a cylinder glass. Dark brown color, nice head on the beer. Nice hints of chocolate and espresso, flavors I commonly find in porters and stouts. This is an outstanding brown ale.\n"
     ]
    },
    {
     "name": "stderr",
     "output_type": "stream",
     "text": [
      " 94%|█████████▍| 94/100 [00:17<00:01,  5.77it/s]"
     ]
    },
    {
     "name": "stdout",
     "output_type": "stream",
     "text": [
      "[2025-04-30 16:21:10] (2.4.1.post1) Warning: reference sentiment does not exist or its number 0 is not equal to aspect number 1, text:  [B-ASP]Global Sentiment[E-ASP]    22oz bottle into SN imperial pint glass. A: Pours a light golden-amber with a thin white head that quickly faded into a fuzzy scum that left a complex network of lacing down the glass. S: Orange blossom honey dominates along with a good dose of bready yeast and pale malt. T: Sweet notes of pale malts and cracked grains mixed with orange zest, orange blossom honey and a bit dry biscuit-like yeast dominate but I get some coriander as well. The finish has a touch sugary sweetness and the finish is full of sweet orange. M: Slick and drying mouthfeel, medium-light body with thin carbonation. O: A little sweet but I was really digging the flavor. Pretty good mouthfeel and overall refreshing and easy to drink. Far from my favorite Alpine beer but not bad all around.  \n",
      "[2025-04-30 16:21:10] (2.4.1.post1) Example 0: 22oz bottle into SN imperial pint glass. A: Pours a light golden-amber with a thin white head that quickly faded into a fuzzy scum that left a complex network of lacing down the glass. S: Orange blossom honey dominates along with a good dose of bready yeast and pale malt. T: Sweet notes of pale malts and cracked grains mixed with orange zest, orange blossom honey and a bit dry biscuit-like yeast dominate but I get some coriander as well. The finish has a touch sugary sweetness and the finish is full of sweet orange. M: Slick and drying mouthfeel, medium-light body with thin carbonation. O: A little sweet but I was really digging the flavor. Pretty good mouthfeel and overall refreshing and easy to drink. Far from my favorite Alpine beer but not bad all around.\n"
     ]
    },
    {
     "name": "stderr",
     "output_type": "stream",
     "text": [
      " 95%|█████████▌| 95/100 [00:17<00:00,  5.78it/s]"
     ]
    },
    {
     "name": "stdout",
     "output_type": "stream",
     "text": [
      "[2025-04-30 16:21:10] (2.4.1.post1) Warning: reference sentiment does not exist or its number 0 is not equal to aspect number 1, text:  [B-ASP]Global Sentiment[E-ASP]    Had with Korean BBQ; was recommended by our waitress as being the \"better korean beer.\" Can't say this beer made me proud to be Korean. a: poured with nice ~1inch head. Light golden color. s: very subtle malty sweets. t: you won't find much flavor here. Malty with smidge of flat hops. Though, taste is non-obtrusive and actually went well with the BBQ. m: very clean and refreshing. Highly carbonated. I think its mouthfeel really saved this beer from being horrible. d: Isn't much of a beer (btw; the menu in the restaurant lists Soju in Korean with English translation \"hard liquor\")...but it's definitely drinkable.  \n",
      "[2025-04-30 16:21:10] (2.4.1.post1) Example 0: Had with Korean BBQ; was recommended by our waitress as being the \"better korean beer.\" Can't say this beer made me proud to be Korean. a: poured with nice ~1inch head. Light golden color. s: very subtle malty sweets. t: you won't find much flavor here. Malty with smidge of flat hops. Though, taste is non-obtrusive and actually went well with the BBQ. m: very clean and refreshing. Highly carbonated. I think its mouthfeel really saved this beer from being horrible. d: Isn't much of a beer (btw; the menu in the restaurant lists Soju in Korean with English translation \"hard liquor\")...but it's definitely drinkable.\n"
     ]
    },
    {
     "name": "stderr",
     "output_type": "stream",
     "text": [
      " 96%|█████████▌| 96/100 [00:17<00:00,  5.07it/s]"
     ]
    },
    {
     "name": "stdout",
     "output_type": "stream",
     "text": [
      "[2025-04-30 16:21:10] (2.4.1.post1) Warning: reference sentiment does not exist or its number 0 is not equal to aspect number 1, text:  [B-ASP]Global Sentiment[E-ASP]    22oz bottle poured into a tulip glass. Pours a jet black with 2+ fingers of brown high density head with good retention and some lacing. Nose is dominated by chocolate as expected, with subtle contributions from roasted malt. Taste wasn't as dynamic as I'd hoped. Mostly chocolate, bitter, a little caramel and some burnt attributes. Mouthfeel is good bodied, carbonation was a bit on the higher side, and a finish that is bitter a little dry and lingers. Enjoyable, but definitely not my favorite chocolate oatmeal stout.  \n",
      "[2025-04-30 16:21:10] (2.4.1.post1) Example 0: 22oz bottle poured into a tulip glass. Pours a jet black with 2+ fingers of brown high density head with good retention and some lacing. Nose is dominated by chocolate as expected, with subtle contributions from roasted malt. Taste wasn't as dynamic as I'd hoped. Mostly chocolate, bitter, a little caramel and some burnt attributes. Mouthfeel is good bodied, carbonation was a bit on the higher side, and a finish that is bitter a little dry and lingers. Enjoyable, but definitely not my favorite chocolate oatmeal stout.\n"
     ]
    },
    {
     "name": "stderr",
     "output_type": "stream",
     "text": [
      " 97%|█████████▋| 97/100 [00:17<00:00,  5.27it/s]"
     ]
    },
    {
     "name": "stdout",
     "output_type": "stream",
     "text": [
      "[2025-04-30 16:21:10] (2.4.1.post1) Warning: reference sentiment does not exist or its number 0 is not equal to aspect number 1, text:  [B-ASP]Global Sentiment[E-ASP]    Bottled in September of 2008. Pours thickly veiled brown with yellow-tan highlights -- almost like the inside of an overripe plum. Modest head dissipates to a fine surface film. Smells of prune, plum, banana, a little bit of cherry-tinged funk. Comes together to smell a bit like unsweetened purple grape juice. The smell is a true harbinger of the taste: deep plum and light caramel flavors form the backbone as banana and subtle cherry tart notes take turns. The light tartness builds a bit and ends up being the last note at the finish line. Lots of subtle complexity here for the style: no one flavor dominates or speaks out of turn. Very drinkable in that you can keep discovering new flavors over multiple servings. A real standout in the Belgian brown class.  \n",
      "[2025-04-30 16:21:10] (2.4.1.post1) Example 0: Bottled in September of 2008. Pours thickly veiled brown with yellow-tan highlights -- almost like the inside of an overripe plum. Modest head dissipates to a fine surface film. Smells of prune, plum, banana, a little bit of cherry-tinged funk. Comes together to smell a bit like unsweetened purple grape juice. The smell is a true harbinger of the taste: deep plum and light caramel flavors form the backbone as banana and subtle cherry tart notes take turns. The light tartness builds a bit and ends up being the last note at the finish line. Lots of subtle complexity here for the style: no one flavor dominates or speaks out of turn. Very drinkable in that you can keep discovering new flavors over multiple servings. A real standout in the Belgian brown class.\n"
     ]
    },
    {
     "name": "stderr",
     "output_type": "stream",
     "text": [
      " 98%|█████████▊| 98/100 [00:17<00:00,  5.41it/s]"
     ]
    },
    {
     "name": "stdout",
     "output_type": "stream",
     "text": [
      "[2025-04-30 16:21:10] (2.4.1.post1) Warning: reference sentiment does not exist or its number 0 is not equal to aspect number 1, text:  [B-ASP]Global Sentiment[E-ASP]    this dubbel is mahogany in colour with a minimal head and no lace... it has super fast little carbonation bubbles...the nose holds spice and a rich malted aroma...smells somewhat vinous and dark fruit charactered with yeast inflections...the flavour is that of a dominant malt base with spicery and vinous impressions...yeasty tones as if bottle refermented...mouthfeel is not overly robust and tips in at the fat end of lightness approaching medium...drinkability is good as this is quite the mild little creation...finish is super clean as the label proclaims...I would go so far as to designate it as sessionable if one were to see fit as an admirer of the style... quite pleasant...nothing mind blowing at all, but solid...first Allagash for me...not the last...  \n",
      "[2025-04-30 16:21:11] (2.4.1.post1) Example 0: this dubbel is mahogany in colour with a minimal head and no lace... it has super fast little carbonation bubbles...the nose holds spice and a rich malted aroma...smells somewhat vinous and dark fruit charactered with yeast inflections...the flavour is that of a dominant malt base with spicery and vinous impressions...yeasty tones as if bottle refermented...mouthfeel is not overly robust and tips in at the fat end of lightness approaching medium...drinkability is good as this is quite the mild little creation...finish is super clean as the label proclaims...I would go so far as to designate it as sessionable if one were to see fit as an admirer of the style... quite pleasant...nothing mind blowing at all, but solid...first Allagash for me...not the last...\n"
     ]
    },
    {
     "name": "stderr",
     "output_type": "stream",
     "text": [
      " 99%|█████████▉| 99/100 [00:18<00:00,  5.55it/s]"
     ]
    },
    {
     "name": "stdout",
     "output_type": "stream",
     "text": [
      "[2025-04-30 16:21:11] (2.4.1.post1) Warning: reference sentiment does not exist or its number 0 is not equal to aspect number 1, text:  [B-ASP]Global Sentiment[E-ASP]    473 ml can, from LCBO. Pours a very lightly hazed dark orange, some copper highlights, nice and thick white head forms, slowly settles down to a thick ring, some lace chunks stick to the glass. Smell is nice, very malty, signature Creemore breadiness, some toasty malts and caramel, earthy, some floral, nice light citrus hops, grassy, lightly solvent, but smells good. Taste is similar, dry and toasty up front, bready, caramel sweetness through the middle, very grassy hops, some citrus and floral, touch of fruit in the finish, almost a little tannic and grapey, nice dry finish, solid bitterness. Mouthfeel is light bodied with low to medium carbonation, just right. Nice lager with some great character. Looking forward to the hoppier batch 2.  \n",
      "[2025-04-30 16:21:11] (2.4.1.post1) Example 0: 473 ml can, from LCBO. Pours a very lightly hazed dark orange, some copper highlights, nice and thick white head forms, slowly settles down to a thick ring, some lace chunks stick to the glass. Smell is nice, very malty, signature Creemore breadiness, some toasty malts and caramel, earthy, some floral, nice light citrus hops, grassy, lightly solvent, but smells good. Taste is similar, dry and toasty up front, bready, caramel sweetness through the middle, very grassy hops, some citrus and floral, touch of fruit in the finish, almost a little tannic and grapey, nice dry finish, solid bitterness. Mouthfeel is light bodied with low to medium carbonation, just right. Nice lager with some great character. Looking forward to the hoppier batch 2.\n"
     ]
    },
    {
     "name": "stderr",
     "output_type": "stream",
     "text": [
      "100%|██████████| 100/100 [00:18<00:00,  5.47it/s]\n"
     ]
    },
    {
     "name": "stdout",
     "output_type": "stream",
     "text": [
      "\n",
      " Saved to: ../data/reviews_with_aspect_sentiment_test.csv\n"
     ]
    }
   ],
   "source": [
    "# Step 2: Sample a larger set for processing (e.g. 1000 rows)\n",
    "df_sample = df.sample(n=100, random_state=42).copy()\n",
    "\n",
    "# Step 3: Load the pre-trained sentiment classifier\n",
    "classifier = APC.SentimentClassifier(checkpoint='english')\n",
    "\n",
    "# Step 4: Define target aspects\n",
    "aspects = ['look', 'smell', 'taste', 'feel']\n",
    "\n",
    "# Step 5: Extract aspect-level sentiments\n",
    "for aspect in aspects:\n",
    "    print(f\"\\nProcessing aspect: {aspect}\")\n",
    "    sentiments = []\n",
    "    for text in tqdm(df_sample['text']):\n",
    "        try:\n",
    "            result = classifier.predict(text=text, aspect=aspect)\n",
    "            sentiments.append(result['sentiment'])\n",
    "        except Exception as e:\n",
    "            sentiments.append('unknown')  # fallback in case of error\n",
    "    df_sample[f'{aspect}_sentiment'] = sentiments\n",
    "\n",
    "# Step 6: Save results to new CSV\n",
    "output_path = '../data/reviews_with_aspect_sentiment_test.csv'\n",
    "df_sample.to_csv(output_path, index=False)\n",
    "print(f\"\\n Saved to: {output_path}\")"
   ]
  },
  {
   "cell_type": "code",
   "execution_count": 19,
   "metadata": {},
   "outputs": [
    {
     "data": {
      "text/html": [
       "<div>\n",
       "<style scoped>\n",
       "    .dataframe tbody tr th:only-of-type {\n",
       "        vertical-align: middle;\n",
       "    }\n",
       "\n",
       "    .dataframe tbody tr th {\n",
       "        vertical-align: top;\n",
       "    }\n",
       "\n",
       "    .dataframe thead th {\n",
       "        text-align: right;\n",
       "    }\n",
       "</style>\n",
       "<table border=\"1\" class=\"dataframe\">\n",
       "  <thead>\n",
       "    <tr style=\"text-align: right;\">\n",
       "      <th></th>\n",
       "      <th>beer_id</th>\n",
       "      <th>username</th>\n",
       "      <th>date</th>\n",
       "      <th>text</th>\n",
       "      <th>look</th>\n",
       "      <th>smell</th>\n",
       "      <th>taste</th>\n",
       "      <th>feel</th>\n",
       "      <th>overall</th>\n",
       "      <th>score</th>\n",
       "      <th>sentiment</th>\n",
       "      <th>look_sentiment</th>\n",
       "      <th>smell_sentiment</th>\n",
       "      <th>taste_sentiment</th>\n",
       "      <th>feel_sentiment</th>\n",
       "    </tr>\n",
       "  </thead>\n",
       "  <tbody>\n",
       "    <tr>\n",
       "      <th>0</th>\n",
       "      <td>101</td>\n",
       "      <td>Walnut</td>\n",
       "      <td>2016-03-09</td>\n",
       "      <td>0%</td>\n",
       "      <td>3.75</td>\n",
       "      <td>3.50</td>\n",
       "      <td>3.50</td>\n",
       "      <td>3.75</td>\n",
       "      <td>3.75</td>\n",
       "      <td>3.59</td>\n",
       "      <td>neutral</td>\n",
       "      <td>['Negative']</td>\n",
       "      <td>['Negative']</td>\n",
       "      <td>['Negative']</td>\n",
       "      <td>['Negative']</td>\n",
       "    </tr>\n",
       "    <tr>\n",
       "      <th>1</th>\n",
       "      <td>261565</td>\n",
       "      <td>Phyl21ca</td>\n",
       "      <td>2017-07-04</td>\n",
       "      <td>Can: Poured a clear amber color le with a n...</td>\n",
       "      <td>4.25</td>\n",
       "      <td>3.75</td>\n",
       "      <td>3.75</td>\n",
       "      <td>3.75</td>\n",
       "      <td>3.75</td>\n",
       "      <td>3.78</td>\n",
       "      <td>neutral</td>\n",
       "      <td>['Positive']</td>\n",
       "      <td>['Positive']</td>\n",
       "      <td>['Positive']</td>\n",
       "      <td>['Positive']</td>\n",
       "    </tr>\n",
       "    <tr>\n",
       "      <th>2</th>\n",
       "      <td>322435</td>\n",
       "      <td>agreenman19</td>\n",
       "      <td>2018-02-10</td>\n",
       "      <td>L - \"oat cream IPA\". Jesus, OH, why you do ...</td>\n",
       "      <td>4.50</td>\n",
       "      <td>4.25</td>\n",
       "      <td>4.25</td>\n",
       "      <td>4.25</td>\n",
       "      <td>4.25</td>\n",
       "      <td>4.27</td>\n",
       "      <td>positive</td>\n",
       "      <td>['Neutral']</td>\n",
       "      <td>['Neutral']</td>\n",
       "      <td>['Neutral']</td>\n",
       "      <td>['Neutral']</td>\n",
       "    </tr>\n",
       "    <tr>\n",
       "      <th>3</th>\n",
       "      <td>55317</td>\n",
       "      <td>Mantooth</td>\n",
       "      <td>2012-01-31</td>\n",
       "      <td>Draft into a Samichlaus snifter. A: Orange ...</td>\n",
       "      <td>4.00</td>\n",
       "      <td>3.00</td>\n",
       "      <td>3.00</td>\n",
       "      <td>3.00</td>\n",
       "      <td>3.00</td>\n",
       "      <td>3.06</td>\n",
       "      <td>neutral</td>\n",
       "      <td>['Neutral']</td>\n",
       "      <td>['Neutral']</td>\n",
       "      <td>['Neutral']</td>\n",
       "      <td>['Neutral']</td>\n",
       "    </tr>\n",
       "    <tr>\n",
       "      <th>4</th>\n",
       "      <td>45552</td>\n",
       "      <td>Efay</td>\n",
       "      <td>2013-01-17</td>\n",
       "      <td>Deschutes took Chicago by storm this past m...</td>\n",
       "      <td>4.50</td>\n",
       "      <td>5.00</td>\n",
       "      <td>4.25</td>\n",
       "      <td>4.50</td>\n",
       "      <td>4.50</td>\n",
       "      <td>4.52</td>\n",
       "      <td>positive</td>\n",
       "      <td>['Positive']</td>\n",
       "      <td>['Positive']</td>\n",
       "      <td>['Positive']</td>\n",
       "      <td>['Positive']</td>\n",
       "    </tr>\n",
       "    <tr>\n",
       "      <th>5</th>\n",
       "      <td>23155</td>\n",
       "      <td>cvstrickland</td>\n",
       "      <td>2008-07-24</td>\n",
       "      <td>12-ounce bottle poured into a pint willi gl...</td>\n",
       "      <td>3.50</td>\n",
       "      <td>3.00</td>\n",
       "      <td>3.00</td>\n",
       "      <td>3.50</td>\n",
       "      <td>3.00</td>\n",
       "      <td>3.08</td>\n",
       "      <td>neutral</td>\n",
       "      <td>['Neutral']</td>\n",
       "      <td>['Neutral']</td>\n",
       "      <td>['Neutral']</td>\n",
       "      <td>['Neutral']</td>\n",
       "    </tr>\n",
       "    <tr>\n",
       "      <th>6</th>\n",
       "      <td>258879</td>\n",
       "      <td>Gavage</td>\n",
       "      <td>2017-02-12</td>\n",
       "      <td>Appearance: pours a crystal clear golden ye...</td>\n",
       "      <td>4.25</td>\n",
       "      <td>3.25</td>\n",
       "      <td>4.00</td>\n",
       "      <td>4.00</td>\n",
       "      <td>4.00</td>\n",
       "      <td>3.84</td>\n",
       "      <td>neutral</td>\n",
       "      <td>['Positive']</td>\n",
       "      <td>['Positive']</td>\n",
       "      <td>['Positive']</td>\n",
       "      <td>['Positive']</td>\n",
       "    </tr>\n",
       "    <tr>\n",
       "      <th>7</th>\n",
       "      <td>4074</td>\n",
       "      <td>hotstuff</td>\n",
       "      <td>2003-08-05</td>\n",
       "      <td>This beer had a medium sized head that cont...</td>\n",
       "      <td>2.50</td>\n",
       "      <td>3.00</td>\n",
       "      <td>3.00</td>\n",
       "      <td>2.50</td>\n",
       "      <td>3.00</td>\n",
       "      <td>2.92</td>\n",
       "      <td>neutral</td>\n",
       "      <td>['Neutral']</td>\n",
       "      <td>['Neutral']</td>\n",
       "      <td>['Neutral']</td>\n",
       "      <td>['Neutral']</td>\n",
       "    </tr>\n",
       "    <tr>\n",
       "      <th>8</th>\n",
       "      <td>1283</td>\n",
       "      <td>PlinyMeNow</td>\n",
       "      <td>2017-03-29</td>\n",
       "      <td>I went into it with low expectations and wa...</td>\n",
       "      <td>3.25</td>\n",
       "      <td>2.75</td>\n",
       "      <td>3.50</td>\n",
       "      <td>3.00</td>\n",
       "      <td>3.25</td>\n",
       "      <td>3.21</td>\n",
       "      <td>neutral</td>\n",
       "      <td>['Positive']</td>\n",
       "      <td>['Positive']</td>\n",
       "      <td>['Positive']</td>\n",
       "      <td>['Positive']</td>\n",
       "    </tr>\n",
       "    <tr>\n",
       "      <th>9</th>\n",
       "      <td>169622</td>\n",
       "      <td>worldsworstextra</td>\n",
       "      <td>2015-12-25</td>\n",
       "      <td>My favorite De Garde. No other brewery is a...</td>\n",
       "      <td>5.00</td>\n",
       "      <td>4.50</td>\n",
       "      <td>4.75</td>\n",
       "      <td>4.50</td>\n",
       "      <td>4.75</td>\n",
       "      <td>4.68</td>\n",
       "      <td>positive</td>\n",
       "      <td>['Positive']</td>\n",
       "      <td>['Positive']</td>\n",
       "      <td>['Positive']</td>\n",
       "      <td>['Positive']</td>\n",
       "    </tr>\n",
       "  </tbody>\n",
       "</table>\n",
       "</div>"
      ],
      "text/plain": [
       "   beer_id          username        date  \\\n",
       "0      101            Walnut  2016-03-09   \n",
       "1   261565          Phyl21ca  2017-07-04   \n",
       "2   322435       agreenman19  2018-02-10   \n",
       "3    55317          Mantooth  2012-01-31   \n",
       "4    45552              Efay  2013-01-17   \n",
       "5    23155      cvstrickland  2008-07-24   \n",
       "6   258879            Gavage  2017-02-12   \n",
       "7     4074          hotstuff  2003-08-05   \n",
       "8     1283        PlinyMeNow  2017-03-29   \n",
       "9   169622  worldsworstextra  2015-12-25   \n",
       "\n",
       "                                                text  look  smell  taste  \\\n",
       "0                                                 0%  3.75   3.50   3.50   \n",
       "1     Can: Poured a clear amber color le with a n...  4.25   3.75   3.75   \n",
       "2     L - \"oat cream IPA\". Jesus, OH, why you do ...  4.50   4.25   4.25   \n",
       "3     Draft into a Samichlaus snifter. A: Orange ...  4.00   3.00   3.00   \n",
       "4     Deschutes took Chicago by storm this past m...  4.50   5.00   4.25   \n",
       "5     12-ounce bottle poured into a pint willi gl...  3.50   3.00   3.00   \n",
       "6     Appearance: pours a crystal clear golden ye...  4.25   3.25   4.00   \n",
       "7     This beer had a medium sized head that cont...  2.50   3.00   3.00   \n",
       "8     I went into it with low expectations and wa...  3.25   2.75   3.50   \n",
       "9     My favorite De Garde. No other brewery is a...  5.00   4.50   4.75   \n",
       "\n",
       "   feel  overall  score sentiment look_sentiment smell_sentiment  \\\n",
       "0  3.75     3.75   3.59   neutral   ['Negative']    ['Negative']   \n",
       "1  3.75     3.75   3.78   neutral   ['Positive']    ['Positive']   \n",
       "2  4.25     4.25   4.27  positive    ['Neutral']     ['Neutral']   \n",
       "3  3.00     3.00   3.06   neutral    ['Neutral']     ['Neutral']   \n",
       "4  4.50     4.50   4.52  positive   ['Positive']    ['Positive']   \n",
       "5  3.50     3.00   3.08   neutral    ['Neutral']     ['Neutral']   \n",
       "6  4.00     4.00   3.84   neutral   ['Positive']    ['Positive']   \n",
       "7  2.50     3.00   2.92   neutral    ['Neutral']     ['Neutral']   \n",
       "8  3.00     3.25   3.21   neutral   ['Positive']    ['Positive']   \n",
       "9  4.50     4.75   4.68  positive   ['Positive']    ['Positive']   \n",
       "\n",
       "  taste_sentiment feel_sentiment  \n",
       "0    ['Negative']   ['Negative']  \n",
       "1    ['Positive']   ['Positive']  \n",
       "2     ['Neutral']    ['Neutral']  \n",
       "3     ['Neutral']    ['Neutral']  \n",
       "4    ['Positive']   ['Positive']  \n",
       "5     ['Neutral']    ['Neutral']  \n",
       "6    ['Positive']   ['Positive']  \n",
       "7     ['Neutral']    ['Neutral']  \n",
       "8    ['Positive']   ['Positive']  \n",
       "9    ['Positive']   ['Positive']  "
      ]
     },
     "execution_count": 19,
     "metadata": {},
     "output_type": "execute_result"
    }
   ],
   "source": [
    "# Load the output file with aspect-level sentiment columns\n",
    "df_result = pd.read_csv('../data/reviews_with_aspect_sentiment_test.csv')"
   ]
  },
  {
   "cell_type": "code",
   "execution_count": 20,
   "metadata": {},
   "outputs": [
    {
     "data": {
      "text/html": [
       "<div>\n",
       "<style scoped>\n",
       "    .dataframe tbody tr th:only-of-type {\n",
       "        vertical-align: middle;\n",
       "    }\n",
       "\n",
       "    .dataframe tbody tr th {\n",
       "        vertical-align: top;\n",
       "    }\n",
       "\n",
       "    .dataframe thead th {\n",
       "        text-align: right;\n",
       "    }\n",
       "</style>\n",
       "<table border=\"1\" class=\"dataframe\">\n",
       "  <thead>\n",
       "    <tr style=\"text-align: right;\">\n",
       "      <th></th>\n",
       "      <th>beer_id</th>\n",
       "      <th>username</th>\n",
       "      <th>date</th>\n",
       "      <th>text</th>\n",
       "      <th>look</th>\n",
       "      <th>smell</th>\n",
       "      <th>taste</th>\n",
       "      <th>feel</th>\n",
       "      <th>overall</th>\n",
       "      <th>score</th>\n",
       "      <th>sentiment</th>\n",
       "      <th>look_sentiment</th>\n",
       "      <th>smell_sentiment</th>\n",
       "      <th>taste_sentiment</th>\n",
       "      <th>feel_sentiment</th>\n",
       "    </tr>\n",
       "  </thead>\n",
       "  <tbody>\n",
       "    <tr>\n",
       "      <th>0</th>\n",
       "      <td>101</td>\n",
       "      <td>Walnut</td>\n",
       "      <td>2016-03-09</td>\n",
       "      <td>0%</td>\n",
       "      <td>3.75</td>\n",
       "      <td>3.50</td>\n",
       "      <td>3.50</td>\n",
       "      <td>3.75</td>\n",
       "      <td>3.75</td>\n",
       "      <td>3.59</td>\n",
       "      <td>neutral</td>\n",
       "      <td>['Negative']</td>\n",
       "      <td>['Negative']</td>\n",
       "      <td>['Negative']</td>\n",
       "      <td>['Negative']</td>\n",
       "    </tr>\n",
       "    <tr>\n",
       "      <th>1</th>\n",
       "      <td>261565</td>\n",
       "      <td>Phyl21ca</td>\n",
       "      <td>2017-07-04</td>\n",
       "      <td>Can: Poured a clear amber color le with a n...</td>\n",
       "      <td>4.25</td>\n",
       "      <td>3.75</td>\n",
       "      <td>3.75</td>\n",
       "      <td>3.75</td>\n",
       "      <td>3.75</td>\n",
       "      <td>3.78</td>\n",
       "      <td>neutral</td>\n",
       "      <td>['Positive']</td>\n",
       "      <td>['Positive']</td>\n",
       "      <td>['Positive']</td>\n",
       "      <td>['Positive']</td>\n",
       "    </tr>\n",
       "    <tr>\n",
       "      <th>2</th>\n",
       "      <td>322435</td>\n",
       "      <td>agreenman19</td>\n",
       "      <td>2018-02-10</td>\n",
       "      <td>L - \"oat cream IPA\". Jesus, OH, why you do ...</td>\n",
       "      <td>4.50</td>\n",
       "      <td>4.25</td>\n",
       "      <td>4.25</td>\n",
       "      <td>4.25</td>\n",
       "      <td>4.25</td>\n",
       "      <td>4.27</td>\n",
       "      <td>positive</td>\n",
       "      <td>['Neutral']</td>\n",
       "      <td>['Neutral']</td>\n",
       "      <td>['Neutral']</td>\n",
       "      <td>['Neutral']</td>\n",
       "    </tr>\n",
       "    <tr>\n",
       "      <th>3</th>\n",
       "      <td>55317</td>\n",
       "      <td>Mantooth</td>\n",
       "      <td>2012-01-31</td>\n",
       "      <td>Draft into a Samichlaus snifter. A: Orange ...</td>\n",
       "      <td>4.00</td>\n",
       "      <td>3.00</td>\n",
       "      <td>3.00</td>\n",
       "      <td>3.00</td>\n",
       "      <td>3.00</td>\n",
       "      <td>3.06</td>\n",
       "      <td>neutral</td>\n",
       "      <td>['Neutral']</td>\n",
       "      <td>['Neutral']</td>\n",
       "      <td>['Neutral']</td>\n",
       "      <td>['Neutral']</td>\n",
       "    </tr>\n",
       "    <tr>\n",
       "      <th>4</th>\n",
       "      <td>45552</td>\n",
       "      <td>Efay</td>\n",
       "      <td>2013-01-17</td>\n",
       "      <td>Deschutes took Chicago by storm this past m...</td>\n",
       "      <td>4.50</td>\n",
       "      <td>5.00</td>\n",
       "      <td>4.25</td>\n",
       "      <td>4.50</td>\n",
       "      <td>4.50</td>\n",
       "      <td>4.52</td>\n",
       "      <td>positive</td>\n",
       "      <td>['Positive']</td>\n",
       "      <td>['Positive']</td>\n",
       "      <td>['Positive']</td>\n",
       "      <td>['Positive']</td>\n",
       "    </tr>\n",
       "    <tr>\n",
       "      <th>5</th>\n",
       "      <td>23155</td>\n",
       "      <td>cvstrickland</td>\n",
       "      <td>2008-07-24</td>\n",
       "      <td>12-ounce bottle poured into a pint willi gl...</td>\n",
       "      <td>3.50</td>\n",
       "      <td>3.00</td>\n",
       "      <td>3.00</td>\n",
       "      <td>3.50</td>\n",
       "      <td>3.00</td>\n",
       "      <td>3.08</td>\n",
       "      <td>neutral</td>\n",
       "      <td>['Neutral']</td>\n",
       "      <td>['Neutral']</td>\n",
       "      <td>['Neutral']</td>\n",
       "      <td>['Neutral']</td>\n",
       "    </tr>\n",
       "    <tr>\n",
       "      <th>6</th>\n",
       "      <td>258879</td>\n",
       "      <td>Gavage</td>\n",
       "      <td>2017-02-12</td>\n",
       "      <td>Appearance: pours a crystal clear golden ye...</td>\n",
       "      <td>4.25</td>\n",
       "      <td>3.25</td>\n",
       "      <td>4.00</td>\n",
       "      <td>4.00</td>\n",
       "      <td>4.00</td>\n",
       "      <td>3.84</td>\n",
       "      <td>neutral</td>\n",
       "      <td>['Positive']</td>\n",
       "      <td>['Positive']</td>\n",
       "      <td>['Positive']</td>\n",
       "      <td>['Positive']</td>\n",
       "    </tr>\n",
       "    <tr>\n",
       "      <th>7</th>\n",
       "      <td>4074</td>\n",
       "      <td>hotstuff</td>\n",
       "      <td>2003-08-05</td>\n",
       "      <td>This beer had a medium sized head that cont...</td>\n",
       "      <td>2.50</td>\n",
       "      <td>3.00</td>\n",
       "      <td>3.00</td>\n",
       "      <td>2.50</td>\n",
       "      <td>3.00</td>\n",
       "      <td>2.92</td>\n",
       "      <td>neutral</td>\n",
       "      <td>['Neutral']</td>\n",
       "      <td>['Neutral']</td>\n",
       "      <td>['Neutral']</td>\n",
       "      <td>['Neutral']</td>\n",
       "    </tr>\n",
       "    <tr>\n",
       "      <th>8</th>\n",
       "      <td>1283</td>\n",
       "      <td>PlinyMeNow</td>\n",
       "      <td>2017-03-29</td>\n",
       "      <td>I went into it with low expectations and wa...</td>\n",
       "      <td>3.25</td>\n",
       "      <td>2.75</td>\n",
       "      <td>3.50</td>\n",
       "      <td>3.00</td>\n",
       "      <td>3.25</td>\n",
       "      <td>3.21</td>\n",
       "      <td>neutral</td>\n",
       "      <td>['Positive']</td>\n",
       "      <td>['Positive']</td>\n",
       "      <td>['Positive']</td>\n",
       "      <td>['Positive']</td>\n",
       "    </tr>\n",
       "    <tr>\n",
       "      <th>9</th>\n",
       "      <td>169622</td>\n",
       "      <td>worldsworstextra</td>\n",
       "      <td>2015-12-25</td>\n",
       "      <td>My favorite De Garde. No other brewery is a...</td>\n",
       "      <td>5.00</td>\n",
       "      <td>4.50</td>\n",
       "      <td>4.75</td>\n",
       "      <td>4.50</td>\n",
       "      <td>4.75</td>\n",
       "      <td>4.68</td>\n",
       "      <td>positive</td>\n",
       "      <td>['Positive']</td>\n",
       "      <td>['Positive']</td>\n",
       "      <td>['Positive']</td>\n",
       "      <td>['Positive']</td>\n",
       "    </tr>\n",
       "    <tr>\n",
       "      <th>10</th>\n",
       "      <td>5481</td>\n",
       "      <td>fido</td>\n",
       "      <td>2006-08-29</td>\n",
       "      <td>Estrella Galicia seems an average lager. It...</td>\n",
       "      <td>3.00</td>\n",
       "      <td>3.00</td>\n",
       "      <td>3.00</td>\n",
       "      <td>3.00</td>\n",
       "      <td>4.00</td>\n",
       "      <td>3.20</td>\n",
       "      <td>neutral</td>\n",
       "      <td>['Neutral']</td>\n",
       "      <td>['Neutral']</td>\n",
       "      <td>['Neutral']</td>\n",
       "      <td>['Neutral']</td>\n",
       "    </tr>\n",
       "    <tr>\n",
       "      <th>11</th>\n",
       "      <td>232008</td>\n",
       "      <td>Antg8989</td>\n",
       "      <td>2016-05-25</td>\n",
       "      <td>Many breweries give their beers a special n...</td>\n",
       "      <td>4.75</td>\n",
       "      <td>4.50</td>\n",
       "      <td>5.00</td>\n",
       "      <td>4.50</td>\n",
       "      <td>4.75</td>\n",
       "      <td>4.77</td>\n",
       "      <td>positive</td>\n",
       "      <td>['Neutral']</td>\n",
       "      <td>['Neutral']</td>\n",
       "      <td>['Neutral']</td>\n",
       "      <td>['Neutral']</td>\n",
       "    </tr>\n",
       "    <tr>\n",
       "      <th>12</th>\n",
       "      <td>17600</td>\n",
       "      <td>GeoffFromSJ</td>\n",
       "      <td>2004-05-21</td>\n",
       "      <td>This was a darn drinkable beer. I haven't h...</td>\n",
       "      <td>NaN</td>\n",
       "      <td>NaN</td>\n",
       "      <td>NaN</td>\n",
       "      <td>NaN</td>\n",
       "      <td>NaN</td>\n",
       "      <td>4.10</td>\n",
       "      <td>positive</td>\n",
       "      <td>['Positive']</td>\n",
       "      <td>['Positive']</td>\n",
       "      <td>['Positive']</td>\n",
       "      <td>['Positive']</td>\n",
       "    </tr>\n",
       "    <tr>\n",
       "      <th>13</th>\n",
       "      <td>155</td>\n",
       "      <td>kw_pip</td>\n",
       "      <td>2016-06-04</td>\n",
       "      <td>Yeast. Malt. Raisin. Sweet. Phenomenal.</td>\n",
       "      <td>4.25</td>\n",
       "      <td>4.50</td>\n",
       "      <td>4.75</td>\n",
       "      <td>4.25</td>\n",
       "      <td>4.75</td>\n",
       "      <td>4.61</td>\n",
       "      <td>positive</td>\n",
       "      <td>['Positive']</td>\n",
       "      <td>['Positive']</td>\n",
       "      <td>['Positive']</td>\n",
       "      <td>['Positive']</td>\n",
       "    </tr>\n",
       "    <tr>\n",
       "      <th>14</th>\n",
       "      <td>1385</td>\n",
       "      <td>Scott17Taylor</td>\n",
       "      <td>2017-05-04</td>\n",
       "      <td>Pours orangey gold with large head. The aro...</td>\n",
       "      <td>4.25</td>\n",
       "      <td>4.25</td>\n",
       "      <td>4.25</td>\n",
       "      <td>4.25</td>\n",
       "      <td>4.25</td>\n",
       "      <td>4.25</td>\n",
       "      <td>positive</td>\n",
       "      <td>['Positive']</td>\n",
       "      <td>['Positive']</td>\n",
       "      <td>['Positive']</td>\n",
       "      <td>['Positive']</td>\n",
       "    </tr>\n",
       "    <tr>\n",
       "      <th>15</th>\n",
       "      <td>131426</td>\n",
       "      <td>StonedTrippin</td>\n",
       "      <td>2016-07-04</td>\n",
       "      <td>this is desert island beer for me, a nice g...</td>\n",
       "      <td>4.25</td>\n",
       "      <td>4.25</td>\n",
       "      <td>4.25</td>\n",
       "      <td>4.25</td>\n",
       "      <td>4.25</td>\n",
       "      <td>4.25</td>\n",
       "      <td>positive</td>\n",
       "      <td>['Positive']</td>\n",
       "      <td>['Positive']</td>\n",
       "      <td>['Positive']</td>\n",
       "      <td>['Positive']</td>\n",
       "    </tr>\n",
       "    <tr>\n",
       "      <th>16</th>\n",
       "      <td>146788</td>\n",
       "      <td>Harvest06</td>\n",
       "      <td>2015-02-13</td>\n",
       "      <td>A: On tap at Belmont Station Jan. 2015. Thi...</td>\n",
       "      <td>4.00</td>\n",
       "      <td>4.50</td>\n",
       "      <td>4.25</td>\n",
       "      <td>4.25</td>\n",
       "      <td>4.25</td>\n",
       "      <td>4.30</td>\n",
       "      <td>positive</td>\n",
       "      <td>['Positive']</td>\n",
       "      <td>['Positive']</td>\n",
       "      <td>['Positive']</td>\n",
       "      <td>['Positive']</td>\n",
       "    </tr>\n",
       "    <tr>\n",
       "      <th>17</th>\n",
       "      <td>24357</td>\n",
       "      <td>maDUECEgunner</td>\n",
       "      <td>2014-06-05</td>\n",
       "      <td>12 0z bottle poure into plastic cup because...</td>\n",
       "      <td>4.00</td>\n",
       "      <td>4.00</td>\n",
       "      <td>3.75</td>\n",
       "      <td>3.50</td>\n",
       "      <td>3.75</td>\n",
       "      <td>3.80</td>\n",
       "      <td>neutral</td>\n",
       "      <td>['Neutral']</td>\n",
       "      <td>['Neutral']</td>\n",
       "      <td>['Neutral']</td>\n",
       "      <td>['Neutral']</td>\n",
       "    </tr>\n",
       "    <tr>\n",
       "      <th>18</th>\n",
       "      <td>155</td>\n",
       "      <td>Prufrock</td>\n",
       "      <td>2006-05-31</td>\n",
       "      <td>stubby little 11.2 oz. white bottle poured ...</td>\n",
       "      <td>3.00</td>\n",
       "      <td>3.50</td>\n",
       "      <td>4.50</td>\n",
       "      <td>4.00</td>\n",
       "      <td>3.50</td>\n",
       "      <td>3.92</td>\n",
       "      <td>neutral</td>\n",
       "      <td>['Neutral']</td>\n",
       "      <td>['Neutral']</td>\n",
       "      <td>['Neutral']</td>\n",
       "      <td>['Neutral']</td>\n",
       "    </tr>\n",
       "    <tr>\n",
       "      <th>19</th>\n",
       "      <td>811</td>\n",
       "      <td>albern</td>\n",
       "      <td>2008-10-17</td>\n",
       "      <td>This beer is a mass produced English Pale A...</td>\n",
       "      <td>3.50</td>\n",
       "      <td>3.00</td>\n",
       "      <td>3.50</td>\n",
       "      <td>3.50</td>\n",
       "      <td>3.50</td>\n",
       "      <td>3.38</td>\n",
       "      <td>neutral</td>\n",
       "      <td>['Negative']</td>\n",
       "      <td>['Negative']</td>\n",
       "      <td>['Negative']</td>\n",
       "      <td>['Negative']</td>\n",
       "    </tr>\n",
       "    <tr>\n",
       "      <th>20</th>\n",
       "      <td>33929</td>\n",
       "      <td>SABERG</td>\n",
       "      <td>2017-12-31</td>\n",
       "      <td>Poured from a bottle dated \"best By 28/09/1...</td>\n",
       "      <td>4.00</td>\n",
       "      <td>4.25</td>\n",
       "      <td>4.00</td>\n",
       "      <td>4.00</td>\n",
       "      <td>4.00</td>\n",
       "      <td>4.06</td>\n",
       "      <td>positive</td>\n",
       "      <td>['Positive']</td>\n",
       "      <td>['Positive']</td>\n",
       "      <td>['Positive']</td>\n",
       "      <td>['Positive']</td>\n",
       "    </tr>\n",
       "    <tr>\n",
       "      <th>21</th>\n",
       "      <td>74559</td>\n",
       "      <td>durlta</td>\n",
       "      <td>2014-10-25</td>\n",
       "      <td>Second brown ale of the evening after a lon...</td>\n",
       "      <td>NaN</td>\n",
       "      <td>NaN</td>\n",
       "      <td>NaN</td>\n",
       "      <td>NaN</td>\n",
       "      <td>NaN</td>\n",
       "      <td>4.25</td>\n",
       "      <td>positive</td>\n",
       "      <td>['Neutral']</td>\n",
       "      <td>['Neutral']</td>\n",
       "      <td>['Neutral']</td>\n",
       "      <td>['Neutral']</td>\n",
       "    </tr>\n",
       "    <tr>\n",
       "      <th>22</th>\n",
       "      <td>34085</td>\n",
       "      <td>TempeBeerMan</td>\n",
       "      <td>2015-01-12</td>\n",
       "      <td>Poured from a bottle into a snifter. (Note:...</td>\n",
       "      <td>3.50</td>\n",
       "      <td>4.00</td>\n",
       "      <td>5.00</td>\n",
       "      <td>5.00</td>\n",
       "      <td>4.50</td>\n",
       "      <td>4.57</td>\n",
       "      <td>positive</td>\n",
       "      <td>['Positive']</td>\n",
       "      <td>['Positive']</td>\n",
       "      <td>['Positive']</td>\n",
       "      <td>['Positive']</td>\n",
       "    </tr>\n",
       "    <tr>\n",
       "      <th>23</th>\n",
       "      <td>166735</td>\n",
       "      <td>Bugs318</td>\n",
       "      <td>2015-06-14</td>\n",
       "      <td>A: lightly copper tinged brown with a thin ...</td>\n",
       "      <td>4.00</td>\n",
       "      <td>4.75</td>\n",
       "      <td>4.25</td>\n",
       "      <td>4.25</td>\n",
       "      <td>4.50</td>\n",
       "      <td>4.41</td>\n",
       "      <td>positive</td>\n",
       "      <td>['Neutral']</td>\n",
       "      <td>['Neutral']</td>\n",
       "      <td>['Neutral']</td>\n",
       "      <td>['Neutral']</td>\n",
       "    </tr>\n",
       "    <tr>\n",
       "      <th>24</th>\n",
       "      <td>70492</td>\n",
       "      <td>Luigi</td>\n",
       "      <td>2012-02-25</td>\n",
       "      <td>Pale straw yellow color with plenty carbona...</td>\n",
       "      <td>3.00</td>\n",
       "      <td>2.50</td>\n",
       "      <td>3.00</td>\n",
       "      <td>3.50</td>\n",
       "      <td>3.00</td>\n",
       "      <td>2.93</td>\n",
       "      <td>neutral</td>\n",
       "      <td>['Neutral']</td>\n",
       "      <td>['Neutral']</td>\n",
       "      <td>['Neutral']</td>\n",
       "      <td>['Neutral']</td>\n",
       "    </tr>\n",
       "    <tr>\n",
       "      <th>25</th>\n",
       "      <td>14696</td>\n",
       "      <td>BeerDetective</td>\n",
       "      <td>2009-10-27</td>\n",
       "      <td>An average beer for this brewery, I much pr...</td>\n",
       "      <td>3.50</td>\n",
       "      <td>4.00</td>\n",
       "      <td>4.00</td>\n",
       "      <td>3.50</td>\n",
       "      <td>3.50</td>\n",
       "      <td>3.82</td>\n",
       "      <td>neutral</td>\n",
       "      <td>['Neutral']</td>\n",
       "      <td>['Neutral']</td>\n",
       "      <td>['Neutral']</td>\n",
       "      <td>['Neutral']</td>\n",
       "    </tr>\n",
       "    <tr>\n",
       "      <th>26</th>\n",
       "      <td>243</td>\n",
       "      <td>ChugsMugs</td>\n",
       "      <td>2009-08-14</td>\n",
       "      <td>A- deep copper/dark brown, maybe a hint of ...</td>\n",
       "      <td>4.00</td>\n",
       "      <td>4.50</td>\n",
       "      <td>3.50</td>\n",
       "      <td>3.00</td>\n",
       "      <td>3.00</td>\n",
       "      <td>3.62</td>\n",
       "      <td>neutral</td>\n",
       "      <td>['Neutral']</td>\n",
       "      <td>['Neutral']</td>\n",
       "      <td>['Neutral']</td>\n",
       "      <td>['Neutral']</td>\n",
       "    </tr>\n",
       "    <tr>\n",
       "      <th>27</th>\n",
       "      <td>165532</td>\n",
       "      <td>Ghrymm</td>\n",
       "      <td>2016-03-04</td>\n",
       "      <td>Poured from a 650ml bottle. A: Pours a clea...</td>\n",
       "      <td>4.00</td>\n",
       "      <td>4.25</td>\n",
       "      <td>3.75</td>\n",
       "      <td>3.75</td>\n",
       "      <td>4.00</td>\n",
       "      <td>3.94</td>\n",
       "      <td>neutral</td>\n",
       "      <td>['Neutral']</td>\n",
       "      <td>['Neutral']</td>\n",
       "      <td>['Neutral']</td>\n",
       "      <td>['Neutral']</td>\n",
       "    </tr>\n",
       "    <tr>\n",
       "      <th>28</th>\n",
       "      <td>199729</td>\n",
       "      <td>StoutHunter</td>\n",
       "      <td>2017-03-16</td>\n",
       "      <td>I picked up a Nitro bottle of Ballast Point...</td>\n",
       "      <td>3.75</td>\n",
       "      <td>3.50</td>\n",
       "      <td>3.25</td>\n",
       "      <td>3.50</td>\n",
       "      <td>3.00</td>\n",
       "      <td>3.32</td>\n",
       "      <td>neutral</td>\n",
       "      <td>['Positive']</td>\n",
       "      <td>['Positive']</td>\n",
       "      <td>['Positive']</td>\n",
       "      <td>['Positive']</td>\n",
       "    </tr>\n",
       "    <tr>\n",
       "      <th>29</th>\n",
       "      <td>90324</td>\n",
       "      <td>Urk1127</td>\n",
       "      <td>2016-03-07</td>\n",
       "      <td>Hazy dirty gold. White head. Smell of dirt....</td>\n",
       "      <td>4.00</td>\n",
       "      <td>3.50</td>\n",
       "      <td>3.50</td>\n",
       "      <td>3.25</td>\n",
       "      <td>3.50</td>\n",
       "      <td>3.51</td>\n",
       "      <td>neutral</td>\n",
       "      <td>['Negative']</td>\n",
       "      <td>['Negative']</td>\n",
       "      <td>['Negative']</td>\n",
       "      <td>['Negative']</td>\n",
       "    </tr>\n",
       "    <tr>\n",
       "      <th>30</th>\n",
       "      <td>51071</td>\n",
       "      <td>Mora2000</td>\n",
       "      <td>2011-07-08</td>\n",
       "      <td>Thanks to my brother for sharing this beer....</td>\n",
       "      <td>4.00</td>\n",
       "      <td>3.00</td>\n",
       "      <td>3.00</td>\n",
       "      <td>3.50</td>\n",
       "      <td>3.00</td>\n",
       "      <td>3.11</td>\n",
       "      <td>neutral</td>\n",
       "      <td>['Neutral']</td>\n",
       "      <td>['Neutral']</td>\n",
       "      <td>['Neutral']</td>\n",
       "      <td>['Neutral']</td>\n",
       "    </tr>\n",
       "    <tr>\n",
       "      <th>31</th>\n",
       "      <td>215680</td>\n",
       "      <td>TheManiacalOne</td>\n",
       "      <td>2017-05-03</td>\n",
       "      <td>On-tap 5/2/2017 at Flynn’s in Mansfield, MA...</td>\n",
       "      <td>4.00</td>\n",
       "      <td>4.25</td>\n",
       "      <td>4.25</td>\n",
       "      <td>4.00</td>\n",
       "      <td>4.25</td>\n",
       "      <td>4.21</td>\n",
       "      <td>positive</td>\n",
       "      <td>['Neutral']</td>\n",
       "      <td>['Neutral']</td>\n",
       "      <td>['Neutral']</td>\n",
       "      <td>['Neutral']</td>\n",
       "    </tr>\n",
       "    <tr>\n",
       "      <th>32</th>\n",
       "      <td>8919</td>\n",
       "      <td>beer2day</td>\n",
       "      <td>2009-05-17</td>\n",
       "      <td>Pours a nice deep gold with a one-finger he...</td>\n",
       "      <td>4.50</td>\n",
       "      <td>4.50</td>\n",
       "      <td>4.00</td>\n",
       "      <td>4.50</td>\n",
       "      <td>4.00</td>\n",
       "      <td>4.20</td>\n",
       "      <td>positive</td>\n",
       "      <td>['Positive']</td>\n",
       "      <td>['Positive']</td>\n",
       "      <td>['Positive']</td>\n",
       "      <td>['Positive']</td>\n",
       "    </tr>\n",
       "    <tr>\n",
       "      <th>33</th>\n",
       "      <td>158259</td>\n",
       "      <td>joaopmgoncalves</td>\n",
       "      <td>2016-11-13</td>\n",
       "      <td>Poured to a Duvel tulip glass. A: The body ...</td>\n",
       "      <td>3.75</td>\n",
       "      <td>4.25</td>\n",
       "      <td>3.75</td>\n",
       "      <td>4.00</td>\n",
       "      <td>3.75</td>\n",
       "      <td>3.90</td>\n",
       "      <td>neutral</td>\n",
       "      <td>['Neutral']</td>\n",
       "      <td>['Neutral']</td>\n",
       "      <td>['Neutral']</td>\n",
       "      <td>['Neutral']</td>\n",
       "    </tr>\n",
       "    <tr>\n",
       "      <th>34</th>\n",
       "      <td>173438</td>\n",
       "      <td>ivegot3Dvision</td>\n",
       "      <td>2015-06-19</td>\n",
       "      <td>A FANTASTIC treatment of Sorachi Ace, lots ...</td>\n",
       "      <td>5.00</td>\n",
       "      <td>5.00</td>\n",
       "      <td>5.00</td>\n",
       "      <td>5.00</td>\n",
       "      <td>5.00</td>\n",
       "      <td>5.00</td>\n",
       "      <td>positive</td>\n",
       "      <td>['Positive']</td>\n",
       "      <td>['Positive']</td>\n",
       "      <td>['Positive']</td>\n",
       "      <td>['Positive']</td>\n",
       "    </tr>\n",
       "    <tr>\n",
       "      <th>35</th>\n",
       "      <td>15053</td>\n",
       "      <td>afinepilsner</td>\n",
       "      <td>2006-08-21</td>\n",
       "      <td>12oz brown bottle Breckenridge Pale Ale was...</td>\n",
       "      <td>4.00</td>\n",
       "      <td>4.00</td>\n",
       "      <td>3.50</td>\n",
       "      <td>3.50</td>\n",
       "      <td>3.50</td>\n",
       "      <td>3.65</td>\n",
       "      <td>neutral</td>\n",
       "      <td>['Neutral']</td>\n",
       "      <td>['Neutral']</td>\n",
       "      <td>['Neutral']</td>\n",
       "      <td>['Neutral']</td>\n",
       "    </tr>\n",
       "    <tr>\n",
       "      <th>36</th>\n",
       "      <td>32757</td>\n",
       "      <td>zeff80</td>\n",
       "      <td>2008-02-18</td>\n",
       "      <td>A - Poured out a cloudy, copper color with ...</td>\n",
       "      <td>3.50</td>\n",
       "      <td>4.00</td>\n",
       "      <td>4.00</td>\n",
       "      <td>3.50</td>\n",
       "      <td>4.00</td>\n",
       "      <td>3.92</td>\n",
       "      <td>neutral</td>\n",
       "      <td>['Neutral']</td>\n",
       "      <td>['Neutral']</td>\n",
       "      <td>['Neutral']</td>\n",
       "      <td>['Neutral']</td>\n",
       "    </tr>\n",
       "    <tr>\n",
       "      <th>37</th>\n",
       "      <td>61279</td>\n",
       "      <td>hopsolutely</td>\n",
       "      <td>2011-08-28</td>\n",
       "      <td>Clear amber with quickly dissipating head, ...</td>\n",
       "      <td>4.00</td>\n",
       "      <td>4.00</td>\n",
       "      <td>3.50</td>\n",
       "      <td>3.50</td>\n",
       "      <td>3.50</td>\n",
       "      <td>3.65</td>\n",
       "      <td>neutral</td>\n",
       "      <td>['Positive']</td>\n",
       "      <td>['Positive']</td>\n",
       "      <td>['Positive']</td>\n",
       "      <td>['Positive']</td>\n",
       "    </tr>\n",
       "    <tr>\n",
       "      <th>38</th>\n",
       "      <td>123355</td>\n",
       "      <td>invertalon</td>\n",
       "      <td>2015-05-26</td>\n",
       "      <td>First had this one tap at Revolution a few ...</td>\n",
       "      <td>4.50</td>\n",
       "      <td>5.00</td>\n",
       "      <td>5.00</td>\n",
       "      <td>4.75</td>\n",
       "      <td>5.00</td>\n",
       "      <td>4.95</td>\n",
       "      <td>positive</td>\n",
       "      <td>['Neutral']</td>\n",
       "      <td>['Neutral']</td>\n",
       "      <td>['Neutral']</td>\n",
       "      <td>['Neutral']</td>\n",
       "    </tr>\n",
       "    <tr>\n",
       "      <th>39</th>\n",
       "      <td>1010</td>\n",
       "      <td>hoplover82</td>\n",
       "      <td>2009-01-04</td>\n",
       "      <td>Pours crystal clear bright yellow with a me...</td>\n",
       "      <td>4.50</td>\n",
       "      <td>4.00</td>\n",
       "      <td>4.00</td>\n",
       "      <td>4.50</td>\n",
       "      <td>5.00</td>\n",
       "      <td>4.28</td>\n",
       "      <td>positive</td>\n",
       "      <td>['Positive']</td>\n",
       "      <td>['Positive']</td>\n",
       "      <td>['Positive']</td>\n",
       "      <td>['Positive']</td>\n",
       "    </tr>\n",
       "    <tr>\n",
       "      <th>40</th>\n",
       "      <td>5599</td>\n",
       "      <td>Cresant</td>\n",
       "      <td>2009-11-09</td>\n",
       "      <td>Poured this 750 mL green bottle into a Trip...</td>\n",
       "      <td>4.00</td>\n",
       "      <td>4.00</td>\n",
       "      <td>4.00</td>\n",
       "      <td>4.00</td>\n",
       "      <td>5.00</td>\n",
       "      <td>4.20</td>\n",
       "      <td>positive</td>\n",
       "      <td>['Neutral']</td>\n",
       "      <td>['Neutral']</td>\n",
       "      <td>['Neutral']</td>\n",
       "      <td>['Neutral']</td>\n",
       "    </tr>\n",
       "    <tr>\n",
       "      <th>41</th>\n",
       "      <td>9279</td>\n",
       "      <td>BedetheVenerable</td>\n",
       "      <td>2009-08-08</td>\n",
       "      <td>Presentation: 11.2oz brown pop top with nic...</td>\n",
       "      <td>4.00</td>\n",
       "      <td>4.50</td>\n",
       "      <td>3.00</td>\n",
       "      <td>3.50</td>\n",
       "      <td>3.50</td>\n",
       "      <td>3.57</td>\n",
       "      <td>neutral</td>\n",
       "      <td>['Positive']</td>\n",
       "      <td>['Positive']</td>\n",
       "      <td>['Positive']</td>\n",
       "      <td>['Positive']</td>\n",
       "    </tr>\n",
       "    <tr>\n",
       "      <th>42</th>\n",
       "      <td>33467</td>\n",
       "      <td>ChainGangGuy</td>\n",
       "      <td>2007-06-19</td>\n",
       "      <td>Appearance: Pours a bright, clear yellow bo...</td>\n",
       "      <td>3.00</td>\n",
       "      <td>3.00</td>\n",
       "      <td>2.50</td>\n",
       "      <td>3.50</td>\n",
       "      <td>2.00</td>\n",
       "      <td>2.65</td>\n",
       "      <td>neutral</td>\n",
       "      <td>['Positive']</td>\n",
       "      <td>['Positive']</td>\n",
       "      <td>['Positive']</td>\n",
       "      <td>['Positive']</td>\n",
       "    </tr>\n",
       "    <tr>\n",
       "      <th>43</th>\n",
       "      <td>29055</td>\n",
       "      <td>wl0307</td>\n",
       "      <td>2006-03-17</td>\n",
       "      <td>30cl brown bottle, filtered. BB 06/06. Serv...</td>\n",
       "      <td>4.00</td>\n",
       "      <td>3.50</td>\n",
       "      <td>3.50</td>\n",
       "      <td>4.00</td>\n",
       "      <td>3.50</td>\n",
       "      <td>3.58</td>\n",
       "      <td>neutral</td>\n",
       "      <td>['Positive']</td>\n",
       "      <td>['Positive']</td>\n",
       "      <td>['Positive']</td>\n",
       "      <td>['Positive']</td>\n",
       "    </tr>\n",
       "    <tr>\n",
       "      <th>44</th>\n",
       "      <td>703</td>\n",
       "      <td>dreadnatty08</td>\n",
       "      <td>2007-06-27</td>\n",
       "      <td>Pours that gorgeous nitro infused mix of ca...</td>\n",
       "      <td>4.50</td>\n",
       "      <td>4.00</td>\n",
       "      <td>4.50</td>\n",
       "      <td>4.00</td>\n",
       "      <td>4.50</td>\n",
       "      <td>4.33</td>\n",
       "      <td>positive</td>\n",
       "      <td>['Positive']</td>\n",
       "      <td>['Positive']</td>\n",
       "      <td>['Positive']</td>\n",
       "      <td>['Positive']</td>\n",
       "    </tr>\n",
       "    <tr>\n",
       "      <th>45</th>\n",
       "      <td>132704</td>\n",
       "      <td>GreesyFizeek</td>\n",
       "      <td>2015-10-25</td>\n",
       "      <td>On tap at Blu Wolf Bistro in Rochester, NY....</td>\n",
       "      <td>4.00</td>\n",
       "      <td>4.00</td>\n",
       "      <td>3.75</td>\n",
       "      <td>3.75</td>\n",
       "      <td>4.00</td>\n",
       "      <td>3.88</td>\n",
       "      <td>neutral</td>\n",
       "      <td>['Neutral']</td>\n",
       "      <td>['Neutral']</td>\n",
       "      <td>['Neutral']</td>\n",
       "      <td>['Neutral']</td>\n",
       "    </tr>\n",
       "    <tr>\n",
       "      <th>46</th>\n",
       "      <td>27371</td>\n",
       "      <td>DrJay</td>\n",
       "      <td>2006-05-05</td>\n",
       "      <td>2004 batch (gold foil): I had been saving t...</td>\n",
       "      <td>4.00</td>\n",
       "      <td>4.50</td>\n",
       "      <td>5.00</td>\n",
       "      <td>4.50</td>\n",
       "      <td>4.50</td>\n",
       "      <td>4.67</td>\n",
       "      <td>positive</td>\n",
       "      <td>['Positive']</td>\n",
       "      <td>['Positive']</td>\n",
       "      <td>['Positive']</td>\n",
       "      <td>['Positive']</td>\n",
       "    </tr>\n",
       "    <tr>\n",
       "      <th>47</th>\n",
       "      <td>35339</td>\n",
       "      <td>zeff80</td>\n",
       "      <td>2011-01-05</td>\n",
       "      <td>A - Poured out a clear, golden-orange color...</td>\n",
       "      <td>3.50</td>\n",
       "      <td>3.50</td>\n",
       "      <td>4.00</td>\n",
       "      <td>4.00</td>\n",
       "      <td>4.00</td>\n",
       "      <td>3.85</td>\n",
       "      <td>neutral</td>\n",
       "      <td>['Neutral']</td>\n",
       "      <td>['Neutral']</td>\n",
       "      <td>['Neutral']</td>\n",
       "      <td>['Neutral']</td>\n",
       "    </tr>\n",
       "    <tr>\n",
       "      <th>48</th>\n",
       "      <td>10841</td>\n",
       "      <td>TheLongBeachBum</td>\n",
       "      <td>2006-06-15</td>\n",
       "      <td>Presentation: Bless my little cotton Commie...</td>\n",
       "      <td>3.50</td>\n",
       "      <td>2.50</td>\n",
       "      <td>3.00</td>\n",
       "      <td>3.00</td>\n",
       "      <td>3.00</td>\n",
       "      <td>2.91</td>\n",
       "      <td>neutral</td>\n",
       "      <td>['Positive']</td>\n",
       "      <td>['Positive']</td>\n",
       "      <td>['Positive']</td>\n",
       "      <td>['Positive']</td>\n",
       "    </tr>\n",
       "    <tr>\n",
       "      <th>49</th>\n",
       "      <td>36497</td>\n",
       "      <td>Tim2000</td>\n",
       "      <td>2007-04-25</td>\n",
       "      <td>341 mL brown bottle, undated. Pours a dark,...</td>\n",
       "      <td>4.00</td>\n",
       "      <td>3.00</td>\n",
       "      <td>2.50</td>\n",
       "      <td>4.00</td>\n",
       "      <td>3.00</td>\n",
       "      <td>2.96</td>\n",
       "      <td>neutral</td>\n",
       "      <td>['Neutral']</td>\n",
       "      <td>['Neutral']</td>\n",
       "      <td>['Neutral']</td>\n",
       "      <td>['Neutral']</td>\n",
       "    </tr>\n",
       "  </tbody>\n",
       "</table>\n",
       "</div>"
      ],
      "text/plain": [
       "    beer_id          username        date  \\\n",
       "0       101            Walnut  2016-03-09   \n",
       "1    261565          Phyl21ca  2017-07-04   \n",
       "2    322435       agreenman19  2018-02-10   \n",
       "3     55317          Mantooth  2012-01-31   \n",
       "4     45552              Efay  2013-01-17   \n",
       "5     23155      cvstrickland  2008-07-24   \n",
       "6    258879            Gavage  2017-02-12   \n",
       "7      4074          hotstuff  2003-08-05   \n",
       "8      1283        PlinyMeNow  2017-03-29   \n",
       "9    169622  worldsworstextra  2015-12-25   \n",
       "10     5481              fido  2006-08-29   \n",
       "11   232008          Antg8989  2016-05-25   \n",
       "12    17600       GeoffFromSJ  2004-05-21   \n",
       "13      155            kw_pip  2016-06-04   \n",
       "14     1385     Scott17Taylor  2017-05-04   \n",
       "15   131426     StonedTrippin  2016-07-04   \n",
       "16   146788         Harvest06  2015-02-13   \n",
       "17    24357     maDUECEgunner  2014-06-05   \n",
       "18      155          Prufrock  2006-05-31   \n",
       "19      811            albern  2008-10-17   \n",
       "20    33929            SABERG  2017-12-31   \n",
       "21    74559            durlta  2014-10-25   \n",
       "22    34085      TempeBeerMan  2015-01-12   \n",
       "23   166735           Bugs318  2015-06-14   \n",
       "24    70492             Luigi  2012-02-25   \n",
       "25    14696     BeerDetective  2009-10-27   \n",
       "26      243         ChugsMugs  2009-08-14   \n",
       "27   165532            Ghrymm  2016-03-04   \n",
       "28   199729       StoutHunter  2017-03-16   \n",
       "29    90324           Urk1127  2016-03-07   \n",
       "30    51071          Mora2000  2011-07-08   \n",
       "31   215680    TheManiacalOne  2017-05-03   \n",
       "32     8919          beer2day  2009-05-17   \n",
       "33   158259   joaopmgoncalves  2016-11-13   \n",
       "34   173438    ivegot3Dvision  2015-06-19   \n",
       "35    15053      afinepilsner  2006-08-21   \n",
       "36    32757            zeff80  2008-02-18   \n",
       "37    61279       hopsolutely  2011-08-28   \n",
       "38   123355        invertalon  2015-05-26   \n",
       "39     1010        hoplover82  2009-01-04   \n",
       "40     5599           Cresant  2009-11-09   \n",
       "41     9279  BedetheVenerable  2009-08-08   \n",
       "42    33467      ChainGangGuy  2007-06-19   \n",
       "43    29055            wl0307  2006-03-17   \n",
       "44      703      dreadnatty08  2007-06-27   \n",
       "45   132704      GreesyFizeek  2015-10-25   \n",
       "46    27371             DrJay  2006-05-05   \n",
       "47    35339            zeff80  2011-01-05   \n",
       "48    10841   TheLongBeachBum  2006-06-15   \n",
       "49    36497           Tim2000  2007-04-25   \n",
       "\n",
       "                                                 text  look  smell  taste  \\\n",
       "0                                                  0%  3.75   3.50   3.50   \n",
       "1      Can: Poured a clear amber color le with a n...  4.25   3.75   3.75   \n",
       "2      L - \"oat cream IPA\". Jesus, OH, why you do ...  4.50   4.25   4.25   \n",
       "3      Draft into a Samichlaus snifter. A: Orange ...  4.00   3.00   3.00   \n",
       "4      Deschutes took Chicago by storm this past m...  4.50   5.00   4.25   \n",
       "5      12-ounce bottle poured into a pint willi gl...  3.50   3.00   3.00   \n",
       "6      Appearance: pours a crystal clear golden ye...  4.25   3.25   4.00   \n",
       "7      This beer had a medium sized head that cont...  2.50   3.00   3.00   \n",
       "8      I went into it with low expectations and wa...  3.25   2.75   3.50   \n",
       "9      My favorite De Garde. No other brewery is a...  5.00   4.50   4.75   \n",
       "10     Estrella Galicia seems an average lager. It...  3.00   3.00   3.00   \n",
       "11     Many breweries give their beers a special n...  4.75   4.50   5.00   \n",
       "12     This was a darn drinkable beer. I haven't h...   NaN    NaN    NaN   \n",
       "13            Yeast. Malt. Raisin. Sweet. Phenomenal.  4.25   4.50   4.75   \n",
       "14     Pours orangey gold with large head. The aro...  4.25   4.25   4.25   \n",
       "15     this is desert island beer for me, a nice g...  4.25   4.25   4.25   \n",
       "16     A: On tap at Belmont Station Jan. 2015. Thi...  4.00   4.50   4.25   \n",
       "17     12 0z bottle poure into plastic cup because...  4.00   4.00   3.75   \n",
       "18     stubby little 11.2 oz. white bottle poured ...  3.00   3.50   4.50   \n",
       "19     This beer is a mass produced English Pale A...  3.50   3.00   3.50   \n",
       "20     Poured from a bottle dated \"best By 28/09/1...  4.00   4.25   4.00   \n",
       "21     Second brown ale of the evening after a lon...   NaN    NaN    NaN   \n",
       "22     Poured from a bottle into a snifter. (Note:...  3.50   4.00   5.00   \n",
       "23     A: lightly copper tinged brown with a thin ...  4.00   4.75   4.25   \n",
       "24     Pale straw yellow color with plenty carbona...  3.00   2.50   3.00   \n",
       "25     An average beer for this brewery, I much pr...  3.50   4.00   4.00   \n",
       "26     A- deep copper/dark brown, maybe a hint of ...  4.00   4.50   3.50   \n",
       "27     Poured from a 650ml bottle. A: Pours a clea...  4.00   4.25   3.75   \n",
       "28     I picked up a Nitro bottle of Ballast Point...  3.75   3.50   3.25   \n",
       "29     Hazy dirty gold. White head. Smell of dirt....  4.00   3.50   3.50   \n",
       "30     Thanks to my brother for sharing this beer....  4.00   3.00   3.00   \n",
       "31     On-tap 5/2/2017 at Flynn’s in Mansfield, MA...  4.00   4.25   4.25   \n",
       "32     Pours a nice deep gold with a one-finger he...  4.50   4.50   4.00   \n",
       "33     Poured to a Duvel tulip glass. A: The body ...  3.75   4.25   3.75   \n",
       "34     A FANTASTIC treatment of Sorachi Ace, lots ...  5.00   5.00   5.00   \n",
       "35     12oz brown bottle Breckenridge Pale Ale was...  4.00   4.00   3.50   \n",
       "36     A - Poured out a cloudy, copper color with ...  3.50   4.00   4.00   \n",
       "37     Clear amber with quickly dissipating head, ...  4.00   4.00   3.50   \n",
       "38     First had this one tap at Revolution a few ...  4.50   5.00   5.00   \n",
       "39     Pours crystal clear bright yellow with a me...  4.50   4.00   4.00   \n",
       "40     Poured this 750 mL green bottle into a Trip...  4.00   4.00   4.00   \n",
       "41     Presentation: 11.2oz brown pop top with nic...  4.00   4.50   3.00   \n",
       "42     Appearance: Pours a bright, clear yellow bo...  3.00   3.00   2.50   \n",
       "43     30cl brown bottle, filtered. BB 06/06. Serv...  4.00   3.50   3.50   \n",
       "44     Pours that gorgeous nitro infused mix of ca...  4.50   4.00   4.50   \n",
       "45     On tap at Blu Wolf Bistro in Rochester, NY....  4.00   4.00   3.75   \n",
       "46     2004 batch (gold foil): I had been saving t...  4.00   4.50   5.00   \n",
       "47     A - Poured out a clear, golden-orange color...  3.50   3.50   4.00   \n",
       "48     Presentation: Bless my little cotton Commie...  3.50   2.50   3.00   \n",
       "49     341 mL brown bottle, undated. Pours a dark,...  4.00   3.00   2.50   \n",
       "\n",
       "    feel  overall  score sentiment look_sentiment smell_sentiment  \\\n",
       "0   3.75     3.75   3.59   neutral   ['Negative']    ['Negative']   \n",
       "1   3.75     3.75   3.78   neutral   ['Positive']    ['Positive']   \n",
       "2   4.25     4.25   4.27  positive    ['Neutral']     ['Neutral']   \n",
       "3   3.00     3.00   3.06   neutral    ['Neutral']     ['Neutral']   \n",
       "4   4.50     4.50   4.52  positive   ['Positive']    ['Positive']   \n",
       "5   3.50     3.00   3.08   neutral    ['Neutral']     ['Neutral']   \n",
       "6   4.00     4.00   3.84   neutral   ['Positive']    ['Positive']   \n",
       "7   2.50     3.00   2.92   neutral    ['Neutral']     ['Neutral']   \n",
       "8   3.00     3.25   3.21   neutral   ['Positive']    ['Positive']   \n",
       "9   4.50     4.75   4.68  positive   ['Positive']    ['Positive']   \n",
       "10  3.00     4.00   3.20   neutral    ['Neutral']     ['Neutral']   \n",
       "11  4.50     4.75   4.77  positive    ['Neutral']     ['Neutral']   \n",
       "12   NaN      NaN   4.10  positive   ['Positive']    ['Positive']   \n",
       "13  4.25     4.75   4.61  positive   ['Positive']    ['Positive']   \n",
       "14  4.25     4.25   4.25  positive   ['Positive']    ['Positive']   \n",
       "15  4.25     4.25   4.25  positive   ['Positive']    ['Positive']   \n",
       "16  4.25     4.25   4.30  positive   ['Positive']    ['Positive']   \n",
       "17  3.50     3.75   3.80   neutral    ['Neutral']     ['Neutral']   \n",
       "18  4.00     3.50   3.92   neutral    ['Neutral']     ['Neutral']   \n",
       "19  3.50     3.50   3.38   neutral   ['Negative']    ['Negative']   \n",
       "20  4.00     4.00   4.06  positive   ['Positive']    ['Positive']   \n",
       "21   NaN      NaN   4.25  positive    ['Neutral']     ['Neutral']   \n",
       "22  5.00     4.50   4.57  positive   ['Positive']    ['Positive']   \n",
       "23  4.25     4.50   4.41  positive    ['Neutral']     ['Neutral']   \n",
       "24  3.50     3.00   2.93   neutral    ['Neutral']     ['Neutral']   \n",
       "25  3.50     3.50   3.82   neutral    ['Neutral']     ['Neutral']   \n",
       "26  3.00     3.00   3.62   neutral    ['Neutral']     ['Neutral']   \n",
       "27  3.75     4.00   3.94   neutral    ['Neutral']     ['Neutral']   \n",
       "28  3.50     3.00   3.32   neutral   ['Positive']    ['Positive']   \n",
       "29  3.25     3.50   3.51   neutral   ['Negative']    ['Negative']   \n",
       "30  3.50     3.00   3.11   neutral    ['Neutral']     ['Neutral']   \n",
       "31  4.00     4.25   4.21  positive    ['Neutral']     ['Neutral']   \n",
       "32  4.50     4.00   4.20  positive   ['Positive']    ['Positive']   \n",
       "33  4.00     3.75   3.90   neutral    ['Neutral']     ['Neutral']   \n",
       "34  5.00     5.00   5.00  positive   ['Positive']    ['Positive']   \n",
       "35  3.50     3.50   3.65   neutral    ['Neutral']     ['Neutral']   \n",
       "36  3.50     4.00   3.92   neutral    ['Neutral']     ['Neutral']   \n",
       "37  3.50     3.50   3.65   neutral   ['Positive']    ['Positive']   \n",
       "38  4.75     5.00   4.95  positive    ['Neutral']     ['Neutral']   \n",
       "39  4.50     5.00   4.28  positive   ['Positive']    ['Positive']   \n",
       "40  4.00     5.00   4.20  positive    ['Neutral']     ['Neutral']   \n",
       "41  3.50     3.50   3.57   neutral   ['Positive']    ['Positive']   \n",
       "42  3.50     2.00   2.65   neutral   ['Positive']    ['Positive']   \n",
       "43  4.00     3.50   3.58   neutral   ['Positive']    ['Positive']   \n",
       "44  4.00     4.50   4.33  positive   ['Positive']    ['Positive']   \n",
       "45  3.75     4.00   3.88   neutral    ['Neutral']     ['Neutral']   \n",
       "46  4.50     4.50   4.67  positive   ['Positive']    ['Positive']   \n",
       "47  4.00     4.00   3.85   neutral    ['Neutral']     ['Neutral']   \n",
       "48  3.00     3.00   2.91   neutral   ['Positive']    ['Positive']   \n",
       "49  4.00     3.00   2.96   neutral    ['Neutral']     ['Neutral']   \n",
       "\n",
       "   taste_sentiment feel_sentiment  \n",
       "0     ['Negative']   ['Negative']  \n",
       "1     ['Positive']   ['Positive']  \n",
       "2      ['Neutral']    ['Neutral']  \n",
       "3      ['Neutral']    ['Neutral']  \n",
       "4     ['Positive']   ['Positive']  \n",
       "5      ['Neutral']    ['Neutral']  \n",
       "6     ['Positive']   ['Positive']  \n",
       "7      ['Neutral']    ['Neutral']  \n",
       "8     ['Positive']   ['Positive']  \n",
       "9     ['Positive']   ['Positive']  \n",
       "10     ['Neutral']    ['Neutral']  \n",
       "11     ['Neutral']    ['Neutral']  \n",
       "12    ['Positive']   ['Positive']  \n",
       "13    ['Positive']   ['Positive']  \n",
       "14    ['Positive']   ['Positive']  \n",
       "15    ['Positive']   ['Positive']  \n",
       "16    ['Positive']   ['Positive']  \n",
       "17     ['Neutral']    ['Neutral']  \n",
       "18     ['Neutral']    ['Neutral']  \n",
       "19    ['Negative']   ['Negative']  \n",
       "20    ['Positive']   ['Positive']  \n",
       "21     ['Neutral']    ['Neutral']  \n",
       "22    ['Positive']   ['Positive']  \n",
       "23     ['Neutral']    ['Neutral']  \n",
       "24     ['Neutral']    ['Neutral']  \n",
       "25     ['Neutral']    ['Neutral']  \n",
       "26     ['Neutral']    ['Neutral']  \n",
       "27     ['Neutral']    ['Neutral']  \n",
       "28    ['Positive']   ['Positive']  \n",
       "29    ['Negative']   ['Negative']  \n",
       "30     ['Neutral']    ['Neutral']  \n",
       "31     ['Neutral']    ['Neutral']  \n",
       "32    ['Positive']   ['Positive']  \n",
       "33     ['Neutral']    ['Neutral']  \n",
       "34    ['Positive']   ['Positive']  \n",
       "35     ['Neutral']    ['Neutral']  \n",
       "36     ['Neutral']    ['Neutral']  \n",
       "37    ['Positive']   ['Positive']  \n",
       "38     ['Neutral']    ['Neutral']  \n",
       "39    ['Positive']   ['Positive']  \n",
       "40     ['Neutral']    ['Neutral']  \n",
       "41    ['Positive']   ['Positive']  \n",
       "42    ['Positive']   ['Positive']  \n",
       "43    ['Positive']   ['Positive']  \n",
       "44    ['Positive']   ['Positive']  \n",
       "45     ['Neutral']    ['Neutral']  \n",
       "46    ['Positive']   ['Positive']  \n",
       "47     ['Neutral']    ['Neutral']  \n",
       "48    ['Positive']   ['Positive']  \n",
       "49     ['Neutral']    ['Neutral']  "
      ]
     },
     "execution_count": 20,
     "metadata": {},
     "output_type": "execute_result"
    }
   ],
   "source": [
    "# Show the first 10 rows\n",
    "df_result.head(50)"
   ]
  },
  {
   "cell_type": "code",
   "execution_count": 29,
   "metadata": {},
   "outputs": [],
   "source": [
    "for col in ['look_sentiment', 'smell_sentiment', 'taste_sentiment', 'feel_sentiment']:\n",
    "    df[col] = df[col].apply(lambda x: eval(x)[0] if isinstance(x, str) else x)\n",
    "    df[col] = df[col].str.lower()\n",
    "\n",
    "df['sentiment'] = df['sentiment'].str.lower()"
   ]
  },
  {
   "cell_type": "code",
   "execution_count": 30,
   "metadata": {},
   "outputs": [],
   "source": [
    "def aggregate_aspect_sentiment(row):\n",
    "    aspects = [row['look_sentiment'], row['smell_sentiment'], row['taste_sentiment'], row['feel_sentiment']]\n",
    "    pos = aspects.count('positive')\n",
    "    neg = aspects.count('negative')\n",
    "    if pos >= 2:\n",
    "        return 'positive'\n",
    "    elif neg >= 2:\n",
    "        return 'negative'\n",
    "    else:\n",
    "        return 'neutral'\n",
    "\n",
    "df['aggregated_aspect_sentiment'] = df.apply(aggregate_aspect_sentiment, axis=1)"
   ]
  },
  {
   "cell_type": "code",
   "execution_count": 31,
   "metadata": {},
   "outputs": [
    {
     "name": "stdout",
     "output_type": "stream",
     "text": [
      "Consistency between labeled sentiment and aspect-derived sentiment: 56.00%\n"
     ]
    }
   ],
   "source": [
    "df['match'] = df['sentiment'] == df['aggregated_aspect_sentiment']\n",
    "accuracy = df['match'].mean()\n",
    "print(f\"Consistency between labeled sentiment and aspect-derived sentiment: {accuracy:.2%}\")"
   ]
  }
 ],
 "metadata": {
  "kernelspec": {
   "display_name": "pytorch",
   "language": "python",
   "name": "python3"
  },
  "language_info": {
   "codemirror_mode": {
    "name": "ipython",
    "version": 3
   },
   "file_extension": ".py",
   "mimetype": "text/x-python",
   "name": "python",
   "nbconvert_exporter": "python",
   "pygments_lexer": "ipython3",
   "version": "3.12.7"
  }
 },
 "nbformat": 4,
 "nbformat_minor": 2
}
